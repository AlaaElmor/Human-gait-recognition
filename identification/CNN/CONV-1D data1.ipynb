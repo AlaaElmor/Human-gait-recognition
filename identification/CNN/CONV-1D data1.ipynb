{
 "cells": [
  {
   "cell_type": "code",
   "execution_count": 1,
   "id": "490615f9",
   "metadata": {},
   "outputs": [],
   "source": [
    "from numpy import mean\n",
    "from numpy import std\n",
    "from numpy import dstack\n",
    "from numpy import save, load\n",
    "from pandas import read_csv\n",
    "import tensorflow as tf \n",
    "import keras\n",
    "from sklearn.preprocessing import StandardScaler\n",
    "from keras.models import Sequential\n",
    "from keras.layers import Dense\n",
    "from keras.layers import Flatten\n",
    "from keras.layers import Dropout\n",
    "from keras import Model\n",
    "from keras.layers import LSTM, Conv1D, concatenate,GlobalMaxPooling1D,TimeDistributed, MaxPooling1D\n",
    "from tensorflow.keras.utils import to_categorical\n",
    "from matplotlib import pyplot\n",
    "from tensorflow.keras import regularizers\n"
   ]
  },
  {
   "cell_type": "code",
   "execution_count": 2,
   "id": "2b24d38f",
   "metadata": {},
   "outputs": [
    {
     "name": "stdout",
     "output_type": "stream",
     "text": [
      "(33104, 128, 6) (33104, 118) (3740, 128, 6) (3740, 118)\n"
     ]
    }
   ],
   "source": [
    "X_train = load('trainX.npy')\n",
    "X_test = load('testX.npy')\n",
    "y_train = load('trainy.npy')\n",
    "y_test = load('testy.npy')\n",
    "print(X_train.shape, y_train.shape, X_test.shape, y_test.shape)"
   ]
  },
  {
   "cell_type": "code",
   "execution_count": 3,
   "id": "55e3f033",
   "metadata": {},
   "outputs": [],
   "source": [
    "from sklearn.model_selection import train_test_split\n",
    "X_training, X_validation, y_training, y_validation = train_test_split(X_train, y_train, test_size=0.20, random_state=42)"
   ]
  },
  {
   "cell_type": "code",
   "execution_count": 4,
   "id": "5392b512",
   "metadata": {},
   "outputs": [],
   "source": [
    "n_timesteps, n_features, n_outputs = X_train.shape[1], X_train.shape[2], y_train.shape[1]"
   ]
  },
  {
   "cell_type": "code",
   "execution_count": 5,
   "id": "e0ef7473",
   "metadata": {},
   "outputs": [
    {
     "name": "stdout",
     "output_type": "stream",
     "text": [
      "Model: \"sequential\"\n",
      "_________________________________________________________________\n",
      " Layer (type)                Output Shape              Param #   \n",
      "=================================================================\n",
      " conv1d (Conv1D)             (None, 126, 64)           1216      \n",
      "                                                                 \n",
      " conv1d_1 (Conv1D)           (None, 124, 64)           12352     \n",
      "                                                                 \n",
      " dropout (Dropout)           (None, 124, 64)           0         \n",
      "                                                                 \n",
      " max_pooling1d (MaxPooling1D  (None, 62, 64)           0         \n",
      " )                                                               \n",
      "                                                                 \n",
      " flatten (Flatten)           (None, 3968)              0         \n",
      "                                                                 \n",
      " dense (Dense)               (None, 100)               396900    \n",
      "                                                                 \n",
      " dense_1 (Dense)             (None, 118)               11918     \n",
      "                                                                 \n",
      "=================================================================\n",
      "Total params: 422,386\n",
      "Trainable params: 422,386\n",
      "Non-trainable params: 0\n",
      "_________________________________________________________________\n"
     ]
    }
   ],
   "source": [
    "model = Sequential()\n",
    "model.add(Conv1D(filters=64, kernel_size=3, activation='relu', input_shape=(n_timesteps,n_features)))\n",
    "model.add(Conv1D(filters=64, kernel_size=3, activation='relu'))\n",
    "model.add(Dropout(0.5))\n",
    "model.add(MaxPooling1D(pool_size=2))\n",
    "model.add(Flatten())\n",
    "model.add(Dense(100, activation='relu'))\n",
    "model.add(Dense(n_outputs, activation='softmax'))\n",
    "model.compile(loss='categorical_crossentropy', optimizer='adam', metrics=['accuracy'])\n",
    "model.summary()\n",
    "callbacks = [keras.callbacks.EarlyStopping(patience=5, restore_best_weights=True)]"
   ]
  },
  {
   "cell_type": "code",
   "execution_count": 6,
   "id": "c0e2af0f",
   "metadata": {},
   "outputs": [
    {
     "name": "stdout",
     "output_type": "stream",
     "text": [
      "Epoch 1/200\n",
      "265/265 [==============================] - 16s 57ms/step - loss: 1.2157 - accuracy: 0.7290 - val_loss: 0.4772 - val_accuracy: 0.9032\n",
      "Epoch 2/200\n",
      "265/265 [==============================] - 16s 59ms/step - loss: 0.3132 - accuracy: 0.9200 - val_loss: 0.3227 - val_accuracy: 0.9334\n",
      "Epoch 3/200\n",
      "265/265 [==============================] - 16s 62ms/step - loss: 0.2041 - accuracy: 0.9465 - val_loss: 0.2642 - val_accuracy: 0.9406\n",
      "Epoch 4/200\n",
      "265/265 [==============================] - 17s 65ms/step - loss: 0.1407 - accuracy: 0.9611 - val_loss: 0.2267 - val_accuracy: 0.9462\n",
      "Epoch 5/200\n",
      "265/265 [==============================] - 18s 68ms/step - loss: 0.1069 - accuracy: 0.9695 - val_loss: 0.2114 - val_accuracy: 0.9505\n",
      "Epoch 6/200\n",
      "265/265 [==============================] - 18s 69ms/step - loss: 0.0857 - accuracy: 0.9747 - val_loss: 0.2189 - val_accuracy: 0.9420\n",
      "Epoch 7/200\n",
      "265/265 [==============================] - 15s 58ms/step - loss: 0.0655 - accuracy: 0.9796 - val_loss: 0.1981 - val_accuracy: 0.9502\n",
      "Epoch 8/200\n",
      "265/265 [==============================] - 16s 62ms/step - loss: 0.0549 - accuracy: 0.9826 - val_loss: 0.1933 - val_accuracy: 0.9521\n",
      "Epoch 9/200\n",
      "265/265 [==============================] - 17s 63ms/step - loss: 0.0482 - accuracy: 0.9843 - val_loss: 0.1914 - val_accuracy: 0.9529\n",
      "Epoch 10/200\n",
      "265/265 [==============================] - 17s 64ms/step - loss: 0.0472 - accuracy: 0.9845 - val_loss: 0.1964 - val_accuracy: 0.9541\n",
      "Epoch 11/200\n",
      "265/265 [==============================] - 17s 64ms/step - loss: 0.0450 - accuracy: 0.9874 - val_loss: 0.1914 - val_accuracy: 0.9557\n",
      "Epoch 12/200\n",
      "265/265 [==============================] - 16s 61ms/step - loss: 0.0430 - accuracy: 0.9859 - val_loss: 0.1974 - val_accuracy: 0.9559\n",
      "Epoch 13/200\n",
      "265/265 [==============================] - 16s 62ms/step - loss: 0.0310 - accuracy: 0.9911 - val_loss: 0.2087 - val_accuracy: 0.9548\n",
      "Epoch 14/200\n",
      "265/265 [==============================] - 17s 65ms/step - loss: 0.0307 - accuracy: 0.9893 - val_loss: 0.2139 - val_accuracy: 0.9545\n",
      "Epoch 15/200\n",
      "265/265 [==============================] - 17s 63ms/step - loss: 0.0311 - accuracy: 0.9899 - val_loss: 0.2168 - val_accuracy: 0.9541\n",
      "Epoch 16/200\n",
      "265/265 [==============================] - 17s 64ms/step - loss: 0.0283 - accuracy: 0.9909 - val_loss: 0.2187 - val_accuracy: 0.9539\n"
     ]
    }
   ],
   "source": [
    "history = model.fit(X_training, y_training, epochs=200, verbose=True, validation_data=(X_validation, y_validation), batch_size=100,callbacks=callbacks)"
   ]
  },
  {
   "cell_type": "code",
   "execution_count": 7,
   "id": "f8b825ed",
   "metadata": {},
   "outputs": [
    {
     "name": "stdout",
     "output_type": "stream",
     "text": [
      "207/207 [==============================] - 1s 4ms/step - loss: 0.1914 - accuracy: 0.9557\n",
      "Validation Accuracy:  0.9557\n",
      "117/117 [==============================] - 1s 4ms/step - loss: 0.8415 - accuracy: 0.8930\n",
      "Testing Accuracy: 0.8930\n"
     ]
    }
   ],
   "source": [
    "loss, accuracy = model.evaluate(X_validation, y_validation, verbose=True)\n",
    "print(\"Validation Accuracy:  {:.4f}\".format(accuracy))\n",
    "loss, accuracy = model.evaluate(X_test, y_test, verbose=True)\n",
    "print(\"Testing Accuracy: {:.4f}\".format(accuracy))"
   ]
  },
  {
   "cell_type": "code",
   "execution_count": null,
   "id": "15a42dda",
   "metadata": {},
   "outputs": [],
   "source": []
  }
 ],
 "metadata": {
  "kernelspec": {
   "display_name": "Python 3 (ipykernel)",
   "language": "python",
   "name": "python3"
  },
  "language_info": {
   "codemirror_mode": {
    "name": "ipython",
    "version": 3
   },
   "file_extension": ".py",
   "mimetype": "text/x-python",
   "name": "python",
   "nbconvert_exporter": "python",
   "pygments_lexer": "ipython3",
   "version": "3.7.11"
  }
 },
 "nbformat": 4,
 "nbformat_minor": 5
}
