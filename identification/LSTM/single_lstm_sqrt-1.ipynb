{
 "cells": [
  {
   "cell_type": "code",
   "execution_count": 1,
   "id": "6e76e10d",
   "metadata": {},
   "outputs": [],
   "source": [
    "from numpy import mean\n",
    "from numpy import std\n",
    "from numpy import dstack\n",
    "from numpy import save, load\n",
    "from pandas import read_csv\n",
    "from sklearn.preprocessing import StandardScaler\n",
    "from tensorflow.keras.models import Sequential\n",
    "from tensorflow.keras.layers import Dense\n",
    "from tensorflow.keras.layers import Flatten\n",
    "from tensorflow.keras.layers import Dropout\n",
    "from tensorflow.keras import Model\n",
    "from tensorflow.keras.layers import LSTM, Conv1D, concatenate,GlobalMaxPooling1D,TimeDistributed, MaxPooling1D\n",
    "from tensorflow.keras.utils import to_categorical\n",
    "from tensorflow.keras import regularizers\n",
    "import tensorflow as tf"
   ]
  },
  {
   "cell_type": "code",
   "execution_count": 2,
   "id": "ebf76845",
   "metadata": {},
   "outputs": [
    {
     "name": "stdout",
     "output_type": "stream",
     "text": [
      "(33104, 128, 6) (33104, 118) (3740, 128, 6) (3740, 118)\n"
     ]
    }
   ],
   "source": [
    "X_train = load('trainX1.npy')\n",
    "X_test = load('testX1.npy')\n",
    "y_train = load('trainY1.npy')\n",
    "y_test = load('testY1.npy')\n",
    "print(X_train.shape, y_train.shape, X_test.shape, y_test.shape)"
   ]
  },
  {
   "cell_type": "code",
   "execution_count": 3,
   "id": "ca7b0687",
   "metadata": {},
   "outputs": [],
   "source": [
    "from sklearn.model_selection import train_test_split\n",
    "X_training, X_validation, y_training, y_validation = train_test_split(X_train, y_train, test_size=0.20, random_state=42)"
   ]
  },
  {
   "cell_type": "code",
   "execution_count": 4,
   "id": "eb0daeec",
   "metadata": {},
   "outputs": [],
   "source": [
    "n_timesteps, n_features, n_outputs = X_train.shape[1], X_train.shape[2], y_train.shape[1]"
   ]
  },
  {
   "cell_type": "code",
   "execution_count": 5,
   "id": "d6aac5cf",
   "metadata": {},
   "outputs": [
    {
     "name": "stdout",
     "output_type": "stream",
     "text": [
      "Model: \"sequential\"\n",
      "_________________________________________________________________\n",
      "Layer (type)                 Output Shape              Param #   \n",
      "=================================================================\n",
      "lstm (LSTM)                  (None, 512)               1062912   \n",
      "_________________________________________________________________\n",
      "dense (Dense)                (None, 256)               131328    \n",
      "_________________________________________________________________\n",
      "dropout (Dropout)            (None, 256)               0         \n",
      "_________________________________________________________________\n",
      "dense_1 (Dense)              (None, 128)               32896     \n",
      "_________________________________________________________________\n",
      "dense_2 (Dense)              (None, 118)               15222     \n",
      "=================================================================\n",
      "Total params: 1,242,358\n",
      "Trainable params: 1,242,358\n",
      "Non-trainable params: 0\n",
      "_________________________________________________________________\n"
     ]
    }
   ],
   "source": [
    "model1 = Sequential()\n",
    "model1.add(LSTM(512, input_shape=(n_timesteps,n_features)))\n",
    "model1.add(Dense(256, activation='relu'))\n",
    "model1.add(Dropout(0.1))\n",
    "model1.add(Dense(128, activation='relu'))\n",
    "model1.add(Dense(n_outputs, activation='softmax'))\n",
    "model1.compile(loss='mse', optimizer='adam', metrics=['accuracy'])\n",
    "model1.summary()\n",
    "callbacks = [tf.keras.callbacks.EarlyStopping(patience=5, restore_best_weights=True)]"
   ]
  },
  {
   "cell_type": "code",
   "execution_count": 6,
   "id": "386a5eb6",
   "metadata": {},
   "outputs": [
    {
     "name": "stdout",
     "output_type": "stream",
     "text": [
      "Epoch 1/200\n",
      "207/207 [==============================] - 1161s 6s/step - loss: 0.0075 - accuracy: 0.1925 - val_loss: 0.0052 - val_accuracy: 0.5165\n",
      "Epoch 2/200\n",
      "207/207 [==============================] - 1136s 5s/step - loss: 0.0032 - accuracy: 0.7299 - val_loss: 0.0019 - val_accuracy: 0.8429\n",
      "Epoch 3/200\n",
      "207/207 [==============================] - 1136s 5s/step - loss: 0.0017 - accuracy: 0.8572 - val_loss: 0.0016 - val_accuracy: 0.8660\n",
      "Epoch 4/200\n",
      "207/207 [==============================] - 1141s 6s/step - loss: 0.0013 - accuracy: 0.8902 - val_loss: 0.0012 - val_accuracy: 0.9015\n",
      "Epoch 5/200\n",
      "207/207 [==============================] - 1140s 6s/step - loss: 0.0011 - accuracy: 0.9098 - val_loss: 0.0010 - val_accuracy: 0.9162\n",
      "Epoch 6/200\n",
      "207/207 [==============================] - 1152s 6s/step - loss: 9.2084e-04 - accuracy: 0.9234 - val_loss: 0.0010 - val_accuracy: 0.9156\n",
      "Epoch 7/200\n",
      "207/207 [==============================] - 1148s 6s/step - loss: 7.9690e-04 - accuracy: 0.9339 - val_loss: 7.9029e-04 - val_accuracy: 0.9341\n",
      "Epoch 8/200\n",
      "207/207 [==============================] - 1153s 6s/step - loss: 6.9270e-04 - accuracy: 0.9419 - val_loss: 7.0701e-04 - val_accuracy: 0.9390\n",
      "Epoch 9/200\n",
      "207/207 [==============================] - 1150s 6s/step - loss: 5.7393e-04 - accuracy: 0.9517 - val_loss: 7.2245e-04 - val_accuracy: 0.9406\n",
      "Epoch 10/200\n",
      "207/207 [==============================] - 1162s 6s/step - loss: 5.4885e-04 - accuracy: 0.9534 - val_loss: 8.1140e-04 - val_accuracy: 0.9319\n",
      "Epoch 11/200\n",
      "207/207 [==============================] - 1152s 6s/step - loss: 5.6814e-04 - accuracy: 0.9526 - val_loss: 6.3517e-04 - val_accuracy: 0.9464\n",
      "Epoch 12/200\n",
      "207/207 [==============================] - 1150s 6s/step - loss: 5.0109e-04 - accuracy: 0.9576 - val_loss: 6.5660e-04 - val_accuracy: 0.9453\n",
      "Epoch 13/200\n",
      "207/207 [==============================] - 1155s 6s/step - loss: 4.5503e-04 - accuracy: 0.9621 - val_loss: 8.1106e-04 - val_accuracy: 0.9357\n",
      "Epoch 14/200\n",
      "207/207 [==============================] - 1152s 6s/step - loss: 4.2978e-04 - accuracy: 0.9636 - val_loss: 5.5510e-04 - val_accuracy: 0.9529\n",
      "Epoch 15/200\n",
      "207/207 [==============================] - 1157s 6s/step - loss: 3.9165e-04 - accuracy: 0.9670 - val_loss: 5.8704e-04 - val_accuracy: 0.9526\n",
      "Epoch 16/200\n",
      "207/207 [==============================] - 1158s 6s/step - loss: 3.6427e-04 - accuracy: 0.9680 - val_loss: 5.5386e-04 - val_accuracy: 0.9521\n",
      "Epoch 17/200\n",
      "207/207 [==============================] - 1159s 6s/step - loss: 3.7440e-04 - accuracy: 0.9685 - val_loss: 6.2039e-04 - val_accuracy: 0.9490\n",
      "Epoch 18/200\n",
      "207/207 [==============================] - 1153s 6s/step - loss: 3.5444e-04 - accuracy: 0.9699 - val_loss: 5.8821e-04 - val_accuracy: 0.9514\n",
      "Epoch 19/200\n",
      "207/207 [==============================] - 1147s 6s/step - loss: 3.6537e-04 - accuracy: 0.9693 - val_loss: 5.7462e-04 - val_accuracy: 0.9532\n",
      "Epoch 20/200\n",
      "207/207 [==============================] - 1157s 6s/step - loss: 3.1362e-04 - accuracy: 0.9728 - val_loss: 4.7864e-04 - val_accuracy: 0.9607\n",
      "Epoch 21/200\n",
      "207/207 [==============================] - 1160s 6s/step - loss: 2.4492e-04 - accuracy: 0.9787 - val_loss: 5.0530e-04 - val_accuracy: 0.9594\n",
      "Epoch 22/200\n",
      "207/207 [==============================] - 1067s 5s/step - loss: 2.8357e-04 - accuracy: 0.9770 - val_loss: 4.7911e-04 - val_accuracy: 0.9592\n",
      "Epoch 23/200\n",
      "207/207 [==============================] - 921s 4s/step - loss: 3.1525e-04 - accuracy: 0.9737 - val_loss: 5.9042e-04 - val_accuracy: 0.9529\n",
      "Epoch 24/200\n",
      "207/207 [==============================] - 907s 4s/step - loss: 2.9352e-04 - accuracy: 0.9755 - val_loss: 5.8298e-04 - val_accuracy: 0.9518\n",
      "Epoch 25/200\n",
      "207/207 [==============================] - 900s 4s/step - loss: 2.6300e-04 - accuracy: 0.9783 - val_loss: 5.2477e-04 - val_accuracy: 0.9570\n"
     ]
    }
   ],
   "source": [
    "history = model1.fit(X_training, y_training, epochs=200, verbose=True, validation_data=(X_validation, y_validation), batch_size=128,callbacks=callbacks)"
   ]
  },
  {
   "cell_type": "code",
   "execution_count": 7,
   "id": "417ddd3d",
   "metadata": {},
   "outputs": [
    {
     "name": "stdout",
     "output_type": "stream",
     "text": [
      "Validation Accuracy:  0.9607\n",
      "Testing Accuracy: 0.8995\n"
     ]
    }
   ],
   "source": [
    "loss, accuracy = model1.evaluate(X_validation, y_validation, verbose=False)\n",
    "print(\"Validation Accuracy:  {:.4f}\".format(accuracy))\n",
    "loss, accuracy = model1.evaluate(X_test, y_test, verbose=False)\n",
    "print(\"Testing Accuracy: {:.4f}\".format(accuracy))"
   ]
  },
  {
   "cell_type": "code",
   "execution_count": null,
   "id": "b5aaa9a2",
   "metadata": {},
   "outputs": [],
   "source": []
  },
  {
   "cell_type": "code",
   "execution_count": null,
   "id": "1450e2fc",
   "metadata": {},
   "outputs": [],
   "source": []
  }
 ],
 "metadata": {
  "kernelspec": {
   "display_name": "Python 3 (ipykernel)",
   "language": "python",
   "name": "python3"
  },
  "language_info": {
   "codemirror_mode": {
    "name": "ipython",
    "version": 3
   },
   "file_extension": ".py",
   "mimetype": "text/x-python",
   "name": "python",
   "nbconvert_exporter": "python",
   "pygments_lexer": "ipython3",
   "version": "3.9.7"
  }
 },
 "nbformat": 4,
 "nbformat_minor": 5
}
