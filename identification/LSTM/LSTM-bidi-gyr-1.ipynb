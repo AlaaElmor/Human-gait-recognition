{
 "cells": [
  {
   "cell_type": "code",
   "execution_count": 7,
   "id": "490615f9",
   "metadata": {},
   "outputs": [],
   "source": [
    "from numpy import mean\n",
    "from numpy import std\n",
    "from numpy import dstack\n",
    "from numpy import save, load\n",
    "from pandas import read_csv\n",
    "from sklearn.preprocessing import StandardScaler\n",
    "from tensorflow.keras.models import Sequential\n",
    "from tensorflow.keras.layers import Dense\n",
    "from tensorflow.keras.layers import Flatten\n",
    "from tensorflow.keras.layers import Dropout\n",
    "from tensorflow.keras.layers import Bidirectional\n",
    "from tensorflow.keras import Model\n",
    "from tensorflow.keras.layers import LSTM, Conv1D, concatenate,GlobalMaxPooling1D,TimeDistributed, MaxPooling1D\n",
    "from tensorflow.keras.utils import to_categorical\n",
    "#from matplotlib import pyplot\n",
    "from tensorflow.keras import regularizers\n",
    "import tensorflow as tf\n",
    "#physical_devices = tf.config.list_physical_devices('GPU')\n",
    "#tf.config.experimental.set_memory_growth(physical_devices[0], True)"
   ]
  },
  {
   "cell_type": "code",
   "execution_count": 8,
   "id": "8cbb2692",
   "metadata": {},
   "outputs": [
    {
     "name": "stdout",
     "output_type": "stream",
     "text": [
      "(33104, 128, 3) (33104, 118) (3740, 128, 3) (3740, 118)\n"
     ]
    }
   ],
   "source": [
    "X_train = load('trainXgyr.npy')\n",
    "X_test = load('testXgyr.npy')\n",
    "y_train = load('trainygyr.npy')\n",
    "y_test = load('testygyr.npy')\n",
    "print(X_train.shape, y_train.shape, X_test.shape, y_test.shape)"
   ]
  },
  {
   "cell_type": "code",
   "execution_count": 9,
   "id": "55e3f033",
   "metadata": {},
   "outputs": [],
   "source": [
    "from sklearn.model_selection import train_test_split\n",
    "X_training, X_validation, y_training, y_validation = train_test_split(X_train, y_train, test_size=0.20, random_state=42)"
   ]
  },
  {
   "cell_type": "markdown",
   "id": "8f81ff02",
   "metadata": {},
   "source": [
    "# 1-LSTM"
   ]
  },
  {
   "cell_type": "code",
   "execution_count": 10,
   "id": "5392b512",
   "metadata": {},
   "outputs": [],
   "source": [
    "n_timesteps, n_features, n_outputs = X_train.shape[1], X_train.shape[2], y_train.shape[1]"
   ]
  },
  {
   "cell_type": "code",
   "execution_count": 11,
   "id": "e0ef7473",
   "metadata": {},
   "outputs": [
    {
     "name": "stdout",
     "output_type": "stream",
     "text": [
      "Model: \"sequential_1\"\n",
      "_________________________________________________________________\n",
      "Layer (type)                 Output Shape              Param #   \n",
      "=================================================================\n",
      "bidirectional_1 (Bidirection (None, 512)               532480    \n",
      "_________________________________________________________________\n",
      "dense_3 (Dense)              (None, 256)               131328    \n",
      "_________________________________________________________________\n",
      "dropout_1 (Dropout)          (None, 256)               0         \n",
      "_________________________________________________________________\n",
      "dense_4 (Dense)              (None, 128)               32896     \n",
      "_________________________________________________________________\n",
      "dense_5 (Dense)              (None, 118)               15222     \n",
      "=================================================================\n",
      "Total params: 711,926\n",
      "Trainable params: 711,926\n",
      "Non-trainable params: 0\n",
      "_________________________________________________________________\n"
     ]
    }
   ],
   "source": [
    "model1 = Sequential()\n",
    "#forward_layer =LSTM(500,input_shape=(n_timesteps,n_features),return_sequences=True)\n",
    "#backward_layer =LSTM(500,activation='relu',return_sequences=True,go_backwards=True)\n",
    "#model1.add(Bidirectional(LSTM(500, input_shape=(n_timesteps,n_features))))\n",
    "#model1.add(Bidirectional(LSTM(500, input_shape=(n_timesteps,n_features))))\n",
    "model1.add(Bidirectional(LSTM(256, return_sequences=False), input_shape=(n_timesteps,n_features)))\n",
    "#model1.add(Bidirectional(LSTM(500)))\n",
    "model1.add(Dense(256, activation='relu'))\n",
    "model1.add(Dropout(0.1))\n",
    "model1.add(Dense(128, activation='relu'))\n",
    "#model1.add(Dropout(0.1))\n",
    "#model1.add(Dense(100, activation='relu'))\n",
    "model1.add(Dense(n_outputs, activation='softmax'))\n",
    "model1.compile(loss='categorical_crossentropy', optimizer='adam', metrics=['accuracy'])\n",
    "model1.summary()\n",
    "callbacks = [tf.keras.callbacks.EarlyStopping(patience=5, restore_best_weights=True)]"
   ]
  },
  {
   "cell_type": "code",
   "execution_count": 12,
   "id": "c0e2af0f",
   "metadata": {},
   "outputs": [
    {
     "name": "stdout",
     "output_type": "stream",
     "text": [
      "Epoch 1/200\n",
      "207/207 [==============================] - 345s 1s/step - loss: 2.3397 - accuracy: 0.4627 - val_loss: 1.0648 - val_accuracy: 0.7349\n",
      "Epoch 2/200\n",
      "207/207 [==============================] - 333s 2s/step - loss: 0.8208 - accuracy: 0.7955 - val_loss: 0.6413 - val_accuracy: 0.8345\n",
      "Epoch 3/200\n",
      "207/207 [==============================] - 333s 2s/step - loss: 0.5290 - accuracy: 0.8641 - val_loss: 0.4698 - val_accuracy: 0.8836\n",
      "Epoch 4/200\n",
      "207/207 [==============================] - 357s 2s/step - loss: 0.3922 - accuracy: 0.8954 - val_loss: 0.3786 - val_accuracy: 0.9023\n",
      "Epoch 5/200\n",
      "207/207 [==============================] - 367s 2s/step - loss: 0.3231 - accuracy: 0.9126 - val_loss: 0.4076 - val_accuracy: 0.8914\n",
      "Epoch 6/200\n",
      "207/207 [==============================] - 333s 2s/step - loss: 0.2620 - accuracy: 0.9287 - val_loss: 0.3255 - val_accuracy: 0.9198\n",
      "Epoch 7/200\n",
      "207/207 [==============================] - 333s 2s/step - loss: 0.2108 - accuracy: 0.9415 - val_loss: 0.3022 - val_accuracy: 0.9249\n",
      "Epoch 8/200\n",
      "207/207 [==============================] - 331s 2s/step - loss: 0.1843 - accuracy: 0.9472 - val_loss: 0.2959 - val_accuracy: 0.9261\n",
      "Epoch 9/200\n",
      "207/207 [==============================] - 335s 2s/step - loss: 0.1544 - accuracy: 0.9548 - val_loss: 0.2679 - val_accuracy: 0.9335\n",
      "Epoch 10/200\n",
      "207/207 [==============================] - 332s 2s/step - loss: 0.1331 - accuracy: 0.9627 - val_loss: 0.2947 - val_accuracy: 0.9254\n",
      "Epoch 11/200\n",
      "207/207 [==============================] - 335s 2s/step - loss: 0.1232 - accuracy: 0.9634 - val_loss: 0.2745 - val_accuracy: 0.9337\n",
      "Epoch 12/200\n",
      "207/207 [==============================] - 336s 2s/step - loss: 0.0994 - accuracy: 0.9717 - val_loss: 0.2929 - val_accuracy: 0.9311\n",
      "Epoch 13/200\n",
      "207/207 [==============================] - 330s 2s/step - loss: 0.0912 - accuracy: 0.9729 - val_loss: 0.2644 - val_accuracy: 0.9378\n",
      "Epoch 14/200\n",
      "207/207 [==============================] - 341s 2s/step - loss: 0.0755 - accuracy: 0.9769 - val_loss: 0.2793 - val_accuracy: 0.9367\n",
      "Epoch 15/200\n",
      "207/207 [==============================] - 332s 2s/step - loss: 0.0750 - accuracy: 0.9774 - val_loss: 0.2673 - val_accuracy: 0.9408\n",
      "Epoch 16/200\n",
      "207/207 [==============================] - 334s 2s/step - loss: 0.0681 - accuracy: 0.9796 - val_loss: 0.2890 - val_accuracy: 0.9360\n",
      "Epoch 17/200\n",
      "207/207 [==============================] - 334s 2s/step - loss: 0.0640 - accuracy: 0.9805 - val_loss: 0.2923 - val_accuracy: 0.9367\n",
      "Epoch 18/200\n",
      "207/207 [==============================] - 343s 2s/step - loss: 0.0693 - accuracy: 0.9789 - val_loss: 0.2844 - val_accuracy: 0.9394\n"
     ]
    }
   ],
   "source": [
    "history = model1.fit(X_training, y_training, epochs=200, verbose=True, validation_data=(X_validation, y_validation), batch_size=128,callbacks=callbacks)"
   ]
  },
  {
   "cell_type": "code",
   "execution_count": 15,
   "id": "f8b825ed",
   "metadata": {},
   "outputs": [
    {
     "name": "stdout",
     "output_type": "stream",
     "text": [
      "Validation Accuracy:  0.9378\n",
      "Testing Accuracy: 0.8778\n"
     ]
    }
   ],
   "source": [
    "loss, accuracy = model1.evaluate(X_validation, y_validation, verbose=False)\n",
    "print(\"Validation Accuracy:  {:.4f}\".format(accuracy))\n",
    "loss, accuracy = model1.evaluate(X_test, y_test, verbose=False)\n",
    "print(\"Testing Accuracy: {:.4f}\".format(accuracy))"
   ]
  },
  {
   "cell_type": "code",
   "execution_count": null,
   "id": "1f0da50f",
   "metadata": {},
   "outputs": [],
   "source": []
  },
  {
   "cell_type": "code",
   "execution_count": null,
   "id": "c26783a2",
   "metadata": {},
   "outputs": [],
   "source": []
  }
 ],
 "metadata": {
  "kernelspec": {
   "display_name": "Python 3 (ipykernel)",
   "language": "python",
   "name": "python3"
  },
  "language_info": {
   "codemirror_mode": {
    "name": "ipython",
    "version": 3
   },
   "file_extension": ".py",
   "mimetype": "text/x-python",
   "name": "python",
   "nbconvert_exporter": "python",
   "pygments_lexer": "ipython3",
   "version": "3.9.7"
  }
 },
 "nbformat": 4,
 "nbformat_minor": 5
}
