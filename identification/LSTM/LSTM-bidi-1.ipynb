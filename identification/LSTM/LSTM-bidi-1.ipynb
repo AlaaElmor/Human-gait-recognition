{
 "cells": [
  {
   "cell_type": "code",
   "execution_count": 11,
   "id": "490615f9",
   "metadata": {},
   "outputs": [],
   "source": [
    "from numpy import mean\n",
    "from numpy import std\n",
    "from numpy import dstack\n",
    "from numpy import save, load\n",
    "from pandas import read_csv\n",
    "from sklearn.preprocessing import StandardScaler\n",
    "from tensorflow.keras.models import Sequential\n",
    "from tensorflow.keras.layers import Dense\n",
    "from tensorflow.keras.layers import Flatten\n",
    "from tensorflow.keras.layers import Dropout\n",
    "from tensorflow.keras.layers import Bidirectional\n",
    "from tensorflow.keras import Model\n",
    "from tensorflow.keras.layers import LSTM, Conv1D, concatenate,GlobalMaxPooling1D,TimeDistributed, MaxPooling1D\n",
    "from tensorflow.keras.utils import to_categorical\n",
    "#from matplotlib import pyplot\n",
    "from tensorflow.keras import regularizers\n",
    "import tensorflow as tf\n",
    "#physical_devices = tf.config.list_physical_devices('GPU')\n",
    "#tf.config.experimental.set_memory_growth(physical_devices[0], True)"
   ]
  },
  {
   "cell_type": "code",
   "execution_count": 12,
   "id": "8cbb2692",
   "metadata": {},
   "outputs": [
    {
     "name": "stdout",
     "output_type": "stream",
     "text": [
      "(33104, 128, 6) (33104, 118) (3740, 128, 6) (3740, 118)\n"
     ]
    }
   ],
   "source": [
    "X_train = load('trainX1.npy')\n",
    "X_test = load('testX1.npy')\n",
    "y_train = load('trainY1.npy')\n",
    "y_test = load('testY1.npy')\n",
    "print(X_train.shape, y_train.shape, X_test.shape, y_test.shape)"
   ]
  },
  {
   "cell_type": "code",
   "execution_count": 13,
   "id": "55e3f033",
   "metadata": {},
   "outputs": [],
   "source": [
    "from sklearn.model_selection import train_test_split\n",
    "X_training, X_validation, y_training, y_validation = train_test_split(X_train, y_train, test_size=0.20, random_state=42)"
   ]
  },
  {
   "cell_type": "markdown",
   "id": "8f81ff02",
   "metadata": {},
   "source": [
    "# 1-LSTM"
   ]
  },
  {
   "cell_type": "code",
   "execution_count": 14,
   "id": "5392b512",
   "metadata": {},
   "outputs": [],
   "source": [
    "n_timesteps, n_features, n_outputs = X_train.shape[1], X_train.shape[2], y_train.shape[1]"
   ]
  },
  {
   "cell_type": "code",
   "execution_count": 15,
   "id": "e0ef7473",
   "metadata": {},
   "outputs": [
    {
     "name": "stdout",
     "output_type": "stream",
     "text": [
      "Model: \"sequential_2\"\n",
      "_________________________________________________________________\n",
      "Layer (type)                 Output Shape              Param #   \n",
      "=================================================================\n",
      "bidirectional_2 (Bidirection (None, 530)               576640    \n",
      "_________________________________________________________________\n",
      "dense_6 (Dense)              (None, 256)               135936    \n",
      "_________________________________________________________________\n",
      "dropout_2 (Dropout)          (None, 256)               0         \n",
      "_________________________________________________________________\n",
      "dense_7 (Dense)              (None, 128)               32896     \n",
      "_________________________________________________________________\n",
      "dense_8 (Dense)              (None, 118)               15222     \n",
      "=================================================================\n",
      "Total params: 760,694\n",
      "Trainable params: 760,694\n",
      "Non-trainable params: 0\n",
      "_________________________________________________________________\n"
     ]
    }
   ],
   "source": [
    "model1 = Sequential()\n",
    "#forward_layer =LSTM(500,input_shape=(n_timesteps,n_features),return_sequences=True)\n",
    "#backward_layer =LSTM(500,activation='relu',return_sequences=True,go_backwards=True)\n",
    "#model1.add(Bidirectional(LSTM(500, input_shape=(n_timesteps,n_features))))\n",
    "#model1.add(Bidirectional(LSTM(500, input_shape=(n_timesteps,n_features))))\n",
    "model1.add(Bidirectional(LSTM(265, return_sequences=False), input_shape=(n_timesteps,n_features)))\n",
    "#model1.add(Bidirectional(LSTM(180)))\n",
    "model1.add(Dense(256, activation='relu'))\n",
    "model1.add(Dropout(0.1))\n",
    "model1.add(Dense(128, activation='relu'))\n",
    "#model1.add(Dropout(0.1))\n",
    "#model1.add(Dense(100, activation='relu'))\n",
    "model1.add(Dense(n_outputs, activation='softmax'))\n",
    "model1.compile(loss='categorical_crossentropy', optimizer='adam', metrics=['accuracy'])\n",
    "model1.summary()\n",
    "callbacks = [tf.keras.callbacks.EarlyStopping(patience=5, restore_best_weights=True)]\n"
   ]
  },
  {
   "cell_type": "code",
   "execution_count": 17,
   "id": "c0e2af0f",
   "metadata": {},
   "outputs": [
    {
     "name": "stdout",
     "output_type": "stream",
     "text": [
      "Epoch 1/200\n",
      "207/207 [==============================] - 468s 2s/step - loss: 0.2195 - accuracy: 0.9395 - val_loss: 0.2183 - val_accuracy: 0.9467\n",
      "Epoch 2/200\n",
      "207/207 [==============================] - 454s 2s/step - loss: 0.1641 - accuracy: 0.9525 - val_loss: 0.1885 - val_accuracy: 0.9500\n",
      "Epoch 3/200\n",
      "207/207 [==============================] - 507s 2s/step - loss: 0.1222 - accuracy: 0.9639 - val_loss: 0.1777 - val_accuracy: 0.9541\n",
      "Epoch 4/200\n",
      "207/207 [==============================] - 499s 2s/step - loss: 0.1085 - accuracy: 0.9681 - val_loss: 0.1611 - val_accuracy: 0.9573\n",
      "Epoch 5/200\n",
      "207/207 [==============================] - 472s 2s/step - loss: 0.0917 - accuracy: 0.9727 - val_loss: 0.1603 - val_accuracy: 0.9591\n",
      "Epoch 6/200\n",
      "207/207 [==============================] - 470s 2s/step - loss: 0.0646 - accuracy: 0.9811 - val_loss: 0.1366 - val_accuracy: 0.9636\n",
      "Epoch 7/200\n",
      "207/207 [==============================] - 465s 2s/step - loss: 0.0680 - accuracy: 0.9790 - val_loss: 0.1684 - val_accuracy: 0.9565\n",
      "Epoch 8/200\n",
      "207/207 [==============================] - 477s 2s/step - loss: 0.0720 - accuracy: 0.9781 - val_loss: 0.1476 - val_accuracy: 0.9625\n",
      "Epoch 9/200\n",
      "207/207 [==============================] - 458s 2s/step - loss: 0.0650 - accuracy: 0.9805 - val_loss: 0.1354 - val_accuracy: 0.9657\n",
      "Epoch 10/200\n",
      "207/207 [==============================] - 456s 2s/step - loss: 0.0484 - accuracy: 0.9853 - val_loss: 0.1378 - val_accuracy: 0.9672\n",
      "Epoch 11/200\n",
      "207/207 [==============================] - 463s 2s/step - loss: 0.0389 - accuracy: 0.9880 - val_loss: 0.1308 - val_accuracy: 0.9683\n",
      "Epoch 12/200\n",
      "207/207 [==============================] - 464s 2s/step - loss: 0.0494 - accuracy: 0.9847 - val_loss: 0.1586 - val_accuracy: 0.9601\n",
      "Epoch 13/200\n",
      "207/207 [==============================] - 470s 2s/step - loss: 0.0437 - accuracy: 0.9866 - val_loss: 0.1380 - val_accuracy: 0.9671\n",
      "Epoch 14/200\n",
      "207/207 [==============================] - 457s 2s/step - loss: 0.0315 - accuracy: 0.9905 - val_loss: 0.1401 - val_accuracy: 0.9665\n",
      "Epoch 15/200\n",
      "207/207 [==============================] - 457s 2s/step - loss: 0.0275 - accuracy: 0.9913 - val_loss: 0.1332 - val_accuracy: 0.9719\n",
      "Epoch 16/200\n",
      "207/207 [==============================] - 468s 2s/step - loss: 0.0330 - accuracy: 0.9895 - val_loss: 0.1525 - val_accuracy: 0.9672\n"
     ]
    }
   ],
   "source": [
    "history = model1.fit(X_training, y_training, epochs=200, verbose=True, validation_data=(X_validation, y_validation), batch_size=128, callbacks=callbacks)"
   ]
  },
  {
   "cell_type": "code",
   "execution_count": 18,
   "id": "f8b825ed",
   "metadata": {},
   "outputs": [
    {
     "name": "stdout",
     "output_type": "stream",
     "text": [
      "Validation Accuracy:  0.9683\n",
      "Testing Accuracy: 0.9110\n"
     ]
    }
   ],
   "source": [
    "loss, accuracy = model1.evaluate(X_validation, y_validation, verbose=False)\n",
    "print(\"Validation Accuracy:  {:.4f}\".format(accuracy))\n",
    "loss, accuracy = model1.evaluate(X_test, y_test, verbose=False)\n",
    "print(\"Testing Accuracy: {:.4f}\".format(accuracy))"
   ]
  },
  {
   "cell_type": "code",
   "execution_count": null,
   "id": "1f0da50f",
   "metadata": {},
   "outputs": [],
   "source": []
  },
  {
   "cell_type": "code",
   "execution_count": null,
   "id": "f7d768dd",
   "metadata": {},
   "outputs": [],
   "source": []
  }
 ],
 "metadata": {
  "kernelspec": {
   "display_name": "Python 3 (ipykernel)",
   "language": "python",
   "name": "python3"
  },
  "language_info": {
   "codemirror_mode": {
    "name": "ipython",
    "version": 3
   },
   "file_extension": ".py",
   "mimetype": "text/x-python",
   "name": "python",
   "nbconvert_exporter": "python",
   "pygments_lexer": "ipython3",
   "version": "3.9.7"
  }
 },
 "nbformat": 4,
 "nbformat_minor": 5
}
