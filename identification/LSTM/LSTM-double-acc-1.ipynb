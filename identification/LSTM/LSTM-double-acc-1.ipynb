{
  "nbformat": 4,
  "nbformat_minor": 0,
  "metadata": {
    "colab": {
      "name": "Untitled5.ipynb",
      "provenance": []
    },
    "kernelspec": {
      "name": "python3",
      "display_name": "Python 3"
    },
    "language_info": {
      "name": "python"
    },
    "accelerator": "GPU"
  },
  "cells": [
    {
      "cell_type": "code",
      "execution_count": 110,
      "metadata": {
        "colab": {
          "base_uri": "https://localhost:8080/"
        },
        "id": "RDZ6vXdUtrsp",
        "outputId": "6bc74d24-2dc1-4b95-9775-36595ca635ea"
      },
      "outputs": [
        {
          "output_type": "stream",
          "name": "stdout",
          "text": [
            "Mounted at /content/drive\n",
            "Mounted at /content/gdrive\n",
            "(33104, 128, 3) (33104, 118) (3740, 128, 3) (3740, 118)\n"
          ]
        }
      ],
      "source": [
        "from google.colab import drive\n",
        "drive.mount('/content/drive')\n",
        "\n",
        "from google.colab import drive\n",
        "\n",
        "drive.mount('/content/gdrive')\n",
        "root_path = 'gdrive/My Drive/'  #change dir to your project folder\n",
        "\n",
        "import numpy as np\n",
        "X_train = np.load('gdrive/My Drive/dataset1/3acc/unnormalized/trainX.npy')\n",
        "y_train = np.load('gdrive/My Drive/dataset1/3acc/unnormalized/trainy.npy')\n",
        "X_test = np.load('gdrive/My Drive/dataset1/3acc/unnormalized/testX.npy')\n",
        "y_test = np.load('gdrive/My Drive/dataset1/3acc/unnormalized/testy.npy')\n",
        "print(X_train.shape, y_train.shape, X_test.shape, y_test.shape)"
      ]
    },
    {
      "cell_type": "code",
      "source": [
        "from numpy import mean\n",
        "from numpy import std\n",
        "from numpy import dstack\n",
        "from numpy import save, load\n",
        "from pandas import read_csv\n",
        "from tensorflow import keras\n",
        "from sklearn.preprocessing import StandardScaler\n",
        "from tensorflow.keras.models import Sequential\n",
        "from tensorflow.keras.layers import Dense , Input ,concatenate\n",
        "from tensorflow.keras.layers import Flatten\n",
        "from tensorflow.keras.layers import Dropout\n",
        "from tensorflow.keras import Model\n",
        "from tensorflow.keras.callbacks import EarlyStopping, ModelCheckpoint, ReduceLROnPlateau\n",
        "from tensorflow.keras.layers import LSTM, Conv1D, concatenate,GlobalMaxPooling1D,TimeDistributed, MaxPooling1D\n",
        "from tensorflow.keras.utils import to_categorical\n",
        "from tensorflow.keras.layers import concatenate\n",
        "from tensorflow.keras import regularizers"
      ],
      "metadata": {
        "id": "-Qkx_EZ2uxRJ"
      },
      "execution_count": 111,
      "outputs": []
    },
    {
      "cell_type": "code",
      "source": [
        "from sklearn.model_selection import train_test_split\n",
        "X_training, X_validation, y_training, y_validation = train_test_split(X_train, y_train, test_size=0.20, random_state=42)\n",
        "n_timesteps, n_features, n_outputs = X_train.shape[1], X_train.shape[2], y_train.shape[1]"
      ],
      "metadata": {
        "id": "QRMig4JduxUD"
      },
      "execution_count": 112,
      "outputs": []
    },
    {
      "cell_type": "code",
      "source": [
        "model1 = Sequential()\n",
        "model1.add(LSTM(512, input_shape=(n_timesteps,n_features),return_sequences=True))\n",
        "model1.add(LSTM(256))\n",
        "model1.add(Dropout(0.2))\n",
        "model1.add(Dense(128, activation='relu'))\n",
        "model1.add(Dense(n_outputs, activation='softmax'))\n",
        "model1.compile(loss='mse', optimizer='adam', metrics=['accuracy'])\n",
        "model1.summary()\n",
        "callbacks = [keras.callbacks.EarlyStopping(patience=5, restore_best_weights=True)]"
      ],
      "metadata": {
        "colab": {
          "base_uri": "https://localhost:8080/"
        },
        "id": "Yt-4cl-yuxXF",
        "outputId": "20a0b530-dfa6-44f0-d898-7b93b8fa78c4"
      },
      "execution_count": 113,
      "outputs": [
        {
          "output_type": "stream",
          "name": "stdout",
          "text": [
            "Model: \"sequential_28\"\n",
            "_________________________________________________________________\n",
            " Layer (type)                Output Shape              Param #   \n",
            "=================================================================\n",
            " lstm_37 (LSTM)              (None, 128, 512)          1056768   \n",
            "                                                                 \n",
            " lstm_38 (LSTM)              (None, 256)               787456    \n",
            "                                                                 \n",
            " dropout_36 (Dropout)        (None, 256)               0         \n",
            "                                                                 \n",
            " dense_54 (Dense)            (None, 128)               32896     \n",
            "                                                                 \n",
            " dense_55 (Dense)            (None, 118)               15222     \n",
            "                                                                 \n",
            "=================================================================\n",
            "Total params: 1,892,342\n",
            "Trainable params: 1,892,342\n",
            "Non-trainable params: 0\n",
            "_________________________________________________________________\n"
          ]
        }
      ]
    },
    {
      "cell_type": "code",
      "source": [
        "history = model1.fit(X_training, y_training, epochs=200, verbose=True, validation_data=(X_validation, y_validation), batch_size=128,callbacks=callbacks)"
      ],
      "metadata": {
        "colab": {
          "base_uri": "https://localhost:8080/"
        },
        "id": "leAK4cae3mSx",
        "outputId": "672c763f-4963-4635-f167-8455c991b17d"
      },
      "execution_count": 114,
      "outputs": [
        {
          "output_type": "stream",
          "name": "stdout",
          "text": [
            "Epoch 1/200\n",
            "207/207 [==============================] - 19s 79ms/step - loss: 0.0066 - accuracy: 0.3290 - val_loss: 0.0041 - val_accuracy: 0.6463\n",
            "Epoch 2/200\n",
            "207/207 [==============================] - 16s 77ms/step - loss: 0.0028 - accuracy: 0.7684 - val_loss: 0.0020 - val_accuracy: 0.8345\n",
            "Epoch 3/200\n",
            "207/207 [==============================] - 16s 78ms/step - loss: 0.0016 - accuracy: 0.8659 - val_loss: 0.0014 - val_accuracy: 0.8875\n",
            "Epoch 4/200\n",
            "207/207 [==============================] - 16s 79ms/step - loss: 0.0012 - accuracy: 0.9000 - val_loss: 0.0014 - val_accuracy: 0.8881\n",
            "Epoch 5/200\n",
            "207/207 [==============================] - 16s 78ms/step - loss: 0.0011 - accuracy: 0.9137 - val_loss: 8.8413e-04 - val_accuracy: 0.9271\n",
            "Epoch 6/200\n",
            "207/207 [==============================] - 16s 78ms/step - loss: 8.3300e-04 - accuracy: 0.9322 - val_loss: 8.0209e-04 - val_accuracy: 0.9316\n",
            "Epoch 7/200\n",
            "207/207 [==============================] - 17s 81ms/step - loss: 7.4228e-04 - accuracy: 0.9380 - val_loss: 7.1806e-04 - val_accuracy: 0.9388\n",
            "Epoch 8/200\n",
            "207/207 [==============================] - 16s 78ms/step - loss: 6.2234e-04 - accuracy: 0.9489 - val_loss: 6.1319e-04 - val_accuracy: 0.9476\n",
            "Epoch 9/200\n",
            "207/207 [==============================] - 16s 78ms/step - loss: 5.8484e-04 - accuracy: 0.9534 - val_loss: 8.0500e-04 - val_accuracy: 0.9358\n",
            "Epoch 10/200\n",
            "207/207 [==============================] - 16s 78ms/step - loss: 5.5745e-04 - accuracy: 0.9553 - val_loss: 6.8159e-04 - val_accuracy: 0.9440\n",
            "Epoch 11/200\n",
            "207/207 [==============================] - 16s 78ms/step - loss: 4.7339e-04 - accuracy: 0.9624 - val_loss: 5.8969e-04 - val_accuracy: 0.9527\n",
            "Epoch 12/200\n",
            "207/207 [==============================] - 16s 78ms/step - loss: 4.6540e-04 - accuracy: 0.9627 - val_loss: 5.0233e-04 - val_accuracy: 0.9594\n",
            "Epoch 13/200\n",
            "207/207 [==============================] - 16s 77ms/step - loss: 3.9865e-04 - accuracy: 0.9682 - val_loss: 5.1709e-04 - val_accuracy: 0.9570\n",
            "Epoch 14/200\n",
            "207/207 [==============================] - 16s 78ms/step - loss: 3.9069e-04 - accuracy: 0.9690 - val_loss: 4.5396e-04 - val_accuracy: 0.9625\n",
            "Epoch 15/200\n",
            "207/207 [==============================] - 16s 77ms/step - loss: 3.8041e-04 - accuracy: 0.9688 - val_loss: 4.9849e-04 - val_accuracy: 0.9574\n",
            "Epoch 16/200\n",
            "207/207 [==============================] - 16s 78ms/step - loss: 3.6225e-04 - accuracy: 0.9703 - val_loss: 4.4869e-04 - val_accuracy: 0.9630\n",
            "Epoch 17/200\n",
            "207/207 [==============================] - 16s 78ms/step - loss: 3.3322e-04 - accuracy: 0.9728 - val_loss: 4.3549e-04 - val_accuracy: 0.9647\n",
            "Epoch 18/200\n",
            "207/207 [==============================] - 16s 78ms/step - loss: 3.1001e-04 - accuracy: 0.9755 - val_loss: 4.8779e-04 - val_accuracy: 0.9603\n",
            "Epoch 19/200\n",
            "207/207 [==============================] - 16s 77ms/step - loss: 3.3189e-04 - accuracy: 0.9732 - val_loss: 4.4087e-04 - val_accuracy: 0.9644\n",
            "Epoch 20/200\n",
            "207/207 [==============================] - 16s 78ms/step - loss: 3.1334e-04 - accuracy: 0.9745 - val_loss: 4.0881e-04 - val_accuracy: 0.9665\n",
            "Epoch 21/200\n",
            "207/207 [==============================] - 16s 78ms/step - loss: 2.7240e-04 - accuracy: 0.9783 - val_loss: 4.1220e-04 - val_accuracy: 0.9654\n",
            "Epoch 22/200\n",
            "207/207 [==============================] - 16s 78ms/step - loss: 2.8184e-04 - accuracy: 0.9772 - val_loss: 4.1357e-04 - val_accuracy: 0.9660\n",
            "Epoch 23/200\n",
            "207/207 [==============================] - 16s 77ms/step - loss: 2.3319e-04 - accuracy: 0.9812 - val_loss: 3.3834e-04 - val_accuracy: 0.9718\n",
            "Epoch 24/200\n",
            "207/207 [==============================] - 16s 77ms/step - loss: 2.1064e-04 - accuracy: 0.9826 - val_loss: 3.7427e-04 - val_accuracy: 0.9695\n",
            "Epoch 25/200\n",
            "207/207 [==============================] - 16s 78ms/step - loss: 2.2003e-04 - accuracy: 0.9821 - val_loss: 3.7409e-04 - val_accuracy: 0.9690\n",
            "Epoch 26/200\n",
            "207/207 [==============================] - 16s 77ms/step - loss: 2.3866e-04 - accuracy: 0.9805 - val_loss: 3.8650e-04 - val_accuracy: 0.9702\n",
            "Epoch 27/200\n",
            "207/207 [==============================] - 16s 77ms/step - loss: 2.0517e-04 - accuracy: 0.9835 - val_loss: 4.0336e-04 - val_accuracy: 0.9678\n",
            "Epoch 28/200\n",
            "207/207 [==============================] - 16s 78ms/step - loss: 2.4809e-04 - accuracy: 0.9804 - val_loss: 3.7895e-04 - val_accuracy: 0.9696\n"
          ]
        }
      ]
    },
    {
      "cell_type": "code",
      "source": [
        "loss, accuracy = model1.evaluate(X_validation, y_validation, verbose=False)\n",
        "print(\"Validation Accuracy:  {:.4f}\".format(accuracy))\n",
        "loss, accuracy = model1.evaluate(X_test, y_test, verbose=False)\n",
        "print(\"Testing Accuracy: {:.4f}\".format(accuracy))"
      ],
      "metadata": {
        "colab": {
          "base_uri": "https://localhost:8080/"
        },
        "id": "BrRZlOJMuxdZ",
        "outputId": "fc3848cb-6d4a-4372-804b-76895df808b5"
      },
      "execution_count": 115,
      "outputs": [
        {
          "output_type": "stream",
          "name": "stdout",
          "text": [
            "Validation Accuracy:  0.9718\n",
            "Testing Accuracy: 0.9110\n"
          ]
        }
      ]
    },
    {
      "cell_type": "code",
      "source": [
        "from matplotlib import pyplot as plt\n",
        "plt.plot(history.history[\"loss\"], label=\"Training Loss\")\n",
        "plt.plot(history.history[\"val_loss\"], label=\"Validation Loss\")\n",
        "plt.legend()\n",
        "plt.show()\n",
        "from matplotlib import pyplot as plt\n",
        "plt.plot(history.history[\"accuracy\"], label=\"Training accuracy\")\n",
        "plt.plot(history.history[\"val_accuracy\"], label=\"Validation accuracy\")\n",
        "plt.legend()\n",
        "plt.show()"
      ],
      "metadata": {
        "colab": {
          "base_uri": "https://localhost:8080/",
          "height": 513
        },
        "id": "JkKl9CyQvFku",
        "outputId": "83fc4d37-b9d2-483d-9067-314ff9d85d6c"
      },
      "execution_count": 116,
      "outputs": [
        {
          "output_type": "display_data",
          "data": {
            "image/png": "[encoded data removed]",
            "text/plain": [
              "<Figure size 432x288 with 1 Axes>"
            ]
          },
          "metadata": {
            "needs_background": "light"
          }
        },
        {
          "output_type": "display_data",
          "data": {
            "image/png": "[encoded data removed]",
            "text/plain": [
              "<Figure size 432x288 with 1 Axes>"
            ]
          },
          "metadata": {
            "needs_background": "light"
          }
        }
      ]
    }
  ]
}