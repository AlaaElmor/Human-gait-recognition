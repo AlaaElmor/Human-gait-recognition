{
  "nbformat": 4,
  "nbformat_minor": 0,
  "metadata": {
    "colab": {
      "name": "Untitled5.ipynb",
      "provenance": []
    },
    "kernelspec": {
      "name": "python3",
      "display_name": "Python 3"
    },
    "language_info": {
      "name": "python"
    },
    "accelerator": "GPU"
  },
  "cells": [
    {
      "cell_type": "code",
      "execution_count": 89,
      "metadata": {
        "colab": {
          "base_uri": "https://localhost:8080/"
        },
        "id": "RDZ6vXdUtrsp",
        "outputId": "91e373cc-1144-47a5-d94c-58aa6dca1cb3"
      },
      "outputs": [
        {
          "output_type": "stream",
          "name": "stdout",
          "text": [
            "Mounted at /content/drive\n",
            "Mounted at /content/gdrive\n",
            "(33104, 128, 6) (33104, 118) (3740, 128, 6) (3740, 118)\n"
          ]
        }
      ],
      "source": [
        "from google.colab import drive\n",
        "drive.mount('/content/drive')\n",
        "\n",
        "from google.colab import drive\n",
        "\n",
        "drive.mount('/content/gdrive')\n",
        "root_path = 'gdrive/My Drive/'  #change dir to your project folder\n",
        "\n",
        "import numpy as np\n",
        "X_train = np.load('gdrive/My Drive/dataset1/acc+gyr/trainX.npy')\n",
        "y_train = np.load('gdrive/My Drive/dataset1/acc+gyr/trainy.npy')\n",
        "X_test = np.load('gdrive/My Drive/dataset1/acc+gyr/testX.npy')\n",
        "y_test = np.load('gdrive/My Drive/dataset1/acc+gyr/testy.npy')\n",
        "print(X_train.shape, y_train.shape, X_test.shape, y_test.shape)"
      ]
    },
    {
      "cell_type": "code",
      "source": [
        "from numpy import mean\n",
        "from numpy import std\n",
        "from numpy import dstack\n",
        "from numpy import save, load\n",
        "from pandas import read_csv\n",
        "from tensorflow import keras\n",
        "from sklearn.preprocessing import StandardScaler\n",
        "from tensorflow.keras.models import Sequential\n",
        "from tensorflow.keras.layers import Dense , Input ,concatenate\n",
        "from tensorflow.keras.layers import Flatten\n",
        "from tensorflow.keras.layers import Dropout\n",
        "from tensorflow.keras import Model\n",
        "from tensorflow.keras.callbacks import EarlyStopping, ModelCheckpoint, ReduceLROnPlateau\n",
        "from tensorflow.keras.layers import LSTM, Conv1D, concatenate,GlobalMaxPooling1D,TimeDistributed, MaxPooling1D\n",
        "from tensorflow.keras.utils import to_categorical\n",
        "from tensorflow.keras.layers import concatenate\n",
        "from tensorflow.keras import regularizers"
      ],
      "metadata": {
        "id": "-Qkx_EZ2uxRJ"
      },
      "execution_count": 90,
      "outputs": []
    },
    {
      "cell_type": "code",
      "source": [
        "from sklearn.model_selection import train_test_split\n",
        "X_training, X_validation, y_training, y_validation = train_test_split(X_train, y_train, test_size=0.20, random_state=42)\n",
        "n_timesteps, n_features, n_outputs = X_train.shape[1], X_train.shape[2], y_train.shape[1]"
      ],
      "metadata": {
        "id": "QRMig4JduxUD"
      },
      "execution_count": 91,
      "outputs": []
    },
    {
      "cell_type": "code",
      "source": [
        "model1 = Sequential()\n",
        "model1.add(LSTM(512, input_shape=(n_timesteps,n_features),return_sequences=True))\n",
        "model1.add(LSTM(256))\n",
        "model1.add(Dropout(0.2))\n",
        "model1.add(Dense(128, activation='relu'))\n",
        "model1.add(Dense(n_outputs, activation='softmax'))\n",
        "model1.compile(loss='categorical_crossentropy', optimizer='adam', metrics=['accuracy'])\n",
        "model1.summary()\n",
        "callbacks = [keras.callbacks.EarlyStopping(patience=5, restore_best_weights=True)]"
      ],
      "metadata": {
        "colab": {
          "base_uri": "https://localhost:8080/"
        },
        "id": "Yt-4cl-yuxXF",
        "outputId": "5178821b-85e6-4470-efa7-a28caaf33f63"
      },
      "execution_count": 92,
      "outputs": [
        {
          "output_type": "stream",
          "name": "stdout",
          "text": [
            "Model: \"sequential_25\"\n",
            "_________________________________________________________________\n",
            " Layer (type)                Output Shape              Param #   \n",
            "=================================================================\n",
            " lstm_31 (LSTM)              (None, 128, 512)          1062912   \n",
            "                                                                 \n",
            " lstm_32 (LSTM)              (None, 256)               787456    \n",
            "                                                                 \n",
            " dropout_33 (Dropout)        (None, 256)               0         \n",
            "                                                                 \n",
            " dense_48 (Dense)            (None, 128)               32896     \n",
            "                                                                 \n",
            " dense_49 (Dense)            (None, 118)               15222     \n",
            "                                                                 \n",
            "=================================================================\n",
            "Total params: 1,898,486\n",
            "Trainable params: 1,898,486\n",
            "Non-trainable params: 0\n",
            "_________________________________________________________________\n"
          ]
        }
      ]
    },
    {
      "cell_type": "code",
      "source": [
        "history = model1.fit(X_training, y_training, epochs=200, verbose=True, validation_data=(X_validation, y_validation), batch_size=128,callbacks=callbacks)"
      ],
      "metadata": {
        "colab": {
          "base_uri": "https://localhost:8080/"
        },
        "id": "leAK4cae3mSx",
        "outputId": "75a74f3b-3224-46ba-9ca9-bb9e82093ac1"
      },
      "execution_count": 93,
      "outputs": [
        {
          "output_type": "stream",
          "name": "stdout",
          "text": [
            "Epoch 1/200\n",
            "207/207 [==============================] - 19s 78ms/step - loss: 2.2339 - accuracy: 0.4378 - val_loss: 1.1486 - val_accuracy: 0.6851\n",
            "Epoch 2/200\n",
            "207/207 [==============================] - 16s 77ms/step - loss: 0.8276 - accuracy: 0.7766 - val_loss: 0.6465 - val_accuracy: 0.8290\n",
            "Epoch 3/200\n",
            "207/207 [==============================] - 16s 78ms/step - loss: 0.5678 - accuracy: 0.8450 - val_loss: 0.4470 - val_accuracy: 0.8775\n",
            "Epoch 4/200\n",
            "207/207 [==============================] - 16s 79ms/step - loss: 0.3974 - accuracy: 0.8920 - val_loss: 0.3433 - val_accuracy: 0.9064\n",
            "Epoch 5/200\n",
            "207/207 [==============================] - 16s 80ms/step - loss: 0.3382 - accuracy: 0.9062 - val_loss: 0.3433 - val_accuracy: 0.9083\n",
            "Epoch 6/200\n",
            "207/207 [==============================] - 16s 78ms/step - loss: 0.2979 - accuracy: 0.9150 - val_loss: 0.2874 - val_accuracy: 0.9236\n",
            "Epoch 7/200\n",
            "207/207 [==============================] - 16s 78ms/step - loss: 0.2492 - accuracy: 0.9306 - val_loss: 0.2554 - val_accuracy: 0.9299\n",
            "Epoch 8/200\n",
            "207/207 [==============================] - 16s 78ms/step - loss: 0.2100 - accuracy: 0.9416 - val_loss: 0.2150 - val_accuracy: 0.9428\n",
            "Epoch 9/200\n",
            "207/207 [==============================] - 16s 78ms/step - loss: 0.1757 - accuracy: 0.9502 - val_loss: 0.2181 - val_accuracy: 0.9367\n",
            "Epoch 10/200\n",
            "207/207 [==============================] - 16s 78ms/step - loss: 0.1754 - accuracy: 0.9484 - val_loss: 0.1986 - val_accuracy: 0.9485\n",
            "Epoch 11/200\n",
            "207/207 [==============================] - 16s 78ms/step - loss: 0.1474 - accuracy: 0.9571 - val_loss: 0.1985 - val_accuracy: 0.9456\n",
            "Epoch 12/200\n",
            "207/207 [==============================] - 16s 78ms/step - loss: 0.1262 - accuracy: 0.9626 - val_loss: 0.1779 - val_accuracy: 0.9527\n",
            "Epoch 13/200\n",
            "207/207 [==============================] - 16s 78ms/step - loss: 0.1303 - accuracy: 0.9628 - val_loss: 0.1879 - val_accuracy: 0.9497\n",
            "Epoch 14/200\n",
            "207/207 [==============================] - 16s 78ms/step - loss: 0.1275 - accuracy: 0.9625 - val_loss: 0.1797 - val_accuracy: 0.9505\n",
            "Epoch 15/200\n",
            "207/207 [==============================] - 16s 78ms/step - loss: 0.1092 - accuracy: 0.9679 - val_loss: 0.1629 - val_accuracy: 0.9547\n",
            "Epoch 16/200\n",
            "207/207 [==============================] - 16s 78ms/step - loss: 0.1061 - accuracy: 0.9681 - val_loss: 0.1669 - val_accuracy: 0.9559\n",
            "Epoch 17/200\n",
            "207/207 [==============================] - 16s 78ms/step - loss: 0.1040 - accuracy: 0.9689 - val_loss: 0.1647 - val_accuracy: 0.9533\n",
            "Epoch 18/200\n",
            "207/207 [==============================] - 16s 78ms/step - loss: 0.0839 - accuracy: 0.9752 - val_loss: 0.1259 - val_accuracy: 0.9659\n",
            "Epoch 19/200\n",
            "207/207 [==============================] - 16s 79ms/step - loss: 0.0717 - accuracy: 0.9781 - val_loss: 0.1374 - val_accuracy: 0.9624\n",
            "Epoch 20/200\n",
            "207/207 [==============================] - 17s 81ms/step - loss: 0.0748 - accuracy: 0.9776 - val_loss: 0.1473 - val_accuracy: 0.9618\n",
            "Epoch 21/200\n",
            "207/207 [==============================] - 17s 80ms/step - loss: 0.0713 - accuracy: 0.9776 - val_loss: 0.1778 - val_accuracy: 0.9536\n",
            "Epoch 22/200\n",
            "207/207 [==============================] - 16s 78ms/step - loss: 0.0823 - accuracy: 0.9746 - val_loss: 0.1516 - val_accuracy: 0.9601\n",
            "Epoch 23/200\n",
            "207/207 [==============================] - 16s 78ms/step - loss: 0.0822 - accuracy: 0.9742 - val_loss: 0.1409 - val_accuracy: 0.9634\n"
          ]
        }
      ]
    },
    {
      "cell_type": "code",
      "source": [
        "loss, accuracy = model1.evaluate(X_validation, y_validation, verbose=False)\n",
        "print(\"Validation Accuracy:  {:.4f}\".format(accuracy))\n",
        "loss, accuracy = model1.evaluate(X_test, y_test, verbose=False)\n",
        "print(\"Testing Accuracy: {:.4f}\".format(accuracy))"
      ],
      "metadata": {
        "colab": {
          "base_uri": "https://localhost:8080/"
        },
        "id": "BrRZlOJMuxdZ",
        "outputId": "867c9023-34ce-4b24-cb76-84dc43331fb8"
      },
      "execution_count": 96,
      "outputs": [
        {
          "output_type": "stream",
          "name": "stdout",
          "text": [
            "Validation Accuracy:  0.9659\n",
            "Testing Accuracy: 0.9048\n"
          ]
        }
      ]
    },
    {
      "cell_type": "code",
      "source": [
        "from matplotlib import pyplot as plt\n",
        "plt.plot(history.history[\"loss\"], label=\"Training Loss\")\n",
        "plt.plot(history.history[\"val_loss\"], label=\"Validation Loss\")\n",
        "plt.legend()\n",
        "plt.show()\n",
        "from matplotlib import pyplot as plt\n",
        "plt.plot(history.history[\"accuracy\"], label=\"Training accuracy\")\n",
        "plt.plot(history.history[\"val_accuracy\"], label=\"Validation accuracy\")\n",
        "plt.legend()\n",
        "plt.show()"
      ],
      "metadata": {
        "colab": {
          "base_uri": "https://localhost:8080/",
          "height": 515
        },
        "id": "JkKl9CyQvFku",
        "outputId": "d5a88d22-c015-4a79-dfbc-f100be74ee65"
      },
      "execution_count": 97,
      "outputs": [
        {
          "output_type": "display_data",
          "data": {
            "image/png": "[encoded data removed]",
            "text/plain": [
              "<Figure size 432x288 with 1 Axes>"
            ]
          },
          "metadata": {
            "needs_background": "light"
          }
        },
        {
          "output_type": "display_data",
          "data": {
            "image/png": "[encoded data removed]",
            "text/plain": [
              "<Figure size 432x288 with 1 Axes>"
            ]
          },
          "metadata": {
            "needs_background": "light"
          }
        }
      ]
    }
  ]
}