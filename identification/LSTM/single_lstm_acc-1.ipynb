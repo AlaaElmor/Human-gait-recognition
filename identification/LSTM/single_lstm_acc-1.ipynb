{
 "cells": [
  {
   "cell_type": "code",
   "execution_count": 9,
   "id": "6e76e10d",
   "metadata": {},
   "outputs": [],
   "source": [
    "from numpy import mean\n",
    "from numpy import std\n",
    "from numpy import dstack\n",
    "from numpy import save, load\n",
    "from pandas import read_csv\n",
    "from sklearn.preprocessing import StandardScaler\n",
    "from tensorflow.keras.models import Sequential\n",
    "from tensorflow.keras.layers import Dense\n",
    "from tensorflow.keras.layers import Flatten\n",
    "from tensorflow.keras.layers import Dropout\n",
    "from tensorflow.keras import Model\n",
    "from tensorflow.keras.layers import LSTM, Conv1D, concatenate,GlobalMaxPooling1D,TimeDistributed, MaxPooling1D\n",
    "from tensorflow.keras.utils import to_categorical\n",
    "from tensorflow.keras import regularizers\n",
    "import tensorflow as tf"
   ]
  },
  {
   "cell_type": "code",
   "execution_count": 10,
   "id": "ebf76845",
   "metadata": {},
   "outputs": [
    {
     "name": "stdout",
     "output_type": "stream",
     "text": [
      "(33104, 128, 3) (33104, 118) (3740, 128, 3) (3740, 118)\n"
     ]
    }
   ],
   "source": [
    "X_train = load('trainXacc.npy')\n",
    "X_test = load('testXacc.npy')\n",
    "y_train = load('trainYacc.npy')\n",
    "y_test = load('testYacc.npy')\n",
    "print(X_train.shape, y_train.shape, X_test.shape, y_test.shape)"
   ]
  },
  {
   "cell_type": "code",
   "execution_count": 11,
   "id": "ca7b0687",
   "metadata": {},
   "outputs": [],
   "source": [
    "from sklearn.model_selection import train_test_split\n",
    "X_training, X_validation, y_training, y_validation = train_test_split(X_train, y_train, test_size=0.20, random_state=42)"
   ]
  },
  {
   "cell_type": "code",
   "execution_count": 12,
   "id": "eb0daeec",
   "metadata": {},
   "outputs": [],
   "source": [
    "n_timesteps, n_features, n_outputs = X_train.shape[1], X_train.shape[2], y_train.shape[1]"
   ]
  },
  {
   "cell_type": "code",
   "execution_count": 13,
   "id": "d6aac5cf",
   "metadata": {},
   "outputs": [
    {
     "name": "stdout",
     "output_type": "stream",
     "text": [
      "Model: \"sequential_1\"\n",
      "_________________________________________________________________\n",
      "Layer (type)                 Output Shape              Param #   \n",
      "=================================================================\n",
      "lstm_1 (LSTM)                (None, 512)               1056768   \n",
      "_________________________________________________________________\n",
      "dense_3 (Dense)              (None, 256)               131328    \n",
      "_________________________________________________________________\n",
      "dropout_1 (Dropout)          (None, 256)               0         \n",
      "_________________________________________________________________\n",
      "dense_4 (Dense)              (None, 128)               32896     \n",
      "_________________________________________________________________\n",
      "dense_5 (Dense)              (None, 118)               15222     \n",
      "=================================================================\n",
      "Total params: 1,236,214\n",
      "Trainable params: 1,236,214\n",
      "Non-trainable params: 0\n",
      "_________________________________________________________________\n"
     ]
    }
   ],
   "source": [
    "model1 = Sequential()\n",
    "model1.add(LSTM(512, input_shape=(n_timesteps,n_features)))\n",
    "model1.add(Dense(256, activation='relu'))\n",
    "model1.add(Dropout(0.1))\n",
    "model1.add(Dense(128, activation='relu'))\n",
    "model1.add(Dense(n_outputs, activation='softmax'))\n",
    "model1.compile(loss='categorical_crossentropy', optimizer='adam', metrics=['accuracy'])\n",
    "model1.summary()\n",
    "callbacks = [tf.keras.callbacks.EarlyStopping(patience=5, restore_best_weights=True)]"
   ]
  },
  {
   "cell_type": "code",
   "execution_count": 14,
   "id": "386a5eb6",
   "metadata": {},
   "outputs": [
    {
     "name": "stdout",
     "output_type": "stream",
     "text": [
      "Epoch 1/200\n",
      "207/207 [==============================] - 429s 2s/step - loss: 2.4044 - accuracy: 0.3868 - val_loss: 1.1702 - val_accuracy: 0.6726\n",
      "Epoch 2/200\n",
      "207/207 [==============================] - 420s 2s/step - loss: 0.8306 - accuracy: 0.7722 - val_loss: 0.6342 - val_accuracy: 0.8343\n",
      "Epoch 3/200\n",
      "207/207 [==============================] - 421s 2s/step - loss: 0.5505 - accuracy: 0.8515 - val_loss: 0.4623 - val_accuracy: 0.8774\n",
      "Epoch 4/200\n",
      "207/207 [==============================] - 425s 2s/step - loss: 0.4000 - accuracy: 0.8911 - val_loss: 0.3918 - val_accuracy: 0.9006\n",
      "Epoch 5/200\n",
      "207/207 [==============================] - 422s 2s/step - loss: 0.3249 - accuracy: 0.9093 - val_loss: 0.3424 - val_accuracy: 0.9080\n",
      "Epoch 6/200\n",
      "207/207 [==============================] - 355s 2s/step - loss: 0.2846 - accuracy: 0.9206 - val_loss: 0.3085 - val_accuracy: 0.9210\n",
      "Epoch 7/200\n",
      "207/207 [==============================] - 335s 2s/step - loss: 0.2321 - accuracy: 0.9338 - val_loss: 0.2633 - val_accuracy: 0.9332\n",
      "Epoch 8/200\n",
      "207/207 [==============================] - 468s 2s/step - loss: 0.1945 - accuracy: 0.9446 - val_loss: 0.2473 - val_accuracy: 0.9384\n",
      "Epoch 9/200\n",
      "207/207 [==============================] - 461s 2s/step - loss: 0.1991 - accuracy: 0.9417 - val_loss: 0.2450 - val_accuracy: 0.9364\n",
      "Epoch 10/200\n",
      "207/207 [==============================] - 479s 2s/step - loss: 0.1719 - accuracy: 0.9498 - val_loss: 0.2174 - val_accuracy: 0.9458\n",
      "Epoch 11/200\n",
      "207/207 [==============================] - 460s 2s/step - loss: 0.1532 - accuracy: 0.9554 - val_loss: 0.2180 - val_accuracy: 0.9470\n",
      "Epoch 12/200\n",
      "207/207 [==============================] - 460s 2s/step - loss: 0.1164 - accuracy: 0.9644 - val_loss: 0.2078 - val_accuracy: 0.9532\n",
      "Epoch 13/200\n",
      "207/207 [==============================] - 469s 2s/step - loss: 0.1094 - accuracy: 0.9674 - val_loss: 0.1946 - val_accuracy: 0.9523\n",
      "Epoch 14/200\n",
      "207/207 [==============================] - 464s 2s/step - loss: 0.0815 - accuracy: 0.9755 - val_loss: 0.1917 - val_accuracy: 0.9564\n",
      "Epoch 15/200\n",
      "207/207 [==============================] - 473s 2s/step - loss: 0.0990 - accuracy: 0.9704 - val_loss: 0.2200 - val_accuracy: 0.9474\n",
      "Epoch 16/200\n",
      "207/207 [==============================] - 460s 2s/step - loss: 0.0762 - accuracy: 0.9764 - val_loss: 0.2299 - val_accuracy: 0.9485\n",
      "Epoch 17/200\n",
      "207/207 [==============================] - 463s 2s/step - loss: 0.0855 - accuracy: 0.9745 - val_loss: 0.2328 - val_accuracy: 0.9470\n",
      "Epoch 18/200\n",
      "207/207 [==============================] - 461s 2s/step - loss: 0.0858 - accuracy: 0.9741 - val_loss: 0.1954 - val_accuracy: 0.9565\n",
      "Epoch 19/200\n",
      "207/207 [==============================] - 459s 2s/step - loss: 0.0764 - accuracy: 0.9768 - val_loss: 0.2172 - val_accuracy: 0.9493\n"
     ]
    }
   ],
   "source": [
    "history = model1.fit(X_training, y_training, epochs=200, verbose=True, validation_data=(X_validation, y_validation), batch_size=128,callbacks=callbacks)"
   ]
  },
  {
   "cell_type": "code",
   "execution_count": 15,
   "id": "417ddd3d",
   "metadata": {},
   "outputs": [
    {
     "name": "stdout",
     "output_type": "stream",
     "text": [
      "Validation Accuracy:  0.9564\n",
      "Testing Accuracy: 0.8917\n"
     ]
    }
   ],
   "source": [
    "loss, accuracy = model1.evaluate(X_validation, y_validation, verbose=False)\n",
    "print(\"Validation Accuracy:  {:.4f}\".format(accuracy))\n",
    "loss, accuracy = model1.evaluate(X_test, y_test, verbose=False)\n",
    "print(\"Testing Accuracy: {:.4f}\".format(accuracy))"
   ]
  },
  {
   "cell_type": "code",
   "execution_count": null,
   "id": "b5aaa9a2",
   "metadata": {},
   "outputs": [],
   "source": []
  }
 ],
 "metadata": {
  "kernelspec": {
   "display_name": "Python 3 (ipykernel)",
   "language": "python",
   "name": "python3"
  },
  "language_info": {
   "codemirror_mode": {
    "name": "ipython",
    "version": 3
   },
   "file_extension": ".py",
   "mimetype": "text/x-python",
   "name": "python",
   "nbconvert_exporter": "python",
   "pygments_lexer": "ipython3",
   "version": "3.9.7"
  }
 },
 "nbformat": 4,
 "nbformat_minor": 5
}
