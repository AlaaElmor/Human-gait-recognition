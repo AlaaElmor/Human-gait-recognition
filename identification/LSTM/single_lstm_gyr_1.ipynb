{
 "cells": [
  {
   "cell_type": "code",
   "execution_count": 1,
   "id": "6e76e10d",
   "metadata": {},
   "outputs": [],
   "source": [
    "from numpy import mean\n",
    "from numpy import std\n",
    "from numpy import dstack\n",
    "from numpy import save, load\n",
    "from pandas import read_csv\n",
    "from sklearn.preprocessing import StandardScaler\n",
    "from tensorflow.keras.models import Sequential\n",
    "from tensorflow.keras.layers import Dense\n",
    "from tensorflow.keras.layers import Flatten\n",
    "from tensorflow.keras.layers import Dropout\n",
    "from tensorflow.keras import Model\n",
    "from tensorflow.keras.layers import LSTM, Conv1D, concatenate,GlobalMaxPooling1D,TimeDistributed, MaxPooling1D\n",
    "from tensorflow.keras.utils import to_categorical\n",
    "from tensorflow.keras import regularizers\n",
    "import tensorflow as tf"
   ]
  },
  {
   "cell_type": "code",
   "execution_count": 2,
   "id": "ebf76845",
   "metadata": {},
   "outputs": [
    {
     "name": "stdout",
     "output_type": "stream",
     "text": [
      "(33104, 128, 3) (33104, 118) (3740, 128, 3) (3740, 118)\n"
     ]
    }
   ],
   "source": [
    "X_train = load('trainXgyr.npy')\n",
    "X_test = load('testXgyr.npy')\n",
    "y_train = load('trainygyr.npy')\n",
    "y_test = load('testygyr.npy')\n",
    "print(X_train.shape, y_train.shape, X_test.shape, y_test.shape)"
   ]
  },
  {
   "cell_type": "code",
   "execution_count": 3,
   "id": "ca7b0687",
   "metadata": {},
   "outputs": [],
   "source": [
    "from sklearn.model_selection import train_test_split\n",
    "X_training, X_validation, y_training, y_validation = train_test_split(X_train, y_train, test_size=0.20, random_state=42)"
   ]
  },
  {
   "cell_type": "code",
   "execution_count": 4,
   "id": "eb0daeec",
   "metadata": {},
   "outputs": [],
   "source": [
    "n_timesteps, n_features, n_outputs = X_train.shape[1], X_train.shape[2], y_train.shape[1]"
   ]
  },
  {
   "cell_type": "code",
   "execution_count": 5,
   "id": "d6aac5cf",
   "metadata": {},
   "outputs": [
    {
     "name": "stdout",
     "output_type": "stream",
     "text": [
      "Model: \"sequential\"\n",
      "_________________________________________________________________\n",
      "Layer (type)                 Output Shape              Param #   \n",
      "=================================================================\n",
      "lstm (LSTM)                  (None, 512)               1056768   \n",
      "_________________________________________________________________\n",
      "dense (Dense)                (None, 256)               131328    \n",
      "_________________________________________________________________\n",
      "dropout (Dropout)            (None, 256)               0         \n",
      "_________________________________________________________________\n",
      "dense_1 (Dense)              (None, 128)               32896     \n",
      "_________________________________________________________________\n",
      "dense_2 (Dense)              (None, 118)               15222     \n",
      "=================================================================\n",
      "Total params: 1,236,214\n",
      "Trainable params: 1,236,214\n",
      "Non-trainable params: 0\n",
      "_________________________________________________________________\n"
     ]
    }
   ],
   "source": [
    "model1 = Sequential()\n",
    "model1.add(LSTM(512, input_shape=(n_timesteps,n_features)))\n",
    "model1.add(Dense(256, activation='relu'))\n",
    "model1.add(Dropout(0.1))\n",
    "model1.add(Dense(128, activation='relu'))\n",
    "model1.add(Dense(n_outputs, activation='softmax'))\n",
    "model1.compile(loss='categorical_crossentropy', optimizer='adam', metrics=['accuracy'])\n",
    "model1.summary()\n",
    "callbacks = [tf.keras.callbacks.EarlyStopping(patience=5, restore_best_weights=True)]"
   ]
  },
  {
   "cell_type": "code",
   "execution_count": 6,
   "id": "386a5eb6",
   "metadata": {},
   "outputs": [
    {
     "name": "stdout",
     "output_type": "stream",
     "text": [
      "Epoch 1/200\n",
      "207/207 [==============================] - 1235s 6s/step - loss: 2.7189 - accuracy: 0.3549 - val_loss: 1.3795 - val_accuracy: 0.6547\n",
      "Epoch 2/200\n",
      "207/207 [==============================] - 1223s 6s/step - loss: 1.0363 - accuracy: 0.7439 - val_loss: 0.8024 - val_accuracy: 0.7990\n",
      "Epoch 3/200\n",
      "207/207 [==============================] - 1224s 6s/step - loss: 0.6706 - accuracy: 0.8311 - val_loss: 0.6513 - val_accuracy: 0.8393\n",
      "Epoch 4/200\n",
      "207/207 [==============================] - 1231s 6s/step - loss: 0.5026 - accuracy: 0.8703 - val_loss: 0.5057 - val_accuracy: 0.8778\n",
      "Epoch 5/200\n",
      "207/207 [==============================] - 1235s 6s/step - loss: 0.3999 - accuracy: 0.8956 - val_loss: 0.5333 - val_accuracy: 0.8697\n",
      "Epoch 6/200\n",
      "207/207 [==============================] - 1238s 6s/step - loss: 0.3467 - accuracy: 0.9089 - val_loss: 0.4465 - val_accuracy: 0.8891\n",
      "Epoch 7/200\n",
      "207/207 [==============================] - 1238s 6s/step - loss: 0.2779 - accuracy: 0.9250 - val_loss: 0.3901 - val_accuracy: 0.9085\n",
      "Epoch 8/200\n",
      "207/207 [==============================] - 1238s 6s/step - loss: 0.2356 - accuracy: 0.9366 - val_loss: 0.3762 - val_accuracy: 0.9127\n",
      "Epoch 9/200\n",
      "207/207 [==============================] - 1251s 6s/step - loss: 0.2118 - accuracy: 0.9427 - val_loss: 0.3537 - val_accuracy: 0.9177\n",
      "Epoch 10/200\n",
      "207/207 [==============================] - 1239s 6s/step - loss: 0.1896 - accuracy: 0.9479 - val_loss: 0.4256 - val_accuracy: 0.9038\n",
      "Epoch 11/200\n",
      "207/207 [==============================] - 1248s 6s/step - loss: 0.1614 - accuracy: 0.9540 - val_loss: 0.3533 - val_accuracy: 0.9201\n",
      "Epoch 12/200\n",
      "207/207 [==============================] - 1243s 6s/step - loss: 0.1397 - accuracy: 0.9617 - val_loss: 0.3265 - val_accuracy: 0.9290\n",
      "Epoch 13/200\n",
      "207/207 [==============================] - 1244s 6s/step - loss: 0.1175 - accuracy: 0.9674 - val_loss: 0.3451 - val_accuracy: 0.9251\n",
      "Epoch 14/200\n",
      "207/207 [==============================] - 1233s 6s/step - loss: 0.1159 - accuracy: 0.9669 - val_loss: 0.3423 - val_accuracy: 0.9313\n",
      "Epoch 15/200\n",
      "207/207 [==============================] - 1246s 6s/step - loss: 0.1108 - accuracy: 0.9681 - val_loss: 0.3212 - val_accuracy: 0.9326\n",
      "Epoch 16/200\n",
      "207/207 [==============================] - 1244s 6s/step - loss: 0.0892 - accuracy: 0.9745 - val_loss: 0.3620 - val_accuracy: 0.9258\n",
      "Epoch 17/200\n",
      "207/207 [==============================] - 1239s 6s/step - loss: 0.0943 - accuracy: 0.9721 - val_loss: 0.3316 - val_accuracy: 0.9335\n",
      "Epoch 18/200\n",
      "207/207 [==============================] - 1247s 6s/step - loss: 0.0599 - accuracy: 0.9826 - val_loss: 0.3290 - val_accuracy: 0.9405\n",
      "Epoch 19/200\n",
      "207/207 [==============================] - 1239s 6s/step - loss: 0.0617 - accuracy: 0.9818 - val_loss: 0.3377 - val_accuracy: 0.9369\n",
      "Epoch 20/200\n",
      "207/207 [==============================] - 1240s 6s/step - loss: 0.0678 - accuracy: 0.9807 - val_loss: 0.3674 - val_accuracy: 0.9317\n"
     ]
    }
   ],
   "source": [
    "history = model1.fit(X_training, y_training, epochs=200, verbose=True, validation_data=(X_validation, y_validation), batch_size=128,callbacks=callbacks)"
   ]
  },
  {
   "cell_type": "code",
   "execution_count": 7,
   "id": "417ddd3d",
   "metadata": {},
   "outputs": [
    {
     "name": "stdout",
     "output_type": "stream",
     "text": [
      "Validation Accuracy:  0.9326\n",
      "Testing Accuracy: 0.8690\n"
     ]
    }
   ],
   "source": [
    "loss, accuracy = model1.evaluate(X_validation, y_validation, verbose=False)\n",
    "print(\"Validation Accuracy:  {:.4f}\".format(accuracy))\n",
    "loss, accuracy = model1.evaluate(X_test, y_test, verbose=False)\n",
    "print(\"Testing Accuracy: {:.4f}\".format(accuracy))"
   ]
  },
  {
   "cell_type": "code",
   "execution_count": null,
   "id": "b5aaa9a2",
   "metadata": {},
   "outputs": [],
   "source": []
  },
  {
   "cell_type": "code",
   "execution_count": null,
   "id": "9f8c4f30",
   "metadata": {},
   "outputs": [],
   "source": []
  }
 ],
 "metadata": {
  "kernelspec": {
   "display_name": "Python 3 (ipykernel)",
   "language": "python",
   "name": "python3"
  },
  "language_info": {
   "codemirror_mode": {
    "name": "ipython",
    "version": 3
   },
   "file_extension": ".py",
   "mimetype": "text/x-python",
   "name": "python",
   "nbconvert_exporter": "python",
   "pygments_lexer": "ipython3",
   "version": "3.9.7"
  }
 },
 "nbformat": 4,
 "nbformat_minor": 5
}
