{
  "nbformat": 4,
  "nbformat_minor": 0,
  "metadata": {
    "colab": {
      "name": "Untitled5.ipynb",
      "provenance": []
    },
    "kernelspec": {
      "name": "python3",
      "display_name": "Python 3"
    },
    "language_info": {
      "name": "python"
    },
    "accelerator": "GPU"
  },
  "cells": [
    {
      "cell_type": "code",
      "execution_count": 89,
      "metadata": {
        "colab": {
          "base_uri": "https://localhost:8080/"
        },
        "id": "RDZ6vXdUtrsp",
        "outputId": "91e373cc-1144-47a5-d94c-58aa6dca1cb3"
      },
      "outputs": [
        {
          "output_type": "stream",
          "name": "stdout",
          "text": [
            "Mounted at /content/drive\n",
            "Mounted at /content/gdrive\n",
            "(33104, 128, 6) (33104, 118) (3740, 128, 6) (3740, 118)\n"
          ]
        }
      ],
      "source": [
        "from google.colab import drive\n",
        "drive.mount('/content/drive')\n",
        "\n",
        "from google.colab import drive\n",
        "\n",
        "drive.mount('/content/gdrive')\n",
        "root_path = 'gdrive/My Drive/'  #change dir to your project folder\n",
        "\n",
        "import numpy as np\n",
        "X_train = np.load('gdrive/My Drive/dataset1/acc+gyr/trainX.npy')\n",
        "y_train = np.load('gdrive/My Drive/dataset1/acc+gyr/trainy.npy')\n",
        "X_test = np.load('gdrive/My Drive/dataset1/acc+gyr/testX.npy')\n",
        "y_test = np.load('gdrive/My Drive/dataset1/acc+gyr/testy.npy')\n",
        "print(X_train.shape, y_train.shape, X_test.shape, y_test.shape)"
      ]
    },
    {
      "cell_type": "code",
      "source": [
        "from numpy import mean\n",
        "from numpy import std\n",
        "from numpy import dstack\n",
        "from numpy import save, load\n",
        "from pandas import read_csv\n",
        "from tensorflow import keras\n",
        "from sklearn.preprocessing import StandardScaler\n",
        "from tensorflow.keras.models import Sequential\n",
        "from tensorflow.keras.layers import Dense , Input ,concatenate\n",
        "from tensorflow.keras.layers import Flatten\n",
        "from tensorflow.keras.layers import Dropout\n",
        "from tensorflow.keras import Model\n",
        "from tensorflow.keras.callbacks import EarlyStopping, ModelCheckpoint, ReduceLROnPlateau\n",
        "from tensorflow.keras.layers import LSTM, Conv1D, concatenate,GlobalMaxPooling1D,TimeDistributed, MaxPooling1D\n",
        "from tensorflow.keras.utils import to_categorical\n",
        "from tensorflow.keras.layers import concatenate\n",
        "from tensorflow.keras import regularizers"
      ],
      "metadata": {
        "id": "-Qkx_EZ2uxRJ"
      },
      "execution_count": 90,
      "outputs": []
    },
    {
      "cell_type": "code",
      "source": [
        "from sklearn.model_selection import train_test_split\n",
        "X_training, X_validation, y_training, y_validation = train_test_split(X_train, y_train, test_size=0.20, random_state=42)\n",
        "n_timesteps, n_features, n_outputs = X_train.shape[1], X_train.shape[2], y_train.shape[1]"
      ],
      "metadata": {
        "id": "QRMig4JduxUD"
      },
      "execution_count": 91,
      "outputs": []
    },
    {
      "cell_type": "code",
      "source": [
        "model1 = Sequential()\n",
        "model1.add(LSTM(512, input_shape=(n_timesteps,n_features),return_sequences=True))\n",
        "model1.add(LSTM(256))\n",
        "model1.add(Dropout(0.2))\n",
        "model1.add(Dense(128, activation='relu'))\n",
        "model1.add(Dense(n_outputs, activation='softmax'))\n",
        "model1.compile(loss='mse', optimizer='adam', metrics=['accuracy'])\n",
        "model1.summary()\n",
        "callbacks = [keras.callbacks.EarlyStopping(patience=5, restore_best_weights=True)]"
      ],
      "metadata": {
        "colab": {
          "base_uri": "https://localhost:8080/"
        },
        "id": "Yt-4cl-yuxXF",
        "outputId": "82e4cb3d-a0f6-4c56-c714-cd7d30804b9f"
      },
      "execution_count": 98,
      "outputs": [
        {
          "output_type": "stream",
          "name": "stdout",
          "text": [
            "Model: \"sequential_26\"\n",
            "_________________________________________________________________\n",
            " Layer (type)                Output Shape              Param #   \n",
            "=================================================================\n",
            " lstm_33 (LSTM)              (None, 128, 512)          1062912   \n",
            "                                                                 \n",
            " lstm_34 (LSTM)              (None, 256)               787456    \n",
            "                                                                 \n",
            " dropout_34 (Dropout)        (None, 256)               0         \n",
            "                                                                 \n",
            " dense_50 (Dense)            (None, 128)               32896     \n",
            "                                                                 \n",
            " dense_51 (Dense)            (None, 118)               15222     \n",
            "                                                                 \n",
            "=================================================================\n",
            "Total params: 1,898,486\n",
            "Trainable params: 1,898,486\n",
            "Non-trainable params: 0\n",
            "_________________________________________________________________\n"
          ]
        }
      ]
    },
    {
      "cell_type": "code",
      "source": [
        "history = model1.fit(X_training, y_training, epochs=200, verbose=True, validation_data=(X_validation, y_validation), batch_size=128,callbacks=callbacks)"
      ],
      "metadata": {
        "colab": {
          "base_uri": "https://localhost:8080/"
        },
        "id": "leAK4cae3mSx",
        "outputId": "f33b2137-eea0-46ec-cca2-7374ab15b5db"
      },
      "execution_count": 99,
      "outputs": [
        {
          "output_type": "stream",
          "name": "stdout",
          "text": [
            "Epoch 1/200\n",
            "207/207 [==============================] - 19s 81ms/step - loss: 0.0076 - accuracy: 0.1800 - val_loss: 0.0065 - val_accuracy: 0.3530\n",
            "Epoch 2/200\n",
            "207/207 [==============================] - 16s 79ms/step - loss: 0.0050 - accuracy: 0.5491 - val_loss: 0.0032 - val_accuracy: 0.7358\n",
            "Epoch 3/200\n",
            "207/207 [==============================] - 16s 80ms/step - loss: 0.0028 - accuracy: 0.7737 - val_loss: 0.0023 - val_accuracy: 0.8108\n",
            "Epoch 4/200\n",
            "207/207 [==============================] - 17s 80ms/step - loss: 0.0020 - accuracy: 0.8386 - val_loss: 0.0019 - val_accuracy: 0.8488\n",
            "Epoch 5/200\n",
            "207/207 [==============================] - 16s 79ms/step - loss: 0.0015 - accuracy: 0.8756 - val_loss: 0.0016 - val_accuracy: 0.8660\n",
            "Epoch 6/200\n",
            "207/207 [==============================] - 16s 78ms/step - loss: 0.0014 - accuracy: 0.8891 - val_loss: 0.0012 - val_accuracy: 0.8988\n",
            "Epoch 7/200\n",
            "207/207 [==============================] - 16s 78ms/step - loss: 0.0012 - accuracy: 0.9055 - val_loss: 0.0011 - val_accuracy: 0.9127\n",
            "Epoch 8/200\n",
            "207/207 [==============================] - 16s 79ms/step - loss: 0.0010 - accuracy: 0.9166 - val_loss: 0.0010 - val_accuracy: 0.9169\n",
            "Epoch 9/200\n",
            "207/207 [==============================] - 16s 79ms/step - loss: 9.4249e-04 - accuracy: 0.9237 - val_loss: 9.4098e-04 - val_accuracy: 0.9216\n",
            "Epoch 10/200\n",
            "207/207 [==============================] - 16s 79ms/step - loss: 8.3893e-04 - accuracy: 0.9315 - val_loss: 8.9239e-04 - val_accuracy: 0.9257\n",
            "Epoch 11/200\n",
            "207/207 [==============================] - 16s 78ms/step - loss: 7.6976e-04 - accuracy: 0.9377 - val_loss: 8.0459e-04 - val_accuracy: 0.9346\n",
            "Epoch 12/200\n",
            "207/207 [==============================] - 16s 78ms/step - loss: 7.4121e-04 - accuracy: 0.9403 - val_loss: 7.1047e-04 - val_accuracy: 0.9388\n",
            "Epoch 13/200\n",
            "207/207 [==============================] - 16s 78ms/step - loss: 6.9132e-04 - accuracy: 0.9433 - val_loss: 9.9375e-04 - val_accuracy: 0.9166\n",
            "Epoch 14/200\n",
            "207/207 [==============================] - 16s 78ms/step - loss: 7.1159e-04 - accuracy: 0.9435 - val_loss: 7.4901e-04 - val_accuracy: 0.9382\n",
            "Epoch 15/200\n",
            "207/207 [==============================] - 16s 78ms/step - loss: 5.8061e-04 - accuracy: 0.9528 - val_loss: 7.4853e-04 - val_accuracy: 0.9388\n",
            "Epoch 16/200\n",
            "207/207 [==============================] - 16s 78ms/step - loss: 5.9924e-04 - accuracy: 0.9522 - val_loss: 7.6394e-04 - val_accuracy: 0.9375\n",
            "Epoch 17/200\n",
            "207/207 [==============================] - 16s 79ms/step - loss: 5.3839e-04 - accuracy: 0.9559 - val_loss: 6.0911e-04 - val_accuracy: 0.9490\n",
            "Epoch 18/200\n",
            "207/207 [==============================] - 16s 79ms/step - loss: 4.8129e-04 - accuracy: 0.9605 - val_loss: 5.8908e-04 - val_accuracy: 0.9509\n",
            "Epoch 19/200\n",
            "207/207 [==============================] - 16s 79ms/step - loss: 4.5531e-04 - accuracy: 0.9630 - val_loss: 5.6734e-04 - val_accuracy: 0.9526\n",
            "Epoch 20/200\n",
            "207/207 [==============================] - 16s 79ms/step - loss: 4.7153e-04 - accuracy: 0.9610 - val_loss: 8.4552e-04 - val_accuracy: 0.9343\n",
            "Epoch 21/200\n",
            "207/207 [==============================] - 16s 79ms/step - loss: 5.4924e-04 - accuracy: 0.9545 - val_loss: 5.9093e-04 - val_accuracy: 0.9499\n",
            "Epoch 22/200\n",
            "207/207 [==============================] - 16s 78ms/step - loss: 4.3403e-04 - accuracy: 0.9640 - val_loss: 5.6593e-04 - val_accuracy: 0.9514\n",
            "Epoch 23/200\n",
            "207/207 [==============================] - 16s 78ms/step - loss: 4.1612e-04 - accuracy: 0.9651 - val_loss: 5.6385e-04 - val_accuracy: 0.9517\n",
            "Epoch 24/200\n",
            "207/207 [==============================] - 16s 79ms/step - loss: 3.8349e-04 - accuracy: 0.9672 - val_loss: 5.9360e-04 - val_accuracy: 0.9500\n",
            "Epoch 25/200\n",
            "207/207 [==============================] - 16s 79ms/step - loss: 3.8250e-04 - accuracy: 0.9678 - val_loss: 5.8729e-04 - val_accuracy: 0.9511\n",
            "Epoch 26/200\n",
            "207/207 [==============================] - 16s 79ms/step - loss: 4.3386e-04 - accuracy: 0.9640 - val_loss: 5.5276e-04 - val_accuracy: 0.9554\n",
            "Epoch 27/200\n",
            "207/207 [==============================] - 16s 78ms/step - loss: 4.2455e-04 - accuracy: 0.9653 - val_loss: 6.0656e-04 - val_accuracy: 0.9505\n",
            "Epoch 28/200\n",
            "207/207 [==============================] - 16s 78ms/step - loss: 3.7275e-04 - accuracy: 0.9695 - val_loss: 4.7543e-04 - val_accuracy: 0.9598\n",
            "Epoch 29/200\n",
            "207/207 [==============================] - 16s 78ms/step - loss: 4.4287e-04 - accuracy: 0.9638 - val_loss: 5.2975e-04 - val_accuracy: 0.9570\n",
            "Epoch 30/200\n",
            "207/207 [==============================] - 16s 78ms/step - loss: 3.3041e-04 - accuracy: 0.9733 - val_loss: 4.8962e-04 - val_accuracy: 0.9591\n",
            "Epoch 31/200\n",
            "207/207 [==============================] - 16s 79ms/step - loss: 2.7805e-04 - accuracy: 0.9772 - val_loss: 5.4229e-04 - val_accuracy: 0.9553\n",
            "Epoch 32/200\n",
            "207/207 [==============================] - 16s 78ms/step - loss: 3.0124e-04 - accuracy: 0.9752 - val_loss: 5.0157e-04 - val_accuracy: 0.9588\n",
            "Epoch 33/200\n",
            "207/207 [==============================] - 16s 78ms/step - loss: 3.1200e-04 - accuracy: 0.9741 - val_loss: 4.8693e-04 - val_accuracy: 0.9592\n"
          ]
        }
      ]
    },
    {
      "cell_type": "code",
      "source": [
        "loss, accuracy = model1.evaluate(X_validation, y_validation, verbose=False)\n",
        "print(\"Validation Accuracy:  {:.4f}\".format(accuracy))\n",
        "loss, accuracy = model1.evaluate(X_test, y_test, verbose=False)\n",
        "print(\"Testing Accuracy: {:.4f}\".format(accuracy))"
      ],
      "metadata": {
        "colab": {
          "base_uri": "https://localhost:8080/"
        },
        "id": "BrRZlOJMuxdZ",
        "outputId": "df315bf3-dedd-4643-acf3-aaf43ea72987"
      },
      "execution_count": 100,
      "outputs": [
        {
          "output_type": "stream",
          "name": "stdout",
          "text": [
            "Validation Accuracy:  0.9598\n",
            "Testing Accuracy: 0.8997\n"
          ]
        }
      ]
    },
    {
      "cell_type": "code",
      "source": [
        "from matplotlib import pyplot as plt\n",
        "plt.plot(history.history[\"loss\"], label=\"Training Loss\")\n",
        "plt.plot(history.history[\"val_loss\"], label=\"Validation Loss\")\n",
        "plt.legend()\n",
        "plt.show()\n",
        "from matplotlib import pyplot as plt\n",
        "plt.plot(history.history[\"accuracy\"], label=\"Training accuracy\")\n",
        "plt.plot(history.history[\"val_accuracy\"], label=\"Validation accuracy\")\n",
        "plt.legend()\n",
        "plt.show()"
      ],
      "metadata": {
        "colab": {
          "base_uri": "https://localhost:8080/",
          "height": 517
        },
        "id": "JkKl9CyQvFku",
        "outputId": "165be7c3-3cb3-4422-a585-04b4a3988226"
      },
      "execution_count": 101,
      "outputs": [
        {
          "output_type": "display_data",
          "data": {
            "image/png": "[encoded data removed]",
            "text/plain": [
              "<Figure size 432x288 with 1 Axes>"
            ]
          },
          "metadata": {
            "needs_background": "light"
          }
        },
        {
          "output_type": "display_data",
          "data": {
            "image/png": "[encoded data removed]",
            "text/plain": [
              "<Figure size 432x288 with 1 Axes>"
            ]
          },
          "metadata": {
            "needs_background": "light"
          }
        }
      ]
    }
  ]
}