{
 "cells": [
  {
   "cell_type": "code",
   "execution_count": 1,
   "id": "490615f9",
   "metadata": {},
   "outputs": [],
   "source": [
    "from numpy import mean\n",
    "from numpy import std\n",
    "from numpy import dstack\n",
    "from numpy import save, load\n",
    "from pandas import read_csv\n",
    "from sklearn.preprocessing import StandardScaler\n",
    "from tensorflow.keras.models import Sequential\n",
    "from tensorflow.keras.layers import Dense\n",
    "from tensorflow.keras.layers import Flatten\n",
    "from tensorflow.keras.layers import Dropout\n",
    "from tensorflow.keras.layers import Bidirectional\n",
    "from tensorflow.keras import Model\n",
    "from tensorflow.keras.layers import LSTM, Conv1D, concatenate,GlobalMaxPooling1D,TimeDistributed, MaxPooling1D\n",
    "from tensorflow.keras.utils import to_categorical\n",
    "#from matplotlib import pyplot\n",
    "from tensorflow.keras import regularizers\n",
    "import tensorflow as tf\n",
    "#physical_devices = tf.config.list_physical_devices('GPU')\n",
    "#tf.config.experimental.set_memory_growth(physical_devices[0], True)"
   ]
  },
  {
   "cell_type": "code",
   "execution_count": 2,
   "id": "8cbb2692",
   "metadata": {},
   "outputs": [
    {
     "name": "stdout",
     "output_type": "stream",
     "text": [
      "(33104, 128, 3) (33104, 118) (3740, 128, 3) (3740, 118)\n"
     ]
    }
   ],
   "source": [
    "X_train = load('trainXacc.npy')\n",
    "X_test = load('testXacc.npy')\n",
    "y_train = load('trainYacc.npy')\n",
    "y_test = load('testYacc.npy')\n",
    "print(X_train.shape, y_train.shape, X_test.shape, y_test.shape)"
   ]
  },
  {
   "cell_type": "code",
   "execution_count": 3,
   "id": "55e3f033",
   "metadata": {},
   "outputs": [],
   "source": [
    "from sklearn.model_selection import train_test_split\n",
    "X_training, X_validation, y_training, y_validation = train_test_split(X_train, y_train, test_size=0.20, random_state=42)"
   ]
  },
  {
   "cell_type": "markdown",
   "id": "8f81ff02",
   "metadata": {},
   "source": [
    "# 1-LSTM"
   ]
  },
  {
   "cell_type": "code",
   "execution_count": 4,
   "id": "5392b512",
   "metadata": {},
   "outputs": [],
   "source": [
    "n_timesteps, n_features, n_outputs = X_train.shape[1], X_train.shape[2], y_train.shape[1]"
   ]
  },
  {
   "cell_type": "code",
   "execution_count": 5,
   "id": "e0ef7473",
   "metadata": {},
   "outputs": [
    {
     "name": "stdout",
     "output_type": "stream",
     "text": [
      "Model: \"sequential\"\n",
      "_________________________________________________________________\n",
      "Layer (type)                 Output Shape              Param #   \n",
      "=================================================================\n",
      "bidirectional (Bidirectional (None, 512)               532480    \n",
      "_________________________________________________________________\n",
      "dense (Dense)                (None, 256)               131328    \n",
      "_________________________________________________________________\n",
      "dropout (Dropout)            (None, 256)               0         \n",
      "_________________________________________________________________\n",
      "dense_1 (Dense)              (None, 128)               32896     \n",
      "_________________________________________________________________\n",
      "dense_2 (Dense)              (None, 118)               15222     \n",
      "=================================================================\n",
      "Total params: 711,926\n",
      "Trainable params: 711,926\n",
      "Non-trainable params: 0\n",
      "_________________________________________________________________\n"
     ]
    }
   ],
   "source": [
    "model1 = Sequential()\n",
    "#forward_layer =LSTM(500,input_shape=(n_timesteps,n_features),return_sequences=True)\n",
    "#backward_layer =LSTM(500,activation='relu',return_sequences=True,go_backwards=True)\n",
    "#model1.add(Bidirectional(LSTM(500, input_shape=(n_timesteps,n_features))))\n",
    "#model1.add(Bidirectional(LSTM(500, input_shape=(n_timesteps,n_features))))\n",
    "model1.add(Bidirectional(LSTM(256, return_sequences=False), input_shape=(n_timesteps,n_features)))\n",
    "#model1.add(Bidirectional(LSTM(500)))\n",
    "model1.add(Dense(256, activation='relu'))\n",
    "model1.add(Dropout(0.1))\n",
    "model1.add(Dense(128, activation='relu'))\n",
    "#model1.add(Dropout(0.1))\n",
    "#model1.add(Dense(100, activation='relu'))\n",
    "model1.add(Dense(n_outputs, activation='softmax'))\n",
    "model1.compile(loss='categorical_crossentropy', optimizer='adam', metrics=['accuracy'])\n",
    "model1.summary()\n",
    "callbacks = [tf.keras.callbacks.EarlyStopping(patience=5, restore_best_weights=True)]"
   ]
  },
  {
   "cell_type": "code",
   "execution_count": 6,
   "id": "c0e2af0f",
   "metadata": {},
   "outputs": [
    {
     "name": "stdout",
     "output_type": "stream",
     "text": [
      "Epoch 1/200\n",
      "207/207 [==============================] - 548s 3s/step - loss: 2.0577 - accuracy: 0.4673 - val_loss: 0.7993 - val_accuracy: 0.7994\n",
      "Epoch 2/200\n",
      "207/207 [==============================] - 526s 3s/step - loss: 0.6518 - accuracy: 0.8192 - val_loss: 0.4710 - val_accuracy: 0.8772\n",
      "Epoch 3/200\n",
      "207/207 [==============================] - 536s 3s/step - loss: 0.4077 - accuracy: 0.8872 - val_loss: 0.3574 - val_accuracy: 0.9002\n",
      "Epoch 4/200\n",
      "207/207 [==============================] - 517s 3s/step - loss: 0.3236 - accuracy: 0.9091 - val_loss: 0.3125 - val_accuracy: 0.9115\n",
      "Epoch 5/200\n",
      "207/207 [==============================] - 525s 3s/step - loss: 0.2478 - accuracy: 0.9283 - val_loss: 0.2750 - val_accuracy: 0.9234\n",
      "Epoch 6/200\n",
      "207/207 [==============================] - 522s 3s/step - loss: 0.2057 - accuracy: 0.9407 - val_loss: 0.2534 - val_accuracy: 0.9322\n",
      "Epoch 7/200\n",
      "207/207 [==============================] - 535s 3s/step - loss: 0.1810 - accuracy: 0.9465 - val_loss: 0.2182 - val_accuracy: 0.9412\n",
      "Epoch 8/200\n",
      "207/207 [==============================] - 511s 2s/step - loss: 0.1508 - accuracy: 0.9557 - val_loss: 0.2133 - val_accuracy: 0.9432\n",
      "Epoch 9/200\n",
      "207/207 [==============================] - 518s 3s/step - loss: 0.1304 - accuracy: 0.9607 - val_loss: 0.1967 - val_accuracy: 0.9465\n",
      "Epoch 10/200\n",
      "207/207 [==============================] - 518s 3s/step - loss: 0.1125 - accuracy: 0.9647 - val_loss: 0.1962 - val_accuracy: 0.9494\n",
      "Epoch 11/200\n",
      "207/207 [==============================] - 442s 2s/step - loss: 0.1034 - accuracy: 0.9678 - val_loss: 0.1857 - val_accuracy: 0.9494\n",
      "Epoch 12/200\n",
      "207/207 [==============================] - 223s 1s/step - loss: 0.1017 - accuracy: 0.9683 - val_loss: 0.1925 - val_accuracy: 0.9508\n",
      "Epoch 13/200\n",
      "207/207 [==============================] - 214s 1s/step - loss: 0.0922 - accuracy: 0.9712 - val_loss: 0.1881 - val_accuracy: 0.9526\n",
      "Epoch 14/200\n",
      "207/207 [==============================] - 212s 1s/step - loss: 0.0811 - accuracy: 0.9751 - val_loss: 0.2144 - val_accuracy: 0.9468\n",
      "Epoch 15/200\n",
      "207/207 [==============================] - 212s 1s/step - loss: 0.0834 - accuracy: 0.9736 - val_loss: 0.1898 - val_accuracy: 0.9494\n",
      "Epoch 16/200\n",
      "207/207 [==============================] - 211s 1s/step - loss: 0.0685 - accuracy: 0.9772 - val_loss: 0.1753 - val_accuracy: 0.9570\n",
      "Epoch 17/200\n",
      "207/207 [==============================] - 211s 1s/step - loss: 0.0573 - accuracy: 0.9819 - val_loss: 0.1775 - val_accuracy: 0.9573\n",
      "Epoch 18/200\n",
      "207/207 [==============================] - 212s 1s/step - loss: 0.0525 - accuracy: 0.9840 - val_loss: 0.1713 - val_accuracy: 0.9576\n",
      "Epoch 19/200\n",
      "207/207 [==============================] - 212s 1s/step - loss: 0.0704 - accuracy: 0.9785 - val_loss: 0.1807 - val_accuracy: 0.9574\n",
      "Epoch 20/200\n",
      "207/207 [==============================] - 211s 1s/step - loss: 0.0486 - accuracy: 0.9857 - val_loss: 0.1684 - val_accuracy: 0.9607\n",
      "Epoch 21/200\n",
      "207/207 [==============================] - 211s 1s/step - loss: 0.0415 - accuracy: 0.9870 - val_loss: 0.1719 - val_accuracy: 0.9588\n",
      "Epoch 22/200\n",
      "207/207 [==============================] - 211s 1s/step - loss: 0.0555 - accuracy: 0.9825 - val_loss: 0.1652 - val_accuracy: 0.9580\n",
      "Epoch 23/200\n",
      "207/207 [==============================] - 212s 1s/step - loss: 0.0574 - accuracy: 0.9812 - val_loss: 0.1698 - val_accuracy: 0.9595\n",
      "Epoch 24/200\n",
      "207/207 [==============================] - 212s 1s/step - loss: 0.0453 - accuracy: 0.9869 - val_loss: 0.1782 - val_accuracy: 0.9589\n",
      "Epoch 25/200\n",
      "207/207 [==============================] - 211s 1s/step - loss: 0.0488 - accuracy: 0.9847 - val_loss: 0.1858 - val_accuracy: 0.9591\n",
      "Epoch 26/200\n",
      "207/207 [==============================] - 212s 1s/step - loss: 0.0389 - accuracy: 0.9877 - val_loss: 0.1833 - val_accuracy: 0.9594\n",
      "Epoch 27/200\n",
      "207/207 [==============================] - 211s 1s/step - loss: 0.0475 - accuracy: 0.9856 - val_loss: 0.1567 - val_accuracy: 0.9622\n",
      "Epoch 28/200\n",
      "207/207 [==============================] - 211s 1s/step - loss: 0.0384 - accuracy: 0.9878 - val_loss: 0.1664 - val_accuracy: 0.9638\n",
      "Epoch 29/200\n",
      "207/207 [==============================] - 211s 1s/step - loss: 0.0488 - accuracy: 0.9846 - val_loss: 0.1658 - val_accuracy: 0.9624\n",
      "Epoch 30/200\n",
      "207/207 [==============================] - 213s 1s/step - loss: 0.0255 - accuracy: 0.9917 - val_loss: 0.1560 - val_accuracy: 0.9650\n",
      "Epoch 31/200\n",
      "207/207 [==============================] - 212s 1s/step - loss: 0.0230 - accuracy: 0.9931 - val_loss: 0.1516 - val_accuracy: 0.9678\n",
      "Epoch 32/200\n",
      "207/207 [==============================] - 211s 1s/step - loss: 0.0247 - accuracy: 0.9919 - val_loss: 0.1662 - val_accuracy: 0.9644\n",
      "Epoch 33/200\n",
      "207/207 [==============================] - 211s 1s/step - loss: 0.0257 - accuracy: 0.9919 - val_loss: 0.1757 - val_accuracy: 0.9601\n",
      "Epoch 34/200\n",
      "207/207 [==============================] - 212s 1s/step - loss: 0.0261 - accuracy: 0.9915 - val_loss: 0.1759 - val_accuracy: 0.9642\n",
      "Epoch 35/200\n",
      "207/207 [==============================] - 212s 1s/step - loss: 0.0226 - accuracy: 0.9930 - val_loss: 0.1834 - val_accuracy: 0.9613\n",
      "Epoch 36/200\n",
      "207/207 [==============================] - 213s 1s/step - loss: 0.0363 - accuracy: 0.9886 - val_loss: 0.1928 - val_accuracy: 0.9607\n"
     ]
    }
   ],
   "source": [
    "history = model1.fit(X_training, y_training, epochs=200, verbose=True, validation_data=(X_validation, y_validation), batch_size=128,callbacks=callbacks)"
   ]
  },
  {
   "cell_type": "code",
   "execution_count": 7,
   "id": "f8b825ed",
   "metadata": {},
   "outputs": [
    {
     "name": "stdout",
     "output_type": "stream",
     "text": [
      "Validation Accuracy:  0.9678\n",
      "Testing Accuracy: 0.9027\n"
     ]
    }
   ],
   "source": [
    "loss, accuracy = model1.evaluate(X_validation, y_validation, verbose=False)\n",
    "print(\"Validation Accuracy:  {:.4f}\".format(accuracy))\n",
    "loss, accuracy = model1.evaluate(X_test, y_test, verbose=False)\n",
    "print(\"Testing Accuracy: {:.4f}\".format(accuracy))"
   ]
  },
  {
   "cell_type": "code",
   "execution_count": null,
   "id": "1f0da50f",
   "metadata": {},
   "outputs": [],
   "source": []
  }
 ],
 "metadata": {
  "kernelspec": {
   "display_name": "Python 3 (ipykernel)",
   "language": "python",
   "name": "python3"
  },
  "language_info": {
   "codemirror_mode": {
    "name": "ipython",
    "version": 3
   },
   "file_extension": ".py",
   "mimetype": "text/x-python",
   "name": "python",
   "nbconvert_exporter": "python",
   "pygments_lexer": "ipython3",
   "version": "3.9.7"
  }
 },
 "nbformat": 4,
 "nbformat_minor": 5
}
