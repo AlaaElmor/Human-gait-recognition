{
  "nbformat": 4,
  "nbformat_minor": 0,
  "metadata": {
    "colab": {
      "name": "Untitled5.ipynb",
      "provenance": []
    },
    "kernelspec": {
      "name": "python3",
      "display_name": "Python 3"
    },
    "language_info": {
      "name": "python"
    },
    "accelerator": "GPU"
  },
  "cells": [
    {
      "cell_type": "code",
      "execution_count": 82,
      "metadata": {
        "colab": {
          "base_uri": "https://localhost:8080/"
        },
        "id": "RDZ6vXdUtrsp",
        "outputId": "097ca40b-3291-46be-dbed-25743f2046a0"
      },
      "outputs": [
        {
          "output_type": "stream",
          "name": "stdout",
          "text": [
            "Mounted at /content/drive\n",
            "Mounted at /content/gdrive\n",
            "(33104, 128, 3) (33104, 118) (3740, 128, 3) (3740, 118)\n"
          ]
        }
      ],
      "source": [
        "from google.colab import drive\n",
        "drive.mount('/content/drive')\n",
        "\n",
        "from google.colab import drive\n",
        "\n",
        "drive.mount('/content/gdrive')\n",
        "root_path = 'gdrive/My Drive/'  #change dir to your project folder\n",
        "\n",
        "import numpy as np\n",
        "X_train = np.load('gdrive/My Drive/dataset1//3gyr/unnormalized/trainX.npy')\n",
        "y_train = np.load('gdrive/My Drive/dataset1/3gyr/unnormalized/trainy.npy')\n",
        "X_test = np.load('gdrive/My Drive/dataset1/3gyr/unnormalized/testX.npy')\n",
        "y_test = np.load('gdrive/My Drive/dataset1/3gyr/unnormalized/testy.npy')\n",
        "print(X_train.shape, y_train.shape, X_test.shape, y_test.shape)"
      ]
    },
    {
      "cell_type": "code",
      "source": [
        "from numpy import mean\n",
        "from numpy import std\n",
        "from numpy import dstack\n",
        "from numpy import save, load\n",
        "from pandas import read_csv\n",
        "from tensorflow import keras\n",
        "from sklearn.preprocessing import StandardScaler\n",
        "from tensorflow.keras.models import Sequential\n",
        "from tensorflow.keras.layers import Dense , Input ,concatenate\n",
        "from tensorflow.keras.layers import Flatten\n",
        "from tensorflow.keras.layers import Dropout\n",
        "from tensorflow.keras import Model\n",
        "from tensorflow.keras.callbacks import EarlyStopping, ModelCheckpoint, ReduceLROnPlateau\n",
        "from tensorflow.keras.layers import LSTM, Conv1D, concatenate,GlobalMaxPooling1D,TimeDistributed, MaxPooling1D\n",
        "from tensorflow.keras.utils import to_categorical\n",
        "from tensorflow.keras.layers import concatenate\n",
        "from tensorflow.keras import regularizers"
      ],
      "metadata": {
        "id": "-Qkx_EZ2uxRJ"
      },
      "execution_count": 83,
      "outputs": []
    },
    {
      "cell_type": "code",
      "source": [
        "from sklearn.model_selection import train_test_split\n",
        "X_training, X_validation, y_training, y_validation = train_test_split(X_train, y_train, test_size=0.20, random_state=42)\n",
        "n_timesteps, n_features, n_outputs = X_train.shape[1], X_train.shape[2], y_train.shape[1]"
      ],
      "metadata": {
        "id": "QRMig4JduxUD"
      },
      "execution_count": 84,
      "outputs": []
    },
    {
      "cell_type": "code",
      "source": [
        "model1 = Sequential()\n",
        "model1.add(LSTM(512, input_shape=(n_timesteps,n_features),return_sequences=True))\n",
        "model1.add(LSTM(256))\n",
        "model1.add(Dropout(0.2))\n",
        "model1.add(Dense(128, activation='relu'))\n",
        "model1.add(Dense(n_outputs, activation='softmax'))\n",
        "model1.compile(loss='categorical_crossentropy', optimizer='adam', metrics=['accuracy'])\n",
        "model1.summary()\n",
        "callbacks = [keras.callbacks.EarlyStopping(patience=5, restore_best_weights=True)]"
      ],
      "metadata": {
        "colab": {
          "base_uri": "https://localhost:8080/"
        },
        "id": "Yt-4cl-yuxXF",
        "outputId": "a0956c5e-2334-4f43-cc82-0b7f6475c1da"
      },
      "execution_count": 85,
      "outputs": [
        {
          "output_type": "stream",
          "name": "stdout",
          "text": [
            "Model: \"sequential_24\"\n",
            "_________________________________________________________________\n",
            " Layer (type)                Output Shape              Param #   \n",
            "=================================================================\n",
            " lstm_29 (LSTM)              (None, 128, 512)          1056768   \n",
            "                                                                 \n",
            " lstm_30 (LSTM)              (None, 256)               787456    \n",
            "                                                                 \n",
            " dropout_32 (Dropout)        (None, 256)               0         \n",
            "                                                                 \n",
            " dense_46 (Dense)            (None, 128)               32896     \n",
            "                                                                 \n",
            " dense_47 (Dense)            (None, 118)               15222     \n",
            "                                                                 \n",
            "=================================================================\n",
            "Total params: 1,892,342\n",
            "Trainable params: 1,892,342\n",
            "Non-trainable params: 0\n",
            "_________________________________________________________________\n"
          ]
        }
      ]
    },
    {
      "cell_type": "code",
      "source": [
        "history = model1.fit(X_training, y_training, epochs=200, verbose=True, validation_data=(X_validation, y_validation), batch_size=128,callbacks=callbacks)"
      ],
      "metadata": {
        "colab": {
          "base_uri": "https://localhost:8080/"
        },
        "id": "leAK4cae3mSx",
        "outputId": "91fcf6b5-c3e1-44c8-ce39-259391fdd276"
      },
      "execution_count": 86,
      "outputs": [
        {
          "output_type": "stream",
          "name": "stdout",
          "text": [
            "Epoch 1/200\n",
            "207/207 [==============================] - 19s 79ms/step - loss: 2.4297 - accuracy: 0.4295 - val_loss: 1.2300 - val_accuracy: 0.7008\n",
            "Epoch 2/200\n",
            "207/207 [==============================] - 16s 77ms/step - loss: 0.9509 - accuracy: 0.7680 - val_loss: 0.6830 - val_accuracy: 0.8348\n",
            "Epoch 3/200\n",
            "207/207 [==============================] - 16s 78ms/step - loss: 0.5892 - accuracy: 0.8564 - val_loss: 0.5128 - val_accuracy: 0.8731\n",
            "Epoch 4/200\n",
            "207/207 [==============================] - 16s 79ms/step - loss: 0.4494 - accuracy: 0.8895 - val_loss: 0.4151 - val_accuracy: 0.8944\n",
            "Epoch 5/200\n",
            "207/207 [==============================] - 16s 78ms/step - loss: 0.3596 - accuracy: 0.9074 - val_loss: 0.3813 - val_accuracy: 0.9092\n",
            "Epoch 6/200\n",
            "207/207 [==============================] - 16s 79ms/step - loss: 0.3084 - accuracy: 0.9205 - val_loss: 0.3279 - val_accuracy: 0.9204\n",
            "Epoch 7/200\n",
            "207/207 [==============================] - 16s 77ms/step - loss: 0.2613 - accuracy: 0.9311 - val_loss: 0.3160 - val_accuracy: 0.9218\n",
            "Epoch 8/200\n",
            "207/207 [==============================] - 16s 78ms/step - loss: 0.2352 - accuracy: 0.9372 - val_loss: 0.2950 - val_accuracy: 0.9293\n",
            "Epoch 9/200\n",
            "207/207 [==============================] - 16s 78ms/step - loss: 0.2030 - accuracy: 0.9454 - val_loss: 0.2533 - val_accuracy: 0.9387\n",
            "Epoch 10/200\n",
            "207/207 [==============================] - 16s 78ms/step - loss: 0.1497 - accuracy: 0.9600 - val_loss: 0.2304 - val_accuracy: 0.9458\n",
            "Epoch 11/200\n",
            "207/207 [==============================] - 16s 78ms/step - loss: 0.1453 - accuracy: 0.9587 - val_loss: 0.2230 - val_accuracy: 0.9455\n",
            "Epoch 12/200\n",
            "207/207 [==============================] - 16s 77ms/step - loss: 0.1355 - accuracy: 0.9621 - val_loss: 0.2331 - val_accuracy: 0.9431\n",
            "Epoch 13/200\n",
            "207/207 [==============================] - 16s 77ms/step - loss: 0.1207 - accuracy: 0.9653 - val_loss: 0.2252 - val_accuracy: 0.9440\n",
            "Epoch 14/200\n",
            "207/207 [==============================] - 16s 77ms/step - loss: 0.1008 - accuracy: 0.9725 - val_loss: 0.2217 - val_accuracy: 0.9479\n",
            "Epoch 15/200\n",
            "207/207 [==============================] - 16s 78ms/step - loss: 0.0878 - accuracy: 0.9747 - val_loss: 0.2201 - val_accuracy: 0.9503\n",
            "Epoch 16/200\n",
            "207/207 [==============================] - 16s 78ms/step - loss: 0.0886 - accuracy: 0.9745 - val_loss: 0.1997 - val_accuracy: 0.9512\n",
            "Epoch 17/200\n",
            "207/207 [==============================] - 16s 78ms/step - loss: 0.0859 - accuracy: 0.9747 - val_loss: 0.2421 - val_accuracy: 0.9450\n",
            "Epoch 18/200\n",
            "207/207 [==============================] - 16s 77ms/step - loss: 0.0725 - accuracy: 0.9791 - val_loss: 0.2043 - val_accuracy: 0.9520\n",
            "Epoch 19/200\n",
            "207/207 [==============================] - 16s 78ms/step - loss: 0.0756 - accuracy: 0.9784 - val_loss: 0.1926 - val_accuracy: 0.9550\n",
            "Epoch 20/200\n",
            "207/207 [==============================] - 16s 78ms/step - loss: 0.0546 - accuracy: 0.9839 - val_loss: 0.1777 - val_accuracy: 0.9589\n",
            "Epoch 21/200\n",
            "207/207 [==============================] - 16s 78ms/step - loss: 0.0476 - accuracy: 0.9861 - val_loss: 0.1891 - val_accuracy: 0.9586\n",
            "Epoch 22/200\n",
            "207/207 [==============================] - 16s 78ms/step - loss: 0.0662 - accuracy: 0.9797 - val_loss: 0.2000 - val_accuracy: 0.9562\n",
            "Epoch 23/200\n",
            "207/207 [==============================] - 16s 77ms/step - loss: 0.0658 - accuracy: 0.9807 - val_loss: 0.2439 - val_accuracy: 0.9444\n",
            "Epoch 24/200\n",
            "207/207 [==============================] - 16s 78ms/step - loss: 0.0664 - accuracy: 0.9804 - val_loss: 0.2004 - val_accuracy: 0.9551\n",
            "Epoch 25/200\n",
            "207/207 [==============================] - 16s 77ms/step - loss: 0.0592 - accuracy: 0.9824 - val_loss: 0.2307 - val_accuracy: 0.9491\n"
          ]
        }
      ]
    },
    {
      "cell_type": "code",
      "source": [
        "loss, accuracy = model1.evaluate(X_validation, y_validation, verbose=False)\n",
        "print(\"Validation Accuracy:  {:.4f}\".format(accuracy))\n",
        "loss, accuracy = model1.evaluate(X_test, y_test, verbose=False)\n",
        "print(\"Testing Accuracy: {:.4f}\".format(accuracy))"
      ],
      "metadata": {
        "colab": {
          "base_uri": "https://localhost:8080/"
        },
        "id": "BrRZlOJMuxdZ",
        "outputId": "5328c5a8-1056-4cb6-c35d-0c337872eaec"
      },
      "execution_count": 87,
      "outputs": [
        {
          "output_type": "stream",
          "name": "stdout",
          "text": [
            "Validation Accuracy:  0.9589\n",
            "Testing Accuracy: 0.9011\n"
          ]
        }
      ]
    },
    {
      "cell_type": "code",
      "source": [
        "from matplotlib import pyplot as plt\n",
        "plt.plot(history.history[\"loss\"], label=\"Training Loss\")\n",
        "plt.plot(history.history[\"val_loss\"], label=\"Validation Loss\")\n",
        "plt.legend()\n",
        "plt.show()\n",
        "from matplotlib import pyplot as plt\n",
        "plt.plot(history.history[\"accuracy\"], label=\"Training accuracy\")\n",
        "plt.plot(history.history[\"val_accuracy\"], label=\"Validation accuracy\")\n",
        "plt.legend()\n",
        "plt.show()"
      ],
      "metadata": {
        "colab": {
          "base_uri": "https://localhost:8080/",
          "height": 513
        },
        "id": "JkKl9CyQvFku",
        "outputId": "5de29de7-6859-4867-fcd6-48e78324a24f"
      },
      "execution_count": 88,
      "outputs": [
        {
          "output_type": "display_data",
          "data": {
            "image/png": "[encoded data removed]",
            "text/plain": [
              "<Figure size 432x288 with 1 Axes>"
            ]
          },
          "metadata": {
            "needs_background": "light"
          }
        },
        {
          "output_type": "display_data",
          "data": {
            "image/png": "[encoded data removed]",
            "text/plain": [
              "<Figure size 432x288 with 1 Axes>"
            ]
          },
          "metadata": {
            "needs_background": "light"
          }
        }
      ]
    }
  ]
}