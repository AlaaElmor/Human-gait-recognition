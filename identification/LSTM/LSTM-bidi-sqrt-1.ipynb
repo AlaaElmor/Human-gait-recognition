{
 "cells": [
  {
   "cell_type": "code",
   "execution_count": 1,
   "id": "490615f9",
   "metadata": {},
   "outputs": [],
   "source": [
    "from numpy import mean\n",
    "from numpy import std\n",
    "from numpy import dstack\n",
    "from numpy import save, load\n",
    "from pandas import read_csv\n",
    "from sklearn.preprocessing import StandardScaler\n",
    "from tensorflow.keras.models import Sequential\n",
    "from tensorflow.keras.layers import Dense\n",
    "from tensorflow.keras.layers import Flatten\n",
    "from tensorflow.keras.layers import Dropout\n",
    "from tensorflow.keras.layers import Bidirectional\n",
    "from tensorflow.keras import Model\n",
    "from tensorflow.keras.layers import LSTM, Conv1D, concatenate,GlobalMaxPooling1D,TimeDistributed, MaxPooling1D\n",
    "from tensorflow.keras.utils import to_categorical\n",
    "#from matplotlib import pyplot\n",
    "from tensorflow.keras import regularizers\n",
    "import tensorflow as tf\n",
    "#physical_devices = tf.config.list_physical_devices('GPU')\n",
    "#tf.config.experimental.set_memory_growth(physical_devices[0], True)"
   ]
  },
  {
   "cell_type": "code",
   "execution_count": 2,
   "id": "8cbb2692",
   "metadata": {},
   "outputs": [
    {
     "name": "stdout",
     "output_type": "stream",
     "text": [
      "(33104, 128, 6) (33104, 118) (3740, 128, 6) (3740, 118)\n"
     ]
    }
   ],
   "source": [
    "X_train = load('trainX1.npy')\n",
    "X_test = load('testX1.npy')\n",
    "y_train = load('trainY1.npy')\n",
    "y_test = load('testY1.npy')\n",
    "print(X_train.shape, y_train.shape, X_test.shape, y_test.shape)"
   ]
  },
  {
   "cell_type": "code",
   "execution_count": 3,
   "id": "55e3f033",
   "metadata": {},
   "outputs": [],
   "source": [
    "from sklearn.model_selection import train_test_split\n",
    "X_training, X_validation, y_training, y_validation = train_test_split(X_train, y_train, test_size=0.20, random_state=42)"
   ]
  },
  {
   "cell_type": "markdown",
   "id": "8f81ff02",
   "metadata": {},
   "source": [
    "# 1-LSTM"
   ]
  },
  {
   "cell_type": "code",
   "execution_count": 4,
   "id": "5392b512",
   "metadata": {},
   "outputs": [],
   "source": [
    "n_timesteps, n_features, n_outputs = X_train.shape[1], X_train.shape[2], y_train.shape[1]"
   ]
  },
  {
   "cell_type": "code",
   "execution_count": 5,
   "id": "e0ef7473",
   "metadata": {},
   "outputs": [
    {
     "name": "stdout",
     "output_type": "stream",
     "text": [
      "Model: \"sequential\"\n",
      "_________________________________________________________________\n",
      "Layer (type)                 Output Shape              Param #   \n",
      "=================================================================\n",
      "bidirectional (Bidirectional (None, 512)               538624    \n",
      "_________________________________________________________________\n",
      "dense (Dense)                (None, 256)               131328    \n",
      "_________________________________________________________________\n",
      "dropout (Dropout)            (None, 256)               0         \n",
      "_________________________________________________________________\n",
      "dense_1 (Dense)              (None, 128)               32896     \n",
      "_________________________________________________________________\n",
      "dense_2 (Dense)              (None, 118)               15222     \n",
      "=================================================================\n",
      "Total params: 718,070\n",
      "Trainable params: 718,070\n",
      "Non-trainable params: 0\n",
      "_________________________________________________________________\n"
     ]
    }
   ],
   "source": [
    "model1 = Sequential()\n",
    "#forward_layer =LSTM(500,input_shape=(n_timesteps,n_features),return_sequences=True)\n",
    "#backward_layer =LSTM(500,activation='relu',return_sequences=True,go_backwards=True)\n",
    "#model1.add(Bidirectional(LSTM(500, input_shape=(n_timesteps,n_features))))\n",
    "#model1.add(Bidirectional(LSTM(500, input_shape=(n_timesteps,n_features))))\n",
    "model1.add(Bidirectional(LSTM(256, return_sequences=False), input_shape=(n_timesteps,n_features)))\n",
    "#model1.add(Bidirectional(LSTM(500)))\n",
    "model1.add(Dense(256, activation='relu'))\n",
    "model1.add(Dropout(0.1))\n",
    "model1.add(Dense(128, activation='relu'))\n",
    "#model1.add(Dropout(0.1))\n",
    "#model1.add(Dense(100, activation='relu'))\n",
    "model1.add(Dense(n_outputs, activation='softmax'))\n",
    "model1.compile(loss='mse', optimizer='adam', metrics=['accuracy'])\n",
    "model1.summary()\n",
    "callbacks = [tf.keras.callbacks.EarlyStopping(patience=10, restore_best_weights=True)]"
   ]
  },
  {
   "cell_type": "code",
   "execution_count": 7,
   "id": "c0e2af0f",
   "metadata": {},
   "outputs": [
    {
     "name": "stdout",
     "output_type": "stream",
     "text": [
      "Epoch 1/200\n",
      "207/207 [==============================] - 551s 3s/step - loss: 0.0029 - accuracy: 0.7547 - val_loss: 0.0019 - val_accuracy: 0.8395\n",
      "Epoch 2/200\n",
      "207/207 [==============================] - 1955s 9s/step - loss: 0.0015 - accuracy: 0.8741 - val_loss: 0.0012 - val_accuracy: 0.9021\n",
      "Epoch 3/200\n",
      "207/207 [==============================] - 931s 4s/step - loss: 0.0011 - accuracy: 0.9104 - val_loss: 0.0011 - val_accuracy: 0.9056\n",
      "Epoch 4/200\n",
      "207/207 [==============================] - 598s 3s/step - loss: 8.8597e-04 - accuracy: 0.9259 - val_loss: 9.2869e-04 - val_accuracy: 0.9222\n",
      "Epoch 5/200\n",
      "207/207 [==============================] - 459s 2s/step - loss: 7.1712e-04 - accuracy: 0.9400 - val_loss: 7.2160e-04 - val_accuracy: 0.9393\n",
      "Epoch 6/200\n",
      "207/207 [==============================] - 456s 2s/step - loss: 5.7612e-04 - accuracy: 0.9524 - val_loss: 6.2616e-04 - val_accuracy: 0.9476\n",
      "Epoch 7/200\n",
      "207/207 [==============================] - 467s 2s/step - loss: 5.2704e-04 - accuracy: 0.9565 - val_loss: 6.2511e-04 - val_accuracy: 0.9485\n",
      "Epoch 8/200\n",
      "207/207 [==============================] - 468s 2s/step - loss: 4.6739e-04 - accuracy: 0.9607 - val_loss: 6.3045e-04 - val_accuracy: 0.9480\n",
      "Epoch 9/200\n",
      "207/207 [==============================] - 463s 2s/step - loss: 4.1222e-04 - accuracy: 0.9650 - val_loss: 5.0778e-04 - val_accuracy: 0.9570\n",
      "Epoch 10/200\n",
      "207/207 [==============================] - 460s 2s/step - loss: 4.0353e-04 - accuracy: 0.9662 - val_loss: 5.2098e-04 - val_accuracy: 0.9560\n",
      "Epoch 11/200\n",
      "207/207 [==============================] - 450s 2s/step - loss: 3.7813e-04 - accuracy: 0.9681 - val_loss: 5.0003e-04 - val_accuracy: 0.9585\n",
      "Epoch 12/200\n",
      "207/207 [==============================] - 459s 2s/step - loss: 3.4692e-04 - accuracy: 0.9698 - val_loss: 4.8859e-04 - val_accuracy: 0.9597\n",
      "Epoch 13/200\n",
      "207/207 [==============================] - 451s 2s/step - loss: 3.2527e-04 - accuracy: 0.9727 - val_loss: 5.2141e-04 - val_accuracy: 0.9580\n",
      "Epoch 14/200\n",
      "207/207 [==============================] - 464s 2s/step - loss: 2.9997e-04 - accuracy: 0.9749 - val_loss: 4.5770e-04 - val_accuracy: 0.9610\n",
      "Epoch 15/200\n",
      "207/207 [==============================] - 449s 2s/step - loss: 2.4901e-04 - accuracy: 0.9789 - val_loss: 3.8746e-04 - val_accuracy: 0.9675\n",
      "Epoch 16/200\n",
      "207/207 [==============================] - 449s 2s/step - loss: 2.8103e-04 - accuracy: 0.9768 - val_loss: 5.6316e-04 - val_accuracy: 0.9527\n",
      "Epoch 17/200\n",
      "207/207 [==============================] - 458s 2s/step - loss: 3.1424e-04 - accuracy: 0.9747 - val_loss: 4.2439e-04 - val_accuracy: 0.9647\n",
      "Epoch 18/200\n",
      "207/207 [==============================] - 449s 2s/step - loss: 2.3614e-04 - accuracy: 0.9803 - val_loss: 4.1925e-04 - val_accuracy: 0.9659\n",
      "Epoch 19/200\n",
      "207/207 [==============================] - 459s 2s/step - loss: 2.1392e-04 - accuracy: 0.9823 - val_loss: 3.6832e-04 - val_accuracy: 0.9693\n",
      "Epoch 20/200\n",
      "207/207 [==============================] - 448s 2s/step - loss: 1.7616e-04 - accuracy: 0.9853 - val_loss: 3.6527e-04 - val_accuracy: 0.9699\n",
      "Epoch 21/200\n",
      "207/207 [==============================] - 459s 2s/step - loss: 1.9900e-04 - accuracy: 0.9835 - val_loss: 3.9294e-04 - val_accuracy: 0.9678\n",
      "Epoch 22/200\n",
      "207/207 [==============================] - 457s 2s/step - loss: 1.8773e-04 - accuracy: 0.9846 - val_loss: 4.6324e-04 - val_accuracy: 0.9628\n",
      "Epoch 23/200\n",
      "207/207 [==============================] - 451s 2s/step - loss: 2.0069e-04 - accuracy: 0.9832 - val_loss: 3.9570e-04 - val_accuracy: 0.9678\n",
      "Epoch 24/200\n",
      "207/207 [==============================] - 457s 2s/step - loss: 1.6564e-04 - accuracy: 0.9869 - val_loss: 3.5265e-04 - val_accuracy: 0.9705\n",
      "Epoch 25/200\n",
      "207/207 [==============================] - 447s 2s/step - loss: 1.4132e-04 - accuracy: 0.9884 - val_loss: 4.2315e-04 - val_accuracy: 0.9669\n",
      "Epoch 26/200\n",
      "207/207 [==============================] - 457s 2s/step - loss: 1.6273e-04 - accuracy: 0.9871 - val_loss: 3.9995e-04 - val_accuracy: 0.9684\n",
      "Epoch 27/200\n",
      "207/207 [==============================] - 447s 2s/step - loss: 1.4025e-04 - accuracy: 0.9889 - val_loss: 3.5964e-04 - val_accuracy: 0.9707\n",
      "Epoch 28/200\n",
      "207/207 [==============================] - 458s 2s/step - loss: 1.3478e-04 - accuracy: 0.9888 - val_loss: 3.5355e-04 - val_accuracy: 0.9719\n",
      "Epoch 29/200\n",
      "207/207 [==============================] - 446s 2s/step - loss: 1.2897e-04 - accuracy: 0.9894 - val_loss: 3.5092e-04 - val_accuracy: 0.9721\n",
      "Epoch 30/200\n",
      "207/207 [==============================] - 450s 2s/step - loss: 1.2814e-04 - accuracy: 0.9898 - val_loss: 4.1495e-04 - val_accuracy: 0.9680\n",
      "Epoch 31/200\n",
      "207/207 [==============================] - 456s 2s/step - loss: 1.3458e-04 - accuracy: 0.9894 - val_loss: 3.8322e-04 - val_accuracy: 0.9689\n",
      "Epoch 32/200\n",
      "207/207 [==============================] - 449s 2s/step - loss: 1.4738e-04 - accuracy: 0.9883 - val_loss: 3.6528e-04 - val_accuracy: 0.9713\n",
      "Epoch 33/200\n",
      "207/207 [==============================] - 471s 2s/step - loss: 1.1442e-04 - accuracy: 0.9909 - val_loss: 3.1572e-04 - val_accuracy: 0.9758\n",
      "Epoch 34/200\n",
      "207/207 [==============================] - 452s 2s/step - loss: 1.1698e-04 - accuracy: 0.9904 - val_loss: 3.0592e-04 - val_accuracy: 0.9754\n",
      "Epoch 35/200\n",
      "207/207 [==============================] - 463s 2s/step - loss: 1.1636e-04 - accuracy: 0.9908 - val_loss: 4.2889e-04 - val_accuracy: 0.9659\n",
      "Epoch 36/200\n",
      "207/207 [==============================] - 456s 2s/step - loss: 8.3034e-05 - accuracy: 0.9933 - val_loss: 3.5994e-04 - val_accuracy: 0.9727\n",
      "Epoch 37/200\n",
      "207/207 [==============================] - 452s 2s/step - loss: 1.1162e-04 - accuracy: 0.9909 - val_loss: 3.7043e-04 - val_accuracy: 0.9707\n",
      "Epoch 38/200\n",
      "207/207 [==============================] - 469s 2s/step - loss: 1.1966e-04 - accuracy: 0.9907 - val_loss: 4.1169e-04 - val_accuracy: 0.9665\n",
      "Epoch 39/200\n",
      "207/207 [==============================] - 450s 2s/step - loss: 1.1270e-04 - accuracy: 0.9911 - val_loss: 3.2836e-04 - val_accuracy: 0.9742\n",
      "Epoch 40/200\n",
      "207/207 [==============================] - 459s 2s/step - loss: 8.1185e-05 - accuracy: 0.9934 - val_loss: 3.2615e-04 - val_accuracy: 0.9734\n",
      "Epoch 41/200\n",
      "207/207 [==============================] - 449s 2s/step - loss: 7.8220e-05 - accuracy: 0.9938 - val_loss: 3.1508e-04 - val_accuracy: 0.9739\n",
      "Epoch 42/200\n",
      "207/207 [==============================] - 465s 2s/step - loss: 6.8457e-05 - accuracy: 0.9945 - val_loss: 3.1685e-04 - val_accuracy: 0.9754\n",
      "Epoch 43/200\n",
      "207/207 [==============================] - 454s 2s/step - loss: 9.3352e-05 - accuracy: 0.9923 - val_loss: 3.8876e-04 - val_accuracy: 0.9689\n",
      "Epoch 44/200\n",
      "207/207 [==============================] - 454s 2s/step - loss: 1.3284e-04 - accuracy: 0.9890 - val_loss: 3.8473e-04 - val_accuracy: 0.9702\n"
     ]
    }
   ],
   "source": [
    "history = model1.fit(X_training, y_training, epochs=200, verbose=True, validation_data=(X_validation, y_validation), batch_size=128,callbacks=callbacks)"
   ]
  },
  {
   "cell_type": "code",
   "execution_count": 8,
   "id": "f8b825ed",
   "metadata": {},
   "outputs": [
    {
     "name": "stdout",
     "output_type": "stream",
     "text": [
      "Validation Accuracy:  0.9754\n",
      "Testing Accuracy: 0.9056\n"
     ]
    }
   ],
   "source": [
    "loss, accuracy = model1.evaluate(X_validation, y_validation, verbose=False)\n",
    "print(\"Validation Accuracy:  {:.4f}\".format(accuracy))\n",
    "loss, accuracy = model1.evaluate(X_test, y_test, verbose=False)\n",
    "print(\"Testing Accuracy: {:.4f}\".format(accuracy))"
   ]
  },
  {
   "cell_type": "code",
   "execution_count": null,
   "id": "1f0da50f",
   "metadata": {},
   "outputs": [],
   "source": []
  },
  {
   "cell_type": "code",
   "execution_count": null,
   "id": "88a20442",
   "metadata": {},
   "outputs": [],
   "source": []
  }
 ],
 "metadata": {
  "kernelspec": {
   "display_name": "Python 3 (ipykernel)",
   "language": "python",
   "name": "python3"
  },
  "language_info": {
   "codemirror_mode": {
    "name": "ipython",
    "version": 3
   },
   "file_extension": ".py",
   "mimetype": "text/x-python",
   "name": "python",
   "nbconvert_exporter": "python",
   "pygments_lexer": "ipython3",
   "version": "3.9.7"
  }
 },
 "nbformat": 4,
 "nbformat_minor": 5
}
