{
 "cells": [
  {
   "cell_type": "code",
   "execution_count": 1,
   "id": "c7b42542",
   "metadata": {},
   "outputs": [],
   "source": [
    "from numpy import mean\n",
    "from numpy import std\n",
    "from numpy import dstack\n",
    "from numpy import save, load\n",
    "from pandas import read_csv\n",
    "from sklearn.preprocessing import StandardScaler\n",
    "from tensorflow.keras.models import Sequential\n",
    "from tensorflow.keras.layers import Dense\n",
    "from tensorflow.keras.layers import Flatten\n",
    "from tensorflow.keras.layers import Dropout\n",
    "from tensorflow.keras import Model\n",
    "from tensorflow.keras.layers import LSTM, Conv1D, concatenate,GlobalMaxPooling1D,TimeDistributed, MaxPooling1D\n",
    "from tensorflow.keras.utils import to_categorical\n",
    "from tensorflow.keras import regularizers\n",
    "import tensorflow as tf"
   ]
  },
  {
   "cell_type": "code",
   "execution_count": 2,
   "id": "4356eb17",
   "metadata": {},
   "outputs": [
    {
     "name": "stdout",
     "output_type": "stream",
     "text": [
      "(33104, 128, 6) (33104, 118) (3740, 128, 6) (3740, 118)\n"
     ]
    }
   ],
   "source": [
    "X_train = load('trainX1.npy')\n",
    "X_test = load('testX1.npy')\n",
    "y_train = load('trainY1.npy')\n",
    "y_test = load('testY1.npy')\n",
    "print(X_train.shape, y_train.shape, X_test.shape, y_test.shape)"
   ]
  },
  {
   "cell_type": "code",
   "execution_count": 3,
   "id": "0b8f3d76",
   "metadata": {},
   "outputs": [],
   "source": [
    "from sklearn.model_selection import train_test_split\n",
    "X_training, X_validation, y_training, y_validation = train_test_split(X_train, y_train, test_size=0.20, random_state=42)"
   ]
  },
  {
   "cell_type": "code",
   "execution_count": 4,
   "id": "52b2813d",
   "metadata": {},
   "outputs": [],
   "source": [
    "n_timesteps, n_features, n_outputs = X_train.shape[1], X_train.shape[2], y_train.shape[1]"
   ]
  },
  {
   "cell_type": "code",
   "execution_count": 5,
   "id": "51a0ac6a",
   "metadata": {},
   "outputs": [
    {
     "name": "stdout",
     "output_type": "stream",
     "text": [
      "Model: \"sequential\"\n",
      "_________________________________________________________________\n",
      "Layer (type)                 Output Shape              Param #   \n",
      "=================================================================\n",
      "lstm (LSTM)                  (None, 512)               1062912   \n",
      "_________________________________________________________________\n",
      "dense (Dense)                (None, 256)               131328    \n",
      "_________________________________________________________________\n",
      "dropout (Dropout)            (None, 256)               0         \n",
      "_________________________________________________________________\n",
      "dense_1 (Dense)              (None, 128)               32896     \n",
      "_________________________________________________________________\n",
      "dense_2 (Dense)              (None, 118)               15222     \n",
      "=================================================================\n",
      "Total params: 1,242,358\n",
      "Trainable params: 1,242,358\n",
      "Non-trainable params: 0\n",
      "_________________________________________________________________\n"
     ]
    }
   ],
   "source": [
    "model1 = Sequential()\n",
    "model1.add(LSTM(512, input_shape=(n_timesteps,n_features)))\n",
    "model1.add(Dense(256, activation='relu'))\n",
    "model1.add(Dropout(0.1))\n",
    "model1.add(Dense(128, activation='relu'))\n",
    "model1.add(Dense(n_outputs, activation='softmax'))\n",
    "model1.compile(loss='categorical_crossentropy', optimizer='adam', metrics=['accuracy'])\n",
    "model1.summary()\n",
    "callbacks = [tf.keras.callbacks.EarlyStopping(patience=5, restore_best_weights=True)]"
   ]
  },
  {
   "cell_type": "code",
   "execution_count": 6,
   "id": "b77596da",
   "metadata": {},
   "outputs": [
    {
     "name": "stdout",
     "output_type": "stream",
     "text": [
      "Epoch 1/200\n",
      "207/207 [==============================] - 1219s 6s/step - loss: 2.2023 - accuracy: 0.4553 - val_loss: 0.8442 - val_accuracy: 0.7700\n",
      "Epoch 2/200\n",
      "207/207 [==============================] - 1226s 6s/step - loss: 0.5806 - accuracy: 0.8447 - val_loss: 0.4439 - val_accuracy: 0.8849\n",
      "Epoch 3/200\n",
      "207/207 [==============================] - 1235s 6s/step - loss: 0.4006 - accuracy: 0.8937 - val_loss: 0.3611 - val_accuracy: 0.9107\n",
      "Epoch 4/200\n",
      "207/207 [==============================] - 1237s 6s/step - loss: 0.2707 - accuracy: 0.9295 - val_loss: 0.3227 - val_accuracy: 0.9178\n",
      "Epoch 5/200\n",
      "207/207 [==============================] - 1242s 6s/step - loss: 0.2174 - accuracy: 0.9416 - val_loss: 0.2439 - val_accuracy: 0.9394\n",
      "Epoch 6/200\n",
      "207/207 [==============================] - 1249s 6s/step - loss: 0.1717 - accuracy: 0.9529 - val_loss: 0.2237 - val_accuracy: 0.9471\n",
      "Epoch 7/200\n",
      "207/207 [==============================] - 1244s 6s/step - loss: 0.1541 - accuracy: 0.9562 - val_loss: 0.2331 - val_accuracy: 0.9426\n",
      "Epoch 8/200\n",
      "207/207 [==============================] - 1244s 6s/step - loss: 0.1264 - accuracy: 0.9637 - val_loss: 0.2111 - val_accuracy: 0.9494\n",
      "Epoch 9/200\n",
      "207/207 [==============================] - 1258s 6s/step - loss: 0.1163 - accuracy: 0.9669 - val_loss: 0.2006 - val_accuracy: 0.9517\n",
      "Epoch 10/200\n",
      "207/207 [==============================] - 1253s 6s/step - loss: 0.0930 - accuracy: 0.9723 - val_loss: 0.2118 - val_accuracy: 0.9512\n",
      "Epoch 11/200\n",
      "207/207 [==============================] - 1256s 6s/step - loss: 0.1119 - accuracy: 0.9681 - val_loss: 0.1840 - val_accuracy: 0.9567\n",
      "Epoch 12/200\n",
      "207/207 [==============================] - 1252s 6s/step - loss: 0.0784 - accuracy: 0.9776 - val_loss: 0.1723 - val_accuracy: 0.9622\n",
      "Epoch 13/200\n",
      "207/207 [==============================] - 1244s 6s/step - loss: 0.0733 - accuracy: 0.9784 - val_loss: 0.1910 - val_accuracy: 0.9571\n",
      "Epoch 14/200\n",
      "207/207 [==============================] - 1247s 6s/step - loss: 0.0725 - accuracy: 0.9786 - val_loss: 0.1873 - val_accuracy: 0.9615\n",
      "Epoch 15/200\n",
      "207/207 [==============================] - 1258s 6s/step - loss: 0.0495 - accuracy: 0.9853 - val_loss: 0.1900 - val_accuracy: 0.9622\n",
      "Epoch 16/200\n",
      "207/207 [==============================] - 1249s 6s/step - loss: 0.0521 - accuracy: 0.9850 - val_loss: 0.1929 - val_accuracy: 0.9586\n",
      "Epoch 17/200\n",
      "207/207 [==============================] - 1255s 6s/step - loss: 0.0537 - accuracy: 0.9838 - val_loss: 0.1704 - val_accuracy: 0.9677\n",
      "Epoch 18/200\n",
      "207/207 [==============================] - 1254s 6s/step - loss: 0.0414 - accuracy: 0.9885 - val_loss: 0.1630 - val_accuracy: 0.9684\n",
      "Epoch 19/200\n",
      "207/207 [==============================] - 1247s 6s/step - loss: 0.0389 - accuracy: 0.9881 - val_loss: 0.2185 - val_accuracy: 0.9562\n",
      "Epoch 20/200\n",
      "207/207 [==============================] - 1240s 6s/step - loss: 0.0515 - accuracy: 0.9849 - val_loss: 0.1820 - val_accuracy: 0.9630\n",
      "Epoch 21/200\n",
      "207/207 [==============================] - 993s 5s/step - loss: 0.0287 - accuracy: 0.9923 - val_loss: 0.1550 - val_accuracy: 0.9722\n",
      "Epoch 22/200\n",
      "207/207 [==============================] - 970s 5s/step - loss: 0.0273 - accuracy: 0.9922 - val_loss: 0.1679 - val_accuracy: 0.9689\n",
      "Epoch 23/200\n",
      "207/207 [==============================] - 955s 5s/step - loss: 0.0369 - accuracy: 0.9893 - val_loss: 0.1902 - val_accuracy: 0.9618\n",
      "Epoch 24/200\n",
      "207/207 [==============================] - 784s 4s/step - loss: 0.0388 - accuracy: 0.9885 - val_loss: 0.1791 - val_accuracy: 0.9672\n",
      "Epoch 25/200\n",
      "207/207 [==============================] - 689s 3s/step - loss: 0.0377 - accuracy: 0.9894 - val_loss: 0.2312 - val_accuracy: 0.9518\n",
      "Epoch 26/200\n",
      "207/207 [==============================] - 697s 3s/step - loss: 0.0395 - accuracy: 0.9878 - val_loss: 0.1744 - val_accuracy: 0.9656\n"
     ]
    }
   ],
   "source": [
    "history = model1.fit(X_training, y_training, epochs=200, verbose=True, validation_data=(X_validation, y_validation), batch_size=128,callbacks=callbacks)"
   ]
  },
  {
   "cell_type": "code",
   "execution_count": 7,
   "id": "b714bbec",
   "metadata": {},
   "outputs": [
    {
     "name": "stdout",
     "output_type": "stream",
     "text": [
      "Validation Accuracy:  0.9722\n",
      "Testing Accuracy: 0.9104\n"
     ]
    }
   ],
   "source": [
    "loss, accuracy = model1.evaluate(X_validation, y_validation, verbose=False)\n",
    "print(\"Validation Accuracy:  {:.4f}\".format(accuracy))\n",
    "loss, accuracy = model1.evaluate(X_test, y_test, verbose=False)\n",
    "print(\"Testing Accuracy: {:.4f}\".format(accuracy))"
   ]
  },
  {
   "cell_type": "code",
   "execution_count": null,
   "id": "7d4ed2ad",
   "metadata": {},
   "outputs": [],
   "source": []
  },
  {
   "cell_type": "code",
   "execution_count": null,
   "id": "c155057f",
   "metadata": {},
   "outputs": [],
   "source": []
  }
 ],
 "metadata": {
  "kernelspec": {
   "display_name": "Python 3 (ipykernel)",
   "language": "python",
   "name": "python3"
  },
  "language_info": {
   "codemirror_mode": {
    "name": "ipython",
    "version": 3
   },
   "file_extension": ".py",
   "mimetype": "text/x-python",
   "name": "python",
   "nbconvert_exporter": "python",
   "pygments_lexer": "ipython3",
   "version": "3.9.7"
  }
 },
 "nbformat": 4,
 "nbformat_minor": 5
}
