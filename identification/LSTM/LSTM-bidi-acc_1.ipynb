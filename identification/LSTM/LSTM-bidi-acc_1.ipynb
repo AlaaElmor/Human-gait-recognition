{
 "cells": [
  {
   "cell_type": "code",
   "execution_count": 2,
   "id": "490615f9",
   "metadata": {},
   "outputs": [],
   "source": [
    "from numpy import mean\n",
    "from numpy import std\n",
    "from numpy import dstack\n",
    "from numpy import save, load\n",
    "from pandas import read_csv\n",
    "from sklearn.preprocessing import StandardScaler\n",
    "from tensorflow.keras.models import Sequential\n",
    "from tensorflow.keras.layers import Dense\n",
    "from tensorflow.keras.layers import Flatten\n",
    "from tensorflow.keras.layers import Dropout\n",
    "from tensorflow.keras.layers import Bidirectional\n",
    "from tensorflow.keras import Model\n",
    "from tensorflow.keras.layers import LSTM, Conv1D, concatenate,GlobalMaxPooling1D,TimeDistributed, MaxPooling1D\n",
    "from tensorflow.keras.utils import to_categorical\n",
    "#from matplotlib import pyplot\n",
    "from tensorflow.keras import regularizers\n",
    "import tensorflow as tf\n",
    "#physical_devices = tf.config.list_physical_devices('GPU')\n",
    "#tf.config.experimental.set_memory_growth(physical_devices[0], True)"
   ]
  },
  {
   "cell_type": "code",
   "execution_count": 3,
   "id": "8cbb2692",
   "metadata": {},
   "outputs": [
    {
     "name": "stdout",
     "output_type": "stream",
     "text": [
      "(33104, 128, 3) (33104, 118) (3740, 128, 3) (3740, 118)\n"
     ]
    }
   ],
   "source": [
    "X_train = load('trainXacc.npy')\n",
    "X_test = load('testXacc.npy')\n",
    "y_train = load('trainYacc.npy')\n",
    "y_test = load('testYacc.npy')\n",
    "print(X_train.shape, y_train.shape, X_test.shape, y_test.shape)"
   ]
  },
  {
   "cell_type": "code",
   "execution_count": 4,
   "id": "55e3f033",
   "metadata": {},
   "outputs": [],
   "source": [
    "from sklearn.model_selection import train_test_split\n",
    "X_training, X_validation, y_training, y_validation = train_test_split(X_train, y_train, test_size=0.20, random_state=42)"
   ]
  },
  {
   "cell_type": "markdown",
   "id": "8f81ff02",
   "metadata": {},
   "source": [
    "# 1-LSTM"
   ]
  },
  {
   "cell_type": "code",
   "execution_count": 5,
   "id": "5392b512",
   "metadata": {},
   "outputs": [],
   "source": [
    "n_timesteps, n_features, n_outputs = X_train.shape[1], X_train.shape[2], y_train.shape[1]"
   ]
  },
  {
   "cell_type": "code",
   "execution_count": 6,
   "id": "e0ef7473",
   "metadata": {},
   "outputs": [
    {
     "name": "stdout",
     "output_type": "stream",
     "text": [
      "Model: \"sequential\"\n",
      "_________________________________________________________________\n",
      "Layer (type)                 Output Shape              Param #   \n",
      "=================================================================\n",
      "bidirectional (Bidirectional (None, 512)               532480    \n",
      "_________________________________________________________________\n",
      "dense (Dense)                (None, 256)               131328    \n",
      "_________________________________________________________________\n",
      "dropout (Dropout)            (None, 256)               0         \n",
      "_________________________________________________________________\n",
      "dense_1 (Dense)              (None, 256)               65792     \n",
      "_________________________________________________________________\n",
      "dense_2 (Dense)              (None, 118)               30326     \n",
      "=================================================================\n",
      "Total params: 759,926\n",
      "Trainable params: 759,926\n",
      "Non-trainable params: 0\n",
      "_________________________________________________________________\n"
     ]
    }
   ],
   "source": [
    "model1 = Sequential()\n",
    "#forward_layer =LSTM(500,input_shape=(n_timesteps,n_features),return_sequences=True)\n",
    "#backward_layer =LSTM(500,activation='relu',return_sequences=True,go_backwards=True)\n",
    "#model1.add(Bidirectional(LSTM(500, input_shape=(n_timesteps,n_features))))\n",
    "#model1.add(Bidirectional(LSTM(500, input_shape=(n_timesteps,n_features))))\n",
    "model1.add(Bidirectional(LSTM(256, return_sequences=False), input_shape=(n_timesteps,n_features)))\n",
    "#model1.add(Bidirectional(LSTM(500)))\n",
    "model1.add(Dense(256, activation='relu'))\n",
    "model1.add(Dropout(0.1))\n",
    "model1.add(Dense(256, activation='relu'))\n",
    "#model1.add(Dropout(0.1))\n",
    "#model1.add(Dense(100, activation='relu'))\n",
    "model1.add(Dense(n_outputs, activation='softmax'))\n",
    "model1.compile(loss='categorical_crossentropy', optimizer='adam', metrics=['accuracy'])\n",
    "model1.summary()\n",
    "callbacks = [tf.keras.callbacks.EarlyStopping(patience=5, restore_best_weights=True)]"
   ]
  },
  {
   "cell_type": "code",
   "execution_count": 7,
   "id": "c0e2af0f",
   "metadata": {},
   "outputs": [
    {
     "name": "stdout",
     "output_type": "stream",
     "text": [
      "Epoch 1/200\n",
      "207/207 [==============================] - 1911s 9s/step - loss: 1.9289 - accuracy: 0.4938 - val_loss: 0.8367 - val_accuracy: 0.7682\n",
      "Epoch 2/200\n",
      "207/207 [==============================] - 1867s 9s/step - loss: 0.6202 - accuracy: 0.8275 - val_loss: 0.4674 - val_accuracy: 0.8769\n",
      "Epoch 3/200\n",
      "207/207 [==============================] - 1887s 9s/step - loss: 0.4060 - accuracy: 0.8860 - val_loss: 0.3457 - val_accuracy: 0.9080\n",
      "Epoch 4/200\n",
      "207/207 [==============================] - 1884s 9s/step - loss: 0.3031 - accuracy: 0.9124 - val_loss: 0.3228 - val_accuracy: 0.9122\n",
      "Epoch 5/200\n",
      "207/207 [==============================] - 1893s 9s/step - loss: 0.2418 - accuracy: 0.9317 - val_loss: 0.2677 - val_accuracy: 0.9248\n",
      "Epoch 6/200\n",
      "207/207 [==============================] - 1909s 9s/step - loss: 0.2032 - accuracy: 0.9408 - val_loss: 0.2598 - val_accuracy: 0.9326\n",
      "Epoch 7/200\n",
      "207/207 [==============================] - 1913s 9s/step - loss: 0.1789 - accuracy: 0.9464 - val_loss: 0.2278 - val_accuracy: 0.9376\n",
      "Epoch 8/200\n",
      "207/207 [==============================] - 1891s 9s/step - loss: 0.1494 - accuracy: 0.9540 - val_loss: 0.2166 - val_accuracy: 0.9431\n",
      "Epoch 9/200\n",
      "207/207 [==============================] - 1905s 9s/step - loss: 0.1406 - accuracy: 0.9577 - val_loss: 0.2216 - val_accuracy: 0.9405\n",
      "Epoch 10/200\n",
      "207/207 [==============================] - 1896s 9s/step - loss: 0.1134 - accuracy: 0.9654 - val_loss: 0.1974 - val_accuracy: 0.9483\n",
      "Epoch 11/200\n",
      "207/207 [==============================] - 1909s 9s/step - loss: 0.1061 - accuracy: 0.9677 - val_loss: 0.2114 - val_accuracy: 0.9438\n",
      "Epoch 12/200\n",
      "207/207 [==============================] - 1895s 9s/step - loss: 0.0923 - accuracy: 0.9716 - val_loss: 0.1919 - val_accuracy: 0.9533\n",
      "Epoch 13/200\n",
      "207/207 [==============================] - 1905s 9s/step - loss: 0.0923 - accuracy: 0.9718 - val_loss: 0.1983 - val_accuracy: 0.9509\n",
      "Epoch 14/200\n",
      "207/207 [==============================] - 1494s 7s/step - loss: 0.0777 - accuracy: 0.9745 - val_loss: 0.1912 - val_accuracy: 0.9523\n",
      "Epoch 15/200\n",
      "207/207 [==============================] - 1433s 7s/step - loss: 0.0669 - accuracy: 0.9796 - val_loss: 0.1912 - val_accuracy: 0.9511\n",
      "Epoch 16/200\n",
      "207/207 [==============================] - 1110s 5s/step - loss: 0.0752 - accuracy: 0.9758 - val_loss: 0.2202 - val_accuracy: 0.9456\n",
      "Epoch 17/200\n",
      "207/207 [==============================] - 958s 5s/step - loss: 0.0640 - accuracy: 0.9804 - val_loss: 0.1878 - val_accuracy: 0.9527\n",
      "Epoch 18/200\n",
      "207/207 [==============================] - 654s 3s/step - loss: 0.0489 - accuracy: 0.9849 - val_loss: 0.1993 - val_accuracy: 0.9526\n",
      "Epoch 19/200\n",
      "207/207 [==============================] - 480s 2s/step - loss: 0.0554 - accuracy: 0.9829 - val_loss: 0.1784 - val_accuracy: 0.9606\n",
      "Epoch 20/200\n",
      "207/207 [==============================] - 403s 2s/step - loss: 0.0374 - accuracy: 0.9885 - val_loss: 0.1813 - val_accuracy: 0.9580\n",
      "Epoch 21/200\n",
      "207/207 [==============================] - 198s 958ms/step - loss: 0.0544 - accuracy: 0.9823 - val_loss: 0.2166 - val_accuracy: 0.9511\n",
      "Epoch 22/200\n",
      "207/207 [==============================] - 197s 950ms/step - loss: 0.0670 - accuracy: 0.9792 - val_loss: 0.1989 - val_accuracy: 0.9560\n",
      "Epoch 23/200\n",
      "207/207 [==============================] - 197s 951ms/step - loss: 0.0400 - accuracy: 0.9873 - val_loss: 0.1725 - val_accuracy: 0.9625\n",
      "Epoch 24/200\n",
      "207/207 [==============================] - 197s 951ms/step - loss: 0.0363 - accuracy: 0.9884 - val_loss: 0.1647 - val_accuracy: 0.9636\n",
      "Epoch 25/200\n",
      "207/207 [==============================] - 382s 2s/step - loss: 0.0521 - accuracy: 0.9843 - val_loss: 0.1888 - val_accuracy: 0.9603\n",
      "Epoch 26/200\n",
      "207/207 [==============================] - 473s 2s/step - loss: 0.0323 - accuracy: 0.9902 - val_loss: 0.1685 - val_accuracy: 0.9627\n",
      "Epoch 27/200\n",
      "207/207 [==============================] - 470s 2s/step - loss: 0.0277 - accuracy: 0.9909 - val_loss: 0.1853 - val_accuracy: 0.9636\n",
      "Epoch 28/200\n",
      "207/207 [==============================] - 477s 2s/step - loss: 0.0359 - accuracy: 0.9887 - val_loss: 0.1757 - val_accuracy: 0.9639\n",
      "Epoch 29/200\n",
      "207/207 [==============================] - 477s 2s/step - loss: 0.0334 - accuracy: 0.9889 - val_loss: 0.1946 - val_accuracy: 0.9586\n"
     ]
    }
   ],
   "source": [
    "history = model1.fit(X_training, y_training, epochs=200, verbose=True, validation_data=(X_validation, y_validation), batch_size=128,callbacks=callbacks)"
   ]
  },
  {
   "cell_type": "code",
   "execution_count": 8,
   "id": "f8b825ed",
   "metadata": {},
   "outputs": [
    {
     "name": "stdout",
     "output_type": "stream",
     "text": [
      "Validation Accuracy:  0.9636\n",
      "Testing Accuracy: 0.8971\n"
     ]
    }
   ],
   "source": [
    "loss, accuracy = model1.evaluate(X_validation, y_validation, verbose=False)\n",
    "print(\"Validation Accuracy:  {:.4f}\".format(accuracy))\n",
    "loss, accuracy = model1.evaluate(X_test, y_test, verbose=False)\n",
    "print(\"Testing Accuracy: {:.4f}\".format(accuracy))"
   ]
  },
  {
   "cell_type": "code",
   "execution_count": null,
   "id": "1f0da50f",
   "metadata": {},
   "outputs": [],
   "source": []
  }
 ],
 "metadata": {
  "kernelspec": {
   "display_name": "Python 3 (ipykernel)",
   "language": "python",
   "name": "python3"
  },
  "language_info": {
   "codemirror_mode": {
    "name": "ipython",
    "version": 3
   },
   "file_extension": ".py",
   "mimetype": "text/x-python",
   "name": "python",
   "nbconvert_exporter": "python",
   "pygments_lexer": "ipython3",
   "version": "3.9.7"
  }
 },
 "nbformat": 4,
 "nbformat_minor": 5
}
