{
 "cells": [
  {
   "cell_type": "code",
   "execution_count": 1,
   "id": "490615f9",
   "metadata": {},
   "outputs": [],
   "source": [
    "from numpy import mean\n",
    "from numpy import std\n",
    "from numpy import dstack\n",
    "from numpy import save, load\n",
    "from pandas import read_csv\n",
    "from sklearn.preprocessing import StandardScaler\n",
    "from tensorflow.keras.models import Sequential\n",
    "from tensorflow.keras.layers import Dense\n",
    "from tensorflow.keras.layers import Flatten\n",
    "from tensorflow.keras.layers import Dropout\n",
    "from tensorflow.keras.layers import Bidirectional\n",
    "from tensorflow.keras import Model\n",
    "from tensorflow.keras.layers import LSTM, Conv1D, concatenate,GlobalMaxPooling1D,TimeDistributed, MaxPooling1D\n",
    "from tensorflow.keras.utils import to_categorical\n",
    "#from matplotlib import pyplot\n",
    "from tensorflow.keras import regularizers\n",
    "import tensorflow as tf\n",
    "#physical_devices = tf.config.list_physical_devices('GPU')\n",
    "#tf.config.experimental.set_memory_growth(physical_devices[0], True)"
   ]
  },
  {
   "cell_type": "code",
   "execution_count": 2,
   "id": "8cbb2692",
   "metadata": {},
   "outputs": [
    {
     "name": "stdout",
     "output_type": "stream",
     "text": [
      "(33104, 128, 3) (33104, 118) (3740, 128, 3) (3740, 118)\n"
     ]
    }
   ],
   "source": [
    "X_train = load('trainXacc1.npy')\n",
    "X_test = load('testXacc1.npy')\n",
    "y_train = load('trainYacc1.npy')\n",
    "y_test = load('testYacc1.npy')\n",
    "print(X_train.shape, y_train.shape, X_test.shape, y_test.shape)"
   ]
  },
  {
   "cell_type": "code",
   "execution_count": 3,
   "id": "55e3f033",
   "metadata": {},
   "outputs": [],
   "source": [
    "from sklearn.model_selection import train_test_split\n",
    "X_training, X_validation, y_training, y_validation = train_test_split(X_train, y_train, test_size=0.20, random_state=42)"
   ]
  },
  {
   "cell_type": "markdown",
   "id": "8f81ff02",
   "metadata": {},
   "source": [
    "# 1-LSTM"
   ]
  },
  {
   "cell_type": "code",
   "execution_count": 4,
   "id": "5392b512",
   "metadata": {},
   "outputs": [],
   "source": [
    "n_timesteps, n_features, n_outputs = X_train.shape[1], X_train.shape[2], y_train.shape[1]"
   ]
  },
  {
   "cell_type": "code",
   "execution_count": 5,
   "id": "e0ef7473",
   "metadata": {},
   "outputs": [
    {
     "name": "stdout",
     "output_type": "stream",
     "text": [
      "Model: \"sequential\"\n",
      "_________________________________________________________________\n",
      "Layer (type)                 Output Shape              Param #   \n",
      "=================================================================\n",
      "bidirectional (Bidirectional (None, 500)               508000    \n",
      "_________________________________________________________________\n",
      "dense (Dense)                (None, 340)               170340    \n",
      "_________________________________________________________________\n",
      "dropout (Dropout)            (None, 340)               0         \n",
      "_________________________________________________________________\n",
      "dense_1 (Dense)              (None, 100)               34100     \n",
      "_________________________________________________________________\n",
      "dense_2 (Dense)              (None, 118)               11918     \n",
      "=================================================================\n",
      "Total params: 724,358\n",
      "Trainable params: 724,358\n",
      "Non-trainable params: 0\n",
      "_________________________________________________________________\n"
     ]
    }
   ],
   "source": [
    "model1 = Sequential()\n",
    "#forward_layer =LSTM(500,input_shape=(n_timesteps,n_features),return_sequences=True)\n",
    "#backward_layer =LSTM(500,activation='relu',return_sequences=True,go_backwards=True)\n",
    "#model1.add(Bidirectional(LSTM(500, input_shape=(n_timesteps,n_features))))\n",
    "#model1.add(Bidirectional(LSTM(500, input_shape=(n_timesteps,n_features))))\n",
    "model1.add(Bidirectional(LSTM(250, return_sequences=False), input_shape=(n_timesteps,n_features)))\n",
    "#model1.add(Bidirectional(LSTM(500)))\n",
    "model1.add(Dense(340, activation='relu'))\n",
    "model1.add(Dropout(0.1))\n",
    "model1.add(Dense(100, activation='relu'))\n",
    "#model1.add(Dropout(0.1))\n",
    "#model1.add(Dense(100, activation='relu'))\n",
    "model1.add(Dense(n_outputs, activation='softmax'))\n",
    "model1.compile(loss='categorical_crossentropy', optimizer='adam', metrics=['accuracy'])\n",
    "model1.summary()"
   ]
  },
  {
   "cell_type": "code",
   "execution_count": 6,
   "id": "c0e2af0f",
   "metadata": {},
   "outputs": [],
   "source": [
    "history = model1.fit(X_training, y_training, epochs=10, verbose=False, validation_data=(X_validation, y_validation), batch_size=100)"
   ]
  },
  {
   "cell_type": "code",
   "execution_count": 7,
   "id": "f8b825ed",
   "metadata": {},
   "outputs": [
    {
     "name": "stdout",
     "output_type": "stream",
     "text": [
      "Validation Accuracy:  0.9041\n",
      "Testing Accuracy: 0.8176\n"
     ]
    }
   ],
   "source": [
    "loss, accuracy = model1.evaluate(X_validation, y_validation, verbose=False)\n",
    "print(\"Validation Accuracy:  {:.4f}\".format(accuracy))\n",
    "loss, accuracy = model1.evaluate(X_test, y_test, verbose=False)\n",
    "print(\"Testing Accuracy: {:.4f}\".format(accuracy))"
   ]
  },
  {
   "cell_type": "code",
   "execution_count": null,
   "id": "1f0da50f",
   "metadata": {},
   "outputs": [],
   "source": []
  }
 ],
 "metadata": {
  "kernelspec": {
   "display_name": "Python 3 (ipykernel)",
   "language": "python",
   "name": "python3"
  },
  "language_info": {
   "codemirror_mode": {
    "name": "ipython",
    "version": 3
   },
   "file_extension": ".py",
   "mimetype": "text/x-python",
   "name": "python",
   "nbconvert_exporter": "python",
   "pygments_lexer": "ipython3",
   "version": "3.9.7"
  }
 },
 "nbformat": 4,
 "nbformat_minor": 5
}
