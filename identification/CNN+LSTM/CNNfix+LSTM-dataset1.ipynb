{
  "nbformat": 4,
  "nbformat_minor": 0,
  "metadata": {
    "colab": {
      "name": "Untitled5.ipynb",
      "provenance": []
    },
    "kernelspec": {
      "name": "python3",
      "display_name": "Python 3"
    },
    "language_info": {
      "name": "python"
    },
    "accelerator": "GPU"
  },
  "cells": [
    {
      "cell_type": "code",
      "execution_count": 52,
      "metadata": {
        "colab": {
          "base_uri": "https://localhost:8080/"
        },
        "id": "RDZ6vXdUtrsp",
        "outputId": "6cedb5e9-2fc8-44bd-abb2-5f0169991784"
      },
      "outputs": [
        {
          "output_type": "stream",
          "name": "stdout",
          "text": [
            "Mounted at /content/drive\n",
            "Mounted at /content/gdrive\n",
            "(33104, 128, 6) (33104, 118) (3740, 128, 6) (3740, 118)\n"
          ]
        }
      ],
      "source": [
        "from google.colab import drive\n",
        "drive.mount('/content/drive')\n",
        "\n",
        "from google.colab import drive\n",
        "\n",
        "drive.mount('/content/gdrive')\n",
        "root_path = 'gdrive/My Drive/'  #change dir to your project folder\n",
        "\n",
        "import numpy as np\n",
        "X_train = np.load('gdrive/My Drive/dataset1/acc+gyr/trainX.npy')\n",
        "y_train = np.load('gdrive/My Drive/dataset1/acc+gyr/trainy.npy')\n",
        "X_test = np.load('gdrive/My Drive/dataset1/acc+gyr/testX.npy')\n",
        "y_test = np.load('gdrive/My Drive/dataset1/acc+gyr/testy.npy')\n",
        "print(X_train.shape, y_train.shape, X_test.shape, y_test.shape)"
      ]
    },
    {
      "cell_type": "code",
      "source": [
        "from numpy import mean\n",
        "from numpy import std\n",
        "from numpy import dstack\n",
        "from numpy import save, load\n",
        "from pandas import read_csv\n",
        "from tensorflow import keras\n",
        "from sklearn.preprocessing import StandardScaler\n",
        "from tensorflow.keras.models import Sequential\n",
        "from tensorflow.keras.layers import Dense , Input ,concatenate\n",
        "from tensorflow.keras.layers import Flatten\n",
        "from tensorflow.keras.layers import Dropout\n",
        "from tensorflow.keras import Model\n",
        "from tensorflow.keras.callbacks import EarlyStopping, ModelCheckpoint, ReduceLROnPlateau\n",
        "from tensorflow.keras.layers import LSTM, Conv1D, concatenate,GlobalMaxPooling1D,TimeDistributed, MaxPooling1D\n",
        "from tensorflow.keras.utils import to_categorical\n",
        "from tensorflow.keras.layers import concatenate\n",
        "from tensorflow.keras import regularizers"
      ],
      "metadata": {
        "id": "-Qkx_EZ2uxRJ"
      },
      "execution_count": 53,
      "outputs": []
    },
    {
      "cell_type": "code",
      "source": [
        "from sklearn.model_selection import train_test_split\n",
        "X_training, X_validation, y_training, y_validation = train_test_split(X_train, y_train, test_size=0.20, random_state=42)\n",
        "n_timesteps, n_features, n_outputs = X_train.shape[1], X_train.shape[2], y_train.shape[1]\n",
        "validation_data=(X_validation, y_validation)"
      ],
      "metadata": {
        "id": "QRMig4JduxUD"
      },
      "execution_count": 54,
      "outputs": []
    },
    {
      "cell_type": "code",
      "source": [
        "CNN_model= Sequential()\n",
        "CNN_model.add(Conv1D(filters=32, kernel_size=9, strides=2, activation='relu', input_shape=(n_timesteps,n_features)))\n",
        "CNN_model.add(MaxPooling1D(pool_size=2 ,strides=2))\n",
        "CNN_model.add(Dropout(0.5))\n",
        "CNN_model.add(Conv1D(filters=64, kernel_size=3, strides=1, activation='relu'))\n",
        "CNN_model.add(Conv1D(filters=128, kernel_size=3, strides=1, activation='relu'))\n",
        "CNN_model.add(MaxPooling1D(pool_size=2 ,strides=2))\n",
        "CNN_model.add(Dropout(0.5))\n",
        "CNN_model.add(Conv1D(filters=128, kernel_size=1, strides=1, activation='relu'))\n",
        "CNN_model.add(Flatten())\n",
        "CNN_model.add(Dense(n_outputs, activation='softmax'))\n",
        "CNN_model.summary()\n",
        "CNN_model.compile(loss='categorical_crossentropy', optimizer='adam', metrics=['accuracy'])\n",
        "callbacks = [keras.callbacks.EarlyStopping(patience=5, restore_best_weights=True)]\n",
        "CNN_model.fit(X_training, y_training, epochs=200, verbose=True, validation_data=(X_validation, y_validation), batch_size=128,callbacks=callbacks)"
      ],
      "metadata": {
        "colab": {
          "base_uri": "https://localhost:8080/"
        },
        "id": "Yt-4cl-yuxXF",
        "outputId": "051689b4-477a-4b66-aa88-63975bf605f7"
      },
      "execution_count": 55,
      "outputs": [
        {
          "output_type": "stream",
          "name": "stdout",
          "text": [
            "Model: \"sequential_18\"\n",
            "_________________________________________________________________\n",
            " Layer (type)                Output Shape              Param #   \n",
            "=================================================================\n",
            " conv1d_32 (Conv1D)          (None, 60, 32)            1760      \n",
            "                                                                 \n",
            " max_pooling1d_16 (MaxPoolin  (None, 30, 32)           0         \n",
            " g1D)                                                            \n",
            "                                                                 \n",
            " dropout_25 (Dropout)        (None, 30, 32)            0         \n",
            "                                                                 \n",
            " conv1d_33 (Conv1D)          (None, 28, 64)            6208      \n",
            "                                                                 \n",
            " conv1d_34 (Conv1D)          (None, 26, 128)           24704     \n",
            "                                                                 \n",
            " max_pooling1d_17 (MaxPoolin  (None, 13, 128)          0         \n",
            " g1D)                                                            \n",
            "                                                                 \n",
            " dropout_26 (Dropout)        (None, 13, 128)           0         \n",
            "                                                                 \n",
            " conv1d_35 (Conv1D)          (None, 13, 128)           16512     \n",
            "                                                                 \n",
            " flatten_8 (Flatten)         (None, 1664)              0         \n",
            "                                                                 \n",
            " dense_34 (Dense)            (None, 118)               196470    \n",
            "                                                                 \n",
            "=================================================================\n",
            "Total params: 245,654\n",
            "Trainable params: 245,654\n",
            "Non-trainable params: 0\n",
            "_________________________________________________________________\n",
            "Epoch 1/200\n",
            "207/207 [==============================] - 2s 7ms/step - loss: 2.4265 - accuracy: 0.4069 - val_loss: 0.7936 - val_accuracy: 0.8091\n",
            "Epoch 2/200\n",
            "207/207 [==============================] - 1s 6ms/step - loss: 0.7922 - accuracy: 0.7984 - val_loss: 0.4691 - val_accuracy: 0.8864\n",
            "Epoch 3/200\n",
            "207/207 [==============================] - 1s 5ms/step - loss: 0.5718 - accuracy: 0.8494 - val_loss: 0.3850 - val_accuracy: 0.9035\n",
            "Epoch 4/200\n",
            "207/207 [==============================] - 1s 6ms/step - loss: 0.4610 - accuracy: 0.8791 - val_loss: 0.3129 - val_accuracy: 0.9198\n",
            "Epoch 5/200\n",
            "207/207 [==============================] - 1s 6ms/step - loss: 0.3968 - accuracy: 0.8931 - val_loss: 0.3150 - val_accuracy: 0.9163\n",
            "Epoch 6/200\n",
            "207/207 [==============================] - 1s 6ms/step - loss: 0.3445 - accuracy: 0.9059 - val_loss: 0.2657 - val_accuracy: 0.9304\n",
            "Epoch 7/200\n",
            "207/207 [==============================] - 1s 5ms/step - loss: 0.3001 - accuracy: 0.9152 - val_loss: 0.2620 - val_accuracy: 0.9284\n",
            "Epoch 8/200\n",
            "207/207 [==============================] - 1s 6ms/step - loss: 0.2747 - accuracy: 0.9212 - val_loss: 0.2446 - val_accuracy: 0.9384\n",
            "Epoch 9/200\n",
            "207/207 [==============================] - 1s 6ms/step - loss: 0.2526 - accuracy: 0.9266 - val_loss: 0.2199 - val_accuracy: 0.9429\n",
            "Epoch 10/200\n",
            "207/207 [==============================] - 1s 6ms/step - loss: 0.2325 - accuracy: 0.9317 - val_loss: 0.2144 - val_accuracy: 0.9447\n",
            "Epoch 11/200\n",
            "207/207 [==============================] - 1s 6ms/step - loss: 0.2114 - accuracy: 0.9354 - val_loss: 0.2034 - val_accuracy: 0.9465\n",
            "Epoch 12/200\n",
            "207/207 [==============================] - 1s 5ms/step - loss: 0.1975 - accuracy: 0.9413 - val_loss: 0.2089 - val_accuracy: 0.9488\n",
            "Epoch 13/200\n",
            "207/207 [==============================] - 1s 5ms/step - loss: 0.1784 - accuracy: 0.9452 - val_loss: 0.2002 - val_accuracy: 0.9509\n",
            "Epoch 14/200\n",
            "207/207 [==============================] - 1s 5ms/step - loss: 0.1740 - accuracy: 0.9455 - val_loss: 0.1887 - val_accuracy: 0.9526\n",
            "Epoch 15/200\n",
            "207/207 [==============================] - 1s 5ms/step - loss: 0.1638 - accuracy: 0.9483 - val_loss: 0.2001 - val_accuracy: 0.9509\n",
            "Epoch 16/200\n",
            "207/207 [==============================] - 1s 5ms/step - loss: 0.1445 - accuracy: 0.9555 - val_loss: 0.1914 - val_accuracy: 0.9539\n",
            "Epoch 17/200\n",
            "207/207 [==============================] - 1s 6ms/step - loss: 0.1433 - accuracy: 0.9548 - val_loss: 0.1768 - val_accuracy: 0.9562\n",
            "Epoch 18/200\n",
            "207/207 [==============================] - 1s 6ms/step - loss: 0.1347 - accuracy: 0.9563 - val_loss: 0.1858 - val_accuracy: 0.9560\n",
            "Epoch 19/200\n",
            "207/207 [==============================] - 1s 6ms/step - loss: 0.1264 - accuracy: 0.9590 - val_loss: 0.1806 - val_accuracy: 0.9565\n",
            "Epoch 20/200\n",
            "207/207 [==============================] - 1s 6ms/step - loss: 0.1242 - accuracy: 0.9609 - val_loss: 0.1788 - val_accuracy: 0.9577\n",
            "Epoch 21/200\n",
            "207/207 [==============================] - 1s 6ms/step - loss: 0.1183 - accuracy: 0.9633 - val_loss: 0.1890 - val_accuracy: 0.9571\n",
            "Epoch 22/200\n",
            "207/207 [==============================] - 1s 5ms/step - loss: 0.1182 - accuracy: 0.9616 - val_loss: 0.1832 - val_accuracy: 0.9576\n"
          ]
        },
        {
          "output_type": "execute_result",
          "data": {
            "text/plain": [
              "<keras.callbacks.History at 0x7fe29004e050>"
            ]
          },
          "metadata": {},
          "execution_count": 55
        }
      ]
    },
    {
      "cell_type": "code",
      "source": [
        "loss, accuracy = CNN_model.evaluate(X_validation, y_validation, verbose=False)\n",
        "print(\"Validation Accuracy:  {:.4f}\".format(accuracy))\n",
        "loss, accuracy = CNN_model.evaluate(X_test, y_test, verbose=False)\n",
        "print(\"Testing Accuracy: {:.4f}\".format(accuracy))"
      ],
      "metadata": {
        "colab": {
          "base_uri": "https://localhost:8080/"
        },
        "id": "IF3_pawu3KAS",
        "outputId": "09d7de16-cd21-429c-bfb1-9d9c5a75788c"
      },
      "execution_count": 56,
      "outputs": [
        {
          "output_type": "stream",
          "name": "stdout",
          "text": [
            "Validation Accuracy:  0.9562\n",
            "Testing Accuracy: 0.8917\n"
          ]
        }
      ]
    },
    {
      "cell_type": "code",
      "source": [
        "CNN_model.trainable = False\n",
        "\n",
        "LSTM_model= Sequential()\n",
        "LSTM_model.add(LSTM(512,input_shape=(n_timesteps,n_features),return_sequences=True))\n",
        "LSTM_model.add(LSTM(256))\n",
        "LSTM_model.add(Dropout(0.2))\n",
        "LSTM_model.add(Dense(128, activation='relu'))\n",
        "LSTM_model.add(Dense(n_outputs, activation='relu'))\n",
        "LSTM_model.summary()\n",
        "\n",
        "inputs = Input(shape=(n_timesteps,n_features))\n",
        "mergedInput= concatenate([CNN_model(inputs),LSTM_model(inputs)])\n",
        "out = Dense(n_outputs, activation='softmax')(mergedInput)\n",
        "model3 = Model(inputs,out)\n",
        "model3.compile(loss='categorical_crossentropy', optimizer='adam', metrics=['accuracy'])\n",
        "model3.summary()"
      ],
      "metadata": {
        "colab": {
          "base_uri": "https://localhost:8080/"
        },
        "id": "2cM0iBU4uxZ9",
        "outputId": "340f04c2-c4cb-4e63-e491-6bf4c67f5c1f"
      },
      "execution_count": 57,
      "outputs": [
        {
          "output_type": "stream",
          "name": "stdout",
          "text": [
            "Model: \"sequential_19\"\n",
            "_________________________________________________________________\n",
            " Layer (type)                Output Shape              Param #   \n",
            "=================================================================\n",
            " lstm_19 (LSTM)              (None, 128, 512)          1062912   \n",
            "                                                                 \n",
            " lstm_20 (LSTM)              (None, 256)               787456    \n",
            "                                                                 \n",
            " dropout_27 (Dropout)        (None, 256)               0         \n",
            "                                                                 \n",
            " dense_35 (Dense)            (None, 128)               32896     \n",
            "                                                                 \n",
            " dense_36 (Dense)            (None, 118)               15222     \n",
            "                                                                 \n",
            "=================================================================\n",
            "Total params: 1,898,486\n",
            "Trainable params: 1,898,486\n",
            "Non-trainable params: 0\n",
            "_________________________________________________________________\n",
            "Model: \"model_8\"\n",
            "__________________________________________________________________________________________________\n",
            " Layer (type)                   Output Shape         Param #     Connected to                     \n",
            "==================================================================================================\n",
            " input_9 (InputLayer)           [(None, 128, 6)]     0           []                               \n",
            "                                                                                                  \n",
            " sequential_18 (Sequential)     (None, 118)          245654      ['input_9[0][0]']                \n",
            "                                                                                                  \n",
            " sequential_19 (Sequential)     (None, 118)          1898486     ['input_9[0][0]']                \n",
            "                                                                                                  \n",
            " concatenate_8 (Concatenate)    (None, 236)          0           ['sequential_18[0][0]',          \n",
            "                                                                  'sequential_19[0][0]']          \n",
            "                                                                                                  \n",
            " dense_37 (Dense)               (None, 118)          27966       ['concatenate_8[0][0]']          \n",
            "                                                                                                  \n",
            "==================================================================================================\n",
            "Total params: 2,172,106\n",
            "Trainable params: 1,926,452\n",
            "Non-trainable params: 245,654\n",
            "__________________________________________________________________________________________________\n"
          ]
        }
      ]
    },
    {
      "cell_type": "code",
      "source": [
        "history = model3.fit(X_training, y_training, epochs=200, verbose=True, validation_data=(X_validation, y_validation), batch_size=128,callbacks=callbacks)"
      ],
      "metadata": {
        "colab": {
          "base_uri": "https://localhost:8080/"
        },
        "id": "leAK4cae3mSx",
        "outputId": "84654bac-6296-400b-e20e-e730937624e8"
      },
      "execution_count": 58,
      "outputs": [
        {
          "output_type": "stream",
          "name": "stdout",
          "text": [
            "Epoch 1/200\n",
            "207/207 [==============================] - 20s 82ms/step - loss: 2.3526 - accuracy: 0.4057 - val_loss: 1.2147 - val_accuracy: 0.6757\n",
            "Epoch 2/200\n",
            "207/207 [==============================] - 16s 78ms/step - loss: 0.8778 - accuracy: 0.7679 - val_loss: 0.6470 - val_accuracy: 0.8355\n",
            "Epoch 3/200\n",
            "207/207 [==============================] - 17s 80ms/step - loss: 0.5616 - accuracy: 0.8496 - val_loss: 0.5169 - val_accuracy: 0.8615\n",
            "Epoch 4/200\n",
            "207/207 [==============================] - 16s 80ms/step - loss: 0.4106 - accuracy: 0.8893 - val_loss: 0.4064 - val_accuracy: 0.8946\n",
            "Epoch 5/200\n",
            "207/207 [==============================] - 16s 79ms/step - loss: 0.3360 - accuracy: 0.9088 - val_loss: 0.3468 - val_accuracy: 0.9035\n",
            "Epoch 6/200\n",
            "207/207 [==============================] - 16s 78ms/step - loss: 0.2992 - accuracy: 0.9167 - val_loss: 0.2793 - val_accuracy: 0.9255\n",
            "Epoch 7/200\n",
            "207/207 [==============================] - 16s 78ms/step - loss: 0.2281 - accuracy: 0.9361 - val_loss: 0.2180 - val_accuracy: 0.9409\n",
            "Epoch 8/200\n",
            "207/207 [==============================] - 16s 79ms/step - loss: 0.1953 - accuracy: 0.9437 - val_loss: 0.2109 - val_accuracy: 0.9443\n",
            "Epoch 9/200\n",
            "207/207 [==============================] - 16s 79ms/step - loss: 0.1659 - accuracy: 0.9521 - val_loss: 0.1996 - val_accuracy: 0.9462\n",
            "Epoch 10/200\n",
            "207/207 [==============================] - 16s 79ms/step - loss: 0.1574 - accuracy: 0.9541 - val_loss: 0.1856 - val_accuracy: 0.9500\n",
            "Epoch 11/200\n",
            "207/207 [==============================] - 16s 79ms/step - loss: 0.1232 - accuracy: 0.9642 - val_loss: 0.1680 - val_accuracy: 0.9556\n",
            "Epoch 12/200\n",
            "207/207 [==============================] - 16s 79ms/step - loss: 0.1180 - accuracy: 0.9656 - val_loss: 0.1708 - val_accuracy: 0.9536\n",
            "Epoch 13/200\n",
            "207/207 [==============================] - 16s 79ms/step - loss: 0.1053 - accuracy: 0.9698 - val_loss: 0.1714 - val_accuracy: 0.9550\n",
            "Epoch 14/200\n",
            "207/207 [==============================] - 16s 79ms/step - loss: 0.1032 - accuracy: 0.9698 - val_loss: 0.1736 - val_accuracy: 0.9536\n",
            "Epoch 15/200\n",
            "207/207 [==============================] - 16s 79ms/step - loss: 0.0845 - accuracy: 0.9750 - val_loss: 0.1592 - val_accuracy: 0.9591\n",
            "Epoch 16/200\n",
            "207/207 [==============================] - 16s 79ms/step - loss: 0.0946 - accuracy: 0.9721 - val_loss: 0.1350 - val_accuracy: 0.9647\n",
            "Epoch 17/200\n",
            "207/207 [==============================] - 16s 79ms/step - loss: 0.0863 - accuracy: 0.9740 - val_loss: 0.1465 - val_accuracy: 0.9627\n",
            "Epoch 18/200\n",
            "207/207 [==============================] - 16s 79ms/step - loss: 0.0768 - accuracy: 0.9775 - val_loss: 0.1333 - val_accuracy: 0.9654\n",
            "Epoch 19/200\n",
            "207/207 [==============================] - 16s 79ms/step - loss: 0.0767 - accuracy: 0.9770 - val_loss: 0.1612 - val_accuracy: 0.9565\n",
            "Epoch 20/200\n",
            "207/207 [==============================] - 16s 79ms/step - loss: 0.0746 - accuracy: 0.9774 - val_loss: 0.1349 - val_accuracy: 0.9653\n",
            "Epoch 21/200\n",
            "207/207 [==============================] - 16s 79ms/step - loss: 0.0549 - accuracy: 0.9840 - val_loss: 0.1456 - val_accuracy: 0.9621\n",
            "Epoch 22/200\n",
            "207/207 [==============================] - 16s 79ms/step - loss: 0.0694 - accuracy: 0.9786 - val_loss: 0.1215 - val_accuracy: 0.9681\n",
            "Epoch 23/200\n",
            "207/207 [==============================] - 16s 79ms/step - loss: 0.0460 - accuracy: 0.9858 - val_loss: 0.1564 - val_accuracy: 0.9644\n",
            "Epoch 24/200\n",
            "207/207 [==============================] - 16s 79ms/step - loss: 0.0806 - accuracy: 0.9760 - val_loss: 0.1224 - val_accuracy: 0.9709\n",
            "Epoch 25/200\n",
            "207/207 [==============================] - 16s 79ms/step - loss: 0.0496 - accuracy: 0.9855 - val_loss: 0.1118 - val_accuracy: 0.9722\n",
            "Epoch 26/200\n",
            "207/207 [==============================] - 17s 80ms/step - loss: 0.0433 - accuracy: 0.9866 - val_loss: 0.1206 - val_accuracy: 0.9680\n",
            "Epoch 27/200\n",
            "207/207 [==============================] - 17s 80ms/step - loss: 0.0435 - accuracy: 0.9861 - val_loss: 0.1519 - val_accuracy: 0.9589\n",
            "Epoch 28/200\n",
            "207/207 [==============================] - 16s 79ms/step - loss: 0.0467 - accuracy: 0.9858 - val_loss: 0.1174 - val_accuracy: 0.9701\n",
            "Epoch 29/200\n",
            "207/207 [==============================] - 16s 79ms/step - loss: 0.0467 - accuracy: 0.9860 - val_loss: 0.1192 - val_accuracy: 0.9699\n",
            "Epoch 30/200\n",
            "207/207 [==============================] - 16s 79ms/step - loss: 0.0408 - accuracy: 0.9874 - val_loss: 0.1231 - val_accuracy: 0.9699\n"
          ]
        }
      ]
    },
    {
      "cell_type": "code",
      "source": [
        "loss, accuracy = model3.evaluate(X_validation, y_validation, verbose=False)\n",
        "print(\"Validation Accuracy:  {:.4f}\".format(accuracy))\n",
        "loss, accuracy = model3.evaluate(X_test, y_test, verbose=False)\n",
        "print(\"Testing Accuracy: {:.4f}\".format(accuracy))"
      ],
      "metadata": {
        "colab": {
          "base_uri": "https://localhost:8080/"
        },
        "id": "BrRZlOJMuxdZ",
        "outputId": "7404e432-9ef7-4b8c-afc8-59e1eecd93b9"
      },
      "execution_count": 59,
      "outputs": [
        {
          "output_type": "stream",
          "name": "stdout",
          "text": [
            "Validation Accuracy:  0.9722\n",
            "Testing Accuracy: 0.9110\n"
          ]
        }
      ]
    },
    {
      "cell_type": "code",
      "source": [
        "from matplotlib import pyplot as plt\n",
        "plt.plot(history.history[\"loss\"], label=\"Training Loss\")\n",
        "plt.plot(history.history[\"val_loss\"], label=\"Validation Loss\")\n",
        "plt.legend()\n",
        "plt.show()\n",
        "from matplotlib import pyplot as plt\n",
        "plt.plot(history.history[\"accuracy\"], label=\"Training accuracy\")\n",
        "plt.plot(history.history[\"val_accuracy\"], label=\"Validation accuracy\")\n",
        "plt.legend()\n",
        "plt.show()"
      ],
      "metadata": {
        "colab": {
          "base_uri": "https://localhost:8080/",
          "height": 513
        },
        "id": "JkKl9CyQvFku",
        "outputId": "941875cc-f382-4d9b-f143-6534865a3fae"
      },
      "execution_count": 61,
      "outputs": [
        {
          "output_type": "display_data",
          "data": {
            "image/png": "[encoded data removed]",
            "text/plain": [
              "<Figure size 432x288 with 1 Axes>"
            ]
          },
          "metadata": {
            "needs_background": "light"
          }
        },
        {
          "output_type": "display_data",
          "data": {
            "image/png": "[encoded data removed]",
            "text/plain": [
              "<Figure size 432x288 with 1 Axes>"
            ]
          },
          "metadata": {
            "needs_background": "light"
          }
        }
      ]
    }
  ]
}