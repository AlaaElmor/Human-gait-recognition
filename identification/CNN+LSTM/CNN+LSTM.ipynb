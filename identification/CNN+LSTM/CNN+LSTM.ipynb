{
  "nbformat": 4,
  "nbformat_minor": 0,
  "metadata": {
    "colab": {
      "name": "Untitled2.ipynb",
      "provenance": []
    },
    "kernelspec": {
      "name": "python3",
      "display_name": "Python 3"
    },
    "language_info": {
      "name": "python"
    },
    "accelerator": "GPU"
  },
  "cells": [
    {
      "cell_type": "code",
      "execution_count": 14,
      "metadata": {
        "colab": {
          "base_uri": "https://localhost:8080/"
        },
        "id": "kfsqX7sr8Ku0",
        "outputId": "b671e1f8-fb30-48b3-aba1-aef264d2e208"
      },
      "outputs": [
        {
          "output_type": "stream",
          "name": "stdout",
          "text": [
            "Mounted at /content/drive\n",
            "Mounted at /content/gdrive\n",
            "(33104, 128, 6) (33104, 118) (3740, 128, 6) (3740, 118)\n"
          ]
        }
      ],
      "source": [
        "from google.colab import drive\n",
        "drive.mount('/content/drive')\n",
        "\n",
        "from google.colab import drive\n",
        "\n",
        "drive.mount('/content/gdrive')\n",
        "root_path = 'gdrive/My Drive/'  #change dir to your project folder\n",
        "\n",
        "import numpy as np\n",
        "X_train = np.load('gdrive/My Drive/dataset1/acc+gyr/trainX.npy')\n",
        "y_train = np.load('gdrive/My Drive/dataset1/acc+gyr/trainy.npy')\n",
        "X_test = np.load('gdrive/My Drive/dataset1/acc+gyr/testX.npy')\n",
        "y_test = np.load('gdrive/My Drive/dataset1/acc+gyr/testy.npy')\n",
        "print(X_train.shape, y_train.shape, X_test.shape, y_test.shape)\n"
      ]
    },
    {
      "cell_type": "code",
      "source": [
        "from numpy import mean\n",
        "from numpy import std\n",
        "from numpy import dstack\n",
        "from numpy import save, load\n",
        "from pandas import read_csv\n",
        "from sklearn.preprocessing import StandardScaler\n",
        "from tensorflow.keras.models import Sequential\n",
        "from tensorflow.keras.layers import Dense , Input ,concatenate\n",
        "from tensorflow.keras.layers import Flatten\n",
        "from tensorflow.keras.layers import Dropout\n",
        "from tensorflow.keras import Model\n",
        "from tensorflow.keras.callbacks import EarlyStopping, ModelCheckpoint, ReduceLROnPlateau\n",
        "from tensorflow.keras.layers import LSTM, Conv1D, concatenate,GlobalMaxPooling1D,TimeDistributed, MaxPooling1D\n",
        "from tensorflow.keras.utils import to_categorical\n",
        "from tensorflow.keras.layers import concatenate\n",
        "from tensorflow.keras import regularizers"
      ],
      "metadata": {
        "id": "Lf5XOXhm9DV4"
      },
      "execution_count": 31,
      "outputs": []
    },
    {
      "cell_type": "code",
      "source": [
        "from sklearn.model_selection import train_test_split\n",
        "X_training, X_validation, y_training, y_validation = train_test_split(X_train, y_train, test_size=0.20, random_state=42)\n",
        "n_timesteps, n_features, n_outputs = X_train.shape[1], X_train.shape[2], y_train.shape[1]"
      ],
      "metadata": {
        "id": "6V0316AK9DeM"
      },
      "execution_count": 32,
      "outputs": []
    },
    {
      "cell_type": "code",
      "source": [
        "CNN_model= Sequential()\n",
        "CNN_model.add(Conv1D(filters=32, kernel_size=9, strides=2, activation='relu', input_shape=(n_timesteps,n_features)))\n",
        "CNN_model.add(MaxPooling1D(pool_size=2 ,strides=2))\n",
        "CNN_model.add(Dropout(0.5))\n",
        "CNN_model.add(Conv1D(filters=64, kernel_size=3, strides=1, activation='relu'))\n",
        "CNN_model.add(Conv1D(filters=128, kernel_size=3, strides=1, activation='relu'))\n",
        "CNN_model.add(MaxPooling1D(pool_size=2 ,strides=2))\n",
        "CNN_model.add(Dropout(0.5))\n",
        "CNN_model.add(Conv1D(filters=128, kernel_size=1, strides=1, activation='relu'))\n",
        "CNN_model.add(Flatten())\n",
        "CNN_model.add(Dense(n_outputs, activation='relu'))\n",
        "CNN_model.summary()\n",
        "\n",
        "LSTM_model= Sequential()\n",
        "LSTM_model.add(LSTM(64,input_shape=(n_timesteps,n_features),return_sequences=True))\n",
        "LSTM_model.add(LSTM(64))\n",
        "LSTM_model.add(Dropout(0.1))\n",
        "LSTM_model.add(Dense(128, activation='relu'))\n",
        "LSTM_model.add(Dense(n_outputs, activation='relu'))\n",
        "LSTM_model.summary()\n",
        "\n",
        "inputs = Input(shape=(n_timesteps,n_features))\n",
        "mergedInput= concatenate([CNN_model(inputs),LSTM_model(inputs)])\n",
        "out = Dense(n_outputs, activation='softmax')(mergedInput)\n",
        "model3 = Model(inputs,out)\n",
        "model3.compile(loss='categorical_crossentropy', optimizer='adam', metrics=['accuracy'])\n",
        "model3.summary()"
      ],
      "metadata": {
        "colab": {
          "base_uri": "https://localhost:8080/"
        },
        "id": "VOKHZR5j9IrU",
        "outputId": "dbeecb89-f957-48f0-9212-f2e1dd35ffe2"
      },
      "execution_count": 55,
      "outputs": [
        {
          "output_type": "stream",
          "name": "stdout",
          "text": [
            "Model: \"sequential_42\"\n",
            "_________________________________________________________________\n",
            " Layer (type)                Output Shape              Param #   \n",
            "=================================================================\n",
            " conv1d_67 (Conv1D)          (None, 60, 32)            1760      \n",
            "                                                                 \n",
            " max_pooling1d_16 (MaxPoolin  (None, 30, 32)           0         \n",
            " g1D)                                                            \n",
            "                                                                 \n",
            " conv1d_68 (Conv1D)          (None, 28, 64)            6208      \n",
            "                                                                 \n",
            " dropout_27 (Dropout)        (None, 28, 64)            0         \n",
            "                                                                 \n",
            " conv1d_69 (Conv1D)          (None, 26, 128)           24704     \n",
            "                                                                 \n",
            " max_pooling1d_17 (MaxPoolin  (None, 13, 128)          0         \n",
            " g1D)                                                            \n",
            "                                                                 \n",
            " conv1d_70 (Conv1D)          (None, 13, 128)           16512     \n",
            "                                                                 \n",
            " flatten_20 (Flatten)        (None, 1664)              0         \n",
            "                                                                 \n",
            " dense_69 (Dense)            (None, 118)               196470    \n",
            "                                                                 \n",
            "=================================================================\n",
            "Total params: 245,654\n",
            "Trainable params: 245,654\n",
            "Non-trainable params: 0\n",
            "_________________________________________________________________\n",
            "Model: \"sequential_43\"\n",
            "_________________________________________________________________\n",
            " Layer (type)                Output Shape              Param #   \n",
            "=================================================================\n",
            " lstm_25 (LSTM)              (None, 128, 64)           18176     \n",
            "                                                                 \n",
            " lstm_26 (LSTM)              (None, 64)                33024     \n",
            "                                                                 \n",
            " dropout_28 (Dropout)        (None, 64)                0         \n",
            "                                                                 \n",
            " dense_70 (Dense)            (None, 128)               8320      \n",
            "                                                                 \n",
            " dense_71 (Dense)            (None, 118)               15222     \n",
            "                                                                 \n",
            "=================================================================\n",
            "Total params: 74,742\n",
            "Trainable params: 74,742\n",
            "Non-trainable params: 0\n",
            "_________________________________________________________________\n",
            "Model: \"model_12\"\n",
            "__________________________________________________________________________________________________\n",
            " Layer (type)                   Output Shape         Param #     Connected to                     \n",
            "==================================================================================================\n",
            " input_17 (InputLayer)          [(None, 128, 6)]     0           []                               \n",
            "                                                                                                  \n",
            " sequential_42 (Sequential)     (None, 118)          245654      ['input_17[0][0]']               \n",
            "                                                                                                  \n",
            " sequential_43 (Sequential)     (None, 118)          74742       ['input_17[0][0]']               \n",
            "                                                                                                  \n",
            " concatenate_16 (Concatenate)   (None, 236)          0           ['sequential_42[0][0]',          \n",
            "                                                                  'sequential_43[0][0]']          \n",
            "                                                                                                  \n",
            " dense_72 (Dense)               (None, 118)          27966       ['concatenate_16[0][0]']         \n",
            "                                                                                                  \n",
            "==================================================================================================\n",
            "Total params: 348,362\n",
            "Trainable params: 348,362\n",
            "Non-trainable params: 0\n",
            "__________________________________________________________________________________________________\n"
          ]
        }
      ]
    },
    {
      "cell_type": "code",
      "source": [
        "validation_data=(X_validation, y_validation)\n",
        "history = model3.fit(X_training, y_training, epochs=10, verbose=True, validation_data=(X_validation, y_validation), batch_size=128)"
      ],
      "metadata": {
        "colab": {
          "base_uri": "https://localhost:8080/"
        },
        "id": "HNJeGV109Ius",
        "outputId": "fc256890-97fe-4fcf-ea47-df907467a824"
      },
      "execution_count": 58,
      "outputs": [
        {
          "output_type": "stream",
          "name": "stdout",
          "text": [
            "Epoch 1/10\n",
            "207/207 [==============================] - 5s 22ms/step - loss: 0.0227 - accuracy: 0.9930 - val_loss: 0.2628 - val_accuracy: 0.9645\n",
            "Epoch 2/10\n",
            "207/207 [==============================] - 4s 21ms/step - loss: 0.0245 - accuracy: 0.9923 - val_loss: 0.2554 - val_accuracy: 0.9650\n",
            "Epoch 3/10\n",
            "207/207 [==============================] - 4s 22ms/step - loss: 0.0249 - accuracy: 0.9918 - val_loss: 0.2596 - val_accuracy: 0.9633\n",
            "Epoch 4/10\n",
            "207/207 [==============================] - 5s 22ms/step - loss: 0.0201 - accuracy: 0.9932 - val_loss: 0.2582 - val_accuracy: 0.9631\n",
            "Epoch 5/10\n",
            "207/207 [==============================] - 4s 22ms/step - loss: 0.0231 - accuracy: 0.9935 - val_loss: 0.2687 - val_accuracy: 0.9641\n",
            "Epoch 6/10\n",
            "207/207 [==============================] - 4s 21ms/step - loss: 0.0238 - accuracy: 0.9929 - val_loss: 0.2494 - val_accuracy: 0.9650\n",
            "Epoch 7/10\n",
            "207/207 [==============================] - 4s 21ms/step - loss: 0.0241 - accuracy: 0.9924 - val_loss: 0.2498 - val_accuracy: 0.9634\n",
            "Epoch 8/10\n",
            "207/207 [==============================] - 4s 21ms/step - loss: 0.0165 - accuracy: 0.9949 - val_loss: 0.2579 - val_accuracy: 0.9656\n",
            "Epoch 9/10\n",
            "207/207 [==============================] - 4s 21ms/step - loss: 0.0132 - accuracy: 0.9957 - val_loss: 0.2418 - val_accuracy: 0.9678\n",
            "Epoch 10/10\n",
            "207/207 [==============================] - 4s 21ms/step - loss: 0.0136 - accuracy: 0.9950 - val_loss: 0.2631 - val_accuracy: 0.9656\n"
          ]
        }
      ]
    },
    {
      "cell_type": "code",
      "source": [
        "loss, accuracy = model3.evaluate(X_validation, y_validation, verbose=False)\n",
        "print(\"Validation Accuracy:  {:.4f}\".format(accuracy))\n",
        "loss, accuracy = model3.evaluate(X_test, y_test, verbose=False)\n",
        "print(\"Testing Accuracy: {:.4f}\".format(accuracy))"
      ],
      "metadata": {
        "colab": {
          "base_uri": "https://localhost:8080/"
        },
        "id": "espFQdMK9DnJ",
        "outputId": "02c60d28-f80d-424d-80f1-16501a699339"
      },
      "execution_count": 59,
      "outputs": [
        {
          "output_type": "stream",
          "name": "stdout",
          "text": [
            "Validation Accuracy:  0.9656\n",
            "Testing Accuracy: 0.9099\n"
          ]
        }
      ]
    }
  ]
}