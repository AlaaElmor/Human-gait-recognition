{
  "nbformat": 4,
  "nbformat_minor": 0,
  "metadata": {
    "colab": {
      "name": "CNN+LSTM.ipynb",
      "provenance": []
    },
    "kernelspec": {
      "name": "python3",
      "display_name": "Python 3"
    },
    "language_info": {
      "name": "python"
    },
    "accelerator": "GPU"
  },
  "cells": [
    {
      "cell_type": "code",
      "execution_count": 76,
      "metadata": {
        "colab": {
          "base_uri": "https://localhost:8080/"
        },
        "id": "kfsqX7sr8Ku0",
        "outputId": "4d8bc111-102a-47e6-8775-35bae504337f"
      },
      "outputs": [
        {
          "output_type": "stream",
          "name": "stdout",
          "text": [
            "Mounted at /content/drive\n",
            "Mounted at /content/gdrive\n",
            "(33104, 128, 6) (33104, 118) (3740, 128, 6) (3740, 118)\n"
          ]
        }
      ],
      "source": [
        "from google.colab import drive\n",
        "drive.mount('/content/drive')\n",
        "\n",
        "from google.colab import drive\n",
        "\n",
        "drive.mount('/content/gdrive')\n",
        "root_path = 'gdrive/My Drive/'  #change dir to your project folder\n",
        "\n",
        "import numpy as np\n",
        "X_train = np.load('gdrive/My Drive/dataset1/acc+gyr/trainX.npy')\n",
        "y_train = np.load('gdrive/My Drive/dataset1/acc+gyr/trainy.npy')\n",
        "X_test = np.load('gdrive/My Drive/dataset1/acc+gyr/testX.npy')\n",
        "y_test = np.load('gdrive/My Drive/dataset1/acc+gyr/testy.npy')\n",
        "print(X_train.shape, y_train.shape, X_test.shape, y_test.shape)\n"
      ]
    },
    {
      "cell_type": "code",
      "source": [
        "from numpy import mean\n",
        "from numpy import std\n",
        "from numpy import dstack\n",
        "from numpy import save, load\n",
        "from pandas import read_csv\n",
        "from tensorflow import keras\n",
        "from sklearn.preprocessing import StandardScaler\n",
        "from tensorflow.keras.models import Sequential\n",
        "from tensorflow.keras.layers import Dense , Input ,concatenate\n",
        "from tensorflow.keras.layers import Flatten\n",
        "from tensorflow.keras.layers import Dropout\n",
        "from tensorflow.keras import Model\n",
        "from tensorflow.keras.callbacks import EarlyStopping, ModelCheckpoint, ReduceLROnPlateau\n",
        "from tensorflow.keras.layers import LSTM, Conv1D, concatenate,GlobalMaxPooling1D,TimeDistributed, MaxPooling1D\n",
        "from tensorflow.keras.utils import to_categorical\n",
        "from tensorflow.keras.layers import concatenate\n",
        "from tensorflow.keras import regularizers"
      ],
      "metadata": {
        "id": "Lf5XOXhm9DV4"
      },
      "execution_count": 77,
      "outputs": []
    },
    {
      "cell_type": "code",
      "source": [
        "from sklearn.model_selection import train_test_split\n",
        "X_training, X_validation, y_training, y_validation = train_test_split(X_train, y_train, test_size=0.20, random_state=42)\n",
        "n_timesteps, n_features, n_outputs = X_train.shape[1], X_train.shape[2], y_train.shape[1]\n",
        "validation_data=(X_validation, y_validation)"
      ],
      "metadata": {
        "id": "6V0316AK9DeM"
      },
      "execution_count": 78,
      "outputs": []
    },
    {
      "cell_type": "code",
      "source": [
        "CNN_model= Sequential()\n",
        "CNN_model.add(Conv1D(filters=32, kernel_size=9, strides=2, activation='relu', input_shape=(n_timesteps,n_features)))\n",
        "CNN_model.add(MaxPooling1D(pool_size=2 ,strides=2))\n",
        "CNN_model.add(Dropout(0.5))\n",
        "CNN_model.add(Conv1D(filters=64, kernel_size=3, strides=1, activation='relu'))\n",
        "CNN_model.add(Conv1D(filters=128, kernel_size=3, strides=1, activation='relu'))\n",
        "CNN_model.add(MaxPooling1D(pool_size=2 ,strides=2))\n",
        "CNN_model.add(Dropout(0.5))\n",
        "CNN_model.add(Conv1D(filters=128, kernel_size=1, strides=1, activation='relu'))\n",
        "CNN_model.add(Flatten())\n",
        "CNN_model.add(Dense(n_outputs, activation='relu'))\n",
        "CNN_model.summary()\n",
        "\n",
        "LSTM_model= Sequential()\n",
        "LSTM_model.add(LSTM(512,input_shape=(n_timesteps,n_features),return_sequences=True))\n",
        "LSTM_model.add(LSTM(256))\n",
        "LSTM_model.add(Dropout(0.2))\n",
        "LSTM_model.add(Dense(128, activation='relu'))\n",
        "LSTM_model.add(Dense(n_outputs, activation='relu'))\n",
        "LSTM_model.summary()\n",
        "\n",
        "inputs = Input(shape=(n_timesteps,n_features))\n",
        "mergedInput= concatenate([CNN_model(inputs),LSTM_model(inputs)])\n",
        "out = Dense(n_outputs, activation='softmax')(mergedInput)\n",
        "model3 = Model(inputs,out)\n",
        "model3.compile(loss='categorical_crossentropy', optimizer='adam', metrics=['accuracy'])\n",
        "#model3.layers[0].set_weights(LSTM_model.layers[4].get_weights())\n",
        "model3.summary()\n",
        "\n"
      ],
      "metadata": {
        "colab": {
          "base_uri": "https://localhost:8080/"
        },
        "id": "eNE6zoY-Fbmk",
        "outputId": "21efa079-3a4a-4c56-d1f2-93c9abf707ad"
      },
      "execution_count": 79,
      "outputs": [
        {
          "output_type": "stream",
          "name": "stdout",
          "text": [
            "Model: \"sequential_23\"\n",
            "_________________________________________________________________\n",
            " Layer (type)                Output Shape              Param #   \n",
            "=================================================================\n",
            " conv1d_56 (Conv1D)          (None, 60, 32)            1760      \n",
            "                                                                 \n",
            " max_pooling1d_28 (MaxPoolin  (None, 30, 32)           0         \n",
            " g1D)                                                            \n",
            "                                                                 \n",
            " dropout_36 (Dropout)        (None, 30, 32)            0         \n",
            "                                                                 \n",
            " conv1d_57 (Conv1D)          (None, 28, 64)            6208      \n",
            "                                                                 \n",
            " conv1d_58 (Conv1D)          (None, 26, 128)           24704     \n",
            "                                                                 \n",
            " max_pooling1d_29 (MaxPoolin  (None, 13, 128)          0         \n",
            " g1D)                                                            \n",
            "                                                                 \n",
            " dropout_37 (Dropout)        (None, 13, 128)           0         \n",
            "                                                                 \n",
            " conv1d_59 (Conv1D)          (None, 13, 128)           16512     \n",
            "                                                                 \n",
            " flatten_15 (Flatten)        (None, 1664)              0         \n",
            "                                                                 \n",
            " dense_47 (Dense)            (None, 118)               196470    \n",
            "                                                                 \n",
            "=================================================================\n",
            "Total params: 245,654\n",
            "Trainable params: 245,654\n",
            "Non-trainable params: 0\n",
            "_________________________________________________________________\n",
            "Model: \"sequential_24\"\n",
            "_________________________________________________________________\n",
            " Layer (type)                Output Shape              Param #   \n",
            "=================================================================\n",
            " lstm_16 (LSTM)              (None, 128, 512)          1062912   \n",
            "                                                                 \n",
            " lstm_17 (LSTM)              (None, 256)               787456    \n",
            "                                                                 \n",
            " dropout_38 (Dropout)        (None, 256)               0         \n",
            "                                                                 \n",
            " dense_48 (Dense)            (None, 128)               32896     \n",
            "                                                                 \n",
            " dense_49 (Dense)            (None, 118)               15222     \n",
            "                                                                 \n",
            "=================================================================\n",
            "Total params: 1,898,486\n",
            "Trainable params: 1,898,486\n",
            "Non-trainable params: 0\n",
            "_________________________________________________________________\n",
            "Model: \"model_14\"\n",
            "__________________________________________________________________________________________________\n",
            " Layer (type)                   Output Shape         Param #     Connected to                     \n",
            "==================================================================================================\n",
            " input_15 (InputLayer)          [(None, 128, 6)]     0           []                               \n",
            "                                                                                                  \n",
            " sequential_23 (Sequential)     (None, 118)          245654      ['input_15[0][0]']               \n",
            "                                                                                                  \n",
            " sequential_24 (Sequential)     (None, 118)          1898486     ['input_15[0][0]']               \n",
            "                                                                                                  \n",
            " concatenate_14 (Concatenate)   (None, 236)          0           ['sequential_23[0][0]',          \n",
            "                                                                  'sequential_24[0][0]']          \n",
            "                                                                                                  \n",
            " dense_50 (Dense)               (None, 118)          27966       ['concatenate_14[0][0]']         \n",
            "                                                                                                  \n",
            "==================================================================================================\n",
            "Total params: 2,172,106\n",
            "Trainable params: 2,172,106\n",
            "Non-trainable params: 0\n",
            "__________________________________________________________________________________________________\n"
          ]
        }
      ]
    },
    {
      "cell_type": "code",
      "source": [
        "history = model3.fit(X_training, y_training, epochs=30, verbose=True, validation_data=(X_validation, y_validation), batch_size=128)"
      ],
      "metadata": {
        "colab": {
          "base_uri": "https://localhost:8080/"
        },
        "id": "HNJeGV109Ius",
        "outputId": "8c4604a7-b9a8-4a0d-fa91-ac02d094ee77"
      },
      "execution_count": 80,
      "outputs": [
        {
          "output_type": "stream",
          "name": "stdout",
          "text": [
            "Epoch 1/30\n",
            "207/207 [==============================] - 46s 202ms/step - loss: 2.0951 - accuracy: 0.4706 - val_loss: 0.7732 - val_accuracy: 0.7996\n",
            "Epoch 2/30\n",
            "207/207 [==============================] - 40s 195ms/step - loss: 0.6583 - accuracy: 0.8247 - val_loss: 0.4667 - val_accuracy: 0.8783\n",
            "Epoch 3/30\n",
            "207/207 [==============================] - 40s 195ms/step - loss: 0.4630 - accuracy: 0.8746 - val_loss: 0.3422 - val_accuracy: 0.9103\n",
            "Epoch 4/30\n",
            "207/207 [==============================] - 40s 194ms/step - loss: 0.3729 - accuracy: 0.8978 - val_loss: 0.3038 - val_accuracy: 0.9160\n",
            "Epoch 5/30\n",
            "207/207 [==============================] - 40s 195ms/step - loss: 0.2887 - accuracy: 0.9192 - val_loss: 0.2685 - val_accuracy: 0.9230\n",
            "Epoch 6/30\n",
            "207/207 [==============================] - 40s 194ms/step - loss: 0.2504 - accuracy: 0.9287 - val_loss: 0.2321 - val_accuracy: 0.9340\n",
            "Epoch 7/30\n",
            "207/207 [==============================] - 40s 195ms/step - loss: 0.2143 - accuracy: 0.9372 - val_loss: 0.2274 - val_accuracy: 0.9397\n",
            "Epoch 8/30\n",
            "207/207 [==============================] - 40s 195ms/step - loss: 0.1894 - accuracy: 0.9454 - val_loss: 0.2046 - val_accuracy: 0.9432\n",
            "Epoch 9/30\n",
            "207/207 [==============================] - 40s 195ms/step - loss: 0.1712 - accuracy: 0.9473 - val_loss: 0.2000 - val_accuracy: 0.9450\n",
            "Epoch 10/30\n",
            "207/207 [==============================] - 40s 195ms/step - loss: 0.1689 - accuracy: 0.9479 - val_loss: 0.1855 - val_accuracy: 0.9483\n",
            "Epoch 11/30\n",
            "207/207 [==============================] - 40s 195ms/step - loss: 0.1392 - accuracy: 0.9571 - val_loss: 0.1724 - val_accuracy: 0.9523\n",
            "Epoch 12/30\n",
            "207/207 [==============================] - 42s 205ms/step - loss: 0.1242 - accuracy: 0.9614 - val_loss: 0.1814 - val_accuracy: 0.9508\n",
            "Epoch 13/30\n",
            "207/207 [==============================] - 40s 195ms/step - loss: 0.1251 - accuracy: 0.9613 - val_loss: 0.1707 - val_accuracy: 0.9548\n",
            "Epoch 14/30\n",
            "207/207 [==============================] - 40s 195ms/step - loss: 0.1126 - accuracy: 0.9647 - val_loss: 0.1999 - val_accuracy: 0.9500\n",
            "Epoch 15/30\n",
            "207/207 [==============================] - 40s 195ms/step - loss: 0.1217 - accuracy: 0.9610 - val_loss: 0.1734 - val_accuracy: 0.9548\n",
            "Epoch 16/30\n",
            "207/207 [==============================] - 40s 195ms/step - loss: 0.1043 - accuracy: 0.9663 - val_loss: 0.1572 - val_accuracy: 0.9589\n",
            "Epoch 17/30\n",
            "207/207 [==============================] - 40s 195ms/step - loss: 0.0848 - accuracy: 0.9727 - val_loss: 0.1617 - val_accuracy: 0.9576\n",
            "Epoch 18/30\n",
            "207/207 [==============================] - 40s 195ms/step - loss: 0.0844 - accuracy: 0.9722 - val_loss: 0.1650 - val_accuracy: 0.9559\n",
            "Epoch 19/30\n",
            "207/207 [==============================] - 40s 195ms/step - loss: 0.0803 - accuracy: 0.9738 - val_loss: 0.1447 - val_accuracy: 0.9651\n",
            "Epoch 20/30\n",
            "207/207 [==============================] - 40s 195ms/step - loss: 0.0824 - accuracy: 0.9733 - val_loss: 0.1538 - val_accuracy: 0.9613\n",
            "Epoch 21/30\n",
            "207/207 [==============================] - 40s 195ms/step - loss: 0.0857 - accuracy: 0.9721 - val_loss: 0.1486 - val_accuracy: 0.9631\n",
            "Epoch 22/30\n",
            "207/207 [==============================] - 40s 195ms/step - loss: 0.0763 - accuracy: 0.9758 - val_loss: 0.1425 - val_accuracy: 0.9659\n",
            "Epoch 23/30\n",
            "207/207 [==============================] - 40s 195ms/step - loss: 0.0601 - accuracy: 0.9811 - val_loss: 0.1640 - val_accuracy: 0.9583\n",
            "Epoch 24/30\n",
            "207/207 [==============================] - 40s 195ms/step - loss: 0.0566 - accuracy: 0.9813 - val_loss: 0.1794 - val_accuracy: 0.9577\n",
            "Epoch 25/30\n",
            "207/207 [==============================] - 40s 195ms/step - loss: 0.0694 - accuracy: 0.9783 - val_loss: 0.1900 - val_accuracy: 0.9538\n",
            "Epoch 26/30\n",
            "207/207 [==============================] - 40s 195ms/step - loss: 0.0650 - accuracy: 0.9789 - val_loss: 0.1537 - val_accuracy: 0.9634\n",
            "Epoch 27/30\n",
            "207/207 [==============================] - 40s 195ms/step - loss: 0.0574 - accuracy: 0.9809 - val_loss: 0.1619 - val_accuracy: 0.9607\n",
            "Epoch 28/30\n",
            "207/207 [==============================] - 40s 194ms/step - loss: 0.0548 - accuracy: 0.9816 - val_loss: 0.1588 - val_accuracy: 0.9633\n",
            "Epoch 29/30\n",
            "207/207 [==============================] - 40s 194ms/step - loss: 0.0505 - accuracy: 0.9835 - val_loss: 0.1493 - val_accuracy: 0.9663\n",
            "Epoch 30/30\n",
            "207/207 [==============================] - 40s 194ms/step - loss: 0.0482 - accuracy: 0.9838 - val_loss: 0.1698 - val_accuracy: 0.9645\n"
          ]
        }
      ]
    },
    {
      "cell_type": "code",
      "source": [
        "loss, accuracy = model3.evaluate(X_validation, y_validation, verbose=False)\n",
        "print(\"Validation Accuracy:  {:.4f}\".format(accuracy))\n",
        "loss, accuracy = model3.evaluate(X_test, y_test, verbose=False)\n",
        "print(\"Testing Accuracy: {:.4f}\".format(accuracy))"
      ],
      "metadata": {
        "colab": {
          "base_uri": "https://localhost:8080/"
        },
        "id": "espFQdMK9DnJ",
        "outputId": "9022614c-4e6c-42f2-c46a-c3a14e6756e4"
      },
      "execution_count": 81,
      "outputs": [
        {
          "output_type": "stream",
          "name": "stdout",
          "text": [
            "Validation Accuracy:  0.9645\n",
            "Testing Accuracy: 0.9027\n"
          ]
        }
      ]
    }
  ]
}