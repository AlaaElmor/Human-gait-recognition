{
  "nbformat": 4,
  "nbformat_minor": 0,
  "metadata": {
    "colab": {
      "name": "Untitled2.ipynb",
      "provenance": []
    },
    "kernelspec": {
      "name": "python3",
      "display_name": "Python 3"
    },
    "language_info": {
      "name": "python"
    },
    "accelerator": "GPU"
  },
  "cells": [
    {
      "cell_type": "code",
      "execution_count": 14,
      "metadata": {
        "colab": {
          "base_uri": "https://localhost:8080/"
        },
        "id": "kfsqX7sr8Ku0",
        "outputId": "b671e1f8-fb30-48b3-aba1-aef264d2e208"
      },
      "outputs": [
        {
          "output_type": "stream",
          "name": "stdout",
          "text": [
            "Mounted at /content/drive\n",
            "Mounted at /content/gdrive\n",
            "(33104, 128, 6) (33104, 118) (3740, 128, 6) (3740, 118)\n"
          ]
        }
      ],
      "source": [
        "from google.colab import drive\n",
        "drive.mount('/content/drive')\n",
        "\n",
        "from google.colab import drive\n",
        "\n",
        "drive.mount('/content/gdrive')\n",
        "root_path = 'gdrive/My Drive/'  #change dir to your project folder\n",
        "\n",
        "import numpy as np\n",
        "X_train = np.load('gdrive/My Drive/dataset1/acc+gyr/trainX.npy')\n",
        "y_train = np.load('gdrive/My Drive/dataset1/acc+gyr/trainy.npy')\n",
        "X_test = np.load('gdrive/My Drive/dataset1/acc+gyr/testX.npy')\n",
        "y_test = np.load('gdrive/My Drive/dataset1/acc+gyr/testy.npy')\n",
        "print(X_train.shape, y_train.shape, X_test.shape, y_test.shape)\n"
      ]
    },
    {
      "cell_type": "code",
      "source": [
        "from numpy import mean\n",
        "from numpy import std\n",
        "from numpy import dstack\n",
        "from numpy import save, load\n",
        "from pandas import read_csv\n",
        "from sklearn.preprocessing import StandardScaler\n",
        "from tensorflow.keras.models import Sequential\n",
        "from tensorflow.keras.layers import Dense , Input ,concatenate\n",
        "from tensorflow.keras.layers import Flatten\n",
        "from tensorflow.keras.layers import Dropout\n",
        "from tensorflow.keras import Model\n",
        "from tensorflow.keras.callbacks import EarlyStopping, ModelCheckpoint, ReduceLROnPlateau\n",
        "from tensorflow.keras.layers import LSTM, Conv1D, concatenate,GlobalMaxPooling1D,TimeDistributed, MaxPooling1D\n",
        "from tensorflow.keras.utils import to_categorical\n",
        "from tensorflow.keras.layers import concatenate\n",
        "from tensorflow.keras import regularizers"
      ],
      "metadata": {
        "id": "Lf5XOXhm9DV4"
      },
      "execution_count": 31,
      "outputs": []
    },
    {
      "cell_type": "code",
      "source": [
        "from sklearn.model_selection import train_test_split\n",
        "X_training, X_validation, y_training, y_validation = train_test_split(X_train, y_train, test_size=0.20, random_state=42)\n",
        "n_timesteps, n_features, n_outputs = X_train.shape[1], X_train.shape[2], y_train.shape[1]"
      ],
      "metadata": {
        "id": "6V0316AK9DeM"
      },
      "execution_count": 32,
      "outputs": []
    },
    {
      "cell_type": "code",
      "source": [
        "CNN_model= Sequential()\n",
        "CNN_model.add(Conv1D(filters=32, kernel_size=9, strides=2, activation='relu', input_shape=(n_timesteps,n_features)))\n",
        "CNN_model.add(MaxPooling1D(pool_size=2 ,strides=2))\n",
        "CNN_model.add(Dropout(0.5))\n",
        "CNN_model.add(Conv1D(filters=64, kernel_size=3, strides=1, activation='relu'))\n",
        "CNN_model.add(Conv1D(filters=128, kernel_size=3, strides=1, activation='relu'))\n",
        "CNN_model.add(MaxPooling1D(pool_size=2 ,strides=2))\n",
        "CNN_model.add(Dropout(0.5))\n",
        "CNN_model.add(Conv1D(filters=128, kernel_size=1, strides=1, activation='relu'))\n",
        "CNN_model.add(Flatten())\n",
        "CNN_model.add(Dense(n_outputs, activation='relu'))\n",
        "CNN_model.summary()\n",
        "\n",
        "LSTM_model= Sequential()\n",
        "LSTM_model.add(LSTM(64,input_shape=(n_timesteps,n_features),return_sequences=True))\n",
        "LSTM_model.add(LSTM(64))\n",
        "LSTM_model.add(Dropout(0.1))\n",
        "LSTM_model.add(Dense(128, activation='relu'))\n",
        "LSTM_model.add(Dense(n_outputs, activation='relu'))\n",
        "LSTM_model.summary()\n",
        "\n",
        "inputs = Input(shape=(n_timesteps,n_features))\n",
        "mergedInput= concatenate([CNN_model(inputs),LSTM_model(inputs)])\n",
        "out = Dense(n_outputs, activation='softmax')(mergedInput)\n",
        "model3 = Model(inputs,out)\n",
        "model3.compile(loss='categorical_crossentropy', optimizer='adam', metrics=['accuracy'])\n",
        "model3.summary()\n",
        "\n",
        "\n",
        "CNN_model.trainable = False\n"
      ],
      "metadata": {
        "colab": {
          "base_uri": "https://localhost:8080/"
        },
        "id": "VOKHZR5j9IrU",
        "outputId": "c16f4f1a-a8e1-4fe2-d141-a0918865da3f"
      },
      "execution_count": 60,
      "outputs": [
        {
          "output_type": "stream",
          "name": "stdout",
          "text": [
            "Model: \"sequential_44\"\n",
            "_________________________________________________________________\n",
            " Layer (type)                Output Shape              Param #   \n",
            "=================================================================\n",
            " conv1d_71 (Conv1D)          (None, 60, 32)            1760      \n",
            "                                                                 \n",
            " max_pooling1d_18 (MaxPoolin  (None, 30, 32)           0         \n",
            " g1D)                                                            \n",
            "                                                                 \n",
            " dropout_29 (Dropout)        (None, 30, 32)            0         \n",
            "                                                                 \n",
            " conv1d_72 (Conv1D)          (None, 28, 64)            6208      \n",
            "                                                                 \n",
            " conv1d_73 (Conv1D)          (None, 26, 128)           24704     \n",
            "                                                                 \n",
            " max_pooling1d_19 (MaxPoolin  (None, 13, 128)          0         \n",
            " g1D)                                                            \n",
            "                                                                 \n",
            " dropout_30 (Dropout)        (None, 13, 128)           0         \n",
            "                                                                 \n",
            " conv1d_74 (Conv1D)          (None, 13, 128)           16512     \n",
            "                                                                 \n",
            " flatten_21 (Flatten)        (None, 1664)              0         \n",
            "                                                                 \n",
            " dense_73 (Dense)            (None, 118)               196470    \n",
            "                                                                 \n",
            "=================================================================\n",
            "Total params: 245,654\n",
            "Trainable params: 245,654\n",
            "Non-trainable params: 0\n",
            "_________________________________________________________________\n",
            "Model: \"sequential_45\"\n",
            "_________________________________________________________________\n",
            " Layer (type)                Output Shape              Param #   \n",
            "=================================================================\n",
            " lstm_27 (LSTM)              (None, 128, 64)           18176     \n",
            "                                                                 \n",
            " lstm_28 (LSTM)              (None, 64)                33024     \n",
            "                                                                 \n",
            " dropout_31 (Dropout)        (None, 64)                0         \n",
            "                                                                 \n",
            " dense_74 (Dense)            (None, 128)               8320      \n",
            "                                                                 \n",
            " dense_75 (Dense)            (None, 118)               15222     \n",
            "                                                                 \n",
            "=================================================================\n",
            "Total params: 74,742\n",
            "Trainable params: 74,742\n",
            "Non-trainable params: 0\n",
            "_________________________________________________________________\n",
            "Model: \"model_13\"\n",
            "__________________________________________________________________________________________________\n",
            " Layer (type)                   Output Shape         Param #     Connected to                     \n",
            "==================================================================================================\n",
            " input_18 (InputLayer)          [(None, 128, 6)]     0           []                               \n",
            "                                                                                                  \n",
            " sequential_44 (Sequential)     (None, 118)          245654      ['input_18[0][0]']               \n",
            "                                                                                                  \n",
            " sequential_45 (Sequential)     (None, 118)          74742       ['input_18[0][0]']               \n",
            "                                                                                                  \n",
            " concatenate_17 (Concatenate)   (None, 236)          0           ['sequential_44[0][0]',          \n",
            "                                                                  'sequential_45[0][0]']          \n",
            "                                                                                                  \n",
            " dense_76 (Dense)               (None, 118)          27966       ['concatenate_17[0][0]']         \n",
            "                                                                                                  \n",
            "==================================================================================================\n",
            "Total params: 348,362\n",
            "Trainable params: 348,362\n",
            "Non-trainable params: 0\n",
            "__________________________________________________________________________________________________\n"
          ]
        }
      ]
    },
    {
      "cell_type": "code",
      "source": [
        "validation_data=(X_validation, y_validation)\n",
        "history = model3.fit(X_training, y_training, epochs=10, verbose=True, validation_data=(X_validation, y_validation), batch_size=128)"
      ],
      "metadata": {
        "colab": {
          "base_uri": "https://localhost:8080/"
        },
        "id": "HNJeGV109Ius",
        "outputId": "5ee286a4-4a6b-43e4-851e-db562e44fdfc"
      },
      "execution_count": 61,
      "outputs": [
        {
          "output_type": "stream",
          "name": "stdout",
          "text": [
            "Epoch 1/10\n",
            "207/207 [==============================] - 8s 25ms/step - loss: 2.4455 - accuracy: 0.3872 - val_loss: 0.9412 - val_accuracy: 0.7638\n",
            "Epoch 2/10\n",
            "207/207 [==============================] - 4s 21ms/step - loss: 0.8197 - accuracy: 0.7820 - val_loss: 0.5147 - val_accuracy: 0.8651\n",
            "Epoch 3/10\n",
            "207/207 [==============================] - 4s 21ms/step - loss: 0.5227 - accuracy: 0.8585 - val_loss: 0.4052 - val_accuracy: 0.8905\n",
            "Epoch 4/10\n",
            "207/207 [==============================] - 4s 21ms/step - loss: 0.4116 - accuracy: 0.8878 - val_loss: 0.3020 - val_accuracy: 0.9174\n",
            "Epoch 5/10\n",
            "207/207 [==============================] - 4s 21ms/step - loss: 0.3406 - accuracy: 0.9029 - val_loss: 0.3076 - val_accuracy: 0.9153\n",
            "Epoch 6/10\n",
            "207/207 [==============================] - 4s 21ms/step - loss: 0.2959 - accuracy: 0.9155 - val_loss: 0.2546 - val_accuracy: 0.9304\n",
            "Epoch 7/10\n",
            "207/207 [==============================] - 4s 21ms/step - loss: 0.2574 - accuracy: 0.9254 - val_loss: 0.2414 - val_accuracy: 0.9331\n",
            "Epoch 8/10\n",
            "207/207 [==============================] - 4s 21ms/step - loss: 0.2389 - accuracy: 0.9297 - val_loss: 0.2121 - val_accuracy: 0.9431\n",
            "Epoch 9/10\n",
            "207/207 [==============================] - 4s 21ms/step - loss: 0.2097 - accuracy: 0.9376 - val_loss: 0.2103 - val_accuracy: 0.9450\n",
            "Epoch 10/10\n",
            "207/207 [==============================] - 4s 21ms/step - loss: 0.1994 - accuracy: 0.9399 - val_loss: 0.2141 - val_accuracy: 0.9391\n"
          ]
        }
      ]
    },
    {
      "cell_type": "code",
      "source": [
        "loss, accuracy = model3.evaluate(X_validation, y_validation, verbose=False)\n",
        "print(\"Validation Accuracy:  {:.4f}\".format(accuracy))\n",
        "loss, accuracy = model3.evaluate(X_test, y_test, verbose=False)\n",
        "print(\"Testing Accuracy: {:.4f}\".format(accuracy))"
      ],
      "metadata": {
        "colab": {
          "base_uri": "https://localhost:8080/"
        },
        "id": "espFQdMK9DnJ",
        "outputId": "56f2bd82-e482-4ab7-9f1a-16585022d6c7"
      },
      "execution_count": 62,
      "outputs": [
        {
          "output_type": "stream",
          "name": "stdout",
          "text": [
            "Validation Accuracy:  0.9391\n",
            "Testing Accuracy: 0.8660\n"
          ]
        }
      ]
    }
  ]
}
