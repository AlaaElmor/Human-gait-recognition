{
  "cells": [
    {
      "cell_type": "code",
      "execution_count": 17,
      "id": "ec41b301",
      "metadata": {
        "colab": {
          "base_uri": "https://localhost:8080/"
        },
        "id": "ec41b301",
        "outputId": "01708467-1f64-4dbf-ee5f-b2aab1c7f388"
      },
      "outputs": [
        {
          "output_type": "stream",
          "name": "stdout",
          "text": [
            "Mounted at /content/drive\n",
            "Mounted at /content/gdrive\n"
          ]
        }
      ],
      "source": [
        "from google.colab import drive\n",
        "drive.mount('/content/drive')\n",
        "\n",
        "from google.colab import drive\n",
        "\n",
        "drive.mount('/content/gdrive')\n",
        "root_path = 'gdrive/My Drive/'  #change dir to your project folder\n",
        "\n",
        "import tensorflow as tf\n",
        "from tensorflow import keras\n",
        "from keras import preprocessing\n",
        "from tensorflow.keras import layers ,models\n",
        "import numpy as np\n",
        "import os\n",
        "\n",
        "def load_X(path):\n",
        "    X_signals = []\n",
        "    files = os.listdir(path)\n",
        "    for my_file in files:\n",
        "        fileName = os.path.join(path,my_file)\n",
        "        file = open(fileName, 'r')\n",
        "        X_signals.append(\n",
        "            [np.array(cell, dtype=np.float32) for cell in [\n",
        "                row.strip().split(' ') for row in file\n",
        "            ]]\n",
        "        )\n",
        "        file.close()\n",
        "        #X_signals = 6*totalStepNum*128\n",
        "    return np.transpose(np.array(X_signals), (1, 2, 0))#(totalStepNum*128*6)\n",
        "def load_y(y_path):\n",
        "    file = open(y_path, 'r')\n",
        "    # Read dataset from disk, dealing with text file's syntax\n",
        "    y_ = np.array(\n",
        "        [elem for elem in [\n",
        "            row.replace('  ', ' ').strip().split(' ') for row in file\n",
        "        ]],\n",
        "        dtype=np.int32\n",
        "    )\n",
        "    file.close()\n",
        "    # Substract 1 to each output class for friendly 0-based indexing\n",
        "    y_ = y_ - 1\n",
        "    #one_hot\n",
        "    y_ = y_.reshape(len(y_))\n",
        "    n_values = int(np.max(y_)) + 1\n",
        "    return np.eye(n_values)[np.array(y_, dtype=np.int32)]  # Returns FLOATS\n",
        "\n",
        "X_train = load_X('gdrive/My Drive/Dataset_1/train/Inertial')\n",
        "X_test = load_X('gdrive/My Drive/Dataset_1/test/Inertial')\n",
        "\n",
        "train_label = load_y('gdrive/My Drive/Dataset_1/train/y_train.txt')\n",
        "test_label = load_y('gdrive/My Drive/Dataset_1/test/y_test.txt')\n"
      ]
    },
    {
      "cell_type": "code",
      "execution_count": 18,
      "id": "c56597bc",
      "metadata": {
        "colab": {
          "base_uri": "https://localhost:8080/"
        },
        "id": "c56597bc",
        "outputId": "b8152427-6c94-4892-ed7d-5c0a2a2652f5"
      },
      "outputs": [
        {
          "output_type": "stream",
          "name": "stdout",
          "text": [
            "(33104, 128, 6)\n",
            "(3740, 128, 6)\n",
            "(33104, 118)\n",
            "(3740, 118)\n",
            "(33104, 6, 128, 1)\n",
            "(3740, 6, 128, 1)\n",
            "(33104, 118)\n",
            "(3740, 118)\n"
          ]
        },
        {
          "output_type": "execute_result",
          "data": {
            "text/plain": [
              "2"
            ]
          },
          "metadata": {},
          "execution_count": 18
        }
      ],
      "source": [
        "print(X_train.shape)\n",
        "print(X_test.shape)\n",
        "print(train_label.shape)\n",
        "print(test_label.shape)\n",
        "\n",
        "dtrain_shape = X_train.shape\n",
        "X_train = X_train.reshape(dtrain_shape[0], 1, dtrain_shape[1], dtrain_shape[2])\n",
        "X_train = X_train.transpose(0, 3, 2, 1) \n",
        "\n",
        "dtest_shape = X_test.shape\n",
        "X_test = X_test.reshape(dtest_shape[0], 1, dtest_shape[1], dtest_shape[2])\n",
        "X_test = X_test.transpose(0, 3, 2, 1) \n",
        "\n",
        "print(X_train.shape)\n",
        "print(X_test.shape)\n",
        "print(train_label.shape)\n",
        "print(test_label.shape)\n",
        "\n",
        "num_classes = len(np.unique(train_label))\n",
        "num_classes"
      ]
    },
    {
      "cell_type": "code",
      "execution_count": 19,
      "id": "732771fd",
      "metadata": {
        "id": "732771fd"
      },
      "outputs": [],
      "source": [
        "idx = np.random.permutation(len(X_train))\n",
        "X_train = X_train[idx]\n",
        "train_label = train_label[idx]"
      ]
    },
    {
      "cell_type": "code",
      "execution_count": 20,
      "id": "8b4cc7c8",
      "metadata": {
        "id": "8b4cc7c8"
      },
      "outputs": [],
      "source": [
        "import tensorflow as tf\n",
        "from tensorflow import keras\n",
        "from keras import preprocessing\n",
        "from tensorflow.keras import layers ,models\n",
        "import numpy as np\n",
        "from keras.models import Sequential\n",
        "from keras.layers import Dense\n",
        "from keras.layers import Flatten\n",
        "from keras.layers import Dropout\n",
        "from keras import Model\n",
        "from keras.layers import LSTM,ConvLSTM2D, Conv1D, concatenate,GlobalMaxPooling1D,TimeDistributed, MaxPooling1D\n",
        "from keras.layers import concatenate\n",
        "from keras.callbacks import ModelCheckpoint,EarlyStopping"
      ]
    },
    {
      "cell_type": "code",
      "execution_count": 21,
      "id": "a4f4c58e",
      "metadata": {
        "colab": {
          "base_uri": "https://localhost:8080/"
        },
        "id": "a4f4c58e",
        "outputId": "4e948f3a-60d2-48e9-edb9-863ff57e2772"
      },
      "outputs": [
        {
          "output_type": "stream",
          "name": "stdout",
          "text": [
            "128 6\n"
          ]
        }
      ],
      "source": [
        "n_timesteps, n_features, n_outputs = X_train.shape[1], X_train.shape[2], train_label.shape[1]\n",
        "print( n_features,n_timesteps )"
      ]
    },
    {
      "cell_type": "code",
      "execution_count": 22,
      "id": "58a87b74",
      "metadata": {
        "colab": {
          "base_uri": "https://localhost:8080/"
        },
        "id": "58a87b74",
        "outputId": "e8e80bf8-93ad-4e5e-a346-211a0cd97151"
      },
      "outputs": [
        {
          "output_type": "stream",
          "name": "stdout",
          "text": [
            "Model: \"model_3\"\n",
            "_________________________________________________________________\n",
            " Layer (type)                Output Shape              Param #   \n",
            "=================================================================\n",
            " input_4 (InputLayer)        [(None, 6, 128, 1)]       0         \n",
            "                                                                 \n",
            " conv2d_4 (Conv2D)           (None, 6, 64, 32)         320       \n",
            "                                                                 \n",
            " re_lu_4 (ReLU)              (None, 6, 64, 32)         0         \n",
            "                                                                 \n",
            " dropout_4 (Dropout)         (None, 6, 64, 32)         0         \n",
            "                                                                 \n",
            " max_pooling2d_2 (MaxPooling  (None, 6, 32, 32)        0         \n",
            " 2D)                                                             \n",
            "                                                                 \n",
            " conv2d_5 (Conv2D)           (None, 6, 32, 64)         6208      \n",
            "                                                                 \n",
            " re_lu_5 (ReLU)              (None, 6, 32, 64)         0         \n",
            "                                                                 \n",
            " conv2d_6 (Conv2D)           (None, 6, 32, 128)        24704     \n",
            "                                                                 \n",
            " re_lu_6 (ReLU)              (None, 6, 32, 128)        0         \n",
            "                                                                 \n",
            " max_pooling2d_3 (MaxPooling  (None, 6, 16, 128)       0         \n",
            " 2D)                                                             \n",
            "                                                                 \n",
            " conv2d_7 (Conv2D)           (None, 1, 16, 128)        98432     \n",
            "                                                                 \n",
            " re_lu_7 (ReLU)              (None, 1, 16, 128)        0         \n",
            "                                                                 \n",
            " dropout_5 (Dropout)         (None, 1, 16, 128)        0         \n",
            "                                                                 \n",
            " flatten_3 (Flatten)         (None, 2048)              0         \n",
            "                                                                 \n",
            "=================================================================\n",
            "Total params: 129,664\n",
            "Trainable params: 129,664\n",
            "Non-trainable params: 0\n",
            "_________________________________________________________________\n",
            "WARNING:tensorflow:Layer lstm_2 will not use cuDNN kernels since it doesn't meet the criteria. It will use a generic GPU kernel as fallback when running on GPU.\n",
            "WARNING:tensorflow:Layer lstm_3 will not use cuDNN kernels since it doesn't meet the criteria. It will use a generic GPU kernel as fallback when running on GPU.\n",
            "Model: \"model_4\"\n",
            "_________________________________________________________________\n",
            " Layer (type)                Output Shape              Param #   \n",
            "=================================================================\n",
            " input_5 (InputLayer)        [(None, 6, 128, 1)]       0         \n",
            "                                                                 \n",
            " time_distributed_3 (TimeDis  (None, 6, 128)           66560     \n",
            " tributed)                                                       \n",
            "                                                                 \n",
            " time_distributed_4 (TimeDis  (None, 6, 128)           0         \n",
            " tributed)                                                       \n",
            "                                                                 \n",
            " time_distributed_5 (TimeDis  (None, 6, 128)           0         \n",
            " tributed)                                                       \n",
            "                                                                 \n",
            " lstm_3 (LSTM)               (None, 1024)              4722688   \n",
            "                                                                 \n",
            " dropout_7 (Dropout)         (None, 1024)              0         \n",
            "                                                                 \n",
            " flatten_5 (Flatten)         (None, 1024)              0         \n",
            "                                                                 \n",
            "=================================================================\n",
            "Total params: 4,789,248\n",
            "Trainable params: 4,789,248\n",
            "Non-trainable params: 0\n",
            "_________________________________________________________________\n"
          ]
        }
      ],
      "source": [
        "from keras.layers import Concatenate\n",
        "model1_in = keras.layers.Input(X_train.shape[1:])\n",
        "conv1_1 = keras.layers.Conv2D(filters=32, kernel_size=[1, 9], strides=[1,2], padding=\"same\")(model1_in)\n",
        "conv1_1 = keras.layers.ReLU()(conv1_1)\n",
        "conv1_2 = Dropout(0.5)(conv1_1)\n",
        "pool1 = keras.layers.MaxPooling2D(pool_size=(1, 2), strides=[1,2], padding=\"same\", data_format=None)(conv1_2)  \n",
        "conv2_1 = keras.layers.Conv2D(filters=64, kernel_size=[1, 3], strides=1,padding=\"same\")(pool1)\n",
        "conv2_1 = keras.layers.ReLU()(conv2_1)\n",
        "conv2_2 = keras.layers.Conv2D(filters=128, kernel_size=[1, 3], strides=1, padding=\"same\")(conv2_1)\n",
        "conv2_2 = keras.layers.ReLU()(conv2_2)\n",
        "pool2 = keras.layers.MaxPooling2D(pool_size=(1, 2), strides=[1,2], padding=\"same\", data_format=None)(conv2_2)\n",
        "conv3_1 = keras.layers.Conv2D(filters=128, kernel_size=[6, 1], strides=[6,1], padding=\"same\")(pool2)\n",
        "conv3_1 = keras.layers.ReLU()(conv3_1)\n",
        "conv3_2 = Dropout(0.5)(conv3_1)\n",
        "#model1_out= tf.reshape(conv3_1,[-1,n_outputs])\n",
        "model1_outf = Flatten()(conv3_2)\n",
        "cnn_model = Model(model1_in, model1_outf)\n",
        "cnn_model.summary()\n",
        "\n",
        "model2_in = keras.layers.Input(X_train.shape[1:])\n",
        "l1 = keras.layers.TimeDistributed(LSTM(128,  activation='relu'))(model2_in)\n",
        "l2 = keras.layers.TimeDistributed(Dropout(0.5))(l1)\n",
        "l3 = keras.layers.TimeDistributed(Flatten())(l2)\n",
        "l4 = keras.layers.LSTM(1024, activation = 'relu')(l3)  \n",
        "l5 = Dropout(0.5)(l4)\n",
        "model2_outf = Flatten()(l5)  \n",
        "lstm_model = Model(model2_in, model2_outf)\n",
        "lstm_model.summary()\n",
        "\n",
        "inputs = tf.keras.layers.Input(shape=X_train.shape[1:])\n",
        "combined = tf.keras.layers.Concatenate()([cnn_model(inputs), lstm_model(inputs)])\n",
        "outputs = tf.keras.layers.Dense(118)(combined)\n",
        "\n",
        "model3 = tf.keras.models.Model(inputs, outputs)\n",
        "cnn_model.trainable = False\n",
        "lstm_model.trainable = False\n",
        "\n",
        "\n"
      ]
    },
    {
      "cell_type": "code",
      "execution_count": 28,
      "id": "f06b5eb1",
      "metadata": {
        "colab": {
          "base_uri": "https://localhost:8080/"
        },
        "id": "f06b5eb1",
        "outputId": "98dbe3db-d75b-4b38-d58d-030d4503afdd"
      },
      "outputs": [
        {
          "output_type": "stream",
          "name": "stdout",
          "text": [
            "Epoch 1/200\n",
            "18/18 [==============================] - ETA: 0s - loss: 0.0222 - accuracy: 0.4368WARNING:tensorflow:Can save best model only with val_acc available, skipping.\n",
            "18/18 [==============================] - 14s 631ms/step - loss: 0.0222 - accuracy: 0.4368 - val_loss: 0.0081 - val_accuracy: 0.6632\n",
            "Epoch 2/200\n",
            "18/18 [==============================] - ETA: 0s - loss: 0.0090 - accuracy: 0.5677WARNING:tensorflow:Can save best model only with val_acc available, skipping.\n",
            "18/18 [==============================] - 10s 567ms/step - loss: 0.0090 - accuracy: 0.5677 - val_loss: 0.0069 - val_accuracy: 0.6809\n",
            "Epoch 3/200\n",
            "18/18 [==============================] - ETA: 0s - loss: 0.0071 - accuracy: 0.6486WARNING:tensorflow:Can save best model only with val_acc available, skipping.\n",
            "18/18 [==============================] - 10s 566ms/step - loss: 0.0071 - accuracy: 0.6486 - val_loss: 0.0065 - val_accuracy: 0.7861\n",
            "Epoch 4/200\n",
            "18/18 [==============================] - ETA: 0s - loss: 0.0067 - accuracy: 0.6753WARNING:tensorflow:Can save best model only with val_acc available, skipping.\n",
            "18/18 [==============================] - 10s 565ms/step - loss: 0.0067 - accuracy: 0.6753 - val_loss: 0.0064 - val_accuracy: 0.7950\n",
            "Epoch 5/200\n",
            "18/18 [==============================] - ETA: 0s - loss: 0.0067 - accuracy: 0.6821WARNING:tensorflow:Can save best model only with val_acc available, skipping.\n",
            "18/18 [==============================] - 10s 564ms/step - loss: 0.0067 - accuracy: 0.6821 - val_loss: 0.0064 - val_accuracy: 0.8040\n",
            "Epoch 6/200\n",
            "18/18 [==============================] - ETA: 0s - loss: 0.0067 - accuracy: 0.6834WARNING:tensorflow:Can save best model only with val_acc available, skipping.\n",
            "18/18 [==============================] - 10s 564ms/step - loss: 0.0067 - accuracy: 0.6834 - val_loss: 0.0064 - val_accuracy: 0.8068\n",
            "Epoch 7/200\n",
            "18/18 [==============================] - ETA: 0s - loss: 0.0067 - accuracy: 0.6841WARNING:tensorflow:Can save best model only with val_acc available, skipping.\n",
            "18/18 [==============================] - 10s 565ms/step - loss: 0.0067 - accuracy: 0.6841 - val_loss: 0.0064 - val_accuracy: 0.8126\n",
            "Epoch 8/200\n",
            "18/18 [==============================] - ETA: 0s - loss: 0.0067 - accuracy: 0.6828WARNING:tensorflow:Can save best model only with val_acc available, skipping.\n",
            "18/18 [==============================] - 10s 564ms/step - loss: 0.0067 - accuracy: 0.6828 - val_loss: 0.0064 - val_accuracy: 0.8005\n",
            "Epoch 9/200\n",
            "18/18 [==============================] - ETA: 0s - loss: 0.0067 - accuracy: 0.6834WARNING:tensorflow:Can save best model only with val_acc available, skipping.\n",
            "18/18 [==============================] - 10s 565ms/step - loss: 0.0067 - accuracy: 0.6834 - val_loss: 0.0064 - val_accuracy: 0.8006\n",
            "Epoch 10/200\n",
            "18/18 [==============================] - ETA: 0s - loss: 0.0067 - accuracy: 0.6858WARNING:tensorflow:Can save best model only with val_acc available, skipping.\n",
            "18/18 [==============================] - 10s 564ms/step - loss: 0.0067 - accuracy: 0.6858 - val_loss: 0.0064 - val_accuracy: 0.8035\n",
            "Epoch 11/200\n",
            "18/18 [==============================] - ETA: 0s - loss: 0.0067 - accuracy: 0.6803WARNING:tensorflow:Can save best model only with val_acc available, skipping.\n",
            "18/18 [==============================] - 10s 564ms/step - loss: 0.0067 - accuracy: 0.6803 - val_loss: 0.0064 - val_accuracy: 0.8017\n",
            "Epoch 12/200\n",
            "18/18 [==============================] - ETA: 0s - loss: 0.0067 - accuracy: 0.6802WARNING:tensorflow:Can save best model only with val_acc available, skipping.\n",
            "18/18 [==============================] - 10s 564ms/step - loss: 0.0067 - accuracy: 0.6802 - val_loss: 0.0064 - val_accuracy: 0.8053\n",
            "Epoch 13/200\n",
            "18/18 [==============================] - ETA: 0s - loss: 0.0067 - accuracy: 0.6819WARNING:tensorflow:Can save best model only with val_acc available, skipping.\n",
            "18/18 [==============================] - 10s 565ms/step - loss: 0.0067 - accuracy: 0.6819 - val_loss: 0.0064 - val_accuracy: 0.8135\n",
            "Epoch 14/200\n",
            "18/18 [==============================] - ETA: 0s - loss: 0.0067 - accuracy: 0.6832WARNING:tensorflow:Can save best model only with val_acc available, skipping.\n",
            "18/18 [==============================] - 10s 564ms/step - loss: 0.0067 - accuracy: 0.6832 - val_loss: 0.0064 - val_accuracy: 0.8052\n",
            "Epoch 15/200\n",
            "18/18 [==============================] - ETA: 0s - loss: 0.0067 - accuracy: 0.6818WARNING:tensorflow:Can save best model only with val_acc available, skipping.\n",
            "18/18 [==============================] - 10s 564ms/step - loss: 0.0067 - accuracy: 0.6818 - val_loss: 0.0064 - val_accuracy: 0.8050\n",
            "Epoch 16/200\n",
            "18/18 [==============================] - ETA: 0s - loss: 0.0067 - accuracy: 0.6772WARNING:tensorflow:Can save best model only with val_acc available, skipping.\n",
            "18/18 [==============================] - 10s 564ms/step - loss: 0.0067 - accuracy: 0.6772 - val_loss: 0.0064 - val_accuracy: 0.8085\n",
            "Epoch 17/200\n",
            "18/18 [==============================] - ETA: 0s - loss: 0.0067 - accuracy: 0.6785WARNING:tensorflow:Can save best model only with val_acc available, skipping.\n",
            "18/18 [==============================] - 10s 564ms/step - loss: 0.0067 - accuracy: 0.6785 - val_loss: 0.0065 - val_accuracy: 0.8038\n",
            "Epoch 18/200\n",
            "18/18 [==============================] - ETA: 0s - loss: 0.0067 - accuracy: 0.6805WARNING:tensorflow:Can save best model only with val_acc available, skipping.\n",
            "18/18 [==============================] - 10s 564ms/step - loss: 0.0067 - accuracy: 0.6805 - val_loss: 0.0064 - val_accuracy: 0.8111\n",
            "Epoch 19/200\n",
            "18/18 [==============================] - ETA: 0s - loss: 0.0067 - accuracy: 0.6799WARNING:tensorflow:Can save best model only with val_acc available, skipping.\n",
            "18/18 [==============================] - 10s 564ms/step - loss: 0.0067 - accuracy: 0.6799 - val_loss: 0.0065 - val_accuracy: 0.7950\n",
            "Epoch 20/200\n",
            "18/18 [==============================] - ETA: 0s - loss: 0.0067 - accuracy: 0.6778WARNING:tensorflow:Can save best model only with val_acc available, skipping.\n",
            "18/18 [==============================] - 10s 564ms/step - loss: 0.0067 - accuracy: 0.6778 - val_loss: 0.0064 - val_accuracy: 0.8064\n",
            "Epoch 21/200\n",
            "18/18 [==============================] - ETA: 0s - loss: 0.0067 - accuracy: 0.6792WARNING:tensorflow:Can save best model only with val_acc available, skipping.\n",
            "18/18 [==============================] - 10s 564ms/step - loss: 0.0067 - accuracy: 0.6792 - val_loss: 0.0064 - val_accuracy: 0.8050\n",
            "Epoch 22/200\n",
            "18/18 [==============================] - ETA: 0s - loss: 0.0067 - accuracy: 0.6746WARNING:tensorflow:Can save best model only with val_acc available, skipping.\n",
            "18/18 [==============================] - 10s 563ms/step - loss: 0.0067 - accuracy: 0.6746 - val_loss: 0.0064 - val_accuracy: 0.8035\n",
            "Epoch 23/200\n",
            "18/18 [==============================] - ETA: 0s - loss: 0.0067 - accuracy: 0.6809WARNING:tensorflow:Can save best model only with val_acc available, skipping.\n",
            "18/18 [==============================] - 10s 563ms/step - loss: 0.0067 - accuracy: 0.6809 - val_loss: 0.0065 - val_accuracy: 0.8034\n",
            "Epoch 24/200\n",
            "18/18 [==============================] - ETA: 0s - loss: 0.0067 - accuracy: 0.6745WARNING:tensorflow:Can save best model only with val_acc available, skipping.\n",
            "18/18 [==============================] - 10s 564ms/step - loss: 0.0067 - accuracy: 0.6745 - val_loss: 0.0065 - val_accuracy: 0.8000\n"
          ]
        },
        {
          "output_type": "execute_result",
          "data": {
            "text/plain": [
              "<keras.callbacks.History at 0x7f1793a2ba90>"
            ]
          },
          "metadata": {},
          "execution_count": 28
        }
      ],
      "source": [
        "checkpoint = ModelCheckpoint('weights.h5', monitor='val_acc',\n",
        "save_best_only=True, verbose=2)\n",
        "early_stopping = EarlyStopping(monitor=\"val_loss\", patience=10)\n",
        "model3.compile(loss='mse', optimizer='adam', metrics=['accuracy'])\n",
        "model3.fit(X_train, train_label, batch_size=1500, epochs=200, shuffle=True, \n",
        "             verbose=1, validation_split=0.2,\n",
        "callbacks=[early_stopping, checkpoint])"
      ]
    },
    {
      "cell_type": "code",
      "source": [
        "loss, accuracy = model3.evaluate(X_test, test_label, verbose=False)\n",
        "print(\"Testing Accuracy: {:.4f}\".format(accuracy))"
      ],
      "metadata": {
        "colab": {
          "base_uri": "https://localhost:8080/"
        },
        "id": "_fkOHHv0CaVX",
        "outputId": "98a2ce89-2dd1-4f1c-e546-8f6910a0ac2e"
      },
      "id": "_fkOHHv0CaVX",
      "execution_count": 29,
      "outputs": [
        {
          "output_type": "stream",
          "name": "stdout",
          "text": [
            "Testing Accuracy: 0.7182\n"
          ]
        }
      ]
    }
  ],
  "metadata": {
    "kernelspec": {
      "display_name": "Python 3",
      "language": "python",
      "name": "python3"
    },
    "language_info": {
      "codemirror_mode": {
        "name": "ipython",
        "version": 3
      },
      "file_extension": ".py",
      "mimetype": "text/x-python",
      "name": "python",
      "nbconvert_exporter": "python",
      "pygments_lexer": "ipython3",
      "version": "3.6.13"
    },
    "colab": {
      "name": "Untitled-Copy5.ipynb",
      "provenance": []
    },
    "accelerator": "GPU"
  },
  "nbformat": 4,
  "nbformat_minor": 5
}