{
  "nbformat": 4,
  "nbformat_minor": 0,
  "metadata": {
    "colab": {
      "name": "Untitled5.ipynb",
      "provenance": []
    },
    "kernelspec": {
      "name": "python3",
      "display_name": "Python 3"
    },
    "language_info": {
      "name": "python"
    },
    "accelerator": "GPU"
  },
  "cells": [
    {
      "cell_type": "code",
      "execution_count": 18,
      "metadata": {
        "colab": {
          "base_uri": "https://localhost:8080/"
        },
        "id": "RDZ6vXdUtrsp",
        "outputId": "ed864463-54a4-4ff0-d094-296ed3d28903"
      },
      "outputs": [
        {
          "output_type": "stream",
          "name": "stdout",
          "text": [
            "Mounted at /content/drive\n",
            "Mounted at /content/gdrive\n",
            "(33104, 128, 6) (33104, 118) (3740, 128, 6) (3740, 118)\n"
          ]
        }
      ],
      "source": [
        "from google.colab import drive\n",
        "drive.mount('/content/drive')\n",
        "\n",
        "from google.colab import drive\n",
        "\n",
        "drive.mount('/content/gdrive')\n",
        "root_path = 'gdrive/My Drive/'  #change dir to your project folder\n",
        "\n",
        "import numpy as np\n",
        "X_train = np.load('gdrive/My Drive/dataset/acc+gyr/trainX.npy')\n",
        "y_train = np.load('gdrive/My Drive/dataset1/acc+gyr/trainy.npy')\n",
        "X_test = np.load('gdrive/My Drive/dataset1/acc+gyr/testX.npy')\n",
        "y_test = np.load('gdrive/My Drive/dataset1/acc+gyr/testy.npy')\n",
        "print(X_train.shape, y_train.shape, X_test.shape, y_test.shape)"
      ]
    },
    {
      "cell_type": "code",
      "source": [
        "from numpy import mean\n",
        "from numpy import std\n",
        "from numpy import dstack\n",
        "from numpy import save, load\n",
        "from pandas import read_csv\n",
        "from tensorflow import keras\n",
        "from sklearn.preprocessing import StandardScaler\n",
        "from tensorflow.keras.models import Sequential\n",
        "from tensorflow.keras.layers import Dense , Input ,concatenate\n",
        "from tensorflow.keras.layers import Flatten\n",
        "from tensorflow.keras.layers import Dropout\n",
        "from tensorflow.keras import Model\n",
        "from tensorflow.keras.callbacks import EarlyStopping, ModelCheckpoint, ReduceLROnPlateau\n",
        "from tensorflow.keras.layers import LSTM, Conv1D, concatenate,GlobalMaxPooling1D,TimeDistributed, MaxPooling1D\n",
        "from tensorflow.keras.utils import to_categorical\n",
        "from tensorflow.keras.layers import concatenate\n",
        "from tensorflow.keras import regularizers"
      ],
      "metadata": {
        "id": "-Qkx_EZ2uxRJ"
      },
      "execution_count": 19,
      "outputs": []
    },
    {
      "cell_type": "code",
      "source": [
        "from sklearn.model_selection import train_test_split\n",
        "X_training, X_validation, y_training, y_validation = train_test_split(X_train, y_train, test_size=0.20, random_state=42)\n",
        "n_timesteps, n_features, n_outputs = X_train.shape[1], X_train.shape[2], y_train.shape[1]\n",
        "validation_data=(X_validation, y_validation)"
      ],
      "metadata": {
        "id": "QRMig4JduxUD"
      },
      "execution_count": 20,
      "outputs": []
    },
    {
      "cell_type": "code",
      "source": [
        "LSTM_model= Sequential()\n",
        "LSTM_model.add(LSTM(512,input_shape=(n_timesteps,n_features),return_sequences=True))\n",
        "LSTM_model.add(LSTM(256))\n",
        "LSTM_model.add(Dropout(0.2))\n",
        "LSTM_model.add(Dense(128, activation='relu'))\n",
        "LSTM_model.add(Dense(n_outputs, activation='softmax'))\n",
        "LSTM_model.summary()\n",
        "LSTM_model.compile(loss='categorical_crossentropy', optimizer='adam', metrics=['accuracy'])\n",
        "callbacks = [keras.callbacks.EarlyStopping(patience=5, restore_best_weights=True)]\n",
        "LSTM_model.fit(X_training, y_training, epochs=200, verbose=True, validation_data=(X_validation, y_validation), batch_size=128,callbacks=callbacks)"
      ],
      "metadata": {
        "colab": {
          "base_uri": "https://localhost:8080/"
        },
        "id": "Yt-4cl-yuxXF",
        "outputId": "cc9ca876-125d-4247-e459-c862b5cc61e2"
      },
      "execution_count": 27,
      "outputs": [
        {
          "output_type": "stream",
          "name": "stdout",
          "text": [
            "Model: \"sequential_10\"\n",
            "_________________________________________________________________\n",
            " Layer (type)                Output Shape              Param #   \n",
            "=================================================================\n",
            " lstm_11 (LSTM)              (None, 128, 512)          1062912   \n",
            "                                                                 \n",
            " lstm_12 (LSTM)              (None, 256)               787456    \n",
            "                                                                 \n",
            " dropout_13 (Dropout)        (None, 256)               0         \n",
            "                                                                 \n",
            " dense_18 (Dense)            (None, 128)               32896     \n",
            "                                                                 \n",
            " dense_19 (Dense)            (None, 118)               15222     \n",
            "                                                                 \n",
            "=================================================================\n",
            "Total params: 1,898,486\n",
            "Trainable params: 1,898,486\n",
            "Non-trainable params: 0\n",
            "_________________________________________________________________\n",
            "Epoch 1/200\n",
            "207/207 [==============================] - 20s 81ms/step - loss: 2.2055 - accuracy: 0.4419 - val_loss: 1.0286 - val_accuracy: 0.7295\n",
            "Epoch 2/200\n",
            "207/207 [==============================] - 16s 78ms/step - loss: 0.8278 - accuracy: 0.7770 - val_loss: 0.5851 - val_accuracy: 0.8467\n",
            "Epoch 3/200\n",
            "207/207 [==============================] - 17s 81ms/step - loss: 0.5378 - accuracy: 0.8566 - val_loss: 0.4480 - val_accuracy: 0.8768\n",
            "Epoch 4/200\n",
            "207/207 [==============================] - 17s 81ms/step - loss: 0.3917 - accuracy: 0.8939 - val_loss: 0.3330 - val_accuracy: 0.9055\n",
            "Epoch 5/200\n",
            "207/207 [==============================] - 17s 80ms/step - loss: 0.3281 - accuracy: 0.9096 - val_loss: 0.3201 - val_accuracy: 0.9136\n",
            "Epoch 6/200\n",
            "207/207 [==============================] - 17s 80ms/step - loss: 0.2909 - accuracy: 0.9178 - val_loss: 0.3106 - val_accuracy: 0.9091\n",
            "Epoch 7/200\n",
            "207/207 [==============================] - 17s 81ms/step - loss: 0.2246 - accuracy: 0.9360 - val_loss: 0.2279 - val_accuracy: 0.9354\n",
            "Epoch 8/200\n",
            "207/207 [==============================] - 17s 81ms/step - loss: 0.2222 - accuracy: 0.9340 - val_loss: 0.2165 - val_accuracy: 0.9400\n",
            "Epoch 9/200\n",
            "207/207 [==============================] - 17s 81ms/step - loss: 0.1658 - accuracy: 0.9533 - val_loss: 0.2163 - val_accuracy: 0.9363\n",
            "Epoch 10/200\n",
            "207/207 [==============================] - 17s 80ms/step - loss: 0.1592 - accuracy: 0.9528 - val_loss: 0.1999 - val_accuracy: 0.9437\n",
            "Epoch 11/200\n",
            "207/207 [==============================] - 17s 80ms/step - loss: 0.1422 - accuracy: 0.9586 - val_loss: 0.1699 - val_accuracy: 0.9545\n",
            "Epoch 12/200\n",
            "207/207 [==============================] - 17s 80ms/step - loss: 0.1333 - accuracy: 0.9614 - val_loss: 0.2308 - val_accuracy: 0.9414\n",
            "Epoch 13/200\n",
            "207/207 [==============================] - 17s 80ms/step - loss: 0.1443 - accuracy: 0.9570 - val_loss: 0.1814 - val_accuracy: 0.9520\n",
            "Epoch 14/200\n",
            "207/207 [==============================] - 17s 80ms/step - loss: 0.1183 - accuracy: 0.9661 - val_loss: 0.1572 - val_accuracy: 0.9576\n",
            "Epoch 15/200\n",
            "207/207 [==============================] - 17s 81ms/step - loss: 0.0923 - accuracy: 0.9728 - val_loss: 0.1506 - val_accuracy: 0.9613\n",
            "Epoch 16/200\n",
            "207/207 [==============================] - 17s 80ms/step - loss: 0.1085 - accuracy: 0.9677 - val_loss: 0.1503 - val_accuracy: 0.9592\n",
            "Epoch 17/200\n",
            "207/207 [==============================] - 17s 80ms/step - loss: 0.0949 - accuracy: 0.9718 - val_loss: 0.1385 - val_accuracy: 0.9633\n",
            "Epoch 18/200\n",
            "207/207 [==============================] - 16s 79ms/step - loss: 0.0936 - accuracy: 0.9716 - val_loss: 0.1536 - val_accuracy: 0.9597\n",
            "Epoch 19/200\n",
            "207/207 [==============================] - 16s 78ms/step - loss: 0.0708 - accuracy: 0.9789 - val_loss: 0.1242 - val_accuracy: 0.9693\n",
            "Epoch 20/200\n",
            "207/207 [==============================] - 16s 79ms/step - loss: 0.0760 - accuracy: 0.9769 - val_loss: 0.1627 - val_accuracy: 0.9570\n",
            "Epoch 21/200\n",
            "207/207 [==============================] - 17s 80ms/step - loss: 0.0875 - accuracy: 0.9732 - val_loss: 0.1567 - val_accuracy: 0.9618\n",
            "Epoch 22/200\n",
            "207/207 [==============================] - 17s 80ms/step - loss: 0.0660 - accuracy: 0.9794 - val_loss: 0.1378 - val_accuracy: 0.9662\n",
            "Epoch 23/200\n",
            "207/207 [==============================] - 17s 81ms/step - loss: 0.0560 - accuracy: 0.9830 - val_loss: 0.1488 - val_accuracy: 0.9601\n",
            "Epoch 24/200\n",
            "207/207 [==============================] - 17s 81ms/step - loss: 0.0670 - accuracy: 0.9790 - val_loss: 0.1464 - val_accuracy: 0.9653\n"
          ]
        },
        {
          "output_type": "execute_result",
          "data": {
            "text/plain": [
              "<keras.callbacks.History at 0x7fe29018b0d0>"
            ]
          },
          "metadata": {},
          "execution_count": 27
        }
      ]
    },
    {
      "cell_type": "code",
      "source": [
        "loss, accuracy = LSTM_model.evaluate(X_validation, y_validation, verbose=False)\n",
        "print(\"Validation Accuracy:  {:.4f}\".format(accuracy))\n",
        "loss, accuracy = LSTM_model.evaluate(X_test, y_test, verbose=False)\n",
        "print(\"Testing Accuracy: {:.4f}\".format(accuracy))"
      ],
      "metadata": {
        "colab": {
          "base_uri": "https://localhost:8080/"
        },
        "id": "IF3_pawu3KAS",
        "outputId": "25187fa2-2023-4310-e12e-30a52d74ac5b"
      },
      "execution_count": 28,
      "outputs": [
        {
          "output_type": "stream",
          "name": "stdout",
          "text": [
            "Validation Accuracy:  0.9693\n",
            "Testing Accuracy: 0.9045\n"
          ]
        }
      ]
    },
    {
      "cell_type": "code",
      "source": [
        "#lstm_output_layer_weights_values = LSTM_model.layers[4].get_weights()    \n",
        "LSTM_model.trainable = False\n",
        "\n",
        "CNN_model= Sequential()\n",
        "CNN_model.add(Conv1D(filters=32, kernel_size=9, strides=2, activation='relu', input_shape=(n_timesteps,n_features)))\n",
        "CNN_model.add(MaxPooling1D(pool_size=2 ,strides=2))\n",
        "CNN_model.add(Dropout(0.5))\n",
        "CNN_model.add(Conv1D(filters=64, kernel_size=3, strides=1, activation='relu'))\n",
        "CNN_model.add(Conv1D(filters=128, kernel_size=3, strides=1, activation='relu'))\n",
        "CNN_model.add(MaxPooling1D(pool_size=2 ,strides=2))\n",
        "CNN_model.add(Dropout(0.5))\n",
        "CNN_model.add(Conv1D(filters=128, kernel_size=1, strides=1, activation='relu'))\n",
        "CNN_model.add(Flatten())\n",
        "CNN_model.add(Dense(n_outputs, activation='relu'))\n",
        "CNN_model.summary()\n",
        "\n",
        "\n",
        "inputs = Input(shape=(n_timesteps,n_features))\n",
        "mergedInput= concatenate([CNN_model(inputs),LSTM_model(inputs)])\n",
        "out = Dense(n_outputs, activation='softmax')(mergedInput)\n",
        "model3 = Model(inputs,out)\n",
        "model3.compile(loss='categorical_crossentropy', optimizer='adam', metrics=['accuracy'])\n",
        "#model3.layers[0].set_weights(LSTM_model.layers[4].get_weights())\n",
        "model3.summary()"
      ],
      "metadata": {
        "colab": {
          "base_uri": "https://localhost:8080/"
        },
        "id": "2cM0iBU4uxZ9",
        "outputId": "d023dce1-f5c5-4b9f-9562-87287b66a7b8"
      },
      "execution_count": 29,
      "outputs": [
        {
          "output_type": "stream",
          "name": "stdout",
          "text": [
            "Model: \"sequential_11\"\n",
            "_________________________________________________________________\n",
            " Layer (type)                Output Shape              Param #   \n",
            "=================================================================\n",
            " conv1d_16 (Conv1D)          (None, 60, 32)            1760      \n",
            "                                                                 \n",
            " max_pooling1d_8 (MaxPooling  (None, 30, 32)           0         \n",
            " 1D)                                                             \n",
            "                                                                 \n",
            " dropout_14 (Dropout)        (None, 30, 32)            0         \n",
            "                                                                 \n",
            " conv1d_17 (Conv1D)          (None, 28, 64)            6208      \n",
            "                                                                 \n",
            " conv1d_18 (Conv1D)          (None, 26, 128)           24704     \n",
            "                                                                 \n",
            " max_pooling1d_9 (MaxPooling  (None, 13, 128)          0         \n",
            " 1D)                                                             \n",
            "                                                                 \n",
            " dropout_15 (Dropout)        (None, 13, 128)           0         \n",
            "                                                                 \n",
            " conv1d_19 (Conv1D)          (None, 13, 128)           16512     \n",
            "                                                                 \n",
            " flatten_4 (Flatten)         (None, 1664)              0         \n",
            "                                                                 \n",
            " dense_20 (Dense)            (None, 118)               196470    \n",
            "                                                                 \n",
            "=================================================================\n",
            "Total params: 245,654\n",
            "Trainable params: 245,654\n",
            "Non-trainable params: 0\n",
            "_________________________________________________________________\n",
            "Model: \"model_4\"\n",
            "__________________________________________________________________________________________________\n",
            " Layer (type)                   Output Shape         Param #     Connected to                     \n",
            "==================================================================================================\n",
            " input_5 (InputLayer)           [(None, 128, 6)]     0           []                               \n",
            "                                                                                                  \n",
            " sequential_11 (Sequential)     (None, 118)          245654      ['input_5[0][0]']                \n",
            "                                                                                                  \n",
            " sequential_10 (Sequential)     (None, 118)          1898486     ['input_5[0][0]']                \n",
            "                                                                                                  \n",
            " concatenate_4 (Concatenate)    (None, 236)          0           ['sequential_11[0][0]',          \n",
            "                                                                  'sequential_10[0][0]']          \n",
            "                                                                                                  \n",
            " dense_21 (Dense)               (None, 118)          27966       ['concatenate_4[0][0]']          \n",
            "                                                                                                  \n",
            "==================================================================================================\n",
            "Total params: 2,172,106\n",
            "Trainable params: 273,620\n",
            "Non-trainable params: 1,898,486\n",
            "__________________________________________________________________________________________________\n"
          ]
        }
      ]
    },
    {
      "cell_type": "code",
      "source": [
        "history = model3.fit(X_training, y_training, epochs=200, verbose=True, validation_data=(X_validation, y_validation), batch_size=128,callbacks=callbacks)"
      ],
      "metadata": {
        "colab": {
          "base_uri": "https://localhost:8080/"
        },
        "id": "leAK4cae3mSx",
        "outputId": "88d77121-0db0-42ee-8ed4-95f815c63c28"
      },
      "execution_count": 30,
      "outputs": [
        {
          "output_type": "stream",
          "name": "stdout",
          "text": [
            "Epoch 1/200\n",
            "207/207 [==============================] - 12s 42ms/step - loss: 2.4559 - accuracy: 0.4206 - val_loss: 0.8304 - val_accuracy: 0.7946\n",
            "Epoch 2/200\n",
            "207/207 [==============================] - 8s 37ms/step - loss: 0.7548 - accuracy: 0.8094 - val_loss: 0.5119 - val_accuracy: 0.8740\n",
            "Epoch 3/200\n",
            "207/207 [==============================] - 8s 37ms/step - loss: 0.5166 - accuracy: 0.8670 - val_loss: 0.3645 - val_accuracy: 0.9121\n",
            "Epoch 4/200\n",
            "207/207 [==============================] - 8s 37ms/step - loss: 0.4046 - accuracy: 0.8948 - val_loss: 0.3082 - val_accuracy: 0.9218\n",
            "Epoch 5/200\n",
            "207/207 [==============================] - 8s 37ms/step - loss: 0.3422 - accuracy: 0.9110 - val_loss: 0.2689 - val_accuracy: 0.9369\n",
            "Epoch 6/200\n",
            "207/207 [==============================] - 8s 38ms/step - loss: 0.2878 - accuracy: 0.9244 - val_loss: 0.2376 - val_accuracy: 0.9388\n",
            "Epoch 7/200\n",
            "207/207 [==============================] - 8s 38ms/step - loss: 0.2476 - accuracy: 0.9355 - val_loss: 0.2120 - val_accuracy: 0.9471\n",
            "Epoch 8/200\n",
            "207/207 [==============================] - 8s 38ms/step - loss: 0.2161 - accuracy: 0.9432 - val_loss: 0.1933 - val_accuracy: 0.9518\n",
            "Epoch 9/200\n",
            "207/207 [==============================] - 8s 38ms/step - loss: 0.1935 - accuracy: 0.9488 - val_loss: 0.1805 - val_accuracy: 0.9571\n",
            "Epoch 10/200\n",
            "207/207 [==============================] - 8s 38ms/step - loss: 0.1719 - accuracy: 0.9546 - val_loss: 0.1785 - val_accuracy: 0.9533\n",
            "Epoch 11/200\n",
            "207/207 [==============================] - 8s 38ms/step - loss: 0.1539 - accuracy: 0.9577 - val_loss: 0.1800 - val_accuracy: 0.9536\n",
            "Epoch 12/200\n",
            "207/207 [==============================] - 8s 37ms/step - loss: 0.1431 - accuracy: 0.9611 - val_loss: 0.1697 - val_accuracy: 0.9556\n",
            "Epoch 13/200\n",
            "207/207 [==============================] - 8s 37ms/step - loss: 0.1306 - accuracy: 0.9641 - val_loss: 0.1548 - val_accuracy: 0.9615\n",
            "Epoch 14/200\n",
            "207/207 [==============================] - 8s 36ms/step - loss: 0.1178 - accuracy: 0.9682 - val_loss: 0.1476 - val_accuracy: 0.9642\n",
            "Epoch 15/200\n",
            "207/207 [==============================] - 8s 37ms/step - loss: 0.1079 - accuracy: 0.9703 - val_loss: 0.1443 - val_accuracy: 0.9662\n",
            "Epoch 16/200\n",
            "207/207 [==============================] - 8s 36ms/step - loss: 0.0975 - accuracy: 0.9729 - val_loss: 0.1358 - val_accuracy: 0.9677\n",
            "Epoch 17/200\n",
            "207/207 [==============================] - 8s 36ms/step - loss: 0.0917 - accuracy: 0.9737 - val_loss: 0.1347 - val_accuracy: 0.9677\n",
            "Epoch 18/200\n",
            "207/207 [==============================] - 7s 36ms/step - loss: 0.0867 - accuracy: 0.9757 - val_loss: 0.1349 - val_accuracy: 0.9660\n",
            "Epoch 19/200\n",
            "207/207 [==============================] - 7s 36ms/step - loss: 0.0836 - accuracy: 0.9772 - val_loss: 0.1299 - val_accuracy: 0.9698\n",
            "Epoch 20/200\n",
            "207/207 [==============================] - 7s 36ms/step - loss: 0.0756 - accuracy: 0.9790 - val_loss: 0.1376 - val_accuracy: 0.9668\n",
            "Epoch 21/200\n",
            "207/207 [==============================] - 7s 36ms/step - loss: 0.0738 - accuracy: 0.9793 - val_loss: 0.1236 - val_accuracy: 0.9699\n",
            "Epoch 22/200\n",
            "207/207 [==============================] - 8s 36ms/step - loss: 0.0679 - accuracy: 0.9815 - val_loss: 0.1218 - val_accuracy: 0.9699\n",
            "Epoch 23/200\n",
            "207/207 [==============================] - 8s 36ms/step - loss: 0.0652 - accuracy: 0.9824 - val_loss: 0.1214 - val_accuracy: 0.9701\n",
            "Epoch 24/200\n",
            "207/207 [==============================] - 8s 37ms/step - loss: 0.0621 - accuracy: 0.9824 - val_loss: 0.1219 - val_accuracy: 0.9698\n",
            "Epoch 25/200\n",
            "207/207 [==============================] - 9s 42ms/step - loss: 0.0576 - accuracy: 0.9836 - val_loss: 0.1203 - val_accuracy: 0.9705\n",
            "Epoch 26/200\n",
            "207/207 [==============================] - 8s 36ms/step - loss: 0.0548 - accuracy: 0.9849 - val_loss: 0.1263 - val_accuracy: 0.9699\n",
            "Epoch 27/200\n",
            "207/207 [==============================] - 8s 37ms/step - loss: 0.0526 - accuracy: 0.9850 - val_loss: 0.1224 - val_accuracy: 0.9699\n",
            "Epoch 28/200\n",
            "207/207 [==============================] - 7s 36ms/step - loss: 0.0520 - accuracy: 0.9855 - val_loss: 0.1162 - val_accuracy: 0.9718\n",
            "Epoch 29/200\n",
            "207/207 [==============================] - 8s 36ms/step - loss: 0.0481 - accuracy: 0.9870 - val_loss: 0.1171 - val_accuracy: 0.9718\n",
            "Epoch 30/200\n",
            "207/207 [==============================] - 7s 36ms/step - loss: 0.0476 - accuracy: 0.9877 - val_loss: 0.1127 - val_accuracy: 0.9719\n",
            "Epoch 31/200\n",
            "207/207 [==============================] - 7s 36ms/step - loss: 0.0439 - accuracy: 0.9883 - val_loss: 0.1147 - val_accuracy: 0.9736\n",
            "Epoch 32/200\n",
            "207/207 [==============================] - 7s 36ms/step - loss: 0.0442 - accuracy: 0.9877 - val_loss: 0.1141 - val_accuracy: 0.9733\n",
            "Epoch 33/200\n",
            "207/207 [==============================] - 7s 36ms/step - loss: 0.0400 - accuracy: 0.9894 - val_loss: 0.1147 - val_accuracy: 0.9702\n",
            "Epoch 34/200\n",
            "207/207 [==============================] - 7s 36ms/step - loss: 0.0398 - accuracy: 0.9891 - val_loss: 0.1224 - val_accuracy: 0.9707\n",
            "Epoch 35/200\n",
            "207/207 [==============================] - 7s 36ms/step - loss: 0.0387 - accuracy: 0.9891 - val_loss: 0.1191 - val_accuracy: 0.9722\n"
          ]
        }
      ]
    },
    {
      "cell_type": "code",
      "source": [
        "loss, accuracy = model3.evaluate(X_validation, y_validation, verbose=False)\n",
        "print(\"Validation Accuracy:  {:.4f}\".format(accuracy))\n",
        "loss, accuracy = model3.evaluate(X_test, y_test, verbose=False)\n",
        "print(\"Testing Accuracy: {:.4f}\".format(accuracy))"
      ],
      "metadata": {
        "colab": {
          "base_uri": "https://localhost:8080/"
        },
        "id": "BrRZlOJMuxdZ",
        "outputId": "ab6fe128-04ca-47a6-afbf-bbbdfe2461fd"
      },
      "execution_count": 31,
      "outputs": [
        {
          "output_type": "stream",
          "name": "stdout",
          "text": [
            "Validation Accuracy:  0.9719\n",
            "Testing Accuracy: 0.9136\n"
          ]
        }
      ]
    },
    {
      "cell_type": "code",
      "source": [
        "from matplotlib import pyplot as plt\n",
        "plt.plot(history.history[\"loss\"], label=\"Training Loss\")\n",
        "plt.plot(history.history[\"val_loss\"], label=\"Validation Loss\")\n",
        "plt.legend()\n",
        "plt.show()"
      ],
      "metadata": {
        "colab": {
          "base_uri": "https://localhost:8080/",
          "height": 265
        },
        "id": "JkKl9CyQvFku",
        "outputId": "5078f996-f19e-4994-cf9d-a165c76960f0"
      },
      "execution_count": 32,
      "outputs": [
        {
          "output_type": "display_data",
          "data": {
            "image/png": "[encoded data removed]",
            "text/plain": [
              "<Figure size 432x288 with 1 Axes>"
            ]
          },
          "metadata": {
            "needs_background": "light"
          }
        }
      ]
    }
  ]
}