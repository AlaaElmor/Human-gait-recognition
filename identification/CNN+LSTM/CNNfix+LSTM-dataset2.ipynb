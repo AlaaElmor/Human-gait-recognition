{
  "nbformat": 4,
  "nbformat_minor": 0,
  "metadata": {
    "colab": {
      "name": "Untitled5.ipynb",
      "provenance": []
    },
    "kernelspec": {
      "name": "python3",
      "display_name": "Python 3"
    },
    "language_info": {
      "name": "python"
    },
    "accelerator": "GPU"
  },
  "cells": [
    {
      "cell_type": "code",
      "execution_count": 33,
      "metadata": {
        "colab": {
          "base_uri": "https://localhost:8080/"
        },
        "id": "RDZ6vXdUtrsp",
        "outputId": "5cae5351-bf5d-4fb0-9463-88fbc5bc408c"
      },
      "outputs": [
        {
          "output_type": "stream",
          "name": "stdout",
          "text": [
            "Mounted at /content/drive\n",
            "Mounted at /content/gdrive\n",
            "(44339, 128, 6) (44339, 20) (4936, 128, 6) (4936, 20)\n"
          ]
        }
      ],
      "source": [
        "from google.colab import drive\n",
        "drive.mount('/content/drive')\n",
        "\n",
        "from google.colab import drive\n",
        "\n",
        "drive.mount('/content/gdrive')\n",
        "root_path = 'gdrive/My Drive/'  #change dir to your project folder\n",
        "\n",
        "import numpy as np\n",
        "X_train = np.load('gdrive/My Drive/dataset/dataset2/trainX.npy')\n",
        "y_train = np.load('gdrive/My Drive/dataset/dataset2/trainy.npy')\n",
        "X_test = np.load('gdrive/My Drive/dataset/dataset2/testX.npy')\n",
        "y_test = np.load('gdrive/My Drive/dataset/dataset2/testy.npy')\n",
        "print(X_train.shape, y_train.shape, X_test.shape, y_test.shape)"
      ]
    },
    {
      "cell_type": "code",
      "source": [
        "from numpy import mean\n",
        "from numpy import std\n",
        "from numpy import dstack\n",
        "from numpy import save, load\n",
        "from pandas import read_csv\n",
        "from tensorflow import keras\n",
        "from sklearn.preprocessing import StandardScaler\n",
        "from tensorflow.keras.models import Sequential\n",
        "from tensorflow.keras.layers import Dense , Input ,concatenate\n",
        "from tensorflow.keras.layers import Flatten\n",
        "from tensorflow.keras.layers import Dropout\n",
        "from tensorflow.keras import Model\n",
        "from tensorflow.keras.callbacks import EarlyStopping, ModelCheckpoint, ReduceLROnPlateau\n",
        "from tensorflow.keras.layers import LSTM, Conv1D, concatenate,GlobalMaxPooling1D,TimeDistributed, MaxPooling1D\n",
        "from tensorflow.keras.utils import to_categorical\n",
        "from tensorflow.keras.layers import concatenate\n",
        "from tensorflow.keras import regularizers"
      ],
      "metadata": {
        "id": "-Qkx_EZ2uxRJ"
      },
      "execution_count": 34,
      "outputs": []
    },
    {
      "cell_type": "code",
      "source": [
        "from sklearn.model_selection import train_test_split\n",
        "X_training, X_validation, y_training, y_validation = train_test_split(X_train, y_train, test_size=0.20, random_state=42)\n",
        "n_timesteps, n_features, n_outputs = X_train.shape[1], X_train.shape[2], y_train.shape[1]\n",
        "validation_data=(X_validation, y_validation)"
      ],
      "metadata": {
        "id": "QRMig4JduxUD"
      },
      "execution_count": 35,
      "outputs": []
    },
    {
      "cell_type": "code",
      "source": [
        "CNN_model= Sequential()\n",
        "CNN_model.add(Conv1D(filters=32, kernel_size=9, strides=2, activation='relu', input_shape=(n_timesteps,n_features)))\n",
        "CNN_model.add(MaxPooling1D(pool_size=2 ,strides=2))\n",
        "CNN_model.add(Dropout(0.5))\n",
        "CNN_model.add(Conv1D(filters=64, kernel_size=3, strides=1, activation='relu'))\n",
        "CNN_model.add(Conv1D(filters=128, kernel_size=3, strides=1, activation='relu'))\n",
        "CNN_model.add(MaxPooling1D(pool_size=2 ,strides=2))\n",
        "CNN_model.add(Dropout(0.5))\n",
        "CNN_model.add(Conv1D(filters=128, kernel_size=1, strides=1, activation='relu'))\n",
        "CNN_model.add(Flatten())\n",
        "CNN_model.add(Dense(n_outputs, activation='softmax'))\n",
        "CNN_model.summary()\n",
        "CNN_model.compile(loss='categorical_crossentropy', optimizer='adam', metrics=['accuracy'])\n",
        "callbacks = [keras.callbacks.EarlyStopping(patience=5, restore_best_weights=True)]\n",
        "CNN_model.fit(X_training, y_training, epochs=200, verbose=True, validation_data=(X_validation, y_validation), batch_size=128,callbacks=callbacks)"
      ],
      "metadata": {
        "colab": {
          "base_uri": "https://localhost:8080/"
        },
        "id": "Yt-4cl-yuxXF",
        "outputId": "eff277a3-ce3e-4b55-a927-c4c49e2497af"
      },
      "execution_count": 43,
      "outputs": [
        {
          "output_type": "stream",
          "name": "stdout",
          "text": [
            "Model: \"sequential_15\"\n",
            "_________________________________________________________________\n",
            " Layer (type)                Output Shape              Param #   \n",
            "=================================================================\n",
            " conv1d_28 (Conv1D)          (None, 60, 32)            1760      \n",
            "                                                                 \n",
            " max_pooling1d_14 (MaxPoolin  (None, 30, 32)           0         \n",
            " g1D)                                                            \n",
            "                                                                 \n",
            " dropout_21 (Dropout)        (None, 30, 32)            0         \n",
            "                                                                 \n",
            " conv1d_29 (Conv1D)          (None, 28, 64)            6208      \n",
            "                                                                 \n",
            " conv1d_30 (Conv1D)          (None, 26, 128)           24704     \n",
            "                                                                 \n",
            " max_pooling1d_15 (MaxPoolin  (None, 13, 128)          0         \n",
            " g1D)                                                            \n",
            "                                                                 \n",
            " dropout_22 (Dropout)        (None, 13, 128)           0         \n",
            "                                                                 \n",
            " conv1d_31 (Conv1D)          (None, 13, 128)           16512     \n",
            "                                                                 \n",
            " flatten_7 (Flatten)         (None, 1664)              0         \n",
            "                                                                 \n",
            " dense_27 (Dense)            (None, 20)                33300     \n",
            "                                                                 \n",
            "=================================================================\n",
            "Total params: 82,484\n",
            "Trainable params: 82,484\n",
            "Non-trainable params: 0\n",
            "_________________________________________________________________\n",
            "Epoch 1/200\n",
            "278/278 [==============================] - 2s 6ms/step - loss: 0.8681 - accuracy: 0.7520 - val_loss: 0.2627 - val_accuracy: 0.9260\n",
            "Epoch 2/200\n",
            "278/278 [==============================] - 2s 6ms/step - loss: 0.2806 - accuracy: 0.9219 - val_loss: 0.1669 - val_accuracy: 0.9488\n",
            "Epoch 3/200\n",
            "278/278 [==============================] - 2s 6ms/step - loss: 0.2022 - accuracy: 0.9450 - val_loss: 0.1329 - val_accuracy: 0.9629\n",
            "Epoch 4/200\n",
            "278/278 [==============================] - 2s 6ms/step - loss: 0.1646 - accuracy: 0.9541 - val_loss: 0.0893 - val_accuracy: 0.9753\n",
            "Epoch 5/200\n",
            "278/278 [==============================] - 1s 5ms/step - loss: 0.1444 - accuracy: 0.9600 - val_loss: 0.0841 - val_accuracy: 0.9765\n",
            "Epoch 6/200\n",
            "278/278 [==============================] - 2s 6ms/step - loss: 0.1254 - accuracy: 0.9649 - val_loss: 0.0811 - val_accuracy: 0.9793\n",
            "Epoch 7/200\n",
            "278/278 [==============================] - 1s 5ms/step - loss: 0.1137 - accuracy: 0.9682 - val_loss: 0.0730 - val_accuracy: 0.9794\n",
            "Epoch 8/200\n",
            "278/278 [==============================] - 2s 6ms/step - loss: 0.1030 - accuracy: 0.9709 - val_loss: 0.0675 - val_accuracy: 0.9817\n",
            "Epoch 9/200\n",
            "278/278 [==============================] - 2s 6ms/step - loss: 0.0937 - accuracy: 0.9740 - val_loss: 0.0603 - val_accuracy: 0.9830\n",
            "Epoch 10/200\n",
            "278/278 [==============================] - 2s 6ms/step - loss: 0.0902 - accuracy: 0.9740 - val_loss: 0.0610 - val_accuracy: 0.9843\n",
            "Epoch 11/200\n",
            "278/278 [==============================] - 2s 6ms/step - loss: 0.0824 - accuracy: 0.9764 - val_loss: 0.0587 - val_accuracy: 0.9829\n",
            "Epoch 12/200\n",
            "278/278 [==============================] - 2s 8ms/step - loss: 0.0774 - accuracy: 0.9769 - val_loss: 0.0570 - val_accuracy: 0.9848\n",
            "Epoch 13/200\n",
            "278/278 [==============================] - 3s 10ms/step - loss: 0.0755 - accuracy: 0.9772 - val_loss: 0.0573 - val_accuracy: 0.9844\n",
            "Epoch 14/200\n",
            "278/278 [==============================] - 3s 9ms/step - loss: 0.0674 - accuracy: 0.9798 - val_loss: 0.0534 - val_accuracy: 0.9855\n",
            "Epoch 15/200\n",
            "278/278 [==============================] - 3s 10ms/step - loss: 0.0658 - accuracy: 0.9793 - val_loss: 0.0599 - val_accuracy: 0.9848\n",
            "Epoch 16/200\n",
            "278/278 [==============================] - 3s 9ms/step - loss: 0.0648 - accuracy: 0.9805 - val_loss: 0.0517 - val_accuracy: 0.9852\n",
            "Epoch 17/200\n",
            "278/278 [==============================] - 2s 7ms/step - loss: 0.0594 - accuracy: 0.9811 - val_loss: 0.0473 - val_accuracy: 0.9871\n",
            "Epoch 18/200\n",
            "278/278 [==============================] - 2s 6ms/step - loss: 0.0567 - accuracy: 0.9825 - val_loss: 0.0530 - val_accuracy: 0.9865\n",
            "Epoch 19/200\n",
            "278/278 [==============================] - 2s 5ms/step - loss: 0.0521 - accuracy: 0.9835 - val_loss: 0.0497 - val_accuracy: 0.9871\n",
            "Epoch 20/200\n",
            "278/278 [==============================] - 2s 6ms/step - loss: 0.0524 - accuracy: 0.9839 - val_loss: 0.0494 - val_accuracy: 0.9867\n",
            "Epoch 21/200\n",
            "278/278 [==============================] - 2s 6ms/step - loss: 0.0534 - accuracy: 0.9829 - val_loss: 0.0535 - val_accuracy: 0.9855\n",
            "Epoch 22/200\n",
            "278/278 [==============================] - 2s 6ms/step - loss: 0.0488 - accuracy: 0.9842 - val_loss: 0.0482 - val_accuracy: 0.9870\n"
          ]
        },
        {
          "output_type": "execute_result",
          "data": {
            "text/plain": [
              "<keras.callbacks.History at 0x7fe3129eccd0>"
            ]
          },
          "metadata": {},
          "execution_count": 43
        }
      ]
    },
    {
      "cell_type": "code",
      "source": [
        "loss, accuracy = CNN_model.evaluate(X_validation, y_validation, verbose=False)\n",
        "print(\"Validation Accuracy:  {:.4f}\".format(accuracy))\n",
        "loss, accuracy = CNN_model.evaluate(X_test, y_test, verbose=False)\n",
        "print(\"Testing Accuracy: {:.4f}\".format(accuracy))"
      ],
      "metadata": {
        "colab": {
          "base_uri": "https://localhost:8080/"
        },
        "id": "IF3_pawu3KAS",
        "outputId": "9323b3e2-812b-4ca0-8be7-ffa73677c17b"
      },
      "execution_count": 44,
      "outputs": [
        {
          "output_type": "stream",
          "name": "stdout",
          "text": [
            "Validation Accuracy:  0.9871\n",
            "Testing Accuracy: 0.9597\n"
          ]
        }
      ]
    },
    {
      "cell_type": "code",
      "source": [
        "CNN_model.trainable = False\n",
        "\n",
        "LSTM_model= Sequential()\n",
        "LSTM_model.add(LSTM(512,input_shape=(n_timesteps,n_features),return_sequences=True))\n",
        "LSTM_model.add(LSTM(256))\n",
        "LSTM_model.add(Dropout(0.2))\n",
        "LSTM_model.add(Dense(128, activation='relu'))\n",
        "LSTM_model.add(Dense(n_outputs, activation='relu'))\n",
        "LSTM_model.summary()\n",
        "\n",
        "inputs = Input(shape=(n_timesteps,n_features))\n",
        "mergedInput= concatenate([CNN_model(inputs),LSTM_model(inputs)])\n",
        "out = Dense(n_outputs, activation='softmax')(mergedInput)\n",
        "model3 = Model(inputs,out)\n",
        "model3.compile(loss='categorical_crossentropy', optimizer='adam', metrics=['accuracy'])\n",
        "model3.summary()"
      ],
      "metadata": {
        "colab": {
          "base_uri": "https://localhost:8080/"
        },
        "id": "2cM0iBU4uxZ9",
        "outputId": "f828b439-9e0f-4eda-aded-4b13ff74d45e"
      },
      "execution_count": 46,
      "outputs": [
        {
          "output_type": "stream",
          "name": "stdout",
          "text": [
            "Model: \"sequential_17\"\n",
            "_________________________________________________________________\n",
            " Layer (type)                Output Shape              Param #   \n",
            "=================================================================\n",
            " lstm_17 (LSTM)              (None, 128, 512)          1062912   \n",
            "                                                                 \n",
            " lstm_18 (LSTM)              (None, 256)               787456    \n",
            "                                                                 \n",
            " dropout_24 (Dropout)        (None, 256)               0         \n",
            "                                                                 \n",
            " dense_31 (Dense)            (None, 128)               32896     \n",
            "                                                                 \n",
            " dense_32 (Dense)            (None, 20)                2580      \n",
            "                                                                 \n",
            "=================================================================\n",
            "Total params: 1,885,844\n",
            "Trainable params: 1,885,844\n",
            "Non-trainable params: 0\n",
            "_________________________________________________________________\n",
            "Model: \"model_7\"\n",
            "__________________________________________________________________________________________________\n",
            " Layer (type)                   Output Shape         Param #     Connected to                     \n",
            "==================================================================================================\n",
            " input_8 (InputLayer)           [(None, 128, 6)]     0           []                               \n",
            "                                                                                                  \n",
            " sequential_15 (Sequential)     (None, 20)           82484       ['input_8[0][0]']                \n",
            "                                                                                                  \n",
            " sequential_17 (Sequential)     (None, 20)           1885844     ['input_8[0][0]']                \n",
            "                                                                                                  \n",
            " concatenate_7 (Concatenate)    (None, 40)           0           ['sequential_15[1][0]',          \n",
            "                                                                  'sequential_17[0][0]']          \n",
            "                                                                                                  \n",
            " dense_33 (Dense)               (None, 20)           820         ['concatenate_7[0][0]']          \n",
            "                                                                                                  \n",
            "==================================================================================================\n",
            "Total params: 1,969,148\n",
            "Trainable params: 1,886,664\n",
            "Non-trainable params: 82,484\n",
            "__________________________________________________________________________________________________\n"
          ]
        }
      ]
    },
    {
      "cell_type": "code",
      "source": [
        "history = model3.fit(X_training, y_training, epochs=200, verbose=True, validation_data=(X_validation, y_validation), batch_size=128,callbacks=callbacks)"
      ],
      "metadata": {
        "colab": {
          "base_uri": "https://localhost:8080/"
        },
        "id": "leAK4cae3mSx",
        "outputId": "9f4a73cd-986b-4f03-98ec-96c687a320a1"
      },
      "execution_count": 47,
      "outputs": [
        {
          "output_type": "stream",
          "name": "stdout",
          "text": [
            "Epoch 1/200\n",
            "278/278 [==============================] - 26s 80ms/step - loss: 0.7750 - accuracy: 0.7840 - val_loss: 0.3221 - val_accuracy: 0.9116\n",
            "Epoch 2/200\n",
            "278/278 [==============================] - 22s 78ms/step - loss: 0.2375 - accuracy: 0.9358 - val_loss: 0.2206 - val_accuracy: 0.9385\n",
            "Epoch 3/200\n",
            "278/278 [==============================] - 22s 80ms/step - loss: 0.1474 - accuracy: 0.9603 - val_loss: 0.1471 - val_accuracy: 0.9584\n",
            "Epoch 4/200\n",
            "278/278 [==============================] - 22s 79ms/step - loss: 0.1416 - accuracy: 0.9610 - val_loss: 0.1127 - val_accuracy: 0.9688\n",
            "Epoch 5/200\n",
            "278/278 [==============================] - 22s 78ms/step - loss: 0.0891 - accuracy: 0.9746 - val_loss: 0.0913 - val_accuracy: 0.9747\n",
            "Epoch 6/200\n",
            "278/278 [==============================] - 22s 78ms/step - loss: 0.0800 - accuracy: 0.9774 - val_loss: 0.0679 - val_accuracy: 0.9812\n",
            "Epoch 7/200\n",
            "278/278 [==============================] - 22s 79ms/step - loss: 0.0669 - accuracy: 0.9805 - val_loss: 0.0778 - val_accuracy: 0.9767\n",
            "Epoch 8/200\n",
            "278/278 [==============================] - 22s 79ms/step - loss: 0.0570 - accuracy: 0.9836 - val_loss: 0.0568 - val_accuracy: 0.9851\n",
            "Epoch 9/200\n",
            "278/278 [==============================] - 22s 79ms/step - loss: 0.0512 - accuracy: 0.9849 - val_loss: 0.0518 - val_accuracy: 0.9855\n",
            "Epoch 10/200\n",
            "278/278 [==============================] - 22s 78ms/step - loss: 0.0391 - accuracy: 0.9882 - val_loss: 0.0654 - val_accuracy: 0.9807\n",
            "Epoch 11/200\n",
            "278/278 [==============================] - 22s 79ms/step - loss: 0.0410 - accuracy: 0.9877 - val_loss: 0.0636 - val_accuracy: 0.9835\n",
            "Epoch 12/200\n",
            "278/278 [==============================] - 22s 79ms/step - loss: 0.0411 - accuracy: 0.9880 - val_loss: 0.0516 - val_accuracy: 0.9843\n",
            "Epoch 13/200\n",
            "278/278 [==============================] - 22s 79ms/step - loss: 0.0354 - accuracy: 0.9891 - val_loss: 0.0508 - val_accuracy: 0.9851\n",
            "Epoch 14/200\n",
            "278/278 [==============================] - 22s 78ms/step - loss: 0.0319 - accuracy: 0.9909 - val_loss: 0.0446 - val_accuracy: 0.9880\n",
            "Epoch 15/200\n",
            "278/278 [==============================] - 22s 78ms/step - loss: 0.0327 - accuracy: 0.9904 - val_loss: 0.0460 - val_accuracy: 0.9862\n",
            "Epoch 16/200\n",
            "278/278 [==============================] - 22s 78ms/step - loss: 0.0269 - accuracy: 0.9917 - val_loss: 0.0452 - val_accuracy: 0.9877\n",
            "Epoch 17/200\n",
            "278/278 [==============================] - 22s 78ms/step - loss: 0.0284 - accuracy: 0.9913 - val_loss: 0.0417 - val_accuracy: 0.9886\n",
            "Epoch 18/200\n",
            "278/278 [==============================] - 22s 78ms/step - loss: 0.0302 - accuracy: 0.9907 - val_loss: 0.0464 - val_accuracy: 0.9874\n",
            "Epoch 19/200\n",
            "278/278 [==============================] - 22s 79ms/step - loss: 0.0294 - accuracy: 0.9911 - val_loss: 0.0498 - val_accuracy: 0.9865\n",
            "Epoch 20/200\n",
            "278/278 [==============================] - 22s 79ms/step - loss: 0.0288 - accuracy: 0.9911 - val_loss: 0.0330 - val_accuracy: 0.9903\n",
            "Epoch 21/200\n",
            "278/278 [==============================] - 22s 79ms/step - loss: 0.0208 - accuracy: 0.9934 - val_loss: 0.0330 - val_accuracy: 0.9905\n",
            "Epoch 22/200\n",
            "278/278 [==============================] - 22s 78ms/step - loss: 0.0179 - accuracy: 0.9943 - val_loss: 0.0363 - val_accuracy: 0.9894\n",
            "Epoch 23/200\n",
            "278/278 [==============================] - 22s 78ms/step - loss: 0.0192 - accuracy: 0.9938 - val_loss: 0.0467 - val_accuracy: 0.9874\n",
            "Epoch 24/200\n",
            "278/278 [==============================] - 22s 78ms/step - loss: 0.0271 - accuracy: 0.9923 - val_loss: 0.0345 - val_accuracy: 0.9897\n",
            "Epoch 25/200\n",
            "278/278 [==============================] - 22s 78ms/step - loss: 0.0157 - accuracy: 0.9950 - val_loss: 0.0329 - val_accuracy: 0.9902\n",
            "Epoch 26/200\n",
            "278/278 [==============================] - 22s 79ms/step - loss: 0.0155 - accuracy: 0.9951 - val_loss: 0.0319 - val_accuracy: 0.9914\n",
            "Epoch 27/200\n",
            "278/278 [==============================] - 22s 79ms/step - loss: 0.0224 - accuracy: 0.9931 - val_loss: 0.0293 - val_accuracy: 0.9912\n",
            "Epoch 28/200\n",
            "278/278 [==============================] - 22s 79ms/step - loss: 0.0127 - accuracy: 0.9959 - val_loss: 0.0300 - val_accuracy: 0.9908\n",
            "Epoch 29/200\n",
            "278/278 [==============================] - 22s 79ms/step - loss: 0.0180 - accuracy: 0.9943 - val_loss: 0.0290 - val_accuracy: 0.9918\n",
            "Epoch 30/200\n",
            "278/278 [==============================] - 22s 79ms/step - loss: 0.0124 - accuracy: 0.9964 - val_loss: 0.0437 - val_accuracy: 0.9876\n",
            "Epoch 31/200\n",
            "278/278 [==============================] - 22s 79ms/step - loss: 0.0135 - accuracy: 0.9958 - val_loss: 0.0415 - val_accuracy: 0.9887\n",
            "Epoch 32/200\n",
            "278/278 [==============================] - 22s 78ms/step - loss: 0.0205 - accuracy: 0.9938 - val_loss: 0.0398 - val_accuracy: 0.9887\n",
            "Epoch 33/200\n",
            "278/278 [==============================] - 22s 78ms/step - loss: 0.0185 - accuracy: 0.9942 - val_loss: 0.0296 - val_accuracy: 0.9912\n",
            "Epoch 34/200\n",
            "278/278 [==============================] - 22s 78ms/step - loss: 0.0110 - accuracy: 0.9965 - val_loss: 0.0258 - val_accuracy: 0.9920\n",
            "Epoch 35/200\n",
            "278/278 [==============================] - 22s 78ms/step - loss: 0.0108 - accuracy: 0.9966 - val_loss: 0.0265 - val_accuracy: 0.9919\n",
            "Epoch 36/200\n",
            "278/278 [==============================] - 22s 79ms/step - loss: 0.0164 - accuracy: 0.9951 - val_loss: 0.0238 - val_accuracy: 0.9929\n",
            "Epoch 37/200\n",
            "278/278 [==============================] - 22s 79ms/step - loss: 0.0104 - accuracy: 0.9969 - val_loss: 0.0329 - val_accuracy: 0.9910\n",
            "Epoch 38/200\n",
            "278/278 [==============================] - 22s 78ms/step - loss: 0.0120 - accuracy: 0.9962 - val_loss: 0.0260 - val_accuracy: 0.9926\n",
            "Epoch 39/200\n",
            "278/278 [==============================] - 22s 79ms/step - loss: 0.0115 - accuracy: 0.9964 - val_loss: 0.0454 - val_accuracy: 0.9867\n",
            "Epoch 40/200\n",
            "278/278 [==============================] - 22s 79ms/step - loss: 0.0161 - accuracy: 0.9950 - val_loss: 0.0305 - val_accuracy: 0.9910\n",
            "Epoch 41/200\n",
            "278/278 [==============================] - 22s 78ms/step - loss: 0.0084 - accuracy: 0.9974 - val_loss: 0.0327 - val_accuracy: 0.9905\n"
          ]
        }
      ]
    },
    {
      "cell_type": "code",
      "source": [
        "loss, accuracy = model3.evaluate(X_validation, y_validation, verbose=False)\n",
        "print(\"Validation Accuracy:  {:.4f}\".format(accuracy))\n",
        "loss, accuracy = model3.evaluate(X_test, y_test, verbose=False)\n",
        "print(\"Testing Accuracy: {:.4f}\".format(accuracy))"
      ],
      "metadata": {
        "colab": {
          "base_uri": "https://localhost:8080/"
        },
        "id": "BrRZlOJMuxdZ",
        "outputId": "0a22edee-fe6e-4f40-d2b7-3ab248213c03"
      },
      "execution_count": 48,
      "outputs": [
        {
          "output_type": "stream",
          "name": "stdout",
          "text": [
            "Validation Accuracy:  0.9929\n",
            "Testing Accuracy: 0.9607\n"
          ]
        }
      ]
    },
    {
      "cell_type": "code",
      "source": [
        "from matplotlib import pyplot as plt\n",
        "plt.plot(history.history[\"loss\"], label=\"Training Loss\")\n",
        "plt.plot(history.history[\"val_loss\"], label=\"Validation Loss\")\n",
        "plt.legend()\n",
        "plt.show()"
      ],
      "metadata": {
        "colab": {
          "base_uri": "https://localhost:8080/",
          "height": 266
        },
        "id": "JkKl9CyQvFku",
        "outputId": "5af910ce-d50a-4af8-98e1-c068785983ea"
      },
      "execution_count": 49,
      "outputs": [
        {
          "output_type": "display_data",
          "data": {
            "image/png": "[encoded data removed]",
            "text/plain": [
              "<Figure size 432x288 with 1 Axes>"
            ]
          },
          "metadata": {
            "needs_background": "light"
          }
        }
      ]
    }
  ]
}