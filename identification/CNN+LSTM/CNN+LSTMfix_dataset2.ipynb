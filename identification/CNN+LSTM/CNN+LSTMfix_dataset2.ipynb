{
  "nbformat": 4,
  "nbformat_minor": 0,
  "metadata": {
    "colab": {
      "name": "Untitled5.ipynb",
      "provenance": []
    },
    "kernelspec": {
      "name": "python3",
      "display_name": "Python 3"
    },
    "language_info": {
      "name": "python"
    },
    "accelerator": "GPU"
  },
  "cells": [
    {
      "cell_type": "code",
      "execution_count": 33,
      "metadata": {
        "colab": {
          "base_uri": "https://localhost:8080/"
        },
        "id": "RDZ6vXdUtrsp",
        "outputId": "5cae5351-bf5d-4fb0-9463-88fbc5bc408c"
      },
      "outputs": [
        {
          "output_type": "stream",
          "name": "stdout",
          "text": [
            "Mounted at /content/drive\n",
            "Mounted at /content/gdrive\n",
            "(44339, 128, 6) (44339, 20) (4936, 128, 6) (4936, 20)\n"
          ]
        }
      ],
      "source": [
        "from google.colab import drive\n",
        "drive.mount('/content/drive')\n",
        "\n",
        "from google.colab import drive\n",
        "\n",
        "drive.mount('/content/gdrive')\n",
        "root_path = 'gdrive/My Drive/'  #change dir to your project folder\n",
        "\n",
        "import numpy as np\n",
        "X_train = np.load('gdrive/My Drive/dataset/dataset2/trainX.npy')\n",
        "y_train = np.load('gdrive/My Drive/dataset/dataset2/trainy.npy')\n",
        "X_test = np.load('gdrive/My Drive/dataset/dataset2/testX.npy')\n",
        "y_test = np.load('gdrive/My Drive/dataset/dataset2/testy.npy')\n",
        "print(X_train.shape, y_train.shape, X_test.shape, y_test.shape)"
      ]
    },
    {
      "cell_type": "code",
      "source": [
        "from numpy import mean\n",
        "from numpy import std\n",
        "from numpy import dstack\n",
        "from numpy import save, load\n",
        "from pandas import read_csv\n",
        "from tensorflow import keras\n",
        "from sklearn.preprocessing import StandardScaler\n",
        "from tensorflow.keras.models import Sequential\n",
        "from tensorflow.keras.layers import Dense , Input ,concatenate\n",
        "from tensorflow.keras.layers import Flatten\n",
        "from tensorflow.keras.layers import Dropout\n",
        "from tensorflow.keras import Model\n",
        "from tensorflow.keras.callbacks import EarlyStopping, ModelCheckpoint, ReduceLROnPlateau\n",
        "from tensorflow.keras.layers import LSTM, Conv1D, concatenate,GlobalMaxPooling1D,TimeDistributed, MaxPooling1D\n",
        "from tensorflow.keras.utils import to_categorical\n",
        "from tensorflow.keras.layers import concatenate\n",
        "from tensorflow.keras import regularizers"
      ],
      "metadata": {
        "id": "-Qkx_EZ2uxRJ"
      },
      "execution_count": 34,
      "outputs": []
    },
    {
      "cell_type": "code",
      "source": [
        "from sklearn.model_selection import train_test_split\n",
        "X_training, X_validation, y_training, y_validation = train_test_split(X_train, y_train, test_size=0.20, random_state=42)\n",
        "n_timesteps, n_features, n_outputs = X_train.shape[1], X_train.shape[2], y_train.shape[1]\n",
        "validation_data=(X_validation, y_validation)"
      ],
      "metadata": {
        "id": "QRMig4JduxUD"
      },
      "execution_count": 35,
      "outputs": []
    },
    {
      "cell_type": "code",
      "source": [
        "LSTM_model= Sequential()\n",
        "LSTM_model.add(LSTM(512,input_shape=(n_timesteps,n_features),return_sequences=True))\n",
        "LSTM_model.add(LSTM(256))\n",
        "LSTM_model.add(Dropout(0.2))\n",
        "LSTM_model.add(Dense(128, activation='relu'))\n",
        "LSTM_model.add(Dense(n_outputs, activation='softmax'))\n",
        "LSTM_model.summary()\n",
        "LSTM_model.compile(loss='categorical_crossentropy', optimizer='adam', metrics=['accuracy'])\n",
        "callbacks = [keras.callbacks.EarlyStopping(patience=5, restore_best_weights=True)]\n",
        "LSTM_model.fit(X_training, y_training, epochs=200, verbose=True, validation_data=(X_validation, y_validation), batch_size=128,callbacks=callbacks)"
      ],
      "metadata": {
        "colab": {
          "base_uri": "https://localhost:8080/"
        },
        "id": "Yt-4cl-yuxXF",
        "outputId": "45135ec0-8fac-42af-f213-26ab175a77b3"
      },
      "execution_count": 36,
      "outputs": [
        {
          "output_type": "stream",
          "name": "stdout",
          "text": [
            "Model: \"sequential_12\"\n",
            "_________________________________________________________________\n",
            " Layer (type)                Output Shape              Param #   \n",
            "=================================================================\n",
            " lstm_13 (LSTM)              (None, 128, 512)          1062912   \n",
            "                                                                 \n",
            " lstm_14 (LSTM)              (None, 256)               787456    \n",
            "                                                                 \n",
            " dropout_16 (Dropout)        (None, 256)               0         \n",
            "                                                                 \n",
            " dense_22 (Dense)            (None, 128)               32896     \n",
            "                                                                 \n",
            " dense_23 (Dense)            (None, 20)                2580      \n",
            "                                                                 \n",
            "=================================================================\n",
            "Total params: 1,885,844\n",
            "Trainable params: 1,885,844\n",
            "Non-trainable params: 0\n",
            "_________________________________________________________________\n",
            "Epoch 1/200\n",
            "278/278 [==============================] - 25s 79ms/step - loss: 0.5935 - accuracy: 0.8222 - val_loss: 0.2857 - val_accuracy: 0.9123\n",
            "Epoch 2/200\n",
            "278/278 [==============================] - 22s 78ms/step - loss: 0.2385 - accuracy: 0.9314 - val_loss: 0.1489 - val_accuracy: 0.9594\n",
            "Epoch 3/200\n",
            "278/278 [==============================] - 22s 79ms/step - loss: 0.1427 - accuracy: 0.9591 - val_loss: 0.1208 - val_accuracy: 0.9653\n",
            "Epoch 4/200\n",
            "278/278 [==============================] - 22s 78ms/step - loss: 0.1204 - accuracy: 0.9658 - val_loss: 0.1174 - val_accuracy: 0.9658\n",
            "Epoch 5/200\n",
            "278/278 [==============================] - 22s 77ms/step - loss: 0.1144 - accuracy: 0.9669 - val_loss: 0.0945 - val_accuracy: 0.9712\n",
            "Epoch 6/200\n",
            "278/278 [==============================] - 22s 78ms/step - loss: 0.0834 - accuracy: 0.9754 - val_loss: 0.0795 - val_accuracy: 0.9765\n",
            "Epoch 7/200\n",
            "278/278 [==============================] - 22s 78ms/step - loss: 0.0659 - accuracy: 0.9805 - val_loss: 0.0588 - val_accuracy: 0.9826\n",
            "Epoch 8/200\n",
            "278/278 [==============================] - 22s 77ms/step - loss: 0.0569 - accuracy: 0.9827 - val_loss: 0.0903 - val_accuracy: 0.9743\n",
            "Epoch 9/200\n",
            "278/278 [==============================] - 22s 77ms/step - loss: 0.0576 - accuracy: 0.9824 - val_loss: 0.0675 - val_accuracy: 0.9799\n",
            "Epoch 10/200\n",
            "278/278 [==============================] - 22s 77ms/step - loss: 0.0405 - accuracy: 0.9876 - val_loss: 0.0504 - val_accuracy: 0.9860\n",
            "Epoch 11/200\n",
            "278/278 [==============================] - 22s 78ms/step - loss: 0.0550 - accuracy: 0.9829 - val_loss: 0.0496 - val_accuracy: 0.9852\n",
            "Epoch 12/200\n",
            "278/278 [==============================] - 22s 77ms/step - loss: 0.0438 - accuracy: 0.9860 - val_loss: 0.0585 - val_accuracy: 0.9824\n",
            "Epoch 13/200\n",
            "278/278 [==============================] - 22s 78ms/step - loss: 0.0363 - accuracy: 0.9888 - val_loss: 0.0746 - val_accuracy: 0.9787\n",
            "Epoch 14/200\n",
            "278/278 [==============================] - 22s 78ms/step - loss: 0.0458 - accuracy: 0.9853 - val_loss: 0.0555 - val_accuracy: 0.9846\n",
            "Epoch 15/200\n",
            "278/278 [==============================] - 22s 78ms/step - loss: 0.0367 - accuracy: 0.9888 - val_loss: 0.0626 - val_accuracy: 0.9821\n",
            "Epoch 16/200\n",
            "278/278 [==============================] - 22s 78ms/step - loss: 0.0378 - accuracy: 0.9889 - val_loss: 0.0611 - val_accuracy: 0.9850\n"
          ]
        },
        {
          "output_type": "execute_result",
          "data": {
            "text/plain": [
              "<keras.callbacks.History at 0x7fe21428d1d0>"
            ]
          },
          "metadata": {},
          "execution_count": 36
        }
      ]
    },
    {
      "cell_type": "code",
      "source": [
        "loss, accuracy = LSTM_model.evaluate(X_validation, y_validation, verbose=False)\n",
        "print(\"Validation Accuracy:  {:.4f}\".format(accuracy))\n",
        "loss, accuracy = LSTM_model.evaluate(X_test, y_test, verbose=False)\n",
        "print(\"Testing Accuracy: {:.4f}\".format(accuracy))"
      ],
      "metadata": {
        "colab": {
          "base_uri": "https://localhost:8080/"
        },
        "id": "IF3_pawu3KAS",
        "outputId": "d3598775-ffb8-480c-bf83-02a12e4f6627"
      },
      "execution_count": 37,
      "outputs": [
        {
          "output_type": "stream",
          "name": "stdout",
          "text": [
            "Validation Accuracy:  0.9852\n",
            "Testing Accuracy: 0.9449\n"
          ]
        }
      ]
    },
    {
      "cell_type": "code",
      "source": [
        "#lstm_output_layer_weights_values = LSTM_model.layers[4].get_weights()    \n",
        "LSTM_model.trainable = False\n",
        "\n",
        "CNN_model= Sequential()\n",
        "CNN_model.add(Conv1D(filters=32, kernel_size=9, strides=2, activation='relu', input_shape=(n_timesteps,n_features)))\n",
        "CNN_model.add(MaxPooling1D(pool_size=2 ,strides=2))\n",
        "CNN_model.add(Dropout(0.5))\n",
        "CNN_model.add(Conv1D(filters=64, kernel_size=3, strides=1, activation='relu'))\n",
        "CNN_model.add(Conv1D(filters=128, kernel_size=3, strides=1, activation='relu'))\n",
        "CNN_model.add(MaxPooling1D(pool_size=2 ,strides=2))\n",
        "CNN_model.add(Dropout(0.5))\n",
        "CNN_model.add(Conv1D(filters=128, kernel_size=1, strides=1, activation='relu'))\n",
        "CNN_model.add(Flatten())\n",
        "CNN_model.add(Dense(n_outputs, activation='relu'))\n",
        "CNN_model.summary()\n",
        "\n",
        "\n",
        "inputs = Input(shape=(n_timesteps,n_features))\n",
        "mergedInput= concatenate([CNN_model(inputs),LSTM_model(inputs)])\n",
        "out = Dense(n_outputs, activation='softmax')(mergedInput)\n",
        "model3 = Model(inputs,out)\n",
        "model3.compile(loss='categorical_crossentropy', optimizer='adam', metrics=['accuracy'])\n",
        "#model3.layers[0].set_weights(LSTM_model.layers[4].get_weights())\n",
        "model3.summary()"
      ],
      "metadata": {
        "colab": {
          "base_uri": "https://localhost:8080/"
        },
        "id": "2cM0iBU4uxZ9",
        "outputId": "c8e9ff28-cb2d-4581-ac97-c8deb4ca9197"
      },
      "execution_count": 38,
      "outputs": [
        {
          "output_type": "stream",
          "name": "stdout",
          "text": [
            "Model: \"sequential_13\"\n",
            "_________________________________________________________________\n",
            " Layer (type)                Output Shape              Param #   \n",
            "=================================================================\n",
            " conv1d_20 (Conv1D)          (None, 60, 32)            1760      \n",
            "                                                                 \n",
            " max_pooling1d_10 (MaxPoolin  (None, 30, 32)           0         \n",
            " g1D)                                                            \n",
            "                                                                 \n",
            " dropout_17 (Dropout)        (None, 30, 32)            0         \n",
            "                                                                 \n",
            " conv1d_21 (Conv1D)          (None, 28, 64)            6208      \n",
            "                                                                 \n",
            " conv1d_22 (Conv1D)          (None, 26, 128)           24704     \n",
            "                                                                 \n",
            " max_pooling1d_11 (MaxPoolin  (None, 13, 128)          0         \n",
            " g1D)                                                            \n",
            "                                                                 \n",
            " dropout_18 (Dropout)        (None, 13, 128)           0         \n",
            "                                                                 \n",
            " conv1d_23 (Conv1D)          (None, 13, 128)           16512     \n",
            "                                                                 \n",
            " flatten_5 (Flatten)         (None, 1664)              0         \n",
            "                                                                 \n",
            " dense_24 (Dense)            (None, 20)                33300     \n",
            "                                                                 \n",
            "=================================================================\n",
            "Total params: 82,484\n",
            "Trainable params: 82,484\n",
            "Non-trainable params: 0\n",
            "_________________________________________________________________\n",
            "Model: \"model_5\"\n",
            "__________________________________________________________________________________________________\n",
            " Layer (type)                   Output Shape         Param #     Connected to                     \n",
            "==================================================================================================\n",
            " input_6 (InputLayer)           [(None, 128, 6)]     0           []                               \n",
            "                                                                                                  \n",
            " sequential_13 (Sequential)     (None, 20)           82484       ['input_6[0][0]']                \n",
            "                                                                                                  \n",
            " sequential_12 (Sequential)     (None, 20)           1885844     ['input_6[0][0]']                \n",
            "                                                                                                  \n",
            " concatenate_5 (Concatenate)    (None, 40)           0           ['sequential_13[0][0]',          \n",
            "                                                                  'sequential_12[0][0]']          \n",
            "                                                                                                  \n",
            " dense_25 (Dense)               (None, 20)           820         ['concatenate_5[0][0]']          \n",
            "                                                                                                  \n",
            "==================================================================================================\n",
            "Total params: 1,969,148\n",
            "Trainable params: 83,304\n",
            "Non-trainable params: 1,885,844\n",
            "__________________________________________________________________________________________________\n"
          ]
        }
      ]
    },
    {
      "cell_type": "code",
      "source": [
        "history = model3.fit(X_training, y_training, epochs=200, verbose=True, validation_data=(X_validation, y_validation), batch_size=128,callbacks=callbacks)"
      ],
      "metadata": {
        "colab": {
          "base_uri": "https://localhost:8080/"
        },
        "id": "leAK4cae3mSx",
        "outputId": "3fef0906-a70d-40c6-988e-8c68a632aee3"
      },
      "execution_count": 39,
      "outputs": [
        {
          "output_type": "stream",
          "name": "stdout",
          "text": [
            "Epoch 1/200\n",
            "278/278 [==============================] - 14s 39ms/step - loss: 1.3919 - accuracy: 0.5962 - val_loss: 0.3775 - val_accuracy: 0.9091\n",
            "Epoch 2/200\n",
            "278/278 [==============================] - 10s 36ms/step - loss: 0.3791 - accuracy: 0.9052 - val_loss: 0.2047 - val_accuracy: 0.9440\n",
            "Epoch 3/200\n",
            "278/278 [==============================] - 10s 36ms/step - loss: 0.2446 - accuracy: 0.9392 - val_loss: 0.1495 - val_accuracy: 0.9610\n",
            "Epoch 4/200\n",
            "278/278 [==============================] - 10s 36ms/step - loss: 0.1736 - accuracy: 0.9563 - val_loss: 0.1085 - val_accuracy: 0.9702\n",
            "Epoch 5/200\n",
            "278/278 [==============================] - 10s 36ms/step - loss: 0.1403 - accuracy: 0.9653 - val_loss: 0.0946 - val_accuracy: 0.9771\n",
            "Epoch 6/200\n",
            "278/278 [==============================] - 10s 36ms/step - loss: 0.1155 - accuracy: 0.9711 - val_loss: 0.0785 - val_accuracy: 0.9796\n",
            "Epoch 7/200\n",
            "278/278 [==============================] - 10s 36ms/step - loss: 0.1005 - accuracy: 0.9736 - val_loss: 0.0730 - val_accuracy: 0.9798\n",
            "Epoch 8/200\n",
            "278/278 [==============================] - 10s 35ms/step - loss: 0.0877 - accuracy: 0.9782 - val_loss: 0.0623 - val_accuracy: 0.9851\n",
            "Epoch 9/200\n",
            "278/278 [==============================] - 10s 36ms/step - loss: 0.0770 - accuracy: 0.9810 - val_loss: 0.0609 - val_accuracy: 0.9838\n",
            "Epoch 10/200\n",
            "278/278 [==============================] - 10s 36ms/step - loss: 0.0704 - accuracy: 0.9830 - val_loss: 0.0499 - val_accuracy: 0.9862\n",
            "Epoch 11/200\n",
            "278/278 [==============================] - 10s 36ms/step - loss: 0.0652 - accuracy: 0.9835 - val_loss: 0.0481 - val_accuracy: 0.9869\n",
            "Epoch 12/200\n",
            "278/278 [==============================] - 10s 37ms/step - loss: 0.0581 - accuracy: 0.9860 - val_loss: 0.0442 - val_accuracy: 0.9868\n",
            "Epoch 13/200\n",
            "278/278 [==============================] - 11s 39ms/step - loss: 0.0529 - accuracy: 0.9866 - val_loss: 0.0401 - val_accuracy: 0.9889\n",
            "Epoch 14/200\n",
            "278/278 [==============================] - 10s 36ms/step - loss: 0.0499 - accuracy: 0.9877 - val_loss: 0.0404 - val_accuracy: 0.9891\n",
            "Epoch 15/200\n",
            "278/278 [==============================] - 10s 36ms/step - loss: 0.0486 - accuracy: 0.9883 - val_loss: 0.0443 - val_accuracy: 0.9878\n",
            "Epoch 16/200\n",
            "278/278 [==============================] - 10s 36ms/step - loss: 0.0447 - accuracy: 0.9889 - val_loss: 0.0406 - val_accuracy: 0.9892\n",
            "Epoch 17/200\n",
            "278/278 [==============================] - 10s 36ms/step - loss: 0.0415 - accuracy: 0.9896 - val_loss: 0.0381 - val_accuracy: 0.9891\n",
            "Epoch 18/200\n",
            "278/278 [==============================] - 10s 36ms/step - loss: 0.0391 - accuracy: 0.9900 - val_loss: 0.0372 - val_accuracy: 0.9895\n",
            "Epoch 19/200\n",
            "278/278 [==============================] - 10s 36ms/step - loss: 0.0379 - accuracy: 0.9906 - val_loss: 0.0381 - val_accuracy: 0.9896\n",
            "Epoch 20/200\n",
            "278/278 [==============================] - 10s 36ms/step - loss: 0.0341 - accuracy: 0.9905 - val_loss: 0.0377 - val_accuracy: 0.9899\n",
            "Epoch 21/200\n",
            "278/278 [==============================] - 10s 36ms/step - loss: 0.0324 - accuracy: 0.9917 - val_loss: 0.0354 - val_accuracy: 0.9903\n",
            "Epoch 22/200\n",
            "278/278 [==============================] - 10s 36ms/step - loss: 0.0324 - accuracy: 0.9914 - val_loss: 0.0365 - val_accuracy: 0.9899\n",
            "Epoch 23/200\n",
            "278/278 [==============================] - 10s 36ms/step - loss: 0.0317 - accuracy: 0.9923 - val_loss: 0.0357 - val_accuracy: 0.9902\n",
            "Epoch 24/200\n",
            "278/278 [==============================] - 10s 36ms/step - loss: 0.0291 - accuracy: 0.9926 - val_loss: 0.0359 - val_accuracy: 0.9901\n",
            "Epoch 25/200\n",
            "278/278 [==============================] - 10s 36ms/step - loss: 0.0278 - accuracy: 0.9928 - val_loss: 0.0378 - val_accuracy: 0.9902\n",
            "Epoch 26/200\n",
            "278/278 [==============================] - 10s 36ms/step - loss: 0.0262 - accuracy: 0.9931 - val_loss: 0.0346 - val_accuracy: 0.9904\n",
            "Epoch 27/200\n",
            "278/278 [==============================] - 10s 36ms/step - loss: 0.0262 - accuracy: 0.9934 - val_loss: 0.0353 - val_accuracy: 0.9905\n",
            "Epoch 28/200\n",
            "278/278 [==============================] - 10s 36ms/step - loss: 0.0246 - accuracy: 0.9933 - val_loss: 0.0333 - val_accuracy: 0.9903\n",
            "Epoch 29/200\n",
            "278/278 [==============================] - 10s 36ms/step - loss: 0.0241 - accuracy: 0.9937 - val_loss: 0.0335 - val_accuracy: 0.9901\n",
            "Epoch 30/200\n",
            "278/278 [==============================] - 10s 36ms/step - loss: 0.0232 - accuracy: 0.9937 - val_loss: 0.0344 - val_accuracy: 0.9896\n",
            "Epoch 31/200\n",
            "278/278 [==============================] - 10s 36ms/step - loss: 0.0211 - accuracy: 0.9942 - val_loss: 0.0333 - val_accuracy: 0.9908\n",
            "Epoch 32/200\n",
            "278/278 [==============================] - 10s 36ms/step - loss: 0.0216 - accuracy: 0.9935 - val_loss: 0.0332 - val_accuracy: 0.9906\n",
            "Epoch 33/200\n",
            "278/278 [==============================] - 10s 36ms/step - loss: 0.0207 - accuracy: 0.9944 - val_loss: 0.0342 - val_accuracy: 0.9905\n",
            "Epoch 34/200\n",
            "278/278 [==============================] - 10s 36ms/step - loss: 0.0207 - accuracy: 0.9944 - val_loss: 0.0324 - val_accuracy: 0.9909\n",
            "Epoch 35/200\n",
            "278/278 [==============================] - 10s 36ms/step - loss: 0.0203 - accuracy: 0.9941 - val_loss: 0.0360 - val_accuracy: 0.9902\n",
            "Epoch 36/200\n",
            "278/278 [==============================] - 10s 36ms/step - loss: 0.0204 - accuracy: 0.9941 - val_loss: 0.0337 - val_accuracy: 0.9908\n",
            "Epoch 37/200\n",
            "278/278 [==============================] - 10s 36ms/step - loss: 0.0196 - accuracy: 0.9946 - val_loss: 0.0338 - val_accuracy: 0.9908\n",
            "Epoch 38/200\n",
            "278/278 [==============================] - 10s 36ms/step - loss: 0.0177 - accuracy: 0.9950 - val_loss: 0.0320 - val_accuracy: 0.9904\n",
            "Epoch 39/200\n",
            "278/278 [==============================] - 10s 36ms/step - loss: 0.0185 - accuracy: 0.9946 - val_loss: 0.0324 - val_accuracy: 0.9915\n",
            "Epoch 40/200\n",
            "278/278 [==============================] - 10s 35ms/step - loss: 0.0168 - accuracy: 0.9954 - val_loss: 0.0329 - val_accuracy: 0.9909\n",
            "Epoch 41/200\n",
            "278/278 [==============================] - 10s 36ms/step - loss: 0.0164 - accuracy: 0.9953 - val_loss: 0.0351 - val_accuracy: 0.9902\n",
            "Epoch 42/200\n",
            "278/278 [==============================] - 10s 36ms/step - loss: 0.0167 - accuracy: 0.9950 - val_loss: 0.0340 - val_accuracy: 0.9902\n",
            "Epoch 43/200\n",
            "278/278 [==============================] - 10s 36ms/step - loss: 0.0169 - accuracy: 0.9955 - val_loss: 0.0347 - val_accuracy: 0.9912\n"
          ]
        }
      ]
    },
    {
      "cell_type": "code",
      "source": [
        "loss, accuracy = model3.evaluate(X_validation, y_validation, verbose=False)\n",
        "print(\"Validation Accuracy:  {:.4f}\".format(accuracy))\n",
        "loss, accuracy = model3.evaluate(X_test, y_test, verbose=False)\n",
        "print(\"Testing Accuracy: {:.4f}\".format(accuracy))"
      ],
      "metadata": {
        "colab": {
          "base_uri": "https://localhost:8080/"
        },
        "id": "BrRZlOJMuxdZ",
        "outputId": "281d4075-68a0-464c-a078-ee4d7bb9947a"
      },
      "execution_count": 40,
      "outputs": [
        {
          "output_type": "stream",
          "name": "stdout",
          "text": [
            "Validation Accuracy:  0.9904\n",
            "Testing Accuracy: 0.9568\n"
          ]
        }
      ]
    },
    {
      "cell_type": "code",
      "source": [
        "from matplotlib import pyplot as plt\n",
        "plt.plot(history.history[\"loss\"], label=\"Training Loss\")\n",
        "plt.plot(history.history[\"val_loss\"], label=\"Validation Loss\")\n",
        "plt.legend()\n",
        "plt.show()"
      ],
      "metadata": {
        "colab": {
          "base_uri": "https://localhost:8080/",
          "height": 265
        },
        "id": "JkKl9CyQvFku",
        "outputId": "93e0a7c7-6fa9-4023-df80-da6ab2da38ea"
      },
      "execution_count": 41,
      "outputs": [
        {
          "output_type": "display_data",
          "data": {
            "image/png": "[encoded data removed]",
            "text/plain": [
              "<Figure size 432x288 with 1 Axes>"
            ]
          },
          "metadata": {
            "needs_background": "light"
          }
        }
      ]
    }
  ]
}