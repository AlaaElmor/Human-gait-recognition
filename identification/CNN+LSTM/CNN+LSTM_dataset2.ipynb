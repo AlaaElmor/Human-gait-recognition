{
  "nbformat": 4,
  "nbformat_minor": 0,
  "metadata": {
    "colab": {
      "name": "Untitled5.ipynb",
      "provenance": []
    },
    "kernelspec": {
      "name": "python3",
      "display_name": "Python 3"
    },
    "language_info": {
      "name": "python"
    },
    "accelerator": "GPU"
  },
  "cells": [
    {
      "cell_type": "code",
      "execution_count": 11,
      "metadata": {
        "colab": {
          "base_uri": "https://localhost:8080/"
        },
        "id": "RDZ6vXdUtrsp",
        "outputId": "9c0add49-ea2d-4c43-a0a5-231182468ce6"
      },
      "outputs": [
        {
          "output_type": "stream",
          "name": "stdout",
          "text": [
            "Mounted at /content/drive\n",
            "Mounted at /content/gdrive\n",
            "(44339, 128, 6) (44339, 20) (4936, 128, 6) (4936, 20)\n"
          ]
        }
      ],
      "source": [
        "from google.colab import drive\n",
        "drive.mount('/content/drive')\n",
        "\n",
        "from google.colab import drive\n",
        "\n",
        "drive.mount('/content/gdrive')\n",
        "root_path = 'gdrive/My Drive/'  #change dir to your project folder\n",
        "\n",
        "import numpy as np\n",
        "X_train = np.load('gdrive/My Drive/dataset/dataset2/trainX.npy')\n",
        "y_train = np.load('gdrive/My Drive/dataset/dataset2/trainy.npy')\n",
        "X_test = np.load('gdrive/My Drive/dataset/dataset2/testX.npy')\n",
        "y_test = np.load('gdrive/My Drive/dataset/dataset2/testy.npy')\n",
        "print(X_train.shape, y_train.shape, X_test.shape, y_test.shape)"
      ]
    },
    {
      "cell_type": "code",
      "source": [
        "from numpy import mean\n",
        "from numpy import std\n",
        "from numpy import dstack\n",
        "from numpy import save, load\n",
        "from pandas import read_csv\n",
        "from tensorflow import keras\n",
        "from sklearn.preprocessing import StandardScaler\n",
        "from tensorflow.keras.models import Sequential\n",
        "from tensorflow.keras.layers import Dense , Input ,concatenate\n",
        "from tensorflow.keras.layers import Flatten\n",
        "from tensorflow.keras.layers import Dropout\n",
        "from tensorflow.keras import Model\n",
        "from tensorflow.keras.callbacks import EarlyStopping, ModelCheckpoint, ReduceLROnPlateau\n",
        "from tensorflow.keras.layers import LSTM, Conv1D, concatenate,GlobalMaxPooling1D,TimeDistributed, MaxPooling1D\n",
        "from tensorflow.keras.utils import to_categorical\n",
        "from tensorflow.keras.layers import concatenate\n",
        "from tensorflow.keras import regularizers"
      ],
      "metadata": {
        "id": "-Qkx_EZ2uxRJ"
      },
      "execution_count": 12,
      "outputs": []
    },
    {
      "cell_type": "code",
      "source": [
        "from sklearn.model_selection import train_test_split\n",
        "X_training, X_validation, y_training, y_validation = train_test_split(X_train, y_train, test_size=0.20, random_state=42)\n",
        "n_timesteps, n_features, n_outputs = X_train.shape[1], X_train.shape[2], y_train.shape[1]\n",
        "validation_data=(X_validation, y_validation)"
      ],
      "metadata": {
        "id": "QRMig4JduxUD"
      },
      "execution_count": 13,
      "outputs": []
    },
    {
      "cell_type": "code",
      "source": [
        "CNN_model= Sequential()\n",
        "CNN_model.add(Conv1D(filters=32, kernel_size=9, strides=2, activation='relu', input_shape=(n_timesteps,n_features)))\n",
        "CNN_model.add(MaxPooling1D(pool_size=2 ,strides=2))\n",
        "CNN_model.add(Dropout(0.5))\n",
        "CNN_model.add(Conv1D(filters=64, kernel_size=3, strides=1, activation='relu'))\n",
        "CNN_model.add(Conv1D(filters=128, kernel_size=3, strides=1, activation='relu'))\n",
        "CNN_model.add(MaxPooling1D(pool_size=2 ,strides=2))\n",
        "CNN_model.add(Dropout(0.5))\n",
        "CNN_model.add(Conv1D(filters=128, kernel_size=1, strides=1, activation='relu'))\n",
        "CNN_model.add(Flatten())\n",
        "CNN_model.add(Dense(n_outputs, activation='relu'))\n",
        "CNN_model.summary()\n",
        "\n",
        "LSTM_model= Sequential()\n",
        "LSTM_model.add(LSTM(512,input_shape=(n_timesteps,n_features),return_sequences=True))\n",
        "LSTM_model.add(LSTM(256))\n",
        "LSTM_model.add(Dropout(0.2))\n",
        "LSTM_model.add(Dense(128, activation='relu'))\n",
        "LSTM_model.add(Dense(n_outputs, activation='relu'))\n",
        "LSTM_model.summary()\n",
        "\n",
        "inputs = Input(shape=(n_timesteps,n_features))\n",
        "mergedInput= concatenate([CNN_model(inputs),LSTM_model(inputs)])\n",
        "out = Dense(n_outputs, activation='softmax')(mergedInput)\n",
        "model3 = Model(inputs,out)\n",
        "model3.compile(loss='categorical_crossentropy', optimizer='adam', metrics=['accuracy'])\n",
        "#model3.layers[0].set_weights(LSTM_model.layers[4].get_weights())\n",
        "model3.summary()\n",
        "callbacks = [keras.callbacks.EarlyStopping(patience=5, restore_best_weights=True)]"
      ],
      "metadata": {
        "colab": {
          "base_uri": "https://localhost:8080/"
        },
        "id": "Yt-4cl-yuxXF",
        "outputId": "352dad7b-d1e6-41cd-a0b9-50fa70cd4a78"
      },
      "execution_count": 14,
      "outputs": [
        {
          "output_type": "stream",
          "name": "stdout",
          "text": [
            "Model: \"sequential_4\"\n",
            "_________________________________________________________________\n",
            " Layer (type)                Output Shape              Param #   \n",
            "=================================================================\n",
            " conv1d_8 (Conv1D)           (None, 60, 32)            1760      \n",
            "                                                                 \n",
            " max_pooling1d_4 (MaxPooling  (None, 30, 32)           0         \n",
            " 1D)                                                             \n",
            "                                                                 \n",
            " dropout_6 (Dropout)         (None, 30, 32)            0         \n",
            "                                                                 \n",
            " conv1d_9 (Conv1D)           (None, 28, 64)            6208      \n",
            "                                                                 \n",
            " conv1d_10 (Conv1D)          (None, 26, 128)           24704     \n",
            "                                                                 \n",
            " max_pooling1d_5 (MaxPooling  (None, 13, 128)          0         \n",
            " 1D)                                                             \n",
            "                                                                 \n",
            " dropout_7 (Dropout)         (None, 13, 128)           0         \n",
            "                                                                 \n",
            " conv1d_11 (Conv1D)          (None, 13, 128)           16512     \n",
            "                                                                 \n",
            " flatten_2 (Flatten)         (None, 1664)              0         \n",
            "                                                                 \n",
            " dense_8 (Dense)             (None, 20)                33300     \n",
            "                                                                 \n",
            "=================================================================\n",
            "Total params: 82,484\n",
            "Trainable params: 82,484\n",
            "Non-trainable params: 0\n",
            "_________________________________________________________________\n",
            "Model: \"sequential_5\"\n",
            "_________________________________________________________________\n",
            " Layer (type)                Output Shape              Param #   \n",
            "=================================================================\n",
            " lstm_4 (LSTM)               (None, 128, 512)          1062912   \n",
            "                                                                 \n",
            " lstm_5 (LSTM)               (None, 256)               787456    \n",
            "                                                                 \n",
            " dropout_8 (Dropout)         (None, 256)               0         \n",
            "                                                                 \n",
            " dense_9 (Dense)             (None, 128)               32896     \n",
            "                                                                 \n",
            " dense_10 (Dense)            (None, 20)                2580      \n",
            "                                                                 \n",
            "=================================================================\n",
            "Total params: 1,885,844\n",
            "Trainable params: 1,885,844\n",
            "Non-trainable params: 0\n",
            "_________________________________________________________________\n",
            "Model: \"model_2\"\n",
            "__________________________________________________________________________________________________\n",
            " Layer (type)                   Output Shape         Param #     Connected to                     \n",
            "==================================================================================================\n",
            " input_3 (InputLayer)           [(None, 128, 6)]     0           []                               \n",
            "                                                                                                  \n",
            " sequential_4 (Sequential)      (None, 20)           82484       ['input_3[0][0]']                \n",
            "                                                                                                  \n",
            " sequential_5 (Sequential)      (None, 20)           1885844     ['input_3[0][0]']                \n",
            "                                                                                                  \n",
            " concatenate_2 (Concatenate)    (None, 40)           0           ['sequential_4[0][0]',           \n",
            "                                                                  'sequential_5[0][0]']           \n",
            "                                                                                                  \n",
            " dense_11 (Dense)               (None, 20)           820         ['concatenate_2[0][0]']          \n",
            "                                                                                                  \n",
            "==================================================================================================\n",
            "Total params: 1,969,148\n",
            "Trainable params: 1,969,148\n",
            "Non-trainable params: 0\n",
            "__________________________________________________________________________________________________\n"
          ]
        }
      ]
    },
    {
      "cell_type": "code",
      "source": [
        "history = model3.fit(X_training, y_training, epochs=200, verbose=True, validation_data=(X_validation, y_validation), batch_size=128,callbacks=callbacks)"
      ],
      "metadata": {
        "colab": {
          "base_uri": "https://localhost:8080/"
        },
        "id": "2cM0iBU4uxZ9",
        "outputId": "d67db911-69ba-4b93-c6e9-8ee162d888f0"
      },
      "execution_count": 15,
      "outputs": [
        {
          "output_type": "stream",
          "name": "stdout",
          "text": [
            "Epoch 1/200\n",
            "278/278 [==============================] - 26s 84ms/step - loss: 0.8000 - accuracy: 0.7709 - val_loss: 0.2518 - val_accuracy: 0.9297\n",
            "Epoch 2/200\n",
            "278/278 [==============================] - 22s 81ms/step - loss: 0.2452 - accuracy: 0.9319 - val_loss: 0.1810 - val_accuracy: 0.9478\n",
            "Epoch 3/200\n",
            "278/278 [==============================] - 22s 81ms/step - loss: 0.1685 - accuracy: 0.9539 - val_loss: 0.1420 - val_accuracy: 0.9592\n",
            "Epoch 4/200\n",
            "278/278 [==============================] - 22s 80ms/step - loss: 0.1276 - accuracy: 0.9650 - val_loss: 0.1092 - val_accuracy: 0.9714\n",
            "Epoch 5/200\n",
            "278/278 [==============================] - 23s 81ms/step - loss: 0.1091 - accuracy: 0.9696 - val_loss: 0.0810 - val_accuracy: 0.9767\n",
            "Epoch 6/200\n",
            "278/278 [==============================] - 22s 80ms/step - loss: 0.0946 - accuracy: 0.9731 - val_loss: 0.0752 - val_accuracy: 0.9793\n",
            "Epoch 7/200\n",
            "278/278 [==============================] - 22s 80ms/step - loss: 0.0760 - accuracy: 0.9785 - val_loss: 0.0892 - val_accuracy: 0.9755\n",
            "Epoch 8/200\n",
            "278/278 [==============================] - 22s 80ms/step - loss: 0.0962 - accuracy: 0.9719 - val_loss: 0.0678 - val_accuracy: 0.9820\n",
            "Epoch 9/200\n",
            "278/278 [==============================] - 22s 80ms/step - loss: 0.0642 - accuracy: 0.9811 - val_loss: 0.0649 - val_accuracy: 0.9829\n",
            "Epoch 10/200\n",
            "278/278 [==============================] - 22s 80ms/step - loss: 0.0562 - accuracy: 0.9833 - val_loss: 0.0591 - val_accuracy: 0.9826\n",
            "Epoch 11/200\n",
            "278/278 [==============================] - 22s 80ms/step - loss: 0.0512 - accuracy: 0.9849 - val_loss: 0.0587 - val_accuracy: 0.9841\n",
            "Epoch 12/200\n",
            "278/278 [==============================] - 22s 80ms/step - loss: 0.0483 - accuracy: 0.9861 - val_loss: 0.0548 - val_accuracy: 0.9850\n",
            "Epoch 13/200\n",
            "278/278 [==============================] - 22s 81ms/step - loss: 0.0398 - accuracy: 0.9876 - val_loss: 0.0639 - val_accuracy: 0.9814\n",
            "Epoch 14/200\n",
            "278/278 [==============================] - 23s 81ms/step - loss: 0.0610 - accuracy: 0.9820 - val_loss: 0.0696 - val_accuracy: 0.9803\n",
            "Epoch 15/200\n",
            "278/278 [==============================] - 23s 81ms/step - loss: 0.0506 - accuracy: 0.9845 - val_loss: 0.0564 - val_accuracy: 0.9844\n",
            "Epoch 16/200\n",
            "278/278 [==============================] - 23s 81ms/step - loss: 0.0379 - accuracy: 0.9889 - val_loss: 0.0391 - val_accuracy: 0.9886\n",
            "Epoch 17/200\n",
            "278/278 [==============================] - 23s 81ms/step - loss: 0.0313 - accuracy: 0.9907 - val_loss: 0.0441 - val_accuracy: 0.9879\n",
            "Epoch 18/200\n",
            "278/278 [==============================] - 22s 81ms/step - loss: 0.0261 - accuracy: 0.9914 - val_loss: 0.0487 - val_accuracy: 0.9869\n",
            "Epoch 19/200\n",
            "278/278 [==============================] - 22s 80ms/step - loss: 0.0411 - accuracy: 0.9875 - val_loss: 0.0505 - val_accuracy: 0.9868\n",
            "Epoch 20/200\n",
            "278/278 [==============================] - 23s 81ms/step - loss: 0.0335 - accuracy: 0.9899 - val_loss: 0.0459 - val_accuracy: 0.9853\n",
            "Epoch 21/200\n",
            "278/278 [==============================] - 23s 82ms/step - loss: 0.0320 - accuracy: 0.9905 - val_loss: 0.0379 - val_accuracy: 0.9887\n",
            "Epoch 22/200\n",
            "278/278 [==============================] - 23s 81ms/step - loss: 0.0317 - accuracy: 0.9899 - val_loss: 0.0410 - val_accuracy: 0.9886\n",
            "Epoch 23/200\n",
            "278/278 [==============================] - 23s 81ms/step - loss: 0.0264 - accuracy: 0.9920 - val_loss: 0.0512 - val_accuracy: 0.9862\n",
            "Epoch 24/200\n",
            "278/278 [==============================] - 23s 81ms/step - loss: 0.0247 - accuracy: 0.9924 - val_loss: 0.0396 - val_accuracy: 0.9895\n",
            "Epoch 25/200\n",
            "278/278 [==============================] - 23s 82ms/step - loss: 0.0249 - accuracy: 0.9922 - val_loss: 0.0460 - val_accuracy: 0.9871\n",
            "Epoch 26/200\n",
            "278/278 [==============================] - 22s 80ms/step - loss: 0.0242 - accuracy: 0.9923 - val_loss: 0.0488 - val_accuracy: 0.9882\n"
          ]
        }
      ]
    },
    {
      "cell_type": "code",
      "source": [
        "loss, accuracy = model3.evaluate(X_validation, y_validation, verbose=False)\n",
        "print(\"Validation Accuracy:  {:.4f}\".format(accuracy))\n",
        "loss, accuracy = model3.evaluate(X_test, y_test, verbose=False)\n",
        "print(\"Testing Accuracy: {:.4f}\".format(accuracy))"
      ],
      "metadata": {
        "colab": {
          "base_uri": "https://localhost:8080/"
        },
        "id": "BrRZlOJMuxdZ",
        "outputId": "b08e4f4d-f040-41e1-9214-4bf9ef30585f"
      },
      "execution_count": 16,
      "outputs": [
        {
          "output_type": "stream",
          "name": "stdout",
          "text": [
            "Validation Accuracy:  0.9887\n",
            "Testing Accuracy: 0.9544\n"
          ]
        }
      ]
    },
    {
      "cell_type": "code",
      "source": [
        "from matplotlib import pyplot as plt\n",
        "plt.plot(history.history[\"loss\"], label=\"Training Loss\")\n",
        "plt.plot(history.history[\"val_loss\"], label=\"Validation Loss\")\n",
        "plt.legend()\n",
        "plt.show()"
      ],
      "metadata": {
        "colab": {
          "base_uri": "https://localhost:8080/",
          "height": 265
        },
        "id": "JkKl9CyQvFku",
        "outputId": "5f510caf-2f9c-4acf-f13e-3f682664b4a3"
      },
      "execution_count": 17,
      "outputs": [
        {
          "output_type": "display_data",
          "data": {
            "image/png": "[encoded data removed]",
            "text/plain": [
              "<Figure size 432x288 with 1 Axes>"
            ]
          },
          "metadata": {
            "needs_background": "light"
          }
        }
      ]
    }
  ]
}