{
  "nbformat": 4,
  "nbformat_minor": 0,
  "metadata": {
    "colab": {
      "name": "Untitled2.ipynb",
      "provenance": []
    },
    "kernelspec": {
      "name": "python3",
      "display_name": "Python 3"
    },
    "language_info": {
      "name": "python"
    },
    "accelerator": "GPU"
  },
  "cells": [
    {
      "cell_type": "code",
      "execution_count": 14,
      "metadata": {
        "colab": {
          "base_uri": "https://localhost:8080/"
        },
        "id": "kfsqX7sr8Ku0",
        "outputId": "b671e1f8-fb30-48b3-aba1-aef264d2e208"
      },
      "outputs": [
        {
          "output_type": "stream",
          "name": "stdout",
          "text": [
            "Mounted at /content/drive\n",
            "Mounted at /content/gdrive\n",
            "(33104, 128, 6) (33104, 118) (3740, 128, 6) (3740, 118)\n"
          ]
        }
      ],
      "source": [
        "from google.colab import drive\n",
        "drive.mount('/content/drive')\n",
        "\n",
        "from google.colab import drive\n",
        "\n",
        "drive.mount('/content/gdrive')\n",
        "root_path = 'gdrive/My Drive/'  #change dir to your project folder\n",
        "\n",
        "import numpy as np\n",
        "X_train = np.load('gdrive/My Drive/dataset1/acc+gyr/trainX.npy')\n",
        "y_train = np.load('gdrive/My Drive/dataset1/acc+gyr/trainy.npy')\n",
        "X_test = np.load('gdrive/My Drive/dataset1/acc+gyr/testX.npy')\n",
        "y_test = np.load('gdrive/My Drive/dataset1/acc+gyr/testy.npy')\n",
        "print(X_train.shape, y_train.shape, X_test.shape, y_test.shape)\n"
      ]
    },
    {
      "cell_type": "code",
      "source": [
        "from numpy import mean\n",
        "from numpy import std\n",
        "from numpy import dstack\n",
        "from numpy import save, load\n",
        "from pandas import read_csv\n",
        "from sklearn.preprocessing import StandardScaler\n",
        "from tensorflow.keras.models import Sequential\n",
        "from tensorflow.keras.layers import Dense , Input ,concatenate\n",
        "from tensorflow.keras.layers import Flatten\n",
        "from tensorflow.keras.layers import Dropout\n",
        "from tensorflow.keras import Model\n",
        "from tensorflow.keras.callbacks import EarlyStopping, ModelCheckpoint, ReduceLROnPlateau\n",
        "from tensorflow.keras.layers import LSTM, Conv1D, concatenate,GlobalMaxPooling1D,TimeDistributed, MaxPooling1D\n",
        "from tensorflow.keras.utils import to_categorical\n",
        "from tensorflow.keras.layers import concatenate\n",
        "from tensorflow.keras import regularizers"
      ],
      "metadata": {
        "id": "Lf5XOXhm9DV4"
      },
      "execution_count": 31,
      "outputs": []
    },
    {
      "cell_type": "code",
      "source": [
        "from sklearn.model_selection import train_test_split\n",
        "X_training, X_validation, y_training, y_validation = train_test_split(X_train, y_train, test_size=0.20, random_state=42)\n",
        "n_timesteps, n_features, n_outputs = X_train.shape[1], X_train.shape[2], y_train.shape[1]"
      ],
      "metadata": {
        "id": "6V0316AK9DeM"
      },
      "execution_count": 32,
      "outputs": []
    },
    {
      "cell_type": "code",
      "source": [
        "CNN_model= Sequential()\n",
        "CNN_model.add(Conv1D(filters=32, kernel_size=9, strides=2, activation='relu', input_shape=(n_timesteps,n_features)))\n",
        "CNN_model.add(MaxPooling1D(pool_size=2 ,strides=2))\n",
        "CNN_model.add(Dropout(0.5))\n",
        "CNN_model.add(Conv1D(filters=64, kernel_size=3, strides=1, activation='relu'))\n",
        "CNN_model.add(Conv1D(filters=128, kernel_size=3, strides=1, activation='relu'))\n",
        "CNN_model.add(MaxPooling1D(pool_size=2 ,strides=2))\n",
        "CNN_model.add(Dropout(0.5))\n",
        "CNN_model.add(Conv1D(filters=128, kernel_size=1, strides=1, activation='relu'))\n",
        "CNN_model.add(Flatten())\n",
        "CNN_model.add(Dense(n_outputs, activation='relu'))\n",
        "CNN_model.summary()\n",
        "\n",
        "LSTM_model= Sequential()\n",
        "LSTM_model.add(LSTM(64,input_shape=(n_timesteps,n_features),return_sequences=True))\n",
        "LSTM_model.add(LSTM(64))\n",
        "LSTM_model.add(Dropout(0.1))\n",
        "LSTM_model.add(Dense(128, activation='relu'))\n",
        "LSTM_model.add(Dense(n_outputs, activation='relu'))\n",
        "LSTM_model.summary()\n",
        "\n",
        "inputs = Input(shape=(n_timesteps,n_features))\n",
        "mergedInput= concatenate([CNN_model(inputs),LSTM_model(inputs)])\n",
        "out = Dense(n_outputs, activation='softmax')(mergedInput)\n",
        "model3 = Model(inputs,out)\n",
        "model3.compile(loss='categorical_crossentropy', optimizer='adam', metrics=['accuracy'])\n",
        "model3.summary()\n",
        "\n",
        "\n",
        "LSTM_model.trainable = False\n"
      ],
      "metadata": {
        "colab": {
          "base_uri": "https://localhost:8080/"
        },
        "id": "VOKHZR5j9IrU",
        "outputId": "2c8948a9-ef8a-41a4-bcb0-5f4f4b94097a"
      },
      "execution_count": 63,
      "outputs": [
        {
          "output_type": "stream",
          "name": "stdout",
          "text": [
            "Model: \"sequential_46\"\n",
            "_________________________________________________________________\n",
            " Layer (type)                Output Shape              Param #   \n",
            "=================================================================\n",
            " conv1d_75 (Conv1D)          (None, 60, 32)            1760      \n",
            "                                                                 \n",
            " max_pooling1d_20 (MaxPoolin  (None, 30, 32)           0         \n",
            " g1D)                                                            \n",
            "                                                                 \n",
            " dropout_32 (Dropout)        (None, 30, 32)            0         \n",
            "                                                                 \n",
            " conv1d_76 (Conv1D)          (None, 28, 64)            6208      \n",
            "                                                                 \n",
            " conv1d_77 (Conv1D)          (None, 26, 128)           24704     \n",
            "                                                                 \n",
            " max_pooling1d_21 (MaxPoolin  (None, 13, 128)          0         \n",
            " g1D)                                                            \n",
            "                                                                 \n",
            " dropout_33 (Dropout)        (None, 13, 128)           0         \n",
            "                                                                 \n",
            " conv1d_78 (Conv1D)          (None, 13, 128)           16512     \n",
            "                                                                 \n",
            " flatten_22 (Flatten)        (None, 1664)              0         \n",
            "                                                                 \n",
            " dense_77 (Dense)            (None, 118)               196470    \n",
            "                                                                 \n",
            "=================================================================\n",
            "Total params: 245,654\n",
            "Trainable params: 245,654\n",
            "Non-trainable params: 0\n",
            "_________________________________________________________________\n",
            "Model: \"sequential_47\"\n",
            "_________________________________________________________________\n",
            " Layer (type)                Output Shape              Param #   \n",
            "=================================================================\n",
            " lstm_29 (LSTM)              (None, 128, 64)           18176     \n",
            "                                                                 \n",
            " lstm_30 (LSTM)              (None, 64)                33024     \n",
            "                                                                 \n",
            " dropout_34 (Dropout)        (None, 64)                0         \n",
            "                                                                 \n",
            " dense_78 (Dense)            (None, 128)               8320      \n",
            "                                                                 \n",
            " dense_79 (Dense)            (None, 118)               15222     \n",
            "                                                                 \n",
            "=================================================================\n",
            "Total params: 74,742\n",
            "Trainable params: 74,742\n",
            "Non-trainable params: 0\n",
            "_________________________________________________________________\n",
            "Model: \"model_14\"\n",
            "__________________________________________________________________________________________________\n",
            " Layer (type)                   Output Shape         Param #     Connected to                     \n",
            "==================================================================================================\n",
            " input_19 (InputLayer)          [(None, 128, 6)]     0           []                               \n",
            "                                                                                                  \n",
            " sequential_46 (Sequential)     (None, 118)          245654      ['input_19[0][0]']               \n",
            "                                                                                                  \n",
            " sequential_47 (Sequential)     (None, 118)          74742       ['input_19[0][0]']               \n",
            "                                                                                                  \n",
            " concatenate_18 (Concatenate)   (None, 236)          0           ['sequential_46[0][0]',          \n",
            "                                                                  'sequential_47[0][0]']          \n",
            "                                                                                                  \n",
            " dense_80 (Dense)               (None, 118)          27966       ['concatenate_18[0][0]']         \n",
            "                                                                                                  \n",
            "==================================================================================================\n",
            "Total params: 348,362\n",
            "Trainable params: 348,362\n",
            "Non-trainable params: 0\n",
            "__________________________________________________________________________________________________\n"
          ]
        }
      ]
    },
    {
      "cell_type": "code",
      "source": [
        "validation_data=(X_validation, y_validation)\n",
        "history = model3.fit(X_training, y_training, epochs=10, verbose=True, validation_data=(X_validation, y_validation), batch_size=128)"
      ],
      "metadata": {
        "colab": {
          "base_uri": "https://localhost:8080/"
        },
        "id": "HNJeGV109Ius",
        "outputId": "dbb0f8c8-9144-4ae0-ba14-1c779d608690"
      },
      "execution_count": 64,
      "outputs": [
        {
          "output_type": "stream",
          "name": "stdout",
          "text": [
            "Epoch 1/10\n",
            "207/207 [==============================] - 10s 32ms/step - loss: 2.2543 - accuracy: 0.4427 - val_loss: 0.9787 - val_accuracy: 0.7553\n",
            "Epoch 2/10\n",
            "207/207 [==============================] - 4s 21ms/step - loss: 0.7855 - accuracy: 0.7943 - val_loss: 0.5497 - val_accuracy: 0.8595\n",
            "Epoch 3/10\n",
            "207/207 [==============================] - 4s 21ms/step - loss: 0.5553 - accuracy: 0.8512 - val_loss: 0.4121 - val_accuracy: 0.8965\n",
            "Epoch 4/10\n",
            "207/207 [==============================] - 4s 21ms/step - loss: 0.4393 - accuracy: 0.8785 - val_loss: 0.3766 - val_accuracy: 0.8973\n",
            "Epoch 5/10\n",
            "207/207 [==============================] - 4s 21ms/step - loss: 0.3795 - accuracy: 0.8922 - val_loss: 0.3997 - val_accuracy: 0.8894\n",
            "Epoch 6/10\n",
            "207/207 [==============================] - 4s 22ms/step - loss: 0.3268 - accuracy: 0.9056 - val_loss: 0.3242 - val_accuracy: 0.9115\n",
            "Epoch 7/10\n",
            "207/207 [==============================] - 4s 21ms/step - loss: 0.2924 - accuracy: 0.9138 - val_loss: 0.2974 - val_accuracy: 0.9222\n",
            "Epoch 8/10\n",
            "207/207 [==============================] - 4s 21ms/step - loss: 0.2650 - accuracy: 0.9213 - val_loss: 0.2577 - val_accuracy: 0.9313\n",
            "Epoch 9/10\n",
            "207/207 [==============================] - 4s 21ms/step - loss: 0.2271 - accuracy: 0.9321 - val_loss: 0.2377 - val_accuracy: 0.9369\n",
            "Epoch 10/10\n",
            "207/207 [==============================] - 4s 21ms/step - loss: 0.2111 - accuracy: 0.9364 - val_loss: 0.2555 - val_accuracy: 0.9320\n"
          ]
        }
      ]
    },
    {
      "cell_type": "code",
      "source": [
        "loss, accuracy = model3.evaluate(X_validation, y_validation, verbose=False)\n",
        "print(\"Validation Accuracy:  {:.4f}\".format(accuracy))\n",
        "loss, accuracy = model3.evaluate(X_test, y_test, verbose=False)\n",
        "print(\"Testing Accuracy: {:.4f}\".format(accuracy))"
      ],
      "metadata": {
        "colab": {
          "base_uri": "https://localhost:8080/"
        },
        "id": "espFQdMK9DnJ",
        "outputId": "f6efe303-c7b3-4319-c309-21a7e138965b"
      },
      "execution_count": 66,
      "outputs": [
        {
          "output_type": "stream",
          "name": "stdout",
          "text": [
            "Validation Accuracy:  0.9320\n",
            "Testing Accuracy: 0.8535\n"
          ]
        }
      ]
    }
  ]
}
