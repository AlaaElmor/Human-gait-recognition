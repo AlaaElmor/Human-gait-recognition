{
  "nbformat": 4,
  "nbformat_minor": 0,
  "metadata": {
    "colab": {
      "name": "CNN+LSTM.ipynb",
      "provenance": []
    },
    "kernelspec": {
      "name": "python3",
      "display_name": "Python 3"
    },
    "language_info": {
      "name": "python"
    },
    "accelerator": "GPU"
  },
  "cells": [
    {
      "cell_type": "code",
      "execution_count": 66,
      "metadata": {
        "colab": {
          "base_uri": "https://localhost:8080/"
        },
        "id": "kfsqX7sr8Ku0",
        "outputId": "c2a4fc5c-4653-431f-f040-3041ca1b07e4"
      },
      "outputs": [
        {
          "output_type": "stream",
          "name": "stdout",
          "text": [
            "Mounted at /content/drive\n",
            "Mounted at /content/gdrive\n",
            "(33104, 128, 6) (33104, 118) (3740, 128, 6) (3740, 118)\n"
          ]
        }
      ],
      "source": [
        "from google.colab import drive\n",
        "drive.mount('/content/drive')\n",
        "\n",
        "from google.colab import drive\n",
        "\n",
        "drive.mount('/content/gdrive')\n",
        "root_path = 'gdrive/My Drive/'  #change dir to your project folder\n",
        "\n",
        "import numpy as np\n",
        "X_train = np.load('gdrive/My Drive/dataset1/acc+gyr/trainX.npy')\n",
        "y_train = np.load('gdrive/My Drive/dataset1/acc+gyr/trainy.npy')\n",
        "X_test = np.load('gdrive/My Drive/dataset1/acc+gyr/testX.npy')\n",
        "y_test = np.load('gdrive/My Drive/dataset1/acc+gyr/testy.npy')\n",
        "print(X_train.shape, y_train.shape, X_test.shape, y_test.shape)\n"
      ]
    },
    {
      "cell_type": "code",
      "source": [
        "from numpy import mean\n",
        "from numpy import std\n",
        "from numpy import dstack\n",
        "from numpy import save, load\n",
        "from pandas import read_csv\n",
        "from tensorflow import keras\n",
        "from sklearn.preprocessing import StandardScaler\n",
        "from tensorflow.keras.models import Sequential\n",
        "from tensorflow.keras.layers import Dense , Input ,concatenate\n",
        "from tensorflow.keras.layers import Flatten\n",
        "from tensorflow.keras.layers import Dropout\n",
        "from tensorflow.keras import Model\n",
        "from tensorflow.keras.callbacks import EarlyStopping, ModelCheckpoint, ReduceLROnPlateau\n",
        "from tensorflow.keras.layers import LSTM, Conv1D, concatenate,GlobalMaxPooling1D,TimeDistributed, MaxPooling1D\n",
        "from tensorflow.keras.utils import to_categorical\n",
        "from tensorflow.keras.layers import concatenate\n",
        "from tensorflow.keras import regularizers"
      ],
      "metadata": {
        "id": "Lf5XOXhm9DV4"
      },
      "execution_count": 67,
      "outputs": []
    },
    {
      "cell_type": "code",
      "source": [
        "from sklearn.model_selection import train_test_split\n",
        "X_training, X_validation, y_training, y_validation = train_test_split(X_train, y_train, test_size=0.20, random_state=42)\n",
        "n_timesteps, n_features, n_outputs = X_train.shape[1], X_train.shape[2], y_train.shape[1]\n",
        "validation_data=(X_validation, y_validation)"
      ],
      "metadata": {
        "id": "6V0316AK9DeM"
      },
      "execution_count": 68,
      "outputs": []
    },
    {
      "cell_type": "code",
      "source": [
        "LSTM_model= Sequential()\n",
        "LSTM_model.add(LSTM(512,input_shape=(n_timesteps,n_features),return_sequences=True))\n",
        "LSTM_model.add(LSTM(256))\n",
        "LSTM_model.add(Dropout(0.2))\n",
        "LSTM_model.add(Dense(128, activation='relu'))\n",
        "LSTM_model.add(Dense(n_outputs, activation='softmax'))\n",
        "LSTM_model.summary()\n",
        "LSTM_model.compile(loss='categorical_crossentropy', optimizer='adam', metrics=['accuracy'])\n",
        "LSTM_model.fit(X_training, y_training, epochs=20, verbose=True, validation_data=(X_validation, y_validation), batch_size=128)\n"
      ],
      "metadata": {
        "colab": {
          "base_uri": "https://localhost:8080/"
        },
        "id": "VOKHZR5j9IrU",
        "outputId": "4ca2168d-1b87-4dbc-f9bd-9ded35de99ac"
      },
      "execution_count": 69,
      "outputs": [
        {
          "output_type": "stream",
          "name": "stdout",
          "text": [
            "Model: \"sequential_20\"\n",
            "_________________________________________________________________\n",
            " Layer (type)                Output Shape              Param #   \n",
            "=================================================================\n",
            " lstm_14 (LSTM)              (None, 128, 512)          1062912   \n",
            "                                                                 \n",
            " lstm_15 (LSTM)              (None, 256)               787456    \n",
            "                                                                 \n",
            " dropout_31 (Dropout)        (None, 256)               0         \n",
            "                                                                 \n",
            " dense_41 (Dense)            (None, 128)               32896     \n",
            "                                                                 \n",
            " dense_42 (Dense)            (None, 118)               15222     \n",
            "                                                                 \n",
            "=================================================================\n",
            "Total params: 1,898,486\n",
            "Trainable params: 1,898,486\n",
            "Non-trainable params: 0\n",
            "_________________________________________________________________\n",
            "Epoch 1/20\n",
            "207/207 [==============================] - 82s 196ms/step - loss: 2.1863 - accuracy: 0.4478 - val_loss: 0.9979 - val_accuracy: 0.7454\n",
            "Epoch 2/20\n",
            "207/207 [==============================] - 39s 190ms/step - loss: 0.8148 - accuracy: 0.7832 - val_loss: 0.5728 - val_accuracy: 0.8484\n",
            "Epoch 3/20\n",
            "207/207 [==============================] - 39s 190ms/step - loss: 0.5516 - accuracy: 0.8485 - val_loss: 0.4845 - val_accuracy: 0.8686\n",
            "Epoch 4/20\n",
            "207/207 [==============================] - 39s 189ms/step - loss: 0.4174 - accuracy: 0.8848 - val_loss: 0.3205 - val_accuracy: 0.9157\n",
            "Epoch 5/20\n",
            "207/207 [==============================] - 39s 189ms/step - loss: 0.3311 - accuracy: 0.9073 - val_loss: 0.4016 - val_accuracy: 0.8922\n",
            "Epoch 6/20\n",
            "207/207 [==============================] - 39s 189ms/step - loss: 0.2864 - accuracy: 0.9183 - val_loss: 0.2511 - val_accuracy: 0.9343\n",
            "Epoch 7/20\n",
            "207/207 [==============================] - 39s 189ms/step - loss: 0.2384 - accuracy: 0.9322 - val_loss: 0.2508 - val_accuracy: 0.9307\n",
            "Epoch 8/20\n",
            "207/207 [==============================] - 39s 189ms/step - loss: 0.1957 - accuracy: 0.9433 - val_loss: 0.2327 - val_accuracy: 0.9406\n",
            "Epoch 9/20\n",
            "207/207 [==============================] - 39s 189ms/step - loss: 0.2025 - accuracy: 0.9418 - val_loss: 0.2539 - val_accuracy: 0.9278\n",
            "Epoch 10/20\n",
            "207/207 [==============================] - 39s 189ms/step - loss: 0.1603 - accuracy: 0.9537 - val_loss: 0.2018 - val_accuracy: 0.9456\n",
            "Epoch 11/20\n",
            "207/207 [==============================] - 39s 190ms/step - loss: 0.1437 - accuracy: 0.9590 - val_loss: 0.1903 - val_accuracy: 0.9517\n",
            "Epoch 12/20\n",
            "207/207 [==============================] - 39s 189ms/step - loss: 0.1285 - accuracy: 0.9618 - val_loss: 0.2087 - val_accuracy: 0.9426\n",
            "Epoch 13/20\n",
            "207/207 [==============================] - 39s 190ms/step - loss: 0.1192 - accuracy: 0.9638 - val_loss: 0.1864 - val_accuracy: 0.9514\n",
            "Epoch 14/20\n",
            "207/207 [==============================] - 39s 189ms/step - loss: 0.1099 - accuracy: 0.9683 - val_loss: 0.1745 - val_accuracy: 0.9523\n",
            "Epoch 15/20\n",
            "207/207 [==============================] - 39s 190ms/step - loss: 0.1100 - accuracy: 0.9661 - val_loss: 0.1493 - val_accuracy: 0.9630\n",
            "Epoch 16/20\n",
            "207/207 [==============================] - 39s 189ms/step - loss: 0.1053 - accuracy: 0.9675 - val_loss: 0.1598 - val_accuracy: 0.9588\n",
            "Epoch 17/20\n",
            "207/207 [==============================] - 39s 190ms/step - loss: 0.0824 - accuracy: 0.9743 - val_loss: 0.1626 - val_accuracy: 0.9560\n",
            "Epoch 18/20\n",
            "207/207 [==============================] - 39s 190ms/step - loss: 0.0905 - accuracy: 0.9738 - val_loss: 0.1461 - val_accuracy: 0.9613\n",
            "Epoch 19/20\n",
            "207/207 [==============================] - 39s 189ms/step - loss: 0.0840 - accuracy: 0.9744 - val_loss: 0.1596 - val_accuracy: 0.9594\n",
            "Epoch 20/20\n",
            "207/207 [==============================] - 39s 190ms/step - loss: 0.0785 - accuracy: 0.9763 - val_loss: 0.1414 - val_accuracy: 0.9645\n"
          ]
        },
        {
          "output_type": "execute_result",
          "data": {
            "text/plain": [
              "<keras.callbacks.History at 0x7faf25a5d050>"
            ]
          },
          "metadata": {},
          "execution_count": 69
        }
      ]
    },
    {
      "cell_type": "code",
      "source": [
        "loss, accuracy = LSTM_model.evaluate(X_validation, y_validation, verbose=False)\n",
        "print(\"Validation Accuracy:  {:.4f}\".format(accuracy))\n",
        "loss, accuracy = LSTM_model.evaluate(X_test, y_test, verbose=False)\n",
        "print(\"Testing Accuracy: {:.4f}\".format(accuracy))"
      ],
      "metadata": {
        "colab": {
          "base_uri": "https://localhost:8080/"
        },
        "id": "_idhV_ylYNKX",
        "outputId": "0b6dc688-2c56-44a1-f74a-58cc6491c6f5"
      },
      "execution_count": 70,
      "outputs": [
        {
          "output_type": "stream",
          "name": "stdout",
          "text": [
            "Validation Accuracy:  0.9645\n",
            "Testing Accuracy: 0.9027\n"
          ]
        }
      ]
    },
    {
      "cell_type": "code",
      "source": [
        "#lstm_output_layer_weights_values = LSTM_model.layers[4].get_weights()    \n",
        "LSTM_model.trainable = False\n",
        "\n",
        "CNN_model= Sequential()\n",
        "CNN_model.add(Conv1D(filters=32, kernel_size=9, strides=2, activation='relu', input_shape=(n_timesteps,n_features)))\n",
        "CNN_model.add(MaxPooling1D(pool_size=2 ,strides=2))\n",
        "CNN_model.add(Dropout(0.5))\n",
        "CNN_model.add(Conv1D(filters=64, kernel_size=3, strides=1, activation='relu'))\n",
        "CNN_model.add(Conv1D(filters=128, kernel_size=3, strides=1, activation='relu'))\n",
        "CNN_model.add(MaxPooling1D(pool_size=2 ,strides=2))\n",
        "CNN_model.add(Dropout(0.5))\n",
        "CNN_model.add(Conv1D(filters=128, kernel_size=1, strides=1, activation='relu'))\n",
        "CNN_model.add(Flatten())\n",
        "CNN_model.add(Dense(n_outputs, activation='relu'))\n",
        "CNN_model.summary()\n",
        "'''\n",
        "CNN_model.compile(loss='categorical_crossentropy', optimizer='adam', metrics=['accuracy'])\n",
        "CNN_model.fit(X_training, y_training, epochs=10, verbose=True, validation_data=(X_validation, y_validation), batch_size=128)\n",
        "loss, accuracy = CNN_model.evaluate(X_validation, y_validation, verbose=False)\n",
        "print(\"Validation Accuracy:  {:.4f}\".format(accuracy))\n",
        "loss, accuracy = CNN_model.evaluate(X_test, y_test, verbose=False)\n",
        "print(\"Testing Accuracy: {:.4f}\".format(accuracy))\n",
        "#CNN_model.layers[0].set_weights(LSTM_model.layers[4].get_weights())\n",
        "\n",
        "'''\n",
        "inputs = Input(shape=(n_timesteps,n_features))\n",
        "mergedInput= concatenate([CNN_model(inputs),LSTM_model(inputs)])\n",
        "out = Dense(n_outputs, activation='softmax')(mergedInput)\n",
        "model3 = Model(inputs,out)\n",
        "model3.compile(loss='categorical_crossentropy', optimizer='adam', metrics=['accuracy'])\n",
        "#model3.layers[0].set_weights(LSTM_model.layers[4].get_weights())\n",
        "model3.summary()\n",
        "\n"
      ],
      "metadata": {
        "colab": {
          "base_uri": "https://localhost:8080/"
        },
        "id": "eNE6zoY-Fbmk",
        "outputId": "ad469bb5-ca89-4551-e767-a11a8e56dc64"
      },
      "execution_count": 73,
      "outputs": [
        {
          "output_type": "stream",
          "name": "stdout",
          "text": [
            "Model: \"sequential_22\"\n",
            "_________________________________________________________________\n",
            " Layer (type)                Output Shape              Param #   \n",
            "=================================================================\n",
            " conv1d_52 (Conv1D)          (None, 60, 32)            1760      \n",
            "                                                                 \n",
            " max_pooling1d_26 (MaxPoolin  (None, 30, 32)           0         \n",
            " g1D)                                                            \n",
            "                                                                 \n",
            " dropout_34 (Dropout)        (None, 30, 32)            0         \n",
            "                                                                 \n",
            " conv1d_53 (Conv1D)          (None, 28, 64)            6208      \n",
            "                                                                 \n",
            " conv1d_54 (Conv1D)          (None, 26, 128)           24704     \n",
            "                                                                 \n",
            " max_pooling1d_27 (MaxPoolin  (None, 13, 128)          0         \n",
            " g1D)                                                            \n",
            "                                                                 \n",
            " dropout_35 (Dropout)        (None, 13, 128)           0         \n",
            "                                                                 \n",
            " conv1d_55 (Conv1D)          (None, 13, 128)           16512     \n",
            "                                                                 \n",
            " flatten_14 (Flatten)        (None, 1664)              0         \n",
            "                                                                 \n",
            " dense_45 (Dense)            (None, 118)               196470    \n",
            "                                                                 \n",
            "=================================================================\n",
            "Total params: 245,654\n",
            "Trainable params: 245,654\n",
            "Non-trainable params: 0\n",
            "_________________________________________________________________\n",
            "Model: \"model_13\"\n",
            "__________________________________________________________________________________________________\n",
            " Layer (type)                   Output Shape         Param #     Connected to                     \n",
            "==================================================================================================\n",
            " input_14 (InputLayer)          [(None, 128, 6)]     0           []                               \n",
            "                                                                                                  \n",
            " sequential_22 (Sequential)     (None, 118)          245654      ['input_14[0][0]']               \n",
            "                                                                                                  \n",
            " sequential_20 (Sequential)     (None, 118)          1898486     ['input_14[0][0]']               \n",
            "                                                                                                  \n",
            " concatenate_13 (Concatenate)   (None, 236)          0           ['sequential_22[0][0]',          \n",
            "                                                                  'sequential_20[1][0]']          \n",
            "                                                                                                  \n",
            " dense_46 (Dense)               (None, 118)          27966       ['concatenate_13[0][0]']         \n",
            "                                                                                                  \n",
            "==================================================================================================\n",
            "Total params: 2,172,106\n",
            "Trainable params: 273,620\n",
            "Non-trainable params: 1,898,486\n",
            "__________________________________________________________________________________________________\n"
          ]
        }
      ]
    },
    {
      "cell_type": "code",
      "source": [
        "history = model3.fit(X_training, y_training, epochs=50, verbose=True, validation_data=(X_validation, y_validation), batch_size=128)"
      ],
      "metadata": {
        "colab": {
          "base_uri": "https://localhost:8080/"
        },
        "id": "HNJeGV109Ius",
        "outputId": "6db0fb50-66fb-41b7-d620-87228cc26d2c"
      },
      "execution_count": 74,
      "outputs": [
        {
          "output_type": "stream",
          "name": "stdout",
          "text": [
            "Epoch 1/50\n",
            "207/207 [==============================] - 53s 239ms/step - loss: 2.4759 - accuracy: 0.4024 - val_loss: 0.8854 - val_accuracy: 0.7821\n",
            "Epoch 2/50\n",
            "207/207 [==============================] - 17s 82ms/step - loss: 0.7910 - accuracy: 0.7973 - val_loss: 0.4636 - val_accuracy: 0.8916\n",
            "Epoch 3/50\n",
            "207/207 [==============================] - 17s 82ms/step - loss: 0.5298 - accuracy: 0.8666 - val_loss: 0.3864 - val_accuracy: 0.8990\n",
            "Epoch 4/50\n",
            "207/207 [==============================] - 17s 82ms/step - loss: 0.4183 - accuracy: 0.8902 - val_loss: 0.3123 - val_accuracy: 0.9213\n",
            "Epoch 5/50\n",
            "207/207 [==============================] - 17s 81ms/step - loss: 0.3390 - accuracy: 0.9102 - val_loss: 0.2565 - val_accuracy: 0.9363\n",
            "Epoch 6/50\n",
            "207/207 [==============================] - 17s 81ms/step - loss: 0.2936 - accuracy: 0.9223 - val_loss: 0.2466 - val_accuracy: 0.9385\n",
            "Epoch 7/50\n",
            "207/207 [==============================] - 17s 82ms/step - loss: 0.2584 - accuracy: 0.9315 - val_loss: 0.2270 - val_accuracy: 0.9428\n",
            "Epoch 8/50\n",
            "207/207 [==============================] - 17s 82ms/step - loss: 0.2285 - accuracy: 0.9374 - val_loss: 0.2056 - val_accuracy: 0.9476\n",
            "Epoch 9/50\n",
            "207/207 [==============================] - 17s 81ms/step - loss: 0.2044 - accuracy: 0.9448 - val_loss: 0.1941 - val_accuracy: 0.9505\n",
            "Epoch 10/50\n",
            "207/207 [==============================] - 17s 81ms/step - loss: 0.1839 - accuracy: 0.9492 - val_loss: 0.1807 - val_accuracy: 0.9573\n",
            "Epoch 11/50\n",
            "207/207 [==============================] - 17s 82ms/step - loss: 0.1658 - accuracy: 0.9552 - val_loss: 0.1724 - val_accuracy: 0.9598\n",
            "Epoch 12/50\n",
            "207/207 [==============================] - 17s 82ms/step - loss: 0.1534 - accuracy: 0.9588 - val_loss: 0.1671 - val_accuracy: 0.9598\n",
            "Epoch 13/50\n",
            "207/207 [==============================] - 17s 81ms/step - loss: 0.1344 - accuracy: 0.9635 - val_loss: 0.1517 - val_accuracy: 0.9638\n",
            "Epoch 14/50\n",
            "207/207 [==============================] - 17s 82ms/step - loss: 0.1271 - accuracy: 0.9649 - val_loss: 0.1547 - val_accuracy: 0.9613\n",
            "Epoch 15/50\n",
            "207/207 [==============================] - 17s 82ms/step - loss: 0.1178 - accuracy: 0.9683 - val_loss: 0.1419 - val_accuracy: 0.9654\n",
            "Epoch 16/50\n",
            "207/207 [==============================] - 17s 82ms/step - loss: 0.1100 - accuracy: 0.9692 - val_loss: 0.1469 - val_accuracy: 0.9650\n",
            "Epoch 17/50\n",
            "207/207 [==============================] - 17s 81ms/step - loss: 0.1033 - accuracy: 0.9722 - val_loss: 0.1367 - val_accuracy: 0.9669\n",
            "Epoch 18/50\n",
            "207/207 [==============================] - 17s 81ms/step - loss: 0.0959 - accuracy: 0.9736 - val_loss: 0.1386 - val_accuracy: 0.9659\n",
            "Epoch 19/50\n",
            "207/207 [==============================] - 17s 82ms/step - loss: 0.0886 - accuracy: 0.9756 - val_loss: 0.1305 - val_accuracy: 0.9675\n",
            "Epoch 20/50\n",
            "207/207 [==============================] - 17s 82ms/step - loss: 0.0836 - accuracy: 0.9766 - val_loss: 0.1284 - val_accuracy: 0.9699\n",
            "Epoch 21/50\n",
            "207/207 [==============================] - 17s 82ms/step - loss: 0.0783 - accuracy: 0.9786 - val_loss: 0.1328 - val_accuracy: 0.9677\n",
            "Epoch 22/50\n",
            "207/207 [==============================] - 17s 82ms/step - loss: 0.0758 - accuracy: 0.9796 - val_loss: 0.1257 - val_accuracy: 0.9692\n",
            "Epoch 23/50\n",
            "207/207 [==============================] - 17s 81ms/step - loss: 0.0679 - accuracy: 0.9824 - val_loss: 0.1256 - val_accuracy: 0.9695\n",
            "Epoch 24/50\n",
            "207/207 [==============================] - 17s 81ms/step - loss: 0.0671 - accuracy: 0.9812 - val_loss: 0.1278 - val_accuracy: 0.9698\n",
            "Epoch 25/50\n",
            "207/207 [==============================] - 17s 81ms/step - loss: 0.0616 - accuracy: 0.9830 - val_loss: 0.1286 - val_accuracy: 0.9689\n",
            "Epoch 26/50\n",
            "207/207 [==============================] - 17s 81ms/step - loss: 0.0616 - accuracy: 0.9827 - val_loss: 0.1252 - val_accuracy: 0.9695\n",
            "Epoch 27/50\n",
            "207/207 [==============================] - 17s 81ms/step - loss: 0.0585 - accuracy: 0.9833 - val_loss: 0.1174 - val_accuracy: 0.9716\n",
            "Epoch 28/50\n",
            "207/207 [==============================] - 17s 82ms/step - loss: 0.0559 - accuracy: 0.9849 - val_loss: 0.1287 - val_accuracy: 0.9687\n",
            "Epoch 29/50\n",
            "207/207 [==============================] - 17s 82ms/step - loss: 0.0515 - accuracy: 0.9857 - val_loss: 0.1218 - val_accuracy: 0.9722\n",
            "Epoch 30/50\n",
            "207/207 [==============================] - 17s 82ms/step - loss: 0.0490 - accuracy: 0.9866 - val_loss: 0.1261 - val_accuracy: 0.9709\n",
            "Epoch 31/50\n",
            "207/207 [==============================] - 17s 82ms/step - loss: 0.0487 - accuracy: 0.9866 - val_loss: 0.1199 - val_accuracy: 0.9715\n",
            "Epoch 32/50\n",
            "207/207 [==============================] - 17s 82ms/step - loss: 0.0498 - accuracy: 0.9871 - val_loss: 0.1192 - val_accuracy: 0.9725\n",
            "Epoch 33/50\n",
            "207/207 [==============================] - 17s 82ms/step - loss: 0.0432 - accuracy: 0.9883 - val_loss: 0.1220 - val_accuracy: 0.9710\n",
            "Epoch 34/50\n",
            "207/207 [==============================] - 17s 82ms/step - loss: 0.0441 - accuracy: 0.9886 - val_loss: 0.1180 - val_accuracy: 0.9721\n",
            "Epoch 35/50\n",
            "207/207 [==============================] - 17s 82ms/step - loss: 0.0428 - accuracy: 0.9888 - val_loss: 0.1123 - val_accuracy: 0.9743\n",
            "Epoch 36/50\n",
            "207/207 [==============================] - 17s 82ms/step - loss: 0.0414 - accuracy: 0.9886 - val_loss: 0.1204 - val_accuracy: 0.9731\n",
            "Epoch 37/50\n",
            "207/207 [==============================] - 17s 82ms/step - loss: 0.0373 - accuracy: 0.9905 - val_loss: 0.1180 - val_accuracy: 0.9724\n",
            "Epoch 38/50\n",
            "207/207 [==============================] - 17s 82ms/step - loss: 0.0392 - accuracy: 0.9886 - val_loss: 0.1203 - val_accuracy: 0.9730\n",
            "Epoch 39/50\n",
            "207/207 [==============================] - 17s 81ms/step - loss: 0.0368 - accuracy: 0.9900 - val_loss: 0.1137 - val_accuracy: 0.9749\n",
            "Epoch 40/50\n",
            "207/207 [==============================] - 17s 81ms/step - loss: 0.0367 - accuracy: 0.9903 - val_loss: 0.1180 - val_accuracy: 0.9718\n",
            "Epoch 41/50\n",
            "207/207 [==============================] - 17s 81ms/step - loss: 0.0337 - accuracy: 0.9909 - val_loss: 0.1141 - val_accuracy: 0.9730\n",
            "Epoch 42/50\n",
            "207/207 [==============================] - 17s 82ms/step - loss: 0.0312 - accuracy: 0.9915 - val_loss: 0.1181 - val_accuracy: 0.9736\n",
            "Epoch 43/50\n",
            "207/207 [==============================] - 17s 81ms/step - loss: 0.0339 - accuracy: 0.9911 - val_loss: 0.1250 - val_accuracy: 0.9705\n",
            "Epoch 44/50\n",
            "207/207 [==============================] - 17s 82ms/step - loss: 0.0325 - accuracy: 0.9912 - val_loss: 0.1226 - val_accuracy: 0.9713\n",
            "Epoch 45/50\n",
            "207/207 [==============================] - 17s 81ms/step - loss: 0.0295 - accuracy: 0.9928 - val_loss: 0.1190 - val_accuracy: 0.9737\n",
            "Epoch 46/50\n",
            "207/207 [==============================] - 17s 82ms/step - loss: 0.0294 - accuracy: 0.9922 - val_loss: 0.1326 - val_accuracy: 0.9702\n",
            "Epoch 47/50\n",
            "207/207 [==============================] - 17s 82ms/step - loss: 0.0308 - accuracy: 0.9921 - val_loss: 0.1160 - val_accuracy: 0.9743\n",
            "Epoch 48/50\n",
            "207/207 [==============================] - 17s 82ms/step - loss: 0.0274 - accuracy: 0.9928 - val_loss: 0.1182 - val_accuracy: 0.9743\n",
            "Epoch 49/50\n",
            "207/207 [==============================] - 17s 82ms/step - loss: 0.0306 - accuracy: 0.9921 - val_loss: 0.1251 - val_accuracy: 0.9731\n",
            "Epoch 50/50\n",
            "207/207 [==============================] - 17s 82ms/step - loss: 0.0266 - accuracy: 0.9935 - val_loss: 0.1153 - val_accuracy: 0.9748\n"
          ]
        }
      ]
    },
    {
      "cell_type": "code",
      "source": [
        "loss, accuracy = model3.evaluate(X_validation, y_validation, verbose=False)\n",
        "print(\"Validation Accuracy:  {:.4f}\".format(accuracy))\n",
        "loss, accuracy = model3.evaluate(X_test, y_test, verbose=False)\n",
        "print(\"Testing Accuracy: {:.4f}\".format(accuracy))"
      ],
      "metadata": {
        "colab": {
          "base_uri": "https://localhost:8080/"
        },
        "id": "espFQdMK9DnJ",
        "outputId": "5a035575-3f8d-47f4-f721-ce03f8f815cf"
      },
      "execution_count": 75,
      "outputs": [
        {
          "output_type": "stream",
          "name": "stdout",
          "text": [
            "Validation Accuracy:  0.9748\n",
            "Testing Accuracy: 0.9155\n"
          ]
        }
      ]
    }
  ]
}