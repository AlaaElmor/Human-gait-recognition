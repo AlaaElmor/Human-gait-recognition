{
 "cells": [
  {
   "cell_type": "code",
   "execution_count": 1,
   "id": "4be95cfa",
   "metadata": {},
   "outputs": [],
   "source": [
    "from numpy import mean\n",
    "from numpy import std\n",
    "from numpy import dstack\n",
    "from numpy import save, load\n",
    "from pandas import read_csv\n",
    "from sklearn.preprocessing import StandardScaler\n",
    "from tensorflow.keras.models import Sequential\n",
    "from tensorflow.keras.layers import Dense , Input ,concatenate\n",
    "from tensorflow.keras.layers import Flatten\n",
    "from tensorflow.keras.layers import Dropout\n",
    "from tensorflow.keras import Model\n",
    "from tensorflow.keras.callbacks import EarlyStopping, ModelCheckpoint, ReduceLROnPlateau\n",
    "from tensorflow.keras.layers import LSTM, Conv1D, concatenate,GlobalMaxPooling1D,TimeDistributed, MaxPooling1D\n",
    "from tensorflow.keras.utils import to_categorical\n",
    "from tensorflow.keras.layers import concatenate\n",
    "from tensorflow.keras import regularizers\n",
    "import tensorflow as tf"
   ]
  },
  {
   "cell_type": "code",
   "execution_count": 2,
   "id": "4f0c1808",
   "metadata": {},
   "outputs": [
    {
     "name": "stdout",
     "output_type": "stream",
     "text": [
      "(33104, 128, 6) (33104, 118) (3740, 128, 6) (3740, 118)\n"
     ]
    }
   ],
   "source": [
    "X_train = load('trainX1.npy')\n",
    "X_test = load('testX1.npy')\n",
    "y_train = load('trainY1.npy')\n",
    "y_test = load('testY1.npy')\n",
    "print(X_train.shape, y_train.shape, X_test.shape, y_test.shape)"
   ]
  },
  {
   "cell_type": "code",
   "execution_count": 3,
   "id": "25bdc720",
   "metadata": {},
   "outputs": [],
   "source": [
    "from sklearn.model_selection import train_test_split\n",
    "X_training, X_validation, y_training, y_validation = train_test_split(X_train, y_train, test_size=0.20, random_state=42)"
   ]
  },
  {
   "cell_type": "code",
   "execution_count": 4,
   "id": "b2de2bde",
   "metadata": {},
   "outputs": [
    {
     "data": {
      "text/plain": [
       "128"
      ]
     },
     "execution_count": 4,
     "metadata": {},
     "output_type": "execute_result"
    }
   ],
   "source": [
    "n_timesteps, n_features, n_outputs = X_train.shape[1], X_train.shape[2], y_train.shape[1]\n",
    "n_timesteps"
   ]
  },
  {
   "cell_type": "code",
   "execution_count": 102,
   "id": "68610a49",
   "metadata": {},
   "outputs": [],
   "source": [
    "model1= Sequential()\n",
    "model1.add(LSTM(512,input_shape=(n_timesteps,n_features)))\n",
    "#model1.add(LSTM(256))\n",
    "#model1.add(Dense(340 ,activation='relu'))\n",
    "#model1.add(Dropout(0.1))\n",
    "#model1.add(Dense(100, activation='relu'))\n",
    "model1.add(Dense(n_outputs, activation='softmax'))\n",
    "model1.compile(loss='categorical_crossentropy', optimizer='adam', metrics=['accuracy'])\n"
   ]
  },
  {
   "cell_type": "code",
   "execution_count": 103,
   "id": "4d003cdc",
   "metadata": {},
   "outputs": [],
   "source": [
    "model2= Sequential()\n",
    "model2.add(Conv1D(filters=32, kernel_size=9, activation='relu',input_shape=(n_timesteps,n_features)))\n",
    "model2.add(Conv1D(filters=64, kernel_size=3, activation='relu'))\n",
    "model2.add(Conv1D(filters=128, kernel_size=3, activation='relu'))\n",
    "model2.add(Conv1D(filters=128, kernel_size=6, activation='relu'))\n",
    "model2.add(Dropout(0.5))\n",
    "#model2.add(MaxPooling1D(pool_size=2))\n",
    "model2.add(Flatten())\n",
    "#model2.add(Dense(100, activation='relu'))\n",
    "model2.add(Dense(n_outputs, activation='softmax'))\n",
    "model2.compile(loss='categorical_crossentropy', optimizer='adam', metrics=['accuracy'])"
   ]
  },
  {
   "cell_type": "code",
   "execution_count": 104,
   "id": "8d292fdd",
   "metadata": {},
   "outputs": [],
   "source": [
    "input_shape=(n_timesteps,n_features)\n",
    "commonInput = Input(shape=input_shape)"
   ]
  },
  {
   "cell_type": "code",
   "execution_count": 105,
   "id": "273afd11",
   "metadata": {},
   "outputs": [
    {
     "data": {
      "text/plain": [
       "TensorShape([None, 236])"
      ]
     },
     "execution_count": 105,
     "metadata": {},
     "output_type": "execute_result"
    }
   ],
   "source": [
    "mergedInput= concatenate([model1(commonInput),model2(commonInput)])\n",
    "mergedInput.shape"
   ]
  },
  {
   "cell_type": "code",
   "execution_count": 106,
   "id": "1d737217",
   "metadata": {},
   "outputs": [],
   "source": [
    "out = Dense(n_outputs, activation='softmax')(mergedInput)\n",
    "new_model = Model(commonInput,out)"
   ]
  },
  {
   "cell_type": "code",
   "execution_count": 107,
   "id": "fcd04f95",
   "metadata": {},
   "outputs": [],
   "source": [
    "new_model.compile(loss='categorical_crossentropy', optimizer='adam', metrics=['accuracy'])"
   ]
  },
  {
   "cell_type": "code",
   "execution_count": 108,
   "id": "c23433b5",
   "metadata": {},
   "outputs": [],
   "source": [
    "validation_data=(X_validation, y_validation)"
   ]
  },
  {
   "cell_type": "code",
   "execution_count": null,
   "id": "e3259caf",
   "metadata": {},
   "outputs": [
    {
     "name": "stdout",
     "output_type": "stream",
     "text": [
      "Epoch 1/10\n",
      "265/265 [==============================] - 39s 143ms/step - loss: 0.8390 - accuracy: 0.8219 - val_loss: 0.2889 - val_accuracy: 0.9354\n",
      "Epoch 2/10\n",
      "265/265 [==============================] - 38s 144ms/step - loss: 0.1753 - accuracy: 0.9558 - val_loss: 0.2155 - val_accuracy: 0.9486\n",
      "Epoch 3/10\n",
      "265/265 [==============================] - 38s 143ms/step - loss: 0.0911 - accuracy: 0.9737 - val_loss: 0.1931 - val_accuracy: 0.9550\n",
      "Epoch 4/10\n",
      "265/265 [==============================] - 38s 142ms/step - loss: 0.0589 - accuracy: 0.9820 - val_loss: 0.2259 - val_accuracy: 0.9520\n",
      "Epoch 5/10\n",
      "265/265 [==============================] - 38s 143ms/step - loss: 0.0453 - accuracy: 0.9857 - val_loss: 0.2002 - val_accuracy: 0.9588\n",
      "Epoch 6/10\n",
      "265/265 [==============================] - 38s 143ms/step - loss: 0.0384 - accuracy: 0.9886 - val_loss: 0.2157 - val_accuracy: 0.9579\n",
      "Epoch 7/10\n",
      "265/265 [==============================] - 38s 144ms/step - loss: 0.0294 - accuracy: 0.9901 - val_loss: 0.2144 - val_accuracy: 0.9610\n",
      "Epoch 8/10\n",
      "265/265 [==============================] - 38s 143ms/step - loss: 0.0318 - accuracy: 0.9914 - val_loss: 0.2180 - val_accuracy: 0.9607\n",
      "Epoch 9/10\n",
      "265/265 [==============================] - 38s 145ms/step - loss: 0.0243 - accuracy: 0.9924 - val_loss: 0.2232 - val_accuracy: 0.9619\n",
      "Epoch 10/10\n",
      " 75/265 [=======>......................] - ETA: 26s - loss: 0.0218 - accuracy: 0.9931"
     ]
    }
   ],
   "source": [
    "history = model2.fit(X_training, y_training, epochs=10, verbose=True, validation_data=(X_validation, y_validation), batch_size=100)"
   ]
  },
  {
   "cell_type": "code",
   "execution_count": 101,
   "id": "42211fd9",
   "metadata": {},
   "outputs": [
    {
     "name": "stdout",
     "output_type": "stream",
     "text": [
      "Validation Accuracy:  0.9557\n",
      "Testing Accuracy: 0.8941\n"
     ]
    }
   ],
   "source": [
    "loss, accuracy = model2.evaluate(X_validation, y_validation, verbose=False)\n",
    "print(\"Validation Accuracy:  {:.4f}\".format(accuracy))\n",
    "loss, accuracy = model2.evaluate(X_test, y_test, verbose=False)\n",
    "print(\"Testing Accuracy: {:.4f}\".format(accuracy))"
   ]
  },
  {
   "cell_type": "code",
   "execution_count": null,
   "id": "ec3b5828",
   "metadata": {},
   "outputs": [],
   "source": []
  }
 ],
 "metadata": {
  "kernelspec": {
   "display_name": "Python 3 (ipykernel)",
   "language": "python",
   "name": "python3"
  },
  "language_info": {
   "codemirror_mode": {
    "name": "ipython",
    "version": 3
   },
   "file_extension": ".py",
   "mimetype": "text/x-python",
   "name": "python",
   "nbconvert_exporter": "python",
   "pygments_lexer": "ipython3",
   "version": "3.9.7"
  }
 },
 "nbformat": 4,
 "nbformat_minor": 5
}
