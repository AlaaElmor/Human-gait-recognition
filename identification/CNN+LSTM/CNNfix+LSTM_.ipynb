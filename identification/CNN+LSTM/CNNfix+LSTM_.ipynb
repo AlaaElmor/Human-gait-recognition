{
 "cells": [
  {
   "cell_type": "code",
   "execution_count": 1,
   "id": "ddab543e",
   "metadata": {},
   "outputs": [],
   "source": [
    "from numpy import mean\n",
    "from numpy import std\n",
    "from numpy import dstack\n",
    "from numpy import save, load\n",
    "from pandas import read_csv\n",
    "from tensorflow import keras\n",
    "from sklearn.preprocessing import StandardScaler\n",
    "from tensorflow.keras.models import Sequential\n",
    "from tensorflow.keras.layers import Dense , Input ,concatenate\n",
    "from tensorflow.keras.layers import Flatten\n",
    "from tensorflow.keras.layers import Dropout\n",
    "from tensorflow.keras import Model\n",
    "from tensorflow.keras.callbacks import EarlyStopping, ModelCheckpoint, ReduceLROnPlateau\n",
    "from tensorflow.keras.layers import LSTM, Conv1D, concatenate,GlobalMaxPooling1D,TimeDistributed, MaxPooling1D\n",
    "from tensorflow.keras.utils import to_categorical\n",
    "from tensorflow.keras.layers import concatenate\n",
    "from tensorflow.keras import regularizers"
   ]
  },
  {
   "cell_type": "code",
   "execution_count": 2,
   "id": "45ab6e3b",
   "metadata": {},
   "outputs": [
    {
     "name": "stdout",
     "output_type": "stream",
     "text": [
      "(33104, 128, 6) (33104, 118) (3740, 128, 6) (3740, 118)\n"
     ]
    }
   ],
   "source": [
    "X_train = load('trainX1.npy')\n",
    "X_test = load('testX1.npy')\n",
    "y_train = load('trainY1.npy')\n",
    "y_test = load('testY1.npy')\n",
    "print(X_train.shape, y_train.shape, X_test.shape, y_test.shape)"
   ]
  },
  {
   "cell_type": "code",
   "execution_count": 3,
   "id": "bc08b4ec",
   "metadata": {},
   "outputs": [],
   "source": [
    "from sklearn.model_selection import train_test_split\n",
    "X_training, X_validation, y_training, y_validation = train_test_split(X_train, y_train, test_size=0.20, random_state=42)\n",
    "n_timesteps, n_features, n_outputs = X_train.shape[1], X_train.shape[2], y_train.shape[1]\n",
    "validation_data=(X_validation, y_validation)"
   ]
  },
  {
   "cell_type": "code",
   "execution_count": 4,
   "id": "97661345",
   "metadata": {},
   "outputs": [
    {
     "name": "stdout",
     "output_type": "stream",
     "text": [
      "Model: \"sequential\"\n",
      "_________________________________________________________________\n",
      "Layer (type)                 Output Shape              Param #   \n",
      "=================================================================\n",
      "conv1d (Conv1D)              (None, 60, 32)            1760      \n",
      "_________________________________________________________________\n",
      "max_pooling1d (MaxPooling1D) (None, 30, 32)            0         \n",
      "_________________________________________________________________\n",
      "dropout (Dropout)            (None, 30, 32)            0         \n",
      "_________________________________________________________________\n",
      "conv1d_1 (Conv1D)            (None, 28, 64)            6208      \n",
      "_________________________________________________________________\n",
      "conv1d_2 (Conv1D)            (None, 26, 128)           24704     \n",
      "_________________________________________________________________\n",
      "max_pooling1d_1 (MaxPooling1 (None, 13, 128)           0         \n",
      "_________________________________________________________________\n",
      "dropout_1 (Dropout)          (None, 13, 128)           0         \n",
      "_________________________________________________________________\n",
      "conv1d_3 (Conv1D)            (None, 13, 128)           16512     \n",
      "_________________________________________________________________\n",
      "flatten (Flatten)            (None, 1664)              0         \n",
      "_________________________________________________________________\n",
      "dense (Dense)                (None, 118)               196470    \n",
      "=================================================================\n",
      "Total params: 245,654\n",
      "Trainable params: 245,654\n",
      "Non-trainable params: 0\n",
      "_________________________________________________________________\n",
      "Epoch 1/20\n",
      "207/207 [==============================] - 19s 72ms/step - loss: 2.1727 - accuracy: 0.5025 - val_loss: 0.6551 - val_accuracy: 0.8524\n",
      "Epoch 2/20\n",
      "207/207 [==============================] - 13s 64ms/step - loss: 0.7320 - accuracy: 0.8271 - val_loss: 0.4389 - val_accuracy: 0.9000\n",
      "Epoch 3/20\n",
      "207/207 [==============================] - 12s 60ms/step - loss: 0.5423 - accuracy: 0.8659 - val_loss: 0.3823 - val_accuracy: 0.9113\n",
      "Epoch 4/20\n",
      "207/207 [==============================] - 13s 62ms/step - loss: 0.4384 - accuracy: 0.8912 - val_loss: 0.3287 - val_accuracy: 0.9216\n",
      "Epoch 5/20\n",
      "207/207 [==============================] - 14s 66ms/step - loss: 0.3758 - accuracy: 0.9048 - val_loss: 0.3013 - val_accuracy: 0.9278\n",
      "Epoch 6/20\n",
      "207/207 [==============================] - 15s 71ms/step - loss: 0.3331 - accuracy: 0.9134 - val_loss: 0.2557 - val_accuracy: 0.9364\n",
      "Epoch 7/20\n",
      "207/207 [==============================] - 13s 63ms/step - loss: 0.2999 - accuracy: 0.9189 - val_loss: 0.2443 - val_accuracy: 0.9400\n",
      "Epoch 8/20\n",
      "207/207 [==============================] - 13s 65ms/step - loss: 0.2625 - accuracy: 0.9275 - val_loss: 0.2189 - val_accuracy: 0.9467\n",
      "Epoch 9/20\n",
      "207/207 [==============================] - 12s 56ms/step - loss: 0.2367 - accuracy: 0.9345 - val_loss: 0.2153 - val_accuracy: 0.9470\n",
      "Epoch 10/20\n",
      "207/207 [==============================] - 11s 55ms/step - loss: 0.2205 - accuracy: 0.9398 - val_loss: 0.1953 - val_accuracy: 0.9520\n",
      "Epoch 11/20\n",
      "207/207 [==============================] - 12s 56ms/step - loss: 0.2050 - accuracy: 0.9422 - val_loss: 0.1920 - val_accuracy: 0.9532\n",
      "Epoch 12/20\n",
      "207/207 [==============================] - 11s 55ms/step - loss: 0.1879 - accuracy: 0.9446 - val_loss: 0.1883 - val_accuracy: 0.9547\n",
      "Epoch 13/20\n",
      "207/207 [==============================] - 11s 53ms/step - loss: 0.1746 - accuracy: 0.9483 - val_loss: 0.1881 - val_accuracy: 0.9579\n",
      "Epoch 14/20\n",
      "207/207 [==============================] - 12s 57ms/step - loss: 0.1659 - accuracy: 0.9505 - val_loss: 0.1788 - val_accuracy: 0.9586\n",
      "Epoch 15/20\n",
      "207/207 [==============================] - 13s 61ms/step - loss: 0.1467 - accuracy: 0.9558 - val_loss: 0.1738 - val_accuracy: 0.9619\n",
      "Epoch 16/20\n",
      "207/207 [==============================] - 13s 63ms/step - loss: 0.1436 - accuracy: 0.9560 - val_loss: 0.1764 - val_accuracy: 0.9580\n",
      "Epoch 17/20\n",
      "207/207 [==============================] - 13s 61ms/step - loss: 0.1318 - accuracy: 0.9593 - val_loss: 0.1621 - val_accuracy: 0.9607\n",
      "Epoch 18/20\n",
      "207/207 [==============================] - 15s 74ms/step - loss: 0.1246 - accuracy: 0.9609 - val_loss: 0.1676 - val_accuracy: 0.9627\n",
      "Epoch 19/20\n",
      "207/207 [==============================] - 15s 72ms/step - loss: 0.1198 - accuracy: 0.9633 - val_loss: 0.1704 - val_accuracy: 0.9627\n",
      "Epoch 20/20\n",
      "207/207 [==============================] - 14s 68ms/step - loss: 0.1124 - accuracy: 0.9651 - val_loss: 0.1632 - val_accuracy: 0.9633\n"
     ]
    },
    {
     "data": {
      "text/plain": [
       "<tensorflow.python.keras.callbacks.History at 0x232943dff10>"
      ]
     },
     "execution_count": 4,
     "metadata": {},
     "output_type": "execute_result"
    }
   ],
   "source": [
    "CNN_model= Sequential()\n",
    "CNN_model.add(Conv1D(filters=32, kernel_size=9, strides=2, activation='relu', input_shape=(n_timesteps,n_features)))\n",
    "CNN_model.add(MaxPooling1D(pool_size=2 ,strides=2))\n",
    "CNN_model.add(Dropout(0.5))\n",
    "CNN_model.add(Conv1D(filters=64, kernel_size=3, strides=1, activation='relu'))\n",
    "CNN_model.add(Conv1D(filters=128, kernel_size=3, strides=1, activation='relu'))\n",
    "CNN_model.add(MaxPooling1D(pool_size=2 ,strides=2))\n",
    "CNN_model.add(Dropout(0.5))\n",
    "CNN_model.add(Conv1D(filters=128, kernel_size=1, strides=1, activation='relu'))\n",
    "CNN_model.add(Flatten())\n",
    "CNN_model.add(Dense(n_outputs, activation='softmax'))\n",
    "CNN_model.summary()\n",
    "CNN_model.compile(loss='categorical_crossentropy', optimizer='adam', metrics=['accuracy'])\n",
    "CNN_model.fit(X_training, y_training, epochs=20, verbose=True, validation_data=(X_validation, y_validation), batch_size=128)"
   ]
  },
  {
   "cell_type": "code",
   "execution_count": 5,
   "id": "2624719b",
   "metadata": {},
   "outputs": [
    {
     "name": "stdout",
     "output_type": "stream",
     "text": [
      "Validation Accuracy:  0.9633\n",
      "Testing Accuracy: 0.8981\n"
     ]
    }
   ],
   "source": [
    "loss, accuracy = CNN_model.evaluate(X_validation, y_validation, verbose=False)\n",
    "print(\"Validation Accuracy:  {:.4f}\".format(accuracy))\n",
    "loss, accuracy = CNN_model.evaluate(X_test, y_test, verbose=False)\n",
    "print(\"Testing Accuracy: {:.4f}\".format(accuracy))"
   ]
  },
  {
   "cell_type": "code",
   "execution_count": 6,
   "id": "1fc3132f",
   "metadata": {},
   "outputs": [],
   "source": [
    "CNN_model.trainable = False\n"
   ]
  },
  {
   "cell_type": "code",
   "execution_count": 7,
   "id": "bb8097b4",
   "metadata": {},
   "outputs": [
    {
     "name": "stdout",
     "output_type": "stream",
     "text": [
      "Model: \"sequential_1\"\n",
      "_________________________________________________________________\n",
      "Layer (type)                 Output Shape              Param #   \n",
      "=================================================================\n",
      "lstm (LSTM)                  (None, 128, 512)          1062912   \n",
      "_________________________________________________________________\n",
      "lstm_1 (LSTM)                (None, 256)               787456    \n",
      "_________________________________________________________________\n",
      "dropout_2 (Dropout)          (None, 256)               0         \n",
      "_________________________________________________________________\n",
      "dense_1 (Dense)              (None, 128)               32896     \n",
      "_________________________________________________________________\n",
      "dense_2 (Dense)              (None, 118)               15222     \n",
      "=================================================================\n",
      "Total params: 1,898,486\n",
      "Trainable params: 1,898,486\n",
      "Non-trainable params: 0\n",
      "_________________________________________________________________\n",
      "Model: \"model\"\n",
      "__________________________________________________________________________________________________\n",
      "Layer (type)                    Output Shape         Param #     Connected to                     \n",
      "==================================================================================================\n",
      "input_1 (InputLayer)            [(None, 128, 6)]     0                                            \n",
      "__________________________________________________________________________________________________\n",
      "sequential (Sequential)         (None, 118)          245654      input_1[0][0]                    \n",
      "__________________________________________________________________________________________________\n",
      "sequential_1 (Sequential)       (None, 118)          1898486     input_1[0][0]                    \n",
      "__________________________________________________________________________________________________\n",
      "concatenate (Concatenate)       (None, 236)          0           sequential[0][0]                 \n",
      "                                                                 sequential_1[0][0]               \n",
      "__________________________________________________________________________________________________\n",
      "dense_3 (Dense)                 (None, 118)          27966       concatenate[0][0]                \n",
      "==================================================================================================\n",
      "Total params: 2,172,106\n",
      "Trainable params: 1,926,452\n",
      "Non-trainable params: 245,654\n",
      "__________________________________________________________________________________________________\n"
     ]
    }
   ],
   "source": [
    "LSTM_model= Sequential()\n",
    "LSTM_model.add(LSTM(512,input_shape=(n_timesteps,n_features),return_sequences=True))\n",
    "LSTM_model.add(LSTM(256))\n",
    "LSTM_model.add(Dropout(0.2))\n",
    "LSTM_model.add(Dense(128, activation='relu'))\n",
    "LSTM_model.add(Dense(n_outputs, activation='relu'))\n",
    "LSTM_model.summary()\n",
    "\n",
    "inputs = Input(shape=(n_timesteps,n_features))\n",
    "mergedInput= concatenate([CNN_model(inputs),LSTM_model(inputs)])\n",
    "out = Dense(n_outputs, activation='softmax')(mergedInput)\n",
    "model3 = Model(inputs,out)\n",
    "model3.compile(loss='categorical_crossentropy', optimizer='adam', metrics=['accuracy'])\n",
    "#model3.layers[0].set_weights(LSTM_model.layers[4].get_weights())\n",
    "model3.summary()"
   ]
  },
  {
   "cell_type": "code",
   "execution_count": 9,
   "id": "46c7f13d",
   "metadata": {},
   "outputs": [
    {
     "name": "stdout",
     "output_type": "stream",
     "text": [
      "Epoch 1/30\n",
      "207/207 [==============================] - 610s 3s/step - loss: 0.4464 - accuracy: 0.8826 - val_loss: 0.3403 - val_accuracy: 0.9206\n",
      "Epoch 2/30\n",
      "207/207 [==============================] - 501s 2s/step - loss: 0.2858 - accuracy: 0.9249 - val_loss: 0.2436 - val_accuracy: 0.9415\n",
      "Epoch 3/30\n",
      "207/207 [==============================] - 501s 2s/step - loss: 0.2088 - accuracy: 0.9446 - val_loss: 0.2356 - val_accuracy: 0.9397\n",
      "Epoch 4/30\n",
      "207/207 [==============================] - 505s 2s/step - loss: 0.1783 - accuracy: 0.9517 - val_loss: 0.2075 - val_accuracy: 0.9449\n",
      "Epoch 5/30\n",
      "207/207 [==============================] - 499s 2s/step - loss: 0.1408 - accuracy: 0.9615 - val_loss: 0.1571 - val_accuracy: 0.9603\n",
      "Epoch 6/30\n",
      "207/207 [==============================] - 502s 2s/step - loss: 0.1237 - accuracy: 0.9650 - val_loss: 0.1329 - val_accuracy: 0.9651\n",
      "Epoch 7/30\n",
      "207/207 [==============================] - 500s 2s/step - loss: 0.1092 - accuracy: 0.9694 - val_loss: 0.1257 - val_accuracy: 0.9665\n",
      "Epoch 8/30\n",
      "207/207 [==============================] - 500s 2s/step - loss: 0.0982 - accuracy: 0.9719 - val_loss: 0.1305 - val_accuracy: 0.9678\n",
      "Epoch 9/30\n",
      "207/207 [==============================] - 501s 2s/step - loss: 0.0867 - accuracy: 0.9755 - val_loss: 0.1262 - val_accuracy: 0.9671\n",
      "Epoch 10/30\n",
      "207/207 [==============================] - 500s 2s/step - loss: 0.0638 - accuracy: 0.9817 - val_loss: 0.1176 - val_accuracy: 0.9710\n",
      "Epoch 11/30\n",
      "207/207 [==============================] - 499s 2s/step - loss: 0.0661 - accuracy: 0.9815 - val_loss: 0.1136 - val_accuracy: 0.9693\n",
      "Epoch 12/30\n",
      "207/207 [==============================] - 499s 2s/step - loss: 0.0622 - accuracy: 0.9821 - val_loss: 0.1151 - val_accuracy: 0.9713\n",
      "Epoch 13/30\n",
      "207/207 [==============================] - 499s 2s/step - loss: 0.0529 - accuracy: 0.9844 - val_loss: 0.1020 - val_accuracy: 0.9736\n",
      "Epoch 14/30\n",
      "207/207 [==============================] - 499s 2s/step - loss: 0.0467 - accuracy: 0.9858 - val_loss: 0.1019 - val_accuracy: 0.9758\n",
      "Epoch 15/30\n",
      "207/207 [==============================] - 500s 2s/step - loss: 0.0483 - accuracy: 0.9859 - val_loss: 0.1321 - val_accuracy: 0.9654\n",
      "Epoch 16/30\n",
      "207/207 [==============================] - 499s 2s/step - loss: 0.0582 - accuracy: 0.9830 - val_loss: 0.1166 - val_accuracy: 0.9701\n",
      "Epoch 17/30\n",
      "207/207 [==============================] - 498s 2s/step - loss: 0.0414 - accuracy: 0.9873 - val_loss: 0.1014 - val_accuracy: 0.9754\n",
      "Epoch 18/30\n",
      "207/207 [==============================] - 497s 2s/step - loss: 0.0311 - accuracy: 0.9909 - val_loss: 0.1036 - val_accuracy: 0.9761\n",
      "Epoch 19/30\n",
      "207/207 [==============================] - 498s 2s/step - loss: 0.0727 - accuracy: 0.9790 - val_loss: 0.1256 - val_accuracy: 0.9689\n",
      "Epoch 20/30\n",
      "207/207 [==============================] - 499s 2s/step - loss: 0.0408 - accuracy: 0.9886 - val_loss: 0.1115 - val_accuracy: 0.9731\n",
      "Epoch 21/30\n",
      "207/207 [==============================] - 498s 2s/step - loss: 0.0280 - accuracy: 0.9917 - val_loss: 0.0823 - val_accuracy: 0.9808\n",
      "Epoch 22/30\n",
      "207/207 [==============================] - 499s 2s/step - loss: 0.0251 - accuracy: 0.9928 - val_loss: 0.0949 - val_accuracy: 0.9798\n",
      "Epoch 23/30\n",
      "207/207 [==============================] - 520s 3s/step - loss: 0.0285 - accuracy: 0.9917 - val_loss: 0.0910 - val_accuracy: 0.9792\n",
      "Epoch 24/30\n",
      "207/207 [==============================] - 511s 2s/step - loss: 0.0242 - accuracy: 0.9925 - val_loss: 0.0948 - val_accuracy: 0.9798\n",
      "Epoch 25/30\n",
      "207/207 [==============================] - 504s 2s/step - loss: 0.0330 - accuracy: 0.9901 - val_loss: 0.0982 - val_accuracy: 0.9776\n",
      "Epoch 26/30\n",
      "207/207 [==============================] - 501s 2s/step - loss: 0.0170 - accuracy: 0.9953 - val_loss: 0.0816 - val_accuracy: 0.9817\n",
      "Epoch 27/30\n",
      "207/207 [==============================] - 503s 2s/step - loss: 0.0200 - accuracy: 0.9938 - val_loss: 0.0899 - val_accuracy: 0.9784\n",
      "Epoch 28/30\n",
      "207/207 [==============================] - 544s 3s/step - loss: 0.0255 - accuracy: 0.9921 - val_loss: 0.1094 - val_accuracy: 0.9737\n",
      "Epoch 29/30\n",
      "207/207 [==============================] - 504s 2s/step - loss: 0.0267 - accuracy: 0.9918 - val_loss: 0.1050 - val_accuracy: 0.9764\n",
      "Epoch 30/30\n",
      "207/207 [==============================] - 505s 2s/step - loss: 0.0203 - accuracy: 0.9941 - val_loss: 0.0890 - val_accuracy: 0.9778\n"
     ]
    }
   ],
   "source": [
    "history = model3.fit(X_training, y_training, epochs=30, verbose=True, validation_data=(X_validation, y_validation), batch_size=128)"
   ]
  },
  {
   "cell_type": "code",
   "execution_count": 10,
   "id": "569bd021",
   "metadata": {},
   "outputs": [
    {
     "name": "stdout",
     "output_type": "stream",
     "text": [
      "Validation Accuracy:  0.9778\n",
      "Testing Accuracy: 0.9152\n"
     ]
    }
   ],
   "source": [
    "loss, accuracy = model3.evaluate(X_validation, y_validation, verbose=False)\n",
    "print(\"Validation Accuracy:  {:.4f}\".format(accuracy))\n",
    "loss, accuracy = model3.evaluate(X_test, y_test, verbose=False)\n",
    "print(\"Testing Accuracy: {:.4f}\".format(accuracy))"
   ]
  },
  {
   "cell_type": "code",
   "execution_count": null,
   "id": "e506f6d7",
   "metadata": {},
   "outputs": [],
   "source": []
  }
 ],
 "metadata": {
  "kernelspec": {
   "display_name": "Python 3 (ipykernel)",
   "language": "python",
   "name": "python3"
  },
  "language_info": {
   "codemirror_mode": {
    "name": "ipython",
    "version": 3
   },
   "file_extension": ".py",
   "mimetype": "text/x-python",
   "name": "python",
   "nbconvert_exporter": "python",
   "pygments_lexer": "ipython3",
   "version": "3.9.7"
  }
 },
 "nbformat": 4,
 "nbformat_minor": 5
}
