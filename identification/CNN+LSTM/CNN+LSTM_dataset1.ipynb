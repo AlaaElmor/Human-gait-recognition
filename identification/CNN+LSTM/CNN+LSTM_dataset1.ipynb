{
  "nbformat": 4,
  "nbformat_minor": 0,
  "metadata": {
    "colab": {
      "name": "Untitled5.ipynb",
      "provenance": []
    },
    "kernelspec": {
      "name": "python3",
      "display_name": "Python 3"
    },
    "language_info": {
      "name": "python"
    },
    "accelerator": "GPU"
  },
  "cells": [
    {
      "cell_type": "code",
      "execution_count": 18,
      "metadata": {
        "colab": {
          "base_uri": "https://localhost:8080/"
        },
        "id": "RDZ6vXdUtrsp",
        "outputId": "ed864463-54a4-4ff0-d094-296ed3d28903"
      },
      "outputs": [
        {
          "output_type": "stream",
          "name": "stdout",
          "text": [
            "Mounted at /content/drive\n",
            "Mounted at /content/gdrive\n",
            "(33104, 128, 6) (33104, 118) (3740, 128, 6) (3740, 118)\n"
          ]
        }
      ],
      "source": [
        "from google.colab import drive\n",
        "drive.mount('/content/drive')\n",
        "\n",
        "from google.colab import drive\n",
        "\n",
        "drive.mount('/content/gdrive')\n",
        "root_path = 'gdrive/My Drive/'  #change dir to your project folder\n",
        "\n",
        "import numpy as np\n",
        "X_train = np.load('gdrive/My Drive/dataset1/acc+gyr/trainX.npy')\n",
        "y_train = np.load('gdrive/My Drive/dataset1/acc+gyr/trainy.npy')\n",
        "X_test = np.load('gdrive/My Drive/dataset1/acc+gyr/testX.npy')\n",
        "y_test = np.load('gdrive/My Drive/dataset1/acc+gyr/testy.npy')\n",
        "print(X_train.shape, y_train.shape, X_test.shape, y_test.shape)"
      ]
    },
    {
      "cell_type": "code",
      "source": [
        "from numpy import mean\n",
        "from numpy import std\n",
        "from numpy import dstack\n",
        "from numpy import save, load\n",
        "from pandas import read_csv\n",
        "from tensorflow import keras\n",
        "from sklearn.preprocessing import StandardScaler\n",
        "from tensorflow.keras.models import Sequential\n",
        "from tensorflow.keras.layers import Dense , Input ,concatenate\n",
        "from tensorflow.keras.layers import Flatten\n",
        "from tensorflow.keras.layers import Dropout\n",
        "from tensorflow.keras import Model\n",
        "from tensorflow.keras.callbacks import EarlyStopping, ModelCheckpoint, ReduceLROnPlateau\n",
        "from tensorflow.keras.layers import LSTM, Conv1D, concatenate,GlobalMaxPooling1D,TimeDistributed, MaxPooling1D\n",
        "from tensorflow.keras.utils import to_categorical\n",
        "from tensorflow.keras.layers import concatenate\n",
        "from tensorflow.keras import regularizers"
      ],
      "metadata": {
        "id": "-Qkx_EZ2uxRJ"
      },
      "execution_count": 19,
      "outputs": []
    },
    {
      "cell_type": "code",
      "source": [
        "from sklearn.model_selection import train_test_split\n",
        "X_training, X_validation, y_training, y_validation = train_test_split(X_train, y_train, test_size=0.20, random_state=42)\n",
        "n_timesteps, n_features, n_outputs = X_train.shape[1], X_train.shape[2], y_train.shape[1]\n",
        "validation_data=(X_validation, y_validation)"
      ],
      "metadata": {
        "id": "QRMig4JduxUD"
      },
      "execution_count": 20,
      "outputs": []
    },
    {
      "cell_type": "code",
      "source": [
        "CNN_model= Sequential()\n",
        "CNN_model.add(Conv1D(filters=32, kernel_size=9, strides=2, activation='relu', input_shape=(n_timesteps,n_features)))\n",
        "CNN_model.add(MaxPooling1D(pool_size=2 ,strides=2))\n",
        "CNN_model.add(Dropout(0.5))\n",
        "CNN_model.add(Conv1D(filters=64, kernel_size=3, strides=1, activation='relu'))\n",
        "CNN_model.add(Conv1D(filters=128, kernel_size=3, strides=1, activation='relu'))\n",
        "CNN_model.add(MaxPooling1D(pool_size=2 ,strides=2))\n",
        "CNN_model.add(Dropout(0.5))\n",
        "CNN_model.add(Conv1D(filters=128, kernel_size=1, strides=1, activation='relu'))\n",
        "CNN_model.add(Flatten())\n",
        "CNN_model.add(Dense(n_outputs, activation='relu'))\n",
        "CNN_model.summary()\n",
        "\n",
        "LSTM_model= Sequential()\n",
        "LSTM_model.add(LSTM(512,input_shape=(n_timesteps,n_features),return_sequences=True))\n",
        "LSTM_model.add(LSTM(256))\n",
        "LSTM_model.add(Dropout(0.2))\n",
        "LSTM_model.add(Dense(128, activation='relu'))\n",
        "LSTM_model.add(Dense(n_outputs, activation='relu'))\n",
        "LSTM_model.summary()\n",
        "\n",
        "inputs = Input(shape=(n_timesteps,n_features))\n",
        "mergedInput= concatenate([CNN_model(inputs),LSTM_model(inputs)])\n",
        "out = Dense(n_outputs, activation='softmax')(mergedInput)\n",
        "model3 = Model(inputs,out)\n",
        "model3.compile(loss='categorical_crossentropy', optimizer='adam', metrics=['accuracy'])\n",
        "#model3.layers[0].set_weights(LSTM_model.layers[4].get_weights())\n",
        "model3.summary()\n",
        "callbacks = [keras.callbacks.EarlyStopping(patience=5, restore_best_weights=True)]"
      ],
      "metadata": {
        "colab": {
          "base_uri": "https://localhost:8080/"
        },
        "id": "Yt-4cl-yuxXF",
        "outputId": "80059fcb-54b0-4029-ec8c-751641730a34"
      },
      "execution_count": 21,
      "outputs": [
        {
          "output_type": "stream",
          "name": "stdout",
          "text": [
            "Model: \"sequential_6\"\n",
            "_________________________________________________________________\n",
            " Layer (type)                Output Shape              Param #   \n",
            "=================================================================\n",
            " conv1d_12 (Conv1D)          (None, 60, 32)            1760      \n",
            "                                                                 \n",
            " max_pooling1d_6 (MaxPooling  (None, 30, 32)           0         \n",
            " 1D)                                                             \n",
            "                                                                 \n",
            " dropout_9 (Dropout)         (None, 30, 32)            0         \n",
            "                                                                 \n",
            " conv1d_13 (Conv1D)          (None, 28, 64)            6208      \n",
            "                                                                 \n",
            " conv1d_14 (Conv1D)          (None, 26, 128)           24704     \n",
            "                                                                 \n",
            " max_pooling1d_7 (MaxPooling  (None, 13, 128)          0         \n",
            " 1D)                                                             \n",
            "                                                                 \n",
            " dropout_10 (Dropout)        (None, 13, 128)           0         \n",
            "                                                                 \n",
            " conv1d_15 (Conv1D)          (None, 13, 128)           16512     \n",
            "                                                                 \n",
            " flatten_3 (Flatten)         (None, 1664)              0         \n",
            "                                                                 \n",
            " dense_12 (Dense)            (None, 118)               196470    \n",
            "                                                                 \n",
            "=================================================================\n",
            "Total params: 245,654\n",
            "Trainable params: 245,654\n",
            "Non-trainable params: 0\n",
            "_________________________________________________________________\n",
            "Model: \"sequential_7\"\n",
            "_________________________________________________________________\n",
            " Layer (type)                Output Shape              Param #   \n",
            "=================================================================\n",
            " lstm_6 (LSTM)               (None, 128, 512)          1062912   \n",
            "                                                                 \n",
            " lstm_7 (LSTM)               (None, 256)               787456    \n",
            "                                                                 \n",
            " dropout_11 (Dropout)        (None, 256)               0         \n",
            "                                                                 \n",
            " dense_13 (Dense)            (None, 128)               32896     \n",
            "                                                                 \n",
            " dense_14 (Dense)            (None, 118)               15222     \n",
            "                                                                 \n",
            "=================================================================\n",
            "Total params: 1,898,486\n",
            "Trainable params: 1,898,486\n",
            "Non-trainable params: 0\n",
            "_________________________________________________________________\n",
            "Model: \"model_3\"\n",
            "__________________________________________________________________________________________________\n",
            " Layer (type)                   Output Shape         Param #     Connected to                     \n",
            "==================================================================================================\n",
            " input_4 (InputLayer)           [(None, 128, 6)]     0           []                               \n",
            "                                                                                                  \n",
            " sequential_6 (Sequential)      (None, 118)          245654      ['input_4[0][0]']                \n",
            "                                                                                                  \n",
            " sequential_7 (Sequential)      (None, 118)          1898486     ['input_4[0][0]']                \n",
            "                                                                                                  \n",
            " concatenate_3 (Concatenate)    (None, 236)          0           ['sequential_6[0][0]',           \n",
            "                                                                  'sequential_7[0][0]']           \n",
            "                                                                                                  \n",
            " dense_15 (Dense)               (None, 118)          27966       ['concatenate_3[0][0]']          \n",
            "                                                                                                  \n",
            "==================================================================================================\n",
            "Total params: 2,172,106\n",
            "Trainable params: 2,172,106\n",
            "Non-trainable params: 0\n",
            "__________________________________________________________________________________________________\n"
          ]
        }
      ]
    },
    {
      "cell_type": "code",
      "source": [
        "history = model3.fit(X_training, y_training, epochs=200, verbose=True, validation_data=(X_validation, y_validation), batch_size=128,callbacks=callbacks)"
      ],
      "metadata": {
        "colab": {
          "base_uri": "https://localhost:8080/"
        },
        "id": "2cM0iBU4uxZ9",
        "outputId": "6e60c719-ce48-46aa-813b-9a3f41a5791f"
      },
      "execution_count": 22,
      "outputs": [
        {
          "output_type": "stream",
          "name": "stdout",
          "text": [
            "Epoch 1/200\n",
            "207/207 [==============================] - 20s 84ms/step - loss: 2.1099 - accuracy: 0.4709 - val_loss: 0.8163 - val_accuracy: 0.7863\n",
            "Epoch 2/200\n",
            "207/207 [==============================] - 17s 82ms/step - loss: 0.6634 - accuracy: 0.8220 - val_loss: 0.4756 - val_accuracy: 0.8716\n",
            "Epoch 3/200\n",
            "207/207 [==============================] - 17s 84ms/step - loss: 0.4641 - accuracy: 0.8729 - val_loss: 0.3470 - val_accuracy: 0.9071\n",
            "Epoch 4/200\n",
            "207/207 [==============================] - 17s 83ms/step - loss: 0.3819 - accuracy: 0.8942 - val_loss: 0.3282 - val_accuracy: 0.9094\n",
            "Epoch 5/200\n",
            "207/207 [==============================] - 17s 82ms/step - loss: 0.3088 - accuracy: 0.9131 - val_loss: 0.2657 - val_accuracy: 0.9272\n",
            "Epoch 6/200\n",
            "207/207 [==============================] - 17s 82ms/step - loss: 0.2592 - accuracy: 0.9261 - val_loss: 0.2462 - val_accuracy: 0.9358\n",
            "Epoch 7/200\n",
            "207/207 [==============================] - 17s 82ms/step - loss: 0.2386 - accuracy: 0.9314 - val_loss: 0.2410 - val_accuracy: 0.9335\n",
            "Epoch 8/200\n",
            "207/207 [==============================] - 17s 83ms/step - loss: 0.2095 - accuracy: 0.9395 - val_loss: 0.2084 - val_accuracy: 0.9429\n",
            "Epoch 9/200\n",
            "207/207 [==============================] - 17s 83ms/step - loss: 0.1903 - accuracy: 0.9421 - val_loss: 0.2126 - val_accuracy: 0.9406\n",
            "Epoch 10/200\n",
            "207/207 [==============================] - 17s 82ms/step - loss: 0.1726 - accuracy: 0.9480 - val_loss: 0.2119 - val_accuracy: 0.9414\n",
            "Epoch 11/200\n",
            "207/207 [==============================] - 17s 83ms/step - loss: 0.1541 - accuracy: 0.9516 - val_loss: 0.1747 - val_accuracy: 0.9521\n",
            "Epoch 12/200\n",
            "207/207 [==============================] - 17s 83ms/step - loss: 0.1505 - accuracy: 0.9520 - val_loss: 0.1786 - val_accuracy: 0.9533\n",
            "Epoch 13/200\n",
            "207/207 [==============================] - 17s 82ms/step - loss: 0.1243 - accuracy: 0.9609 - val_loss: 0.1753 - val_accuracy: 0.9550\n",
            "Epoch 14/200\n",
            "207/207 [==============================] - 17s 82ms/step - loss: 0.1358 - accuracy: 0.9573 - val_loss: 0.1766 - val_accuracy: 0.9547\n",
            "Epoch 15/200\n",
            "207/207 [==============================] - 17s 82ms/step - loss: 0.1334 - accuracy: 0.9580 - val_loss: 0.1665 - val_accuracy: 0.9573\n",
            "Epoch 16/200\n",
            "207/207 [==============================] - 17s 82ms/step - loss: 0.1115 - accuracy: 0.9646 - val_loss: 0.1571 - val_accuracy: 0.9591\n",
            "Epoch 17/200\n",
            "207/207 [==============================] - 17s 83ms/step - loss: 0.1026 - accuracy: 0.9662 - val_loss: 0.1652 - val_accuracy: 0.9583\n",
            "Epoch 18/200\n",
            "207/207 [==============================] - 17s 82ms/step - loss: 0.1009 - accuracy: 0.9671 - val_loss: 0.1707 - val_accuracy: 0.9576\n",
            "Epoch 19/200\n",
            "207/207 [==============================] - 17s 83ms/step - loss: 0.0850 - accuracy: 0.9730 - val_loss: 0.1675 - val_accuracy: 0.9591\n",
            "Epoch 20/200\n",
            "207/207 [==============================] - 17s 82ms/step - loss: 0.0858 - accuracy: 0.9716 - val_loss: 0.1443 - val_accuracy: 0.9657\n",
            "Epoch 21/200\n",
            "207/207 [==============================] - 17s 82ms/step - loss: 0.0711 - accuracy: 0.9766 - val_loss: 0.1721 - val_accuracy: 0.9576\n",
            "Epoch 22/200\n",
            "207/207 [==============================] - 17s 82ms/step - loss: 0.0708 - accuracy: 0.9766 - val_loss: 0.1724 - val_accuracy: 0.9603\n",
            "Epoch 23/200\n",
            "207/207 [==============================] - 17s 82ms/step - loss: 0.0869 - accuracy: 0.9723 - val_loss: 0.1730 - val_accuracy: 0.9580\n",
            "Epoch 24/200\n",
            "207/207 [==============================] - 18s 88ms/step - loss: 0.0697 - accuracy: 0.9769 - val_loss: 0.1534 - val_accuracy: 0.9618\n",
            "Epoch 25/200\n",
            "207/207 [==============================] - 17s 83ms/step - loss: 0.0627 - accuracy: 0.9797 - val_loss: 0.1639 - val_accuracy: 0.9630\n"
          ]
        }
      ]
    },
    {
      "cell_type": "code",
      "source": [
        "loss, accuracy = model3.evaluate(X_validation, y_validation, verbose=False)\n",
        "print(\"Validation Accuracy:  {:.4f}\".format(accuracy))\n",
        "loss, accuracy = model3.evaluate(X_test, y_test, verbose=False)\n",
        "print(\"Testing Accuracy: {:.4f}\".format(accuracy))"
      ],
      "metadata": {
        "colab": {
          "base_uri": "https://localhost:8080/"
        },
        "id": "BrRZlOJMuxdZ",
        "outputId": "ddaea847-9ed3-4f7b-de5a-113364261c94"
      },
      "execution_count": 23,
      "outputs": [
        {
          "output_type": "stream",
          "name": "stdout",
          "text": [
            "Validation Accuracy:  0.9657\n",
            "Testing Accuracy: 0.9037\n"
          ]
        }
      ]
    },
    {
      "cell_type": "code",
      "source": [
        "from matplotlib import pyplot as plt\n",
        "plt.plot(history.history[\"loss\"], label=\"Training Loss\")\n",
        "plt.plot(history.history[\"val_loss\"], label=\"Validation Loss\")\n",
        "plt.legend()\n",
        "plt.show()"
      ],
      "metadata": {
        "colab": {
          "base_uri": "https://localhost:8080/",
          "height": 265
        },
        "id": "JkKl9CyQvFku",
        "outputId": "56fe29dc-7b15-48e3-f642-fe9087aa817a"
      },
      "execution_count": 24,
      "outputs": [
        {
          "output_type": "display_data",
          "data": {
            "image/png": "[encoded data removed]",
            "text/plain": [
              "<Figure size 432x288 with 1 Axes>"
            ]
          },
          "metadata": {
            "needs_background": "light"
          }
        }
      ]
    }
  ]
}