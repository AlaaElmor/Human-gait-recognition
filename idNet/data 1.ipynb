{
 "cells": [
  {
   "cell_type": "code",
   "execution_count": 1,
   "id": "6f17ddcf",
   "metadata": {},
   "outputs": [],
   "source": [
    "from numpy import mean\n",
    "from numpy import std\n",
    "from numpy import dstack\n",
    "from numpy import save, load\n",
    "from pandas import read_csv\n",
    "import keras\n",
    "\n",
    "from sklearn.preprocessing import StandardScaler\n",
    "from keras.models import Sequential\n",
    "from keras.layers import Dense\n",
    "from keras.layers import Flatten\n",
    "from keras.layers import Dropout\n",
    "from keras import Model\n",
    "from keras.layers import LSTM, Conv1D, concatenate,GlobalMaxPooling1D,TimeDistributed, MaxPooling1D\n",
    "from tensorflow.keras.utils import to_categorical\n",
    "from matplotlib import pyplot\n",
    "from tensorflow.keras import regularizers\n",
    "import tensorflow as tf"
   ]
  },
  {
   "cell_type": "code",
   "execution_count": 2,
   "id": "5e74f48a",
   "metadata": {},
   "outputs": [
    {
     "name": "stdout",
     "output_type": "stream",
     "text": [
      "(33104, 128, 6) (33104, 118) (3740, 128, 6) (3740, 118)\n"
     ]
    }
   ],
   "source": [
    "X_train = load('trainX.npy')\n",
    "X_test = load('testX.npy')\n",
    "y_train = load('trainy.npy')\n",
    "y_test = load('testy.npy')\n",
    "print(X_train.shape, y_train.shape, X_test.shape, y_test.shape)"
   ]
  },
  {
   "cell_type": "code",
   "execution_count": 3,
   "id": "bdf0adb3",
   "metadata": {},
   "outputs": [],
   "source": [
    "from sklearn.model_selection import train_test_split\n",
    "X_training, X_validation, y_training, y_validation = train_test_split(X_train, y_train, test_size=0.20, random_state=42)"
   ]
  },
  {
   "cell_type": "code",
   "execution_count": 4,
   "id": "40e79092",
   "metadata": {},
   "outputs": [],
   "source": [
    "n_timesteps, n_features, n_outputs = X_train.shape[1], X_train.shape[2], y_train.shape[1]"
   ]
  },
  {
   "cell_type": "code",
   "execution_count": 5,
   "id": "1a965abf",
   "metadata": {},
   "outputs": [
    {
     "name": "stdout",
     "output_type": "stream",
     "text": [
      "Model: \"sequential\"\n",
      "_________________________________________________________________\n",
      " Layer (type)                Output Shape              Param #   \n",
      "=================================================================\n",
      " conv1d (Conv1D)             (None, 119, 64)           3904      \n",
      "                                                                 \n",
      " conv1d_1 (Conv1D)           (None, 110, 64)           41024     \n",
      "                                                                 \n",
      " dropout (Dropout)           (None, 110, 64)           0         \n",
      "                                                                 \n",
      " max_pooling1d (MaxPooling1D  (None, 55, 64)           0         \n",
      " )                                                               \n",
      "                                                                 \n",
      " flatten (Flatten)           (None, 3520)              0         \n",
      "                                                                 \n",
      " dense (Dense)               (None, 128)               450688    \n",
      "                                                                 \n",
      " dense_1 (Dense)             (None, 118)               15222     \n",
      "                                                                 \n",
      "=================================================================\n",
      "Total params: 510,838\n",
      "Trainable params: 510,838\n",
      "Non-trainable params: 0\n",
      "_________________________________________________________________\n"
     ]
    }
   ],
   "source": [
    "model = Sequential()\n",
    "model.add(Conv1D(filters=64, kernel_size=10, activation='relu', input_shape=(n_timesteps,n_features)))\n",
    "model.add(Conv1D(filters=64, kernel_size=10, activation='sigmoid'))\n",
    "model.add(Dropout(0.5))\n",
    "model.add(MaxPooling1D(pool_size=2))\n",
    "model.add(Flatten())\n",
    "model.add(Dense(128, activation='sigmoid'))\n",
    "model.add(Dense(n_outputs, activation='softmax'))\n",
    "model.compile(loss='categorical_crossentropy', optimizer='adam', metrics=['accuracy'])\n",
    "model.summary()\n",
    "callbacks = [keras.callbacks.EarlyStopping(patience=5, restore_best_weights=True)]"
   ]
  },
  {
   "cell_type": "code",
   "execution_count": 6,
   "id": "c7deea26",
   "metadata": {},
   "outputs": [
    {
     "name": "stdout",
     "output_type": "stream",
     "text": [
      "Epoch 1/200\n",
      "207/207 [==============================] - 26s 111ms/step - loss: 3.5671 - accuracy: 0.2868 - val_loss: 2.1038 - val_accuracy: 0.6315\n",
      "Epoch 2/200\n",
      "207/207 [==============================] - 24s 115ms/step - loss: 1.3071 - accuracy: 0.7710 - val_loss: 0.9383 - val_accuracy: 0.8301\n",
      "Epoch 3/200\n",
      "207/207 [==============================] - 24s 116ms/step - loss: 0.6925 - accuracy: 0.8764 - val_loss: 0.6125 - val_accuracy: 0.8857\n",
      "Epoch 4/200\n",
      "207/207 [==============================] - 25s 121ms/step - loss: 0.4706 - accuracy: 0.9125 - val_loss: 0.4482 - val_accuracy: 0.9147\n",
      "Epoch 5/200\n",
      "207/207 [==============================] - 25s 121ms/step - loss: 0.3535 - accuracy: 0.9336 - val_loss: 0.3608 - val_accuracy: 0.9328\n",
      "Epoch 6/200\n",
      "207/207 [==============================] - 24s 114ms/step - loss: 0.2830 - accuracy: 0.9450 - val_loss: 0.3108 - val_accuracy: 0.9388\n",
      "Epoch 7/200\n",
      "207/207 [==============================] - 25s 122ms/step - loss: 0.2347 - accuracy: 0.9535 - val_loss: 0.2798 - val_accuracy: 0.9403\n",
      "Epoch 8/200\n",
      "207/207 [==============================] - 24s 115ms/step - loss: 0.2044 - accuracy: 0.9584 - val_loss: 0.2521 - val_accuracy: 0.9441\n",
      "Epoch 9/200\n",
      "207/207 [==============================] - 24s 118ms/step - loss: 0.1801 - accuracy: 0.9639 - val_loss: 0.2430 - val_accuracy: 0.9455\n",
      "Epoch 10/200\n",
      "207/207 [==============================] - 26s 124ms/step - loss: 0.1572 - accuracy: 0.9675 - val_loss: 0.2204 - val_accuracy: 0.9493\n",
      "Epoch 11/200\n",
      "207/207 [==============================] - 24s 114ms/step - loss: 0.1399 - accuracy: 0.9716 - val_loss: 0.2168 - val_accuracy: 0.9483\n",
      "Epoch 12/200\n",
      "207/207 [==============================] - 26s 125ms/step - loss: 0.1282 - accuracy: 0.9738 - val_loss: 0.2065 - val_accuracy: 0.9483\n",
      "Epoch 13/200\n",
      "207/207 [==============================] - 24s 114ms/step - loss: 0.1136 - accuracy: 0.9765 - val_loss: 0.1979 - val_accuracy: 0.9530\n",
      "Epoch 14/200\n",
      "207/207 [==============================] - 24s 118ms/step - loss: 0.1043 - accuracy: 0.9784 - val_loss: 0.1931 - val_accuracy: 0.9505\n",
      "Epoch 15/200\n",
      "207/207 [==============================] - 25s 121ms/step - loss: 0.0971 - accuracy: 0.9801 - val_loss: 0.1872 - val_accuracy: 0.9527\n",
      "Epoch 16/200\n",
      "207/207 [==============================] - 25s 123ms/step - loss: 0.0895 - accuracy: 0.9821 - val_loss: 0.1792 - val_accuracy: 0.9551\n",
      "Epoch 17/200\n",
      "207/207 [==============================] - 28s 136ms/step - loss: 0.0825 - accuracy: 0.9824 - val_loss: 0.1752 - val_accuracy: 0.9562\n",
      "Epoch 18/200\n",
      "207/207 [==============================] - 25s 122ms/step - loss: 0.0785 - accuracy: 0.9841 - val_loss: 0.1720 - val_accuracy: 0.9567\n",
      "Epoch 19/200\n",
      "207/207 [==============================] - 26s 126ms/step - loss: 0.0740 - accuracy: 0.9847 - val_loss: 0.1694 - val_accuracy: 0.9571\n",
      "Epoch 20/200\n",
      "207/207 [==============================] - 23s 113ms/step - loss: 0.0686 - accuracy: 0.9863 - val_loss: 0.1721 - val_accuracy: 0.9533\n",
      "Epoch 21/200\n",
      "207/207 [==============================] - 24s 116ms/step - loss: 0.0631 - accuracy: 0.9870 - val_loss: 0.1624 - val_accuracy: 0.9592\n",
      "Epoch 22/200\n",
      "207/207 [==============================] - 25s 120ms/step - loss: 0.0593 - accuracy: 0.9884 - val_loss: 0.1690 - val_accuracy: 0.9554\n",
      "Epoch 23/200\n",
      "207/207 [==============================] - 23s 114ms/step - loss: 0.0556 - accuracy: 0.9888 - val_loss: 0.1625 - val_accuracy: 0.9573\n",
      "Epoch 24/200\n",
      "207/207 [==============================] - 26s 124ms/step - loss: 0.0535 - accuracy: 0.9890 - val_loss: 0.1575 - val_accuracy: 0.9579\n",
      "Epoch 25/200\n",
      "207/207 [==============================] - 24s 114ms/step - loss: 0.0471 - accuracy: 0.9905 - val_loss: 0.1535 - val_accuracy: 0.9591\n",
      "Epoch 26/200\n",
      "207/207 [==============================] - 25s 119ms/step - loss: 0.0467 - accuracy: 0.9907 - val_loss: 0.1530 - val_accuracy: 0.9607\n",
      "Epoch 27/200\n",
      "207/207 [==============================] - 24s 116ms/step - loss: 0.0450 - accuracy: 0.9907 - val_loss: 0.1535 - val_accuracy: 0.9609\n",
      "Epoch 28/200\n",
      "207/207 [==============================] - 24s 115ms/step - loss: 0.0434 - accuracy: 0.9903 - val_loss: 0.1586 - val_accuracy: 0.9606\n",
      "Epoch 29/200\n",
      "207/207 [==============================] - 26s 128ms/step - loss: 0.0434 - accuracy: 0.9901 - val_loss: 0.1554 - val_accuracy: 0.9592\n",
      "Epoch 30/200\n",
      "207/207 [==============================] - 24s 118ms/step - loss: 0.0408 - accuracy: 0.9907 - val_loss: 0.1563 - val_accuracy: 0.9582\n",
      "Epoch 31/200\n",
      "207/207 [==============================] - 27s 129ms/step - loss: 0.0377 - accuracy: 0.9921 - val_loss: 0.1556 - val_accuracy: 0.9621\n"
     ]
    }
   ],
   "source": [
    "history = model.fit(X_training, y_training, epochs=200, verbose=True, validation_data=(X_validation, y_validation), batch_size=128, callbacks=callbacks)"
   ]
  },
  {
   "cell_type": "code",
   "execution_count": 7,
   "id": "c5ff7767",
   "metadata": {},
   "outputs": [
    {
     "name": "stdout",
     "output_type": "stream",
     "text": [
      "207/207 [==============================] - 1s 6ms/step - loss: 0.1530 - accuracy: 0.9607\n",
      "Validation Accuracy:  0.9607\n",
      "117/117 [==============================] - 1s 6ms/step - loss: 0.7096 - accuracy: 0.8914\n",
      "Testing Accuracy: 0.8914\n"
     ]
    }
   ],
   "source": [
    "loss, accuracy = model.evaluate(X_validation, y_validation, verbose=True)\n",
    "print(\"Validation Accuracy:  {:.4f}\".format(accuracy))\n",
    "loss, accuracy = model.evaluate(X_test, y_test, verbose=True)\n",
    "print(\"Testing Accuracy: {:.4f}\".format(accuracy))"
   ]
  },
  {
   "cell_type": "code",
   "execution_count": null,
   "id": "218952b2",
   "metadata": {},
   "outputs": [],
   "source": []
  }
 ],
 "metadata": {
  "kernelspec": {
   "display_name": "Python 3 (ipykernel)",
   "language": "python",
   "name": "python3"
  },
  "language_info": {
   "codemirror_mode": {
    "name": "ipython",
    "version": 3
   },
   "file_extension": ".py",
   "mimetype": "text/x-python",
   "name": "python",
   "nbconvert_exporter": "python",
   "pygments_lexer": "ipython3",
   "version": "3.7.11"
  }
 },
 "nbformat": 4,
 "nbformat_minor": 5
}
