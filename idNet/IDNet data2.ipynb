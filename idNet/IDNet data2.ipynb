{
 "cells": [
  {
   "cell_type": "code",
   "execution_count": 19,
   "id": "8ce16eac",
   "metadata": {},
   "outputs": [],
   "source": [
    "from numpy import mean\n",
    "from numpy import std\n",
    "from numpy import dstack\n",
    "from numpy import save, load\n",
    "from pandas import read_csv\n",
    "import keras\n",
    "\n",
    "from sklearn.preprocessing import StandardScaler\n",
    "from keras.models import Sequential\n",
    "from keras.layers import Dense\n",
    "from keras.layers import Flatten\n",
    "from keras.layers import Dropout\n",
    "from keras import Model\n",
    "from keras.layers import LSTM, Conv1D, concatenate,GlobalMaxPooling1D,TimeDistributed, MaxPooling1D\n",
    "from tensorflow.keras.utils import to_categorical\n",
    "from matplotlib import pyplot\n",
    "from tensorflow.keras import regularizers\n",
    "import tensorflow as tf"
   ]
  },
  {
   "cell_type": "code",
   "execution_count": 20,
   "id": "6926b9ff",
   "metadata": {},
   "outputs": [
    {
     "name": "stdout",
     "output_type": "stream",
     "text": [
      "(44339, 128, 6) (44339, 20) (4936, 128, 6) (4936, 20)\n"
     ]
    }
   ],
   "source": [
    "X_train = load('trainX.npy')\n",
    "X_test = load('testX.npy')\n",
    "y_train = load('trainy.npy')\n",
    "y_test = load('testy.npy')\n",
    "print(X_train.shape, y_train.shape, X_test.shape, y_test.shape)"
   ]
  },
  {
   "cell_type": "code",
   "execution_count": 21,
   "id": "cfd781b9",
   "metadata": {},
   "outputs": [],
   "source": [
    "from sklearn.model_selection import train_test_split\n",
    "X_training, X_validation, y_training, y_validation = train_test_split(X_train, y_train, test_size=0.20, random_state=42)"
   ]
  },
  {
   "cell_type": "code",
   "execution_count": 22,
   "id": "198a9267",
   "metadata": {},
   "outputs": [],
   "source": [
    "n_timesteps, n_features, n_outputs = X_train.shape[1], X_train.shape[2], y_train.shape[1]"
   ]
  },
  {
   "cell_type": "code",
   "execution_count": 23,
   "id": "f65a99fc",
   "metadata": {},
   "outputs": [
    {
     "name": "stdout",
     "output_type": "stream",
     "text": [
      "Model: \"sequential_4\"\n",
      "_________________________________________________________________\n",
      " Layer (type)                Output Shape              Param #   \n",
      "=================================================================\n",
      " conv1d_8 (Conv1D)           (None, 119, 64)           3904      \n",
      "                                                                 \n",
      " conv1d_9 (Conv1D)           (None, 110, 64)           41024     \n",
      "                                                                 \n",
      " dropout_4 (Dropout)         (None, 110, 64)           0         \n",
      "                                                                 \n",
      " max_pooling1d_4 (MaxPooling  (None, 55, 64)           0         \n",
      " 1D)                                                             \n",
      "                                                                 \n",
      " flatten_4 (Flatten)         (None, 3520)              0         \n",
      "                                                                 \n",
      " dense_8 (Dense)             (None, 128)               450688    \n",
      "                                                                 \n",
      " dense_9 (Dense)             (None, 20)                2580      \n",
      "                                                                 \n",
      "=================================================================\n",
      "Total params: 498,196\n",
      "Trainable params: 498,196\n",
      "Non-trainable params: 0\n",
      "_________________________________________________________________\n"
     ]
    }
   ],
   "source": [
    "model = Sequential()\n",
    "model.add(Conv1D(filters=64, kernel_size=10, activation='relu', input_shape=(n_timesteps,n_features)))\n",
    "model.add(Conv1D(filters=64, kernel_size=10, activation='sigmoid'))\n",
    "model.add(Dropout(0.5))\n",
    "model.add(MaxPooling1D(pool_size=2))\n",
    "model.add(Flatten())\n",
    "model.add(Dense(128, activation='sigmoid'))\n",
    "model.add(Dense(n_outputs, activation='softmax'))\n",
    "model.compile(loss='categorical_crossentropy', optimizer='adam', metrics=['accuracy'])\n",
    "model.summary()\n",
    "callbacks = [keras.callbacks.EarlyStopping(patience=5, restore_best_weights=True)]"
   ]
  },
  {
   "cell_type": "code",
   "execution_count": 24,
   "id": "b58e8cf4",
   "metadata": {},
   "outputs": [
    {
     "name": "stdout",
     "output_type": "stream",
     "text": [
      "Epoch 1/200\n",
      "278/278 [==============================] - 31s 109ms/step - loss: 1.2469 - accuracy: 0.7038 - val_loss: 0.3802 - val_accuracy: 0.9297\n",
      "Epoch 2/200\n",
      "278/278 [==============================] - 32s 116ms/step - loss: 0.2321 - accuracy: 0.9529 - val_loss: 0.1803 - val_accuracy: 0.9621\n",
      "Epoch 3/200\n",
      "278/278 [==============================] - 33s 117ms/step - loss: 0.1350 - accuracy: 0.9684 - val_loss: 0.1319 - val_accuracy: 0.9683\n",
      "Epoch 4/200\n",
      "278/278 [==============================] - 32s 114ms/step - loss: 0.0990 - accuracy: 0.9765 - val_loss: 0.1016 - val_accuracy: 0.9767\n",
      "Epoch 5/200\n",
      "278/278 [==============================] - 35s 125ms/step - loss: 0.0763 - accuracy: 0.9817 - val_loss: 0.0933 - val_accuracy: 0.9777\n",
      "Epoch 6/200\n",
      "278/278 [==============================] - 33s 120ms/step - loss: 0.0636 - accuracy: 0.9848 - val_loss: 0.0866 - val_accuracy: 0.9778\n",
      "Epoch 7/200\n",
      "278/278 [==============================] - 34s 122ms/step - loss: 0.0529 - accuracy: 0.9876 - val_loss: 0.0720 - val_accuracy: 0.9818\n",
      "Epoch 8/200\n",
      "278/278 [==============================] - 32s 115ms/step - loss: 0.0467 - accuracy: 0.9882 - val_loss: 0.0723 - val_accuracy: 0.9806\n",
      "Epoch 9/200\n",
      "278/278 [==============================] - 34s 121ms/step - loss: 0.0425 - accuracy: 0.9891 - val_loss: 0.0674 - val_accuracy: 0.9823\n",
      "Epoch 10/200\n",
      "278/278 [==============================] - 32s 115ms/step - loss: 0.0362 - accuracy: 0.9911 - val_loss: 0.0641 - val_accuracy: 0.9829\n",
      "Epoch 11/200\n",
      "278/278 [==============================] - 33s 117ms/step - loss: 0.0304 - accuracy: 0.9929 - val_loss: 0.0583 - val_accuracy: 0.9846\n",
      "Epoch 12/200\n",
      "278/278 [==============================] - 33s 118ms/step - loss: 0.0275 - accuracy: 0.9935 - val_loss: 0.0675 - val_accuracy: 0.9808\n",
      "Epoch 13/200\n",
      "278/278 [==============================] - 32s 115ms/step - loss: 0.0282 - accuracy: 0.9932 - val_loss: 0.0568 - val_accuracy: 0.9846\n",
      "Epoch 14/200\n",
      "278/278 [==============================] - 33s 118ms/step - loss: 0.0239 - accuracy: 0.9939 - val_loss: 0.0552 - val_accuracy: 0.9848\n",
      "Epoch 15/200\n",
      "278/278 [==============================] - 32s 115ms/step - loss: 0.0207 - accuracy: 0.9953 - val_loss: 0.0563 - val_accuracy: 0.9831\n",
      "Epoch 16/200\n",
      "278/278 [==============================] - 33s 119ms/step - loss: 0.0209 - accuracy: 0.9949 - val_loss: 0.0548 - val_accuracy: 0.9838\n",
      "Epoch 17/200\n",
      "278/278 [==============================] - 33s 118ms/step - loss: 0.0199 - accuracy: 0.9949 - val_loss: 0.0520 - val_accuracy: 0.9848\n",
      "Epoch 18/200\n",
      "278/278 [==============================] - 34s 122ms/step - loss: 0.0170 - accuracy: 0.9963 - val_loss: 0.0505 - val_accuracy: 0.9849\n",
      "Epoch 19/200\n",
      "278/278 [==============================] - 33s 118ms/step - loss: 0.0193 - accuracy: 0.9952 - val_loss: 0.0539 - val_accuracy: 0.9844\n",
      "Epoch 20/200\n",
      "278/278 [==============================] - 34s 123ms/step - loss: 0.0181 - accuracy: 0.9953 - val_loss: 0.0527 - val_accuracy: 0.9847\n",
      "Epoch 21/200\n",
      "278/278 [==============================] - 33s 117ms/step - loss: 0.0143 - accuracy: 0.9967 - val_loss: 0.0539 - val_accuracy: 0.9842\n",
      "Epoch 22/200\n",
      "278/278 [==============================] - 32s 116ms/step - loss: 0.0148 - accuracy: 0.9960 - val_loss: 0.0513 - val_accuracy: 0.9864\n",
      "Epoch 23/200\n",
      "278/278 [==============================] - 34s 121ms/step - loss: 0.0133 - accuracy: 0.9967 - val_loss: 0.0492 - val_accuracy: 0.9869\n",
      "Epoch 24/200\n",
      "278/278 [==============================] - 32s 114ms/step - loss: 0.0125 - accuracy: 0.9972 - val_loss: 0.0495 - val_accuracy: 0.9859\n",
      "Epoch 25/200\n",
      "278/278 [==============================] - 34s 121ms/step - loss: 0.0140 - accuracy: 0.9962 - val_loss: 0.0517 - val_accuracy: 0.9852\n",
      "Epoch 26/200\n",
      "278/278 [==============================] - 33s 117ms/step - loss: 0.0129 - accuracy: 0.9968 - val_loss: 0.0522 - val_accuracy: 0.9857\n",
      "Epoch 27/200\n",
      "278/278 [==============================] - 35s 126ms/step - loss: 0.0114 - accuracy: 0.9973 - val_loss: 0.0506 - val_accuracy: 0.9862\n",
      "Epoch 28/200\n",
      "278/278 [==============================] - 32s 115ms/step - loss: 0.0106 - accuracy: 0.9974 - val_loss: 0.0536 - val_accuracy: 0.9851\n"
     ]
    }
   ],
   "source": [
    "history = model.fit(X_training, y_training, epochs=200, verbose=True, validation_data=(X_validation, y_validation), batch_size=128, callbacks=callbacks)"
   ]
  },
  {
   "cell_type": "code",
   "execution_count": 25,
   "id": "9caeaf07",
   "metadata": {},
   "outputs": [
    {
     "name": "stdout",
     "output_type": "stream",
     "text": [
      "278/278 [==============================] - 2s 7ms/step - loss: 0.0492 - accuracy: 0.9869\n",
      "Validation Accuracy:  0.9869\n",
      "155/155 [==============================] - 1s 7ms/step - loss: 0.2875 - accuracy: 0.9451\n",
      "Testing Accuracy: 0.9451\n"
     ]
    }
   ],
   "source": [
    "loss, accuracy = model.evaluate(X_validation, y_validation, verbose=True)\n",
    "print(\"Validation Accuracy:  {:.4f}\".format(accuracy))\n",
    "loss, accuracy = model.evaluate(X_test, y_test, verbose=True)\n",
    "print(\"Testing Accuracy: {:.4f}\".format(accuracy))"
   ]
  },
  {
   "cell_type": "code",
   "execution_count": null,
   "id": "68c626f8",
   "metadata": {},
   "outputs": [],
   "source": []
  }
 ],
 "metadata": {
  "kernelspec": {
   "display_name": "Python 3 (ipykernel)",
   "language": "python",
   "name": "python3"
  },
  "language_info": {
   "codemirror_mode": {
    "name": "ipython",
    "version": 3
   },
   "file_extension": ".py",
   "mimetype": "text/x-python",
   "name": "python",
   "nbconvert_exporter": "python",
   "pygments_lexer": "ipython3",
   "version": "3.7.11"
  }
 },
 "nbformat": 4,
 "nbformat_minor": 5
}
