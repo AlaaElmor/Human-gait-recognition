{
 "cells": [
  {
   "cell_type": "code",
   "execution_count": 6,
   "id": "99024e71",
   "metadata": {},
   "outputs": [
    {
     "name": "stdout",
     "output_type": "stream",
     "text": [
      "(1022, 1024, 6)\n",
      "(1022, 1024)\n",
      "(332, 1024, 6)\n",
      "(332, 1024)\n"
     ]
    },
    {
     "data": {
      "text/plain": [
       "2"
      ]
     },
     "execution_count": 6,
     "metadata": {},
     "output_type": "execute_result"
    }
   ],
   "source": [
    "import tensorflow as tf\n",
    "from tensorflow import keras\n",
    "from keras import preprocessing\n",
    "from tensorflow.keras import layers ,models\n",
    "import numpy as np\n",
    "import numpy as np \n",
    "train_data = np.load('trainX.npy')\n",
    "train_label = np.load('trainy.npy')\n",
    "test_data = np.load('testX.npy')\n",
    "test_label = np.load('testy.npy')\n",
    "print(train_data.shape)\n",
    "print(train_label.shape)\n",
    "print(test_data.shape)\n",
    "print(test_label.shape)\n",
    "\n",
    "idx = np.random.permutation(len(train_data))\n",
    "train_data = train_data[idx]\n",
    "train_label = train_label[idx]\n",
    "\n",
    "num_classes = len(np.unique(train_label))\n",
    "num_classes\n"
   ]
  },
  {
   "cell_type": "code",
   "execution_count": 12,
   "id": "a2468980",
   "metadata": {},
   "outputs": [
    {
     "name": "stdout",
     "output_type": "stream",
     "text": [
      "Model: \"sequential_3\"\n",
      "_________________________________________________________________\n",
      "Layer (type)                 Output Shape              Param #   \n",
      "=================================================================\n",
      "conv1d_7 (Conv1D)            (None, 512, 64)           6208      \n",
      "_________________________________________________________________\n",
      "conv1d_8 (Conv1D)            (None, 512, 64)           65600     \n",
      "_________________________________________________________________\n",
      "dropout_6 (Dropout)          (None, 512, 64)           0         \n",
      "_________________________________________________________________\n",
      "conv1d_9 (Conv1D)            (None, 256, 32)           32800     \n",
      "_________________________________________________________________\n",
      "conv1d_transpose_9 (Conv1DTr (None, 512, 32)           16416     \n",
      "_________________________________________________________________\n",
      "dropout_7 (Dropout)          (None, 512, 32)           0         \n",
      "_________________________________________________________________\n",
      "conv1d_transpose_10 (Conv1DT (None, 1024, 64)          32832     \n",
      "_________________________________________________________________\n",
      "conv1d_transpose_11 (Conv1DT (None, 1024, 1)           1025      \n",
      "=================================================================\n",
      "Total params: 154,881\n",
      "Trainable params: 154,881\n",
      "Non-trainable params: 0\n",
      "_________________________________________________________________\n"
     ]
    }
   ],
   "source": [
    "model = keras.Sequential(\n",
    "    [\n",
    "        layers.Input(shape=(train_data.shape[1], train_data.shape[2])),\n",
    "        layers.Conv1D(\n",
    "            filters=64, kernel_size=16, padding=\"same\", strides=2, activation=\"relu\"\n",
    "        ),\n",
    "        layers.Conv1D(\n",
    "            filters=64, kernel_size=16, padding=\"same\", strides=1, activation=\"relu\"\n",
    "        ),\n",
    "        layers.Dropout(rate=0.1),\n",
    "        layers.Conv1D(\n",
    "            filters=32, kernel_size=16, padding=\"same\", strides=2, activation=\"relu\"\n",
    "        ),\n",
    "        layers.Conv1DTranspose(\n",
    "            filters=32, kernel_size=16, padding=\"same\", strides=2, activation=\"relu\"\n",
    "        ),\n",
    "        layers.Dropout(rate=0.1),\n",
    "        layers.Conv1DTranspose(\n",
    "            filters=64, kernel_size=16, padding=\"same\", strides=2, activation=\"relu\"\n",
    "        ),\n",
    "        layers.Conv1DTranspose(filters=1, kernel_size=16, padding=\"same\"),\n",
    "    ]\n",
    ")\n",
    "model.compile(optimizer=keras.optimizers.Adam(learning_rate=0.001), loss=\"mse\",metrics=['accuracy'])\n",
    "model.summary()"
   ]
  },
  {
   "cell_type": "code",
   "execution_count": 13,
   "id": "96070000",
   "metadata": {},
   "outputs": [
    {
     "name": "stdout",
     "output_type": "stream",
     "text": [
      "Epoch 1/50\n",
      "9/9 [==============================] - 5s 480ms/step - loss: 0.4041 - accuracy: 0.5045 - val_loss: 0.3608 - val_accuracy: 0.5034\n",
      "Epoch 2/50\n",
      "9/9 [==============================] - 4s 460ms/step - loss: 0.2807 - accuracy: 0.5740 - val_loss: 0.2298 - val_accuracy: 0.5794\n",
      "Epoch 3/50\n",
      "9/9 [==============================] - 4s 468ms/step - loss: 0.2383 - accuracy: 0.5731 - val_loss: 0.2380 - val_accuracy: 0.5942\n",
      "Epoch 4/50\n",
      "9/9 [==============================] - 4s 474ms/step - loss: 0.2228 - accuracy: 0.6416 - val_loss: 0.2100 - val_accuracy: 0.6954\n",
      "Epoch 5/50\n",
      "9/9 [==============================] - 4s 478ms/step - loss: 0.2069 - accuracy: 0.6615 - val_loss: 0.2010 - val_accuracy: 0.6942\n",
      "Epoch 6/50\n",
      "9/9 [==============================] - 4s 488ms/step - loss: 0.1889 - accuracy: 0.7306 - val_loss: 0.1673 - val_accuracy: 0.7998\n",
      "Epoch 7/50\n",
      "9/9 [==============================] - 4s 480ms/step - loss: 0.1618 - accuracy: 0.8053 - val_loss: 0.1500 - val_accuracy: 0.7984\n",
      "Epoch 8/50\n",
      "9/9 [==============================] - 4s 476ms/step - loss: 0.1516 - accuracy: 0.8126 - val_loss: 0.1445 - val_accuracy: 0.8174\n",
      "Epoch 9/50\n",
      "9/9 [==============================] - 4s 476ms/step - loss: 0.1460 - accuracy: 0.8145 - val_loss: 0.1432 - val_accuracy: 0.8039\n",
      "Epoch 10/50\n",
      "9/9 [==============================] - 4s 479ms/step - loss: 0.1437 - accuracy: 0.8098 - val_loss: 0.1442 - val_accuracy: 0.8206\n",
      "Epoch 11/50\n",
      "9/9 [==============================] - 4s 478ms/step - loss: 0.1345 - accuracy: 0.8255 - val_loss: 0.1357 - val_accuracy: 0.8244\n",
      "Epoch 12/50\n",
      "9/9 [==============================] - 4s 493ms/step - loss: 0.1329 - accuracy: 0.8299 - val_loss: 0.1341 - val_accuracy: 0.8221\n",
      "Epoch 13/50\n",
      "9/9 [==============================] - 4s 494ms/step - loss: 0.1267 - accuracy: 0.8302 - val_loss: 0.1336 - val_accuracy: 0.8129\n",
      "Epoch 14/50\n",
      "9/9 [==============================] - 4s 478ms/step - loss: 0.1270 - accuracy: 0.8323 - val_loss: 0.1280 - val_accuracy: 0.8245\n",
      "Epoch 15/50\n",
      "9/9 [==============================] - 4s 483ms/step - loss: 0.1260 - accuracy: 0.8362 - val_loss: 0.1226 - val_accuracy: 0.8326\n",
      "Epoch 16/50\n",
      "9/9 [==============================] - 4s 483ms/step - loss: 0.1293 - accuracy: 0.8244 - val_loss: 0.1245 - val_accuracy: 0.8217\n",
      "Epoch 17/50\n",
      "9/9 [==============================] - 4s 479ms/step - loss: 0.1212 - accuracy: 0.8369 - val_loss: 0.1238 - val_accuracy: 0.8249\n",
      "Epoch 18/50\n",
      "9/9 [==============================] - 5s 499ms/step - loss: 0.1165 - accuracy: 0.8413 - val_loss: 0.1410 - val_accuracy: 0.8130\n",
      "Epoch 19/50\n",
      "9/9 [==============================] - 4s 485ms/step - loss: 0.1195 - accuracy: 0.8375 - val_loss: 0.1195 - val_accuracy: 0.8333\n",
      "Epoch 20/50\n",
      "9/9 [==============================] - 4s 491ms/step - loss: 0.1161 - accuracy: 0.8419 - val_loss: 0.1224 - val_accuracy: 0.8404\n",
      "Epoch 21/50\n",
      "9/9 [==============================] - 5s 508ms/step - loss: 0.1201 - accuracy: 0.8398 - val_loss: 0.1383 - val_accuracy: 0.8088\n",
      "Epoch 22/50\n",
      "9/9 [==============================] - 5s 557ms/step - loss: 0.1176 - accuracy: 0.8429 - val_loss: 0.1299 - val_accuracy: 0.8366\n",
      "Epoch 23/50\n",
      "9/9 [==============================] - 5s 534ms/step - loss: 0.1177 - accuracy: 0.8454 - val_loss: 0.1283 - val_accuracy: 0.8366\n",
      "Epoch 24/50\n",
      "9/9 [==============================] - 5s 509ms/step - loss: 0.1144 - accuracy: 0.8487 - val_loss: 0.1159 - val_accuracy: 0.8385\n",
      "Epoch 25/50\n",
      "9/9 [==============================] - 5s 508ms/step - loss: 0.1130 - accuracy: 0.8477 - val_loss: 0.1092 - val_accuracy: 0.8519\n",
      "Epoch 26/50\n",
      "9/9 [==============================] - 5s 508ms/step - loss: 0.1137 - accuracy: 0.8421 - val_loss: 0.1207 - val_accuracy: 0.8388\n",
      "Epoch 27/50\n",
      "9/9 [==============================] - 4s 492ms/step - loss: 0.1281 - accuracy: 0.8218 - val_loss: 0.1054 - val_accuracy: 0.8499\n",
      "Epoch 28/50\n",
      "9/9 [==============================] - 5s 503ms/step - loss: 0.1148 - accuracy: 0.8398 - val_loss: 0.1118 - val_accuracy: 0.8380\n",
      "Epoch 29/50\n",
      "9/9 [==============================] - 4s 490ms/step - loss: 0.1094 - accuracy: 0.8503 - val_loss: 0.1210 - val_accuracy: 0.8336\n",
      "Epoch 30/50\n",
      "9/9 [==============================] - 4s 480ms/step - loss: 0.1139 - accuracy: 0.8483 - val_loss: 0.1131 - val_accuracy: 0.8507\n",
      "Epoch 31/50\n",
      "9/9 [==============================] - 4s 481ms/step - loss: 0.1102 - accuracy: 0.8538 - val_loss: 0.1046 - val_accuracy: 0.8474\n",
      "Epoch 32/50\n",
      "9/9 [==============================] - 4s 483ms/step - loss: 0.1099 - accuracy: 0.8500 - val_loss: 0.1423 - val_accuracy: 0.8264\n",
      "Epoch 33/50\n",
      "9/9 [==============================] - 5s 520ms/step - loss: 0.1200 - accuracy: 0.8453 - val_loss: 0.1035 - val_accuracy: 0.8495\n",
      "Epoch 34/50\n",
      "9/9 [==============================] - 4s 487ms/step - loss: 0.1117 - accuracy: 0.8535 - val_loss: 0.1100 - val_accuracy: 0.8579\n",
      "Epoch 35/50\n",
      "9/9 [==============================] - 5s 503ms/step - loss: 0.1128 - accuracy: 0.8544 - val_loss: 0.1281 - val_accuracy: 0.8416\n",
      "Epoch 36/50\n",
      "9/9 [==============================] - 4s 485ms/step - loss: 0.1137 - accuracy: 0.8474 - val_loss: 0.1215 - val_accuracy: 0.8317\n",
      "Epoch 37/50\n",
      "9/9 [==============================] - 4s 489ms/step - loss: 0.1141 - accuracy: 0.8412 - val_loss: 0.0991 - val_accuracy: 0.8617\n",
      "Epoch 38/50\n",
      "9/9 [==============================] - 4s 492ms/step - loss: 0.1062 - accuracy: 0.8561 - val_loss: 0.1002 - val_accuracy: 0.8645\n",
      "Epoch 39/50\n",
      "9/9 [==============================] - 4s 484ms/step - loss: 0.1008 - accuracy: 0.8619 - val_loss: 0.0995 - val_accuracy: 0.8617\n",
      "Epoch 40/50\n",
      "9/9 [==============================] - 4s 481ms/step - loss: 0.0985 - accuracy: 0.8678 - val_loss: 0.1067 - val_accuracy: 0.8597\n",
      "Epoch 41/50\n",
      "9/9 [==============================] - 4s 484ms/step - loss: 0.1045 - accuracy: 0.8655 - val_loss: 0.1072 - val_accuracy: 0.8595\n",
      "Epoch 42/50\n",
      "9/9 [==============================] - 4s 484ms/step - loss: 0.1030 - accuracy: 0.8581 - val_loss: 0.0976 - val_accuracy: 0.8598\n",
      "Epoch 43/50\n",
      "9/9 [==============================] - 4s 482ms/step - loss: 0.1000 - accuracy: 0.8645 - val_loss: 0.0998 - val_accuracy: 0.8698\n",
      "Epoch 44/50\n",
      "9/9 [==============================] - 4s 487ms/step - loss: 0.0976 - accuracy: 0.8697 - val_loss: 0.1008 - val_accuracy: 0.8575\n",
      "Epoch 45/50\n",
      "9/9 [==============================] - 4s 487ms/step - loss: 0.0996 - accuracy: 0.8666 - val_loss: 0.1115 - val_accuracy: 0.8630\n",
      "Epoch 46/50\n",
      "9/9 [==============================] - 4s 480ms/step - loss: 0.1024 - accuracy: 0.8667 - val_loss: 0.0960 - val_accuracy: 0.8697\n",
      "Epoch 47/50\n",
      "9/9 [==============================] - 4s 483ms/step - loss: 0.0971 - accuracy: 0.8707 - val_loss: 0.0955 - val_accuracy: 0.8741\n",
      "Epoch 48/50\n",
      "9/9 [==============================] - 4s 488ms/step - loss: 0.0984 - accuracy: 0.8722 - val_loss: 0.0961 - val_accuracy: 0.8733\n",
      "Epoch 49/50\n",
      "9/9 [==============================] - 4s 484ms/step - loss: 0.0999 - accuracy: 0.8695 - val_loss: 0.1074 - val_accuracy: 0.8558\n",
      "Epoch 50/50\n",
      "9/9 [==============================] - 4s 482ms/step - loss: 0.1023 - accuracy: 0.8692 - val_loss: 0.1044 - val_accuracy: 0.8574\n"
     ]
    }
   ],
   "source": [
    "history = model.fit(\n",
    "    train_data,\n",
    "    train_label,\n",
    "    epochs=50,\n",
    "    batch_size=100,\n",
    "    validation_split=0.2,\n",
    "    callbacks=[\n",
    "        keras.callbacks.EarlyStopping(monitor=\"val_loss\", patience=5, mode=\"min\")\n",
    "    ],\n",
    ")"
   ]
  },
  {
   "cell_type": "code",
   "execution_count": 14,
   "id": "824dbdb2",
   "metadata": {},
   "outputs": [
    {
     "data": {
      "image/png": "[encoded data removed]",
      "text/plain": [
       "<Figure size 432x288 with 1 Axes>"
      ]
     },
     "metadata": {
      "needs_background": "light"
     },
     "output_type": "display_data"
    }
   ],
   "source": [
    "from matplotlib import pyplot as plt\n",
    "plt.plot(history.history[\"loss\"], label=\"Training Loss\")\n",
    "plt.plot(history.history[\"val_loss\"], label=\"Validation Loss\")\n",
    "plt.legend()\n",
    "plt.show()"
   ]
  },
  {
   "cell_type": "code",
   "execution_count": 15,
   "id": "69ce5c32",
   "metadata": {},
   "outputs": [
    {
     "name": "stdout",
     "output_type": "stream",
     "text": [
      "11/11 [==============================] - 0s 39ms/step - loss: 0.1662 - accuracy: 0.7804\n",
      "Test accuracy 0.7803646326065063\n",
      "Test loss 0.16622605919837952\n"
     ]
    }
   ],
   "source": [
    "test_loss, test_acc = model.evaluate(test_data, test_label)\n",
    "print(\"Test accuracy\", test_acc)\n",
    "print(\"Test loss\", test_loss)"
   ]
  },
  {
   "cell_type": "code",
   "execution_count": null,
   "id": "780acfc0",
   "metadata": {},
   "outputs": [],
   "source": []
  }
 ],
 "metadata": {
  "kernelspec": {
   "display_name": "Python 3",
   "language": "python",
   "name": "python3"
  },
  "language_info": {
   "codemirror_mode": {
    "name": "ipython",
    "version": 3
   },
   "file_extension": ".py",
   "mimetype": "text/x-python",
   "name": "python",
   "nbconvert_exporter": "python",
   "pygments_lexer": "ipython3",
   "version": "3.6.13"
  }
 },
 "nbformat": 4,
 "nbformat_minor": 5
}
