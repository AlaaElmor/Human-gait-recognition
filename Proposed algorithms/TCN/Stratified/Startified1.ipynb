{
  "nbformat": 4,
  "nbformat_minor": 0,
  "metadata": {
    "colab": {
      "name": "Startified1.ipynb",
      "provenance": []
    },
    "kernelspec": {
      "name": "python3",
      "display_name": "Python 3"
    },
    "language_info": {
      "name": "python"
    },
    "accelerator": "GPU"
  },
  "cells": [
    {
      "cell_type": "code",
      "execution_count": 21,
      "metadata": {
        "id": "HzTuqLMwGxiF"
      },
      "outputs": [],
      "source": [
        "from numpy import save, load\n",
        "from pandas import read_csv\n",
        "from keras.layers import Dense\n",
        "from keras.layers import Flatten\n",
        "from keras.layers import Dropout\n",
        "from keras import Model\n",
        "from keras.layers import Conv1D, SpatialDropout1D\n",
        "from keras.layers import Convolution1D, Dense,Activation\n",
        "from keras.models import Input, Model\n",
        "from keras.layers import LSTM, Conv1D, concatenate,GlobalMaxPooling1D,GlobalAveragePooling1D,TimeDistributed, MaxPooling1D\n",
        "import tensorflow as tf\n",
        "import numpy as np\n",
        "import keras.backend as K\n",
        "import keras.layers\n",
        "from keras import optimizers\n",
        "from keras.layers import Activation, Lambda\n",
        "from keras.layers import Convolution1D, Dense\n",
        "from keras.models import Input, Model\n",
        "from typing import List, Tuple\n",
        "from sklearn.datasets import make_classification\n",
        "from sklearn.model_selection import StratifiedKFold\n",
        "from keras.preprocessing.text import text_to_word_sequence\n",
        "import pandas as pd\n",
        "from keras.preprocessing.text import Tokenizer\n",
        "import numpy as np\n",
        "from keras.preprocessing import sequence\n",
        "from keras.models import Sequential\n",
        "from keras.layers import Dense, Dropout, Activation\n",
        "from keras.layers import Embedding\n",
        "from keras.layers import Conv1D, GlobalMaxPooling1D\n",
        "from tensorflow.keras.utils import to_categorical"
      ]
    },
    {
      "cell_type": "code",
      "source": [
        "from google.colab import drive\n",
        "drive.mount('/content/drive')\n",
        "\n",
        "from google.colab import drive\n",
        "\n",
        "drive.mount('/content/gdrive')\n",
        "root_path = 'gdrive/My Drive/'  #change dir to your project folder\n",
        "\n",
        "import numpy as np\n",
        "x_train = np.load('/content/gdrive/MyDrive/Colab Notebooks/Dataset1/trainX.npy')\n",
        "y_train = np.load('/content/gdrive/MyDrive/Colab Notebooks/Dataset1/trainy.npy')\n",
        "x_test = np.load('/content/gdrive/MyDrive/Colab Notebooks/Dataset1/testX.npy')\n",
        "y_test = np.load('/content/gdrive/MyDrive/Colab Notebooks/Dataset1/testy.npy')\n",
        "print(x_train.shape, y_train.shape, x_test.shape, y_test.shape)"
      ],
      "metadata": {
        "colab": {
          "base_uri": "https://localhost:8080/"
        },
        "id": "7RS-oWhjJcBj",
        "outputId": "aac73a9f-99bf-4544-98ed-9085c04ef4fe"
      },
      "execution_count": 2,
      "outputs": [
        {
          "output_type": "stream",
          "name": "stdout",
          "text": [
            "Drive already mounted at /content/drive; to attempt to forcibly remount, call drive.mount(\"/content/drive\", force_remount=True).\n",
            "Mounted at /content/gdrive\n",
            "(33104, 128, 3) (33104, 118) (3740, 128, 3) (3740, 118)\n"
          ]
        }
      ]
    },
    {
      "cell_type": "code",
      "source": [
        "from sklearn.model_selection import train_test_split\n",
        "x_train, x_validation, y_train, y_validation = train_test_split(x_train, y_train, test_size=0.20, random_state=42)\n",
        "kfold = StratifiedKFold(n_splits=5, shuffle=True, random_state=1)"
      ],
      "metadata": {
        "id": "NJd0grO3JbFR"
      },
      "execution_count": 6,
      "outputs": []
    },
    {
      "cell_type": "code",
      "source": [
        "def channel_normalization(x):\n",
        "    max_values = K.max(K.abs(x), 2, keepdims=True) + 1e-5\n",
        "    out = x / max_values\n",
        "    return out\n",
        "\n",
        "def residual_block(x, s, i, activation, nb_filters, kernel_size, padding, dropout_rate=0, name=''):\n",
        "    original_x = x\n",
        "    conv = Conv1D(filters=nb_filters, kernel_size=kernel_size,\n",
        "                  dilation_rate=i, padding=padding,\n",
        "                  name=name + '_dilated_conv_%d_tanh_s%d' % (i, s))(x)\n",
        "    if activation == 'norm_relu':\n",
        "        x = Activation('relu')(conv)\n",
        "        x = Lambda(channel_normalization)(x)\n",
        "    else:\n",
        "        x = Activation(activation)(conv)\n",
        "\n",
        "    x = SpatialDropout1D(dropout_rate, name=name + '_spatial_dropout1d_%d_s%d_%f' % (i, s, dropout_rate))(x)\n",
        "\n",
        "    # 1x1 conv.\n",
        "    x = Convolution1D(nb_filters, 1, padding='same')(x)\n",
        "    res_x = keras.layers.add([original_x, x])\n",
        "    return res_x, x"
      ],
      "metadata": {
        "id": "iuybbVmRJa6l"
      },
      "execution_count": 4,
      "outputs": []
    },
    {
      "cell_type": "code",
      "source": [
        "class TCN:\n",
        "\n",
        "    def __init__(self,\n",
        "                 nb_filters=64,\n",
        "                 kernel_size=2,\n",
        "                 nb_stacks=1,\n",
        "                 dilations=None,\n",
        "                 activation='norm_relu',\n",
        "                 padding='causal',\n",
        "                 use_skip_connections=True,\n",
        "                 dropout_rate=0.0,\n",
        "                 return_sequences=True,\n",
        "                 name='tcn'):\n",
        "        self.name = name\n",
        "        self.return_sequences = return_sequences\n",
        "        self.dropout_rate = dropout_rate\n",
        "        self.use_skip_connections = use_skip_connections\n",
        "        self.activation = activation\n",
        "        self.dilations = dilations\n",
        "        self.nb_stacks = nb_stacks\n",
        "        self.kernel_size = kernel_size\n",
        "        self.nb_filters = nb_filters\n",
        "        self.padding = padding\n",
        "        \n",
        "        if padding != 'causal' and padding != 'same':\n",
        "            raise ValueError(\"Only 'causal' or 'same' paddings are compatible for this layer.\")\n",
        "\n",
        "        if not isinstance(nb_filters, int):\n",
        "            print('An interface change occurred after the version 2.1.2.')\n",
        "            print('Before: tcn.TCN(i, return_sequences=False, ...)')\n",
        "            print('Now should be: tcn.TCN(return_sequences=False, ...)(i)')\n",
        "            print('Second solution is to pip install keras-tcn==2.1.2 to downgrade.')\n",
        "            raise Exception()\n",
        "\n",
        "    def __call__(self, inputs):\n",
        "        if self.dilations is None:\n",
        "            self.dilations = [1, 2, 4, 8, 16, 32]\n",
        "        x = inputs\n",
        "        x = Convolution1D(self.nb_filters, 1, padding=self.padding, name=self.name + '_initial_conv')(x)\n",
        "        skip_connections = []\n",
        "        for s in range(self.nb_stacks):\n",
        "            for i in self.dilations:\n",
        "                x, skip_out = residual_block(x, s, i, self.activation, self.nb_filters,\n",
        "                                             self.kernel_size, self.padding, self.dropout_rate, name=self.name)\n",
        "                skip_connections.append(skip_out)\n",
        "        if self.use_skip_connections:\n",
        "            x = keras.layers.add(skip_connections)\n",
        "        x = Activation('relu')(x)\n",
        "\n",
        "        if not self.return_sequences:\n",
        "            output_slice_index = -1\n",
        "            x = Lambda(lambda tt: tt[:, output_slice_index, :])(x)\n",
        "        return x"
      ],
      "metadata": {
        "id": "I-aKoSJzJayg"
      },
      "execution_count": 7,
      "outputs": []
    },
    {
      "cell_type": "code",
      "source": [
        "input_shape = x_train.shape[1:]\n",
        "input = Input(shape=x_train.shape[1:])\n",
        "x = SpatialDropout1D(0.2)(input)\n",
        "x = TCN(128,dilations = [1, 2, 4, 8, 16],kernel_size = 3, return_sequences=True, name = 'tnc1')(x)\n",
        "x = TCN(128,dilations = [1, 2, 4, 8, 16],kernel_size = 3, return_sequences=True, name = 'tnc2')(x)\n",
        "max_pool = GlobalMaxPooling1D()(x)\n",
        "x = Dense(128, activation=\"relu\")(max_pool)\n",
        "x = Dropout(0.2)(x)\n",
        "output = Dense(118, activation=\"softmax\")(x)    \n",
        "model = Model(inputs=input, outputs=output)\n",
        "model.compile(loss='categorical_crossentropy', optimizer='adam', metrics=['accuracy'])\n",
        "model.summary()\n",
        "\n",
        "callbacks = [keras.callbacks.EarlyStopping(patience=5, restore_best_weights=True)]"
      ],
      "metadata": {
        "colab": {
          "base_uri": "https://localhost:8080/"
        },
        "id": "hDxwPcSKJarw",
        "outputId": "cee30f3d-248d-4393-810e-c7fc09598afa"
      },
      "execution_count": 8,
      "outputs": [
        {
          "output_type": "stream",
          "name": "stdout",
          "text": [
            "Model: \"model\"\n",
            "__________________________________________________________________________________________________\n",
            " Layer (type)                   Output Shape         Param #     Connected to                     \n",
            "==================================================================================================\n",
            " input_1 (InputLayer)           [(None, 128, 3)]     0           []                               \n",
            "                                                                                                  \n",
            " spatial_dropout1d (SpatialDrop  (None, 128, 3)      0           ['input_1[0][0]']                \n",
            " out1D)                                                                                           \n",
            "                                                                                                  \n",
            " tnc1_initial_conv (Conv1D)     (None, 128, 128)     512         ['spatial_dropout1d[0][0]']      \n",
            "                                                                                                  \n",
            " tnc1_dilated_conv_1_tanh_s0 (C  (None, 128, 128)    49280       ['tnc1_initial_conv[0][0]']      \n",
            " onv1D)                                                                                           \n",
            "                                                                                                  \n",
            " activation (Activation)        (None, 128, 128)     0           ['tnc1_dilated_conv_1_tanh_s0[0][\n",
            "                                                                 0]']                             \n",
            "                                                                                                  \n",
            " lambda (Lambda)                (None, 128, 128)     0           ['activation[0][0]']             \n",
            "                                                                                                  \n",
            " tnc1_spatial_dropout1d_1_s0_0.  (None, 128, 128)    0           ['lambda[0][0]']                 \n",
            " 000000 (SpatialDropout1D)                                                                        \n",
            "                                                                                                  \n",
            " conv1d (Conv1D)                (None, 128, 128)     16512       ['tnc1_spatial_dropout1d_1_s0_0.0\n",
            "                                                                 00000[0][0]']                    \n",
            "                                                                                                  \n",
            " add (Add)                      (None, 128, 128)     0           ['tnc1_initial_conv[0][0]',      \n",
            "                                                                  'conv1d[0][0]']                 \n",
            "                                                                                                  \n",
            " tnc1_dilated_conv_2_tanh_s0 (C  (None, 128, 128)    49280       ['add[0][0]']                    \n",
            " onv1D)                                                                                           \n",
            "                                                                                                  \n",
            " activation_1 (Activation)      (None, 128, 128)     0           ['tnc1_dilated_conv_2_tanh_s0[0][\n",
            "                                                                 0]']                             \n",
            "                                                                                                  \n",
            " lambda_1 (Lambda)              (None, 128, 128)     0           ['activation_1[0][0]']           \n",
            "                                                                                                  \n",
            " tnc1_spatial_dropout1d_2_s0_0.  (None, 128, 128)    0           ['lambda_1[0][0]']               \n",
            " 000000 (SpatialDropout1D)                                                                        \n",
            "                                                                                                  \n",
            " conv1d_1 (Conv1D)              (None, 128, 128)     16512       ['tnc1_spatial_dropout1d_2_s0_0.0\n",
            "                                                                 00000[0][0]']                    \n",
            "                                                                                                  \n",
            " add_1 (Add)                    (None, 128, 128)     0           ['add[0][0]',                    \n",
            "                                                                  'conv1d_1[0][0]']               \n",
            "                                                                                                  \n",
            " tnc1_dilated_conv_4_tanh_s0 (C  (None, 128, 128)    49280       ['add_1[0][0]']                  \n",
            " onv1D)                                                                                           \n",
            "                                                                                                  \n",
            " activation_2 (Activation)      (None, 128, 128)     0           ['tnc1_dilated_conv_4_tanh_s0[0][\n",
            "                                                                 0]']                             \n",
            "                                                                                                  \n",
            " lambda_2 (Lambda)              (None, 128, 128)     0           ['activation_2[0][0]']           \n",
            "                                                                                                  \n",
            " tnc1_spatial_dropout1d_4_s0_0.  (None, 128, 128)    0           ['lambda_2[0][0]']               \n",
            " 000000 (SpatialDropout1D)                                                                        \n",
            "                                                                                                  \n",
            " conv1d_2 (Conv1D)              (None, 128, 128)     16512       ['tnc1_spatial_dropout1d_4_s0_0.0\n",
            "                                                                 00000[0][0]']                    \n",
            "                                                                                                  \n",
            " add_2 (Add)                    (None, 128, 128)     0           ['add_1[0][0]',                  \n",
            "                                                                  'conv1d_2[0][0]']               \n",
            "                                                                                                  \n",
            " tnc1_dilated_conv_8_tanh_s0 (C  (None, 128, 128)    49280       ['add_2[0][0]']                  \n",
            " onv1D)                                                                                           \n",
            "                                                                                                  \n",
            " activation_3 (Activation)      (None, 128, 128)     0           ['tnc1_dilated_conv_8_tanh_s0[0][\n",
            "                                                                 0]']                             \n",
            "                                                                                                  \n",
            " lambda_3 (Lambda)              (None, 128, 128)     0           ['activation_3[0][0]']           \n",
            "                                                                                                  \n",
            " tnc1_spatial_dropout1d_8_s0_0.  (None, 128, 128)    0           ['lambda_3[0][0]']               \n",
            " 000000 (SpatialDropout1D)                                                                        \n",
            "                                                                                                  \n",
            " conv1d_3 (Conv1D)              (None, 128, 128)     16512       ['tnc1_spatial_dropout1d_8_s0_0.0\n",
            "                                                                 00000[0][0]']                    \n",
            "                                                                                                  \n",
            " add_3 (Add)                    (None, 128, 128)     0           ['add_2[0][0]',                  \n",
            "                                                                  'conv1d_3[0][0]']               \n",
            "                                                                                                  \n",
            " tnc1_dilated_conv_16_tanh_s0 (  (None, 128, 128)    49280       ['add_3[0][0]']                  \n",
            " Conv1D)                                                                                          \n",
            "                                                                                                  \n",
            " activation_4 (Activation)      (None, 128, 128)     0           ['tnc1_dilated_conv_16_tanh_s0[0]\n",
            "                                                                 [0]']                            \n",
            "                                                                                                  \n",
            " lambda_4 (Lambda)              (None, 128, 128)     0           ['activation_4[0][0]']           \n",
            "                                                                                                  \n",
            " tnc1_spatial_dropout1d_16_s0_0  (None, 128, 128)    0           ['lambda_4[0][0]']               \n",
            " .000000 (SpatialDropout1D)                                                                       \n",
            "                                                                                                  \n",
            " conv1d_4 (Conv1D)              (None, 128, 128)     16512       ['tnc1_spatial_dropout1d_16_s0_0.\n",
            "                                                                 000000[0][0]']                   \n",
            "                                                                                                  \n",
            " add_5 (Add)                    (None, 128, 128)     0           ['conv1d[0][0]',                 \n",
            "                                                                  'conv1d_1[0][0]',               \n",
            "                                                                  'conv1d_2[0][0]',               \n",
            "                                                                  'conv1d_3[0][0]',               \n",
            "                                                                  'conv1d_4[0][0]']               \n",
            "                                                                                                  \n",
            " activation_5 (Activation)      (None, 128, 128)     0           ['add_5[0][0]']                  \n",
            "                                                                                                  \n",
            " tnc2_initial_conv (Conv1D)     (None, 128, 128)     16512       ['activation_5[0][0]']           \n",
            "                                                                                                  \n",
            " tnc2_dilated_conv_1_tanh_s0 (C  (None, 128, 128)    49280       ['tnc2_initial_conv[0][0]']      \n",
            " onv1D)                                                                                           \n",
            "                                                                                                  \n",
            " activation_6 (Activation)      (None, 128, 128)     0           ['tnc2_dilated_conv_1_tanh_s0[0][\n",
            "                                                                 0]']                             \n",
            "                                                                                                  \n",
            " lambda_5 (Lambda)              (None, 128, 128)     0           ['activation_6[0][0]']           \n",
            "                                                                                                  \n",
            " tnc2_spatial_dropout1d_1_s0_0.  (None, 128, 128)    0           ['lambda_5[0][0]']               \n",
            " 000000 (SpatialDropout1D)                                                                        \n",
            "                                                                                                  \n",
            " conv1d_5 (Conv1D)              (None, 128, 128)     16512       ['tnc2_spatial_dropout1d_1_s0_0.0\n",
            "                                                                 00000[0][0]']                    \n",
            "                                                                                                  \n",
            " add_6 (Add)                    (None, 128, 128)     0           ['tnc2_initial_conv[0][0]',      \n",
            "                                                                  'conv1d_5[0][0]']               \n",
            "                                                                                                  \n",
            " tnc2_dilated_conv_2_tanh_s0 (C  (None, 128, 128)    49280       ['add_6[0][0]']                  \n",
            " onv1D)                                                                                           \n",
            "                                                                                                  \n",
            " activation_7 (Activation)      (None, 128, 128)     0           ['tnc2_dilated_conv_2_tanh_s0[0][\n",
            "                                                                 0]']                             \n",
            "                                                                                                  \n",
            " lambda_6 (Lambda)              (None, 128, 128)     0           ['activation_7[0][0]']           \n",
            "                                                                                                  \n",
            " tnc2_spatial_dropout1d_2_s0_0.  (None, 128, 128)    0           ['lambda_6[0][0]']               \n",
            " 000000 (SpatialDropout1D)                                                                        \n",
            "                                                                                                  \n",
            " conv1d_6 (Conv1D)              (None, 128, 128)     16512       ['tnc2_spatial_dropout1d_2_s0_0.0\n",
            "                                                                 00000[0][0]']                    \n",
            "                                                                                                  \n",
            " add_7 (Add)                    (None, 128, 128)     0           ['add_6[0][0]',                  \n",
            "                                                                  'conv1d_6[0][0]']               \n",
            "                                                                                                  \n",
            " tnc2_dilated_conv_4_tanh_s0 (C  (None, 128, 128)    49280       ['add_7[0][0]']                  \n",
            " onv1D)                                                                                           \n",
            "                                                                                                  \n",
            " activation_8 (Activation)      (None, 128, 128)     0           ['tnc2_dilated_conv_4_tanh_s0[0][\n",
            "                                                                 0]']                             \n",
            "                                                                                                  \n",
            " lambda_7 (Lambda)              (None, 128, 128)     0           ['activation_8[0][0]']           \n",
            "                                                                                                  \n",
            " tnc2_spatial_dropout1d_4_s0_0.  (None, 128, 128)    0           ['lambda_7[0][0]']               \n",
            " 000000 (SpatialDropout1D)                                                                        \n",
            "                                                                                                  \n",
            " conv1d_7 (Conv1D)              (None, 128, 128)     16512       ['tnc2_spatial_dropout1d_4_s0_0.0\n",
            "                                                                 00000[0][0]']                    \n",
            "                                                                                                  \n",
            " add_8 (Add)                    (None, 128, 128)     0           ['add_7[0][0]',                  \n",
            "                                                                  'conv1d_7[0][0]']               \n",
            "                                                                                                  \n",
            " tnc2_dilated_conv_8_tanh_s0 (C  (None, 128, 128)    49280       ['add_8[0][0]']                  \n",
            " onv1D)                                                                                           \n",
            "                                                                                                  \n",
            " activation_9 (Activation)      (None, 128, 128)     0           ['tnc2_dilated_conv_8_tanh_s0[0][\n",
            "                                                                 0]']                             \n",
            "                                                                                                  \n",
            " lambda_8 (Lambda)              (None, 128, 128)     0           ['activation_9[0][0]']           \n",
            "                                                                                                  \n",
            " tnc2_spatial_dropout1d_8_s0_0.  (None, 128, 128)    0           ['lambda_8[0][0]']               \n",
            " 000000 (SpatialDropout1D)                                                                        \n",
            "                                                                                                  \n",
            " conv1d_8 (Conv1D)              (None, 128, 128)     16512       ['tnc2_spatial_dropout1d_8_s0_0.0\n",
            "                                                                 00000[0][0]']                    \n",
            "                                                                                                  \n",
            " add_9 (Add)                    (None, 128, 128)     0           ['add_8[0][0]',                  \n",
            "                                                                  'conv1d_8[0][0]']               \n",
            "                                                                                                  \n",
            " tnc2_dilated_conv_16_tanh_s0 (  (None, 128, 128)    49280       ['add_9[0][0]']                  \n",
            " Conv1D)                                                                                          \n",
            "                                                                                                  \n",
            " activation_10 (Activation)     (None, 128, 128)     0           ['tnc2_dilated_conv_16_tanh_s0[0]\n",
            "                                                                 [0]']                            \n",
            "                                                                                                  \n",
            " lambda_9 (Lambda)              (None, 128, 128)     0           ['activation_10[0][0]']          \n",
            "                                                                                                  \n",
            " tnc2_spatial_dropout1d_16_s0_0  (None, 128, 128)    0           ['lambda_9[0][0]']               \n",
            " .000000 (SpatialDropout1D)                                                                       \n",
            "                                                                                                  \n",
            " conv1d_9 (Conv1D)              (None, 128, 128)     16512       ['tnc2_spatial_dropout1d_16_s0_0.\n",
            "                                                                 000000[0][0]']                   \n",
            "                                                                                                  \n",
            " add_11 (Add)                   (None, 128, 128)     0           ['conv1d_5[0][0]',               \n",
            "                                                                  'conv1d_6[0][0]',               \n",
            "                                                                  'conv1d_7[0][0]',               \n",
            "                                                                  'conv1d_8[0][0]',               \n",
            "                                                                  'conv1d_9[0][0]']               \n",
            "                                                                                                  \n",
            " activation_11 (Activation)     (None, 128, 128)     0           ['add_11[0][0]']                 \n",
            "                                                                                                  \n",
            " global_max_pooling1d (GlobalMa  (None, 128)         0           ['activation_11[0][0]']          \n",
            " xPooling1D)                                                                                      \n",
            "                                                                                                  \n",
            " dense (Dense)                  (None, 128)          16512       ['global_max_pooling1d[0][0]']   \n",
            "                                                                                                  \n",
            " dropout (Dropout)              (None, 128)          0           ['dense[0][0]']                  \n",
            "                                                                                                  \n",
            " dense_1 (Dense)                (None, 118)          15222       ['dropout[0][0]']                \n",
            "                                                                                                  \n",
            "==================================================================================================\n",
            "Total params: 706,678\n",
            "Trainable params: 706,678\n",
            "Non-trainable params: 0\n",
            "__________________________________________________________________________________________________\n"
          ]
        }
      ]
    },
    {
      "cell_type": "code",
      "source": [
        "history = model.fit(x_train, y_train, epochs=200, verbose=True, validation_data=(x_validation, y_validation), batch_size=128,callbacks=callbacks)"
      ],
      "metadata": {
        "colab": {
          "base_uri": "https://localhost:8080/"
        },
        "id": "2R3TgiV_Jacr",
        "outputId": "6f53a069-481d-4398-d161-d2b19b0e8343"
      },
      "execution_count": 9,
      "outputs": [
        {
          "output_type": "stream",
          "name": "stdout",
          "text": [
            "Epoch 1/200\n",
            "166/166 [==============================] - 44s 176ms/step - loss: 3.2663 - accuracy: 0.2546 - val_loss: 1.3197 - val_accuracy: 0.7157\n",
            "Epoch 2/200\n",
            "166/166 [==============================] - 27s 161ms/step - loss: 1.5525 - accuracy: 0.6133 - val_loss: 0.5796 - val_accuracy: 0.8614\n",
            "Epoch 3/200\n",
            "166/166 [==============================] - 27s 160ms/step - loss: 1.0363 - accuracy: 0.7378 - val_loss: 0.3908 - val_accuracy: 0.9101\n",
            "Epoch 4/200\n",
            "166/166 [==============================] - 27s 160ms/step - loss: 0.8252 - accuracy: 0.7915 - val_loss: 0.3654 - val_accuracy: 0.9107\n",
            "Epoch 5/200\n",
            "166/166 [==============================] - 27s 160ms/step - loss: 0.6963 - accuracy: 0.8208 - val_loss: 0.3209 - val_accuracy: 0.9152\n",
            "Epoch 6/200\n",
            "166/166 [==============================] - 27s 164ms/step - loss: 0.6086 - accuracy: 0.8434 - val_loss: 0.3047 - val_accuracy: 0.9143\n",
            "Epoch 7/200\n",
            "166/166 [==============================] - 26s 160ms/step - loss: 0.5370 - accuracy: 0.8604 - val_loss: 0.2206 - val_accuracy: 0.9458\n",
            "Epoch 8/200\n",
            "166/166 [==============================] - 27s 164ms/step - loss: 0.4848 - accuracy: 0.8742 - val_loss: 0.2584 - val_accuracy: 0.9285\n",
            "Epoch 9/200\n",
            "166/166 [==============================] - 27s 160ms/step - loss: 0.4541 - accuracy: 0.8816 - val_loss: 0.1903 - val_accuracy: 0.9505\n",
            "Epoch 10/200\n",
            "166/166 [==============================] - 26s 160ms/step - loss: 0.4199 - accuracy: 0.8906 - val_loss: 0.2147 - val_accuracy: 0.9422\n",
            "Epoch 11/200\n",
            "166/166 [==============================] - 26s 160ms/step - loss: 0.3963 - accuracy: 0.8973 - val_loss: 0.2355 - val_accuracy: 0.9341\n",
            "Epoch 12/200\n",
            "166/166 [==============================] - 26s 160ms/step - loss: 0.3712 - accuracy: 0.9023 - val_loss: 0.2779 - val_accuracy: 0.9232\n",
            "Epoch 13/200\n",
            "166/166 [==============================] - 27s 160ms/step - loss: 0.3436 - accuracy: 0.9082 - val_loss: 0.1888 - val_accuracy: 0.9492\n",
            "Epoch 14/200\n",
            "166/166 [==============================] - 27s 160ms/step - loss: 0.3382 - accuracy: 0.9102 - val_loss: 0.1598 - val_accuracy: 0.9554\n",
            "Epoch 15/200\n",
            "166/166 [==============================] - 26s 160ms/step - loss: 0.3381 - accuracy: 0.9105 - val_loss: 0.1748 - val_accuracy: 0.9539\n",
            "Epoch 16/200\n",
            "166/166 [==============================] - 26s 160ms/step - loss: 0.3206 - accuracy: 0.9156 - val_loss: 0.1779 - val_accuracy: 0.9517\n",
            "Epoch 17/200\n",
            "166/166 [==============================] - 27s 160ms/step - loss: 0.2954 - accuracy: 0.9222 - val_loss: 0.1496 - val_accuracy: 0.9588\n",
            "Epoch 18/200\n",
            "166/166 [==============================] - 26s 160ms/step - loss: 0.2947 - accuracy: 0.9216 - val_loss: 0.1414 - val_accuracy: 0.9647\n",
            "Epoch 19/200\n",
            "166/166 [==============================] - 27s 164ms/step - loss: 0.2941 - accuracy: 0.9213 - val_loss: 0.1559 - val_accuracy: 0.9590\n",
            "Epoch 20/200\n",
            "166/166 [==============================] - 26s 160ms/step - loss: 0.2693 - accuracy: 0.9285 - val_loss: 0.2265 - val_accuracy: 0.9335\n",
            "Epoch 21/200\n",
            "166/166 [==============================] - 27s 160ms/step - loss: 0.2655 - accuracy: 0.9280 - val_loss: 0.1457 - val_accuracy: 0.9613\n",
            "Epoch 22/200\n",
            "166/166 [==============================] - 27s 160ms/step - loss: 0.2666 - accuracy: 0.9300 - val_loss: 0.1536 - val_accuracy: 0.9590\n",
            "Epoch 23/200\n",
            "166/166 [==============================] - 27s 160ms/step - loss: 0.2552 - accuracy: 0.9328 - val_loss: 0.1342 - val_accuracy: 0.9651\n",
            "Epoch 24/200\n",
            "166/166 [==============================] - 27s 160ms/step - loss: 0.2540 - accuracy: 0.9319 - val_loss: 0.1959 - val_accuracy: 0.9451\n",
            "Epoch 25/200\n",
            "166/166 [==============================] - 27s 160ms/step - loss: 0.2469 - accuracy: 0.9336 - val_loss: 0.1632 - val_accuracy: 0.9549\n",
            "Epoch 26/200\n",
            "166/166 [==============================] - 27s 160ms/step - loss: 0.2378 - accuracy: 0.9371 - val_loss: 0.1794 - val_accuracy: 0.9517\n",
            "Epoch 27/200\n",
            "166/166 [==============================] - 27s 160ms/step - loss: 0.2228 - accuracy: 0.9413 - val_loss: 0.1419 - val_accuracy: 0.9609\n",
            "Epoch 28/200\n",
            "166/166 [==============================] - 26s 159ms/step - loss: 0.2364 - accuracy: 0.9372 - val_loss: 0.1661 - val_accuracy: 0.9583\n"
          ]
        }
      ]
    },
    {
      "cell_type": "code",
      "source": [
        "loss, accuracy = model.evaluate(x_validation, y_validation, verbose=False)\n",
        "print(\"Validation Accuracy:  {:.4f}\".format(accuracy))\n",
        "loss, accuracy = model.evaluate(x_test, y_test, verbose=False)\n",
        "print(\"Testing Accuracy: {:.4f}\".format(accuracy))"
      ],
      "metadata": {
        "colab": {
          "base_uri": "https://localhost:8080/"
        },
        "id": "aYJjjZpLJabM",
        "outputId": "b5f01efe-10eb-403e-f080-dc95bf9b0110"
      },
      "execution_count": 10,
      "outputs": [
        {
          "output_type": "stream",
          "name": "stdout",
          "text": [
            "Validation Accuracy:  0.9651\n",
            "Testing Accuracy: 0.9131\n"
          ]
        }
      ]
    },
    {
      "cell_type": "code",
      "source": [
        "from matplotlib import pyplot as plt\n",
        "plt.plot(history.history[\"loss\"], label=\"Training Loss\")\n",
        "plt.plot(history.history[\"val_loss\"], label=\"Validation Loss\")\n",
        "plt.legend()\n",
        "plt.show()\n",
        "from matplotlib import pyplot as plt\n",
        "plt.plot(history.history[\"accuracy\"], label=\"Training accuracy\")\n",
        "plt.plot(history.history[\"val_accuracy\"], label=\"Validation accuracy\")\n",
        "plt.legend()\n",
        "plt.show()"
      ],
      "metadata": {
        "colab": {
          "base_uri": "https://localhost:8080/",
          "height": 517
        },
        "id": "LPjE6rRiJaXK",
        "outputId": "46e9d0a7-a05d-4d84-f0f0-86aad9973108"
      },
      "execution_count": 11,
      "outputs": [
        {
          "output_type": "display_data",
          "data": {
            "image/png": "[encoded data removed]",
            "text/plain": [
              "<Figure size 432x288 with 1 Axes>"
            ]
          },
          "metadata": {
            "needs_background": "light"
          }
        },
        {
          "output_type": "display_data",
          "data": {
            "image/png": "[encoded data removed]",
            "text/plain": [
              "<Figure size 432x288 with 1 Axes>"
            ]
          },
          "metadata": {
            "needs_background": "light"
          }
        }
      ]
    },
    {
      "cell_type": "code",
      "source": [
        "y_train = keras.utils.to_categorical(y_train, num_classes)\n",
        "y_test = keras.utils.to_categorical(y_test, num_classes)\n",
        "for train_ix, test_ix in kfold.split(x_validation, y_validation):\n",
        "\t# select rows\n",
        "\tx_train, x_test = x_validation[train_ix], x_validation[test_ix]\n",
        "\ty_train, y_test = y_validation[train_ix], y_validation[test_ix]\n",
        "\t# summarize train and test composition\n",
        "\ttrain_0, train_1 = len(y_train[y_train==0]), len(y_train[y_train==1])\n",
        "\ttest_0, test_1 = len(y_test[y_test==0]), len(y_test[y_test==1])\n",
        "\tprint('>Train: 0=%d, 1=%d, Test: 0=%d, 1=%d' % (train_0, train_1, test_0, test_1))"
      ],
      "metadata": {
        "colab": {
          "base_uri": "https://localhost:8080/",
          "height": 246
        },
        "id": "VVQGdFeWqJIr",
        "outputId": "7f72b227-3509-40f7-c1ad-63eea6acd05e"
      },
      "execution_count": 22,
      "outputs": [
        {
          "output_type": "error",
          "ename": "AttributeError",
          "evalue": "ignored",
          "traceback": [
            "\u001b[0;31m---------------------------------------------------------------------------\u001b[0m",
            "\u001b[0;31mAttributeError\u001b[0m                            Traceback (most recent call last)",
            "\u001b[0;32m<ipython-input-22-4755d18497df>\u001b[0m in \u001b[0;36m<module>\u001b[0;34m()\u001b[0m\n\u001b[0;32m----> 1\u001b[0;31m \u001b[0my_train\u001b[0m \u001b[0;34m=\u001b[0m \u001b[0mkeras\u001b[0m\u001b[0;34m.\u001b[0m\u001b[0mutils\u001b[0m\u001b[0;34m.\u001b[0m\u001b[0mto_categorical\u001b[0m\u001b[0;34m(\u001b[0m\u001b[0my_train\u001b[0m\u001b[0;34m,\u001b[0m \u001b[0mnum_classes\u001b[0m\u001b[0;34m)\u001b[0m\u001b[0;34m\u001b[0m\u001b[0;34m\u001b[0m\u001b[0m\n\u001b[0m\u001b[1;32m      2\u001b[0m \u001b[0my_test\u001b[0m \u001b[0;34m=\u001b[0m \u001b[0mkeras\u001b[0m\u001b[0;34m.\u001b[0m\u001b[0mutils\u001b[0m\u001b[0;34m.\u001b[0m\u001b[0mto_categorical\u001b[0m\u001b[0;34m(\u001b[0m\u001b[0my_test\u001b[0m\u001b[0;34m,\u001b[0m \u001b[0mnum_classes\u001b[0m\u001b[0;34m)\u001b[0m\u001b[0;34m\u001b[0m\u001b[0;34m\u001b[0m\u001b[0m\n\u001b[1;32m      3\u001b[0m \u001b[0;32mfor\u001b[0m \u001b[0mtrain_ix\u001b[0m\u001b[0;34m,\u001b[0m \u001b[0mtest_ix\u001b[0m \u001b[0;32min\u001b[0m \u001b[0mkfold\u001b[0m\u001b[0;34m.\u001b[0m\u001b[0msplit\u001b[0m\u001b[0;34m(\u001b[0m\u001b[0mx_validation\u001b[0m\u001b[0;34m,\u001b[0m \u001b[0my_validation\u001b[0m\u001b[0;34m)\u001b[0m\u001b[0;34m:\u001b[0m\u001b[0;34m\u001b[0m\u001b[0;34m\u001b[0m\u001b[0m\n\u001b[1;32m      4\u001b[0m         \u001b[0;31m# select rows\u001b[0m\u001b[0;34m\u001b[0m\u001b[0;34m\u001b[0m\u001b[0;34m\u001b[0m\u001b[0m\n\u001b[1;32m      5\u001b[0m         \u001b[0mx_train\u001b[0m\u001b[0;34m,\u001b[0m \u001b[0mx_test\u001b[0m \u001b[0;34m=\u001b[0m \u001b[0mx_validation\u001b[0m\u001b[0;34m[\u001b[0m\u001b[0mtrain_ix\u001b[0m\u001b[0;34m]\u001b[0m\u001b[0;34m,\u001b[0m \u001b[0mx_validation\u001b[0m\u001b[0;34m[\u001b[0m\u001b[0mtest_ix\u001b[0m\u001b[0;34m]\u001b[0m\u001b[0;34m\u001b[0m\u001b[0;34m\u001b[0m\u001b[0m\n",
            "\u001b[0;31mAttributeError\u001b[0m: module 'keras.utils' has no attribute 'to_categorical'"
          ]
        }
      ]
    },
    {
      "cell_type": "code",
      "source": [
        "x = x_validation                        \n",
        " \n",
        "# Input_ y_Target_Variable.\n",
        "y = y_validation                     \n",
        "   \n",
        "nsamples, nx, ny = x_train.shape\n",
        "d2_train_dataset = x_train.reshape((nsamples,nx*ny))\n",
        "# Feature Scaling for input features.\n",
        "scaler = preprocessing.MinMaxScaler()\n",
        "x_scaled = scaler.fit_transform(x)\n",
        "  \n",
        "# Create  classifier object.\n",
        "lr = linear_model.LogisticRegression()\n",
        "  \n",
        "# Create StratifiedKFold object.\n",
        "skf = StratifiedKFold(n_splits=10, shuffle=True, random_state=1)\n",
        "lst_accu_stratified = []\n",
        "  \n",
        "for train_index, test_index in skf.split(x, y):\n",
        "    x_train, x_test = x_scaled[train_index], x_scaled[test_index]\n",
        "    y_train, y_test = y[train_index], y[test_index]\n",
        "    lr.fit(x_train, y_train)\n",
        "    lst_accu_stratified.append(lr.score(x_test, y_test))\n",
        "  \n",
        "# Print the output.\n",
        "print('List of possible accuracy:', lst_accu_stratified)\n",
        "print('\\nMaximum Accuracy That can be obtained from this model is:',\n",
        "      max(lst_accu_stratified)*100, '%')\n",
        "print('\\nMinimum Accuracy:',\n",
        "      min(lst_accu_stratified)*100, '%')\n",
        "print('\\nOverall Accuracy:',\n",
        "      mean(lst_accu_stratified)*100, '%')\n",
        "print('\\nStandard Deviation is:', stdev(lst_accu_stratified))"
      ],
      "metadata": {
        "colab": {
          "base_uri": "https://localhost:8080/",
          "height": 417
        },
        "id": "4oelLwBwJaVm",
        "outputId": "66fe065a-c3bb-48e2-aab1-aefcb28f01bb"
      },
      "execution_count": 15,
      "outputs": [
        {
          "output_type": "error",
          "ename": "ValueError",
          "evalue": "ignored",
          "traceback": [
            "\u001b[0;31m---------------------------------------------------------------------------\u001b[0m",
            "\u001b[0;31mValueError\u001b[0m                                Traceback (most recent call last)",
            "\u001b[0;32m<ipython-input-15-c49334db566e>\u001b[0m in \u001b[0;36m<module>\u001b[0;34m()\u001b[0m\n\u001b[1;32m      8\u001b[0m \u001b[0;31m# Feature Scaling for input features.\u001b[0m\u001b[0;34m\u001b[0m\u001b[0;34m\u001b[0m\u001b[0;34m\u001b[0m\u001b[0m\n\u001b[1;32m      9\u001b[0m \u001b[0mscaler\u001b[0m \u001b[0;34m=\u001b[0m \u001b[0mpreprocessing\u001b[0m\u001b[0;34m.\u001b[0m\u001b[0mMinMaxScaler\u001b[0m\u001b[0;34m(\u001b[0m\u001b[0;34m)\u001b[0m\u001b[0;34m\u001b[0m\u001b[0;34m\u001b[0m\u001b[0m\n\u001b[0;32m---> 10\u001b[0;31m \u001b[0mx_scaled\u001b[0m \u001b[0;34m=\u001b[0m \u001b[0mscaler\u001b[0m\u001b[0;34m.\u001b[0m\u001b[0mfit_transform\u001b[0m\u001b[0;34m(\u001b[0m\u001b[0mx\u001b[0m\u001b[0;34m)\u001b[0m\u001b[0;34m\u001b[0m\u001b[0;34m\u001b[0m\u001b[0m\n\u001b[0m\u001b[1;32m     11\u001b[0m \u001b[0;34m\u001b[0m\u001b[0m\n\u001b[1;32m     12\u001b[0m \u001b[0;31m# Create  classifier object.\u001b[0m\u001b[0;34m\u001b[0m\u001b[0;34m\u001b[0m\u001b[0;34m\u001b[0m\u001b[0m\n",
            "\u001b[0;32m/usr/local/lib/python3.7/dist-packages/sklearn/base.py\u001b[0m in \u001b[0;36mfit_transform\u001b[0;34m(self, X, y, **fit_params)\u001b[0m\n\u001b[1;32m    850\u001b[0m         \u001b[0;32mif\u001b[0m \u001b[0my\u001b[0m \u001b[0;32mis\u001b[0m \u001b[0;32mNone\u001b[0m\u001b[0;34m:\u001b[0m\u001b[0;34m\u001b[0m\u001b[0;34m\u001b[0m\u001b[0m\n\u001b[1;32m    851\u001b[0m             \u001b[0;31m# fit method of arity 1 (unsupervised transformation)\u001b[0m\u001b[0;34m\u001b[0m\u001b[0;34m\u001b[0m\u001b[0;34m\u001b[0m\u001b[0m\n\u001b[0;32m--> 852\u001b[0;31m             \u001b[0;32mreturn\u001b[0m \u001b[0mself\u001b[0m\u001b[0;34m.\u001b[0m\u001b[0mfit\u001b[0m\u001b[0;34m(\u001b[0m\u001b[0mX\u001b[0m\u001b[0;34m,\u001b[0m \u001b[0;34m**\u001b[0m\u001b[0mfit_params\u001b[0m\u001b[0;34m)\u001b[0m\u001b[0;34m.\u001b[0m\u001b[0mtransform\u001b[0m\u001b[0;34m(\u001b[0m\u001b[0mX\u001b[0m\u001b[0;34m)\u001b[0m\u001b[0;34m\u001b[0m\u001b[0;34m\u001b[0m\u001b[0m\n\u001b[0m\u001b[1;32m    853\u001b[0m         \u001b[0;32melse\u001b[0m\u001b[0;34m:\u001b[0m\u001b[0;34m\u001b[0m\u001b[0;34m\u001b[0m\u001b[0m\n\u001b[1;32m    854\u001b[0m             \u001b[0;31m# fit method of arity 2 (supervised transformation)\u001b[0m\u001b[0;34m\u001b[0m\u001b[0;34m\u001b[0m\u001b[0;34m\u001b[0m\u001b[0m\n",
            "\u001b[0;32m/usr/local/lib/python3.7/dist-packages/sklearn/preprocessing/_data.py\u001b[0m in \u001b[0;36mfit\u001b[0;34m(self, X, y)\u001b[0m\n\u001b[1;32m    414\u001b[0m         \u001b[0;31m# Reset internal state before fitting\u001b[0m\u001b[0;34m\u001b[0m\u001b[0;34m\u001b[0m\u001b[0;34m\u001b[0m\u001b[0m\n\u001b[1;32m    415\u001b[0m         \u001b[0mself\u001b[0m\u001b[0;34m.\u001b[0m\u001b[0m_reset\u001b[0m\u001b[0;34m(\u001b[0m\u001b[0;34m)\u001b[0m\u001b[0;34m\u001b[0m\u001b[0;34m\u001b[0m\u001b[0m\n\u001b[0;32m--> 416\u001b[0;31m         \u001b[0;32mreturn\u001b[0m \u001b[0mself\u001b[0m\u001b[0;34m.\u001b[0m\u001b[0mpartial_fit\u001b[0m\u001b[0;34m(\u001b[0m\u001b[0mX\u001b[0m\u001b[0;34m,\u001b[0m \u001b[0my\u001b[0m\u001b[0;34m)\u001b[0m\u001b[0;34m\u001b[0m\u001b[0;34m\u001b[0m\u001b[0m\n\u001b[0m\u001b[1;32m    417\u001b[0m \u001b[0;34m\u001b[0m\u001b[0m\n\u001b[1;32m    418\u001b[0m     \u001b[0;32mdef\u001b[0m \u001b[0mpartial_fit\u001b[0m\u001b[0;34m(\u001b[0m\u001b[0mself\u001b[0m\u001b[0;34m,\u001b[0m \u001b[0mX\u001b[0m\u001b[0;34m,\u001b[0m \u001b[0my\u001b[0m\u001b[0;34m=\u001b[0m\u001b[0;32mNone\u001b[0m\u001b[0;34m)\u001b[0m\u001b[0;34m:\u001b[0m\u001b[0;34m\u001b[0m\u001b[0;34m\u001b[0m\u001b[0m\n",
            "\u001b[0;32m/usr/local/lib/python3.7/dist-packages/sklearn/preprocessing/_data.py\u001b[0m in \u001b[0;36mpartial_fit\u001b[0;34m(self, X, y)\u001b[0m\n\u001b[1;32m    456\u001b[0m             \u001b[0mestimator\u001b[0m\u001b[0;34m=\u001b[0m\u001b[0mself\u001b[0m\u001b[0;34m,\u001b[0m\u001b[0;34m\u001b[0m\u001b[0;34m\u001b[0m\u001b[0m\n\u001b[1;32m    457\u001b[0m             \u001b[0mdtype\u001b[0m\u001b[0;34m=\u001b[0m\u001b[0mFLOAT_DTYPES\u001b[0m\u001b[0;34m,\u001b[0m\u001b[0;34m\u001b[0m\u001b[0;34m\u001b[0m\u001b[0m\n\u001b[0;32m--> 458\u001b[0;31m             \u001b[0mforce_all_finite\u001b[0m\u001b[0;34m=\u001b[0m\u001b[0;34m\"allow-nan\"\u001b[0m\u001b[0;34m,\u001b[0m\u001b[0;34m\u001b[0m\u001b[0;34m\u001b[0m\u001b[0m\n\u001b[0m\u001b[1;32m    459\u001b[0m         )\n\u001b[1;32m    460\u001b[0m \u001b[0;34m\u001b[0m\u001b[0m\n",
            "\u001b[0;32m/usr/local/lib/python3.7/dist-packages/sklearn/base.py\u001b[0m in \u001b[0;36m_validate_data\u001b[0;34m(self, X, y, reset, validate_separately, **check_params)\u001b[0m\n\u001b[1;32m    564\u001b[0m             \u001b[0;32mraise\u001b[0m \u001b[0mValueError\u001b[0m\u001b[0;34m(\u001b[0m\u001b[0;34m\"Validation should be done on X, y or both.\"\u001b[0m\u001b[0;34m)\u001b[0m\u001b[0;34m\u001b[0m\u001b[0;34m\u001b[0m\u001b[0m\n\u001b[1;32m    565\u001b[0m         \u001b[0;32melif\u001b[0m \u001b[0;32mnot\u001b[0m \u001b[0mno_val_X\u001b[0m \u001b[0;32mand\u001b[0m \u001b[0mno_val_y\u001b[0m\u001b[0;34m:\u001b[0m\u001b[0;34m\u001b[0m\u001b[0;34m\u001b[0m\u001b[0m\n\u001b[0;32m--> 566\u001b[0;31m             \u001b[0mX\u001b[0m \u001b[0;34m=\u001b[0m \u001b[0mcheck_array\u001b[0m\u001b[0;34m(\u001b[0m\u001b[0mX\u001b[0m\u001b[0;34m,\u001b[0m \u001b[0;34m**\u001b[0m\u001b[0mcheck_params\u001b[0m\u001b[0;34m)\u001b[0m\u001b[0;34m\u001b[0m\u001b[0;34m\u001b[0m\u001b[0m\n\u001b[0m\u001b[1;32m    567\u001b[0m             \u001b[0mout\u001b[0m \u001b[0;34m=\u001b[0m \u001b[0mX\u001b[0m\u001b[0;34m\u001b[0m\u001b[0;34m\u001b[0m\u001b[0m\n\u001b[1;32m    568\u001b[0m         \u001b[0;32melif\u001b[0m \u001b[0mno_val_X\u001b[0m \u001b[0;32mand\u001b[0m \u001b[0;32mnot\u001b[0m \u001b[0mno_val_y\u001b[0m\u001b[0;34m:\u001b[0m\u001b[0;34m\u001b[0m\u001b[0;34m\u001b[0m\u001b[0m\n",
            "\u001b[0;32m/usr/local/lib/python3.7/dist-packages/sklearn/utils/validation.py\u001b[0m in \u001b[0;36mcheck_array\u001b[0;34m(array, accept_sparse, accept_large_sparse, dtype, order, copy, force_all_finite, ensure_2d, allow_nd, ensure_min_samples, ensure_min_features, estimator)\u001b[0m\n\u001b[1;32m    794\u001b[0m             raise ValueError(\n\u001b[1;32m    795\u001b[0m                 \u001b[0;34m\"Found array with dim %d. %s expected <= 2.\"\u001b[0m\u001b[0;34m\u001b[0m\u001b[0;34m\u001b[0m\u001b[0m\n\u001b[0;32m--> 796\u001b[0;31m                 \u001b[0;34m%\u001b[0m \u001b[0;34m(\u001b[0m\u001b[0marray\u001b[0m\u001b[0;34m.\u001b[0m\u001b[0mndim\u001b[0m\u001b[0;34m,\u001b[0m \u001b[0mestimator_name\u001b[0m\u001b[0;34m)\u001b[0m\u001b[0;34m\u001b[0m\u001b[0;34m\u001b[0m\u001b[0m\n\u001b[0m\u001b[1;32m    797\u001b[0m             )\n\u001b[1;32m    798\u001b[0m \u001b[0;34m\u001b[0m\u001b[0m\n",
            "\u001b[0;31mValueError\u001b[0m: Found array with dim 3. MinMaxScaler expected <= 2."
          ]
        }
      ]
    }
  ]
}