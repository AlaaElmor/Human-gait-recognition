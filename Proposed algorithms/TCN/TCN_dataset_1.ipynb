{
  "nbformat": 4,
  "nbformat_minor": 0,
  "metadata": {
    "colab": {
      "name": "TCN.ipynb",
      "provenance": []
    },
    "kernelspec": {
      "name": "python3",
      "display_name": "Python 3"
    },
    "language_info": {
      "name": "python"
    },
    "accelerator": "GPU"
  },
  "cells": [
    {
      "cell_type": "code",
      "execution_count": 4,
      "metadata": {
        "colab": {
          "base_uri": "https://localhost:8080/"
        },
        "id": "YQFREF7L5GqL",
        "outputId": "594e9aea-05ca-4c8d-8049-59fd51ce3314"
      },
      "outputs": [
        {
          "output_type": "stream",
          "name": "stdout",
          "text": [
            "Requirement already satisfied: keras-tcn in /usr/local/lib/python3.7/dist-packages (3.4.2)\n",
            "Requirement already satisfied: tensorflow-addons in /usr/local/lib/python3.7/dist-packages (from keras-tcn) (0.15.0)\n",
            "Requirement already satisfied: numpy in /usr/local/lib/python3.7/dist-packages (from keras-tcn) (1.19.5)\n",
            "Requirement already satisfied: tensorflow in /usr/local/lib/python3.7/dist-packages (from keras-tcn) (2.7.0)\n",
            "Requirement already satisfied: libclang>=9.0.1 in /usr/local/lib/python3.7/dist-packages (from tensorflow->keras-tcn) (13.0.0)\n",
            "Requirement already satisfied: tensorflow-io-gcs-filesystem>=0.21.0 in /usr/local/lib/python3.7/dist-packages (from tensorflow->keras-tcn) (0.24.0)\n",
            "Requirement already satisfied: wheel<1.0,>=0.32.0 in /usr/local/lib/python3.7/dist-packages (from tensorflow->keras-tcn) (0.37.1)\n",
            "Requirement already satisfied: h5py>=2.9.0 in /usr/local/lib/python3.7/dist-packages (from tensorflow->keras-tcn) (3.1.0)\n",
            "Requirement already satisfied: tensorboard~=2.6 in /usr/local/lib/python3.7/dist-packages (from tensorflow->keras-tcn) (2.7.0)\n",
            "Requirement already satisfied: tensorflow-estimator<2.8,~=2.7.0rc0 in /usr/local/lib/python3.7/dist-packages (from tensorflow->keras-tcn) (2.7.0)\n",
            "Requirement already satisfied: astunparse>=1.6.0 in /usr/local/lib/python3.7/dist-packages (from tensorflow->keras-tcn) (1.6.3)\n",
            "Requirement already satisfied: six>=1.12.0 in /usr/local/lib/python3.7/dist-packages (from tensorflow->keras-tcn) (1.15.0)\n",
            "Requirement already satisfied: keras<2.8,>=2.7.0rc0 in /usr/local/lib/python3.7/dist-packages (from tensorflow->keras-tcn) (2.7.0)\n",
            "Requirement already satisfied: wrapt>=1.11.0 in /usr/local/lib/python3.7/dist-packages (from tensorflow->keras-tcn) (1.13.3)\n",
            "Requirement already satisfied: google-pasta>=0.1.1 in /usr/local/lib/python3.7/dist-packages (from tensorflow->keras-tcn) (0.2.0)\n",
            "Requirement already satisfied: opt-einsum>=2.3.2 in /usr/local/lib/python3.7/dist-packages (from tensorflow->keras-tcn) (3.3.0)\n",
            "Requirement already satisfied: termcolor>=1.1.0 in /usr/local/lib/python3.7/dist-packages (from tensorflow->keras-tcn) (1.1.0)\n",
            "Requirement already satisfied: gast<0.5.0,>=0.2.1 in /usr/local/lib/python3.7/dist-packages (from tensorflow->keras-tcn) (0.4.0)\n",
            "Requirement already satisfied: grpcio<2.0,>=1.24.3 in /usr/local/lib/python3.7/dist-packages (from tensorflow->keras-tcn) (1.43.0)\n",
            "Requirement already satisfied: keras-preprocessing>=1.1.1 in /usr/local/lib/python3.7/dist-packages (from tensorflow->keras-tcn) (1.1.2)\n",
            "Requirement already satisfied: typing-extensions>=3.6.6 in /usr/local/lib/python3.7/dist-packages (from tensorflow->keras-tcn) (3.10.0.2)\n",
            "Requirement already satisfied: flatbuffers<3.0,>=1.12 in /usr/local/lib/python3.7/dist-packages (from tensorflow->keras-tcn) (2.0)\n",
            "Requirement already satisfied: absl-py>=0.4.0 in /usr/local/lib/python3.7/dist-packages (from tensorflow->keras-tcn) (1.0.0)\n",
            "Requirement already satisfied: protobuf>=3.9.2 in /usr/local/lib/python3.7/dist-packages (from tensorflow->keras-tcn) (3.17.3)\n",
            "Requirement already satisfied: cached-property in /usr/local/lib/python3.7/dist-packages (from h5py>=2.9.0->tensorflow->keras-tcn) (1.5.2)\n",
            "Requirement already satisfied: google-auth-oauthlib<0.5,>=0.4.1 in /usr/local/lib/python3.7/dist-packages (from tensorboard~=2.6->tensorflow->keras-tcn) (0.4.6)\n",
            "Requirement already satisfied: requests<3,>=2.21.0 in /usr/local/lib/python3.7/dist-packages (from tensorboard~=2.6->tensorflow->keras-tcn) (2.23.0)\n",
            "Requirement already satisfied: setuptools>=41.0.0 in /usr/local/lib/python3.7/dist-packages (from tensorboard~=2.6->tensorflow->keras-tcn) (57.4.0)\n",
            "Requirement already satisfied: markdown>=2.6.8 in /usr/local/lib/python3.7/dist-packages (from tensorboard~=2.6->tensorflow->keras-tcn) (3.3.6)\n",
            "Requirement already satisfied: google-auth<3,>=1.6.3 in /usr/local/lib/python3.7/dist-packages (from tensorboard~=2.6->tensorflow->keras-tcn) (1.35.0)\n",
            "Requirement already satisfied: werkzeug>=0.11.15 in /usr/local/lib/python3.7/dist-packages (from tensorboard~=2.6->tensorflow->keras-tcn) (1.0.1)\n",
            "Requirement already satisfied: tensorboard-data-server<0.7.0,>=0.6.0 in /usr/local/lib/python3.7/dist-packages (from tensorboard~=2.6->tensorflow->keras-tcn) (0.6.1)\n",
            "Requirement already satisfied: tensorboard-plugin-wit>=1.6.0 in /usr/local/lib/python3.7/dist-packages (from tensorboard~=2.6->tensorflow->keras-tcn) (1.8.1)\n",
            "Requirement already satisfied: rsa<5,>=3.1.4 in /usr/local/lib/python3.7/dist-packages (from google-auth<3,>=1.6.3->tensorboard~=2.6->tensorflow->keras-tcn) (4.8)\n",
            "Requirement already satisfied: pyasn1-modules>=0.2.1 in /usr/local/lib/python3.7/dist-packages (from google-auth<3,>=1.6.3->tensorboard~=2.6->tensorflow->keras-tcn) (0.2.8)\n",
            "Requirement already satisfied: cachetools<5.0,>=2.0.0 in /usr/local/lib/python3.7/dist-packages (from google-auth<3,>=1.6.3->tensorboard~=2.6->tensorflow->keras-tcn) (4.2.4)\n",
            "Requirement already satisfied: requests-oauthlib>=0.7.0 in /usr/local/lib/python3.7/dist-packages (from google-auth-oauthlib<0.5,>=0.4.1->tensorboard~=2.6->tensorflow->keras-tcn) (1.3.1)\n",
            "Requirement already satisfied: importlib-metadata>=4.4 in /usr/local/lib/python3.7/dist-packages (from markdown>=2.6.8->tensorboard~=2.6->tensorflow->keras-tcn) (4.10.1)\n",
            "Requirement already satisfied: zipp>=0.5 in /usr/local/lib/python3.7/dist-packages (from importlib-metadata>=4.4->markdown>=2.6.8->tensorboard~=2.6->tensorflow->keras-tcn) (3.7.0)\n",
            "Requirement already satisfied: pyasn1<0.5.0,>=0.4.6 in /usr/local/lib/python3.7/dist-packages (from pyasn1-modules>=0.2.1->google-auth<3,>=1.6.3->tensorboard~=2.6->tensorflow->keras-tcn) (0.4.8)\n",
            "Requirement already satisfied: chardet<4,>=3.0.2 in /usr/local/lib/python3.7/dist-packages (from requests<3,>=2.21.0->tensorboard~=2.6->tensorflow->keras-tcn) (3.0.4)\n",
            "Requirement already satisfied: urllib3!=1.25.0,!=1.25.1,<1.26,>=1.21.1 in /usr/local/lib/python3.7/dist-packages (from requests<3,>=2.21.0->tensorboard~=2.6->tensorflow->keras-tcn) (1.24.3)\n",
            "Requirement already satisfied: idna<3,>=2.5 in /usr/local/lib/python3.7/dist-packages (from requests<3,>=2.21.0->tensorboard~=2.6->tensorflow->keras-tcn) (2.10)\n",
            "Requirement already satisfied: certifi>=2017.4.17 in /usr/local/lib/python3.7/dist-packages (from requests<3,>=2.21.0->tensorboard~=2.6->tensorflow->keras-tcn) (2021.10.8)\n",
            "Requirement already satisfied: oauthlib>=3.0.0 in /usr/local/lib/python3.7/dist-packages (from requests-oauthlib>=0.7.0->google-auth-oauthlib<0.5,>=0.4.1->tensorboard~=2.6->tensorflow->keras-tcn) (3.2.0)\n",
            "Requirement already satisfied: typeguard>=2.7 in /usr/local/lib/python3.7/dist-packages (from tensorflow-addons->keras-tcn) (2.7.1)\n"
          ]
        }
      ],
      "source": [
        "from numpy import save, load\n",
        "from pandas import read_csv\n",
        "from keras.layers import Dense\n",
        "from keras.layers import Flatten\n",
        "from keras.layers import Dropout\n",
        "from keras import Model\n",
        "from keras.layers import Conv1D, SpatialDropout1D\n",
        "from keras.layers import Convolution1D, Dense\n",
        "from keras.models import Input, Model\n",
        "from keras.layers import LSTM, Conv1D, concatenate,GlobalMaxPooling1D,GlobalAveragePooling1D,TimeDistributed, MaxPooling1D\n",
        "import tensorflow as tf\n",
        "import numpy as np\n",
        "!pip install keras-tcn\n",
        "from tcn import TCN"
      ]
    },
    {
      "cell_type": "code",
      "source": [
        "from google.colab import drive\n",
        "drive.mount('/content/drive')\n",
        "\n",
        "from google.colab import drive\n",
        "\n",
        "drive.mount('/content/gdrive')\n",
        "root_path = 'gdrive/My Drive/'  #change dir to your project folder\n",
        "\n",
        "import numpy as np\n",
        "x_train = np.load('gdrive/My Drive/dataset1/acc+gyr/trainX.npy')\n",
        "y_train = np.load('gdrive/My Drive/dataset1/acc+gyr/trainy.npy')\n",
        "x_test = np.load('gdrive/My Drive/dataset1/acc+gyr/testX.npy')\n",
        "y_test = np.load('gdrive/My Drive/dataset1/acc+gyr/testy.npy')\n",
        "print(x_train.shape, y_train.shape, x_test.shape, y_test.shape)"
      ],
      "metadata": {
        "colab": {
          "base_uri": "https://localhost:8080/"
        },
        "id": "mxaKZAFk5TvK",
        "outputId": "735fb706-c41c-433e-b098-4d261b8842b0"
      },
      "execution_count": 53,
      "outputs": [
        {
          "output_type": "stream",
          "name": "stdout",
          "text": [
            "Mounted at /content/drive\n",
            "Mounted at /content/gdrive\n",
            "(33104, 128, 6) (33104, 118) (3740, 128, 6) (3740, 118)\n"
          ]
        }
      ]
    },
    {
      "cell_type": "code",
      "source": [
        "from sklearn.model_selection import train_test_split\n",
        "x_train, x_validation, y_train, y_validation = train_test_split(x_train, y_train, test_size=0.20, random_state=42)"
      ],
      "metadata": {
        "id": "OqP6bY3k5UZH"
      },
      "execution_count": 54,
      "outputs": []
    },
    {
      "cell_type": "code",
      "source": [
        "input_shape = x_train.shape[1:]\n",
        "inp = Input(shape=x_train.shape[1:])\n",
        "x = SpatialDropout1D(0.2)(inp)\n",
        "x = TCN(128,dilations = [1, 2, 4], return_sequences=True)(x)\n",
        "x = TCN(64,dilations = [1, 2, 4], return_sequences=True)(x)\n",
        "avg_pool = GlobalAveragePooling1D()(x)\n",
        "max_pool = GlobalMaxPooling1D()(x)\n",
        "    \n",
        "conc = concatenate([avg_pool, max_pool])\n",
        "conc = Dense(64, activation=\"relu\")(conc)\n",
        "conc = Dropout(0.2)(conc)\n",
        "outp = Dense(118, activation=\"softmax\")(conc)    \n",
        "model = Model(inputs=inp, outputs=outp)\n",
        "model.compile(loss='categorical_crossentropy', optimizer='adam', metrics=['accuracy'])\n",
        "model.summary()"
      ],
      "metadata": {
        "colab": {
          "base_uri": "https://localhost:8080/"
        },
        "id": "fampnwRy5XUm",
        "outputId": "1b09f4ea-a0cb-414f-b4a8-d4b2b89465d9"
      },
      "execution_count": 57,
      "outputs": [
        {
          "output_type": "stream",
          "name": "stdout",
          "text": [
            "Model: \"model_12\"\n",
            "__________________________________________________________________________________________________\n",
            " Layer (type)                   Output Shape         Param #     Connected to                     \n",
            "==================================================================================================\n",
            " input_13 (InputLayer)          [(None, 128, 6)]     0           []                               \n",
            "                                                                                                  \n",
            " spatial_dropout1d_12 (SpatialD  (None, 128, 6)      0           ['input_13[0][0]']               \n",
            " ropout1D)                                                                                        \n",
            "                                                                                                  \n",
            " tcn_24 (TCN)                   (None, 128, 128)     249728      ['spatial_dropout1d_12[0][0]']   \n",
            "                                                                                                  \n",
            " tcn_25 (TCN)                   (None, 128, 64)      94656       ['tcn_24[0][0]']                 \n",
            "                                                                                                  \n",
            " global_average_pooling1d_12 (G  (None, 64)          0           ['tcn_25[0][0]']                 \n",
            " lobalAveragePooling1D)                                                                           \n",
            "                                                                                                  \n",
            " global_max_pooling1d_12 (Globa  (None, 64)          0           ['tcn_25[0][0]']                 \n",
            " lMaxPooling1D)                                                                                   \n",
            "                                                                                                  \n",
            " concatenate_12 (Concatenate)   (None, 128)          0           ['global_average_pooling1d_12[0][\n",
            "                                                                 0]',                             \n",
            "                                                                  'global_max_pooling1d_12[0][0]']\n",
            "                                                                                                  \n",
            " dense_24 (Dense)               (None, 64)           8256        ['concatenate_12[0][0]']         \n",
            "                                                                                                  \n",
            " dropout_12 (Dropout)           (None, 64)           0           ['dense_24[0][0]']               \n",
            "                                                                                                  \n",
            " dense_25 (Dense)               (None, 118)          7670        ['dropout_12[0][0]']             \n",
            "                                                                                                  \n",
            "==================================================================================================\n",
            "Total params: 360,310\n",
            "Trainable params: 360,310\n",
            "Non-trainable params: 0\n",
            "__________________________________________________________________________________________________\n"
          ]
        }
      ]
    },
    {
      "cell_type": "code",
      "source": [
        "history = model.fit(x_train, y_train, epochs=50, verbose=True, validation_data=(x_validation, y_validation), batch_size=128)"
      ],
      "metadata": {
        "colab": {
          "base_uri": "https://localhost:8080/"
        },
        "id": "SaWCy3YG9Vlu",
        "outputId": "80108802-9bc2-4c93-96ab-e5fe1a9ef084"
      },
      "execution_count": 58,
      "outputs": [
        {
          "output_type": "stream",
          "name": "stdout",
          "text": [
            "Epoch 1/50\n",
            "207/207 [==============================] - 26s 76ms/step - loss: 4.4323 - accuracy: 0.0857 - val_loss: 2.7955 - val_accuracy: 0.3691\n",
            "Epoch 2/50\n",
            "207/207 [==============================] - 15s 74ms/step - loss: 2.5319 - accuracy: 0.3537 - val_loss: 1.0794 - val_accuracy: 0.7692\n",
            "Epoch 3/50\n",
            "207/207 [==============================] - 15s 74ms/step - loss: 1.6739 - accuracy: 0.5436 - val_loss: 0.6122 - val_accuracy: 0.8573\n",
            "Epoch 4/50\n",
            "207/207 [==============================] - 15s 73ms/step - loss: 1.2930 - accuracy: 0.6471 - val_loss: 0.5058 - val_accuracy: 0.8911\n",
            "Epoch 5/50\n",
            "207/207 [==============================] - 15s 73ms/step - loss: 1.0609 - accuracy: 0.7093 - val_loss: 0.3762 - val_accuracy: 0.9097\n",
            "Epoch 6/50\n",
            "207/207 [==============================] - 15s 73ms/step - loss: 0.9360 - accuracy: 0.7437 - val_loss: 0.3449 - val_accuracy: 0.9142\n",
            "Epoch 7/50\n",
            "207/207 [==============================] - 15s 74ms/step - loss: 0.8362 - accuracy: 0.7680 - val_loss: 0.2686 - val_accuracy: 0.9325\n",
            "Epoch 8/50\n",
            "207/207 [==============================] - 15s 74ms/step - loss: 0.7303 - accuracy: 0.7992 - val_loss: 0.2574 - val_accuracy: 0.9343\n",
            "Epoch 9/50\n",
            "207/207 [==============================] - 15s 73ms/step - loss: 0.6854 - accuracy: 0.8075 - val_loss: 0.2790 - val_accuracy: 0.9289\n",
            "Epoch 10/50\n",
            "207/207 [==============================] - 15s 73ms/step - loss: 0.6349 - accuracy: 0.8245 - val_loss: 0.2358 - val_accuracy: 0.9409\n",
            "Epoch 11/50\n",
            "207/207 [==============================] - 15s 73ms/step - loss: 0.5875 - accuracy: 0.8368 - val_loss: 0.2305 - val_accuracy: 0.9372\n",
            "Epoch 12/50\n",
            "207/207 [==============================] - 15s 73ms/step - loss: 0.5570 - accuracy: 0.8425 - val_loss: 0.2072 - val_accuracy: 0.9444\n",
            "Epoch 13/50\n",
            "207/207 [==============================] - 15s 73ms/step - loss: 0.5235 - accuracy: 0.8549 - val_loss: 0.2127 - val_accuracy: 0.9432\n",
            "Epoch 14/50\n",
            "207/207 [==============================] - 15s 73ms/step - loss: 0.5059 - accuracy: 0.8598 - val_loss: 0.1754 - val_accuracy: 0.9542\n",
            "Epoch 15/50\n",
            "207/207 [==============================] - 15s 73ms/step - loss: 0.4695 - accuracy: 0.8676 - val_loss: 0.1703 - val_accuracy: 0.9551\n",
            "Epoch 16/50\n",
            "207/207 [==============================] - 15s 73ms/step - loss: 0.4357 - accuracy: 0.8754 - val_loss: 0.1697 - val_accuracy: 0.9547\n",
            "Epoch 17/50\n",
            "207/207 [==============================] - 15s 73ms/step - loss: 0.4334 - accuracy: 0.8768 - val_loss: 0.1667 - val_accuracy: 0.9545\n",
            "Epoch 18/50\n",
            "207/207 [==============================] - 15s 73ms/step - loss: 0.4065 - accuracy: 0.8853 - val_loss: 0.1514 - val_accuracy: 0.9595\n",
            "Epoch 19/50\n",
            "207/207 [==============================] - 15s 73ms/step - loss: 0.3887 - accuracy: 0.8897 - val_loss: 0.1507 - val_accuracy: 0.9601\n",
            "Epoch 20/50\n",
            "207/207 [==============================] - 15s 73ms/step - loss: 0.3851 - accuracy: 0.8925 - val_loss: 0.1412 - val_accuracy: 0.9616\n",
            "Epoch 21/50\n",
            "207/207 [==============================] - 15s 73ms/step - loss: 0.3749 - accuracy: 0.8939 - val_loss: 0.1438 - val_accuracy: 0.9634\n",
            "Epoch 22/50\n",
            "207/207 [==============================] - 15s 73ms/step - loss: 0.3644 - accuracy: 0.8986 - val_loss: 0.1598 - val_accuracy: 0.9574\n",
            "Epoch 23/50\n",
            "207/207 [==============================] - 15s 73ms/step - loss: 0.3419 - accuracy: 0.9038 - val_loss: 0.1545 - val_accuracy: 0.9588\n",
            "Epoch 24/50\n",
            "207/207 [==============================] - 15s 73ms/step - loss: 0.3451 - accuracy: 0.9011 - val_loss: 0.1457 - val_accuracy: 0.9615\n",
            "Epoch 25/50\n",
            "207/207 [==============================] - 15s 73ms/step - loss: 0.3309 - accuracy: 0.9084 - val_loss: 0.1372 - val_accuracy: 0.9641\n",
            "Epoch 26/50\n",
            "207/207 [==============================] - 15s 73ms/step - loss: 0.3214 - accuracy: 0.9097 - val_loss: 0.1514 - val_accuracy: 0.9594\n",
            "Epoch 27/50\n",
            "207/207 [==============================] - 15s 73ms/step - loss: 0.3234 - accuracy: 0.9077 - val_loss: 0.1345 - val_accuracy: 0.9653\n",
            "Epoch 28/50\n",
            "207/207 [==============================] - 15s 74ms/step - loss: 0.2977 - accuracy: 0.9149 - val_loss: 0.1378 - val_accuracy: 0.9634\n",
            "Epoch 29/50\n",
            "207/207 [==============================] - 15s 73ms/step - loss: 0.2925 - accuracy: 0.9167 - val_loss: 0.1221 - val_accuracy: 0.9683\n",
            "Epoch 30/50\n",
            "207/207 [==============================] - 15s 73ms/step - loss: 0.2805 - accuracy: 0.9223 - val_loss: 0.1310 - val_accuracy: 0.9690\n",
            "Epoch 31/50\n",
            "207/207 [==============================] - 15s 74ms/step - loss: 0.2834 - accuracy: 0.9193 - val_loss: 0.1435 - val_accuracy: 0.9615\n",
            "Epoch 32/50\n",
            "207/207 [==============================] - 15s 73ms/step - loss: 0.2773 - accuracy: 0.9198 - val_loss: 0.1310 - val_accuracy: 0.9654\n",
            "Epoch 33/50\n",
            "207/207 [==============================] - 15s 73ms/step - loss: 0.2616 - accuracy: 0.9241 - val_loss: 0.1412 - val_accuracy: 0.9628\n",
            "Epoch 34/50\n",
            "207/207 [==============================] - 15s 73ms/step - loss: 0.2563 - accuracy: 0.9289 - val_loss: 0.1226 - val_accuracy: 0.9665\n",
            "Epoch 35/50\n",
            "207/207 [==============================] - 15s 73ms/step - loss: 0.2503 - accuracy: 0.9290 - val_loss: 0.1283 - val_accuracy: 0.9650\n",
            "Epoch 36/50\n",
            "207/207 [==============================] - 15s 74ms/step - loss: 0.2592 - accuracy: 0.9256 - val_loss: 0.1176 - val_accuracy: 0.9677\n",
            "Epoch 37/50\n",
            "207/207 [==============================] - 15s 73ms/step - loss: 0.2525 - accuracy: 0.9273 - val_loss: 0.1283 - val_accuracy: 0.9668\n",
            "Epoch 38/50\n",
            "207/207 [==============================] - 15s 73ms/step - loss: 0.2370 - accuracy: 0.9322 - val_loss: 0.1303 - val_accuracy: 0.9657\n",
            "Epoch 39/50\n",
            "207/207 [==============================] - 15s 73ms/step - loss: 0.2513 - accuracy: 0.9275 - val_loss: 0.1269 - val_accuracy: 0.9656\n",
            "Epoch 40/50\n",
            "207/207 [==============================] - 15s 73ms/step - loss: 0.2361 - accuracy: 0.9331 - val_loss: 0.1291 - val_accuracy: 0.9666\n",
            "Epoch 41/50\n",
            "207/207 [==============================] - 15s 73ms/step - loss: 0.2266 - accuracy: 0.9353 - val_loss: 0.1179 - val_accuracy: 0.9684\n",
            "Epoch 42/50\n",
            "207/207 [==============================] - 15s 73ms/step - loss: 0.2317 - accuracy: 0.9327 - val_loss: 0.1201 - val_accuracy: 0.9687\n",
            "Epoch 43/50\n",
            "207/207 [==============================] - 15s 73ms/step - loss: 0.2302 - accuracy: 0.9353 - val_loss: 0.1202 - val_accuracy: 0.9681\n",
            "Epoch 44/50\n",
            "207/207 [==============================] - 15s 73ms/step - loss: 0.2238 - accuracy: 0.9359 - val_loss: 0.1121 - val_accuracy: 0.9702\n",
            "Epoch 45/50\n",
            "207/207 [==============================] - 15s 73ms/step - loss: 0.2198 - accuracy: 0.9377 - val_loss: 0.1033 - val_accuracy: 0.9728\n",
            "Epoch 46/50\n",
            "207/207 [==============================] - 15s 73ms/step - loss: 0.2158 - accuracy: 0.9380 - val_loss: 0.1204 - val_accuracy: 0.9690\n",
            "Epoch 47/50\n",
            "207/207 [==============================] - 15s 73ms/step - loss: 0.2205 - accuracy: 0.9360 - val_loss: 0.1068 - val_accuracy: 0.9716\n",
            "Epoch 48/50\n",
            "207/207 [==============================] - 15s 74ms/step - loss: 0.1991 - accuracy: 0.9433 - val_loss: 0.1050 - val_accuracy: 0.9734\n",
            "Epoch 49/50\n",
            "207/207 [==============================] - 15s 73ms/step - loss: 0.2037 - accuracy: 0.9416 - val_loss: 0.1080 - val_accuracy: 0.9704\n",
            "Epoch 50/50\n",
            "207/207 [==============================] - 15s 73ms/step - loss: 0.1978 - accuracy: 0.9422 - val_loss: 0.1081 - val_accuracy: 0.9742\n"
          ]
        }
      ]
    },
    {
      "cell_type": "code",
      "source": [
        "loss, accuracy = model.evaluate(x_validation, y_validation, verbose=False)\n",
        "print(\"Validation Accuracy:  {:.4f}\".format(accuracy))\n",
        "loss, accuracy = model.evaluate(x_test, y_test, verbose=False)\n",
        "print(\"Testing Accuracy: {:.4f}\".format(accuracy))"
      ],
      "metadata": {
        "colab": {
          "base_uri": "https://localhost:8080/"
        },
        "id": "ZbGvxYBj9Wse",
        "outputId": "8a7c3ce8-985b-4823-eed2-32f46edf117f"
      },
      "execution_count": 59,
      "outputs": [
        {
          "output_type": "stream",
          "name": "stdout",
          "text": [
            "Validation Accuracy:  0.9742\n",
            "Testing Accuracy: 0.9187\n"
          ]
        }
      ]
    }
  ]
}