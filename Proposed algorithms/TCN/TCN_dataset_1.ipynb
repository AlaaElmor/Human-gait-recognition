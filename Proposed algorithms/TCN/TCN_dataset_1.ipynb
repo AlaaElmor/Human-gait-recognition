{
  "cells": [
    {
      "cell_type": "code",
      "execution_count": 1,
      "metadata": {
        "id": "YQFREF7L5GqL"
      },
      "outputs": [],
      "source": [
        "from numpy import save, load\n",
        "from pandas import read_csv\n",
        "from keras.layers import Dense\n",
        "from keras.layers import Flatten\n",
        "from keras.layers import Dropout\n",
        "from keras import Model\n",
        "from keras.layers import Conv1D, SpatialDropout1D\n",
        "from keras.layers import Convolution1D, Dense,Activation\n",
        "from keras.models import Input, Model\n",
        "from keras.layers import LSTM, Conv1D, concatenate,GlobalMaxPooling1D,GlobalAveragePooling1D,TimeDistributed, MaxPooling1D\n",
        "import tensorflow as tf\n",
        "import numpy as np\n",
        "import keras.backend as K\n",
        "import keras.layers\n",
        "from keras import optimizers\n",
        "from keras.layers import Activation, Lambda\n",
        "from keras.layers import Convolution1D, Dense\n",
        "from keras.models import Input, Model\n",
        "from typing import List, Tuple"
      ]
    },
    {
      "cell_type": "code",
      "execution_count": 2,
      "metadata": {
        "colab": {
          "base_uri": "https://localhost:8080/"
        },
        "id": "mxaKZAFk5TvK",
        "outputId": "542d9687-344e-4369-cbf2-0e6df32e69c0"
      },
      "outputs": [
        {
          "output_type": "stream",
          "name": "stdout",
          "text": [
            "Mounted at /content/drive\n",
            "Mounted at /content/gdrive\n",
            "(33104, 128, 6) (33104, 118) (3740, 128, 6) (3740, 118)\n"
          ]
        }
      ],
      "source": [
        "from google.colab import drive\n",
        "drive.mount('/content/drive')\n",
        "\n",
        "from google.colab import drive\n",
        "\n",
        "drive.mount('/content/gdrive')\n",
        "root_path = 'gdrive/My Drive/'  #change dir to your project folder\n",
        "\n",
        "import numpy as np\n",
        "x_train = np.load('gdrive/My Drive/dataset1/acc+gyr/trainX.npy')\n",
        "y_train = np.load('gdrive/My Drive/dataset1/acc+gyr/trainy.npy')\n",
        "x_test = np.load('gdrive/My Drive/dataset1/acc+gyr/testX.npy')\n",
        "y_test = np.load('gdrive/My Drive/dataset1/acc+gyr/testy.npy')\n",
        "print(x_train.shape, y_train.shape, x_test.shape, y_test.shape)"
      ]
    },
    {
      "cell_type": "code",
      "execution_count": 3,
      "metadata": {
        "id": "OqP6bY3k5UZH"
      },
      "outputs": [],
      "source": [
        "from sklearn.model_selection import train_test_split\n",
        "x_train, x_validation, y_train, y_validation = train_test_split(x_train, y_train, test_size=0.20, random_state=42)"
      ]
    },
    {
      "cell_type": "code",
      "source": [
        "def channel_normalization(x):\n",
        "    max_values = K.max(K.abs(x), 2, keepdims=True) + 1e-5\n",
        "    out = x / max_values\n",
        "    return out\n",
        "\n",
        "def residual_block(x, s, i, activation, nb_filters, kernel_size, padding, dropout_rate=0, name=''):\n",
        "    original_x = x\n",
        "    conv = Conv1D(filters=nb_filters, kernel_size=kernel_size,\n",
        "                  dilation_rate=i, padding=padding,\n",
        "                  name=name + '_dilated_conv_%d_tanh_s%d' % (i, s))(x)\n",
        "    if activation == 'norm_relu':\n",
        "        x = Activation('relu')(conv)\n",
        "        x = Lambda(channel_normalization)(x)\n",
        "    else:\n",
        "        x = Activation(activation)(conv)\n",
        "\n",
        "    x = SpatialDropout1D(dropout_rate, name=name + '_spatial_dropout1d_%d_s%d_%f' % (i, s, dropout_rate))(x)\n",
        "\n",
        "    # 1x1 conv.\n",
        "    x = Convolution1D(nb_filters, 1, padding='same')(x)\n",
        "    res_x = keras.layers.add([original_x, x])\n",
        "    return res_x, x"
      ],
      "metadata": {
        "id": "tRsgs0Xp22cS"
      },
      "execution_count": 5,
      "outputs": []
    },
    {
      "cell_type": "code",
      "source": [
        "\n",
        "class TCN:\n",
        "\n",
        "    def __init__(self,\n",
        "                 nb_filters=64,\n",
        "                 kernel_size=2,\n",
        "                 nb_stacks=1,\n",
        "                 dilations=None,\n",
        "                 activation='norm_relu',\n",
        "                 padding='causal',\n",
        "                 use_skip_connections=True,\n",
        "                 dropout_rate=0.0,\n",
        "                 return_sequences=True,\n",
        "                 name='tcn'):\n",
        "        self.name = name\n",
        "        self.return_sequences = return_sequences\n",
        "        self.dropout_rate = dropout_rate\n",
        "        self.use_skip_connections = use_skip_connections\n",
        "        self.activation = activation\n",
        "        self.dilations = dilations\n",
        "        self.nb_stacks = nb_stacks\n",
        "        self.kernel_size = kernel_size\n",
        "        self.nb_filters = nb_filters\n",
        "        self.padding = padding\n",
        "        \n",
        "        if padding != 'causal' and padding != 'same':\n",
        "            raise ValueError(\"Only 'causal' or 'same' paddings are compatible for this layer.\")\n",
        "\n",
        "        if not isinstance(nb_filters, int):\n",
        "            print('An interface change occurred after the version 2.1.2.')\n",
        "            print('Before: tcn.TCN(i, return_sequences=False, ...)')\n",
        "            print('Now should be: tcn.TCN(return_sequences=False, ...)(i)')\n",
        "            print('Second solution is to pip install keras-tcn==2.1.2 to downgrade.')\n",
        "            raise Exception()\n",
        "\n",
        "    def __call__(self, inputs):\n",
        "        if self.dilations is None:\n",
        "            self.dilations = [1, 2, 4, 8, 16, 32]\n",
        "        x = inputs\n",
        "        x = Convolution1D(self.nb_filters, 1, padding=self.padding, name=self.name + '_initial_conv')(x)\n",
        "        skip_connections = []\n",
        "        for s in range(self.nb_stacks):\n",
        "            for i in self.dilations:\n",
        "                x, skip_out = residual_block(x, s, i, self.activation, self.nb_filters,\n",
        "                                             self.kernel_size, self.padding, self.dropout_rate, name=self.name)\n",
        "                skip_connections.append(skip_out)\n",
        "        if self.use_skip_connections:\n",
        "            x = keras.layers.add(skip_connections)\n",
        "        x = Activation('relu')(x)\n",
        "\n",
        "        if not self.return_sequences:\n",
        "            output_slice_index = -1\n",
        "            x = Lambda(lambda tt: tt[:, output_slice_index, :])(x)\n",
        "        return x"
      ],
      "metadata": {
        "id": "alKxQs751llb"
      },
      "execution_count": 7,
      "outputs": []
    },
    {
      "cell_type": "code",
      "execution_count": 15,
      "metadata": {
        "colab": {
          "base_uri": "https://localhost:8080/"
        },
        "id": "fampnwRy5XUm",
        "outputId": "277bc742-d1eb-47db-cbb0-8b2aec2488df"
      },
      "outputs": [
        {
          "output_type": "stream",
          "name": "stdout",
          "text": [
            "Model: \"model_3\"\n",
            "__________________________________________________________________________________________________\n",
            " Layer (type)                   Output Shape         Param #     Connected to                     \n",
            "==================================================================================================\n",
            " input_4 (InputLayer)           [(None, 128, 6)]     0           []                               \n",
            "                                                                                                  \n",
            " spatial_dropout1d_3 (SpatialDr  (None, 128, 6)      0           ['input_4[0][0]']                \n",
            " opout1D)                                                                                         \n",
            "                                                                                                  \n",
            " tnc1_initial_conv (Conv1D)     (None, 128, 128)     896         ['spatial_dropout1d_3[0][0]']    \n",
            "                                                                                                  \n",
            " tnc1_dilated_conv_1_tanh_s0 (C  (None, 128, 128)    49280       ['tnc1_initial_conv[0][0]']      \n",
            " onv1D)                                                                                           \n",
            "                                                                                                  \n",
            " activation_24 (Activation)     (None, 128, 128)     0           ['tnc1_dilated_conv_1_tanh_s0[0][\n",
            "                                                                 0]']                             \n",
            "                                                                                                  \n",
            " lambda_20 (Lambda)             (None, 128, 128)     0           ['activation_24[0][0]']          \n",
            "                                                                                                  \n",
            " tnc1_spatial_dropout1d_1_s0_0.  (None, 128, 128)    0           ['lambda_20[0][0]']              \n",
            " 000000 (SpatialDropout1D)                                                                        \n",
            "                                                                                                  \n",
            " conv1d_20 (Conv1D)             (None, 128, 128)     16512       ['tnc1_spatial_dropout1d_1_s0_0.0\n",
            "                                                                 00000[0][0]']                    \n",
            "                                                                                                  \n",
            " add_24 (Add)                   (None, 128, 128)     0           ['tnc1_initial_conv[0][0]',      \n",
            "                                                                  'conv1d_20[0][0]']              \n",
            "                                                                                                  \n",
            " tnc1_dilated_conv_2_tanh_s0 (C  (None, 128, 128)    49280       ['add_24[0][0]']                 \n",
            " onv1D)                                                                                           \n",
            "                                                                                                  \n",
            " activation_25 (Activation)     (None, 128, 128)     0           ['tnc1_dilated_conv_2_tanh_s0[0][\n",
            "                                                                 0]']                             \n",
            "                                                                                                  \n",
            " lambda_21 (Lambda)             (None, 128, 128)     0           ['activation_25[0][0]']          \n",
            "                                                                                                  \n",
            " tnc1_spatial_dropout1d_2_s0_0.  (None, 128, 128)    0           ['lambda_21[0][0]']              \n",
            " 000000 (SpatialDropout1D)                                                                        \n",
            "                                                                                                  \n",
            " conv1d_21 (Conv1D)             (None, 128, 128)     16512       ['tnc1_spatial_dropout1d_2_s0_0.0\n",
            "                                                                 00000[0][0]']                    \n",
            "                                                                                                  \n",
            " add_25 (Add)                   (None, 128, 128)     0           ['add_24[0][0]',                 \n",
            "                                                                  'conv1d_21[0][0]']              \n",
            "                                                                                                  \n",
            " tnc1_dilated_conv_4_tanh_s0 (C  (None, 128, 128)    49280       ['add_25[0][0]']                 \n",
            " onv1D)                                                                                           \n",
            "                                                                                                  \n",
            " activation_26 (Activation)     (None, 128, 128)     0           ['tnc1_dilated_conv_4_tanh_s0[0][\n",
            "                                                                 0]']                             \n",
            "                                                                                                  \n",
            " lambda_22 (Lambda)             (None, 128, 128)     0           ['activation_26[0][0]']          \n",
            "                                                                                                  \n",
            " tnc1_spatial_dropout1d_4_s0_0.  (None, 128, 128)    0           ['lambda_22[0][0]']              \n",
            " 000000 (SpatialDropout1D)                                                                        \n",
            "                                                                                                  \n",
            " conv1d_22 (Conv1D)             (None, 128, 128)     16512       ['tnc1_spatial_dropout1d_4_s0_0.0\n",
            "                                                                 00000[0][0]']                    \n",
            "                                                                                                  \n",
            " add_26 (Add)                   (None, 128, 128)     0           ['add_25[0][0]',                 \n",
            "                                                                  'conv1d_22[0][0]']              \n",
            "                                                                                                  \n",
            " tnc1_dilated_conv_8_tanh_s0 (C  (None, 128, 128)    49280       ['add_26[0][0]']                 \n",
            " onv1D)                                                                                           \n",
            "                                                                                                  \n",
            " activation_27 (Activation)     (None, 128, 128)     0           ['tnc1_dilated_conv_8_tanh_s0[0][\n",
            "                                                                 0]']                             \n",
            "                                                                                                  \n",
            " lambda_23 (Lambda)             (None, 128, 128)     0           ['activation_27[0][0]']          \n",
            "                                                                                                  \n",
            " tnc1_spatial_dropout1d_8_s0_0.  (None, 128, 128)    0           ['lambda_23[0][0]']              \n",
            " 000000 (SpatialDropout1D)                                                                        \n",
            "                                                                                                  \n",
            " conv1d_23 (Conv1D)             (None, 128, 128)     16512       ['tnc1_spatial_dropout1d_8_s0_0.0\n",
            "                                                                 00000[0][0]']                    \n",
            "                                                                                                  \n",
            " add_27 (Add)                   (None, 128, 128)     0           ['add_26[0][0]',                 \n",
            "                                                                  'conv1d_23[0][0]']              \n",
            "                                                                                                  \n",
            " tnc1_dilated_conv_16_tanh_s0 (  (None, 128, 128)    49280       ['add_27[0][0]']                 \n",
            " Conv1D)                                                                                          \n",
            "                                                                                                  \n",
            " activation_28 (Activation)     (None, 128, 128)     0           ['tnc1_dilated_conv_16_tanh_s0[0]\n",
            "                                                                 [0]']                            \n",
            "                                                                                                  \n",
            " lambda_24 (Lambda)             (None, 128, 128)     0           ['activation_28[0][0]']          \n",
            "                                                                                                  \n",
            " tnc1_spatial_dropout1d_16_s0_0  (None, 128, 128)    0           ['lambda_24[0][0]']              \n",
            " .000000 (SpatialDropout1D)                                                                       \n",
            "                                                                                                  \n",
            " conv1d_24 (Conv1D)             (None, 128, 128)     16512       ['tnc1_spatial_dropout1d_16_s0_0.\n",
            "                                                                 000000[0][0]']                   \n",
            "                                                                                                  \n",
            " add_29 (Add)                   (None, 128, 128)     0           ['conv1d_20[0][0]',              \n",
            "                                                                  'conv1d_21[0][0]',              \n",
            "                                                                  'conv1d_22[0][0]',              \n",
            "                                                                  'conv1d_23[0][0]',              \n",
            "                                                                  'conv1d_24[0][0]']              \n",
            "                                                                                                  \n",
            " activation_29 (Activation)     (None, 128, 128)     0           ['add_29[0][0]']                 \n",
            "                                                                                                  \n",
            " tnc2_initial_conv (Conv1D)     (None, 128, 128)     16512       ['activation_29[0][0]']          \n",
            "                                                                                                  \n",
            " tnc2_dilated_conv_1_tanh_s0 (C  (None, 128, 128)    49280       ['tnc2_initial_conv[0][0]']      \n",
            " onv1D)                                                                                           \n",
            "                                                                                                  \n",
            " activation_30 (Activation)     (None, 128, 128)     0           ['tnc2_dilated_conv_1_tanh_s0[0][\n",
            "                                                                 0]']                             \n",
            "                                                                                                  \n",
            " lambda_25 (Lambda)             (None, 128, 128)     0           ['activation_30[0][0]']          \n",
            "                                                                                                  \n",
            " tnc2_spatial_dropout1d_1_s0_0.  (None, 128, 128)    0           ['lambda_25[0][0]']              \n",
            " 000000 (SpatialDropout1D)                                                                        \n",
            "                                                                                                  \n",
            " conv1d_25 (Conv1D)             (None, 128, 128)     16512       ['tnc2_spatial_dropout1d_1_s0_0.0\n",
            "                                                                 00000[0][0]']                    \n",
            "                                                                                                  \n",
            " add_30 (Add)                   (None, 128, 128)     0           ['tnc2_initial_conv[0][0]',      \n",
            "                                                                  'conv1d_25[0][0]']              \n",
            "                                                                                                  \n",
            " tnc2_dilated_conv_2_tanh_s0 (C  (None, 128, 128)    49280       ['add_30[0][0]']                 \n",
            " onv1D)                                                                                           \n",
            "                                                                                                  \n",
            " activation_31 (Activation)     (None, 128, 128)     0           ['tnc2_dilated_conv_2_tanh_s0[0][\n",
            "                                                                 0]']                             \n",
            "                                                                                                  \n",
            " lambda_26 (Lambda)             (None, 128, 128)     0           ['activation_31[0][0]']          \n",
            "                                                                                                  \n",
            " tnc2_spatial_dropout1d_2_s0_0.  (None, 128, 128)    0           ['lambda_26[0][0]']              \n",
            " 000000 (SpatialDropout1D)                                                                        \n",
            "                                                                                                  \n",
            " conv1d_26 (Conv1D)             (None, 128, 128)     16512       ['tnc2_spatial_dropout1d_2_s0_0.0\n",
            "                                                                 00000[0][0]']                    \n",
            "                                                                                                  \n",
            " add_31 (Add)                   (None, 128, 128)     0           ['add_30[0][0]',                 \n",
            "                                                                  'conv1d_26[0][0]']              \n",
            "                                                                                                  \n",
            " tnc2_dilated_conv_4_tanh_s0 (C  (None, 128, 128)    49280       ['add_31[0][0]']                 \n",
            " onv1D)                                                                                           \n",
            "                                                                                                  \n",
            " activation_32 (Activation)     (None, 128, 128)     0           ['tnc2_dilated_conv_4_tanh_s0[0][\n",
            "                                                                 0]']                             \n",
            "                                                                                                  \n",
            " lambda_27 (Lambda)             (None, 128, 128)     0           ['activation_32[0][0]']          \n",
            "                                                                                                  \n",
            " tnc2_spatial_dropout1d_4_s0_0.  (None, 128, 128)    0           ['lambda_27[0][0]']              \n",
            " 000000 (SpatialDropout1D)                                                                        \n",
            "                                                                                                  \n",
            " conv1d_27 (Conv1D)             (None, 128, 128)     16512       ['tnc2_spatial_dropout1d_4_s0_0.0\n",
            "                                                                 00000[0][0]']                    \n",
            "                                                                                                  \n",
            " add_32 (Add)                   (None, 128, 128)     0           ['add_31[0][0]',                 \n",
            "                                                                  'conv1d_27[0][0]']              \n",
            "                                                                                                  \n",
            " tnc2_dilated_conv_8_tanh_s0 (C  (None, 128, 128)    49280       ['add_32[0][0]']                 \n",
            " onv1D)                                                                                           \n",
            "                                                                                                  \n",
            " activation_33 (Activation)     (None, 128, 128)     0           ['tnc2_dilated_conv_8_tanh_s0[0][\n",
            "                                                                 0]']                             \n",
            "                                                                                                  \n",
            " lambda_28 (Lambda)             (None, 128, 128)     0           ['activation_33[0][0]']          \n",
            "                                                                                                  \n",
            " tnc2_spatial_dropout1d_8_s0_0.  (None, 128, 128)    0           ['lambda_28[0][0]']              \n",
            " 000000 (SpatialDropout1D)                                                                        \n",
            "                                                                                                  \n",
            " conv1d_28 (Conv1D)             (None, 128, 128)     16512       ['tnc2_spatial_dropout1d_8_s0_0.0\n",
            "                                                                 00000[0][0]']                    \n",
            "                                                                                                  \n",
            " add_33 (Add)                   (None, 128, 128)     0           ['add_32[0][0]',                 \n",
            "                                                                  'conv1d_28[0][0]']              \n",
            "                                                                                                  \n",
            " tnc2_dilated_conv_16_tanh_s0 (  (None, 128, 128)    49280       ['add_33[0][0]']                 \n",
            " Conv1D)                                                                                          \n",
            "                                                                                                  \n",
            " activation_34 (Activation)     (None, 128, 128)     0           ['tnc2_dilated_conv_16_tanh_s0[0]\n",
            "                                                                 [0]']                            \n",
            "                                                                                                  \n",
            " lambda_29 (Lambda)             (None, 128, 128)     0           ['activation_34[0][0]']          \n",
            "                                                                                                  \n",
            " tnc2_spatial_dropout1d_16_s0_0  (None, 128, 128)    0           ['lambda_29[0][0]']              \n",
            " .000000 (SpatialDropout1D)                                                                       \n",
            "                                                                                                  \n",
            " conv1d_29 (Conv1D)             (None, 128, 128)     16512       ['tnc2_spatial_dropout1d_16_s0_0.\n",
            "                                                                 000000[0][0]']                   \n",
            "                                                                                                  \n",
            " add_35 (Add)                   (None, 128, 128)     0           ['conv1d_25[0][0]',              \n",
            "                                                                  'conv1d_26[0][0]',              \n",
            "                                                                  'conv1d_27[0][0]',              \n",
            "                                                                  'conv1d_28[0][0]',              \n",
            "                                                                  'conv1d_29[0][0]']              \n",
            "                                                                                                  \n",
            " activation_35 (Activation)     (None, 128, 128)     0           ['add_35[0][0]']                 \n",
            "                                                                                                  \n",
            " global_max_pooling1d_2 (Global  (None, 128)         0           ['activation_35[0][0]']          \n",
            " MaxPooling1D)                                                                                    \n",
            "                                                                                                  \n",
            " dense_6 (Dense)                (None, 128)          16512       ['global_max_pooling1d_2[0][0]'] \n",
            "                                                                                                  \n",
            " dropout_3 (Dropout)            (None, 128)          0           ['dense_6[0][0]']                \n",
            "                                                                                                  \n",
            " dense_7 (Dense)                (None, 118)          15222       ['dropout_3[0][0]']              \n",
            "                                                                                                  \n",
            "==================================================================================================\n",
            "Total params: 707,062\n",
            "Trainable params: 707,062\n",
            "Non-trainable params: 0\n",
            "__________________________________________________________________________________________________\n"
          ]
        }
      ],
      "source": [
        "input_shape = x_train.shape[1:]\n",
        "input = Input(shape=x_train.shape[1:])\n",
        "x = SpatialDropout1D(0.2)(input)\n",
        "x = TCN(128,dilations = [1, 2, 4, 8, 16],kernel_size = 3, return_sequences=True, name = 'tnc1')(x)\n",
        "x = TCN(128,dilations = [1, 2, 4, 8, 16],kernel_size = 3, return_sequences=True, name = 'tnc2')(x)\n",
        "max_pool = GlobalMaxPooling1D()(x)\n",
        "x = Dense(128, activation=\"relu\")(max_pool)\n",
        "x = Dropout(0.2)(x)\n",
        "output = Dense(118, activation=\"softmax\")(x)    \n",
        "model = Model(inputs=input, outputs=output)\n",
        "model.compile(loss='categorical_crossentropy', optimizer='adam', metrics=['accuracy'])\n",
        "model.summary()\n",
        "\n",
        "callbacks = [keras.callbacks.EarlyStopping(patience=5, restore_best_weights=True)]"
      ]
    },
    {
      "cell_type": "code",
      "execution_count": 16,
      "metadata": {
        "colab": {
          "base_uri": "https://localhost:8080/"
        },
        "id": "SaWCy3YG9Vlu",
        "outputId": "82d8fd12-c9f3-4e7d-903e-fe4c7f5367bb"
      },
      "outputs": [
        {
          "output_type": "stream",
          "name": "stdout",
          "text": [
            "Epoch 1/200\n",
            "207/207 [==============================] - 36s 159ms/step - loss: 2.9933 - accuracy: 0.2938 - val_loss: 1.1407 - val_accuracy: 0.7490\n",
            "Epoch 2/200\n",
            "207/207 [==============================] - 32s 155ms/step - loss: 1.0652 - accuracy: 0.7268 - val_loss: 0.4374 - val_accuracy: 0.8981\n",
            "Epoch 3/200\n",
            "207/207 [==============================] - 33s 157ms/step - loss: 0.5775 - accuracy: 0.8507 - val_loss: 0.2585 - val_accuracy: 0.9408\n",
            "Epoch 4/200\n",
            "207/207 [==============================] - 32s 155ms/step - loss: 0.4155 - accuracy: 0.8910 - val_loss: 0.1955 - val_accuracy: 0.9536\n",
            "Epoch 5/200\n",
            "207/207 [==============================] - 33s 158ms/step - loss: 0.3430 - accuracy: 0.9098 - val_loss: 0.1779 - val_accuracy: 0.9589\n",
            "Epoch 6/200\n",
            "207/207 [==============================] - 32s 156ms/step - loss: 0.2867 - accuracy: 0.9247 - val_loss: 0.1637 - val_accuracy: 0.9568\n",
            "Epoch 7/200\n",
            "207/207 [==============================] - 32s 156ms/step - loss: 0.2475 - accuracy: 0.9336 - val_loss: 0.1337 - val_accuracy: 0.9677\n",
            "Epoch 8/200\n",
            "207/207 [==============================] - 32s 156ms/step - loss: 0.2242 - accuracy: 0.9404 - val_loss: 0.1356 - val_accuracy: 0.9647\n",
            "Epoch 9/200\n",
            "207/207 [==============================] - 32s 155ms/step - loss: 0.2069 - accuracy: 0.9453 - val_loss: 0.1196 - val_accuracy: 0.9681\n",
            "Epoch 10/200\n",
            "207/207 [==============================] - 32s 155ms/step - loss: 0.1959 - accuracy: 0.9469 - val_loss: 0.1284 - val_accuracy: 0.9680\n",
            "Epoch 11/200\n",
            "207/207 [==============================] - 32s 156ms/step - loss: 0.1759 - accuracy: 0.9528 - val_loss: 0.1060 - val_accuracy: 0.9728\n",
            "Epoch 12/200\n",
            "207/207 [==============================] - 32s 156ms/step - loss: 0.1692 - accuracy: 0.9541 - val_loss: 0.1101 - val_accuracy: 0.9701\n",
            "Epoch 13/200\n",
            "207/207 [==============================] - 32s 156ms/step - loss: 0.1627 - accuracy: 0.9556 - val_loss: 0.1223 - val_accuracy: 0.9669\n",
            "Epoch 14/200\n",
            "207/207 [==============================] - 32s 156ms/step - loss: 0.1496 - accuracy: 0.9592 - val_loss: 0.1138 - val_accuracy: 0.9696\n",
            "Epoch 15/200\n",
            "207/207 [==============================] - 32s 156ms/step - loss: 0.1418 - accuracy: 0.9607 - val_loss: 0.0969 - val_accuracy: 0.9730\n",
            "Epoch 16/200\n",
            "207/207 [==============================] - 32s 155ms/step - loss: 0.1334 - accuracy: 0.9638 - val_loss: 0.1190 - val_accuracy: 0.9674\n",
            "Epoch 17/200\n",
            "207/207 [==============================] - 32s 156ms/step - loss: 0.1388 - accuracy: 0.9620 - val_loss: 0.1136 - val_accuracy: 0.9704\n",
            "Epoch 18/200\n",
            "207/207 [==============================] - 32s 155ms/step - loss: 0.1245 - accuracy: 0.9657 - val_loss: 0.1014 - val_accuracy: 0.9724\n",
            "Epoch 19/200\n",
            "207/207 [==============================] - 32s 155ms/step - loss: 0.1205 - accuracy: 0.9663 - val_loss: 0.0925 - val_accuracy: 0.9761\n",
            "Epoch 20/200\n",
            "207/207 [==============================] - 32s 155ms/step - loss: 0.1192 - accuracy: 0.9652 - val_loss: 0.0983 - val_accuracy: 0.9740\n",
            "Epoch 21/200\n",
            "207/207 [==============================] - 32s 155ms/step - loss: 0.1141 - accuracy: 0.9671 - val_loss: 0.1024 - val_accuracy: 0.9734\n",
            "Epoch 22/200\n",
            "207/207 [==============================] - 32s 156ms/step - loss: 0.1112 - accuracy: 0.9683 - val_loss: 0.0837 - val_accuracy: 0.9763\n",
            "Epoch 23/200\n",
            "207/207 [==============================] - 32s 156ms/step - loss: 0.0989 - accuracy: 0.9728 - val_loss: 0.0846 - val_accuracy: 0.9748\n",
            "Epoch 24/200\n",
            "207/207 [==============================] - 32s 156ms/step - loss: 0.1063 - accuracy: 0.9685 - val_loss: 0.1046 - val_accuracy: 0.9690\n",
            "Epoch 25/200\n",
            "207/207 [==============================] - 32s 156ms/step - loss: 0.0995 - accuracy: 0.9722 - val_loss: 0.0875 - val_accuracy: 0.9769\n",
            "Epoch 26/200\n",
            "207/207 [==============================] - 32s 156ms/step - loss: 0.0996 - accuracy: 0.9713 - val_loss: 0.0841 - val_accuracy: 0.9772\n",
            "Epoch 27/200\n",
            "207/207 [==============================] - 32s 156ms/step - loss: 0.0941 - accuracy: 0.9728 - val_loss: 0.0981 - val_accuracy: 0.9733\n"
          ]
        }
      ],
      "source": [
        "history = model.fit(x_train, y_train, epochs=200, verbose=True, validation_data=(x_validation, y_validation), batch_size=128,callbacks=callbacks)"
      ]
    },
    {
      "cell_type": "code",
      "execution_count": 19,
      "metadata": {
        "id": "ZbGvxYBj9Wse",
        "colab": {
          "base_uri": "https://localhost:8080/"
        },
        "outputId": "d09fe43c-5789-4969-c891-fa889c13ba43"
      },
      "outputs": [
        {
          "output_type": "stream",
          "name": "stdout",
          "text": [
            "Validation Accuracy:  0.9763\n",
            "Testing Accuracy: 0.9273\n"
          ]
        }
      ],
      "source": [
        "loss, accuracy = model.evaluate(x_validation, y_validation, verbose=False)\n",
        "print(\"Validation Accuracy:  {:.4f}\".format(accuracy))\n",
        "loss, accuracy = model.evaluate(x_test, y_test, verbose=False)\n",
        "print(\"Testing Accuracy: {:.4f}\".format(accuracy))"
      ]
    },
    {
      "cell_type": "code",
      "source": [
        "from matplotlib import pyplot as plt\n",
        "plt.plot(history.history[\"loss\"], label=\"Training Loss\")\n",
        "plt.plot(history.history[\"val_loss\"], label=\"Validation Loss\")\n",
        "plt.legend()\n",
        "plt.show()\n",
        "from matplotlib import pyplot as plt\n",
        "plt.plot(history.history[\"accuracy\"], label=\"Training accuracy\")\n",
        "plt.plot(history.history[\"val_accuracy\"], label=\"Validation accuracy\")\n",
        "plt.legend()\n",
        "plt.show()"
      ],
      "metadata": {
        "colab": {
          "base_uri": "https://localhost:8080/",
          "height": 514
        },
        "id": "dv0pnVtn87MC",
        "outputId": "5553992b-b5b2-4bbc-b755-8e6fbba06bee"
      },
      "execution_count": 18,
      "outputs": [
        {
          "output_type": "display_data",
          "data": {
            "image/png": "[encoded data removed]",
            "text/plain": [
              "<Figure size 432x288 with 1 Axes>"
            ]
          },
          "metadata": {
            "needs_background": "light"
          }
        },
        {
          "output_type": "display_data",
          "data": {
            "image/png": "[encoded data removed]",
            "text/plain": [
              "<Figure size 432x288 with 1 Axes>"
            ]
          },
          "metadata": {
            "needs_background": "light"
          }
        }
      ]
    }
  ],
  "metadata": {
    "accelerator": "GPU",
    "colab": {
      "name": "TCN_dataset_1.ipynb",
      "provenance": []
    },
    "kernelspec": {
      "display_name": "Python 3",
      "name": "python3"
    },
    "language_info": {
      "name": "python"
    }
  },
  "nbformat": 4,
  "nbformat_minor": 0
}