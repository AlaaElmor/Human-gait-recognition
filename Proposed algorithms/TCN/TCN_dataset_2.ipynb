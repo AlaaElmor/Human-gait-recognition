{
  "nbformat": 4,
  "nbformat_minor": 0,
  "metadata": {
    "colab": {
      "name": "TCN.ipynb",
      "provenance": []
    },
    "kernelspec": {
      "name": "python3",
      "display_name": "Python 3"
    },
    "language_info": {
      "name": "python"
    },
    "accelerator": "GPU"
  },
  "cells": [
    {
      "cell_type": "code",
      "execution_count": 4,
      "metadata": {
        "colab": {
          "base_uri": "https://localhost:8080/"
        },
        "id": "YQFREF7L5GqL",
        "outputId": "594e9aea-05ca-4c8d-8049-59fd51ce3314"
      },
      "outputs": [
        {
          "output_type": "stream",
          "name": "stdout",
          "text": [
            "Requirement already satisfied: keras-tcn in /usr/local/lib/python3.7/dist-packages (3.4.2)\n",
            "Requirement already satisfied: tensorflow-addons in /usr/local/lib/python3.7/dist-packages (from keras-tcn) (0.15.0)\n",
            "Requirement already satisfied: numpy in /usr/local/lib/python3.7/dist-packages (from keras-tcn) (1.19.5)\n",
            "Requirement already satisfied: tensorflow in /usr/local/lib/python3.7/dist-packages (from keras-tcn) (2.7.0)\n",
            "Requirement already satisfied: libclang>=9.0.1 in /usr/local/lib/python3.7/dist-packages (from tensorflow->keras-tcn) (13.0.0)\n",
            "Requirement already satisfied: tensorflow-io-gcs-filesystem>=0.21.0 in /usr/local/lib/python3.7/dist-packages (from tensorflow->keras-tcn) (0.24.0)\n",
            "Requirement already satisfied: wheel<1.0,>=0.32.0 in /usr/local/lib/python3.7/dist-packages (from tensorflow->keras-tcn) (0.37.1)\n",
            "Requirement already satisfied: h5py>=2.9.0 in /usr/local/lib/python3.7/dist-packages (from tensorflow->keras-tcn) (3.1.0)\n",
            "Requirement already satisfied: tensorboard~=2.6 in /usr/local/lib/python3.7/dist-packages (from tensorflow->keras-tcn) (2.7.0)\n",
            "Requirement already satisfied: tensorflow-estimator<2.8,~=2.7.0rc0 in /usr/local/lib/python3.7/dist-packages (from tensorflow->keras-tcn) (2.7.0)\n",
            "Requirement already satisfied: astunparse>=1.6.0 in /usr/local/lib/python3.7/dist-packages (from tensorflow->keras-tcn) (1.6.3)\n",
            "Requirement already satisfied: six>=1.12.0 in /usr/local/lib/python3.7/dist-packages (from tensorflow->keras-tcn) (1.15.0)\n",
            "Requirement already satisfied: keras<2.8,>=2.7.0rc0 in /usr/local/lib/python3.7/dist-packages (from tensorflow->keras-tcn) (2.7.0)\n",
            "Requirement already satisfied: wrapt>=1.11.0 in /usr/local/lib/python3.7/dist-packages (from tensorflow->keras-tcn) (1.13.3)\n",
            "Requirement already satisfied: google-pasta>=0.1.1 in /usr/local/lib/python3.7/dist-packages (from tensorflow->keras-tcn) (0.2.0)\n",
            "Requirement already satisfied: opt-einsum>=2.3.2 in /usr/local/lib/python3.7/dist-packages (from tensorflow->keras-tcn) (3.3.0)\n",
            "Requirement already satisfied: termcolor>=1.1.0 in /usr/local/lib/python3.7/dist-packages (from tensorflow->keras-tcn) (1.1.0)\n",
            "Requirement already satisfied: gast<0.5.0,>=0.2.1 in /usr/local/lib/python3.7/dist-packages (from tensorflow->keras-tcn) (0.4.0)\n",
            "Requirement already satisfied: grpcio<2.0,>=1.24.3 in /usr/local/lib/python3.7/dist-packages (from tensorflow->keras-tcn) (1.43.0)\n",
            "Requirement already satisfied: keras-preprocessing>=1.1.1 in /usr/local/lib/python3.7/dist-packages (from tensorflow->keras-tcn) (1.1.2)\n",
            "Requirement already satisfied: typing-extensions>=3.6.6 in /usr/local/lib/python3.7/dist-packages (from tensorflow->keras-tcn) (3.10.0.2)\n",
            "Requirement already satisfied: flatbuffers<3.0,>=1.12 in /usr/local/lib/python3.7/dist-packages (from tensorflow->keras-tcn) (2.0)\n",
            "Requirement already satisfied: absl-py>=0.4.0 in /usr/local/lib/python3.7/dist-packages (from tensorflow->keras-tcn) (1.0.0)\n",
            "Requirement already satisfied: protobuf>=3.9.2 in /usr/local/lib/python3.7/dist-packages (from tensorflow->keras-tcn) (3.17.3)\n",
            "Requirement already satisfied: cached-property in /usr/local/lib/python3.7/dist-packages (from h5py>=2.9.0->tensorflow->keras-tcn) (1.5.2)\n",
            "Requirement already satisfied: google-auth-oauthlib<0.5,>=0.4.1 in /usr/local/lib/python3.7/dist-packages (from tensorboard~=2.6->tensorflow->keras-tcn) (0.4.6)\n",
            "Requirement already satisfied: requests<3,>=2.21.0 in /usr/local/lib/python3.7/dist-packages (from tensorboard~=2.6->tensorflow->keras-tcn) (2.23.0)\n",
            "Requirement already satisfied: setuptools>=41.0.0 in /usr/local/lib/python3.7/dist-packages (from tensorboard~=2.6->tensorflow->keras-tcn) (57.4.0)\n",
            "Requirement already satisfied: markdown>=2.6.8 in /usr/local/lib/python3.7/dist-packages (from tensorboard~=2.6->tensorflow->keras-tcn) (3.3.6)\n",
            "Requirement already satisfied: google-auth<3,>=1.6.3 in /usr/local/lib/python3.7/dist-packages (from tensorboard~=2.6->tensorflow->keras-tcn) (1.35.0)\n",
            "Requirement already satisfied: werkzeug>=0.11.15 in /usr/local/lib/python3.7/dist-packages (from tensorboard~=2.6->tensorflow->keras-tcn) (1.0.1)\n",
            "Requirement already satisfied: tensorboard-data-server<0.7.0,>=0.6.0 in /usr/local/lib/python3.7/dist-packages (from tensorboard~=2.6->tensorflow->keras-tcn) (0.6.1)\n",
            "Requirement already satisfied: tensorboard-plugin-wit>=1.6.0 in /usr/local/lib/python3.7/dist-packages (from tensorboard~=2.6->tensorflow->keras-tcn) (1.8.1)\n",
            "Requirement already satisfied: rsa<5,>=3.1.4 in /usr/local/lib/python3.7/dist-packages (from google-auth<3,>=1.6.3->tensorboard~=2.6->tensorflow->keras-tcn) (4.8)\n",
            "Requirement already satisfied: pyasn1-modules>=0.2.1 in /usr/local/lib/python3.7/dist-packages (from google-auth<3,>=1.6.3->tensorboard~=2.6->tensorflow->keras-tcn) (0.2.8)\n",
            "Requirement already satisfied: cachetools<5.0,>=2.0.0 in /usr/local/lib/python3.7/dist-packages (from google-auth<3,>=1.6.3->tensorboard~=2.6->tensorflow->keras-tcn) (4.2.4)\n",
            "Requirement already satisfied: requests-oauthlib>=0.7.0 in /usr/local/lib/python3.7/dist-packages (from google-auth-oauthlib<0.5,>=0.4.1->tensorboard~=2.6->tensorflow->keras-tcn) (1.3.1)\n",
            "Requirement already satisfied: importlib-metadata>=4.4 in /usr/local/lib/python3.7/dist-packages (from markdown>=2.6.8->tensorboard~=2.6->tensorflow->keras-tcn) (4.10.1)\n",
            "Requirement already satisfied: zipp>=0.5 in /usr/local/lib/python3.7/dist-packages (from importlib-metadata>=4.4->markdown>=2.6.8->tensorboard~=2.6->tensorflow->keras-tcn) (3.7.0)\n",
            "Requirement already satisfied: pyasn1<0.5.0,>=0.4.6 in /usr/local/lib/python3.7/dist-packages (from pyasn1-modules>=0.2.1->google-auth<3,>=1.6.3->tensorboard~=2.6->tensorflow->keras-tcn) (0.4.8)\n",
            "Requirement already satisfied: chardet<4,>=3.0.2 in /usr/local/lib/python3.7/dist-packages (from requests<3,>=2.21.0->tensorboard~=2.6->tensorflow->keras-tcn) (3.0.4)\n",
            "Requirement already satisfied: urllib3!=1.25.0,!=1.25.1,<1.26,>=1.21.1 in /usr/local/lib/python3.7/dist-packages (from requests<3,>=2.21.0->tensorboard~=2.6->tensorflow->keras-tcn) (1.24.3)\n",
            "Requirement already satisfied: idna<3,>=2.5 in /usr/local/lib/python3.7/dist-packages (from requests<3,>=2.21.0->tensorboard~=2.6->tensorflow->keras-tcn) (2.10)\n",
            "Requirement already satisfied: certifi>=2017.4.17 in /usr/local/lib/python3.7/dist-packages (from requests<3,>=2.21.0->tensorboard~=2.6->tensorflow->keras-tcn) (2021.10.8)\n",
            "Requirement already satisfied: oauthlib>=3.0.0 in /usr/local/lib/python3.7/dist-packages (from requests-oauthlib>=0.7.0->google-auth-oauthlib<0.5,>=0.4.1->tensorboard~=2.6->tensorflow->keras-tcn) (3.2.0)\n",
            "Requirement already satisfied: typeguard>=2.7 in /usr/local/lib/python3.7/dist-packages (from tensorflow-addons->keras-tcn) (2.7.1)\n"
          ]
        }
      ],
      "source": [
        "from numpy import save, load\n",
        "from pandas import read_csv\n",
        "from keras.layers import Dense\n",
        "from keras.layers import Flatten\n",
        "from keras.layers import Dropout\n",
        "from keras import Model\n",
        "from keras.layers import Conv1D, SpatialDropout1D\n",
        "from keras.layers import Convolution1D, Dense\n",
        "from keras.models import Input, Model\n",
        "from keras.layers import LSTM, Conv1D, concatenate,GlobalMaxPooling1D,GlobalAveragePooling1D,TimeDistributed, MaxPooling1D\n",
        "import tensorflow as tf\n",
        "import numpy as np\n",
        "!pip install keras-tcn\n",
        "from tcn import TCN"
      ]
    },
    {
      "cell_type": "code",
      "source": [
        "from google.colab import drive\n",
        "drive.mount('/content/drive')\n",
        "\n",
        "from google.colab import drive\n",
        "\n",
        "drive.mount('/content/gdrive')\n",
        "root_path = 'gdrive/My Drive/'  #change dir to your project folder\n",
        "\n",
        "import numpy as np\n",
        "x_train = np.load('gdrive/My Drive/dataset/dataset2/trainX.npy')\n",
        "y_train = np.load('gdrive/My Drive/dataset/dataset2/trainy.npy')\n",
        "x_test = np.load('gdrive/My Drive/dataset/dataset2/testX.npy')\n",
        "y_test = np.load('gdrive/My Drive/dataset/dataset2/testy.npy')\n",
        "print(x_train.shape, y_train.shape, x_test.shape, y_test.shape)"
      ],
      "metadata": {
        "colab": {
          "base_uri": "https://localhost:8080/"
        },
        "id": "mxaKZAFk5TvK",
        "outputId": "293bc78b-96cd-4fd4-d7cc-b7d0b7051062"
      },
      "execution_count": 48,
      "outputs": [
        {
          "output_type": "stream",
          "name": "stdout",
          "text": [
            "Mounted at /content/drive\n",
            "Mounted at /content/gdrive\n",
            "(44339, 128, 6) (44339, 20) (4936, 128, 6) (4936, 20)\n"
          ]
        }
      ]
    },
    {
      "cell_type": "code",
      "source": [
        "from sklearn.model_selection import train_test_split\n",
        "x_train, x_validation, y_train, y_validation = train_test_split(x_train, y_train, test_size=0.20, random_state=42)"
      ],
      "metadata": {
        "id": "OqP6bY3k5UZH"
      },
      "execution_count": 49,
      "outputs": []
    },
    {
      "cell_type": "code",
      "source": [
        "input_shape = x_train.shape[1:]\n",
        "inp = Input(shape=x_train.shape[1:])\n",
        "x = SpatialDropout1D(0.2)(inp)\n",
        "x = TCN(128,dilations = [1, 2, 4], return_sequences=True)(x)\n",
        "x = TCN(64,dilations = [1, 2, 4], return_sequences=True)(x)\n",
        "avg_pool = GlobalAveragePooling1D()(x)\n",
        "max_pool = GlobalMaxPooling1D()(x)\n",
        "    \n",
        "conc = concatenate([avg_pool, max_pool])\n",
        "conc = Dense(64, activation=\"relu\")(conc)\n",
        "conc = Dropout(0.2)(conc)\n",
        "outp = Dense(20, activation=\"softmax\")(conc)    \n",
        "model = Model(inputs=inp, outputs=outp)\n",
        "model.compile(loss='categorical_crossentropy', optimizer='adam', metrics=['accuracy'])\n",
        "model.summary()"
      ],
      "metadata": {
        "colab": {
          "base_uri": "https://localhost:8080/"
        },
        "id": "fampnwRy5XUm",
        "outputId": "c94765c2-1b15-4c68-c196-29b7e3c6aa98"
      },
      "execution_count": 50,
      "outputs": [
        {
          "output_type": "stream",
          "name": "stdout",
          "text": [
            "Model: \"model_10\"\n",
            "__________________________________________________________________________________________________\n",
            " Layer (type)                   Output Shape         Param #     Connected to                     \n",
            "==================================================================================================\n",
            " input_11 (InputLayer)          [(None, 128, 6)]     0           []                               \n",
            "                                                                                                  \n",
            " spatial_dropout1d_10 (SpatialD  (None, 128, 6)      0           ['input_11[0][0]']               \n",
            " ropout1D)                                                                                        \n",
            "                                                                                                  \n",
            " tcn_20 (TCN)                   (None, 128, 128)     249728      ['spatial_dropout1d_10[0][0]']   \n",
            "                                                                                                  \n",
            " tcn_21 (TCN)                   (None, 128, 64)      94656       ['tcn_20[0][0]']                 \n",
            "                                                                                                  \n",
            " global_average_pooling1d_10 (G  (None, 64)          0           ['tcn_21[0][0]']                 \n",
            " lobalAveragePooling1D)                                                                           \n",
            "                                                                                                  \n",
            " global_max_pooling1d_10 (Globa  (None, 64)          0           ['tcn_21[0][0]']                 \n",
            " lMaxPooling1D)                                                                                   \n",
            "                                                                                                  \n",
            " concatenate_10 (Concatenate)   (None, 128)          0           ['global_average_pooling1d_10[0][\n",
            "                                                                 0]',                             \n",
            "                                                                  'global_max_pooling1d_10[0][0]']\n",
            "                                                                                                  \n",
            " dense_20 (Dense)               (None, 64)           8256        ['concatenate_10[0][0]']         \n",
            "                                                                                                  \n",
            " dropout_10 (Dropout)           (None, 64)           0           ['dense_20[0][0]']               \n",
            "                                                                                                  \n",
            " dense_21 (Dense)               (None, 20)           1300        ['dropout_10[0][0]']             \n",
            "                                                                                                  \n",
            "==================================================================================================\n",
            "Total params: 353,940\n",
            "Trainable params: 353,940\n",
            "Non-trainable params: 0\n",
            "__________________________________________________________________________________________________\n"
          ]
        }
      ]
    },
    {
      "cell_type": "code",
      "source": [
        "history = model.fit(x_train, y_train, epochs=50, verbose=True, validation_data=(x_validation, y_validation), batch_size=128)"
      ],
      "metadata": {
        "colab": {
          "base_uri": "https://localhost:8080/"
        },
        "id": "SaWCy3YG9Vlu",
        "outputId": "2a3c94a3-dc2b-4aab-ef16-a883af56ba12"
      },
      "execution_count": 51,
      "outputs": [
        {
          "output_type": "stream",
          "name": "stdout",
          "text": [
            "Epoch 1/50\n",
            "278/278 [==============================] - 24s 76ms/step - loss: 1.5468 - accuracy: 0.6103 - val_loss: 0.2491 - val_accuracy: 0.9325\n",
            "Epoch 2/50\n",
            "278/278 [==============================] - 21s 74ms/step - loss: 0.4742 - accuracy: 0.8614 - val_loss: 0.1540 - val_accuracy: 0.9575\n",
            "Epoch 3/50\n",
            "278/278 [==============================] - 20s 73ms/step - loss: 0.3191 - accuracy: 0.9096 - val_loss: 0.1131 - val_accuracy: 0.9708\n",
            "Epoch 4/50\n",
            "278/278 [==============================] - 20s 74ms/step - loss: 0.2623 - accuracy: 0.9250 - val_loss: 0.0898 - val_accuracy: 0.9759\n",
            "Epoch 5/50\n",
            "278/278 [==============================] - 20s 74ms/step - loss: 0.2259 - accuracy: 0.9355 - val_loss: 0.0771 - val_accuracy: 0.9805\n",
            "Epoch 6/50\n",
            "278/278 [==============================] - 20s 74ms/step - loss: 0.1963 - accuracy: 0.9445 - val_loss: 0.0796 - val_accuracy: 0.9797\n",
            "Epoch 7/50\n",
            "278/278 [==============================] - 20s 73ms/step - loss: 0.1833 - accuracy: 0.9484 - val_loss: 0.0713 - val_accuracy: 0.9782\n",
            "Epoch 8/50\n",
            "278/278 [==============================] - 21s 74ms/step - loss: 0.1583 - accuracy: 0.9558 - val_loss: 0.0533 - val_accuracy: 0.9856\n",
            "Epoch 9/50\n",
            "278/278 [==============================] - 20s 73ms/step - loss: 0.1526 - accuracy: 0.9573 - val_loss: 0.0590 - val_accuracy: 0.9831\n",
            "Epoch 10/50\n",
            "278/278 [==============================] - 20s 73ms/step - loss: 0.1360 - accuracy: 0.9617 - val_loss: 0.0482 - val_accuracy: 0.9871\n",
            "Epoch 11/50\n",
            "278/278 [==============================] - 20s 73ms/step - loss: 0.1267 - accuracy: 0.9634 - val_loss: 0.0821 - val_accuracy: 0.9778\n",
            "Epoch 12/50\n",
            "278/278 [==============================] - 20s 73ms/step - loss: 0.1257 - accuracy: 0.9635 - val_loss: 0.0560 - val_accuracy: 0.9858\n",
            "Epoch 13/50\n",
            "278/278 [==============================] - 20s 73ms/step - loss: 0.1241 - accuracy: 0.9648 - val_loss: 0.0531 - val_accuracy: 0.9858\n",
            "Epoch 14/50\n",
            "278/278 [==============================] - 21s 76ms/step - loss: 0.1169 - accuracy: 0.9670 - val_loss: 0.0488 - val_accuracy: 0.9865\n",
            "Epoch 15/50\n",
            "278/278 [==============================] - 20s 73ms/step - loss: 0.1089 - accuracy: 0.9688 - val_loss: 0.0476 - val_accuracy: 0.9864\n",
            "Epoch 16/50\n",
            "278/278 [==============================] - 20s 73ms/step - loss: 0.1035 - accuracy: 0.9701 - val_loss: 0.0488 - val_accuracy: 0.9874\n",
            "Epoch 17/50\n",
            "278/278 [==============================] - 20s 73ms/step - loss: 0.0962 - accuracy: 0.9722 - val_loss: 0.0388 - val_accuracy: 0.9892\n",
            "Epoch 18/50\n",
            "278/278 [==============================] - 20s 73ms/step - loss: 0.0989 - accuracy: 0.9702 - val_loss: 0.0554 - val_accuracy: 0.9843\n",
            "Epoch 19/50\n",
            "278/278 [==============================] - 20s 73ms/step - loss: 0.0947 - accuracy: 0.9726 - val_loss: 0.0421 - val_accuracy: 0.9889\n",
            "Epoch 20/50\n",
            "278/278 [==============================] - 20s 73ms/step - loss: 0.0896 - accuracy: 0.9739 - val_loss: 0.0421 - val_accuracy: 0.9887\n",
            "Epoch 21/50\n",
            "278/278 [==============================] - 20s 73ms/step - loss: 0.0863 - accuracy: 0.9743 - val_loss: 0.0380 - val_accuracy: 0.9887\n",
            "Epoch 22/50\n",
            "278/278 [==============================] - 20s 73ms/step - loss: 0.0829 - accuracy: 0.9752 - val_loss: 0.0542 - val_accuracy: 0.9848\n",
            "Epoch 23/50\n",
            "278/278 [==============================] - 20s 73ms/step - loss: 0.0769 - accuracy: 0.9781 - val_loss: 0.0391 - val_accuracy: 0.9895\n",
            "Epoch 24/50\n",
            "278/278 [==============================] - 20s 73ms/step - loss: 0.0820 - accuracy: 0.9766 - val_loss: 0.0355 - val_accuracy: 0.9909\n",
            "Epoch 25/50\n",
            "278/278 [==============================] - 20s 73ms/step - loss: 0.0774 - accuracy: 0.9779 - val_loss: 0.0456 - val_accuracy: 0.9874\n",
            "Epoch 26/50\n",
            "278/278 [==============================] - 20s 73ms/step - loss: 0.0763 - accuracy: 0.9776 - val_loss: 0.0366 - val_accuracy: 0.9893\n",
            "Epoch 27/50\n",
            "278/278 [==============================] - 20s 73ms/step - loss: 0.0706 - accuracy: 0.9797 - val_loss: 0.0371 - val_accuracy: 0.9892\n",
            "Epoch 28/50\n",
            "278/278 [==============================] - 21s 76ms/step - loss: 0.0661 - accuracy: 0.9807 - val_loss: 0.0349 - val_accuracy: 0.9897\n",
            "Epoch 29/50\n",
            "278/278 [==============================] - 20s 73ms/step - loss: 0.0646 - accuracy: 0.9807 - val_loss: 0.0387 - val_accuracy: 0.9888\n",
            "Epoch 30/50\n",
            "278/278 [==============================] - 21s 76ms/step - loss: 0.0665 - accuracy: 0.9796 - val_loss: 0.0479 - val_accuracy: 0.9862\n",
            "Epoch 31/50\n",
            "278/278 [==============================] - 20s 73ms/step - loss: 0.0656 - accuracy: 0.9809 - val_loss: 0.0380 - val_accuracy: 0.9900\n",
            "Epoch 32/50\n",
            "278/278 [==============================] - 20s 73ms/step - loss: 0.0653 - accuracy: 0.9817 - val_loss: 0.0376 - val_accuracy: 0.9889\n",
            "Epoch 33/50\n",
            "278/278 [==============================] - 20s 73ms/step - loss: 0.0583 - accuracy: 0.9826 - val_loss: 0.0387 - val_accuracy: 0.9905\n",
            "Epoch 34/50\n",
            "278/278 [==============================] - 20s 73ms/step - loss: 0.0613 - accuracy: 0.9826 - val_loss: 0.0401 - val_accuracy: 0.9870\n",
            "Epoch 35/50\n",
            "278/278 [==============================] - 20s 73ms/step - loss: 0.0579 - accuracy: 0.9833 - val_loss: 0.0374 - val_accuracy: 0.9893\n",
            "Epoch 36/50\n",
            "278/278 [==============================] - 21s 76ms/step - loss: 0.0589 - accuracy: 0.9828 - val_loss: 0.0337 - val_accuracy: 0.9908\n",
            "Epoch 37/50\n",
            "278/278 [==============================] - 20s 73ms/step - loss: 0.0553 - accuracy: 0.9837 - val_loss: 0.0370 - val_accuracy: 0.9897\n",
            "Epoch 38/50\n",
            "278/278 [==============================] - 20s 73ms/step - loss: 0.0566 - accuracy: 0.9828 - val_loss: 0.0331 - val_accuracy: 0.9913\n",
            "Epoch 39/50\n",
            "278/278 [==============================] - 20s 73ms/step - loss: 0.0604 - accuracy: 0.9823 - val_loss: 0.0408 - val_accuracy: 0.9886\n",
            "Epoch 40/50\n",
            "278/278 [==============================] - 20s 73ms/step - loss: 0.0533 - accuracy: 0.9839 - val_loss: 0.0369 - val_accuracy: 0.9894\n",
            "Epoch 41/50\n",
            "278/278 [==============================] - 20s 73ms/step - loss: 0.0506 - accuracy: 0.9853 - val_loss: 0.0274 - val_accuracy: 0.9924\n",
            "Epoch 42/50\n",
            "278/278 [==============================] - 20s 73ms/step - loss: 0.0487 - accuracy: 0.9852 - val_loss: 0.0330 - val_accuracy: 0.9904\n",
            "Epoch 43/50\n",
            "278/278 [==============================] - 20s 73ms/step - loss: 0.0562 - accuracy: 0.9835 - val_loss: 0.0335 - val_accuracy: 0.9914\n",
            "Epoch 44/50\n",
            "278/278 [==============================] - 20s 73ms/step - loss: 0.0514 - accuracy: 0.9842 - val_loss: 0.0368 - val_accuracy: 0.9899\n",
            "Epoch 45/50\n",
            "278/278 [==============================] - 20s 73ms/step - loss: 0.0498 - accuracy: 0.9851 - val_loss: 0.0389 - val_accuracy: 0.9909\n",
            "Epoch 46/50\n",
            "278/278 [==============================] - 20s 73ms/step - loss: 0.0467 - accuracy: 0.9859 - val_loss: 0.0429 - val_accuracy: 0.9876\n",
            "Epoch 47/50\n",
            "278/278 [==============================] - 20s 73ms/step - loss: 0.0508 - accuracy: 0.9850 - val_loss: 0.0294 - val_accuracy: 0.9922\n",
            "Epoch 48/50\n",
            "278/278 [==============================] - 20s 73ms/step - loss: 0.0488 - accuracy: 0.9858 - val_loss: 0.0316 - val_accuracy: 0.9915\n",
            "Epoch 49/50\n",
            "278/278 [==============================] - 20s 73ms/step - loss: 0.0485 - accuracy: 0.9856 - val_loss: 0.0438 - val_accuracy: 0.9886\n",
            "Epoch 50/50\n",
            "278/278 [==============================] - 20s 73ms/step - loss: 0.0467 - accuracy: 0.9862 - val_loss: 0.0351 - val_accuracy: 0.9912\n"
          ]
        }
      ]
    },
    {
      "cell_type": "code",
      "source": [
        "loss, accuracy = model.evaluate(x_validation, y_validation, verbose=False)\n",
        "print(\"Validation Accuracy:  {:.4f}\".format(accuracy))\n",
        "loss, accuracy = model.evaluate(x_test, y_test, verbose=False)\n",
        "print(\"Testing Accuracy: {:.4f}\".format(accuracy))"
      ],
      "metadata": {
        "colab": {
          "base_uri": "https://localhost:8080/"
        },
        "id": "ZbGvxYBj9Wse",
        "outputId": "1a302b22-9794-4ad0-ca18-884e4724832f"
      },
      "execution_count": 52,
      "outputs": [
        {
          "output_type": "stream",
          "name": "stdout",
          "text": [
            "Validation Accuracy:  0.9912\n",
            "Testing Accuracy: 0.9615\n"
          ]
        }
      ]
    }
  ]
}