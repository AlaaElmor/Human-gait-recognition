{
  "cells": [
    {
      "cell_type": "code",
      "execution_count": 14,
      "metadata": {
        "id": "YQFREF7L5GqL"
      },
      "outputs": [],
      "source": [
        "from numpy import save, load\n",
        "from pandas import read_csv\n",
        "from keras.layers import Dense\n",
        "from keras.layers import Flatten\n",
        "from keras.layers import Dropout\n",
        "from keras import Model\n",
        "from keras.layers import Conv1D, SpatialDropout1D\n",
        "from keras.layers import Convolution1D, Dense,Activation\n",
        "from keras.models import Input, Model\n",
        "from keras.layers import LSTM, Conv1D, concatenate,GlobalMaxPooling1D,GlobalAveragePooling1D,TimeDistributed, MaxPooling1D\n",
        "import tensorflow as tf\n",
        "import numpy as np\n",
        "import keras.backend as K\n",
        "import keras.layers\n",
        "from keras import optimizers\n",
        "from keras.layers import Activation, Lambda\n",
        "from keras.layers import Convolution1D, Dense\n",
        "from keras.models import Input, Model\n",
        "from typing import List, Tuple"
      ]
    },
    {
      "cell_type": "code",
      "execution_count": 15,
      "metadata": {
        "colab": {
          "base_uri": "https://localhost:8080/"
        },
        "id": "mxaKZAFk5TvK",
        "outputId": "a98b1f09-d1bf-4c8e-d7c0-8d7694e8bb33"
      },
      "outputs": [
        {
          "output_type": "stream",
          "name": "stdout",
          "text": [
            "Mounted at /content/drive\n",
            "Mounted at /content/gdrive\n",
            "(44339, 128, 6) (44339, 20) (4936, 128, 6) (4936, 20)\n"
          ]
        }
      ],
      "source": [
        "from google.colab import drive\n",
        "drive.mount('/content/drive')\n",
        "\n",
        "from google.colab import drive\n",
        "\n",
        "drive.mount('/content/gdrive')\n",
        "root_path = 'gdrive/My Drive/'  #change dir to your project folder\n",
        "\n",
        "import numpy as np\n",
        "x_train = np.load('gdrive/My Drive/dataset/dataset2/trainX.npy')\n",
        "y_train = np.load('gdrive/My Drive/dataset/dataset2/trainy.npy')\n",
        "x_test = np.load('gdrive/My Drive/dataset/dataset2/testX.npy')\n",
        "y_test = np.load('gdrive/My Drive/dataset/dataset2/testy.npy')\n",
        "print(x_train.shape, y_train.shape, x_test.shape, y_test.shape)"
      ]
    },
    {
      "cell_type": "code",
      "execution_count": 16,
      "metadata": {
        "id": "OqP6bY3k5UZH"
      },
      "outputs": [],
      "source": [
        "from sklearn.model_selection import train_test_split\n",
        "x_train, x_validation, y_train, y_validation = train_test_split(x_train, y_train, test_size=0.20, random_state=42)"
      ]
    },
    {
      "cell_type": "code",
      "source": [
        "def channel_normalization(x):\n",
        "    max_values = K.max(K.abs(x), 2, keepdims=True) + 1e-5\n",
        "    out = x / max_values\n",
        "    return out\n",
        "\n",
        "def residual_block(x, s, i, activation, nb_filters, kernel_size, padding, dropout_rate=0, name=''):\n",
        "    original_x = x\n",
        "    conv = Conv1D(filters=nb_filters, kernel_size=kernel_size,\n",
        "                  dilation_rate=i, padding=padding,\n",
        "                  name=name + '_dilated_conv_%d_tanh_s%d' % (i, s))(x)\n",
        "    if activation == 'norm_relu':\n",
        "        x = Activation('relu')(conv)\n",
        "        x = Lambda(channel_normalization)(x)\n",
        "    else:\n",
        "        x = Activation(activation)(conv)\n",
        "\n",
        "    x = SpatialDropout1D(dropout_rate, name=name + '_spatial_dropout1d_%d_s%d_%f' % (i, s, dropout_rate))(x)\n",
        "\n",
        "    # 1x1 conv.\n",
        "    x = Convolution1D(nb_filters, 1, padding='same')(x)\n",
        "    res_x = keras.layers.add([original_x, x])\n",
        "    return res_x, x"
      ],
      "metadata": {
        "id": "tRsgs0Xp22cS"
      },
      "execution_count": 17,
      "outputs": []
    },
    {
      "cell_type": "code",
      "source": [
        "\n",
        "class TCN:\n",
        "\n",
        "    def __init__(self,\n",
        "                 nb_filters=64,\n",
        "                 kernel_size=2,\n",
        "                 nb_stacks=1,\n",
        "                 dilations=None,\n",
        "                 activation='norm_relu',\n",
        "                 padding='causal',\n",
        "                 use_skip_connections=True,\n",
        "                 dropout_rate=0.0,\n",
        "                 return_sequences=True,\n",
        "                 name='tcn'):\n",
        "        self.name = name\n",
        "        self.return_sequences = return_sequences\n",
        "        self.dropout_rate = dropout_rate\n",
        "        self.use_skip_connections = use_skip_connections\n",
        "        self.activation = activation\n",
        "        self.dilations = dilations\n",
        "        self.nb_stacks = nb_stacks\n",
        "        self.kernel_size = kernel_size\n",
        "        self.nb_filters = nb_filters\n",
        "        self.padding = padding\n",
        "        \n",
        "\n",
        "        if padding != 'causal' and padding != 'same':\n",
        "            raise ValueError(\"Only 'causal' or 'same' paddings are compatible for this layer.\")\n",
        "\n",
        "        if not isinstance(nb_filters, int):\n",
        "            print('An interface change occurred after the version 2.1.2.')\n",
        "            print('Before: tcn.TCN(i, return_sequences=False, ...)')\n",
        "            print('Now should be: tcn.TCN(return_sequences=False, ...)(i)')\n",
        "            print('Second solution is to pip install keras-tcn==2.1.2 to downgrade.')\n",
        "            raise Exception()\n",
        "\n",
        "    def __call__(self, inputs):\n",
        "        if self.dilations is None:\n",
        "            self.dilations = [1, 2, 4, 8, 16, 32]\n",
        "        x = inputs\n",
        "        x = Convolution1D(self.nb_filters, 1, padding=self.padding, name=self.name + '_initial_conv')(x)\n",
        "        skip_connections = []\n",
        "        for s in range(self.nb_stacks):\n",
        "            for i in self.dilations:\n",
        "                x, skip_out = residual_block(x, s, i, self.activation, self.nb_filters,\n",
        "                                             self.kernel_size, self.padding, self.dropout_rate, name=self.name)\n",
        "                skip_connections.append(skip_out)\n",
        "        if self.use_skip_connections:\n",
        "            x = keras.layers.add(skip_connections)\n",
        "        x = Activation('relu')(x)\n",
        "\n",
        "        if not self.return_sequences:\n",
        "            output_slice_index = -1\n",
        "            x = Lambda(lambda tt: tt[:, output_slice_index, :])(x)\n",
        "        return x"
      ],
      "metadata": {
        "id": "alKxQs751llb"
      },
      "execution_count": 18,
      "outputs": []
    },
    {
      "cell_type": "code",
      "execution_count": 19,
      "metadata": {
        "colab": {
          "base_uri": "https://localhost:8080/"
        },
        "id": "fampnwRy5XUm",
        "outputId": "2acb3aed-bd08-42e5-9b1d-4e4a12028b91"
      },
      "outputs": [
        {
          "output_type": "stream",
          "name": "stdout",
          "text": [
            "Model: \"model_2\"\n",
            "__________________________________________________________________________________________________\n",
            " Layer (type)                   Output Shape         Param #     Connected to                     \n",
            "==================================================================================================\n",
            " input_3 (InputLayer)           [(None, 128, 6)]     0           []                               \n",
            "                                                                                                  \n",
            " spatial_dropout1d_2 (SpatialDr  (None, 128, 6)      0           ['input_3[0][0]']                \n",
            " opout1D)                                                                                         \n",
            "                                                                                                  \n",
            " tnc1_initial_conv (Conv1D)     (None, 128, 128)     896         ['spatial_dropout1d_2[0][0]']    \n",
            "                                                                                                  \n",
            " tnc1_dilated_conv_1_tanh_s0 (C  (None, 128, 128)    49280       ['tnc1_initial_conv[0][0]']      \n",
            " onv1D)                                                                                           \n",
            "                                                                                                  \n",
            " activation_24 (Activation)     (None, 128, 128)     0           ['tnc1_dilated_conv_1_tanh_s0[0][\n",
            "                                                                 0]']                             \n",
            "                                                                                                  \n",
            " lambda_20 (Lambda)             (None, 128, 128)     0           ['activation_24[0][0]']          \n",
            "                                                                                                  \n",
            " tnc1_spatial_dropout1d_1_s0_0.  (None, 128, 128)    0           ['lambda_20[0][0]']              \n",
            " 000000 (SpatialDropout1D)                                                                        \n",
            "                                                                                                  \n",
            " conv1d_20 (Conv1D)             (None, 128, 128)     16512       ['tnc1_spatial_dropout1d_1_s0_0.0\n",
            "                                                                 00000[0][0]']                    \n",
            "                                                                                                  \n",
            " add_24 (Add)                   (None, 128, 128)     0           ['tnc1_initial_conv[0][0]',      \n",
            "                                                                  'conv1d_20[0][0]']              \n",
            "                                                                                                  \n",
            " tnc1_dilated_conv_2_tanh_s0 (C  (None, 128, 128)    49280       ['add_24[0][0]']                 \n",
            " onv1D)                                                                                           \n",
            "                                                                                                  \n",
            " activation_25 (Activation)     (None, 128, 128)     0           ['tnc1_dilated_conv_2_tanh_s0[0][\n",
            "                                                                 0]']                             \n",
            "                                                                                                  \n",
            " lambda_21 (Lambda)             (None, 128, 128)     0           ['activation_25[0][0]']          \n",
            "                                                                                                  \n",
            " tnc1_spatial_dropout1d_2_s0_0.  (None, 128, 128)    0           ['lambda_21[0][0]']              \n",
            " 000000 (SpatialDropout1D)                                                                        \n",
            "                                                                                                  \n",
            " conv1d_21 (Conv1D)             (None, 128, 128)     16512       ['tnc1_spatial_dropout1d_2_s0_0.0\n",
            "                                                                 00000[0][0]']                    \n",
            "                                                                                                  \n",
            " add_25 (Add)                   (None, 128, 128)     0           ['add_24[0][0]',                 \n",
            "                                                                  'conv1d_21[0][0]']              \n",
            "                                                                                                  \n",
            " tnc1_dilated_conv_4_tanh_s0 (C  (None, 128, 128)    49280       ['add_25[0][0]']                 \n",
            " onv1D)                                                                                           \n",
            "                                                                                                  \n",
            " activation_26 (Activation)     (None, 128, 128)     0           ['tnc1_dilated_conv_4_tanh_s0[0][\n",
            "                                                                 0]']                             \n",
            "                                                                                                  \n",
            " lambda_22 (Lambda)             (None, 128, 128)     0           ['activation_26[0][0]']          \n",
            "                                                                                                  \n",
            " tnc1_spatial_dropout1d_4_s0_0.  (None, 128, 128)    0           ['lambda_22[0][0]']              \n",
            " 000000 (SpatialDropout1D)                                                                        \n",
            "                                                                                                  \n",
            " conv1d_22 (Conv1D)             (None, 128, 128)     16512       ['tnc1_spatial_dropout1d_4_s0_0.0\n",
            "                                                                 00000[0][0]']                    \n",
            "                                                                                                  \n",
            " add_26 (Add)                   (None, 128, 128)     0           ['add_25[0][0]',                 \n",
            "                                                                  'conv1d_22[0][0]']              \n",
            "                                                                                                  \n",
            " tnc1_dilated_conv_8_tanh_s0 (C  (None, 128, 128)    49280       ['add_26[0][0]']                 \n",
            " onv1D)                                                                                           \n",
            "                                                                                                  \n",
            " activation_27 (Activation)     (None, 128, 128)     0           ['tnc1_dilated_conv_8_tanh_s0[0][\n",
            "                                                                 0]']                             \n",
            "                                                                                                  \n",
            " lambda_23 (Lambda)             (None, 128, 128)     0           ['activation_27[0][0]']          \n",
            "                                                                                                  \n",
            " tnc1_spatial_dropout1d_8_s0_0.  (None, 128, 128)    0           ['lambda_23[0][0]']              \n",
            " 000000 (SpatialDropout1D)                                                                        \n",
            "                                                                                                  \n",
            " conv1d_23 (Conv1D)             (None, 128, 128)     16512       ['tnc1_spatial_dropout1d_8_s0_0.0\n",
            "                                                                 00000[0][0]']                    \n",
            "                                                                                                  \n",
            " add_27 (Add)                   (None, 128, 128)     0           ['add_26[0][0]',                 \n",
            "                                                                  'conv1d_23[0][0]']              \n",
            "                                                                                                  \n",
            " tnc1_dilated_conv_16_tanh_s0 (  (None, 128, 128)    49280       ['add_27[0][0]']                 \n",
            " Conv1D)                                                                                          \n",
            "                                                                                                  \n",
            " activation_28 (Activation)     (None, 128, 128)     0           ['tnc1_dilated_conv_16_tanh_s0[0]\n",
            "                                                                 [0]']                            \n",
            "                                                                                                  \n",
            " lambda_24 (Lambda)             (None, 128, 128)     0           ['activation_28[0][0]']          \n",
            "                                                                                                  \n",
            " tnc1_spatial_dropout1d_16_s0_0  (None, 128, 128)    0           ['lambda_24[0][0]']              \n",
            " .000000 (SpatialDropout1D)                                                                       \n",
            "                                                                                                  \n",
            " conv1d_24 (Conv1D)             (None, 128, 128)     16512       ['tnc1_spatial_dropout1d_16_s0_0.\n",
            "                                                                 000000[0][0]']                   \n",
            "                                                                                                  \n",
            " add_29 (Add)                   (None, 128, 128)     0           ['conv1d_20[0][0]',              \n",
            "                                                                  'conv1d_21[0][0]',              \n",
            "                                                                  'conv1d_22[0][0]',              \n",
            "                                                                  'conv1d_23[0][0]',              \n",
            "                                                                  'conv1d_24[0][0]']              \n",
            "                                                                                                  \n",
            " activation_29 (Activation)     (None, 128, 128)     0           ['add_29[0][0]']                 \n",
            "                                                                                                  \n",
            " tnc2_initial_conv (Conv1D)     (None, 128, 128)     16512       ['activation_29[0][0]']          \n",
            "                                                                                                  \n",
            " tnc2_dilated_conv_1_tanh_s0 (C  (None, 128, 128)    49280       ['tnc2_initial_conv[0][0]']      \n",
            " onv1D)                                                                                           \n",
            "                                                                                                  \n",
            " activation_30 (Activation)     (None, 128, 128)     0           ['tnc2_dilated_conv_1_tanh_s0[0][\n",
            "                                                                 0]']                             \n",
            "                                                                                                  \n",
            " lambda_25 (Lambda)             (None, 128, 128)     0           ['activation_30[0][0]']          \n",
            "                                                                                                  \n",
            " tnc2_spatial_dropout1d_1_s0_0.  (None, 128, 128)    0           ['lambda_25[0][0]']              \n",
            " 000000 (SpatialDropout1D)                                                                        \n",
            "                                                                                                  \n",
            " conv1d_25 (Conv1D)             (None, 128, 128)     16512       ['tnc2_spatial_dropout1d_1_s0_0.0\n",
            "                                                                 00000[0][0]']                    \n",
            "                                                                                                  \n",
            " add_30 (Add)                   (None, 128, 128)     0           ['tnc2_initial_conv[0][0]',      \n",
            "                                                                  'conv1d_25[0][0]']              \n",
            "                                                                                                  \n",
            " tnc2_dilated_conv_2_tanh_s0 (C  (None, 128, 128)    49280       ['add_30[0][0]']                 \n",
            " onv1D)                                                                                           \n",
            "                                                                                                  \n",
            " activation_31 (Activation)     (None, 128, 128)     0           ['tnc2_dilated_conv_2_tanh_s0[0][\n",
            "                                                                 0]']                             \n",
            "                                                                                                  \n",
            " lambda_26 (Lambda)             (None, 128, 128)     0           ['activation_31[0][0]']          \n",
            "                                                                                                  \n",
            " tnc2_spatial_dropout1d_2_s0_0.  (None, 128, 128)    0           ['lambda_26[0][0]']              \n",
            " 000000 (SpatialDropout1D)                                                                        \n",
            "                                                                                                  \n",
            " conv1d_26 (Conv1D)             (None, 128, 128)     16512       ['tnc2_spatial_dropout1d_2_s0_0.0\n",
            "                                                                 00000[0][0]']                    \n",
            "                                                                                                  \n",
            " add_31 (Add)                   (None, 128, 128)     0           ['add_30[0][0]',                 \n",
            "                                                                  'conv1d_26[0][0]']              \n",
            "                                                                                                  \n",
            " tnc2_dilated_conv_4_tanh_s0 (C  (None, 128, 128)    49280       ['add_31[0][0]']                 \n",
            " onv1D)                                                                                           \n",
            "                                                                                                  \n",
            " activation_32 (Activation)     (None, 128, 128)     0           ['tnc2_dilated_conv_4_tanh_s0[0][\n",
            "                                                                 0]']                             \n",
            "                                                                                                  \n",
            " lambda_27 (Lambda)             (None, 128, 128)     0           ['activation_32[0][0]']          \n",
            "                                                                                                  \n",
            " tnc2_spatial_dropout1d_4_s0_0.  (None, 128, 128)    0           ['lambda_27[0][0]']              \n",
            " 000000 (SpatialDropout1D)                                                                        \n",
            "                                                                                                  \n",
            " conv1d_27 (Conv1D)             (None, 128, 128)     16512       ['tnc2_spatial_dropout1d_4_s0_0.0\n",
            "                                                                 00000[0][0]']                    \n",
            "                                                                                                  \n",
            " add_32 (Add)                   (None, 128, 128)     0           ['add_31[0][0]',                 \n",
            "                                                                  'conv1d_27[0][0]']              \n",
            "                                                                                                  \n",
            " tnc2_dilated_conv_8_tanh_s0 (C  (None, 128, 128)    49280       ['add_32[0][0]']                 \n",
            " onv1D)                                                                                           \n",
            "                                                                                                  \n",
            " activation_33 (Activation)     (None, 128, 128)     0           ['tnc2_dilated_conv_8_tanh_s0[0][\n",
            "                                                                 0]']                             \n",
            "                                                                                                  \n",
            " lambda_28 (Lambda)             (None, 128, 128)     0           ['activation_33[0][0]']          \n",
            "                                                                                                  \n",
            " tnc2_spatial_dropout1d_8_s0_0.  (None, 128, 128)    0           ['lambda_28[0][0]']              \n",
            " 000000 (SpatialDropout1D)                                                                        \n",
            "                                                                                                  \n",
            " conv1d_28 (Conv1D)             (None, 128, 128)     16512       ['tnc2_spatial_dropout1d_8_s0_0.0\n",
            "                                                                 00000[0][0]']                    \n",
            "                                                                                                  \n",
            " add_33 (Add)                   (None, 128, 128)     0           ['add_32[0][0]',                 \n",
            "                                                                  'conv1d_28[0][0]']              \n",
            "                                                                                                  \n",
            " tnc2_dilated_conv_16_tanh_s0 (  (None, 128, 128)    49280       ['add_33[0][0]']                 \n",
            " Conv1D)                                                                                          \n",
            "                                                                                                  \n",
            " activation_34 (Activation)     (None, 128, 128)     0           ['tnc2_dilated_conv_16_tanh_s0[0]\n",
            "                                                                 [0]']                            \n",
            "                                                                                                  \n",
            " lambda_29 (Lambda)             (None, 128, 128)     0           ['activation_34[0][0]']          \n",
            "                                                                                                  \n",
            " tnc2_spatial_dropout1d_16_s0_0  (None, 128, 128)    0           ['lambda_29[0][0]']              \n",
            " .000000 (SpatialDropout1D)                                                                       \n",
            "                                                                                                  \n",
            " conv1d_29 (Conv1D)             (None, 128, 128)     16512       ['tnc2_spatial_dropout1d_16_s0_0.\n",
            "                                                                 000000[0][0]']                   \n",
            "                                                                                                  \n",
            " add_35 (Add)                   (None, 128, 128)     0           ['conv1d_25[0][0]',              \n",
            "                                                                  'conv1d_26[0][0]',              \n",
            "                                                                  'conv1d_27[0][0]',              \n",
            "                                                                  'conv1d_28[0][0]',              \n",
            "                                                                  'conv1d_29[0][0]']              \n",
            "                                                                                                  \n",
            " activation_35 (Activation)     (None, 128, 128)     0           ['add_35[0][0]']                 \n",
            "                                                                                                  \n",
            " global_max_pooling1d_2 (Global  (None, 128)         0           ['activation_35[0][0]']          \n",
            " MaxPooling1D)                                                                                    \n",
            "                                                                                                  \n",
            " dense_4 (Dense)                (None, 128)          16512       ['global_max_pooling1d_2[0][0]'] \n",
            "                                                                                                  \n",
            " dropout_2 (Dropout)            (None, 128)          0           ['dense_4[0][0]']                \n",
            "                                                                                                  \n",
            " dense_5 (Dense)                (None, 20)           2580        ['dropout_2[0][0]']              \n",
            "                                                                                                  \n",
            "==================================================================================================\n",
            "Total params: 694,420\n",
            "Trainable params: 694,420\n",
            "Non-trainable params: 0\n",
            "__________________________________________________________________________________________________\n"
          ]
        }
      ],
      "source": [
        "input_shape = x_train.shape[1:]\n",
        "input = Input(shape=x_train.shape[1:])\n",
        "x = SpatialDropout1D(0.2)(input)\n",
        "x = TCN(128,dilations = [1, 2, 4, 8, 16],kernel_size = 3, return_sequences=True, name = 'tnc1')(x)\n",
        "x = TCN(128,dilations = [1, 2, 4, 8, 16],kernel_size = 3, return_sequences=True, name = 'tnc2')(x)\n",
        "max_pool = GlobalMaxPooling1D()(x)\n",
        "x = Dense(128, activation=\"relu\")(max_pool)\n",
        "x = Dropout(0.2)(x)\n",
        "output = Dense(20, activation=\"softmax\")(x)    \n",
        "model = Model(inputs=input, outputs=output)\n",
        "model.compile(loss='categorical_crossentropy', optimizer='adam', metrics=['accuracy'])\n",
        "model.summary()\n",
        "\n",
        "callbacks = [keras.callbacks.EarlyStopping(patience=5, restore_best_weights=True)]"
      ]
    },
    {
      "cell_type": "code",
      "execution_count": 20,
      "metadata": {
        "colab": {
          "base_uri": "https://localhost:8080/"
        },
        "id": "SaWCy3YG9Vlu",
        "outputId": "138b11d2-ef14-45fb-da67-7d0b7bbaa2f0"
      },
      "outputs": [
        {
          "output_type": "stream",
          "name": "stdout",
          "text": [
            "Epoch 1/200\n",
            "278/278 [==============================] - 62s 210ms/step - loss: 0.7237 - accuracy: 0.7896 - val_loss: 0.1224 - val_accuracy: 0.9682\n",
            "Epoch 2/200\n",
            "278/278 [==============================] - 57s 206ms/step - loss: 0.1823 - accuracy: 0.9496 - val_loss: 0.0877 - val_accuracy: 0.9741\n",
            "Epoch 3/200\n",
            "278/278 [==============================] - 57s 205ms/step - loss: 0.1212 - accuracy: 0.9663 - val_loss: 0.0555 - val_accuracy: 0.9846\n",
            "Epoch 4/200\n",
            "278/278 [==============================] - 56s 200ms/step - loss: 0.0979 - accuracy: 0.9725 - val_loss: 0.0548 - val_accuracy: 0.9849\n",
            "Epoch 5/200\n",
            "278/278 [==============================] - 56s 201ms/step - loss: 0.0800 - accuracy: 0.9767 - val_loss: 0.0456 - val_accuracy: 0.9873\n",
            "Epoch 6/200\n",
            "278/278 [==============================] - 56s 201ms/step - loss: 0.0735 - accuracy: 0.9788 - val_loss: 0.0639 - val_accuracy: 0.9811\n",
            "Epoch 7/200\n",
            "278/278 [==============================] - 56s 202ms/step - loss: 0.0637 - accuracy: 0.9816 - val_loss: 0.0431 - val_accuracy: 0.9879\n",
            "Epoch 8/200\n",
            "278/278 [==============================] - 56s 201ms/step - loss: 0.0616 - accuracy: 0.9822 - val_loss: 0.0515 - val_accuracy: 0.9858\n",
            "Epoch 9/200\n",
            "278/278 [==============================] - 56s 201ms/step - loss: 0.0591 - accuracy: 0.9823 - val_loss: 0.0476 - val_accuracy: 0.9865\n",
            "Epoch 10/200\n",
            "278/278 [==============================] - 57s 205ms/step - loss: 0.0481 - accuracy: 0.9858 - val_loss: 0.0411 - val_accuracy: 0.9892\n",
            "Epoch 11/200\n",
            "278/278 [==============================] - 56s 201ms/step - loss: 0.0491 - accuracy: 0.9853 - val_loss: 0.0439 - val_accuracy: 0.9875\n",
            "Epoch 12/200\n",
            "278/278 [==============================] - 56s 201ms/step - loss: 0.0488 - accuracy: 0.9854 - val_loss: 0.0547 - val_accuracy: 0.9853\n",
            "Epoch 13/200\n",
            "278/278 [==============================] - 56s 201ms/step - loss: 0.0441 - accuracy: 0.9868 - val_loss: 0.0379 - val_accuracy: 0.9899\n",
            "Epoch 14/200\n",
            "278/278 [==============================] - 57s 205ms/step - loss: 0.0410 - accuracy: 0.9874 - val_loss: 0.0323 - val_accuracy: 0.9905\n",
            "Epoch 15/200\n",
            "278/278 [==============================] - 56s 201ms/step - loss: 0.0449 - accuracy: 0.9863 - val_loss: 0.0362 - val_accuracy: 0.9903\n",
            "Epoch 16/200\n",
            "278/278 [==============================] - 56s 201ms/step - loss: 0.0363 - accuracy: 0.9892 - val_loss: 0.0396 - val_accuracy: 0.9895\n",
            "Epoch 17/200\n",
            "278/278 [==============================] - 56s 201ms/step - loss: 0.0401 - accuracy: 0.9876 - val_loss: 0.0593 - val_accuracy: 0.9843\n",
            "Epoch 18/200\n",
            "278/278 [==============================] - 56s 201ms/step - loss: 0.0381 - accuracy: 0.9886 - val_loss: 0.0340 - val_accuracy: 0.9906\n",
            "Epoch 19/200\n",
            "278/278 [==============================] - 57s 205ms/step - loss: 0.0330 - accuracy: 0.9908 - val_loss: 0.0353 - val_accuracy: 0.9908\n"
          ]
        }
      ],
      "source": [
        "history = model.fit(x_train, y_train, epochs=200, verbose=True, validation_data=(x_validation, y_validation), batch_size=128,callbacks=callbacks)"
      ]
    },
    {
      "cell_type": "code",
      "execution_count": 21,
      "metadata": {
        "id": "ZbGvxYBj9Wse",
        "colab": {
          "base_uri": "https://localhost:8080/"
        },
        "outputId": "f2648b56-18c6-478a-aa5a-c4ddf7906d95"
      },
      "outputs": [
        {
          "output_type": "stream",
          "name": "stdout",
          "text": [
            "Validation Accuracy:  0.9905\n",
            "Testing Accuracy: 0.9729\n"
          ]
        }
      ],
      "source": [
        "loss, accuracy = model.evaluate(x_validation, y_validation, verbose=False)\n",
        "print(\"Validation Accuracy:  {:.4f}\".format(accuracy))\n",
        "loss, accuracy = model.evaluate(x_test, y_test, verbose=False)\n",
        "print(\"Testing Accuracy: {:.4f}\".format(accuracy))"
      ]
    },
    {
      "cell_type": "code",
      "source": [
        "from matplotlib import pyplot as plt\n",
        "plt.plot(history.history[\"loss\"], label=\"Training Loss\")\n",
        "plt.plot(history.history[\"val_loss\"], label=\"Validation Loss\")\n",
        "plt.legend()\n",
        "plt.show()\n",
        "from matplotlib import pyplot as plt\n",
        "plt.plot(history.history[\"accuracy\"], label=\"Training accuracy\")\n",
        "plt.plot(history.history[\"val_accuracy\"], label=\"Validation accuracy\")\n",
        "plt.legend()\n",
        "plt.show()"
      ],
      "metadata": {
        "colab": {
          "base_uri": "https://localhost:8080/",
          "height": 517
        },
        "id": "dv0pnVtn87MC",
        "outputId": "3ad52f45-a334-4507-8809-1984d8428695"
      },
      "execution_count": 22,
      "outputs": [
        {
          "output_type": "display_data",
          "data": {
            "image/png": "[encoded data removed]",
            "text/plain": [
              "<Figure size 432x288 with 1 Axes>"
            ]
          },
          "metadata": {
            "needs_background": "light"
          }
        },
        {
          "output_type": "display_data",
          "data": {
            "image/png": "[encoded data removed]",
            "text/plain": [
              "<Figure size 432x288 with 1 Axes>"
            ]
          },
          "metadata": {
            "needs_background": "light"
          }
        }
      ]
    }
  ],
  "metadata": {
    "accelerator": "GPU",
    "colab": {
      "name": "TCN_dataset_2.ipynb",
      "provenance": []
    },
    "kernelspec": {
      "display_name": "Python 3",
      "name": "python3"
    },
    "language_info": {
      "name": "python"
    }
  },
  "nbformat": 4,
  "nbformat_minor": 0
}