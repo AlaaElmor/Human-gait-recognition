{
  "nbformat": 4,
  "nbformat_minor": 0,
  "metadata": {
    "colab": {
      "name": "TCN.ipynb",
      "provenance": []
    },
    "kernelspec": {
      "name": "python3",
      "display_name": "Python 3"
    },
    "language_info": {
      "name": "python"
    },
    "accelerator": "GPU"
  },
  "cells": [
    {
      "cell_type": "code",
      "execution_count": 4,
      "metadata": {
        "colab": {
          "base_uri": "https://localhost:8080/"
        },
        "id": "YQFREF7L5GqL",
        "outputId": "594e9aea-05ca-4c8d-8049-59fd51ce3314"
      },
      "outputs": [
        {
          "output_type": "stream",
          "name": "stdout",
          "text": [
            "Requirement already satisfied: keras-tcn in /usr/local/lib/python3.7/dist-packages (3.4.2)\n",
            "Requirement already satisfied: tensorflow-addons in /usr/local/lib/python3.7/dist-packages (from keras-tcn) (0.15.0)\n",
            "Requirement already satisfied: numpy in /usr/local/lib/python3.7/dist-packages (from keras-tcn) (1.19.5)\n",
            "Requirement already satisfied: tensorflow in /usr/local/lib/python3.7/dist-packages (from keras-tcn) (2.7.0)\n",
            "Requirement already satisfied: libclang>=9.0.1 in /usr/local/lib/python3.7/dist-packages (from tensorflow->keras-tcn) (13.0.0)\n",
            "Requirement already satisfied: tensorflow-io-gcs-filesystem>=0.21.0 in /usr/local/lib/python3.7/dist-packages (from tensorflow->keras-tcn) (0.24.0)\n",
            "Requirement already satisfied: wheel<1.0,>=0.32.0 in /usr/local/lib/python3.7/dist-packages (from tensorflow->keras-tcn) (0.37.1)\n",
            "Requirement already satisfied: h5py>=2.9.0 in /usr/local/lib/python3.7/dist-packages (from tensorflow->keras-tcn) (3.1.0)\n",
            "Requirement already satisfied: tensorboard~=2.6 in /usr/local/lib/python3.7/dist-packages (from tensorflow->keras-tcn) (2.7.0)\n",
            "Requirement already satisfied: tensorflow-estimator<2.8,~=2.7.0rc0 in /usr/local/lib/python3.7/dist-packages (from tensorflow->keras-tcn) (2.7.0)\n",
            "Requirement already satisfied: astunparse>=1.6.0 in /usr/local/lib/python3.7/dist-packages (from tensorflow->keras-tcn) (1.6.3)\n",
            "Requirement already satisfied: six>=1.12.0 in /usr/local/lib/python3.7/dist-packages (from tensorflow->keras-tcn) (1.15.0)\n",
            "Requirement already satisfied: keras<2.8,>=2.7.0rc0 in /usr/local/lib/python3.7/dist-packages (from tensorflow->keras-tcn) (2.7.0)\n",
            "Requirement already satisfied: wrapt>=1.11.0 in /usr/local/lib/python3.7/dist-packages (from tensorflow->keras-tcn) (1.13.3)\n",
            "Requirement already satisfied: google-pasta>=0.1.1 in /usr/local/lib/python3.7/dist-packages (from tensorflow->keras-tcn) (0.2.0)\n",
            "Requirement already satisfied: opt-einsum>=2.3.2 in /usr/local/lib/python3.7/dist-packages (from tensorflow->keras-tcn) (3.3.0)\n",
            "Requirement already satisfied: termcolor>=1.1.0 in /usr/local/lib/python3.7/dist-packages (from tensorflow->keras-tcn) (1.1.0)\n",
            "Requirement already satisfied: gast<0.5.0,>=0.2.1 in /usr/local/lib/python3.7/dist-packages (from tensorflow->keras-tcn) (0.4.0)\n",
            "Requirement already satisfied: grpcio<2.0,>=1.24.3 in /usr/local/lib/python3.7/dist-packages (from tensorflow->keras-tcn) (1.43.0)\n",
            "Requirement already satisfied: keras-preprocessing>=1.1.1 in /usr/local/lib/python3.7/dist-packages (from tensorflow->keras-tcn) (1.1.2)\n",
            "Requirement already satisfied: typing-extensions>=3.6.6 in /usr/local/lib/python3.7/dist-packages (from tensorflow->keras-tcn) (3.10.0.2)\n",
            "Requirement already satisfied: flatbuffers<3.0,>=1.12 in /usr/local/lib/python3.7/dist-packages (from tensorflow->keras-tcn) (2.0)\n",
            "Requirement already satisfied: absl-py>=0.4.0 in /usr/local/lib/python3.7/dist-packages (from tensorflow->keras-tcn) (1.0.0)\n",
            "Requirement already satisfied: protobuf>=3.9.2 in /usr/local/lib/python3.7/dist-packages (from tensorflow->keras-tcn) (3.17.3)\n",
            "Requirement already satisfied: cached-property in /usr/local/lib/python3.7/dist-packages (from h5py>=2.9.0->tensorflow->keras-tcn) (1.5.2)\n",
            "Requirement already satisfied: google-auth-oauthlib<0.5,>=0.4.1 in /usr/local/lib/python3.7/dist-packages (from tensorboard~=2.6->tensorflow->keras-tcn) (0.4.6)\n",
            "Requirement already satisfied: requests<3,>=2.21.0 in /usr/local/lib/python3.7/dist-packages (from tensorboard~=2.6->tensorflow->keras-tcn) (2.23.0)\n",
            "Requirement already satisfied: setuptools>=41.0.0 in /usr/local/lib/python3.7/dist-packages (from tensorboard~=2.6->tensorflow->keras-tcn) (57.4.0)\n",
            "Requirement already satisfied: markdown>=2.6.8 in /usr/local/lib/python3.7/dist-packages (from tensorboard~=2.6->tensorflow->keras-tcn) (3.3.6)\n",
            "Requirement already satisfied: google-auth<3,>=1.6.3 in /usr/local/lib/python3.7/dist-packages (from tensorboard~=2.6->tensorflow->keras-tcn) (1.35.0)\n",
            "Requirement already satisfied: werkzeug>=0.11.15 in /usr/local/lib/python3.7/dist-packages (from tensorboard~=2.6->tensorflow->keras-tcn) (1.0.1)\n",
            "Requirement already satisfied: tensorboard-data-server<0.7.0,>=0.6.0 in /usr/local/lib/python3.7/dist-packages (from tensorboard~=2.6->tensorflow->keras-tcn) (0.6.1)\n",
            "Requirement already satisfied: tensorboard-plugin-wit>=1.6.0 in /usr/local/lib/python3.7/dist-packages (from tensorboard~=2.6->tensorflow->keras-tcn) (1.8.1)\n",
            "Requirement already satisfied: rsa<5,>=3.1.4 in /usr/local/lib/python3.7/dist-packages (from google-auth<3,>=1.6.3->tensorboard~=2.6->tensorflow->keras-tcn) (4.8)\n",
            "Requirement already satisfied: pyasn1-modules>=0.2.1 in /usr/local/lib/python3.7/dist-packages (from google-auth<3,>=1.6.3->tensorboard~=2.6->tensorflow->keras-tcn) (0.2.8)\n",
            "Requirement already satisfied: cachetools<5.0,>=2.0.0 in /usr/local/lib/python3.7/dist-packages (from google-auth<3,>=1.6.3->tensorboard~=2.6->tensorflow->keras-tcn) (4.2.4)\n",
            "Requirement already satisfied: requests-oauthlib>=0.7.0 in /usr/local/lib/python3.7/dist-packages (from google-auth-oauthlib<0.5,>=0.4.1->tensorboard~=2.6->tensorflow->keras-tcn) (1.3.1)\n",
            "Requirement already satisfied: importlib-metadata>=4.4 in /usr/local/lib/python3.7/dist-packages (from markdown>=2.6.8->tensorboard~=2.6->tensorflow->keras-tcn) (4.10.1)\n",
            "Requirement already satisfied: zipp>=0.5 in /usr/local/lib/python3.7/dist-packages (from importlib-metadata>=4.4->markdown>=2.6.8->tensorboard~=2.6->tensorflow->keras-tcn) (3.7.0)\n",
            "Requirement already satisfied: pyasn1<0.5.0,>=0.4.6 in /usr/local/lib/python3.7/dist-packages (from pyasn1-modules>=0.2.1->google-auth<3,>=1.6.3->tensorboard~=2.6->tensorflow->keras-tcn) (0.4.8)\n",
            "Requirement already satisfied: chardet<4,>=3.0.2 in /usr/local/lib/python3.7/dist-packages (from requests<3,>=2.21.0->tensorboard~=2.6->tensorflow->keras-tcn) (3.0.4)\n",
            "Requirement already satisfied: urllib3!=1.25.0,!=1.25.1,<1.26,>=1.21.1 in /usr/local/lib/python3.7/dist-packages (from requests<3,>=2.21.0->tensorboard~=2.6->tensorflow->keras-tcn) (1.24.3)\n",
            "Requirement already satisfied: idna<3,>=2.5 in /usr/local/lib/python3.7/dist-packages (from requests<3,>=2.21.0->tensorboard~=2.6->tensorflow->keras-tcn) (2.10)\n",
            "Requirement already satisfied: certifi>=2017.4.17 in /usr/local/lib/python3.7/dist-packages (from requests<3,>=2.21.0->tensorboard~=2.6->tensorflow->keras-tcn) (2021.10.8)\n",
            "Requirement already satisfied: oauthlib>=3.0.0 in /usr/local/lib/python3.7/dist-packages (from requests-oauthlib>=0.7.0->google-auth-oauthlib<0.5,>=0.4.1->tensorboard~=2.6->tensorflow->keras-tcn) (3.2.0)\n",
            "Requirement already satisfied: typeguard>=2.7 in /usr/local/lib/python3.7/dist-packages (from tensorflow-addons->keras-tcn) (2.7.1)\n"
          ]
        }
      ],
      "source": [
        "from numpy import save, load\n",
        "from pandas import read_csv\n",
        "from keras.layers import Dense\n",
        "from keras.layers import Flatten\n",
        "from keras.layers import Dropout\n",
        "from keras import Model\n",
        "from keras.layers import Conv1D, SpatialDropout1D\n",
        "from keras.layers import Convolution1D, Dense\n",
        "from keras.models import Input, Model\n",
        "from keras.layers import LSTM, Conv1D, concatenate,GlobalMaxPooling1D,GlobalAveragePooling1D,TimeDistributed, MaxPooling1D\n",
        "import tensorflow as tf\n",
        "import numpy as np\n",
        "!pip install keras-tcn\n",
        "from tcn import TCN"
      ]
    },
    {
      "cell_type": "code",
      "source": [
        "from google.colab import drive\n",
        "drive.mount('/content/drive')\n",
        "\n",
        "from google.colab import drive\n",
        "\n",
        "drive.mount('/content/gdrive')\n",
        "root_path = 'gdrive/My Drive/'  #change dir to your project folder\n",
        "\n",
        "import numpy as np\n",
        "x_train = np.load('gdrive/My Drive/dataset/dataset6/trainX.npy')\n",
        "y_train = np.load('gdrive/My Drive/dataset/dataset6/trainy.npy')\n",
        "x_test = np.load('gdrive/My Drive/dataset/dataset6/testX.npy')\n",
        "y_test = np.load('gdrive/My Drive/dataset/dataset6/testy.npy')\n",
        "print(x_train.shape, y_train.shape, x_test.shape, y_test.shape)"
      ],
      "metadata": {
        "colab": {
          "base_uri": "https://localhost:8080/"
        },
        "id": "mxaKZAFk5TvK",
        "outputId": "80d44bd0-b40c-4463-f553-82d2ff73182e"
      },
      "execution_count": 72,
      "outputs": [
        {
          "output_type": "stream",
          "name": "stdout",
          "text": [
            "Mounted at /content/drive\n",
            "Mounted at /content/gdrive\n",
            "(66542, 128, 12) (66542, 2) (7600, 128, 12) (7600, 2)\n"
          ]
        }
      ]
    },
    {
      "cell_type": "code",
      "source": [
        "from sklearn.model_selection import train_test_split\n",
        "x_train, x_validation, y_train, y_validation = train_test_split(x_train, y_train, test_size=0.20, random_state=42)"
      ],
      "metadata": {
        "id": "OqP6bY3k5UZH"
      },
      "execution_count": 73,
      "outputs": []
    },
    {
      "cell_type": "code",
      "source": [
        "input_shape = x_train.shape[1:]\n",
        "inp = Input(shape=x_train.shape[1:])\n",
        "x = SpatialDropout1D(0.2)(inp)\n",
        "x = TCN(128,dilations = [1, 2, 4], return_sequences=True)(x)\n",
        "x = TCN(64,dilations = [1, 2, 4], return_sequences=True)(x)\n",
        "avg_pool = GlobalAveragePooling1D()(x)\n",
        "max_pool = GlobalMaxPooling1D()(x)\n",
        "    \n",
        "conc = concatenate([avg_pool, max_pool])\n",
        "conc = Dense(64, activation=\"relu\")(conc)\n",
        "conc = Dropout(0.2)(conc)\n",
        "outp = Dense(2, activation=\"softmax\")(conc)    \n",
        "model = Model(inputs=inp, outputs=outp)\n",
        "model.compile(loss='categorical_crossentropy', optimizer='adam', metrics=['accuracy'])\n",
        "model.summary()"
      ],
      "metadata": {
        "colab": {
          "base_uri": "https://localhost:8080/"
        },
        "id": "fampnwRy5XUm",
        "outputId": "5da24f0c-2991-4a61-ec2e-f53cdfccee99"
      },
      "execution_count": 74,
      "outputs": [
        {
          "output_type": "stream",
          "name": "stdout",
          "text": [
            "Model: \"model_14\"\n",
            "__________________________________________________________________________________________________\n",
            " Layer (type)                   Output Shape         Param #     Connected to                     \n",
            "==================================================================================================\n",
            " input_15 (InputLayer)          [(None, 128, 12)]    0           []                               \n",
            "                                                                                                  \n",
            " spatial_dropout1d_14 (SpatialD  (None, 128, 12)     0           ['input_15[0][0]']               \n",
            " ropout1D)                                                                                        \n",
            "                                                                                                  \n",
            " tcn_28 (TCN)                   (None, 128, 128)     252800      ['spatial_dropout1d_14[0][0]']   \n",
            "                                                                                                  \n",
            " tcn_29 (TCN)                   (None, 128, 64)      94656       ['tcn_28[0][0]']                 \n",
            "                                                                                                  \n",
            " global_average_pooling1d_14 (G  (None, 64)          0           ['tcn_29[0][0]']                 \n",
            " lobalAveragePooling1D)                                                                           \n",
            "                                                                                                  \n",
            " global_max_pooling1d_14 (Globa  (None, 64)          0           ['tcn_29[0][0]']                 \n",
            " lMaxPooling1D)                                                                                   \n",
            "                                                                                                  \n",
            " concatenate_14 (Concatenate)   (None, 128)          0           ['global_average_pooling1d_14[0][\n",
            "                                                                 0]',                             \n",
            "                                                                  'global_max_pooling1d_14[0][0]']\n",
            "                                                                                                  \n",
            " dense_28 (Dense)               (None, 64)           8256        ['concatenate_14[0][0]']         \n",
            "                                                                                                  \n",
            " dropout_14 (Dropout)           (None, 64)           0           ['dense_28[0][0]']               \n",
            "                                                                                                  \n",
            " dense_29 (Dense)               (None, 2)            130         ['dropout_14[0][0]']             \n",
            "                                                                                                  \n",
            "==================================================================================================\n",
            "Total params: 355,842\n",
            "Trainable params: 355,842\n",
            "Non-trainable params: 0\n",
            "__________________________________________________________________________________________________\n"
          ]
        }
      ]
    },
    {
      "cell_type": "code",
      "source": [
        "history = model.fit(x_train, y_train, epochs=50, verbose=True, validation_data=(x_validation, y_validation), batch_size=128)"
      ],
      "metadata": {
        "colab": {
          "base_uri": "https://localhost:8080/"
        },
        "id": "SaWCy3YG9Vlu",
        "outputId": "efb71d2a-0f4d-4890-a982-4023c6691151"
      },
      "execution_count": 75,
      "outputs": [
        {
          "output_type": "stream",
          "name": "stdout",
          "text": [
            "Epoch 1/50\n",
            "416/416 [==============================] - 34s 75ms/step - loss: 0.5437 - accuracy: 0.7694 - val_loss: 0.3700 - val_accuracy: 0.8249\n",
            "Epoch 2/50\n",
            "416/416 [==============================] - 30s 73ms/step - loss: 0.3835 - accuracy: 0.8239 - val_loss: 0.2702 - val_accuracy: 0.8895\n",
            "Epoch 3/50\n",
            "416/416 [==============================] - 30s 73ms/step - loss: 0.3521 - accuracy: 0.8440 - val_loss: 0.2543 - val_accuracy: 0.8974\n",
            "Epoch 4/50\n",
            "416/416 [==============================] - 31s 73ms/step - loss: 0.3330 - accuracy: 0.8509 - val_loss: 0.2719 - val_accuracy: 0.8858\n",
            "Epoch 5/50\n",
            "416/416 [==============================] - 30s 73ms/step - loss: 0.3229 - accuracy: 0.8566 - val_loss: 0.2500 - val_accuracy: 0.8961\n",
            "Epoch 6/50\n",
            "416/416 [==============================] - 30s 73ms/step - loss: 0.3025 - accuracy: 0.8668 - val_loss: 0.2207 - val_accuracy: 0.9110\n",
            "Epoch 7/50\n",
            "416/416 [==============================] - 30s 73ms/step - loss: 0.2942 - accuracy: 0.8702 - val_loss: 0.2415 - val_accuracy: 0.9063\n",
            "Epoch 8/50\n",
            "416/416 [==============================] - 30s 73ms/step - loss: 0.2874 - accuracy: 0.8740 - val_loss: 0.2111 - val_accuracy: 0.9143\n",
            "Epoch 9/50\n",
            "416/416 [==============================] - 33s 80ms/step - loss: 0.2798 - accuracy: 0.8793 - val_loss: 0.1968 - val_accuracy: 0.9170\n",
            "Epoch 10/50\n",
            "416/416 [==============================] - 30s 73ms/step - loss: 0.2692 - accuracy: 0.8837 - val_loss: 0.1945 - val_accuracy: 0.9231\n",
            "Epoch 11/50\n",
            "416/416 [==============================] - 30s 73ms/step - loss: 0.2643 - accuracy: 0.8874 - val_loss: 0.1796 - val_accuracy: 0.9283\n",
            "Epoch 12/50\n",
            "416/416 [==============================] - 30s 73ms/step - loss: 0.2559 - accuracy: 0.8897 - val_loss: 0.1706 - val_accuracy: 0.9318\n",
            "Epoch 13/50\n",
            "416/416 [==============================] - 30s 73ms/step - loss: 0.2487 - accuracy: 0.8929 - val_loss: 0.1726 - val_accuracy: 0.9337\n",
            "Epoch 14/50\n",
            "416/416 [==============================] - 30s 73ms/step - loss: 0.2433 - accuracy: 0.8960 - val_loss: 0.1912 - val_accuracy: 0.9204\n",
            "Epoch 15/50\n",
            "416/416 [==============================] - 30s 73ms/step - loss: 0.2398 - accuracy: 0.8970 - val_loss: 0.1875 - val_accuracy: 0.9265\n",
            "Epoch 16/50\n",
            "416/416 [==============================] - 32s 77ms/step - loss: 0.2340 - accuracy: 0.9004 - val_loss: 0.1731 - val_accuracy: 0.9291\n",
            "Epoch 17/50\n",
            "416/416 [==============================] - 30s 73ms/step - loss: 0.2289 - accuracy: 0.9024 - val_loss: 0.1821 - val_accuracy: 0.9306\n",
            "Epoch 18/50\n",
            "416/416 [==============================] - 30s 73ms/step - loss: 0.2272 - accuracy: 0.9036 - val_loss: 0.1712 - val_accuracy: 0.9312\n",
            "Epoch 19/50\n",
            "416/416 [==============================] - 30s 73ms/step - loss: 0.2187 - accuracy: 0.9081 - val_loss: 0.1508 - val_accuracy: 0.9436\n",
            "Epoch 20/50\n",
            "416/416 [==============================] - 30s 73ms/step - loss: 0.2172 - accuracy: 0.9070 - val_loss: 0.1628 - val_accuracy: 0.9386\n",
            "Epoch 21/50\n",
            "416/416 [==============================] - 30s 73ms/step - loss: 0.2101 - accuracy: 0.9105 - val_loss: 0.1456 - val_accuracy: 0.9442\n",
            "Epoch 22/50\n",
            "416/416 [==============================] - 30s 73ms/step - loss: 0.2065 - accuracy: 0.9140 - val_loss: 0.1544 - val_accuracy: 0.9389\n",
            "Epoch 23/50\n",
            "416/416 [==============================] - 30s 73ms/step - loss: 0.2053 - accuracy: 0.9144 - val_loss: 0.1429 - val_accuracy: 0.9426\n",
            "Epoch 24/50\n",
            "416/416 [==============================] - 30s 73ms/step - loss: 0.1991 - accuracy: 0.9177 - val_loss: 0.1459 - val_accuracy: 0.9424\n",
            "Epoch 25/50\n",
            "416/416 [==============================] - 30s 73ms/step - loss: 0.1962 - accuracy: 0.9183 - val_loss: 0.1408 - val_accuracy: 0.9453\n",
            "Epoch 26/50\n",
            "416/416 [==============================] - 30s 73ms/step - loss: 0.1931 - accuracy: 0.9207 - val_loss: 0.1440 - val_accuracy: 0.9461\n",
            "Epoch 27/50\n",
            "416/416 [==============================] - 30s 73ms/step - loss: 0.1889 - accuracy: 0.9223 - val_loss: 0.1433 - val_accuracy: 0.9472\n",
            "Epoch 28/50\n",
            "416/416 [==============================] - 30s 73ms/step - loss: 0.1872 - accuracy: 0.9220 - val_loss: 0.1349 - val_accuracy: 0.9486\n",
            "Epoch 29/50\n",
            "416/416 [==============================] - 30s 73ms/step - loss: 0.1819 - accuracy: 0.9250 - val_loss: 0.1428 - val_accuracy: 0.9439\n",
            "Epoch 30/50\n",
            "416/416 [==============================] - 30s 73ms/step - loss: 0.1795 - accuracy: 0.9252 - val_loss: 0.1384 - val_accuracy: 0.9474\n",
            "Epoch 31/50\n",
            "416/416 [==============================] - 30s 73ms/step - loss: 0.1803 - accuracy: 0.9249 - val_loss: 0.1291 - val_accuracy: 0.9497\n",
            "Epoch 32/50\n",
            "416/416 [==============================] - 30s 73ms/step - loss: 0.1756 - accuracy: 0.9273 - val_loss: 0.1373 - val_accuracy: 0.9473\n",
            "Epoch 33/50\n",
            "416/416 [==============================] - 30s 73ms/step - loss: 0.1743 - accuracy: 0.9284 - val_loss: 0.1389 - val_accuracy: 0.9490\n",
            "Epoch 34/50\n",
            "416/416 [==============================] - 30s 73ms/step - loss: 0.1710 - accuracy: 0.9299 - val_loss: 0.1269 - val_accuracy: 0.9516\n",
            "Epoch 35/50\n",
            "416/416 [==============================] - 30s 73ms/step - loss: 0.1718 - accuracy: 0.9295 - val_loss: 0.1277 - val_accuracy: 0.9507\n",
            "Epoch 36/50\n",
            "416/416 [==============================] - 30s 73ms/step - loss: 0.1672 - accuracy: 0.9312 - val_loss: 0.1243 - val_accuracy: 0.9525\n",
            "Epoch 37/50\n",
            "416/416 [==============================] - 30s 73ms/step - loss: 0.1647 - accuracy: 0.9328 - val_loss: 0.1251 - val_accuracy: 0.9523\n",
            "Epoch 38/50\n",
            "416/416 [==============================] - 30s 73ms/step - loss: 0.1611 - accuracy: 0.9342 - val_loss: 0.1233 - val_accuracy: 0.9525\n",
            "Epoch 39/50\n",
            "416/416 [==============================] - 30s 73ms/step - loss: 0.1627 - accuracy: 0.9344 - val_loss: 0.1436 - val_accuracy: 0.9438\n",
            "Epoch 40/50\n",
            "416/416 [==============================] - 30s 73ms/step - loss: 0.1614 - accuracy: 0.9328 - val_loss: 0.1377 - val_accuracy: 0.9479\n",
            "Epoch 41/50\n",
            "416/416 [==============================] - 30s 73ms/step - loss: 0.1571 - accuracy: 0.9353 - val_loss: 0.1288 - val_accuracy: 0.9512\n",
            "Epoch 42/50\n",
            "416/416 [==============================] - 30s 73ms/step - loss: 0.1538 - accuracy: 0.9368 - val_loss: 0.1244 - val_accuracy: 0.9510\n",
            "Epoch 43/50\n",
            "416/416 [==============================] - 30s 73ms/step - loss: 0.1570 - accuracy: 0.9361 - val_loss: 0.1242 - val_accuracy: 0.9545\n",
            "Epoch 44/50\n",
            "416/416 [==============================] - 30s 73ms/step - loss: 0.1543 - accuracy: 0.9378 - val_loss: 0.1270 - val_accuracy: 0.9508\n",
            "Epoch 45/50\n",
            "416/416 [==============================] - 31s 73ms/step - loss: 0.1522 - accuracy: 0.9384 - val_loss: 0.1244 - val_accuracy: 0.9538\n",
            "Epoch 46/50\n",
            "416/416 [==============================] - 31s 73ms/step - loss: 0.1494 - accuracy: 0.9386 - val_loss: 0.1272 - val_accuracy: 0.9500\n",
            "Epoch 47/50\n",
            "416/416 [==============================] - 30s 73ms/step - loss: 0.1442 - accuracy: 0.9420 - val_loss: 0.1186 - val_accuracy: 0.9530\n",
            "Epoch 48/50\n",
            "416/416 [==============================] - 30s 73ms/step - loss: 0.1471 - accuracy: 0.9404 - val_loss: 0.1266 - val_accuracy: 0.9532\n",
            "Epoch 49/50\n",
            "416/416 [==============================] - 31s 73ms/step - loss: 0.1465 - accuracy: 0.9397 - val_loss: 0.1203 - val_accuracy: 0.9543\n",
            "Epoch 50/50\n",
            "416/416 [==============================] - 30s 73ms/step - loss: 0.1472 - accuracy: 0.9409 - val_loss: 0.1218 - val_accuracy: 0.9542\n"
          ]
        }
      ]
    },
    {
      "cell_type": "code",
      "source": [
        "loss1, accuracy1 = model.evaluate(x_validation, y_validation, verbose=False)\n",
        "print(\"Validation Accuracy:  {:.4f}\".format(accuracy1))\n",
        "loss1, accuracy1 = model.evaluate(x_test, y_test, verbose=False)\n",
        "print(\"Testing Accuracy: {:.4f}\".format(accuracy1))"
      ],
      "metadata": {
        "colab": {
          "base_uri": "https://localhost:8080/"
        },
        "id": "ZbGvxYBj9Wse",
        "outputId": "62b1c9de-5bde-41d9-d113-47b98f74151f"
      },
      "execution_count": 76,
      "outputs": [
        {
          "output_type": "stream",
          "name": "stdout",
          "text": [
            "Validation Accuracy:  0.9542\n",
            "Testing Accuracy: 0.9128\n"
          ]
        }
      ]
    }
  ]
}