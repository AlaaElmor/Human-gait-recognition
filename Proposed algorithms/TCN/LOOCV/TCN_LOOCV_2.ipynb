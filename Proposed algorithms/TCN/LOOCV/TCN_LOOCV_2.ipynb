{
  "nbformat": 4,
  "nbformat_minor": 0,
  "metadata": {
    "colab": {
      "name": "TCN_LOOCV_2.ipynb",
      "provenance": [],
      "collapsed_sections": []
    },
    "kernelspec": {
      "name": "python3",
      "display_name": "Python 3"
    },
    "language_info": {
      "name": "python"
    }
  },
  "cells": [
    {
      "cell_type": "code",
      "execution_count": 1,
      "metadata": {
        "id": "6jld7QOcbthL"
      },
      "outputs": [],
      "source": [
        "from numpy import save, load\n",
        "from pandas import read_csv\n",
        "from keras.layers import Dense\n",
        "from keras.layers import Flatten\n",
        "from keras.layers import Dropout\n",
        "from keras import Model\n",
        "from keras.layers import Conv1D, SpatialDropout1D\n",
        "from keras.layers import Convolution1D, Dense,Activation\n",
        "from keras.models import Input, Model\n",
        "from keras.layers import LSTM, Conv1D, concatenate,GlobalMaxPooling1D,GlobalAveragePooling1D,TimeDistributed, MaxPooling1D\n",
        "import tensorflow as tf\n",
        "import numpy as np\n",
        "import keras.backend as K\n",
        "import keras.layers\n",
        "from keras import optimizers\n",
        "from keras.layers import Activation, Lambda\n",
        "from keras.layers import Convolution1D, Dense\n",
        "from keras.models import Input, Model\n",
        "from typing import List, Tuple"
      ]
    },
    {
      "cell_type": "code",
      "source": [
        "from google.colab import drive\n",
        "drive.mount('/content/drive')\n",
        "\n",
        "from google.colab import drive\n",
        "\n",
        "drive.mount('/content/gdrive')\n",
        "root_path = 'gdrive/My Drive/'  #change dir to your project folder\n",
        "\n",
        "import numpy as np\n",
        "x_train = np.load('gdrive/My Drive/dataset2/trainX.npy')\n",
        "y_train = np.load('gdrive/My Drive/dataset2/trainy.npy')\n",
        "x_test = np.load('gdrive/My Drive/dataset2/testX.npy')\n",
        "y_test = np.load('gdrive/My Drive/dataset2/testy.npy')\n",
        "print(x_train.shape, y_train.shape, x_test.shape, y_test.shape)"
      ],
      "metadata": {
        "colab": {
          "base_uri": "https://localhost:8080/"
        },
        "id": "IB8WGsZMbyC4",
        "outputId": "b7ad8316-b8fd-4e32-f15c-34e6a68122f7"
      },
      "execution_count": 2,
      "outputs": [
        {
          "output_type": "stream",
          "name": "stdout",
          "text": [
            "Mounted at /content/drive\n",
            "Mounted at /content/gdrive\n",
            "(44339, 128, 6) (44339, 20) (4936, 128, 6) (4936, 20)\n"
          ]
        }
      ]
    },
    {
      "cell_type": "code",
      "source": [
        "\n",
        "from sklearn.model_selection import LeaveOneOut\n",
        "#idx = np.random.permutation(len(x_train))\n",
        "#x_train = x_train[idx]\n",
        "#y_train = y_train[idx]\n",
        "#from sklearn.model_selection import train_test_split\n",
        "#x_train, x_validation, y_train, y_validation = train_test_split(x_train, y_train, test_size=0.20, random_state=42)\n",
        "cv = LeaveOneOut()\n",
        "for train_idx , val_idx in cv.split(x_train):\n",
        "  X_train, X_val = x_train[train_idx], x_train[val_idx]\n",
        "  Y_train, Y_val = y_train[train_idx], y_train[val_idx]"
      ],
      "metadata": {
        "id": "9V-8vpCOb-MR"
      },
      "execution_count": 3,
      "outputs": []
    },
    {
      "cell_type": "code",
      "source": [
        "X_train.shape"
      ],
      "metadata": {
        "colab": {
          "base_uri": "https://localhost:8080/"
        },
        "id": "ymFnQxsRcGQx",
        "outputId": "e70c683f-45ce-4588-993d-5108e1066f5b"
      },
      "execution_count": 4,
      "outputs": [
        {
          "output_type": "execute_result",
          "data": {
            "text/plain": [
              "(44338, 6, 128)"
            ]
          },
          "metadata": {},
          "execution_count": 4
        }
      ]
    },
    {
      "cell_type": "code",
      "source": [
        "def channel_normalization(x):\n",
        "    max_values = K.max(K.abs(x), 2, keepdims=True) + 1e-5\n",
        "    out = x / max_values\n",
        "    return out\n",
        "\n",
        "def residual_block(x, s, i, activation, nb_filters, kernel_size, padding, dropout_rate=0, name=''):\n",
        "    original_x = x\n",
        "    conv = Conv1D(filters=nb_filters, kernel_size=kernel_size,\n",
        "                  dilation_rate=i, padding=padding,\n",
        "                  name=name + '_dilated_conv_%d_tanh_s%d' % (i, s))(x)\n",
        "    if activation == 'norm_relu':\n",
        "        x = Activation('relu')(conv)\n",
        "        x = Lambda(channel_normalization)(x)\n",
        "    else:\n",
        "        x = Activation(activation)(conv)\n",
        "\n",
        "    x = SpatialDropout1D(dropout_rate, name=name + '_spatial_dropout1d_%d_s%d_%f' % (i, s, dropout_rate))(x)\n",
        "\n",
        "    # 1x1 conv.\n",
        "    x = Convolution1D(nb_filters, 1, padding='same')(x)\n",
        "    res_x = keras.layers.add([original_x, x])\n",
        "    return res_x, x"
      ],
      "metadata": {
        "id": "9vHXgutBcLL_"
      },
      "execution_count": 5,
      "outputs": []
    },
    {
      "cell_type": "code",
      "source": [
        "class TCN:\n",
        "\n",
        "    def __init__(self,\n",
        "                 nb_filters=64,\n",
        "                 kernel_size=2,\n",
        "                 nb_stacks=1,\n",
        "                 dilations=None,\n",
        "                 activation='norm_relu',\n",
        "                 padding='causal',\n",
        "                 use_skip_connections=True,\n",
        "                 dropout_rate=0.0,\n",
        "                 return_sequences=True,\n",
        "                 name='tcn'):\n",
        "        self.name = name\n",
        "        self.return_sequences = return_sequences\n",
        "        self.dropout_rate = dropout_rate\n",
        "        self.use_skip_connections = use_skip_connections\n",
        "        self.activation = activation\n",
        "        self.dilations = dilations\n",
        "        self.nb_stacks = nb_stacks\n",
        "        self.kernel_size = kernel_size\n",
        "        self.nb_filters = nb_filters\n",
        "        self.padding = padding\n",
        "        \n",
        "        if padding != 'causal' and padding != 'same':\n",
        "            raise ValueError(\"Only 'causal' or 'same' paddings are compatible for this layer.\")\n",
        "\n",
        "        if not isinstance(nb_filters, int):\n",
        "            print('An interface change occurred after the version 2.1.2.')\n",
        "            print('Before: tcn.TCN(i, return_sequences=False, ...)')\n",
        "            print('Now should be: tcn.TCN(return_sequences=False, ...)(i)')\n",
        "            print('Second solution is to pip install keras-tcn==2.1.2 to downgrade.')\n",
        "            raise Exception()\n",
        "\n",
        "    def __call__(self, inputs):\n",
        "        if self.dilations is None:\n",
        "            self.dilations = [1, 2, 4, 8, 16, 32]\n",
        "        x = inputs\n",
        "        x = Convolution1D(self.nb_filters, 1, padding=self.padding, name=self.name + '_initial_conv')(x)\n",
        "        skip_connections = []\n",
        "        for s in range(self.nb_stacks):\n",
        "            for i in self.dilations:\n",
        "                x, skip_out = residual_block(x, s, i, self.activation, self.nb_filters,\n",
        "                                             self.kernel_size, self.padding, self.dropout_rate, name=self.name)\n",
        "                skip_connections.append(skip_out)\n",
        "        if self.use_skip_connections:\n",
        "            x = keras.layers.add(skip_connections)\n",
        "        x = Activation('relu')(x)\n",
        "\n",
        "        if not self.return_sequences:\n",
        "            output_slice_index = -1\n",
        "            x = Lambda(lambda tt: tt[:, output_slice_index, :])(x)\n",
        "        return x"
      ],
      "metadata": {
        "id": "xwOp6cuGcL_r"
      },
      "execution_count": 6,
      "outputs": []
    },
    {
      "cell_type": "code",
      "source": [
        "input_shape = X_train.shape[1:]\n",
        "input = Input(shape=X_train.shape[1:])\n",
        "x = SpatialDropout1D(0.2)(input)\n",
        "x = TCN(128,dilations = [1, 2, 4, 8, 16],kernel_size = 3, return_sequences=True, name = 'tnc1')(x)\n",
        "x = TCN(128,dilations = [1, 2, 4, 8, 16],kernel_size = 3, return_sequences=True, name = 'tnc2')(x)\n",
        "max_pool = GlobalMaxPooling1D()(x)\n",
        "x = Dense(128, activation=\"relu\")(max_pool)\n",
        "x = Dropout(0.2)(x)\n",
        "output = Dense(20, activation=\"softmax\")(x)    \n",
        "model = Model(inputs=input, outputs=output)\n",
        "model.compile(loss='categorical_crossentropy', optimizer='adam', metrics=['accuracy'])\n",
        "model.summary()\n",
        "\n",
        "callbacks = [keras.callbacks.EarlyStopping(patience=5, restore_best_weights=True)]"
      ],
      "metadata": {
        "colab": {
          "base_uri": "https://localhost:8080/"
        },
        "id": "BS0pPvfwcPiy",
        "outputId": "7ca737a2-2f41-44ab-9dc8-eb2f8ace1431"
      },
      "execution_count": 9,
      "outputs": [
        {
          "output_type": "stream",
          "name": "stdout",
          "text": [
            "Model: \"model_1\"\n",
            "__________________________________________________________________________________________________\n",
            " Layer (type)                   Output Shape         Param #     Connected to                     \n",
            "==================================================================================================\n",
            " input_2 (InputLayer)           [(None, 6, 128)]     0           []                               \n",
            "                                                                                                  \n",
            " spatial_dropout1d_1 (SpatialDr  (None, 6, 128)      0           ['input_2[0][0]']                \n",
            " opout1D)                                                                                         \n",
            "                                                                                                  \n",
            " tnc1_initial_conv (Conv1D)     (None, 6, 128)       16512       ['spatial_dropout1d_1[0][0]']    \n",
            "                                                                                                  \n",
            " tnc1_dilated_conv_1_tanh_s0 (C  (None, 6, 128)      49280       ['tnc1_initial_conv[0][0]']      \n",
            " onv1D)                                                                                           \n",
            "                                                                                                  \n",
            " activation_12 (Activation)     (None, 6, 128)       0           ['tnc1_dilated_conv_1_tanh_s0[0][\n",
            "                                                                 0]']                             \n",
            "                                                                                                  \n",
            " lambda_10 (Lambda)             (None, 6, 128)       0           ['activation_12[0][0]']          \n",
            "                                                                                                  \n",
            " tnc1_spatial_dropout1d_1_s0_0.  (None, 6, 128)      0           ['lambda_10[0][0]']              \n",
            " 000000 (SpatialDropout1D)                                                                        \n",
            "                                                                                                  \n",
            " conv1d_10 (Conv1D)             (None, 6, 128)       16512       ['tnc1_spatial_dropout1d_1_s0_0.0\n",
            "                                                                 00000[0][0]']                    \n",
            "                                                                                                  \n",
            " add_12 (Add)                   (None, 6, 128)       0           ['tnc1_initial_conv[0][0]',      \n",
            "                                                                  'conv1d_10[0][0]']              \n",
            "                                                                                                  \n",
            " tnc1_dilated_conv_2_tanh_s0 (C  (None, 6, 128)      49280       ['add_12[0][0]']                 \n",
            " onv1D)                                                                                           \n",
            "                                                                                                  \n",
            " activation_13 (Activation)     (None, 6, 128)       0           ['tnc1_dilated_conv_2_tanh_s0[0][\n",
            "                                                                 0]']                             \n",
            "                                                                                                  \n",
            " lambda_11 (Lambda)             (None, 6, 128)       0           ['activation_13[0][0]']          \n",
            "                                                                                                  \n",
            " tnc1_spatial_dropout1d_2_s0_0.  (None, 6, 128)      0           ['lambda_11[0][0]']              \n",
            " 000000 (SpatialDropout1D)                                                                        \n",
            "                                                                                                  \n",
            " conv1d_11 (Conv1D)             (None, 6, 128)       16512       ['tnc1_spatial_dropout1d_2_s0_0.0\n",
            "                                                                 00000[0][0]']                    \n",
            "                                                                                                  \n",
            " add_13 (Add)                   (None, 6, 128)       0           ['add_12[0][0]',                 \n",
            "                                                                  'conv1d_11[0][0]']              \n",
            "                                                                                                  \n",
            " tnc1_dilated_conv_4_tanh_s0 (C  (None, 6, 128)      49280       ['add_13[0][0]']                 \n",
            " onv1D)                                                                                           \n",
            "                                                                                                  \n",
            " activation_14 (Activation)     (None, 6, 128)       0           ['tnc1_dilated_conv_4_tanh_s0[0][\n",
            "                                                                 0]']                             \n",
            "                                                                                                  \n",
            " lambda_12 (Lambda)             (None, 6, 128)       0           ['activation_14[0][0]']          \n",
            "                                                                                                  \n",
            " tnc1_spatial_dropout1d_4_s0_0.  (None, 6, 128)      0           ['lambda_12[0][0]']              \n",
            " 000000 (SpatialDropout1D)                                                                        \n",
            "                                                                                                  \n",
            " conv1d_12 (Conv1D)             (None, 6, 128)       16512       ['tnc1_spatial_dropout1d_4_s0_0.0\n",
            "                                                                 00000[0][0]']                    \n",
            "                                                                                                  \n",
            " add_14 (Add)                   (None, 6, 128)       0           ['add_13[0][0]',                 \n",
            "                                                                  'conv1d_12[0][0]']              \n",
            "                                                                                                  \n",
            " tnc1_dilated_conv_8_tanh_s0 (C  (None, 6, 128)      49280       ['add_14[0][0]']                 \n",
            " onv1D)                                                                                           \n",
            "                                                                                                  \n",
            " activation_15 (Activation)     (None, 6, 128)       0           ['tnc1_dilated_conv_8_tanh_s0[0][\n",
            "                                                                 0]']                             \n",
            "                                                                                                  \n",
            " lambda_13 (Lambda)             (None, 6, 128)       0           ['activation_15[0][0]']          \n",
            "                                                                                                  \n",
            " tnc1_spatial_dropout1d_8_s0_0.  (None, 6, 128)      0           ['lambda_13[0][0]']              \n",
            " 000000 (SpatialDropout1D)                                                                        \n",
            "                                                                                                  \n",
            " conv1d_13 (Conv1D)             (None, 6, 128)       16512       ['tnc1_spatial_dropout1d_8_s0_0.0\n",
            "                                                                 00000[0][0]']                    \n",
            "                                                                                                  \n",
            " add_15 (Add)                   (None, 6, 128)       0           ['add_14[0][0]',                 \n",
            "                                                                  'conv1d_13[0][0]']              \n",
            "                                                                                                  \n",
            " tnc1_dilated_conv_16_tanh_s0 (  (None, 6, 128)      49280       ['add_15[0][0]']                 \n",
            " Conv1D)                                                                                          \n",
            "                                                                                                  \n",
            " activation_16 (Activation)     (None, 6, 128)       0           ['tnc1_dilated_conv_16_tanh_s0[0]\n",
            "                                                                 [0]']                            \n",
            "                                                                                                  \n",
            " lambda_14 (Lambda)             (None, 6, 128)       0           ['activation_16[0][0]']          \n",
            "                                                                                                  \n",
            " tnc1_spatial_dropout1d_16_s0_0  (None, 6, 128)      0           ['lambda_14[0][0]']              \n",
            " .000000 (SpatialDropout1D)                                                                       \n",
            "                                                                                                  \n",
            " conv1d_14 (Conv1D)             (None, 6, 128)       16512       ['tnc1_spatial_dropout1d_16_s0_0.\n",
            "                                                                 000000[0][0]']                   \n",
            "                                                                                                  \n",
            " add_17 (Add)                   (None, 6, 128)       0           ['conv1d_10[0][0]',              \n",
            "                                                                  'conv1d_11[0][0]',              \n",
            "                                                                  'conv1d_12[0][0]',              \n",
            "                                                                  'conv1d_13[0][0]',              \n",
            "                                                                  'conv1d_14[0][0]']              \n",
            "                                                                                                  \n",
            " activation_17 (Activation)     (None, 6, 128)       0           ['add_17[0][0]']                 \n",
            "                                                                                                  \n",
            " tnc2_initial_conv (Conv1D)     (None, 6, 128)       16512       ['activation_17[0][0]']          \n",
            "                                                                                                  \n",
            " tnc2_dilated_conv_1_tanh_s0 (C  (None, 6, 128)      49280       ['tnc2_initial_conv[0][0]']      \n",
            " onv1D)                                                                                           \n",
            "                                                                                                  \n",
            " activation_18 (Activation)     (None, 6, 128)       0           ['tnc2_dilated_conv_1_tanh_s0[0][\n",
            "                                                                 0]']                             \n",
            "                                                                                                  \n",
            " lambda_15 (Lambda)             (None, 6, 128)       0           ['activation_18[0][0]']          \n",
            "                                                                                                  \n",
            " tnc2_spatial_dropout1d_1_s0_0.  (None, 6, 128)      0           ['lambda_15[0][0]']              \n",
            " 000000 (SpatialDropout1D)                                                                        \n",
            "                                                                                                  \n",
            " conv1d_15 (Conv1D)             (None, 6, 128)       16512       ['tnc2_spatial_dropout1d_1_s0_0.0\n",
            "                                                                 00000[0][0]']                    \n",
            "                                                                                                  \n",
            " add_18 (Add)                   (None, 6, 128)       0           ['tnc2_initial_conv[0][0]',      \n",
            "                                                                  'conv1d_15[0][0]']              \n",
            "                                                                                                  \n",
            " tnc2_dilated_conv_2_tanh_s0 (C  (None, 6, 128)      49280       ['add_18[0][0]']                 \n",
            " onv1D)                                                                                           \n",
            "                                                                                                  \n",
            " activation_19 (Activation)     (None, 6, 128)       0           ['tnc2_dilated_conv_2_tanh_s0[0][\n",
            "                                                                 0]']                             \n",
            "                                                                                                  \n",
            " lambda_16 (Lambda)             (None, 6, 128)       0           ['activation_19[0][0]']          \n",
            "                                                                                                  \n",
            " tnc2_spatial_dropout1d_2_s0_0.  (None, 6, 128)      0           ['lambda_16[0][0]']              \n",
            " 000000 (SpatialDropout1D)                                                                        \n",
            "                                                                                                  \n",
            " conv1d_16 (Conv1D)             (None, 6, 128)       16512       ['tnc2_spatial_dropout1d_2_s0_0.0\n",
            "                                                                 00000[0][0]']                    \n",
            "                                                                                                  \n",
            " add_19 (Add)                   (None, 6, 128)       0           ['add_18[0][0]',                 \n",
            "                                                                  'conv1d_16[0][0]']              \n",
            "                                                                                                  \n",
            " tnc2_dilated_conv_4_tanh_s0 (C  (None, 6, 128)      49280       ['add_19[0][0]']                 \n",
            " onv1D)                                                                                           \n",
            "                                                                                                  \n",
            " activation_20 (Activation)     (None, 6, 128)       0           ['tnc2_dilated_conv_4_tanh_s0[0][\n",
            "                                                                 0]']                             \n",
            "                                                                                                  \n",
            " lambda_17 (Lambda)             (None, 6, 128)       0           ['activation_20[0][0]']          \n",
            "                                                                                                  \n",
            " tnc2_spatial_dropout1d_4_s0_0.  (None, 6, 128)      0           ['lambda_17[0][0]']              \n",
            " 000000 (SpatialDropout1D)                                                                        \n",
            "                                                                                                  \n",
            " conv1d_17 (Conv1D)             (None, 6, 128)       16512       ['tnc2_spatial_dropout1d_4_s0_0.0\n",
            "                                                                 00000[0][0]']                    \n",
            "                                                                                                  \n",
            " add_20 (Add)                   (None, 6, 128)       0           ['add_19[0][0]',                 \n",
            "                                                                  'conv1d_17[0][0]']              \n",
            "                                                                                                  \n",
            " tnc2_dilated_conv_8_tanh_s0 (C  (None, 6, 128)      49280       ['add_20[0][0]']                 \n",
            " onv1D)                                                                                           \n",
            "                                                                                                  \n",
            " activation_21 (Activation)     (None, 6, 128)       0           ['tnc2_dilated_conv_8_tanh_s0[0][\n",
            "                                                                 0]']                             \n",
            "                                                                                                  \n",
            " lambda_18 (Lambda)             (None, 6, 128)       0           ['activation_21[0][0]']          \n",
            "                                                                                                  \n",
            " tnc2_spatial_dropout1d_8_s0_0.  (None, 6, 128)      0           ['lambda_18[0][0]']              \n",
            " 000000 (SpatialDropout1D)                                                                        \n",
            "                                                                                                  \n",
            " conv1d_18 (Conv1D)             (None, 6, 128)       16512       ['tnc2_spatial_dropout1d_8_s0_0.0\n",
            "                                                                 00000[0][0]']                    \n",
            "                                                                                                  \n",
            " add_21 (Add)                   (None, 6, 128)       0           ['add_20[0][0]',                 \n",
            "                                                                  'conv1d_18[0][0]']              \n",
            "                                                                                                  \n",
            " tnc2_dilated_conv_16_tanh_s0 (  (None, 6, 128)      49280       ['add_21[0][0]']                 \n",
            " Conv1D)                                                                                          \n",
            "                                                                                                  \n",
            " activation_22 (Activation)     (None, 6, 128)       0           ['tnc2_dilated_conv_16_tanh_s0[0]\n",
            "                                                                 [0]']                            \n",
            "                                                                                                  \n",
            " lambda_19 (Lambda)             (None, 6, 128)       0           ['activation_22[0][0]']          \n",
            "                                                                                                  \n",
            " tnc2_spatial_dropout1d_16_s0_0  (None, 6, 128)      0           ['lambda_19[0][0]']              \n",
            " .000000 (SpatialDropout1D)                                                                       \n",
            "                                                                                                  \n",
            " conv1d_19 (Conv1D)             (None, 6, 128)       16512       ['tnc2_spatial_dropout1d_16_s0_0.\n",
            "                                                                 000000[0][0]']                   \n",
            "                                                                                                  \n",
            " add_23 (Add)                   (None, 6, 128)       0           ['conv1d_15[0][0]',              \n",
            "                                                                  'conv1d_16[0][0]',              \n",
            "                                                                  'conv1d_17[0][0]',              \n",
            "                                                                  'conv1d_18[0][0]',              \n",
            "                                                                  'conv1d_19[0][0]']              \n",
            "                                                                                                  \n",
            " activation_23 (Activation)     (None, 6, 128)       0           ['add_23[0][0]']                 \n",
            "                                                                                                  \n",
            " global_max_pooling1d_1 (Global  (None, 128)         0           ['activation_23[0][0]']          \n",
            " MaxPooling1D)                                                                                    \n",
            "                                                                                                  \n",
            " dense_2 (Dense)                (None, 128)          16512       ['global_max_pooling1d_1[0][0]'] \n",
            "                                                                                                  \n",
            " dropout_1 (Dropout)            (None, 128)          0           ['dense_2[0][0]']                \n",
            "                                                                                                  \n",
            " dense_3 (Dense)                (None, 20)           2580        ['dropout_1[0][0]']              \n",
            "                                                                                                  \n",
            "==================================================================================================\n",
            "Total params: 710,036\n",
            "Trainable params: 710,036\n",
            "Non-trainable params: 0\n",
            "__________________________________________________________________________________________________\n"
          ]
        }
      ]
    },
    {
      "cell_type": "code",
      "source": [
        "history = model.fit(X_train, Y_train, epochs=200, verbose=True, validation_data=(X_val, Y_val), batch_size=128,callbacks=callbacks)\n"
      ],
      "metadata": {
        "colab": {
          "base_uri": "https://localhost:8080/"
        },
        "id": "cziislgqcTTA",
        "outputId": "5faa8327-ec4a-4d9c-f636-ec166917db57"
      },
      "execution_count": 10,
      "outputs": [
        {
          "output_type": "stream",
          "name": "stdout",
          "text": [
            "Epoch 1/200\n",
            "347/347 [==============================] - 66s 180ms/step - loss: 0.4423 - accuracy: 0.8760 - val_loss: 8.4591e-04 - val_accuracy: 1.0000\n",
            "Epoch 2/200\n",
            "347/347 [==============================] - 61s 175ms/step - loss: 0.1236 - accuracy: 0.9658 - val_loss: 1.3875e-04 - val_accuracy: 1.0000\n",
            "Epoch 3/200\n",
            "347/347 [==============================] - 60s 173ms/step - loss: 0.0914 - accuracy: 0.9735 - val_loss: 5.4954e-05 - val_accuracy: 1.0000\n",
            "Epoch 4/200\n",
            "347/347 [==============================] - 60s 173ms/step - loss: 0.0799 - accuracy: 0.9769 - val_loss: 5.2452e-06 - val_accuracy: 1.0000\n",
            "Epoch 5/200\n",
            "347/347 [==============================] - 61s 175ms/step - loss: 0.0684 - accuracy: 0.9801 - val_loss: 1.6808e-05 - val_accuracy: 1.0000\n",
            "Epoch 6/200\n",
            "347/347 [==============================] - 60s 174ms/step - loss: 0.0545 - accuracy: 0.9834 - val_loss: 4.3272e-05 - val_accuracy: 1.0000\n",
            "Epoch 7/200\n",
            "347/347 [==============================] - 61s 176ms/step - loss: 0.0515 - accuracy: 0.9847 - val_loss: 7.9870e-06 - val_accuracy: 1.0000\n",
            "Epoch 8/200\n",
            "347/347 [==============================] - 60s 172ms/step - loss: 0.0449 - accuracy: 0.9864 - val_loss: 6.3181e-06 - val_accuracy: 1.0000\n",
            "Epoch 9/200\n",
            "347/347 [==============================] - 61s 174ms/step - loss: 0.0422 - accuracy: 0.9867 - val_loss: 6.6757e-06 - val_accuracy: 1.0000\n"
          ]
        }
      ]
    },
    {
      "cell_type": "code",
      "source": [
        "loss, accuracy = model.evaluate(X_val, Y_val, verbose=False)\n",
        "print(\"Validation Accuracy:  {:.4f}\".format(accuracy))\n",
        "loss, accuracy = model.evaluate(x_test, y_test, verbose=False)\n",
        "print(\"Testing Accuracy: {:.4f}\".format(accuracy))"
      ],
      "metadata": {
        "colab": {
          "base_uri": "https://localhost:8080/"
        },
        "id": "SLaEWU7XcY2N",
        "outputId": "28cf30bd-1894-47cf-fbac-5a64864082b0"
      },
      "execution_count": 11,
      "outputs": [
        {
          "output_type": "stream",
          "name": "stdout",
          "text": [
            "Validation Accuracy:  1.0000\n",
            "Testing Accuracy: 0.9396\n"
          ]
        }
      ]
    },
    {
      "cell_type": "code",
      "source": [
        "from matplotlib import pyplot as plt\n",
        "plt.plot(history.history[\"loss\"], label=\"Training Loss\")\n",
        "plt.plot(history.history[\"val_loss\"], label=\"Validation Loss\")\n",
        "plt.legend()\n",
        "plt.show()\n",
        "from matplotlib import pyplot as plt\n",
        "plt.plot(history.history[\"accuracy\"], label=\"Training accuracy\")\n",
        "plt.plot(history.history[\"val_accuracy\"], label=\"Validation accuracy\")\n",
        "plt.legend()\n",
        "plt.show()"
      ],
      "metadata": {
        "colab": {
          "base_uri": "https://localhost:8080/",
          "height": 513
        },
        "id": "lpbFE4V0cbXF",
        "outputId": "c3b853f4-9286-4715-e51a-f23187f1d3f1"
      },
      "execution_count": 12,
      "outputs": [
        {
          "output_type": "display_data",
          "data": {
            "image/png": "[encoded data removed]",
            "text/plain": [
              "<Figure size 432x288 with 1 Axes>"
            ]
          },
          "metadata": {
            "needs_background": "light"
          }
        },
        {
          "output_type": "display_data",
          "data": {
            "image/png": "[encoded data removed]",
            "text/plain": [
              "<Figure size 432x288 with 1 Axes>"
            ]
          },
          "metadata": {
            "needs_background": "light"
          }
        }
      ]
    }
  ]
}