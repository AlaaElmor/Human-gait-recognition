{
  "nbformat": 4,
  "nbformat_minor": 0,
  "metadata": {
    "colab": {
      "name": "TCN_LOOCV_1.ipynb",
      "provenance": [],
      "collapsed_sections": []
    },
    "kernelspec": {
      "name": "python3",
      "display_name": "Python 3"
    },
    "language_info": {
      "name": "python"
    },
    "accelerator": "GPU"
  },
  "cells": [
    {
      "cell_type": "code",
      "execution_count": 2,
      "metadata": {
        "id": "kLDoSrulQDxj"
      },
      "outputs": [],
      "source": [
        "from numpy import save, load\n",
        "from pandas import read_csv\n",
        "from keras.layers import Dense\n",
        "from keras.layers import Flatten\n",
        "from keras.layers import Dropout\n",
        "from keras import Model\n",
        "from keras.layers import Conv1D, SpatialDropout1D\n",
        "from keras.layers import Convolution1D, Dense,Activation\n",
        "from keras.models import Input, Model\n",
        "from keras.layers import LSTM, Conv1D, concatenate,GlobalMaxPooling1D,GlobalAveragePooling1D,TimeDistributed, MaxPooling1D\n",
        "import tensorflow as tf\n",
        "import numpy as np\n",
        "import keras.backend as K\n",
        "import keras.layers\n",
        "from keras import optimizers\n",
        "from keras.layers import Activation, Lambda\n",
        "from keras.layers import Convolution1D, Dense\n",
        "from keras.models import Input, Model\n",
        "from typing import List, Tuple"
      ]
    },
    {
      "cell_type": "code",
      "source": [
        "from google.colab import drive\n",
        "drive.mount('/content/drive')\n",
        "\n",
        "from google.colab import drive\n",
        "\n",
        "drive.mount('/content/gdrive')\n",
        "root_path = 'gdrive/My Drive/'  #change dir to your project folder\n",
        "\n",
        "import numpy as np\n",
        "x_train = np.load('gdrive/My Drive/d1/trainX.npy')\n",
        "y_train = np.load('gdrive/My Drive/d1/trainy.npy')\n",
        "x_test = np.load('gdrive/My Drive/d1/testX.npy')\n",
        "y_test = np.load('gdrive/My Drive/d1/testy.npy')\n",
        "print(x_train.shape, y_train.shape, x_test.shape, y_test.shape)"
      ],
      "metadata": {
        "colab": {
          "base_uri": "https://localhost:8080/"
        },
        "id": "3QLOdQaWQUr9",
        "outputId": "2858e601-7d73-4d27-c79f-6ab8f49542df"
      },
      "execution_count": 3,
      "outputs": [
        {
          "output_type": "stream",
          "name": "stdout",
          "text": [
            "Mounted at /content/drive\n",
            "Mounted at /content/gdrive\n",
            "(33104, 128, 6) (33104, 118) (3740, 128, 6) (3740, 118)\n"
          ]
        }
      ]
    },
    {
      "cell_type": "code",
      "source": [
        "\n",
        "from sklearn.model_selection import LeaveOneOut\n",
        "#idx = np.random.permutation(len(x_train))\n",
        "#x_train = x_train[idx]\n",
        "#y_train = y_train[idx]\n",
        "#from sklearn.model_selection import train_test_split\n",
        "#x_train, x_validation, y_train, y_validation = train_test_split(x_train, y_train, test_size=0.20, random_state=42)\n",
        "cv = LeaveOneOut()\n",
        "for train_idx , val_idx in cv.split(x_train):\n",
        "  X_train, X_val = x_train[train_idx], x_train[val_idx]\n",
        "  Y_train, Y_val = y_train[train_idx], y_train[val_idx]"
      ],
      "metadata": {
        "id": "NMF81X_JQeQ4"
      },
      "execution_count": 4,
      "outputs": []
    },
    {
      "cell_type": "code",
      "source": [
        "X_train.shape"
      ],
      "metadata": {
        "colab": {
          "base_uri": "https://localhost:8080/"
        },
        "id": "xba9hbXEQh7g",
        "outputId": "b12e0fbf-db4b-456d-cec6-2cef7c855d9f"
      },
      "execution_count": 5,
      "outputs": [
        {
          "output_type": "execute_result",
          "data": {
            "text/plain": [
              "(33103, 6, 128)"
            ]
          },
          "metadata": {},
          "execution_count": 5
        }
      ]
    },
    {
      "cell_type": "code",
      "source": [
        "def channel_normalization(x):\n",
        "    max_values = K.max(K.abs(x), 2, keepdims=True) + 1e-5\n",
        "    out = x / max_values\n",
        "    return out\n",
        "\n",
        "def residual_block(x, s, i, activation, nb_filters, kernel_size, padding, dropout_rate=0, name=''):\n",
        "    original_x = x\n",
        "    conv = Conv1D(filters=nb_filters, kernel_size=kernel_size,\n",
        "                  dilation_rate=i, padding=padding,\n",
        "                  name=name + '_dilated_conv_%d_tanh_s%d' % (i, s))(x)\n",
        "    if activation == 'norm_relu':\n",
        "        x = Activation('relu')(conv)\n",
        "        x = Lambda(channel_normalization)(x)\n",
        "    else:\n",
        "        x = Activation(activation)(conv)\n",
        "\n",
        "    x = SpatialDropout1D(dropout_rate, name=name + '_spatial_dropout1d_%d_s%d_%f' % (i, s, dropout_rate))(x)\n",
        "\n",
        "    # 1x1 conv.\n",
        "    x = Convolution1D(nb_filters, 1, padding='same')(x)\n",
        "    res_x = keras.layers.add([original_x, x])\n",
        "    return res_x, x"
      ],
      "metadata": {
        "id": "r9BcWxLbQq_0"
      },
      "execution_count": 6,
      "outputs": []
    },
    {
      "cell_type": "code",
      "source": [
        "class TCN:\n",
        "\n",
        "    def __init__(self,\n",
        "                 nb_filters=64,\n",
        "                 kernel_size=2,\n",
        "                 nb_stacks=1,\n",
        "                 dilations=None,\n",
        "                 activation='norm_relu',\n",
        "                 padding='causal',\n",
        "                 use_skip_connections=True,\n",
        "                 dropout_rate=0.0,\n",
        "                 return_sequences=True,\n",
        "                 name='tcn'):\n",
        "        self.name = name\n",
        "        self.return_sequences = return_sequences\n",
        "        self.dropout_rate = dropout_rate\n",
        "        self.use_skip_connections = use_skip_connections\n",
        "        self.activation = activation\n",
        "        self.dilations = dilations\n",
        "        self.nb_stacks = nb_stacks\n",
        "        self.kernel_size = kernel_size\n",
        "        self.nb_filters = nb_filters\n",
        "        self.padding = padding\n",
        "        \n",
        "        if padding != 'causal' and padding != 'same':\n",
        "            raise ValueError(\"Only 'causal' or 'same' paddings are compatible for this layer.\")\n",
        "\n",
        "        if not isinstance(nb_filters, int):\n",
        "            print('An interface change occurred after the version 2.1.2.')\n",
        "            print('Before: tcn.TCN(i, return_sequences=False, ...)')\n",
        "            print('Now should be: tcn.TCN(return_sequences=False, ...)(i)')\n",
        "            print('Second solution is to pip install keras-tcn==2.1.2 to downgrade.')\n",
        "            raise Exception()\n",
        "\n",
        "    def __call__(self, inputs):\n",
        "        if self.dilations is None:\n",
        "            self.dilations = [1, 2, 4, 8, 16, 32]\n",
        "        x = inputs\n",
        "        x = Convolution1D(self.nb_filters, 1, padding=self.padding, name=self.name + '_initial_conv')(x)\n",
        "        skip_connections = []\n",
        "        for s in range(self.nb_stacks):\n",
        "            for i in self.dilations:\n",
        "                x, skip_out = residual_block(x, s, i, self.activation, self.nb_filters,\n",
        "                                             self.kernel_size, self.padding, self.dropout_rate, name=self.name)\n",
        "                skip_connections.append(skip_out)\n",
        "        if self.use_skip_connections:\n",
        "            x = keras.layers.add(skip_connections)\n",
        "        x = Activation('relu')(x)\n",
        "\n",
        "        if not self.return_sequences:\n",
        "            output_slice_index = -1\n",
        "            x = Lambda(lambda tt: tt[:, output_slice_index, :])(x)\n",
        "        return x"
      ],
      "metadata": {
        "id": "DY3xGJl3QrmX"
      },
      "execution_count": 7,
      "outputs": []
    },
    {
      "cell_type": "code",
      "source": [
        "input_shape = X_train.shape[1:]\n",
        "input = Input(shape=X_train.shape[1:])\n",
        "x = SpatialDropout1D(0.2)(input)\n",
        "x = TCN(128,dilations = [1, 2, 4, 8, 16],kernel_size = 3, return_sequences=True, name = 'tnc1')(x)\n",
        "x = TCN(128,dilations = [1, 2, 4, 8, 16],kernel_size = 3, return_sequences=True, name = 'tnc2')(x)\n",
        "max_pool = GlobalMaxPooling1D()(x)\n",
        "x = Dense(128, activation=\"relu\")(max_pool)\n",
        "x = Dropout(0.2)(x)\n",
        "output = Dense(118, activation=\"softmax\")(x)    \n",
        "model = Model(inputs=input, outputs=output)\n",
        "model.compile(loss='categorical_crossentropy', optimizer='adam', metrics=['accuracy'])\n",
        "model.summary()\n",
        "\n",
        "callbacks = [keras.callbacks.EarlyStopping(patience=5, restore_best_weights=True)]"
      ],
      "metadata": {
        "colab": {
          "base_uri": "https://localhost:8080/"
        },
        "id": "WpUHYMLPQyXW",
        "outputId": "a8988adf-51c9-4111-ff3e-f49c6dd9d85c"
      },
      "execution_count": 8,
      "outputs": [
        {
          "output_type": "stream",
          "name": "stdout",
          "text": [
            "Model: \"model\"\n",
            "__________________________________________________________________________________________________\n",
            " Layer (type)                   Output Shape         Param #     Connected to                     \n",
            "==================================================================================================\n",
            " input_1 (InputLayer)           [(None, 6, 128)]     0           []                               \n",
            "                                                                                                  \n",
            " spatial_dropout1d (SpatialDrop  (None, 6, 128)      0           ['input_1[0][0]']                \n",
            " out1D)                                                                                           \n",
            "                                                                                                  \n",
            " tnc1_initial_conv (Conv1D)     (None, 6, 128)       16512       ['spatial_dropout1d[0][0]']      \n",
            "                                                                                                  \n",
            " tnc1_dilated_conv_1_tanh_s0 (C  (None, 6, 128)      49280       ['tnc1_initial_conv[0][0]']      \n",
            " onv1D)                                                                                           \n",
            "                                                                                                  \n",
            " activation (Activation)        (None, 6, 128)       0           ['tnc1_dilated_conv_1_tanh_s0[0][\n",
            "                                                                 0]']                             \n",
            "                                                                                                  \n",
            " lambda (Lambda)                (None, 6, 128)       0           ['activation[0][0]']             \n",
            "                                                                                                  \n",
            " tnc1_spatial_dropout1d_1_s0_0.  (None, 6, 128)      0           ['lambda[0][0]']                 \n",
            " 000000 (SpatialDropout1D)                                                                        \n",
            "                                                                                                  \n",
            " conv1d (Conv1D)                (None, 6, 128)       16512       ['tnc1_spatial_dropout1d_1_s0_0.0\n",
            "                                                                 00000[0][0]']                    \n",
            "                                                                                                  \n",
            " add (Add)                      (None, 6, 128)       0           ['tnc1_initial_conv[0][0]',      \n",
            "                                                                  'conv1d[0][0]']                 \n",
            "                                                                                                  \n",
            " tnc1_dilated_conv_2_tanh_s0 (C  (None, 6, 128)      49280       ['add[0][0]']                    \n",
            " onv1D)                                                                                           \n",
            "                                                                                                  \n",
            " activation_1 (Activation)      (None, 6, 128)       0           ['tnc1_dilated_conv_2_tanh_s0[0][\n",
            "                                                                 0]']                             \n",
            "                                                                                                  \n",
            " lambda_1 (Lambda)              (None, 6, 128)       0           ['activation_1[0][0]']           \n",
            "                                                                                                  \n",
            " tnc1_spatial_dropout1d_2_s0_0.  (None, 6, 128)      0           ['lambda_1[0][0]']               \n",
            " 000000 (SpatialDropout1D)                                                                        \n",
            "                                                                                                  \n",
            " conv1d_1 (Conv1D)              (None, 6, 128)       16512       ['tnc1_spatial_dropout1d_2_s0_0.0\n",
            "                                                                 00000[0][0]']                    \n",
            "                                                                                                  \n",
            " add_1 (Add)                    (None, 6, 128)       0           ['add[0][0]',                    \n",
            "                                                                  'conv1d_1[0][0]']               \n",
            "                                                                                                  \n",
            " tnc1_dilated_conv_4_tanh_s0 (C  (None, 6, 128)      49280       ['add_1[0][0]']                  \n",
            " onv1D)                                                                                           \n",
            "                                                                                                  \n",
            " activation_2 (Activation)      (None, 6, 128)       0           ['tnc1_dilated_conv_4_tanh_s0[0][\n",
            "                                                                 0]']                             \n",
            "                                                                                                  \n",
            " lambda_2 (Lambda)              (None, 6, 128)       0           ['activation_2[0][0]']           \n",
            "                                                                                                  \n",
            " tnc1_spatial_dropout1d_4_s0_0.  (None, 6, 128)      0           ['lambda_2[0][0]']               \n",
            " 000000 (SpatialDropout1D)                                                                        \n",
            "                                                                                                  \n",
            " conv1d_2 (Conv1D)              (None, 6, 128)       16512       ['tnc1_spatial_dropout1d_4_s0_0.0\n",
            "                                                                 00000[0][0]']                    \n",
            "                                                                                                  \n",
            " add_2 (Add)                    (None, 6, 128)       0           ['add_1[0][0]',                  \n",
            "                                                                  'conv1d_2[0][0]']               \n",
            "                                                                                                  \n",
            " tnc1_dilated_conv_8_tanh_s0 (C  (None, 6, 128)      49280       ['add_2[0][0]']                  \n",
            " onv1D)                                                                                           \n",
            "                                                                                                  \n",
            " activation_3 (Activation)      (None, 6, 128)       0           ['tnc1_dilated_conv_8_tanh_s0[0][\n",
            "                                                                 0]']                             \n",
            "                                                                                                  \n",
            " lambda_3 (Lambda)              (None, 6, 128)       0           ['activation_3[0][0]']           \n",
            "                                                                                                  \n",
            " tnc1_spatial_dropout1d_8_s0_0.  (None, 6, 128)      0           ['lambda_3[0][0]']               \n",
            " 000000 (SpatialDropout1D)                                                                        \n",
            "                                                                                                  \n",
            " conv1d_3 (Conv1D)              (None, 6, 128)       16512       ['tnc1_spatial_dropout1d_8_s0_0.0\n",
            "                                                                 00000[0][0]']                    \n",
            "                                                                                                  \n",
            " add_3 (Add)                    (None, 6, 128)       0           ['add_2[0][0]',                  \n",
            "                                                                  'conv1d_3[0][0]']               \n",
            "                                                                                                  \n",
            " tnc1_dilated_conv_16_tanh_s0 (  (None, 6, 128)      49280       ['add_3[0][0]']                  \n",
            " Conv1D)                                                                                          \n",
            "                                                                                                  \n",
            " activation_4 (Activation)      (None, 6, 128)       0           ['tnc1_dilated_conv_16_tanh_s0[0]\n",
            "                                                                 [0]']                            \n",
            "                                                                                                  \n",
            " lambda_4 (Lambda)              (None, 6, 128)       0           ['activation_4[0][0]']           \n",
            "                                                                                                  \n",
            " tnc1_spatial_dropout1d_16_s0_0  (None, 6, 128)      0           ['lambda_4[0][0]']               \n",
            " .000000 (SpatialDropout1D)                                                                       \n",
            "                                                                                                  \n",
            " conv1d_4 (Conv1D)              (None, 6, 128)       16512       ['tnc1_spatial_dropout1d_16_s0_0.\n",
            "                                                                 000000[0][0]']                   \n",
            "                                                                                                  \n",
            " add_5 (Add)                    (None, 6, 128)       0           ['conv1d[0][0]',                 \n",
            "                                                                  'conv1d_1[0][0]',               \n",
            "                                                                  'conv1d_2[0][0]',               \n",
            "                                                                  'conv1d_3[0][0]',               \n",
            "                                                                  'conv1d_4[0][0]']               \n",
            "                                                                                                  \n",
            " activation_5 (Activation)      (None, 6, 128)       0           ['add_5[0][0]']                  \n",
            "                                                                                                  \n",
            " tnc2_initial_conv (Conv1D)     (None, 6, 128)       16512       ['activation_5[0][0]']           \n",
            "                                                                                                  \n",
            " tnc2_dilated_conv_1_tanh_s0 (C  (None, 6, 128)      49280       ['tnc2_initial_conv[0][0]']      \n",
            " onv1D)                                                                                           \n",
            "                                                                                                  \n",
            " activation_6 (Activation)      (None, 6, 128)       0           ['tnc2_dilated_conv_1_tanh_s0[0][\n",
            "                                                                 0]']                             \n",
            "                                                                                                  \n",
            " lambda_5 (Lambda)              (None, 6, 128)       0           ['activation_6[0][0]']           \n",
            "                                                                                                  \n",
            " tnc2_spatial_dropout1d_1_s0_0.  (None, 6, 128)      0           ['lambda_5[0][0]']               \n",
            " 000000 (SpatialDropout1D)                                                                        \n",
            "                                                                                                  \n",
            " conv1d_5 (Conv1D)              (None, 6, 128)       16512       ['tnc2_spatial_dropout1d_1_s0_0.0\n",
            "                                                                 00000[0][0]']                    \n",
            "                                                                                                  \n",
            " add_6 (Add)                    (None, 6, 128)       0           ['tnc2_initial_conv[0][0]',      \n",
            "                                                                  'conv1d_5[0][0]']               \n",
            "                                                                                                  \n",
            " tnc2_dilated_conv_2_tanh_s0 (C  (None, 6, 128)      49280       ['add_6[0][0]']                  \n",
            " onv1D)                                                                                           \n",
            "                                                                                                  \n",
            " activation_7 (Activation)      (None, 6, 128)       0           ['tnc2_dilated_conv_2_tanh_s0[0][\n",
            "                                                                 0]']                             \n",
            "                                                                                                  \n",
            " lambda_6 (Lambda)              (None, 6, 128)       0           ['activation_7[0][0]']           \n",
            "                                                                                                  \n",
            " tnc2_spatial_dropout1d_2_s0_0.  (None, 6, 128)      0           ['lambda_6[0][0]']               \n",
            " 000000 (SpatialDropout1D)                                                                        \n",
            "                                                                                                  \n",
            " conv1d_6 (Conv1D)              (None, 6, 128)       16512       ['tnc2_spatial_dropout1d_2_s0_0.0\n",
            "                                                                 00000[0][0]']                    \n",
            "                                                                                                  \n",
            " add_7 (Add)                    (None, 6, 128)       0           ['add_6[0][0]',                  \n",
            "                                                                  'conv1d_6[0][0]']               \n",
            "                                                                                                  \n",
            " tnc2_dilated_conv_4_tanh_s0 (C  (None, 6, 128)      49280       ['add_7[0][0]']                  \n",
            " onv1D)                                                                                           \n",
            "                                                                                                  \n",
            " activation_8 (Activation)      (None, 6, 128)       0           ['tnc2_dilated_conv_4_tanh_s0[0][\n",
            "                                                                 0]']                             \n",
            "                                                                                                  \n",
            " lambda_7 (Lambda)              (None, 6, 128)       0           ['activation_8[0][0]']           \n",
            "                                                                                                  \n",
            " tnc2_spatial_dropout1d_4_s0_0.  (None, 6, 128)      0           ['lambda_7[0][0]']               \n",
            " 000000 (SpatialDropout1D)                                                                        \n",
            "                                                                                                  \n",
            " conv1d_7 (Conv1D)              (None, 6, 128)       16512       ['tnc2_spatial_dropout1d_4_s0_0.0\n",
            "                                                                 00000[0][0]']                    \n",
            "                                                                                                  \n",
            " add_8 (Add)                    (None, 6, 128)       0           ['add_7[0][0]',                  \n",
            "                                                                  'conv1d_7[0][0]']               \n",
            "                                                                                                  \n",
            " tnc2_dilated_conv_8_tanh_s0 (C  (None, 6, 128)      49280       ['add_8[0][0]']                  \n",
            " onv1D)                                                                                           \n",
            "                                                                                                  \n",
            " activation_9 (Activation)      (None, 6, 128)       0           ['tnc2_dilated_conv_8_tanh_s0[0][\n",
            "                                                                 0]']                             \n",
            "                                                                                                  \n",
            " lambda_8 (Lambda)              (None, 6, 128)       0           ['activation_9[0][0]']           \n",
            "                                                                                                  \n",
            " tnc2_spatial_dropout1d_8_s0_0.  (None, 6, 128)      0           ['lambda_8[0][0]']               \n",
            " 000000 (SpatialDropout1D)                                                                        \n",
            "                                                                                                  \n",
            " conv1d_8 (Conv1D)              (None, 6, 128)       16512       ['tnc2_spatial_dropout1d_8_s0_0.0\n",
            "                                                                 00000[0][0]']                    \n",
            "                                                                                                  \n",
            " add_9 (Add)                    (None, 6, 128)       0           ['add_8[0][0]',                  \n",
            "                                                                  'conv1d_8[0][0]']               \n",
            "                                                                                                  \n",
            " tnc2_dilated_conv_16_tanh_s0 (  (None, 6, 128)      49280       ['add_9[0][0]']                  \n",
            " Conv1D)                                                                                          \n",
            "                                                                                                  \n",
            " activation_10 (Activation)     (None, 6, 128)       0           ['tnc2_dilated_conv_16_tanh_s0[0]\n",
            "                                                                 [0]']                            \n",
            "                                                                                                  \n",
            " lambda_9 (Lambda)              (None, 6, 128)       0           ['activation_10[0][0]']          \n",
            "                                                                                                  \n",
            " tnc2_spatial_dropout1d_16_s0_0  (None, 6, 128)      0           ['lambda_9[0][0]']               \n",
            " .000000 (SpatialDropout1D)                                                                       \n",
            "                                                                                                  \n",
            " conv1d_9 (Conv1D)              (None, 6, 128)       16512       ['tnc2_spatial_dropout1d_16_s0_0.\n",
            "                                                                 000000[0][0]']                   \n",
            "                                                                                                  \n",
            " add_11 (Add)                   (None, 6, 128)       0           ['conv1d_5[0][0]',               \n",
            "                                                                  'conv1d_6[0][0]',               \n",
            "                                                                  'conv1d_7[0][0]',               \n",
            "                                                                  'conv1d_8[0][0]',               \n",
            "                                                                  'conv1d_9[0][0]']               \n",
            "                                                                                                  \n",
            " activation_11 (Activation)     (None, 6, 128)       0           ['add_11[0][0]']                 \n",
            "                                                                                                  \n",
            " global_max_pooling1d (GlobalMa  (None, 128)         0           ['activation_11[0][0]']          \n",
            " xPooling1D)                                                                                      \n",
            "                                                                                                  \n",
            " dense (Dense)                  (None, 128)          16512       ['global_max_pooling1d[0][0]']   \n",
            "                                                                                                  \n",
            " dropout (Dropout)              (None, 128)          0           ['dense[0][0]']                  \n",
            "                                                                                                  \n",
            " dense_1 (Dense)                (None, 118)          15222       ['dropout[0][0]']                \n",
            "                                                                                                  \n",
            "==================================================================================================\n",
            "Total params: 722,678\n",
            "Trainable params: 722,678\n",
            "Non-trainable params: 0\n",
            "__________________________________________________________________________________________________\n"
          ]
        }
      ]
    },
    {
      "cell_type": "code",
      "source": [
        "history = model.fit(X_train, Y_train, epochs=200, verbose=True, validation_data=(X_val, Y_val), batch_size=128,callbacks=callbacks)\n"
      ],
      "metadata": {
        "colab": {
          "base_uri": "https://localhost:8080/"
        },
        "id": "c0_A_6R2Q2GB",
        "outputId": "34a282aa-e1df-454f-8ebc-bd4dc66814bc"
      },
      "execution_count": 9,
      "outputs": [
        {
          "output_type": "stream",
          "name": "stdout",
          "text": [
            "Epoch 1/200\n",
            "259/259 [==============================] - 51s 185ms/step - loss: 1.8603 - accuracy: 0.5648 - val_loss: 0.0270 - val_accuracy: 1.0000\n",
            "Epoch 2/200\n",
            "259/259 [==============================] - 49s 191ms/step - loss: 0.5227 - accuracy: 0.8668 - val_loss: 0.0022 - val_accuracy: 1.0000\n",
            "Epoch 3/200\n",
            "259/259 [==============================] - 48s 187ms/step - loss: 0.3659 - accuracy: 0.9040 - val_loss: 2.1300e-04 - val_accuracy: 1.0000\n",
            "Epoch 4/200\n",
            "259/259 [==============================] - 49s 188ms/step - loss: 0.2983 - accuracy: 0.9206 - val_loss: 1.4435e-04 - val_accuracy: 1.0000\n",
            "Epoch 5/200\n",
            "259/259 [==============================] - 49s 188ms/step - loss: 0.2488 - accuracy: 0.9316 - val_loss: 8.0100e-04 - val_accuracy: 1.0000\n",
            "Epoch 6/200\n",
            "259/259 [==============================] - 48s 186ms/step - loss: 0.2163 - accuracy: 0.9391 - val_loss: 0.0014 - val_accuracy: 1.0000\n",
            "Epoch 7/200\n",
            "259/259 [==============================] - 48s 184ms/step - loss: 0.1854 - accuracy: 0.9463 - val_loss: 2.7379e-04 - val_accuracy: 1.0000\n",
            "Epoch 8/200\n",
            "259/259 [==============================] - 48s 184ms/step - loss: 0.1671 - accuracy: 0.9499 - val_loss: 2.1765e-04 - val_accuracy: 1.0000\n",
            "Epoch 9/200\n",
            "259/259 [==============================] - 47s 182ms/step - loss: 0.1492 - accuracy: 0.9558 - val_loss: 2.5391e-05 - val_accuracy: 1.0000\n",
            "Epoch 10/200\n",
            "259/259 [==============================] - 49s 188ms/step - loss: 0.1354 - accuracy: 0.9593 - val_loss: 3.7854e-04 - val_accuracy: 1.0000\n",
            "Epoch 11/200\n",
            "259/259 [==============================] - 48s 186ms/step - loss: 0.1225 - accuracy: 0.9633 - val_loss: 1.0287e-04 - val_accuracy: 1.0000\n",
            "Epoch 12/200\n",
            "259/259 [==============================] - 48s 187ms/step - loss: 0.1237 - accuracy: 0.9628 - val_loss: 2.0764e-04 - val_accuracy: 1.0000\n",
            "Epoch 13/200\n",
            "259/259 [==============================] - 48s 185ms/step - loss: 0.1084 - accuracy: 0.9672 - val_loss: 2.9512e-04 - val_accuracy: 1.0000\n",
            "Epoch 14/200\n",
            "259/259 [==============================] - 49s 189ms/step - loss: 0.1022 - accuracy: 0.9671 - val_loss: 2.1372e-04 - val_accuracy: 1.0000\n"
          ]
        }
      ]
    },
    {
      "cell_type": "code",
      "source": [
        "loss, accuracy = model.evaluate(X_val, Y_val, verbose=False)\n",
        "print(\"Validation Accuracy:  {:.4f}\".format(accuracy))\n",
        "loss, accuracy = model.evaluate(x_test, y_test, verbose=False)\n",
        "print(\"Testing Accuracy: {:.4f}\".format(accuracy))"
      ],
      "metadata": {
        "colab": {
          "base_uri": "https://localhost:8080/"
        },
        "id": "yyxS1xZhQ6go",
        "outputId": "20b38f36-7384-48dd-cad3-0285adb875f0"
      },
      "execution_count": 10,
      "outputs": [
        {
          "output_type": "stream",
          "name": "stdout",
          "text": [
            "Validation Accuracy:  1.0000\n",
            "Testing Accuracy: 0.8826\n"
          ]
        }
      ]
    },
    {
      "cell_type": "code",
      "source": [
        "from matplotlib import pyplot as plt\n",
        "plt.plot(history.history[\"loss\"], label=\"Training Loss\")\n",
        "plt.plot(history.history[\"val_loss\"], label=\"Validation Loss\")\n",
        "plt.legend()\n",
        "plt.show()\n",
        "from matplotlib import pyplot as plt\n",
        "plt.plot(history.history[\"accuracy\"], label=\"Training accuracy\")\n",
        "plt.plot(history.history[\"val_accuracy\"], label=\"Validation accuracy\")\n",
        "plt.legend()\n",
        "plt.show()"
      ],
      "metadata": {
        "colab": {
          "base_uri": "https://localhost:8080/",
          "height": 513
        },
        "id": "kF9BCej7RACc",
        "outputId": "9a9fcc70-2599-45b5-9b73-d6c05278d24d"
      },
      "execution_count": 11,
      "outputs": [
        {
          "output_type": "display_data",
          "data": {
            "image/png": "[encoded data removed]",
            "text/plain": [
              "<Figure size 432x288 with 1 Axes>"
            ]
          },
          "metadata": {
            "needs_background": "light"
          }
        },
        {
          "output_type": "display_data",
          "data": {
            "image/png": "[encoded data removed]",
            "text/plain": [
              "<Figure size 432x288 with 1 Axes>"
            ]
          },
          "metadata": {
            "needs_background": "light"
          }
        }
      ]
    }
  ]
}