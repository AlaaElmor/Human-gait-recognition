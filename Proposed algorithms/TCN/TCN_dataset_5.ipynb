{
  "cells": [
    {
      "cell_type": "code",
      "execution_count": 20,
      "metadata": {
        "id": "YQFREF7L5GqL"
      },
      "outputs": [],
      "source": [
        "from numpy import save, load\n",
        "from pandas import read_csv\n",
        "from keras.layers import Dense\n",
        "from keras.layers import Flatten\n",
        "from keras.layers import Dropout\n",
        "from keras import Model\n",
        "from keras.layers import Conv1D, SpatialDropout1D\n",
        "from keras.layers import Convolution1D, Dense,Activation\n",
        "from keras.models import Input, Model\n",
        "from keras.layers import LSTM, Conv1D, concatenate,GlobalMaxPooling1D,GlobalAveragePooling1D,TimeDistributed, MaxPooling1D\n",
        "import tensorflow as tf\n",
        "import numpy as np\n",
        "import keras.backend as K\n",
        "import keras.layers\n",
        "from keras import optimizers\n",
        "from keras.layers import Activation, Lambda\n",
        "from keras.layers import Convolution1D, Dense\n",
        "from keras.models import Input, Model\n",
        "from typing import List, Tuple"
      ]
    },
    {
      "cell_type": "code",
      "execution_count": 21,
      "metadata": {
        "colab": {
          "base_uri": "https://localhost:8080/"
        },
        "id": "mxaKZAFk5TvK",
        "outputId": "2e4aea20-871b-4fe2-b4dc-ac7055754206"
      },
      "outputs": [
        {
          "output_type": "stream",
          "name": "stdout",
          "text": [
            "Mounted at /content/drive\n",
            "Mounted at /content/gdrive\n",
            "(66542, 256, 6) (66542, 2) (7600, 256, 6) (7600, 2)\n"
          ]
        }
      ],
      "source": [
        "from google.colab import drive\n",
        "drive.mount('/content/drive')\n",
        "\n",
        "from google.colab import drive\n",
        "\n",
        "drive.mount('/content/gdrive')\n",
        "root_path = 'gdrive/My Drive/'  #change dir to your project folder\n",
        "\n",
        "import numpy as np\n",
        "x_train = np.load('gdrive/My Drive/dataset/dataset5/trainX.npy')\n",
        "y_train = np.load('gdrive/My Drive/dataset/dataset5/trainy.npy')\n",
        "x_test = np.load('gdrive/My Drive/dataset/dataset5/testX.npy')\n",
        "y_test = np.load('gdrive/My Drive/dataset/dataset5/testy.npy')\n",
        "print(x_train.shape, y_train.shape, x_test.shape, y_test.shape)"
      ]
    },
    {
      "cell_type": "code",
      "execution_count": 22,
      "metadata": {
        "id": "OqP6bY3k5UZH"
      },
      "outputs": [],
      "source": [
        "from sklearn.model_selection import train_test_split\n",
        "x_train, x_validation, y_train, y_validation = train_test_split(x_train, y_train, test_size=0.20, random_state=42)"
      ]
    },
    {
      "cell_type": "code",
      "source": [
        "def channel_normalization(x):\n",
        "    max_values = K.max(K.abs(x), 2, keepdims=True) + 1e-5\n",
        "    out = x / max_values\n",
        "    return out\n",
        "\n",
        "def residual_block(x, s, i, activation, nb_filters, kernel_size, padding, dropout_rate=0, name=''):\n",
        "    original_x = x\n",
        "    conv = Conv1D(filters=nb_filters, kernel_size=kernel_size,\n",
        "                  dilation_rate=i, padding=padding,\n",
        "                  name=name + '_dilated_conv_%d_tanh_s%d' % (i, s))(x)\n",
        "    if activation == 'norm_relu':\n",
        "        x = Activation('relu')(conv)\n",
        "        x = Lambda(channel_normalization)(x)\n",
        "    else:\n",
        "        x = Activation(activation)(conv)\n",
        "\n",
        "    x = SpatialDropout1D(dropout_rate, name=name + '_spatial_dropout1d_%d_s%d_%f' % (i, s, dropout_rate))(x)\n",
        "\n",
        "    # 1x1 conv.\n",
        "    x = Convolution1D(nb_filters, 1, padding='same')(x)\n",
        "    res_x = keras.layers.add([original_x, x])\n",
        "    return res_x, x"
      ],
      "metadata": {
        "id": "tRsgs0Xp22cS"
      },
      "execution_count": 23,
      "outputs": []
    },
    {
      "cell_type": "code",
      "source": [
        "\n",
        "class TCN:\n",
        "\n",
        "    def __init__(self,\n",
        "                 nb_filters=64,\n",
        "                 kernel_size=2,\n",
        "                 nb_stacks=1,\n",
        "                 dilations=None,\n",
        "                 activation='norm_relu',\n",
        "                 padding='causal',\n",
        "                 use_skip_connections=True,\n",
        "                 dropout_rate=0.0,\n",
        "                 return_sequences=True,\n",
        "                 name='tcn'):\n",
        "        self.name = name\n",
        "        self.return_sequences = return_sequences\n",
        "        self.dropout_rate = dropout_rate\n",
        "        self.use_skip_connections = use_skip_connections\n",
        "        self.activation = activation\n",
        "        self.dilations = dilations\n",
        "        self.nb_stacks = nb_stacks\n",
        "        self.kernel_size = kernel_size\n",
        "        self.nb_filters = nb_filters\n",
        "        self.padding = padding\n",
        "        \n",
        "        if padding != 'causal' and padding != 'same':\n",
        "            raise ValueError(\"Only 'causal' or 'same' paddings are compatible for this layer.\")\n",
        "\n",
        "        if not isinstance(nb_filters, int):\n",
        "            print('An interface change occurred after the version 2.1.2.')\n",
        "            print('Before: tcn.TCN(i, return_sequences=False, ...)')\n",
        "            print('Now should be: tcn.TCN(return_sequences=False, ...)(i)')\n",
        "            print('Second solution is to pip install keras-tcn==2.1.2 to downgrade.')\n",
        "            raise Exception()\n",
        "\n",
        "    def __call__(self, inputs):\n",
        "        if self.dilations is None:\n",
        "            self.dilations = [1, 2, 4, 8, 16, 32]\n",
        "        x = inputs\n",
        "        x = Convolution1D(self.nb_filters, 1, padding=self.padding, name=self.name + '_initial_conv')(x)\n",
        "        skip_connections = []\n",
        "        for s in range(self.nb_stacks):\n",
        "            for i in self.dilations:\n",
        "                x, skip_out = residual_block(x, s, i, self.activation, self.nb_filters,\n",
        "                                             self.kernel_size, self.padding, self.dropout_rate, name=self.name)\n",
        "                skip_connections.append(skip_out)\n",
        "        if self.use_skip_connections:\n",
        "            x = keras.layers.add(skip_connections)\n",
        "        x = Activation('relu')(x)\n",
        "\n",
        "        if not self.return_sequences:\n",
        "            output_slice_index = -1\n",
        "            x = Lambda(lambda tt: tt[:, output_slice_index, :])(x)\n",
        "        return x"
      ],
      "metadata": {
        "id": "alKxQs751llb"
      },
      "execution_count": 24,
      "outputs": []
    },
    {
      "cell_type": "code",
      "execution_count": 27,
      "metadata": {
        "colab": {
          "base_uri": "https://localhost:8080/"
        },
        "id": "fampnwRy5XUm",
        "outputId": "120d42b5-0e82-44f9-f506-11961aa0b3aa"
      },
      "outputs": [
        {
          "output_type": "stream",
          "name": "stdout",
          "text": [
            "Model: \"model_5\"\n",
            "__________________________________________________________________________________________________\n",
            " Layer (type)                   Output Shape         Param #     Connected to                     \n",
            "==================================================================================================\n",
            " input_6 (InputLayer)           [(None, 256, 6)]     0           []                               \n",
            "                                                                                                  \n",
            " spatial_dropout1d_5 (SpatialDr  (None, 256, 6)      0           ['input_6[0][0]']                \n",
            " opout1D)                                                                                         \n",
            "                                                                                                  \n",
            " tnc1_initial_conv (Conv1D)     (None, 256, 128)     896         ['spatial_dropout1d_5[0][0]']    \n",
            "                                                                                                  \n",
            " tnc1_dilated_conv_1_tanh_s0 (C  (None, 256, 128)    49280       ['tnc1_initial_conv[0][0]']      \n",
            " onv1D)                                                                                           \n",
            "                                                                                                  \n",
            " activation_48 (Activation)     (None, 256, 128)     0           ['tnc1_dilated_conv_1_tanh_s0[0][\n",
            "                                                                 0]']                             \n",
            "                                                                                                  \n",
            " lambda_40 (Lambda)             (None, 256, 128)     0           ['activation_48[0][0]']          \n",
            "                                                                                                  \n",
            " tnc1_spatial_dropout1d_1_s0_0.  (None, 256, 128)    0           ['lambda_40[0][0]']              \n",
            " 000000 (SpatialDropout1D)                                                                        \n",
            "                                                                                                  \n",
            " conv1d_40 (Conv1D)             (None, 256, 128)     16512       ['tnc1_spatial_dropout1d_1_s0_0.0\n",
            "                                                                 00000[0][0]']                    \n",
            "                                                                                                  \n",
            " add_48 (Add)                   (None, 256, 128)     0           ['tnc1_initial_conv[0][0]',      \n",
            "                                                                  'conv1d_40[0][0]']              \n",
            "                                                                                                  \n",
            " tnc1_dilated_conv_2_tanh_s0 (C  (None, 256, 128)    49280       ['add_48[0][0]']                 \n",
            " onv1D)                                                                                           \n",
            "                                                                                                  \n",
            " activation_49 (Activation)     (None, 256, 128)     0           ['tnc1_dilated_conv_2_tanh_s0[0][\n",
            "                                                                 0]']                             \n",
            "                                                                                                  \n",
            " lambda_41 (Lambda)             (None, 256, 128)     0           ['activation_49[0][0]']          \n",
            "                                                                                                  \n",
            " tnc1_spatial_dropout1d_2_s0_0.  (None, 256, 128)    0           ['lambda_41[0][0]']              \n",
            " 000000 (SpatialDropout1D)                                                                        \n",
            "                                                                                                  \n",
            " conv1d_41 (Conv1D)             (None, 256, 128)     16512       ['tnc1_spatial_dropout1d_2_s0_0.0\n",
            "                                                                 00000[0][0]']                    \n",
            "                                                                                                  \n",
            " add_49 (Add)                   (None, 256, 128)     0           ['add_48[0][0]',                 \n",
            "                                                                  'conv1d_41[0][0]']              \n",
            "                                                                                                  \n",
            " tnc1_dilated_conv_4_tanh_s0 (C  (None, 256, 128)    49280       ['add_49[0][0]']                 \n",
            " onv1D)                                                                                           \n",
            "                                                                                                  \n",
            " activation_50 (Activation)     (None, 256, 128)     0           ['tnc1_dilated_conv_4_tanh_s0[0][\n",
            "                                                                 0]']                             \n",
            "                                                                                                  \n",
            " lambda_42 (Lambda)             (None, 256, 128)     0           ['activation_50[0][0]']          \n",
            "                                                                                                  \n",
            " tnc1_spatial_dropout1d_4_s0_0.  (None, 256, 128)    0           ['lambda_42[0][0]']              \n",
            " 000000 (SpatialDropout1D)                                                                        \n",
            "                                                                                                  \n",
            " conv1d_42 (Conv1D)             (None, 256, 128)     16512       ['tnc1_spatial_dropout1d_4_s0_0.0\n",
            "                                                                 00000[0][0]']                    \n",
            "                                                                                                  \n",
            " add_50 (Add)                   (None, 256, 128)     0           ['add_49[0][0]',                 \n",
            "                                                                  'conv1d_42[0][0]']              \n",
            "                                                                                                  \n",
            " tnc1_dilated_conv_8_tanh_s0 (C  (None, 256, 128)    49280       ['add_50[0][0]']                 \n",
            " onv1D)                                                                                           \n",
            "                                                                                                  \n",
            " activation_51 (Activation)     (None, 256, 128)     0           ['tnc1_dilated_conv_8_tanh_s0[0][\n",
            "                                                                 0]']                             \n",
            "                                                                                                  \n",
            " lambda_43 (Lambda)             (None, 256, 128)     0           ['activation_51[0][0]']          \n",
            "                                                                                                  \n",
            " tnc1_spatial_dropout1d_8_s0_0.  (None, 256, 128)    0           ['lambda_43[0][0]']              \n",
            " 000000 (SpatialDropout1D)                                                                        \n",
            "                                                                                                  \n",
            " conv1d_43 (Conv1D)             (None, 256, 128)     16512       ['tnc1_spatial_dropout1d_8_s0_0.0\n",
            "                                                                 00000[0][0]']                    \n",
            "                                                                                                  \n",
            " add_51 (Add)                   (None, 256, 128)     0           ['add_50[0][0]',                 \n",
            "                                                                  'conv1d_43[0][0]']              \n",
            "                                                                                                  \n",
            " tnc1_dilated_conv_16_tanh_s0 (  (None, 256, 128)    49280       ['add_51[0][0]']                 \n",
            " Conv1D)                                                                                          \n",
            "                                                                                                  \n",
            " activation_52 (Activation)     (None, 256, 128)     0           ['tnc1_dilated_conv_16_tanh_s0[0]\n",
            "                                                                 [0]']                            \n",
            "                                                                                                  \n",
            " lambda_44 (Lambda)             (None, 256, 128)     0           ['activation_52[0][0]']          \n",
            "                                                                                                  \n",
            " tnc1_spatial_dropout1d_16_s0_0  (None, 256, 128)    0           ['lambda_44[0][0]']              \n",
            " .000000 (SpatialDropout1D)                                                                       \n",
            "                                                                                                  \n",
            " conv1d_44 (Conv1D)             (None, 256, 128)     16512       ['tnc1_spatial_dropout1d_16_s0_0.\n",
            "                                                                 000000[0][0]']                   \n",
            "                                                                                                  \n",
            " add_53 (Add)                   (None, 256, 128)     0           ['conv1d_40[0][0]',              \n",
            "                                                                  'conv1d_41[0][0]',              \n",
            "                                                                  'conv1d_42[0][0]',              \n",
            "                                                                  'conv1d_43[0][0]',              \n",
            "                                                                  'conv1d_44[0][0]']              \n",
            "                                                                                                  \n",
            " activation_53 (Activation)     (None, 256, 128)     0           ['add_53[0][0]']                 \n",
            "                                                                                                  \n",
            " tnc2_initial_conv (Conv1D)     (None, 256, 128)     16512       ['activation_53[0][0]']          \n",
            "                                                                                                  \n",
            " tnc2_dilated_conv_1_tanh_s0 (C  (None, 256, 128)    49280       ['tnc2_initial_conv[0][0]']      \n",
            " onv1D)                                                                                           \n",
            "                                                                                                  \n",
            " activation_54 (Activation)     (None, 256, 128)     0           ['tnc2_dilated_conv_1_tanh_s0[0][\n",
            "                                                                 0]']                             \n",
            "                                                                                                  \n",
            " lambda_45 (Lambda)             (None, 256, 128)     0           ['activation_54[0][0]']          \n",
            "                                                                                                  \n",
            " tnc2_spatial_dropout1d_1_s0_0.  (None, 256, 128)    0           ['lambda_45[0][0]']              \n",
            " 000000 (SpatialDropout1D)                                                                        \n",
            "                                                                                                  \n",
            " conv1d_45 (Conv1D)             (None, 256, 128)     16512       ['tnc2_spatial_dropout1d_1_s0_0.0\n",
            "                                                                 00000[0][0]']                    \n",
            "                                                                                                  \n",
            " add_54 (Add)                   (None, 256, 128)     0           ['tnc2_initial_conv[0][0]',      \n",
            "                                                                  'conv1d_45[0][0]']              \n",
            "                                                                                                  \n",
            " tnc2_dilated_conv_2_tanh_s0 (C  (None, 256, 128)    49280       ['add_54[0][0]']                 \n",
            " onv1D)                                                                                           \n",
            "                                                                                                  \n",
            " activation_55 (Activation)     (None, 256, 128)     0           ['tnc2_dilated_conv_2_tanh_s0[0][\n",
            "                                                                 0]']                             \n",
            "                                                                                                  \n",
            " lambda_46 (Lambda)             (None, 256, 128)     0           ['activation_55[0][0]']          \n",
            "                                                                                                  \n",
            " tnc2_spatial_dropout1d_2_s0_0.  (None, 256, 128)    0           ['lambda_46[0][0]']              \n",
            " 000000 (SpatialDropout1D)                                                                        \n",
            "                                                                                                  \n",
            " conv1d_46 (Conv1D)             (None, 256, 128)     16512       ['tnc2_spatial_dropout1d_2_s0_0.0\n",
            "                                                                 00000[0][0]']                    \n",
            "                                                                                                  \n",
            " add_55 (Add)                   (None, 256, 128)     0           ['add_54[0][0]',                 \n",
            "                                                                  'conv1d_46[0][0]']              \n",
            "                                                                                                  \n",
            " tnc2_dilated_conv_4_tanh_s0 (C  (None, 256, 128)    49280       ['add_55[0][0]']                 \n",
            " onv1D)                                                                                           \n",
            "                                                                                                  \n",
            " activation_56 (Activation)     (None, 256, 128)     0           ['tnc2_dilated_conv_4_tanh_s0[0][\n",
            "                                                                 0]']                             \n",
            "                                                                                                  \n",
            " lambda_47 (Lambda)             (None, 256, 128)     0           ['activation_56[0][0]']          \n",
            "                                                                                                  \n",
            " tnc2_spatial_dropout1d_4_s0_0.  (None, 256, 128)    0           ['lambda_47[0][0]']              \n",
            " 000000 (SpatialDropout1D)                                                                        \n",
            "                                                                                                  \n",
            " conv1d_47 (Conv1D)             (None, 256, 128)     16512       ['tnc2_spatial_dropout1d_4_s0_0.0\n",
            "                                                                 00000[0][0]']                    \n",
            "                                                                                                  \n",
            " add_56 (Add)                   (None, 256, 128)     0           ['add_55[0][0]',                 \n",
            "                                                                  'conv1d_47[0][0]']              \n",
            "                                                                                                  \n",
            " tnc2_dilated_conv_8_tanh_s0 (C  (None, 256, 128)    49280       ['add_56[0][0]']                 \n",
            " onv1D)                                                                                           \n",
            "                                                                                                  \n",
            " activation_57 (Activation)     (None, 256, 128)     0           ['tnc2_dilated_conv_8_tanh_s0[0][\n",
            "                                                                 0]']                             \n",
            "                                                                                                  \n",
            " lambda_48 (Lambda)             (None, 256, 128)     0           ['activation_57[0][0]']          \n",
            "                                                                                                  \n",
            " tnc2_spatial_dropout1d_8_s0_0.  (None, 256, 128)    0           ['lambda_48[0][0]']              \n",
            " 000000 (SpatialDropout1D)                                                                        \n",
            "                                                                                                  \n",
            " conv1d_48 (Conv1D)             (None, 256, 128)     16512       ['tnc2_spatial_dropout1d_8_s0_0.0\n",
            "                                                                 00000[0][0]']                    \n",
            "                                                                                                  \n",
            " add_57 (Add)                   (None, 256, 128)     0           ['add_56[0][0]',                 \n",
            "                                                                  'conv1d_48[0][0]']              \n",
            "                                                                                                  \n",
            " tnc2_dilated_conv_16_tanh_s0 (  (None, 256, 128)    49280       ['add_57[0][0]']                 \n",
            " Conv1D)                                                                                          \n",
            "                                                                                                  \n",
            " activation_58 (Activation)     (None, 256, 128)     0           ['tnc2_dilated_conv_16_tanh_s0[0]\n",
            "                                                                 [0]']                            \n",
            "                                                                                                  \n",
            " lambda_49 (Lambda)             (None, 256, 128)     0           ['activation_58[0][0]']          \n",
            "                                                                                                  \n",
            " tnc2_spatial_dropout1d_16_s0_0  (None, 256, 128)    0           ['lambda_49[0][0]']              \n",
            " .000000 (SpatialDropout1D)                                                                       \n",
            "                                                                                                  \n",
            " conv1d_49 (Conv1D)             (None, 256, 128)     16512       ['tnc2_spatial_dropout1d_16_s0_0.\n",
            "                                                                 000000[0][0]']                   \n",
            "                                                                                                  \n",
            " add_59 (Add)                   (None, 256, 128)     0           ['conv1d_45[0][0]',              \n",
            "                                                                  'conv1d_46[0][0]',              \n",
            "                                                                  'conv1d_47[0][0]',              \n",
            "                                                                  'conv1d_48[0][0]',              \n",
            "                                                                  'conv1d_49[0][0]']              \n",
            "                                                                                                  \n",
            " activation_59 (Activation)     (None, 256, 128)     0           ['add_59[0][0]']                 \n",
            "                                                                                                  \n",
            " global_max_pooling1d_4 (Global  (None, 128)         0           ['activation_59[0][0]']          \n",
            " MaxPooling1D)                                                                                    \n",
            "                                                                                                  \n",
            " dense_10 (Dense)               (None, 128)          16512       ['global_max_pooling1d_4[0][0]'] \n",
            "                                                                                                  \n",
            " dropout_5 (Dropout)            (None, 128)          0           ['dense_10[0][0]']               \n",
            "                                                                                                  \n",
            " dense_11 (Dense)               (None, 2)            258         ['dropout_5[0][0]']              \n",
            "                                                                                                  \n",
            "==================================================================================================\n",
            "Total params: 692,098\n",
            "Trainable params: 692,098\n",
            "Non-trainable params: 0\n",
            "__________________________________________________________________________________________________\n"
          ]
        }
      ],
      "source": [
        "input_shape = x_train.shape[1:]\n",
        "input = Input(shape=x_train.shape[1:])\n",
        "x = SpatialDropout1D(0.2)(input)\n",
        "x = TCN(128,dilations = [1, 2, 4, 8, 16],kernel_size = 3, return_sequences=True, name = 'tnc1')(x)\n",
        "x = TCN(128,dilations = [1, 2, 4, 8, 16],kernel_size = 3, return_sequences=True, name = 'tnc2')(x)\n",
        "max_pool = GlobalMaxPooling1D()(x)\n",
        "x = Dense(128, activation=\"relu\")(max_pool)\n",
        "x = Dropout(0.2)(x)\n",
        "output = Dense(2, activation=\"softmax\")(x)    \n",
        "model = Model(inputs=input, outputs=output)\n",
        "model.compile(loss='categorical_crossentropy', optimizer='adam', metrics=['accuracy'])\n",
        "model.summary()\n",
        "\n",
        "callbacks = [keras.callbacks.EarlyStopping(patience=5, restore_best_weights=True)]"
      ]
    },
    {
      "cell_type": "code",
      "execution_count": 28,
      "metadata": {
        "colab": {
          "base_uri": "https://localhost:8080/"
        },
        "id": "SaWCy3YG9Vlu",
        "outputId": "acf20ce0-582d-4415-dad3-48b8763bb8e3"
      },
      "outputs": [
        {
          "output_type": "stream",
          "name": "stdout",
          "text": [
            "Epoch 1/200\n",
            "416/416 [==============================] - 124s 288ms/step - loss: 0.4702 - accuracy: 0.7781 - val_loss: 0.3539 - val_accuracy: 0.8527\n",
            "Epoch 2/200\n",
            "416/416 [==============================] - 118s 284ms/step - loss: 0.3600 - accuracy: 0.8523 - val_loss: 0.3176 - val_accuracy: 0.8683\n",
            "Epoch 3/200\n",
            "416/416 [==============================] - 118s 283ms/step - loss: 0.3252 - accuracy: 0.8696 - val_loss: 0.2544 - val_accuracy: 0.9059\n",
            "Epoch 4/200\n",
            "416/416 [==============================] - 118s 284ms/step - loss: 0.2847 - accuracy: 0.8874 - val_loss: 0.2693 - val_accuracy: 0.8893\n",
            "Epoch 5/200\n",
            "416/416 [==============================] - 118s 284ms/step - loss: 0.2462 - accuracy: 0.9041 - val_loss: 0.2051 - val_accuracy: 0.9212\n",
            "Epoch 6/200\n",
            "416/416 [==============================] - 118s 284ms/step - loss: 0.2296 - accuracy: 0.9119 - val_loss: 0.2284 - val_accuracy: 0.9048\n",
            "Epoch 7/200\n",
            "416/416 [==============================] - 118s 284ms/step - loss: 0.2092 - accuracy: 0.9193 - val_loss: 0.1780 - val_accuracy: 0.9341\n",
            "Epoch 8/200\n",
            "416/416 [==============================] - 118s 284ms/step - loss: 0.1888 - accuracy: 0.9280 - val_loss: 0.1801 - val_accuracy: 0.9298\n",
            "Epoch 9/200\n",
            "416/416 [==============================] - 118s 284ms/step - loss: 0.1800 - accuracy: 0.9314 - val_loss: 0.1549 - val_accuracy: 0.9415\n",
            "Epoch 10/200\n",
            "416/416 [==============================] - 118s 284ms/step - loss: 0.1717 - accuracy: 0.9357 - val_loss: 0.1433 - val_accuracy: 0.9484\n",
            "Epoch 11/200\n",
            "416/416 [==============================] - 118s 283ms/step - loss: 0.1574 - accuracy: 0.9398 - val_loss: 0.1488 - val_accuracy: 0.9446\n",
            "Epoch 12/200\n",
            "416/416 [==============================] - 118s 283ms/step - loss: 0.1533 - accuracy: 0.9429 - val_loss: 0.1438 - val_accuracy: 0.9476\n",
            "Epoch 13/200\n",
            "416/416 [==============================] - 118s 283ms/step - loss: 0.1425 - accuracy: 0.9477 - val_loss: 0.1276 - val_accuracy: 0.9533\n",
            "Epoch 14/200\n",
            "416/416 [==============================] - 118s 283ms/step - loss: 0.1346 - accuracy: 0.9497 - val_loss: 0.1493 - val_accuracy: 0.9439\n",
            "Epoch 15/200\n",
            "416/416 [==============================] - 118s 284ms/step - loss: 0.1267 - accuracy: 0.9527 - val_loss: 0.1197 - val_accuracy: 0.9572\n",
            "Epoch 16/200\n",
            "416/416 [==============================] - 118s 284ms/step - loss: 0.1247 - accuracy: 0.9535 - val_loss: 0.1297 - val_accuracy: 0.9518\n",
            "Epoch 17/200\n",
            "416/416 [==============================] - 118s 283ms/step - loss: 0.1187 - accuracy: 0.9556 - val_loss: 0.1049 - val_accuracy: 0.9608\n",
            "Epoch 18/200\n",
            "416/416 [==============================] - 118s 283ms/step - loss: 0.1149 - accuracy: 0.9564 - val_loss: 0.1020 - val_accuracy: 0.9614\n",
            "Epoch 19/200\n",
            "416/416 [==============================] - 118s 284ms/step - loss: 0.1113 - accuracy: 0.9593 - val_loss: 0.1071 - val_accuracy: 0.9603\n",
            "Epoch 20/200\n",
            "416/416 [==============================] - 118s 283ms/step - loss: 0.1072 - accuracy: 0.9602 - val_loss: 0.0993 - val_accuracy: 0.9620\n",
            "Epoch 21/200\n",
            "416/416 [==============================] - 118s 283ms/step - loss: 0.1019 - accuracy: 0.9611 - val_loss: 0.0869 - val_accuracy: 0.9669\n",
            "Epoch 22/200\n",
            "416/416 [==============================] - 118s 284ms/step - loss: 0.0991 - accuracy: 0.9634 - val_loss: 0.0934 - val_accuracy: 0.9657\n",
            "Epoch 23/200\n",
            "416/416 [==============================] - 118s 283ms/step - loss: 0.0927 - accuracy: 0.9657 - val_loss: 0.0954 - val_accuracy: 0.9667\n",
            "Epoch 24/200\n",
            "416/416 [==============================] - 118s 283ms/step - loss: 0.0959 - accuracy: 0.9645 - val_loss: 0.0895 - val_accuracy: 0.9683\n",
            "Epoch 25/200\n",
            "416/416 [==============================] - 118s 284ms/step - loss: 0.0935 - accuracy: 0.9643 - val_loss: 0.0969 - val_accuracy: 0.9653\n",
            "Epoch 26/200\n",
            "416/416 [==============================] - 118s 284ms/step - loss: 0.0875 - accuracy: 0.9679 - val_loss: 0.0933 - val_accuracy: 0.9651\n"
          ]
        }
      ],
      "source": [
        "history = model.fit(x_train, y_train, epochs=200, verbose=True, validation_data=(x_validation, y_validation), batch_size=128,callbacks=callbacks)"
      ]
    },
    {
      "cell_type": "code",
      "execution_count": 29,
      "metadata": {
        "id": "ZbGvxYBj9Wse",
        "colab": {
          "base_uri": "https://localhost:8080/"
        },
        "outputId": "8ae76202-709f-45c9-bc8c-5a797f8b3bdd"
      },
      "outputs": [
        {
          "output_type": "stream",
          "name": "stdout",
          "text": [
            "Validation Accuracy:  0.9669\n",
            "Testing Accuracy: 0.9020\n"
          ]
        }
      ],
      "source": [
        "loss, accuracy = model.evaluate(x_validation, y_validation, verbose=False)\n",
        "print(\"Validation Accuracy:  {:.4f}\".format(accuracy))\n",
        "loss, accuracy = model.evaluate(x_test, y_test, verbose=False)\n",
        "print(\"Testing Accuracy: {:.4f}\".format(accuracy))"
      ]
    },
    {
      "cell_type": "code",
      "source": [
        "from matplotlib import pyplot as plt\n",
        "plt.plot(history.history[\"loss\"], label=\"Training Loss\")\n",
        "plt.plot(history.history[\"val_loss\"], label=\"Validation Loss\")\n",
        "plt.legend()\n",
        "plt.show()\n",
        "from matplotlib import pyplot as plt\n",
        "plt.plot(history.history[\"accuracy\"], label=\"Training accuracy\")\n",
        "plt.plot(history.history[\"val_accuracy\"], label=\"Validation accuracy\")\n",
        "plt.legend()\n",
        "plt.show()"
      ],
      "metadata": {
        "colab": {
          "base_uri": "https://localhost:8080/",
          "height": 514
        },
        "id": "dv0pnVtn87MC",
        "outputId": "3554a811-82f2-406c-e21d-c900ed95f70a"
      },
      "execution_count": 30,
      "outputs": [
        {
          "output_type": "display_data",
          "data": {
            "image/png": "[encoded data removed]",
            "text/plain": [
              "<Figure size 432x288 with 1 Axes>"
            ]
          },
          "metadata": {
            "needs_background": "light"
          }
        },
        {
          "output_type": "display_data",
          "data": {
            "image/png": "[encoded data removed]",
            "text/plain": [
              "<Figure size 432x288 with 1 Axes>"
            ]
          },
          "metadata": {
            "needs_background": "light"
          }
        }
      ]
    }
  ],
  "metadata": {
    "accelerator": "GPU",
    "colab": {
      "name": "TCN_dataset_5.ipynb",
      "provenance": []
    },
    "kernelspec": {
      "display_name": "Python 3",
      "name": "python3"
    },
    "language_info": {
      "name": "python"
    }
  },
  "nbformat": 4,
  "nbformat_minor": 0
}