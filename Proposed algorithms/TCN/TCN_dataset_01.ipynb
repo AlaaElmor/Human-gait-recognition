{
  "nbformat": 4,
  "nbformat_minor": 0,
  "metadata": {
    "colab": {
      "name": "TCN_dataset_1.ipynb",
      "provenance": []
    },
    "kernelspec": {
      "name": "python3",
      "display_name": "Python 3"
    },
    "language_info": {
      "name": "python"
    },
    "accelerator": "GPU"
  },
  "cells": [
    {
      "cell_type": "code",
      "execution_count": 1,
      "metadata": {
        "colab": {
          "base_uri": "https://localhost:8080/"
        },
        "id": "YQFREF7L5GqL",
        "outputId": "27626d84-ba0d-41c8-96f0-d66e15af33b6"
      },
      "outputs": [
        {
          "output_type": "stream",
          "name": "stdout",
          "text": [
            "Collecting keras-tcn\n",
            "  Downloading keras_tcn-3.4.2-py3-none-any.whl (13 kB)\n",
            "Requirement already satisfied: tensorflow in /usr/local/lib/python3.7/dist-packages (from keras-tcn) (2.7.0)\n",
            "Collecting tensorflow-addons\n",
            "  Downloading tensorflow_addons-0.15.0-cp37-cp37m-manylinux_2_12_x86_64.manylinux2010_x86_64.whl (1.1 MB)\n",
            "\u001b[K     |████████████████████████████████| 1.1 MB 4.8 MB/s \n",
            "\u001b[?25hRequirement already satisfied: numpy in /usr/local/lib/python3.7/dist-packages (from keras-tcn) (1.19.5)\n",
            "Requirement already satisfied: h5py>=2.9.0 in /usr/local/lib/python3.7/dist-packages (from tensorflow->keras-tcn) (3.1.0)\n",
            "Requirement already satisfied: keras<2.8,>=2.7.0rc0 in /usr/local/lib/python3.7/dist-packages (from tensorflow->keras-tcn) (2.7.0)\n",
            "Requirement already satisfied: six>=1.12.0 in /usr/local/lib/python3.7/dist-packages (from tensorflow->keras-tcn) (1.15.0)\n",
            "Requirement already satisfied: tensorflow-io-gcs-filesystem>=0.21.0 in /usr/local/lib/python3.7/dist-packages (from tensorflow->keras-tcn) (0.24.0)\n",
            "Requirement already satisfied: absl-py>=0.4.0 in /usr/local/lib/python3.7/dist-packages (from tensorflow->keras-tcn) (1.0.0)\n",
            "Requirement already satisfied: tensorboard~=2.6 in /usr/local/lib/python3.7/dist-packages (from tensorflow->keras-tcn) (2.7.0)\n",
            "Requirement already satisfied: opt-einsum>=2.3.2 in /usr/local/lib/python3.7/dist-packages (from tensorflow->keras-tcn) (3.3.0)\n",
            "Requirement already satisfied: grpcio<2.0,>=1.24.3 in /usr/local/lib/python3.7/dist-packages (from tensorflow->keras-tcn) (1.43.0)\n",
            "Requirement already satisfied: wheel<1.0,>=0.32.0 in /usr/local/lib/python3.7/dist-packages (from tensorflow->keras-tcn) (0.37.1)\n",
            "Requirement already satisfied: tensorflow-estimator<2.8,~=2.7.0rc0 in /usr/local/lib/python3.7/dist-packages (from tensorflow->keras-tcn) (2.7.0)\n",
            "Requirement already satisfied: flatbuffers<3.0,>=1.12 in /usr/local/lib/python3.7/dist-packages (from tensorflow->keras-tcn) (2.0)\n",
            "Requirement already satisfied: typing-extensions>=3.6.6 in /usr/local/lib/python3.7/dist-packages (from tensorflow->keras-tcn) (3.10.0.2)\n",
            "Requirement already satisfied: wrapt>=1.11.0 in /usr/local/lib/python3.7/dist-packages (from tensorflow->keras-tcn) (1.13.3)\n",
            "Requirement already satisfied: termcolor>=1.1.0 in /usr/local/lib/python3.7/dist-packages (from tensorflow->keras-tcn) (1.1.0)\n",
            "Requirement already satisfied: keras-preprocessing>=1.1.1 in /usr/local/lib/python3.7/dist-packages (from tensorflow->keras-tcn) (1.1.2)\n",
            "Requirement already satisfied: astunparse>=1.6.0 in /usr/local/lib/python3.7/dist-packages (from tensorflow->keras-tcn) (1.6.3)\n",
            "Requirement already satisfied: protobuf>=3.9.2 in /usr/local/lib/python3.7/dist-packages (from tensorflow->keras-tcn) (3.17.3)\n",
            "Requirement already satisfied: google-pasta>=0.1.1 in /usr/local/lib/python3.7/dist-packages (from tensorflow->keras-tcn) (0.2.0)\n",
            "Requirement already satisfied: libclang>=9.0.1 in /usr/local/lib/python3.7/dist-packages (from tensorflow->keras-tcn) (13.0.0)\n",
            "Requirement already satisfied: gast<0.5.0,>=0.2.1 in /usr/local/lib/python3.7/dist-packages (from tensorflow->keras-tcn) (0.4.0)\n",
            "Requirement already satisfied: cached-property in /usr/local/lib/python3.7/dist-packages (from h5py>=2.9.0->tensorflow->keras-tcn) (1.5.2)\n",
            "Requirement already satisfied: google-auth-oauthlib<0.5,>=0.4.1 in /usr/local/lib/python3.7/dist-packages (from tensorboard~=2.6->tensorflow->keras-tcn) (0.4.6)\n",
            "Requirement already satisfied: werkzeug>=0.11.15 in /usr/local/lib/python3.7/dist-packages (from tensorboard~=2.6->tensorflow->keras-tcn) (1.0.1)\n",
            "Requirement already satisfied: markdown>=2.6.8 in /usr/local/lib/python3.7/dist-packages (from tensorboard~=2.6->tensorflow->keras-tcn) (3.3.6)\n",
            "Requirement already satisfied: setuptools>=41.0.0 in /usr/local/lib/python3.7/dist-packages (from tensorboard~=2.6->tensorflow->keras-tcn) (57.4.0)\n",
            "Requirement already satisfied: tensorboard-data-server<0.7.0,>=0.6.0 in /usr/local/lib/python3.7/dist-packages (from tensorboard~=2.6->tensorflow->keras-tcn) (0.6.1)\n",
            "Requirement already satisfied: tensorboard-plugin-wit>=1.6.0 in /usr/local/lib/python3.7/dist-packages (from tensorboard~=2.6->tensorflow->keras-tcn) (1.8.1)\n",
            "Requirement already satisfied: google-auth<3,>=1.6.3 in /usr/local/lib/python3.7/dist-packages (from tensorboard~=2.6->tensorflow->keras-tcn) (1.35.0)\n",
            "Requirement already satisfied: requests<3,>=2.21.0 in /usr/local/lib/python3.7/dist-packages (from tensorboard~=2.6->tensorflow->keras-tcn) (2.23.0)\n",
            "Requirement already satisfied: rsa<5,>=3.1.4 in /usr/local/lib/python3.7/dist-packages (from google-auth<3,>=1.6.3->tensorboard~=2.6->tensorflow->keras-tcn) (4.8)\n",
            "Requirement already satisfied: pyasn1-modules>=0.2.1 in /usr/local/lib/python3.7/dist-packages (from google-auth<3,>=1.6.3->tensorboard~=2.6->tensorflow->keras-tcn) (0.2.8)\n",
            "Requirement already satisfied: cachetools<5.0,>=2.0.0 in /usr/local/lib/python3.7/dist-packages (from google-auth<3,>=1.6.3->tensorboard~=2.6->tensorflow->keras-tcn) (4.2.4)\n",
            "Requirement already satisfied: requests-oauthlib>=0.7.0 in /usr/local/lib/python3.7/dist-packages (from google-auth-oauthlib<0.5,>=0.4.1->tensorboard~=2.6->tensorflow->keras-tcn) (1.3.1)\n",
            "Requirement already satisfied: importlib-metadata>=4.4 in /usr/local/lib/python3.7/dist-packages (from markdown>=2.6.8->tensorboard~=2.6->tensorflow->keras-tcn) (4.10.1)\n",
            "Requirement already satisfied: zipp>=0.5 in /usr/local/lib/python3.7/dist-packages (from importlib-metadata>=4.4->markdown>=2.6.8->tensorboard~=2.6->tensorflow->keras-tcn) (3.7.0)\n",
            "Requirement already satisfied: pyasn1<0.5.0,>=0.4.6 in /usr/local/lib/python3.7/dist-packages (from pyasn1-modules>=0.2.1->google-auth<3,>=1.6.3->tensorboard~=2.6->tensorflow->keras-tcn) (0.4.8)\n",
            "Requirement already satisfied: certifi>=2017.4.17 in /usr/local/lib/python3.7/dist-packages (from requests<3,>=2.21.0->tensorboard~=2.6->tensorflow->keras-tcn) (2021.10.8)\n",
            "Requirement already satisfied: chardet<4,>=3.0.2 in /usr/local/lib/python3.7/dist-packages (from requests<3,>=2.21.0->tensorboard~=2.6->tensorflow->keras-tcn) (3.0.4)\n",
            "Requirement already satisfied: idna<3,>=2.5 in /usr/local/lib/python3.7/dist-packages (from requests<3,>=2.21.0->tensorboard~=2.6->tensorflow->keras-tcn) (2.10)\n",
            "Requirement already satisfied: urllib3!=1.25.0,!=1.25.1,<1.26,>=1.21.1 in /usr/local/lib/python3.7/dist-packages (from requests<3,>=2.21.0->tensorboard~=2.6->tensorflow->keras-tcn) (1.24.3)\n",
            "Requirement already satisfied: oauthlib>=3.0.0 in /usr/local/lib/python3.7/dist-packages (from requests-oauthlib>=0.7.0->google-auth-oauthlib<0.5,>=0.4.1->tensorboard~=2.6->tensorflow->keras-tcn) (3.2.0)\n",
            "Requirement already satisfied: typeguard>=2.7 in /usr/local/lib/python3.7/dist-packages (from tensorflow-addons->keras-tcn) (2.7.1)\n",
            "Installing collected packages: tensorflow-addons, keras-tcn\n",
            "Successfully installed keras-tcn-3.4.2 tensorflow-addons-0.15.0\n"
          ]
        }
      ],
      "source": [
        "from numpy import save, load\n",
        "from pandas import read_csv\n",
        "from keras.layers import Dense\n",
        "from keras.layers import Flatten\n",
        "from keras.layers import Dropout\n",
        "from keras import Model\n",
        "from keras.layers import Conv1D, SpatialDropout1D\n",
        "from keras.layers import Convolution1D, Dense\n",
        "from keras.models import Input, Model\n",
        "from keras.layers import LSTM, Conv1D, concatenate,GlobalMaxPooling1D,GlobalAveragePooling1D,TimeDistributed, MaxPooling1D\n",
        "import tensorflow as tf\n",
        "import numpy as np\n",
        "!pip install keras-tcn\n",
        "from tcn import TCN"
      ]
    },
    {
      "cell_type": "code",
      "source": [
        "from google.colab import drive\n",
        "drive.mount('/content/drive')\n",
        "\n",
        "from google.colab import drive\n",
        "\n",
        "drive.mount('/content/gdrive')\n",
        "root_path = 'gdrive/My Drive/'  #change dir to your project folder\n",
        "\n",
        "import numpy as np\n",
        "x_train = np.load('gdrive/My Drive/dataset1/acc+gyr/trainX.npy')\n",
        "y_train = np.load('gdrive/My Drive/dataset1/acc+gyr/trainy.npy')\n",
        "x_test = np.load('gdrive/My Drive/dataset1/acc+gyr/testX.npy')\n",
        "y_test = np.load('gdrive/My Drive/dataset1/acc+gyr/testy.npy')\n",
        "print(x_train.shape, y_train.shape, x_test.shape, y_test.shape)"
      ],
      "metadata": {
        "colab": {
          "base_uri": "https://localhost:8080/"
        },
        "id": "mxaKZAFk5TvK",
        "outputId": "b31a2be3-5bcb-4452-b4d0-da21c8763d00"
      },
      "execution_count": 2,
      "outputs": [
        {
          "output_type": "stream",
          "name": "stdout",
          "text": [
            "Mounted at /content/drive\n",
            "Mounted at /content/gdrive\n",
            "(33104, 128, 6) (33104, 118) (3740, 128, 6) (3740, 118)\n"
          ]
        }
      ]
    },
    {
      "cell_type": "code",
      "source": [
        "idx = np.random.permutation(len(x_train))\n",
        "x_train = x_train[idx]\n",
        "y_train = y_train[idx]\n",
        "from sklearn.model_selection import train_test_split\n",
        "x_train, x_validation, y_train, y_validation = train_test_split(x_train, y_train, test_size=0.20, random_state=42)"
      ],
      "metadata": {
        "id": "OqP6bY3k5UZH"
      },
      "execution_count": 3,
      "outputs": []
    },
    {
      "cell_type": "code",
      "source": [
        "from tensorflow import keras\n",
        "input_shape = x_train.shape[1:]\n",
        "inp = Input(shape=x_train.shape[1:])\n",
        "x = SpatialDropout1D(0.2)(inp)\n",
        "x = TCN(128,dilations = [1, 2, 4], return_sequences=True)(x)\n",
        "x = TCN(64,dilations = [1, 2, 4], return_sequences=True)(x)\n",
        "avg_pool = GlobalAveragePooling1D()(x)\n",
        "max_pool = GlobalMaxPooling1D()(x)\n",
        "    \n",
        "conc = concatenate([avg_pool, max_pool])\n",
        "conc = Dense(64, activation=\"relu\")(conc)\n",
        "conc = Dropout(0.2)(conc)\n",
        "outp = Dense(118, activation=\"softmax\")(conc)    \n",
        "model = Model(inputs=inp, outputs=outp)\n",
        "model.compile(loss='categorical_crossentropy', optimizer='adam', metrics=['accuracy'])\n",
        "model.summary()\n",
        "callbacks = [keras.callbacks.EarlyStopping(patience=10, restore_best_weights=True)]"
      ],
      "metadata": {
        "colab": {
          "base_uri": "https://localhost:8080/"
        },
        "id": "fampnwRy5XUm",
        "outputId": "4574878b-67c8-443a-aca3-c950c7e1e753"
      },
      "execution_count": 6,
      "outputs": [
        {
          "output_type": "stream",
          "name": "stdout",
          "text": [
            "Model: \"model_2\"\n",
            "__________________________________________________________________________________________________\n",
            " Layer (type)                   Output Shape         Param #     Connected to                     \n",
            "==================================================================================================\n",
            " input_3 (InputLayer)           [(None, 128, 6)]     0           []                               \n",
            "                                                                                                  \n",
            " spatial_dropout1d_2 (SpatialDr  (None, 128, 6)      0           ['input_3[0][0]']                \n",
            " opout1D)                                                                                         \n",
            "                                                                                                  \n",
            " tcn_4 (TCN)                    (None, 128, 128)     249728      ['spatial_dropout1d_2[0][0]']    \n",
            "                                                                                                  \n",
            " tcn_5 (TCN)                    (None, 128, 64)      94656       ['tcn_4[0][0]']                  \n",
            "                                                                                                  \n",
            " global_average_pooling1d_2 (Gl  (None, 64)          0           ['tcn_5[0][0]']                  \n",
            " obalAveragePooling1D)                                                                            \n",
            "                                                                                                  \n",
            " global_max_pooling1d_2 (Global  (None, 64)          0           ['tcn_5[0][0]']                  \n",
            " MaxPooling1D)                                                                                    \n",
            "                                                                                                  \n",
            " concatenate_2 (Concatenate)    (None, 128)          0           ['global_average_pooling1d_2[0][0\n",
            "                                                                 ]',                              \n",
            "                                                                  'global_max_pooling1d_2[0][0]'] \n",
            "                                                                                                  \n",
            " dense_4 (Dense)                (None, 64)           8256        ['concatenate_2[0][0]']          \n",
            "                                                                                                  \n",
            " dropout_2 (Dropout)            (None, 64)           0           ['dense_4[0][0]']                \n",
            "                                                                                                  \n",
            " dense_5 (Dense)                (None, 118)          7670        ['dropout_2[0][0]']              \n",
            "                                                                                                  \n",
            "==================================================================================================\n",
            "Total params: 360,310\n",
            "Trainable params: 360,310\n",
            "Non-trainable params: 0\n",
            "__________________________________________________________________________________________________\n"
          ]
        }
      ]
    },
    {
      "cell_type": "code",
      "source": [
        "history = model.fit(x_train, y_train, epochs=150, verbose=True, validation_data=(x_validation, y_validation), batch_size=128,callbacks=callbacks)"
      ],
      "metadata": {
        "colab": {
          "base_uri": "https://localhost:8080/"
        },
        "id": "SaWCy3YG9Vlu",
        "outputId": "7598126a-b462-4b83-c57d-6d58b2c1d157"
      },
      "execution_count": 9,
      "outputs": [
        {
          "output_type": "stream",
          "name": "stdout",
          "text": [
            "Epoch 1/150\n",
            "207/207 [==============================] - 32s 91ms/step - loss: 4.0731 - accuracy: 0.1350 - val_loss: 2.0684 - val_accuracy: 0.5233\n",
            "Epoch 2/150\n",
            "207/207 [==============================] - 16s 77ms/step - loss: 2.0906 - accuracy: 0.4566 - val_loss: 0.8337 - val_accuracy: 0.8156\n",
            "Epoch 3/150\n",
            "207/207 [==============================] - 16s 77ms/step - loss: 1.3613 - accuracy: 0.6348 - val_loss: 0.4862 - val_accuracy: 0.8894\n",
            "Epoch 4/150\n",
            "207/207 [==============================] - 16s 77ms/step - loss: 1.0436 - accuracy: 0.7188 - val_loss: 0.3595 - val_accuracy: 0.9104\n",
            "Epoch 5/150\n",
            "207/207 [==============================] - 16s 76ms/step - loss: 0.8533 - accuracy: 0.7688 - val_loss: 0.3182 - val_accuracy: 0.9234\n",
            "Epoch 6/150\n",
            "207/207 [==============================] - 16s 76ms/step - loss: 0.7216 - accuracy: 0.7992 - val_loss: 0.2810 - val_accuracy: 0.9243\n",
            "Epoch 7/150\n",
            "207/207 [==============================] - 16s 76ms/step - loss: 0.6486 - accuracy: 0.8200 - val_loss: 0.2392 - val_accuracy: 0.9405\n",
            "Epoch 8/150\n",
            "207/207 [==============================] - 16s 76ms/step - loss: 0.5935 - accuracy: 0.8360 - val_loss: 0.2353 - val_accuracy: 0.9366\n",
            "Epoch 9/150\n",
            "207/207 [==============================] - 16s 76ms/step - loss: 0.5419 - accuracy: 0.8493 - val_loss: 0.2335 - val_accuracy: 0.9405\n",
            "Epoch 10/150\n",
            "207/207 [==============================] - 16s 77ms/step - loss: 0.4991 - accuracy: 0.8616 - val_loss: 0.2824 - val_accuracy: 0.9221\n",
            "Epoch 11/150\n",
            "207/207 [==============================] - 16s 77ms/step - loss: 0.4683 - accuracy: 0.8681 - val_loss: 0.2050 - val_accuracy: 0.9452\n",
            "Epoch 12/150\n",
            "207/207 [==============================] - 16s 76ms/step - loss: 0.4336 - accuracy: 0.8799 - val_loss: 0.2017 - val_accuracy: 0.9450\n",
            "Epoch 13/150\n",
            "207/207 [==============================] - 16s 76ms/step - loss: 0.4172 - accuracy: 0.8816 - val_loss: 0.1890 - val_accuracy: 0.9485\n",
            "Epoch 14/150\n",
            "207/207 [==============================] - 16s 76ms/step - loss: 0.4007 - accuracy: 0.8871 - val_loss: 0.2323 - val_accuracy: 0.9366\n",
            "Epoch 15/150\n",
            "207/207 [==============================] - 16s 76ms/step - loss: 0.3781 - accuracy: 0.8930 - val_loss: 0.1601 - val_accuracy: 0.9586\n",
            "Epoch 16/150\n",
            "207/207 [==============================] - 16s 76ms/step - loss: 0.3618 - accuracy: 0.8979 - val_loss: 0.1703 - val_accuracy: 0.9550\n",
            "Epoch 17/150\n",
            "207/207 [==============================] - 16s 76ms/step - loss: 0.3370 - accuracy: 0.9056 - val_loss: 0.1556 - val_accuracy: 0.9576\n",
            "Epoch 18/150\n",
            "207/207 [==============================] - 16s 76ms/step - loss: 0.3258 - accuracy: 0.9074 - val_loss: 0.1639 - val_accuracy: 0.9576\n",
            "Epoch 19/150\n",
            "207/207 [==============================] - 16s 76ms/step - loss: 0.3416 - accuracy: 0.9063 - val_loss: 0.1701 - val_accuracy: 0.9550\n",
            "Epoch 20/150\n",
            "207/207 [==============================] - 16s 76ms/step - loss: 0.3119 - accuracy: 0.9107 - val_loss: 0.1569 - val_accuracy: 0.9585\n",
            "Epoch 21/150\n",
            "207/207 [==============================] - 16s 76ms/step - loss: 0.2903 - accuracy: 0.9188 - val_loss: 0.1374 - val_accuracy: 0.9628\n",
            "Epoch 22/150\n",
            "207/207 [==============================] - 16s 76ms/step - loss: 0.2906 - accuracy: 0.9158 - val_loss: 0.1608 - val_accuracy: 0.9567\n",
            "Epoch 23/150\n",
            "207/207 [==============================] - 16s 76ms/step - loss: 0.2975 - accuracy: 0.9149 - val_loss: 0.1614 - val_accuracy: 0.9595\n",
            "Epoch 24/150\n",
            "207/207 [==============================] - 16s 76ms/step - loss: 0.2863 - accuracy: 0.9166 - val_loss: 0.1395 - val_accuracy: 0.9631\n",
            "Epoch 25/150\n",
            "207/207 [==============================] - 16s 76ms/step - loss: 0.2795 - accuracy: 0.9201 - val_loss: 0.1301 - val_accuracy: 0.9647\n",
            "Epoch 26/150\n",
            "207/207 [==============================] - 16s 75ms/step - loss: 0.2642 - accuracy: 0.9250 - val_loss: 0.1535 - val_accuracy: 0.9583\n",
            "Epoch 27/150\n",
            "207/207 [==============================] - 16s 75ms/step - loss: 0.2442 - accuracy: 0.9293 - val_loss: 0.1468 - val_accuracy: 0.9618\n",
            "Epoch 28/150\n",
            "207/207 [==============================] - 16s 76ms/step - loss: 0.2516 - accuracy: 0.9293 - val_loss: 0.1406 - val_accuracy: 0.9650\n",
            "Epoch 29/150\n",
            "207/207 [==============================] - 16s 76ms/step - loss: 0.2470 - accuracy: 0.9282 - val_loss: 0.1310 - val_accuracy: 0.9671\n",
            "Epoch 30/150\n",
            "207/207 [==============================] - 16s 76ms/step - loss: 0.2437 - accuracy: 0.9320 - val_loss: 0.1282 - val_accuracy: 0.9663\n",
            "Epoch 31/150\n",
            "207/207 [==============================] - 16s 76ms/step - loss: 0.2312 - accuracy: 0.9330 - val_loss: 0.1248 - val_accuracy: 0.9660\n",
            "Epoch 32/150\n",
            "207/207 [==============================] - 16s 76ms/step - loss: 0.2319 - accuracy: 0.9344 - val_loss: 0.1353 - val_accuracy: 0.9636\n",
            "Epoch 33/150\n",
            "207/207 [==============================] - 16s 76ms/step - loss: 0.2285 - accuracy: 0.9337 - val_loss: 0.1219 - val_accuracy: 0.9674\n",
            "Epoch 34/150\n",
            "207/207 [==============================] - 16s 76ms/step - loss: 0.2163 - accuracy: 0.9394 - val_loss: 0.1388 - val_accuracy: 0.9672\n",
            "Epoch 35/150\n",
            "207/207 [==============================] - 16s 76ms/step - loss: 0.2100 - accuracy: 0.9405 - val_loss: 0.1278 - val_accuracy: 0.9678\n",
            "Epoch 36/150\n",
            "207/207 [==============================] - 16s 76ms/step - loss: 0.2184 - accuracy: 0.9386 - val_loss: 0.1566 - val_accuracy: 0.9597\n",
            "Epoch 37/150\n",
            "207/207 [==============================] - 16s 76ms/step - loss: 0.2110 - accuracy: 0.9397 - val_loss: 0.1207 - val_accuracy: 0.9684\n",
            "Epoch 38/150\n",
            "207/207 [==============================] - 16s 75ms/step - loss: 0.2111 - accuracy: 0.9380 - val_loss: 0.1178 - val_accuracy: 0.9686\n",
            "Epoch 39/150\n",
            "207/207 [==============================] - 16s 75ms/step - loss: 0.2001 - accuracy: 0.9425 - val_loss: 0.1195 - val_accuracy: 0.9701\n",
            "Epoch 40/150\n",
            "207/207 [==============================] - 16s 76ms/step - loss: 0.2065 - accuracy: 0.9404 - val_loss: 0.1447 - val_accuracy: 0.9633\n",
            "Epoch 41/150\n",
            "207/207 [==============================] - 16s 75ms/step - loss: 0.1940 - accuracy: 0.9441 - val_loss: 0.1267 - val_accuracy: 0.9665\n",
            "Epoch 42/150\n",
            "207/207 [==============================] - 16s 75ms/step - loss: 0.1967 - accuracy: 0.9434 - val_loss: 0.1333 - val_accuracy: 0.9654\n",
            "Epoch 43/150\n",
            "207/207 [==============================] - 16s 75ms/step - loss: 0.1909 - accuracy: 0.9438 - val_loss: 0.1053 - val_accuracy: 0.9736\n",
            "Epoch 44/150\n",
            "207/207 [==============================] - 16s 76ms/step - loss: 0.1919 - accuracy: 0.9456 - val_loss: 0.1156 - val_accuracy: 0.9684\n",
            "Epoch 45/150\n",
            "207/207 [==============================] - 16s 76ms/step - loss: 0.1872 - accuracy: 0.9463 - val_loss: 0.1082 - val_accuracy: 0.9715\n",
            "Epoch 46/150\n",
            "207/207 [==============================] - 16s 76ms/step - loss: 0.1815 - accuracy: 0.9461 - val_loss: 0.1155 - val_accuracy: 0.9699\n",
            "Epoch 47/150\n",
            "207/207 [==============================] - 16s 75ms/step - loss: 0.1769 - accuracy: 0.9489 - val_loss: 0.1141 - val_accuracy: 0.9678\n",
            "Epoch 48/150\n",
            "207/207 [==============================] - 16s 76ms/step - loss: 0.1722 - accuracy: 0.9508 - val_loss: 0.1174 - val_accuracy: 0.9678\n",
            "Epoch 49/150\n",
            "207/207 [==============================] - 16s 75ms/step - loss: 0.1686 - accuracy: 0.9511 - val_loss: 0.1306 - val_accuracy: 0.9680\n",
            "Epoch 50/150\n",
            "207/207 [==============================] - 16s 75ms/step - loss: 0.1712 - accuracy: 0.9512 - val_loss: 0.1227 - val_accuracy: 0.9683\n",
            "Epoch 51/150\n",
            "207/207 [==============================] - 16s 76ms/step - loss: 0.1752 - accuracy: 0.9488 - val_loss: 0.1162 - val_accuracy: 0.9699\n",
            "Epoch 52/150\n",
            "207/207 [==============================] - 16s 76ms/step - loss: 0.1663 - accuracy: 0.9529 - val_loss: 0.1206 - val_accuracy: 0.9712\n",
            "Epoch 53/150\n",
            "207/207 [==============================] - 16s 76ms/step - loss: 0.1689 - accuracy: 0.9516 - val_loss: 0.1173 - val_accuracy: 0.9710\n"
          ]
        }
      ]
    },
    {
      "cell_type": "code",
      "source": [
        "loss, accuracy = model.evaluate(x_validation, y_validation, verbose=False)\n",
        "print(\"Validation Accuracy:  {:.4f}\".format(accuracy))\n",
        "loss, accuracy = model.evaluate(x_test, y_test, verbose=False)\n",
        "print(\"Testing Accuracy: {:.4f}\".format(accuracy))"
      ],
      "metadata": {
        "colab": {
          "base_uri": "https://localhost:8080/"
        },
        "id": "ZbGvxYBj9Wse",
        "outputId": "fa74ba62-6301-4667-9bbd-453b890367d0"
      },
      "execution_count": 10,
      "outputs": [
        {
          "output_type": "stream",
          "name": "stdout",
          "text": [
            "Validation Accuracy:  0.9736\n",
            "Testing Accuracy: 0.9206\n"
          ]
        }
      ]
    }
  ]
}