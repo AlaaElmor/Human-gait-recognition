{
  "nbformat": 4,
  "nbformat_minor": 0,
  "metadata": {
    "colab": {
      "name": "5_10.ipynb",
      "provenance": []
    },
    "kernelspec": {
      "name": "python3",
      "display_name": "Python 3"
    },
    "language_info": {
      "name": "python"
    },
    "accelerator": "GPU"
  },
  "cells": [
    {
      "cell_type": "code",
      "execution_count": 33,
      "metadata": {
        "id": "2jIRhLtI55E6"
      },
      "outputs": [],
      "source": [
        "from numpy import save, load\n",
        "from pandas import read_csv\n",
        "from tensorflow import keras\n",
        "from tensorflow.keras import layers\n",
        "import numpy as np"
      ]
    },
    {
      "cell_type": "code",
      "source": [
        "from google.colab import drive\n",
        "drive.mount('/content/drive')\n",
        "\n",
        "from google.colab import drive\n",
        "\n",
        "drive.mount('/content/gdrive')\n",
        "root_path = 'gdrive/My Drive/'  #change dir to your project folder\n",
        "\n",
        "import numpy as np\n",
        "x_train = np.load('gdrive/My Drive/dataset/dataset2/trainX.npy')\n",
        "y_train = np.load('gdrive/My Drive/dataset/dataset2/trainy.npy')\n",
        "x_test = np.load('gdrive/My Drive/dataset/dataset2/testX.npy')\n",
        "y_test = np.load('gdrive/My Drive/dataset/dataset2/testy.npy')\n",
        "print(x_train.shape, y_train.shape, x_test.shape, y_test.shape)"
      ],
      "metadata": {
        "colab": {
          "base_uri": "https://localhost:8080/"
        },
        "id": "oZao1z7K6BSL",
        "outputId": "3a85fc5c-53ec-4ef6-b689-69170046b6d8"
      },
      "execution_count": 34,
      "outputs": [
        {
          "output_type": "stream",
          "name": "stdout",
          "text": [
            "Mounted at /content/drive\n",
            "Mounted at /content/gdrive\n",
            "(44339, 128, 6) (44339, 20) (4936, 128, 6) (4936, 20)\n"
          ]
        }
      ]
    },
    {
      "cell_type": "code",
      "source": [
        "x_train = x_train.transpose(0,2,1)\n",
        "x_test = x_test.transpose(0,2,1)\n",
        "\n",
        "idx = np.random.permutation(len(x_train))\n",
        "x_train = x_train[idx]\n",
        "y_train = y_train[idx]\n",
        "from sklearn.model_selection import train_test_split\n",
        "x_train, x_validation, y_train, y_validation = train_test_split(x_train, y_train, test_size=0.20, random_state=42)\n"
      ],
      "metadata": {
        "id": "GMlK0Tf36BVc"
      },
      "execution_count": 35,
      "outputs": []
    },
    {
      "cell_type": "code",
      "source": [
        "\n",
        "x_train.shape"
      ],
      "metadata": {
        "colab": {
          "base_uri": "https://localhost:8080/"
        },
        "id": "5PjnE9_G-dUl",
        "outputId": "4294ef6b-410b-40fa-e645-baeffed0e3fa"
      },
      "execution_count": 36,
      "outputs": [
        {
          "output_type": "execute_result",
          "data": {
            "text/plain": [
              "(35471, 6, 128)"
            ]
          },
          "metadata": {},
          "execution_count": 36
        }
      ]
    },
    {
      "cell_type": "code",
      "source": [
        "embed_dim = x_train.shape[-1]   # Embedding size for each token\n",
        "num_heads = 4  # Number of attention heads\n",
        "ff_dim = x_train.shape[-1]  # Hidden layer size in feed forward network inside transformer\n",
        "\n",
        "class TransformerBlock(layers.Layer):\n",
        "    def __init__(self, embed_dim, num_heads, ff_dim, rate=0.1):\n",
        "        super(TransformerBlock, self).__init__()\n",
        "        self.att = layers.MultiHeadAttention(num_heads=num_heads,\n",
        "                                             key_dim=embed_dim)\n",
        "        self.ffn = keras.Sequential([\n",
        "            layers.Dense(ff_dim, activation=\"relu\"),\n",
        "            layers.Dense(embed_dim),\n",
        "        ])\n",
        "        self.layernorm1 = layers.LayerNormalization(epsilon=1e-6)\n",
        "        self.layernorm2 = layers.LayerNormalization(epsilon=1e-6)\n",
        "        self.dropout1 = layers.Dropout(rate)\n",
        "        self.dropout2 = layers.Dropout(rate)\n",
        "\n",
        "    def call(self, inputs, training):\n",
        "        attn_output = self.att(inputs, inputs)  # self-attention layer\n",
        "        attn_output = self.dropout1(attn_output, training=training)\n",
        "        out1 = self.layernorm1(inputs + attn_output)  # layer norm\n",
        "        ffn_output = self.ffn(out1)  #feed-forward layer\n",
        "        ffn_output = self.dropout2(ffn_output, training=training)\n",
        "        return self.layernorm2(out1 + ffn_output)  # layer norm\n",
        "model = keras.Sequential()\n",
        "model.add(layers.Input(shape= x_train.shape[1:]))\n",
        "model.add(TransformerBlock(embed_dim, num_heads, ff_dim))\n",
        "model.add(layers.GlobalAveragePooling1D())\n",
        "model.add(layers.Dropout(0.2))\n",
        "model.add(layers.Dense(ff_dim, activation='relu'))\n",
        "model.add(layers.Dropout(0.2))\n",
        "model.add(layers.Dense(20, activation='softmax'))\n",
        "\n",
        "model.compile(\n",
        "    loss=\"categorical_crossentropy\",\n",
        "    optimizer=keras.optimizers.Adam(learning_rate=1e-4),\n",
        "    metrics=[\"accuracy\"],\n",
        ")\n",
        "model.summary()\n",
        "\n",
        "callbacks = [keras.callbacks.EarlyStopping(patience=10, restore_best_weights=True)]"
      ],
      "metadata": {
        "colab": {
          "base_uri": "https://localhost:8080/"
        },
        "id": "VQQWrG_f6Bhz",
        "outputId": "4cd88bf7-9d62-42ca-b353-c6130cbd0fd5"
      },
      "execution_count": 37,
      "outputs": [
        {
          "output_type": "stream",
          "name": "stdout",
          "text": [
            "Model: \"sequential_8\"\n",
            "_________________________________________________________________\n",
            " Layer (type)                Output Shape              Param #   \n",
            "=================================================================\n",
            " transformer_block_4 (Transf  (None, 6, 128)           297344    \n",
            " ormerBlock)                                                     \n",
            "                                                                 \n",
            " global_average_pooling1d_4   (None, 128)              0         \n",
            " (GlobalAveragePooling1D)                                        \n",
            "                                                                 \n",
            " dropout_18 (Dropout)        (None, 128)               0         \n",
            "                                                                 \n",
            " dense_18 (Dense)            (None, 128)               16512     \n",
            "                                                                 \n",
            " dropout_19 (Dropout)        (None, 128)               0         \n",
            "                                                                 \n",
            " dense_19 (Dense)            (None, 20)                2580      \n",
            "                                                                 \n",
            "=================================================================\n",
            "Total params: 316,436\n",
            "Trainable params: 316,436\n",
            "Non-trainable params: 0\n",
            "_________________________________________________________________\n"
          ]
        }
      ]
    },
    {
      "cell_type": "code",
      "source": [
        "history = model.fit(x_train, y_train, epochs=200, verbose=True, validation_data=(x_validation, y_validation), batch_size=128,callbacks=callbacks)"
      ],
      "metadata": {
        "colab": {
          "base_uri": "https://localhost:8080/"
        },
        "id": "vBDRw2UA6BlK",
        "outputId": "a7871567-588f-4acc-aa27-8041eb6a462f"
      },
      "execution_count": 38,
      "outputs": [
        {
          "output_type": "stream",
          "name": "stdout",
          "text": [
            "Epoch 1/200\n",
            "278/278 [==============================] - 6s 16ms/step - loss: 1.9576 - accuracy: 0.4405 - val_loss: 1.0136 - val_accuracy: 0.7216\n",
            "Epoch 2/200\n",
            "278/278 [==============================] - 4s 15ms/step - loss: 0.9239 - accuracy: 0.7488 - val_loss: 0.6025 - val_accuracy: 0.8443\n",
            "Epoch 3/200\n",
            "278/278 [==============================] - 4s 15ms/step - loss: 0.6376 - accuracy: 0.8316 - val_loss: 0.4446 - val_accuracy: 0.8889\n",
            "Epoch 4/200\n",
            "278/278 [==============================] - 4s 14ms/step - loss: 0.5099 - accuracy: 0.8675 - val_loss: 0.3666 - val_accuracy: 0.9052\n",
            "Epoch 5/200\n",
            "278/278 [==============================] - 4s 14ms/step - loss: 0.4306 - accuracy: 0.8905 - val_loss: 0.3165 - val_accuracy: 0.9200\n",
            "Epoch 6/200\n",
            "278/278 [==============================] - 4s 14ms/step - loss: 0.3795 - accuracy: 0.9024 - val_loss: 0.2932 - val_accuracy: 0.9259\n",
            "Epoch 7/200\n",
            "278/278 [==============================] - 4s 16ms/step - loss: 0.3403 - accuracy: 0.9120 - val_loss: 0.2894 - val_accuracy: 0.9215\n",
            "Epoch 8/200\n",
            "278/278 [==============================] - 4s 14ms/step - loss: 0.3113 - accuracy: 0.9209 - val_loss: 0.2475 - val_accuracy: 0.9387\n",
            "Epoch 9/200\n",
            "278/278 [==============================] - 4s 14ms/step - loss: 0.2852 - accuracy: 0.9255 - val_loss: 0.2271 - val_accuracy: 0.9402\n",
            "Epoch 10/200\n",
            "278/278 [==============================] - 4s 14ms/step - loss: 0.2671 - accuracy: 0.9298 - val_loss: 0.2097 - val_accuracy: 0.9461\n",
            "Epoch 11/200\n",
            "278/278 [==============================] - 4s 14ms/step - loss: 0.2468 - accuracy: 0.9340 - val_loss: 0.2033 - val_accuracy: 0.9463\n",
            "Epoch 12/200\n",
            "278/278 [==============================] - 4s 14ms/step - loss: 0.2334 - accuracy: 0.9396 - val_loss: 0.1989 - val_accuracy: 0.9459\n",
            "Epoch 13/200\n",
            "278/278 [==============================] - 4s 14ms/step - loss: 0.2241 - accuracy: 0.9386 - val_loss: 0.1923 - val_accuracy: 0.9463\n",
            "Epoch 14/200\n",
            "278/278 [==============================] - 4s 14ms/step - loss: 0.2093 - accuracy: 0.9448 - val_loss: 0.1768 - val_accuracy: 0.9521\n",
            "Epoch 15/200\n",
            "278/278 [==============================] - 4s 14ms/step - loss: 0.2037 - accuracy: 0.9447 - val_loss: 0.1857 - val_accuracy: 0.9478\n",
            "Epoch 16/200\n",
            "278/278 [==============================] - 4s 14ms/step - loss: 0.1935 - accuracy: 0.9470 - val_loss: 0.1709 - val_accuracy: 0.9521\n",
            "Epoch 17/200\n",
            "278/278 [==============================] - 6s 20ms/step - loss: 0.1826 - accuracy: 0.9499 - val_loss: 0.1686 - val_accuracy: 0.9542\n",
            "Epoch 18/200\n",
            "278/278 [==============================] - 5s 16ms/step - loss: 0.1777 - accuracy: 0.9515 - val_loss: 0.1708 - val_accuracy: 0.9532\n",
            "Epoch 19/200\n",
            "278/278 [==============================] - 4s 14ms/step - loss: 0.1731 - accuracy: 0.9529 - val_loss: 0.1605 - val_accuracy: 0.9567\n",
            "Epoch 20/200\n",
            "278/278 [==============================] - 4s 14ms/step - loss: 0.1629 - accuracy: 0.9558 - val_loss: 0.1621 - val_accuracy: 0.9559\n",
            "Epoch 21/200\n",
            "278/278 [==============================] - 4s 14ms/step - loss: 0.1622 - accuracy: 0.9549 - val_loss: 0.1518 - val_accuracy: 0.9583\n",
            "Epoch 22/200\n",
            "278/278 [==============================] - 4s 14ms/step - loss: 0.1536 - accuracy: 0.9577 - val_loss: 0.1522 - val_accuracy: 0.9587\n",
            "Epoch 23/200\n",
            "278/278 [==============================] - 4s 14ms/step - loss: 0.1507 - accuracy: 0.9579 - val_loss: 0.1499 - val_accuracy: 0.9591\n",
            "Epoch 24/200\n",
            "278/278 [==============================] - 4s 14ms/step - loss: 0.1424 - accuracy: 0.9606 - val_loss: 0.1474 - val_accuracy: 0.9606\n",
            "Epoch 25/200\n",
            "278/278 [==============================] - 4s 14ms/step - loss: 0.1394 - accuracy: 0.9606 - val_loss: 0.1459 - val_accuracy: 0.9628\n",
            "Epoch 26/200\n",
            "278/278 [==============================] - 4s 14ms/step - loss: 0.1340 - accuracy: 0.9621 - val_loss: 0.1480 - val_accuracy: 0.9595\n",
            "Epoch 27/200\n",
            "278/278 [==============================] - 4s 14ms/step - loss: 0.1293 - accuracy: 0.9636 - val_loss: 0.1448 - val_accuracy: 0.9622\n",
            "Epoch 28/200\n",
            "278/278 [==============================] - 4s 14ms/step - loss: 0.1265 - accuracy: 0.9640 - val_loss: 0.1411 - val_accuracy: 0.9603\n",
            "Epoch 29/200\n",
            "278/278 [==============================] - 4s 14ms/step - loss: 0.1232 - accuracy: 0.9651 - val_loss: 0.1337 - val_accuracy: 0.9640\n",
            "Epoch 30/200\n",
            "278/278 [==============================] - 4s 14ms/step - loss: 0.1164 - accuracy: 0.9673 - val_loss: 0.1361 - val_accuracy: 0.9617\n",
            "Epoch 31/200\n",
            "278/278 [==============================] - 4s 14ms/step - loss: 0.1164 - accuracy: 0.9669 - val_loss: 0.1341 - val_accuracy: 0.9636\n",
            "Epoch 32/200\n",
            "278/278 [==============================] - 4s 14ms/step - loss: 0.1141 - accuracy: 0.9682 - val_loss: 0.1387 - val_accuracy: 0.9632\n",
            "Epoch 33/200\n",
            "278/278 [==============================] - 4s 14ms/step - loss: 0.1087 - accuracy: 0.9693 - val_loss: 0.1317 - val_accuracy: 0.9638\n",
            "Epoch 34/200\n",
            "278/278 [==============================] - 4s 14ms/step - loss: 0.1044 - accuracy: 0.9705 - val_loss: 0.1352 - val_accuracy: 0.9635\n",
            "Epoch 35/200\n",
            "278/278 [==============================] - 4s 14ms/step - loss: 0.1071 - accuracy: 0.9688 - val_loss: 0.1299 - val_accuracy: 0.9670\n",
            "Epoch 36/200\n",
            "278/278 [==============================] - 4s 14ms/step - loss: 0.1035 - accuracy: 0.9700 - val_loss: 0.1310 - val_accuracy: 0.9639\n",
            "Epoch 37/200\n",
            "278/278 [==============================] - 4s 14ms/step - loss: 0.0996 - accuracy: 0.9721 - val_loss: 0.1237 - val_accuracy: 0.9667\n",
            "Epoch 38/200\n",
            "278/278 [==============================] - 4s 15ms/step - loss: 0.0985 - accuracy: 0.9710 - val_loss: 0.1300 - val_accuracy: 0.9655\n",
            "Epoch 39/200\n",
            "278/278 [==============================] - 4s 14ms/step - loss: 0.0934 - accuracy: 0.9740 - val_loss: 0.1260 - val_accuracy: 0.9654\n",
            "Epoch 40/200\n",
            "278/278 [==============================] - 4s 14ms/step - loss: 0.0922 - accuracy: 0.9723 - val_loss: 0.1309 - val_accuracy: 0.9652\n",
            "Epoch 41/200\n",
            "278/278 [==============================] - 4s 14ms/step - loss: 0.0886 - accuracy: 0.9745 - val_loss: 0.1323 - val_accuracy: 0.9661\n",
            "Epoch 42/200\n",
            "278/278 [==============================] - 4s 14ms/step - loss: 0.0902 - accuracy: 0.9747 - val_loss: 0.1266 - val_accuracy: 0.9666\n",
            "Epoch 43/200\n",
            "278/278 [==============================] - 4s 14ms/step - loss: 0.0826 - accuracy: 0.9757 - val_loss: 0.1211 - val_accuracy: 0.9685\n",
            "Epoch 44/200\n",
            "278/278 [==============================] - 4s 14ms/step - loss: 0.0841 - accuracy: 0.9751 - val_loss: 0.1225 - val_accuracy: 0.9680\n",
            "Epoch 45/200\n",
            "278/278 [==============================] - 4s 15ms/step - loss: 0.0814 - accuracy: 0.9753 - val_loss: 0.1277 - val_accuracy: 0.9673\n",
            "Epoch 46/200\n",
            "278/278 [==============================] - 4s 15ms/step - loss: 0.0784 - accuracy: 0.9780 - val_loss: 0.1280 - val_accuracy: 0.9662\n",
            "Epoch 47/200\n",
            "278/278 [==============================] - 4s 14ms/step - loss: 0.0756 - accuracy: 0.9780 - val_loss: 0.1224 - val_accuracy: 0.9677\n",
            "Epoch 48/200\n",
            "278/278 [==============================] - 4s 14ms/step - loss: 0.0760 - accuracy: 0.9779 - val_loss: 0.1277 - val_accuracy: 0.9672\n",
            "Epoch 49/200\n",
            "278/278 [==============================] - 4s 14ms/step - loss: 0.0750 - accuracy: 0.9775 - val_loss: 0.1263 - val_accuracy: 0.9675\n",
            "Epoch 50/200\n",
            "278/278 [==============================] - 4s 14ms/step - loss: 0.0725 - accuracy: 0.9786 - val_loss: 0.1302 - val_accuracy: 0.9668\n",
            "Epoch 51/200\n",
            "278/278 [==============================] - 4s 14ms/step - loss: 0.0724 - accuracy: 0.9783 - val_loss: 0.1363 - val_accuracy: 0.9652\n",
            "Epoch 52/200\n",
            "278/278 [==============================] - 4s 14ms/step - loss: 0.0696 - accuracy: 0.9791 - val_loss: 0.1206 - val_accuracy: 0.9684\n",
            "Epoch 53/200\n",
            "278/278 [==============================] - 4s 14ms/step - loss: 0.0672 - accuracy: 0.9796 - val_loss: 0.1247 - val_accuracy: 0.9679\n",
            "Epoch 54/200\n",
            "278/278 [==============================] - 4s 15ms/step - loss: 0.0670 - accuracy: 0.9806 - val_loss: 0.1238 - val_accuracy: 0.9675\n",
            "Epoch 55/200\n",
            "278/278 [==============================] - 4s 14ms/step - loss: 0.0690 - accuracy: 0.9797 - val_loss: 0.1212 - val_accuracy: 0.9696\n",
            "Epoch 56/200\n",
            "278/278 [==============================] - 4s 15ms/step - loss: 0.0624 - accuracy: 0.9815 - val_loss: 0.1261 - val_accuracy: 0.9685\n",
            "Epoch 57/200\n",
            "278/278 [==============================] - 4s 15ms/step - loss: 0.0653 - accuracy: 0.9803 - val_loss: 0.1215 - val_accuracy: 0.9703\n",
            "Epoch 58/200\n",
            "278/278 [==============================] - 4s 15ms/step - loss: 0.0612 - accuracy: 0.9813 - val_loss: 0.1274 - val_accuracy: 0.9687\n",
            "Epoch 59/200\n",
            "278/278 [==============================] - 4s 14ms/step - loss: 0.0601 - accuracy: 0.9819 - val_loss: 0.1242 - val_accuracy: 0.9696\n",
            "Epoch 60/200\n",
            "278/278 [==============================] - 4s 15ms/step - loss: 0.0600 - accuracy: 0.9816 - val_loss: 0.1222 - val_accuracy: 0.9693\n",
            "Epoch 61/200\n",
            "278/278 [==============================] - 4s 14ms/step - loss: 0.0610 - accuracy: 0.9814 - val_loss: 0.1222 - val_accuracy: 0.9693\n",
            "Epoch 62/200\n",
            "278/278 [==============================] - 4s 14ms/step - loss: 0.0566 - accuracy: 0.9829 - val_loss: 0.1247 - val_accuracy: 0.9675\n"
          ]
        }
      ]
    },
    {
      "cell_type": "code",
      "source": [
        "loss, accuracy = model.evaluate(x_validation, y_validation, verbose=False)\n",
        "print(\"Validation Accuracy:  {:.4f}\".format(accuracy))\n",
        "loss, accuracy = model.evaluate(x_test, y_test, verbose=False)\n",
        "print(\"Testing Accuracy: {:.4f}\".format(accuracy))"
      ],
      "metadata": {
        "colab": {
          "base_uri": "https://localhost:8080/"
        },
        "id": "NCFnbNpO6Woo",
        "outputId": "c427b151-84f6-4d71-f10e-88eab6d8e7e2"
      },
      "execution_count": 39,
      "outputs": [
        {
          "output_type": "stream",
          "name": "stdout",
          "text": [
            "Validation Accuracy:  0.9684\n",
            "Testing Accuracy: 0.9141\n"
          ]
        }
      ]
    }
  ]
}