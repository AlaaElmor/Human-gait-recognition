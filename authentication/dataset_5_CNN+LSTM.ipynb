{
 "cells": [
  {
   "cell_type": "code",
   "execution_count": 8,
   "id": "1ee3a3be",
   "metadata": {},
   "outputs": [],
   "source": [
    "from numpy import mean\n",
    "from numpy import std\n",
    "from numpy import dstack\n",
    "from numpy import save, load\n",
    "from pandas import read_csv\n",
    "from sklearn.preprocessing import StandardScaler\n",
    "from keras.models import Sequential\n",
    "from keras.layers import Dense\n",
    "from keras.layers import Flatten\n",
    "from keras.layers import Dropout\n",
    "from keras import Model\n",
    "from keras.layers import LSTM, Conv1D, concatenate,GlobalMaxPooling1D,TimeDistributed, MaxPooling1D\n",
    "from keras.utils import to_categorical\n",
    "from matplotlib import pyplot\n",
    "from tensorflow.keras import regularizers\n",
    "import tensorflow as tfs\n",
    " "
   ]
  },
  {
   "cell_type": "code",
   "execution_count": 9,
   "id": "3f497672",
   "metadata": {},
   "outputs": [
    {
     "name": "stdout",
     "output_type": "stream",
     "text": [
      "(66542, 256, 6) (66542, 2) (7600, 256, 6) (7600, 2)\n"
     ]
    }
   ],
   "source": [
    "X_train = load('trainX.npy')\n",
    "X_test = load('testX.npy')\n",
    "y_train = load('trainy.npy')\n",
    "y_test = load('testy.npy')\n",
    "print(X_train.shape, y_train.shape, X_test.shape, y_test.shape)"
   ]
  },
  {
   "cell_type": "code",
   "execution_count": 11,
   "id": "ce24bfbf",
   "metadata": {},
   "outputs": [],
   "source": [
    "# reshape data into time steps of sub-sequences\n",
    "n_timesteps, n_features, n_outputs = X_train.shape[1], X_train.shape[2], y_train.shape[1]\n",
    "n_steps, n_length = 4, 64\n",
    "X_train = X_train.reshape((X_train.shape[0], n_steps, n_length, n_features))\n",
    "X_test = X_test.reshape((X_test.shape[0], n_steps, n_length, n_features))"
   ]
  },
  {
   "cell_type": "code",
   "execution_count": 12,
   "id": "8d8797e9",
   "metadata": {},
   "outputs": [],
   "source": [
    "from sklearn.model_selection import train_test_split\n",
    "X_training, X_validation, y_training, y_validation = train_test_split(X_train, y_train, test_size=0.20, random_state=42)"
   ]
  },
  {
   "cell_type": "code",
   "execution_count": 13,
   "id": "1645df59",
   "metadata": {},
   "outputs": [
    {
     "name": "stdout",
     "output_type": "stream",
     "text": [
      "Model: \"sequential\"\n",
      "_________________________________________________________________\n",
      "Layer (type)                 Output Shape              Param #   \n",
      "=================================================================\n",
      "time_distributed (TimeDistri (None, None, 62, 64)      1216      \n",
      "_________________________________________________________________\n",
      "time_distributed_1 (TimeDist (None, None, 60, 64)      12352     \n",
      "_________________________________________________________________\n",
      "time_distributed_2 (TimeDist (None, None, 60, 64)      0         \n",
      "_________________________________________________________________\n",
      "time_distributed_3 (TimeDist (None, None, 30, 64)      0         \n",
      "_________________________________________________________________\n",
      "time_distributed_4 (TimeDist (None, None, 1920)        0         \n",
      "_________________________________________________________________\n",
      "lstm (LSTM)                  (None, 100)               808400    \n",
      "_________________________________________________________________\n",
      "dropout_1 (Dropout)          (None, 100)               0         \n",
      "_________________________________________________________________\n",
      "dense (Dense)                (None, 100)               10100     \n",
      "_________________________________________________________________\n",
      "dense_1 (Dense)              (None, 2)                 202       \n",
      "=================================================================\n",
      "Total params: 832,270\n",
      "Trainable params: 832,270\n",
      "Non-trainable params: 0\n",
      "_________________________________________________________________\n"
     ]
    }
   ],
   "source": [
    "model2 = Sequential()\n",
    "model2.add(TimeDistributed(Conv1D(filters=64, kernel_size=3, activation='relu'), input_shape=(None,n_length,n_features)))\n",
    "model2.add(TimeDistributed(Conv1D(filters=64, kernel_size=3, activation='relu')))\n",
    "model2.add(TimeDistributed(Dropout(0.5)))\n",
    "model2.add(TimeDistributed(MaxPooling1D(pool_size=2)))\n",
    "model2.add(TimeDistributed(Flatten()))\n",
    "model2.add(LSTM(100))\n",
    "model2.add(Dropout(0.5))\n",
    "model2.add(Dense(100, activation='relu'))\n",
    "model2.add(Dense(n_outputs, activation='softmax'))\n",
    "model2.compile(loss='categorical_crossentropy', optimizer='adam', metrics=['accuracy'])\n",
    "model2.summary()"
   ]
  },
  {
   "cell_type": "code",
   "execution_count": 14,
   "id": "5cf0e1a7",
   "metadata": {},
   "outputs": [],
   "source": [
    "# fit network\n",
    "history = model2.fit(X_training, y_training, epochs=10, verbose=False, validation_data=(X_validation, y_validation), batch_size=100)"
   ]
  },
  {
   "cell_type": "code",
   "execution_count": 15,
   "id": "ac4ea865",
   "metadata": {},
   "outputs": [
    {
     "name": "stdout",
     "output_type": "stream",
     "text": [
      "Validation Accuracy:  0.9644\n",
      "Testing Accuracy: 0.8703\n"
     ]
    }
   ],
   "source": [
    "# evaluate model\n",
    "loss, accuracy = model2.evaluate(X_validation, y_validation, verbose=False)\n",
    "print(\"Validation Accuracy:  {:.4f}\".format(accuracy))\n",
    "loss, accuracy = model2.evaluate(X_test, y_test, verbose=False)\n",
    "print(\"Testing Accuracy: {:.4f}\".format(accuracy))"
   ]
  },
  {
   "cell_type": "code",
   "execution_count": null,
   "id": "a6b7e37f",
   "metadata": {},
   "outputs": [],
   "source": []
  }
 ],
 "metadata": {
  "kernelspec": {
   "display_name": "Python 3",
   "language": "python",
   "name": "python3"
  },
  "language_info": {
   "codemirror_mode": {
    "name": "ipython",
    "version": 3
   },
   "file_extension": ".py",
   "mimetype": "text/x-python",
   "name": "python",
   "nbconvert_exporter": "python",
   "pygments_lexer": "ipython3",
   "version": "3.8.8"
  }
 },
 "nbformat": 4,
 "nbformat_minor": 5
}
